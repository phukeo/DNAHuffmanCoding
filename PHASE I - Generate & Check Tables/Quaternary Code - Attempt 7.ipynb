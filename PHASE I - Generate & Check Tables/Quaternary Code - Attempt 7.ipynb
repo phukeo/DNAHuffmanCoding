{
 "cells": [
  {
   "cell_type": "markdown",
   "metadata": {},
   "source": [
    "# Quaternary Coding"
   ]
  },
  {
   "cell_type": "code",
   "execution_count": 1,
   "metadata": {},
   "outputs": [],
   "source": [
    "# 7th Attempt - With Trips\n",
    "import numpy as np\n",
    "import pandas as pd"
   ]
  },
  {
   "cell_type": "code",
   "execution_count": 2,
   "metadata": {},
   "outputs": [],
   "source": [
    "# Vikram initial rule\n",
    "def lookRight(prevNuc,digit,cf):\n",
    "    \n",
    "#     print(prevNuc,digit,cf)\n",
    "    \n",
    "    nextLetter=cf.loc[prevNuc,digit]\n",
    "    \n",
    "#     print(nextLetter)\n",
    "    \n",
    "#     if digit==3 and index>0:\n",
    "#         prevNuc=compNuc(prevNuc)\n",
    "#         nextLetter=cf.loc[prevNuc,digit]\n",
    "\n",
    "    return nextLetter\n"
   ]
  },
  {
   "cell_type": "code",
   "execution_count": 3,
   "metadata": {},
   "outputs": [],
   "source": [
    "def noTripleRepeats(code):\n",
    "    x=len(code)\n",
    "    for i,j in enumerate(code):\n",
    "        if i==(x-2) or x<=3:\n",
    "            break\n",
    "        initialLetter=j\n",
    "        secondLetter=code[i+1]\n",
    "        thirdLetter=code[i+2]\n",
    "#         print(initialLetter,secondLetter,thirdLetter)\n",
    "        if (initialLetter == secondLetter) and (secondLetter == thirdLetter):\n",
    "            return 1\n",
    "    return 0"
   ]
  },
  {
   "cell_type": "markdown",
   "metadata": {},
   "source": [
    "# Select appropriate table"
   ]
  },
  {
   "cell_type": "code",
   "execution_count": 4,
   "metadata": {},
   "outputs": [],
   "source": [
    "# insides={\"Previous Nucleotide\": [\"A\",\"C\",\"G\",\"T\"], 0:[\"C\",\"G\",\"T\",\"A\"], 1:[\"T\",\"A\",\"C\",\"G\"], 2:[\"G\",\"T\",\"A\",\"C\"], 3:[\"TGC\",\"GCT\",\"CAT\",\"ACG\"]}\n",
    "# Table1\n",
    "# insides={\"Previous Nucleotide\": [\"A\",\"C\",\"G\",\"T\"], 0:[\"C\",\"G\",\"T\",\"A\"], 1:[\"T\",\"A\",\"C\",\"G\"], 2:[\"G\",\"T\",\"A\",\"C\"], 3:[\"TG\",\"GC\",\"CA\",\"AT\"]}\n",
    "\n",
    "# # Table2\n",
    "# insides={\"Previous Nucleotide\": [\"A\",\"C\",\"G\",\"T\"], 0:[\"C\",\"G\",\"T\",\"A\"], 1:[\"T\",\"A\",\"C\",\"G\"], 2:[\"G\",\"T\",\"A\",\"C\"], 3:[\"GT\",\"TG\",\"AC\",\"CG\"]}\n",
    "\n",
    "# Table3\n",
    "insides={\"Previous Nucleotide\": [\"A\",\"C\",\"G\",\"T\"], 0:[\"C\",\"G\",\"T\",\"A\"], 1:[\"G\",\"T\",\"A\",\"C\"], 2:[\"T\",\"A\",\"C\",\"G\"], 3:[\"TGC\",\"GCT\",\"CAT\",\"ATG\"]}\n",
    "\n",
    "\n",
    "cf=pd.DataFrame(insides)\n",
    "cf.index=cf[\"Previous Nucleotide\"]\n",
    "del cf[\"Previous Nucleotide\"]"
   ]
  },
  {
   "cell_type": "code",
   "execution_count": 5,
   "metadata": {},
   "outputs": [
    {
     "data": {
      "text/html": [
       "<div>\n",
       "<style scoped>\n",
       "    .dataframe tbody tr th:only-of-type {\n",
       "        vertical-align: middle;\n",
       "    }\n",
       "\n",
       "    .dataframe tbody tr th {\n",
       "        vertical-align: top;\n",
       "    }\n",
       "\n",
       "    .dataframe thead th {\n",
       "        text-align: right;\n",
       "    }\n",
       "</style>\n",
       "<table border=\"1\" class=\"dataframe\">\n",
       "  <thead>\n",
       "    <tr style=\"text-align: right;\">\n",
       "      <th></th>\n",
       "      <th>0</th>\n",
       "      <th>1</th>\n",
       "      <th>2</th>\n",
       "      <th>3</th>\n",
       "    </tr>\n",
       "    <tr>\n",
       "      <th>Previous Nucleotide</th>\n",
       "      <th></th>\n",
       "      <th></th>\n",
       "      <th></th>\n",
       "      <th></th>\n",
       "    </tr>\n",
       "  </thead>\n",
       "  <tbody>\n",
       "    <tr>\n",
       "      <th>A</th>\n",
       "      <td>C</td>\n",
       "      <td>G</td>\n",
       "      <td>T</td>\n",
       "      <td>TGC</td>\n",
       "    </tr>\n",
       "    <tr>\n",
       "      <th>C</th>\n",
       "      <td>G</td>\n",
       "      <td>T</td>\n",
       "      <td>A</td>\n",
       "      <td>GCT</td>\n",
       "    </tr>\n",
       "    <tr>\n",
       "      <th>G</th>\n",
       "      <td>T</td>\n",
       "      <td>A</td>\n",
       "      <td>C</td>\n",
       "      <td>CAT</td>\n",
       "    </tr>\n",
       "    <tr>\n",
       "      <th>T</th>\n",
       "      <td>A</td>\n",
       "      <td>C</td>\n",
       "      <td>G</td>\n",
       "      <td>ATG</td>\n",
       "    </tr>\n",
       "  </tbody>\n",
       "</table>\n",
       "</div>"
      ],
      "text/plain": [
       "                     0  1  2    3\n",
       "Previous Nucleotide              \n",
       "A                    C  G  T  TGC\n",
       "C                    G  T  A  GCT\n",
       "G                    T  A  C  CAT\n",
       "T                    A  C  G  ATG"
      ]
     },
     "metadata": {},
     "output_type": "display_data"
    }
   ],
   "source": [
    "display(cf)"
   ]
  },
  {
   "cell_type": "markdown",
   "metadata": {},
   "source": [
    "# Individual Code Check"
   ]
  },
  {
   "cell_type": "code",
   "execution_count": 6,
   "metadata": {},
   "outputs": [
    {
     "name": "stdout",
     "output_type": "stream",
     "text": [
      "GCAC\n"
     ]
    }
   ],
   "source": [
    "code=[2,3,0]\n",
    "phrase=\"\"\n",
    "\n",
    "# Make up Insides\n",
    "insides={\"Previous Nucleotide\": [\"A\",\"C\",\"G\",\"T\"], 0:[\"C\",\"G\",\"T\",\"A\"], 1:[\"T\",\"A\",\"C\",\"G\"], 2:[\"G\",\"T\",\"A\",\"C\"], 3:[\"TG\",\"GC\",\"CA\",\"AT\"]}\n",
    "\n",
    "cf=pd.DataFrame(insides)\n",
    "cf.index=cf[\"Previous Nucleotide\"]\n",
    "del cf[\"Previous Nucleotide\"]\n",
    "\n",
    "for index, digit in enumerate(code): \n",
    "    \n",
    "    if index==0:\n",
    "        prevNuc=\"A\"\n",
    "    \n",
    "    letter=lookRight(prevNuc,digit,cf)\n",
    "#     print(letter)\n",
    "    phrase=phrase+letter\n",
    "    prevNuc=letter[-1]       \n",
    "    \n",
    "#     print(prevNuc)\n",
    "    \n",
    "print(phrase)"
   ]
  },
  {
   "cell_type": "code",
   "execution_count": null,
   "metadata": {},
   "outputs": [],
   "source": []
  },
  {
   "cell_type": "markdown",
   "metadata": {},
   "source": [
    "# Read in 256 ASSCI Symbols"
   ]
  },
  {
   "cell_type": "code",
   "execution_count": 7,
   "metadata": {},
   "outputs": [
    {
     "name": "stdout",
     "output_type": "stream",
     "text": [
      "    Tern Code\n",
      "0        0000\n",
      "1        0001\n",
      "2        0002\n",
      "3        0003\n",
      "4        0010\n",
      "..        ...\n",
      "251      3323\n",
      "252      3330\n",
      "253      3331\n",
      "254      3332\n",
      "255      3333\n",
      "\n",
      "[256 rows x 1 columns]\n"
     ]
    }
   ],
   "source": [
    "codeList=pd.read_csv(\"Quart_CODE_BOD.csv\", dtype=object,usecols=[0],skiprows=3)\n",
    "cL=codeList.dropna()\n",
    "cL.columns=[\"Tern Code\"]\n",
    "print(cL)"
   ]
  },
  {
   "cell_type": "code",
   "execution_count": 19,
   "metadata": {},
   "outputs": [],
   "source": [
    "# for codes in cL.iloc[:,0]:\n",
    "#     print (list(codes))\n",
    "# print(len(cL.iloc[:,0]))"
   ]
  },
  {
   "cell_type": "markdown",
   "metadata": {},
   "source": [
    "# LOOP OVER THE TERN CODES FROM CSV"
   ]
  },
  {
   "cell_type": "code",
   "execution_count": 8,
   "metadata": {
    "scrolled": false
   },
   "outputs": [
    {
     "name": "stdout",
     "output_type": "stream",
     "text": [
      "['CGTA', 'CGTC', 'CGTG', 'CGTCG', 'CGAC', 'CGAG', 'CGAT', 'CGAGG', 'CGCG', 'CGCT', 'CGCA', 'CGCTT', 'CGCCG', 'CGCCT', 'CGCCA', 'CGCCTT', 'CTAC', 'CTAG', 'CTAT', 'CTAGG', 'CTCG', 'CTCT', 'CTCA', 'CTCTT', 'CTGT', 'CTGA', 'CTGC', 'CTGCC', 'CTCGT', 'CTCGA', 'CTCGC', 'CTCGCC', 'CACG', 'CACT', 'CACA', 'CACTT', 'CAGT', 'CAGA', 'CAGC', 'CAGCC', 'CATA', 'CATC', 'CATG', 'CATCG', 'CAGGT', 'CAGGA', 'CAGGC', 'CAGGCC', 'CTTAC', 'CTTAG', 'CTTAT', 'CTTAGG', 'CTTCG', 'CTTCT', 'CTTCA', 'CTTCTT', 'CTTGT', 'CTTGA', 'CTTGC', 'CTTGCC', 'CTTCGT', 'CTTCGA', 'CTTCGC', 'CTTCGCC', 'GTAC', 'GTAG', 'GTAT', 'GTAGG', 'GTCG', 'GTCT', 'GTCA', 'GTCTT', 'GTGT', 'GTGA', 'GTGC', 'GTGCC', 'GTCGT', 'GTCGA', 'GTCGC', 'GTCGCC', 'GACG', 'GACT', 'GACA', 'GACTT', 'GAGT', 'GAGA', 'GAGC', 'GAGCC', 'GATA', 'GATC', 'GATG', 'GATCG', 'GAGGT', 'GAGGA', 'GAGGC', 'GAGGCC', 'GCGT', 'GCGA', 'GCGC', 'GCGCC', 'GCTA', 'GCTC', 'GCTG', 'GCTCG', 'GCAC', 'GCAG', 'GCAT', 'GCAGG', 'GCTTA', 'GCTTC', 'GCTTG', 'GCTTCG', 'GCCGT', 'GCCGA', 'GCCGC', 'GCCGCC', 'GCCTA', 'GCCTC', 'GCCTG', 'GCCTCG', 'GCCAC', 'GCCAG', 'GCCAT', 'GCCAGG', 'GCCTTA', 'GCCTTC', 'GCCTTG', 'GCCTTCG', 'TACG', 'TACT', 'TACA', 'TACTT', 'TAGT', 'TAGA', 'TAGC', 'TAGCC', 'TATA', 'TATC', 'TATG', 'TATCG', 'TAGGT', 'TAGGA', 'TAGGC', 'TAGGCC', 'TCGT', 'TCGA', 'TCGC', 'TCGCC', 'TCTA', 'TCTC', 'TCTG', 'TCTCG', 'TCAC', 'TCAG', 'TCAT', 'TCAGG', 'TCTTA', 'TCTTC', 'TCTTG', 'TCTTCG', 'TGTA', 'TGTC', 'TGTG', 'TGTCG', 'TGAC', 'TGAG', 'TGAT', 'TGAGG', 'TGCG', 'TGCT', 'TGCA', 'TGCTT', 'TGCCG', 'TGCCT', 'TGCCA', 'TGCCTT', 'TCGTA', 'TCGTC', 'TCGTG', 'TCGTCG', 'TCGAC', 'TCGAG', 'TCGAT', 'TCGAGG', 'TCGCG', 'TCGCT', 'TCGCA', 'TCGCTT', 'TCGCCG', 'TCGCCT', 'TCGCCA', 'TCGCCTT', 'GGTAC', 'GGTAG', 'GGTAT', 'GGTAGG', 'GGTCG', 'GGTCT', 'GGTCA', 'GGTCTT', 'GGTGT', 'GGTGA', 'GGTGC', 'GGTGCC', 'GGTCGT', 'GGTCGA', 'GGTCGC', 'GGTCGCC', 'GGACG', 'GGACT', 'GGACA', 'GGACTT', 'GGAGT', 'GGAGA', 'GGAGC', 'GGAGCC', 'GGATA', 'GGATC', 'GGATG', 'GGATCG', 'GGAGGT', 'GGAGGA', 'GGAGGC', 'GGAGGCC', 'GGCGT', 'GGCGA', 'GGCGC', 'GGCGCC', 'GGCTA', 'GGCTC', 'GGCTG', 'GGCTCG', 'GGCAC', 'GGCAG', 'GGCAT', 'GGCAGG', 'GGCTTA', 'GGCTTC', 'GGCTTG', 'GGCTTCG', 'GGCCGT', 'GGCCGA', 'GGCCGC', 'GGCCGCC', 'GGCCTA', 'GGCCTC', 'GGCCTG', 'GGCCTCG', 'GGCCAC', 'GGCCAG', 'GGCCAT', 'GGCCAGG', 'GGCCTTA', 'GGCCTTC', 'GGCCTTG', 'GGCCTTCG']\n",
      "256\n",
      "256\n",
      "set()\n",
      "[0, 0, 0, 0, 0, 0, 0, 0, 0, 0, 0, 0, 0, 0, 0, 0, 0, 0, 0, 0, 0, 0, 0, 0, 0, 0, 0, 0, 0, 0, 0, 0, 0, 0, 0, 0, 0, 0, 0, 0, 0, 0, 0, 0, 0, 0, 0, 0, 0, 0, 0, 0, 0, 0, 0, 0, 0, 0, 0, 0, 0, 0, 0, 0, 0, 0, 0, 0, 0, 0, 0, 0, 0, 0, 0, 0, 0, 0, 0, 0, 0, 0, 0, 0, 0, 0, 0, 0, 0, 0, 0, 0, 0, 0, 0, 0, 0, 0, 0, 0, 0, 0, 0, 0, 0, 0, 0, 0, 0, 0, 0, 0, 0, 0, 0, 0, 0, 0, 0, 0, 0, 0, 0, 0, 0, 0, 0, 0, 0, 0, 0, 0, 0, 0, 0, 0, 0, 0, 0, 0, 0, 0, 0, 0, 0, 0, 0, 0, 0, 0, 0, 0, 0, 0, 0, 0, 0, 0, 0, 0, 0, 0, 0, 0, 0, 0, 0, 0, 0, 0, 0, 0, 0, 0, 0, 0, 0, 0, 0, 0, 0, 0, 0, 0, 0, 0, 0, 0, 0, 0, 0, 0, 0, 0, 0, 0, 0, 0, 0, 0, 0, 0, 0, 0, 0, 0, 0, 0, 0, 0, 0, 0, 0, 0, 0, 0, 0, 0, 0, 0, 0, 0, 0, 0, 0, 0, 0, 0, 0, 0, 0, 0, 0, 0, 0, 0, 0, 0, 0, 0, 0, 0, 0, 0, 0, 0, 0, 0, 0, 0, 0, 0, 0, 0, 0, 0]\n",
      "0\n"
     ]
    }
   ],
   "source": [
    "decodedList=[]\n",
    "stringCodes=[]\n",
    "noTripRepeatsList=[]\n",
    "\n",
    "# Table1\n",
    "# insides={\"Previous Nucleotide\": [\"A\",\"C\",\"G\",\"T\"], 0:[\"C\",\"G\",\"T\",\"A\"], 1:[\"T\",\"A\",\"C\",\"G\"], 2:[\"G\",\"T\",\"A\",\"C\"], 3:[\"TG\",\"GC\",\"CA\",\"AT\"]}\n",
    "\n",
    "# # # Table2\n",
    "# insides={\"Previous Nucleotide\": [\"A\",\"C\",\"G\",\"T\"], 0:[\"C\",\"G\",\"T\",\"A\"], 1:[\"T\",\"A\",\"C\",\"G\"], 2:[\"G\",\"T\",\"A\",\"C\"], 3:[\"GT\",\"TG\",\"AC\",\"CG\"]}\n",
    "\n",
    "# Table3\n",
    "# insides={\"Previous Nucleotide\": [\"A\",\"C\",\"G\",\"T\"], 0:[\"C\",\"G\",\"T\",\"A\"], 1:[\"G\",\"T\",\"A\",\"C\"], 2:[\"T\",\"A\",\"C\",\"G\"], 3:[\"TGC\",\"GCT\",\"CAT\",\"ATG\"]}\n",
    "\n",
    "# Table4\n",
    "# insides={\"Previous Nucleotide\": [\"A\",\"C\",\"G\",\"T\"], 0:[\"C\",\"G\",\"T\",\"A\"], 1:[\"G\",\"T\",\"A\",\"C\"], 2:[\"T\",\"A\",\"C\",\"G\"], 3:[\"TGC\",\"GAT\",\"CAT\",\"ACG\"]}\n",
    "\n",
    "# Table6\n",
    "# insides={\"Previous Nucleotide\": [\"A\",\"C\",\"G\",\"T\"], 0:[\"C\",\"G\",\"T\",\"A\"], 1:[\"G\",\"T\",\"A\",\"C\"], 2:[\"T\",\"A\",\"C\",\"G\"], 3:[\"CGT\",\"GAT\",\"ACT\",\"GCA\"]}\n",
    "\n",
    "\n",
    "\n",
    "# Table7\n",
    "# insides={\"Previous Nucleotide\": [\"A\",\"C\",\"G\",\"T\"], 0:[\"C\",\"G\",\"T\",\"A\"], 1:[\"G\",\"T\",\"A\",\"C\"], 2:[\"T\",\"A\",\"C\",\"G\"], 3:[\"CGC\",\"AAT\",\"ACT\",\"CCA\"]}\n",
    "\n",
    "# Table8\n",
    "# insides={\"Previous Nucleotide\": [\"A\",\"C\",\"G\",\"T\"], 0:[\"C\",\"G\",\"T\",\"A\"], 1:[\"G\",\"T\",\"A\",\"C\"], 2:[\"T\",\"A\",\"C\",\"G\"], 3:[\"CGT\",\"GAT\",\"ACT\",\"CCA\"]}\n",
    "\n",
    "# # Table 9\n",
    "# insides={\"Previous Nucleotide\": [\"A\",\"C\",\"G\",\"T\"], 0:[\"C\",\"G\",\"T\",\"A\"], 1:[\"G\",\"T\",\"A\",\"C\"], 2:[\"T\",\"A\",\"C\",\"G\"], 3:[\"GG\",\"TT\",\"CC\",\"CG\"]}\n",
    "\n",
    "# Table 10\n",
    "# insides={\"Previous Nucleotide\": [\"A\",\"C\",\"G\",\"T\"], 0:[\"C\",\"G\",\"T\",\"A\"], 1:[\"G\",\"T\",\"A\",\"C\"], 2:[\"T\",\"A\",\"C\",\"G\"], 3:[\"C\",\"G\",\"T\",\"A\"]}\n",
    "\n",
    "# Table 10\n",
    "insides={\"Previous Nucleotide\": [\"A\",\"C\",\"G\",\"T\"], 0:[\"C\",\"G\",\"T\",\"A\"], 1:[\"G\",\"T\",\"A\",\"C\"], 2:[\"T\",\"A\",\"C\",\"G\"], 3:[\"GG\",\"TT\",\"CC\",\"CG\"]}\n",
    "\n",
    "\n",
    "\n",
    "\n",
    "cf=pd.DataFrame(insides)\n",
    "cf.index=cf[\"Previous Nucleotide\"]\n",
    "del cf[\"Previous Nucleotide\"]\n",
    "\n",
    "for codes in cL.iloc[:,0]:\n",
    "    phrase=\"\"\n",
    "    stringCodes.append(codes)\n",
    "    lc=[int(i) for i in list(codes)]\n",
    "#     print(lc)\n",
    "    for index, digit in enumerate(lc): \n",
    "#         print(index)\n",
    "        if index==0:\n",
    "            prevNuc=\"A\"\n",
    "\n",
    "        letter=lookRight(prevNuc,digit,cf)\n",
    "        phrase=phrase+letter\n",
    "        prevNuc=letter[-1]  \n",
    "\n",
    "    decodedList.append(phrase)\n",
    "    noTripRepeatsList.append(noTripleRepeats(phrase))\n",
    "\n",
    "print(decodedList)\n",
    "print(len(decodedList))\n",
    "print(len(set(decodedList)))\n",
    "print(set([x for x in decodedList if decodedList.count(x) > 1]))\n",
    "print(noTripRepeatsList)\n",
    "print(sum(noTripRepeatsList))\n",
    "\n",
    "# print(stringCodes)"
   ]
  },
  {
   "cell_type": "code",
   "execution_count": 10,
   "metadata": {},
   "outputs": [
    {
     "data": {
      "text/html": [
       "<div>\n",
       "<style scoped>\n",
       "    .dataframe tbody tr th:only-of-type {\n",
       "        vertical-align: middle;\n",
       "    }\n",
       "\n",
       "    .dataframe tbody tr th {\n",
       "        vertical-align: top;\n",
       "    }\n",
       "\n",
       "    .dataframe thead th {\n",
       "        text-align: right;\n",
       "    }\n",
       "</style>\n",
       "<table border=\"1\" class=\"dataframe\">\n",
       "  <thead>\n",
       "    <tr style=\"text-align: right;\">\n",
       "      <th></th>\n",
       "      <th>Tern Code</th>\n",
       "      <th>Python from Table7:</th>\n",
       "      <th>Python from Table8:</th>\n",
       "      <th>Python from Table9:</th>\n",
       "    </tr>\n",
       "  </thead>\n",
       "  <tbody>\n",
       "    <tr>\n",
       "      <th>0</th>\n",
       "      <td>0000</td>\n",
       "      <td>CGTA</td>\n",
       "      <td>CGTA</td>\n",
       "      <td>CGTA</td>\n",
       "    </tr>\n",
       "    <tr>\n",
       "      <th>1</th>\n",
       "      <td>0001</td>\n",
       "      <td>CGTC</td>\n",
       "      <td>CGTC</td>\n",
       "      <td>CGTC</td>\n",
       "    </tr>\n",
       "    <tr>\n",
       "      <th>2</th>\n",
       "      <td>0002</td>\n",
       "      <td>CGTG</td>\n",
       "      <td>CGTG</td>\n",
       "      <td>CGTG</td>\n",
       "    </tr>\n",
       "    <tr>\n",
       "      <th>3</th>\n",
       "      <td>0003</td>\n",
       "      <td>CGTCCA</td>\n",
       "      <td>CGTCCA</td>\n",
       "      <td>CGTCG</td>\n",
       "    </tr>\n",
       "    <tr>\n",
       "      <th>4</th>\n",
       "      <td>0010</td>\n",
       "      <td>CGAC</td>\n",
       "      <td>CGAC</td>\n",
       "      <td>CGAC</td>\n",
       "    </tr>\n",
       "  </tbody>\n",
       "</table>\n",
       "</div>"
      ],
      "text/plain": [
       "  Tern Code Python from Table7: Python from Table8: Python from Table9:\n",
       "0      0000                CGTA                CGTA                CGTA\n",
       "1      0001                CGTC                CGTC                CGTC\n",
       "2      0002                CGTG                CGTG                CGTG\n",
       "3      0003              CGTCCA              CGTCCA               CGTCG\n",
       "4      0010                CGAC                CGAC                CGAC"
      ]
     },
     "metadata": {},
     "output_type": "display_data"
    },
    {
     "data": {
      "text/html": [
       "<div>\n",
       "<style scoped>\n",
       "    .dataframe tbody tr th:only-of-type {\n",
       "        vertical-align: middle;\n",
       "    }\n",
       "\n",
       "    .dataframe tbody tr th {\n",
       "        vertical-align: top;\n",
       "    }\n",
       "\n",
       "    .dataframe thead th {\n",
       "        text-align: right;\n",
       "    }\n",
       "</style>\n",
       "<table border=\"1\" class=\"dataframe\">\n",
       "  <thead>\n",
       "    <tr style=\"text-align: right;\">\n",
       "      <th></th>\n",
       "      <th>Tern Code</th>\n",
       "      <th>Python from Table7:</th>\n",
       "      <th>Python from Table8:</th>\n",
       "      <th>Python from Table9:</th>\n",
       "    </tr>\n",
       "  </thead>\n",
       "  <tbody>\n",
       "    <tr>\n",
       "      <th>251</th>\n",
       "      <td>3323</td>\n",
       "      <td>CGCAATGACT</td>\n",
       "      <td>CGTCCATCCA</td>\n",
       "      <td>GGCCAGG</td>\n",
       "    </tr>\n",
       "    <tr>\n",
       "      <th>252</th>\n",
       "      <td>3330</td>\n",
       "      <td>CGCAATCCAC</td>\n",
       "      <td>CGTCCACGTA</td>\n",
       "      <td>GGCCTTA</td>\n",
       "    </tr>\n",
       "    <tr>\n",
       "      <th>253</th>\n",
       "      <td>3331</td>\n",
       "      <td>CGCAATCCAG</td>\n",
       "      <td>CGTCCACGTC</td>\n",
       "      <td>GGCCTTC</td>\n",
       "    </tr>\n",
       "    <tr>\n",
       "      <th>254</th>\n",
       "      <td>3332</td>\n",
       "      <td>CGCAATCCAT</td>\n",
       "      <td>CGTCCACGTG</td>\n",
       "      <td>GGCCTTG</td>\n",
       "    </tr>\n",
       "    <tr>\n",
       "      <th>255</th>\n",
       "      <td>3333</td>\n",
       "      <td>CGCAATCCACGC</td>\n",
       "      <td>CGTCCACGTCCA</td>\n",
       "      <td>GGCCTTCG</td>\n",
       "    </tr>\n",
       "  </tbody>\n",
       "</table>\n",
       "</div>"
      ],
      "text/plain": [
       "    Tern Code Python from Table7: Python from Table8: Python from Table9:\n",
       "251      3323          CGCAATGACT          CGTCCATCCA             GGCCAGG\n",
       "252      3330          CGCAATCCAC          CGTCCACGTA             GGCCTTA\n",
       "253      3331          CGCAATCCAG          CGTCCACGTC             GGCCTTC\n",
       "254      3332          CGCAATCCAT          CGTCCACGTG             GGCCTTG\n",
       "255      3333        CGCAATCCACGC        CGTCCACGTCCA            GGCCTTCG"
      ]
     },
     "metadata": {},
     "output_type": "display_data"
    }
   ],
   "source": [
    "# cL.insert(1,\"String Code\",stringCodes)\n",
    "cL.insert(3,\"Python from Table9:\",decodedList)\n",
    "# cL.insert(3,\"Decoded: ATCG:0123\",decodedList)\n",
    "display(cL.head())\n",
    "display(cL.tail())"
   ]
  },
  {
   "cell_type": "code",
   "execution_count": null,
   "metadata": {},
   "outputs": [],
   "source": []
  },
  {
   "cell_type": "markdown",
   "metadata": {},
   "source": [
    "# Output"
   ]
  },
  {
   "cell_type": "code",
   "execution_count": 11,
   "metadata": {},
   "outputs": [],
   "source": [
    "cLString=cL.astype(str)\n",
    "# display(cLString)\n",
    "cLString.to_csv(\"DecodedATTEMPT7Check.bod\",encoding=\"utf-8\",index = True)"
   ]
  },
  {
   "cell_type": "code",
   "execution_count": null,
   "metadata": {},
   "outputs": [],
   "source": []
  },
  {
   "cell_type": "code",
   "execution_count": null,
   "metadata": {},
   "outputs": [],
   "source": []
  },
  {
   "cell_type": "code",
   "execution_count": null,
   "metadata": {},
   "outputs": [],
   "source": []
  },
  {
   "cell_type": "code",
   "execution_count": null,
   "metadata": {},
   "outputs": [],
   "source": []
  },
  {
   "cell_type": "markdown",
   "metadata": {},
   "source": [
    "# Table Optimisation II"
   ]
  },
  {
   "cell_type": "code",
   "execution_count": null,
   "metadata": {},
   "outputs": [],
   "source": [
    "def correspondString(input):\n",
    "# Email 03/06/2020\n",
    "    if input==\"A\":\n",
    "        output=[\"C\",\"G\",\"T\",\"A\"]\n",
    "    elif input==\"B\":\n",
    "        output=[\"T\",\"A\",\"C\",\"G\"]\n",
    "    elif input==\"C\":\n",
    "        output=[\"G\",\"T\",\"A\",\"C\"]\n",
    "    elif input ==\"D\":\n",
    "        output=[\"CTG\",\"TAG\",\"CTA\",\"GCA\"]\n",
    "        \n",
    "    return output"
   ]
  },
  {
   "cell_type": "code",
   "execution_count": null,
   "metadata": {},
   "outputs": [],
   "source": [
    "def tableMaker(PN,A,B,C,D):\n",
    "    \n",
    "    A=correspondString(str(A))\n",
    "    B=correspondString(str(B))\n",
    "    C=correspondString(str(C))\n",
    "    D=correspondString(str(D))\n",
    "    \n",
    "    insides1={\"Previous Nucleotide\": PN, 0:A, 1:B, 2:C, 3:D}\n",
    "    cf=pd.DataFrame(insides1)\n",
    "    cf.index=cf[\"Previous Nucleotide\"]\n",
    "    del cf[\"Previous Nucleotide\"]\n",
    "    return cf"
   ]
  },
  {
   "cell_type": "code",
   "execution_count": null,
   "metadata": {},
   "outputs": [],
   "source": [
    "def mainBrain(code,cf):\n",
    "    phrase=\"\"\n",
    "    for index, digit in enumerate(code):  \n",
    "\n",
    "        if index==0:\n",
    "            prevNuc=\"A\"\n",
    "\n",
    "        letter=lookRight(prevNuc,digit,cf)\n",
    "        phrase=phrase+letter\n",
    "        prevNuc=letter[-1]\n",
    "\n",
    "\n",
    "    return(phrase)"
   ]
  },
  {
   "cell_type": "code",
   "execution_count": null,
   "metadata": {},
   "outputs": [],
   "source": []
  },
  {
   "cell_type": "code",
   "execution_count": null,
   "metadata": {},
   "outputs": [],
   "source": []
  },
  {
   "cell_type": "markdown",
   "metadata": {},
   "source": [
    "# Optimisation Function II"
   ]
  },
  {
   "cell_type": "code",
   "execution_count": null,
   "metadata": {},
   "outputs": [],
   "source": [
    "%%time\n",
    "\n",
    "import itertools\n",
    "d={}\n",
    "u={}\n",
    "PN=['A', 'C', 'G', 'T']\n",
    "\n",
    "for valuesY in list(itertools.permutations(PN)):\n",
    "\n",
    "#     for valuesX in list(itertools.permutations([\"A\",\"B\",\"C\",\"D\"])):\n",
    "    for valuesX in list(itertools.permutations([\"A\",\"B\",\"C\",\"D\"])):\n",
    "        cf=tableMaker(valuesY,valuesX[0],valuesX[1],valuesX[2],valuesX[3])\n",
    "\n",
    "        decodedList=[]\n",
    "        uniqueList=[]\n",
    "        stringCodes=[]\n",
    "        for codes in cL.iloc[:,0]:\n",
    "            stringCodes.append(codes)\n",
    "            lc=[int(i) for i in list(codes)]\n",
    "            decodedList.append(mainBrain(lc,cf))\n",
    "            d[str(valuesY)+\"___\"+str(valuesX)]=len(set(decodedList))\n",
    "            uniqueList.append(noTripleRepeats(mainBrain(lc,cf)))\n",
    "            u[str(valuesY)+\"___\"+str(valuesX)]=sum(uniqueList)\n",
    "\n",
    "for i in d:\n",
    "    if d[i]==256:\n",
    "    \n",
    "        print (str(i)+\": \"+str(d[i])+\": \"+str(u[i]))\n",
    "#     print (str(i)+\": \"+str(d[i])+\": \")"
   ]
  },
  {
   "cell_type": "code",
   "execution_count": null,
   "metadata": {},
   "outputs": [],
   "source": []
  },
  {
   "cell_type": "code",
   "execution_count": null,
   "metadata": {},
   "outputs": [],
   "source": []
  },
  {
   "cell_type": "code",
   "execution_count": 128,
   "metadata": {},
   "outputs": [
    {
     "name": "stdout",
     "output_type": "stream",
     "text": [
      "Next Value\n",
      "0\n",
      "('C', 'T', 'G')\n",
      "('C', 'G', 'T')\n",
      "('T', 'C', 'G')\n",
      "('T', 'G', 'C')\n",
      "('G', 'C', 'T')\n",
      "('G', 'T', 'C')\n",
      "Next Value\n",
      "1\n",
      "('T', 'A', 'G')\n",
      "('T', 'G', 'A')\n",
      "('A', 'T', 'G')\n",
      "('A', 'G', 'T')\n",
      "('G', 'T', 'A')\n",
      "('G', 'A', 'T')\n",
      "Next Value\n",
      "2\n",
      "('C', 'T', 'A')\n",
      "('C', 'A', 'T')\n",
      "('T', 'C', 'A')\n",
      "('T', 'A', 'C')\n",
      "('A', 'C', 'T')\n",
      "('A', 'T', 'C')\n",
      "Next Value\n",
      "3\n",
      "('G', 'C', 'A')\n",
      "('G', 'A', 'C')\n",
      "('C', 'G', 'A')\n",
      "('C', 'A', 'G')\n",
      "('A', 'G', 'C')\n",
      "('A', 'C', 'G')\n"
     ]
    }
   ],
   "source": [
    "y=[\"CTG\",\"TAG\",\"CTA\",\"GCA\"]\n",
    "\n",
    "for number,valueIn in enumerate(y):\n",
    "#     k = [x for y in valueIn]\n",
    "    print(\"Next Value\")\n",
    "    print(number)\n",
    "    for valueInside in list (itertools.permutations(valueIn)):\n",
    "        print(valueInside)\n",
    "        "
   ]
  },
  {
   "cell_type": "code",
   "execution_count": null,
   "metadata": {},
   "outputs": [],
   "source": []
  },
  {
   "cell_type": "code",
   "execution_count": null,
   "metadata": {},
   "outputs": [],
   "source": []
  },
  {
   "cell_type": "code",
   "execution_count": null,
   "metadata": {},
   "outputs": [],
   "source": []
  },
  {
   "cell_type": "code",
   "execution_count": null,
   "metadata": {},
   "outputs": [],
   "source": []
  },
  {
   "cell_type": "code",
   "execution_count": null,
   "metadata": {},
   "outputs": [],
   "source": []
  },
  {
   "cell_type": "markdown",
   "metadata": {},
   "source": [
    "# Table Optimisation"
   ]
  },
  {
   "cell_type": "code",
   "execution_count": 129,
   "metadata": {},
   "outputs": [],
   "source": [
    "\n",
    "A=[\"C\",\"G\",\"T\",\"A\"]\n",
    "B=[\"T\",\"A\",\"C\",\"G\"]\n",
    "C=[\"G\",\"T\",\"A\",\"C\"]\n",
    "D=[\"TG\",\"GC\",\"CA\",\"AT\"]\n",
    "PN=['A', 'C', 'G', 'T']\n",
    "\n",
    "# [\"TGC\",\"GCA\",\"CAT\",\"ATG\"]\n"
   ]
  },
  {
   "cell_type": "code",
   "execution_count": 81,
   "metadata": {},
   "outputs": [],
   "source": [
    "def tableMaker(PN,A,B,C,D):\n",
    "    \n",
    "    A=correspondString(str(A))\n",
    "    B=correspondString(str(B))\n",
    "    C=correspondString(str(C))\n",
    "    D=correspondString(str(D))\n",
    "    \n",
    "    insides1={\"Previous Nucleotide\": PN, 0:A, 1:B, 2:C, 3:D}\n",
    "    cf=pd.DataFrame(insides1)\n",
    "    cf.index=cf[\"Previous Nucleotide\"]\n",
    "    del cf[\"Previous Nucleotide\"]\n",
    "    return cf"
   ]
  },
  {
   "cell_type": "markdown",
   "metadata": {},
   "source": [
    "# Process Brains Function"
   ]
  },
  {
   "cell_type": "code",
   "execution_count": 82,
   "metadata": {},
   "outputs": [],
   "source": [
    "def mainBrain(code,cf):\n",
    "    phrase=\"\"\n",
    "    for index, digit in enumerate(code):  \n",
    "\n",
    "        if index==0:\n",
    "            prevNuc=\"A\"\n",
    "\n",
    "        letter=lookRight(prevNuc,digit,cf)\n",
    "        phrase=phrase+letter\n",
    "        prevNuc=letter[-1]\n",
    "\n",
    "\n",
    "    return(phrase)"
   ]
  },
  {
   "cell_type": "code",
   "execution_count": null,
   "metadata": {},
   "outputs": [],
   "source": []
  },
  {
   "cell_type": "code",
   "execution_count": 116,
   "metadata": {},
   "outputs": [],
   "source": []
  },
  {
   "cell_type": "code",
   "execution_count": 290,
   "metadata": {},
   "outputs": [],
   "source": [
    "def correspondString(input):\n",
    "# Email 03/06/2020\n",
    "    if input==\"A\":\n",
    "        output=[\"C\",\"G\",\"T\",\"A\"]\n",
    "    elif input==\"B\":\n",
    "        output=[\"T\",\"A\",\"C\",\"G\"]\n",
    "    elif input==\"C\":\n",
    "        output=[\"G\",\"T\",\"A\",\"C\"]\n",
    "    elif input ==\"D\":\n",
    "        output=[\"GG\",\"TT\",\"CC\",\"CG\"]\n",
    "        \n",
    "    return output"
   ]
  },
  {
   "cell_type": "markdown",
   "metadata": {},
   "source": [
    "# Optimisation Function"
   ]
  },
  {
   "cell_type": "code",
   "execution_count": 291,
   "metadata": {},
   "outputs": [
    {
     "name": "stdout",
     "output_type": "stream",
     "text": [
      "('A', 'C', 'G', 'T')___('A', 'B', 'C', 'D'): 256: 0\n",
      "('A', 'C', 'G', 'T')___('A', 'B', 'D', 'C'): 256: 0\n",
      "('A', 'C', 'G', 'T')___('A', 'C', 'B', 'D'): 256: 0\n",
      "('A', 'C', 'G', 'T')___('A', 'C', 'D', 'B'): 256: 0\n",
      "('A', 'C', 'G', 'T')___('A', 'D', 'B', 'C'): 256: 0\n",
      "('A', 'C', 'G', 'T')___('A', 'D', 'C', 'B'): 256: 0\n",
      "('A', 'C', 'G', 'T')___('B', 'A', 'C', 'D'): 256: 0\n",
      "('A', 'C', 'G', 'T')___('B', 'A', 'D', 'C'): 256: 0\n",
      "('A', 'C', 'G', 'T')___('B', 'C', 'A', 'D'): 256: 0\n",
      "('A', 'C', 'G', 'T')___('B', 'C', 'D', 'A'): 256: 0\n",
      "('A', 'C', 'G', 'T')___('B', 'D', 'A', 'C'): 256: 0\n",
      "('A', 'C', 'G', 'T')___('B', 'D', 'C', 'A'): 256: 0\n",
      "('A', 'C', 'G', 'T')___('C', 'A', 'B', 'D'): 256: 0\n",
      "('A', 'C', 'G', 'T')___('C', 'A', 'D', 'B'): 256: 0\n",
      "('A', 'C', 'G', 'T')___('C', 'B', 'A', 'D'): 256: 0\n",
      "('A', 'C', 'G', 'T')___('C', 'B', 'D', 'A'): 256: 0\n",
      "('A', 'C', 'G', 'T')___('C', 'D', 'A', 'B'): 256: 0\n",
      "('A', 'C', 'G', 'T')___('C', 'D', 'B', 'A'): 256: 0\n",
      "('A', 'C', 'G', 'T')___('D', 'A', 'B', 'C'): 256: 0\n",
      "('A', 'C', 'G', 'T')___('D', 'A', 'C', 'B'): 256: 0\n",
      "('A', 'C', 'G', 'T')___('D', 'B', 'A', 'C'): 256: 0\n",
      "('A', 'C', 'G', 'T')___('D', 'B', 'C', 'A'): 256: 0\n",
      "('A', 'C', 'G', 'T')___('D', 'C', 'A', 'B'): 256: 0\n",
      "('A', 'C', 'G', 'T')___('D', 'C', 'B', 'A'): 256: 0\n",
      "Wall time: 26 s\n"
     ]
    }
   ],
   "source": [
    "%%time\n",
    "\n",
    "import itertools\n",
    "d={}\n",
    "u={}\n",
    "PN=['A', 'C', 'G', 'T']\n",
    "\n",
    "for valuesY in list(itertools.permutations(PN)):\n",
    "\n",
    "#     for valuesX in list(itertools.permutations([\"A\",\"B\",\"C\",\"D\"])):\n",
    "    for valuesX in list(itertools.permutations([\"A\",\"B\",\"C\",\"D\"])):\n",
    "        cf=tableMaker(valuesY,valuesX[0],valuesX[1],valuesX[2],valuesX[3])\n",
    "\n",
    "        decodedList=[]\n",
    "        uniqueList=[]\n",
    "        stringCodes=[]\n",
    "        for codes in cL.iloc[:,0]:\n",
    "            stringCodes.append(codes)\n",
    "            lc=[int(i) for i in list(codes)]\n",
    "            decodedList.append(mainBrain(lc,cf))\n",
    "            d[str(valuesY)+\"___\"+str(valuesX)]=len(set(decodedList))\n",
    "            uniqueList.append(noTripleRepeats(mainBrain(lc,cf)))\n",
    "            u[str(valuesY)+\"___\"+str(valuesX)]=sum(uniqueList)\n",
    "\n",
    "for i in d:\n",
    "    if d[i]==256:\n",
    "    \n",
    "        print (str(i)+\": \"+str(d[i])+\": \"+str(u[i]))\n",
    "#     print (str(i)+\": \"+str(d[i])+\": \")"
   ]
  },
  {
   "cell_type": "code",
   "execution_count": 292,
   "metadata": {},
   "outputs": [
    {
     "name": "stdout",
     "output_type": "stream",
     "text": [
      "('A', 'C', 'G', 'T')___('A', 'B', 'C', 'D'): 256: 0\n",
      "('A', 'C', 'G', 'T')___('A', 'B', 'D', 'C'): 256: 0\n",
      "('A', 'C', 'G', 'T')___('A', 'C', 'B', 'D'): 256: 0\n",
      "('A', 'C', 'G', 'T')___('A', 'C', 'D', 'B'): 256: 0\n",
      "('A', 'C', 'G', 'T')___('A', 'D', 'B', 'C'): 256: 0\n",
      "('A', 'C', 'G', 'T')___('A', 'D', 'C', 'B'): 256: 0\n",
      "('A', 'C', 'G', 'T')___('B', 'A', 'C', 'D'): 256: 0\n",
      "('A', 'C', 'G', 'T')___('B', 'A', 'D', 'C'): 256: 0\n",
      "('A', 'C', 'G', 'T')___('B', 'C', 'A', 'D'): 256: 0\n",
      "('A', 'C', 'G', 'T')___('B', 'C', 'D', 'A'): 256: 0\n",
      "('A', 'C', 'G', 'T')___('B', 'D', 'A', 'C'): 256: 0\n",
      "('A', 'C', 'G', 'T')___('B', 'D', 'C', 'A'): 256: 0\n",
      "('A', 'C', 'G', 'T')___('C', 'A', 'B', 'D'): 256: 0\n",
      "('A', 'C', 'G', 'T')___('C', 'A', 'D', 'B'): 256: 0\n",
      "('A', 'C', 'G', 'T')___('C', 'B', 'A', 'D'): 256: 0\n",
      "('A', 'C', 'G', 'T')___('C', 'B', 'D', 'A'): 256: 0\n",
      "('A', 'C', 'G', 'T')___('C', 'D', 'A', 'B'): 256: 0\n",
      "('A', 'C', 'G', 'T')___('C', 'D', 'B', 'A'): 256: 0\n",
      "('A', 'C', 'G', 'T')___('D', 'A', 'B', 'C'): 256: 0\n",
      "('A', 'C', 'G', 'T')___('D', 'A', 'C', 'B'): 256: 0\n",
      "('A', 'C', 'G', 'T')___('D', 'B', 'A', 'C'): 256: 0\n",
      "('A', 'C', 'G', 'T')___('D', 'B', 'C', 'A'): 256: 0\n",
      "('A', 'C', 'G', 'T')___('D', 'C', 'A', 'B'): 256: 0\n",
      "('A', 'C', 'G', 'T')___('D', 'C', 'B', 'A'): 256: 0\n"
     ]
    }
   ],
   "source": [
    "for i in d:\n",
    "    if u[i]==0:\n",
    "    \n",
    "        print (str(i)+\": \"+str(d[i])+\": \"+str(u[i]))"
   ]
  },
  {
   "cell_type": "code",
   "execution_count": null,
   "metadata": {},
   "outputs": [],
   "source": []
  },
  {
   "cell_type": "code",
   "execution_count": null,
   "metadata": {},
   "outputs": [],
   "source": []
  },
  {
   "cell_type": "code",
   "execution_count": null,
   "metadata": {},
   "outputs": [],
   "source": []
  },
  {
   "cell_type": "code",
   "execution_count": null,
   "metadata": {},
   "outputs": [],
   "source": []
  },
  {
   "cell_type": "code",
   "execution_count": null,
   "metadata": {},
   "outputs": [],
   "source": []
  },
  {
   "cell_type": "code",
   "execution_count": null,
   "metadata": {},
   "outputs": [],
   "source": []
  },
  {
   "cell_type": "code",
   "execution_count": null,
   "metadata": {},
   "outputs": [],
   "source": []
  },
  {
   "cell_type": "markdown",
   "metadata": {},
   "source": [
    "# Unqiue Codes Only"
   ]
  },
  {
   "cell_type": "code",
   "execution_count": null,
   "metadata": {},
   "outputs": [],
   "source": [
    "numRepeats=np.array(list(u.values()))\n",
    "numUnique=np.array(list(d.values()))\n",
    "codeNames=np.array(list((d.keys())))\n",
    "\n",
    "\n",
    "print(\"No repeated letters: \")\n",
    "print(\"Highest number of unique codes is: \"+str(max(numUnique[numRepeats==0])))\n",
    "\n",
    "uniqueList=[str(j)+\"__\"+str(i) for i,j in zip (numUnique[numRepeats==0],codeNames[numRepeats==0])]\n",
    "\n",
    "for values in uniqueList:\n",
    "    print(values)\n"
   ]
  },
  {
   "cell_type": "code",
   "execution_count": null,
   "metadata": {},
   "outputs": [],
   "source": []
  },
  {
   "cell_type": "markdown",
   "metadata": {},
   "source": [
    "# Loop Over All Combinations"
   ]
  },
  {
   "cell_type": "code",
   "execution_count": null,
   "metadata": {},
   "outputs": [],
   "source": [
    "%%time\n",
    "import itertools\n",
    "d={}\n",
    "u={}\n",
    "\n",
    "pList=[]\n",
    "\n",
    "PN=['A', 'T', 'C', 'G']\n",
    "Alist=[\"T\",\"C\",\"G\",\"A\"]\n",
    "Blist=[\"C\",\"G\",\"A\",\"T\"]\n",
    "A=\"A\"\n",
    "B=\"B\"\n",
    "C=\"C\"\n",
    "D=\"D\"\n",
    "\n",
    "# C=[\"G\",\"A\",\"T\",\"C\"]\n",
    "# D=[\"G\",\"C\",\"T\",\"A\"]\n",
    "\n",
    "for valuesY in list(itertools.permutations(PN)):\n",
    "\n",
    "    for valuesX in list(itertools.permutations([\"A\",\"B\",\"C\",\"D\"])):\n",
    "        \n",
    "        for valuesA in list(itertools.permutations(Alist)):\n",
    "#             columnDict={\"A\":valuesA,\"B\":[\"C\",\"G\",\"A\",\"T\"],\"C\":[\"G\",\"A\",\"T\",\"C\"],\"D\":[\"G\",\"C\",\"T\",\"A\"]}\n",
    "#             decodedList=[]\n",
    "#             uniqueList=[]\n",
    "#             stringCodes=[]\n",
    "            \n",
    "#             cf=tableMakerUpgrade(valuesY,valuesX[0],valuesX[1],valuesX[2],valuesX[3],columnDict)\n",
    "         \n",
    "#             for codes in cL.iloc[:,0]:\n",
    "#                 stringCodes.append(codes)\n",
    "#                 lc=[int(i) for i in list(codes)]\n",
    "#                 decodedList.append(mainBrain(lc,cf))\n",
    "#                 d[str(valuesY)+\"___\"+str(valuesX)+\"___\"+str(valuesA)]=len(set(decodedList))\n",
    "#                 uniqueList.append(uniqueCodes(mainBrain(lc,cf)))\n",
    "#                 u[str(valuesY)+\"___\"+str(valuesX)+\"___\"+str(valuesA)]=sum(uniqueList)   \n",
    "            \n",
    "#             pList.append(str(valuesY)+\"__\"+str(valuesX)+\"__\"+str(valuesA))\n",
    "            \n",
    "            for valuesB in list((itertools.permutations(Blist))):\n",
    "                columnDict={\"A\":valuesA,\"B\":valuesB,\"C\":[\"G\",\"A\",\"T\",\"C\"],\"D\":[\"G\",\"C\",\"T\",\"A\"]}\n",
    "                decodedList=[]\n",
    "                uniqueList=[]\n",
    "                stringCodes=[]\n",
    "\n",
    "                cf=tableMakerUpgrade(valuesY,valuesX[0],valuesX[1],valuesX[2],valuesX[3],columnDict)\n",
    "\n",
    "                for codes in cL.iloc[:,0]:\n",
    "                    stringCodes.append(codes)\n",
    "                    lc=[int(i) for i in list(codes)]\n",
    "                    decodedList.append(mainBrain(lc,cf))\n",
    "                    d[str(valuesY)+\"___\"+str(valuesX)+\"___\"+str(valuesA)+\"___\"+str(valuesB)]=len(set(decodedList))\n",
    "                    uniqueList.append(uniqueCodes(mainBrain(lc,cf)))\n",
    "                    u[str(valuesY)+\"___\"+str(valuesX)+\"___\"+str(valuesA)+\"___\"+str(valuesB)]=sum(uniqueList)   \n",
    "            \n",
    "# #                 pList.append(str(valuesY)+\"__\"+str(valuesX)+\"__\"+str(valuesA)+\"__\"+str(valuesB))\n",
    "\n",
    "#                 for valuesC in list((itertools.permutations(C))):\n",
    "# #                     pList.append(str(valuesY)+\"__\"+str(valuesX)+\"__\"+str(valuesA)+\"__\"+str(valuesB)+\"__\"+str(valuesC))\n",
    "                \n",
    "#                     for valuesD in list((itertools.permutations(D))):\n",
    "#                         pList.append(str(valuesY)+\"__\"+str(valuesX)+\"__\"+str(valuesA)+\"__\"+str(valuesB)+\"__\"+str(valuesC)+\"__\"+str(valuesD))\n",
    "\n",
    "        \n",
    "        \n",
    "        \n",
    "\n",
    "\n",
    "# for i in d:\n",
    "#     print (str(i)+\": \"+str(d[i])+\": \"+str(u[i]))\n"
   ]
  },
  {
   "cell_type": "code",
   "execution_count": null,
   "metadata": {},
   "outputs": [],
   "source": [
    "print(len(d))"
   ]
  },
  {
   "cell_type": "code",
   "execution_count": null,
   "metadata": {},
   "outputs": [],
   "source": [
    "numRepeats=np.array(list(u.values()))\n",
    "numUnique=np.array(list(d.values()))\n",
    "codeNames=np.array(list((d.keys())))\n",
    "\n",
    "\n",
    "print(\"No repeated letters: \")\n",
    "print(\"Highest number of unique codes is: \"+str(max(numUnique[numRepeats==0])))\n",
    "\n",
    "uniqueList=[str(j)+\"__\"+str(i) for i,j in zip (numUnique[numRepeats==0],codeNames[numRepeats==0])]\n",
    "\n",
    "for values in uniqueList:\n",
    "    print(values)"
   ]
  },
  {
   "cell_type": "code",
   "execution_count": null,
   "metadata": {},
   "outputs": [],
   "source": [
    "print(len(uniqueList)/len(d)*100)"
   ]
  },
  {
   "cell_type": "code",
   "execution_count": null,
   "metadata": {},
   "outputs": [],
   "source": []
  },
  {
   "cell_type": "code",
   "execution_count": null,
   "metadata": {},
   "outputs": [],
   "source": []
  },
  {
   "cell_type": "code",
   "execution_count": null,
   "metadata": {},
   "outputs": [],
   "source": []
  },
  {
   "cell_type": "code",
   "execution_count": null,
   "metadata": {},
   "outputs": [],
   "source": [
    "def tableMakerUpgrade(PN,A,B,C,D,columnDict):\n",
    "    \n",
    "    A=columnDict[str(A)]\n",
    "    B=columnDict[str(B)]\n",
    "    C=columnDict[str(C)]\n",
    "    D=columnDict[str(D)]\n",
    "    \n",
    "    insides1={\"Previous Nucleotide\": PN, 0:A, 1:B, 2:C, 3:D}\n",
    "    cf=pd.DataFrame(insides1)\n",
    "    cf.index=cf[\"Previous Nucleotide\"]\n",
    "    del cf[\"Previous Nucleotide\"]\n",
    "    return cf"
   ]
  },
  {
   "cell_type": "code",
   "execution_count": null,
   "metadata": {},
   "outputs": [],
   "source": [
    "def correspondStringUpgrade(input,columnDict):\n",
    "# Email 03/06/2020\n",
    "    if input==\"A\":\n",
    "        output=columnDict[\"A\"]\n",
    "    elif input==\"B\":\n",
    "        output=columnDict[\"B\"]\n",
    "    elif input==\"C\":\n",
    "        output=columnDict[\"C\"]\n",
    "    elif input ==\"D\":\n",
    "        output=columnDict[\"D\"]\n",
    "\n",
    "    return output"
   ]
  },
  {
   "cell_type": "code",
   "execution_count": null,
   "metadata": {},
   "outputs": [],
   "source": []
  },
  {
   "cell_type": "code",
   "execution_count": null,
   "metadata": {},
   "outputs": [],
   "source": [
    "A=\"A\"\n",
    "B=\"B\"\n",
    "C=\"C\"\n",
    "D=\"D\"\n",
    "columnDict={\"A\":[\"T\",\"C\",\"G\",\"A\"],\"B\":[\"C\",\"G\",\"A\",\"T\"],\"C\":[\"G\",\"A\",\"T\",\"C\"],\"D\":[\"G\",\"C\",\"T\",\"A\"]}\n",
    "d=tableMakerUpgrade(['A', 'T', 'C', 'G'],D,B,A,C,columnDict)\n",
    "display(d)"
   ]
  },
  {
   "cell_type": "code",
   "execution_count": null,
   "metadata": {},
   "outputs": [],
   "source": [
    "A=\"A\"\n",
    "B=\"B\"\n",
    "C=\"C\"\n",
    "D=\"D\"\n",
    "print(a)\n",
    "print(columnDict[str(A)])"
   ]
  },
  {
   "cell_type": "code",
   "execution_count": null,
   "metadata": {},
   "outputs": [],
   "source": []
  }
 ],
 "metadata": {
  "kernelspec": {
   "display_name": "Python 3",
   "language": "python",
   "name": "python3"
  },
  "language_info": {
   "codemirror_mode": {
    "name": "ipython",
    "version": 3
   },
   "file_extension": ".py",
   "mimetype": "text/x-python",
   "name": "python",
   "nbconvert_exporter": "python",
   "pygments_lexer": "ipython3",
   "version": "3.6.10"
  }
 },
 "nbformat": 4,
 "nbformat_minor": 2
}
