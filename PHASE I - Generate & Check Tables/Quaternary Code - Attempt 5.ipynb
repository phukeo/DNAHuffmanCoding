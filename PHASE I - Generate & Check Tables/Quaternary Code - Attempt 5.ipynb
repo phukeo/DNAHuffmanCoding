{
 "cells": [
  {
   "cell_type": "markdown",
   "metadata": {},
   "source": [
    "# Quaternary Coding"
   ]
  },
  {
   "cell_type": "code",
   "execution_count": 1,
   "metadata": {},
   "outputs": [],
   "source": [
    "# 5th Attempt\n",
    "import numpy as np\n",
    "import pandas as pd"
   ]
  },
  {
   "cell_type": "code",
   "execution_count": 2,
   "metadata": {},
   "outputs": [],
   "source": [
    "# Vikram initial rule\n",
    "def lookRight(prevNuc,digit,cf):\n",
    "    \n",
    "#     print(prevNuc,digit,cf)\n",
    "    \n",
    "    nextLetter=cf.loc[prevNuc,digit]\n",
    "    \n",
    "#     print(nextLetter)\n",
    "    \n",
    "#     if digit==3 and index>0:\n",
    "#         prevNuc=compNuc(prevNuc)\n",
    "#         nextLetter=cf.loc[prevNuc,digit]\n",
    "\n",
    "    return nextLetter\n"
   ]
  },
  {
   "cell_type": "code",
   "execution_count": 3,
   "metadata": {},
   "outputs": [],
   "source": [
    "def noTripleRepeats(code):\n",
    "    x=len(code)\n",
    "    for i,j in enumerate(code):\n",
    "        if i==(x-2) or x<=3:\n",
    "            break\n",
    "        initialLetter=j\n",
    "        secondLetter=code[i+1]\n",
    "        thirdLetter=code[i+2]\n",
    "#         print(initialLetter,secondLetter,thirdLetter)\n",
    "        if (initialLetter == secondLetter) and (secondLetter == thirdLetter):\n",
    "            return 1\n",
    "    return 0"
   ]
  },
  {
   "cell_type": "markdown",
   "metadata": {},
   "source": [
    "# Select appropriate table"
   ]
  },
  {
   "cell_type": "code",
   "execution_count": 7,
   "metadata": {},
   "outputs": [],
   "source": [
    "# Email 02/07/2020\n",
    "#insides={\"Previous Nucleotide\": [\"A\",\"C\",\"G\",\"T\"], 0:[\"C\",\"G\",\"T\",\"A\"], 1:[\"T\",\"A\",\"C\",\"G\"], 2:[\"G\",\"T\",\"A\",\"C\"], 3:[\"TG\",\"GC\",\"CA\",\"AT\"] }\n",
    "\n",
    "# Email 19/01/2021\n",
    "insides={\"Previous Nucleotide\": [\"A\",\"C\",\"G\",\"T\"], 0:[\"C\",\"G\",\"T\",\"A\"], 1:[\"T\",\"A\",\"C\",\"G\"], 2:[\"G\",\"T\",\"A\",\"C\"], 3:[\"GT\",\"TG\",\"AC\",\"CG\"] }\n",
    "\n",
    "\n",
    "cf=pd.DataFrame(insides)\n",
    "cf.index=cf[\"Previous Nucleotide\"]\n",
    "del cf[\"Previous Nucleotide\"]"
   ]
  },
  {
   "cell_type": "code",
   "execution_count": 8,
   "metadata": {},
   "outputs": [
    {
     "data": {
      "text/html": [
       "<div>\n",
       "<style scoped>\n",
       "    .dataframe tbody tr th:only-of-type {\n",
       "        vertical-align: middle;\n",
       "    }\n",
       "\n",
       "    .dataframe tbody tr th {\n",
       "        vertical-align: top;\n",
       "    }\n",
       "\n",
       "    .dataframe thead th {\n",
       "        text-align: right;\n",
       "    }\n",
       "</style>\n",
       "<table border=\"1\" class=\"dataframe\">\n",
       "  <thead>\n",
       "    <tr style=\"text-align: right;\">\n",
       "      <th></th>\n",
       "      <th>0</th>\n",
       "      <th>1</th>\n",
       "      <th>2</th>\n",
       "      <th>3</th>\n",
       "    </tr>\n",
       "    <tr>\n",
       "      <th>Previous Nucleotide</th>\n",
       "      <th></th>\n",
       "      <th></th>\n",
       "      <th></th>\n",
       "      <th></th>\n",
       "    </tr>\n",
       "  </thead>\n",
       "  <tbody>\n",
       "    <tr>\n",
       "      <th>A</th>\n",
       "      <td>C</td>\n",
       "      <td>T</td>\n",
       "      <td>G</td>\n",
       "      <td>GT</td>\n",
       "    </tr>\n",
       "    <tr>\n",
       "      <th>C</th>\n",
       "      <td>G</td>\n",
       "      <td>A</td>\n",
       "      <td>T</td>\n",
       "      <td>TG</td>\n",
       "    </tr>\n",
       "    <tr>\n",
       "      <th>G</th>\n",
       "      <td>T</td>\n",
       "      <td>C</td>\n",
       "      <td>A</td>\n",
       "      <td>AC</td>\n",
       "    </tr>\n",
       "    <tr>\n",
       "      <th>T</th>\n",
       "      <td>A</td>\n",
       "      <td>G</td>\n",
       "      <td>C</td>\n",
       "      <td>CG</td>\n",
       "    </tr>\n",
       "  </tbody>\n",
       "</table>\n",
       "</div>"
      ],
      "text/plain": [
       "                     0  1  2   3\n",
       "Previous Nucleotide             \n",
       "A                    C  T  G  GT\n",
       "C                    G  A  T  TG\n",
       "G                    T  C  A  AC\n",
       "T                    A  G  C  CG"
      ]
     },
     "metadata": {},
     "output_type": "display_data"
    }
   ],
   "source": [
    "display(cf)"
   ]
  },
  {
   "cell_type": "markdown",
   "metadata": {},
   "source": [
    "# Individual Code Check"
   ]
  },
  {
   "cell_type": "code",
   "execution_count": 18,
   "metadata": {},
   "outputs": [
    {
     "name": "stdout",
     "output_type": "stream",
     "text": [
      "GTA\n"
     ]
    }
   ],
   "source": [
    "code=[2,0,0]\n",
    "phrase=\"\"\n",
    "\n",
    "# Make up Insides\n",
    "#insides={\"Previous Nucleotide\": [\"A\",\"C\",\"G\",\"T\"], 0:[\"C\",\"G\",\"T\",\"A\"], 1:[\"T\",\"A\",\"C\",\"G\"], 2:[\"G\",\"T\",\"A\",\"C\"], 3:[\"TG\",\"GC\",\"CA\",\"AT\"] }\n",
    "\n",
    "insides={\"Previous Nucleotide\": [\"A\",\"C\",\"G\",\"T\"], 0:[\"C\",\"G\",\"T\",\"A\"], 1:[\"T\",\"A\",\"C\",\"G\"], 2:[\"G\",\"T\",\"A\",\"C\"], 3:[\"GT\",\"TG\",\"AC\",\"CG\"] }\n",
    "\n",
    "cf=pd.DataFrame(insides)\n",
    "cf.index=cf[\"Previous Nucleotide\"]\n",
    "del cf[\"Previous Nucleotide\"]\n",
    "\n",
    "for index, digit in enumerate(code): \n",
    "    \n",
    "    if index==0:\n",
    "        prevNuc=\"A\"\n",
    "    \n",
    "    letter=lookRight(prevNuc,digit,cf)\n",
    "#     print(letter)\n",
    "    phrase=phrase+letter\n",
    "    prevNuc=letter[-1]       \n",
    "    \n",
    "#     print(prevNuc)\n",
    "    \n",
    "print(phrase)"
   ]
  },
  {
   "cell_type": "code",
   "execution_count": null,
   "metadata": {},
   "outputs": [],
   "source": []
  },
  {
   "cell_type": "markdown",
   "metadata": {},
   "source": [
    "# Read in 256 ASSCI Symbols"
   ]
  },
  {
   "cell_type": "code",
   "execution_count": 9,
   "metadata": {},
   "outputs": [
    {
     "name": "stdout",
     "output_type": "stream",
     "text": [
      "    Tern Code\n",
      "0          30\n",
      "1          31\n",
      "2          32\n",
      "3          33\n",
      "4         200\n",
      "..        ...\n",
      "251  11000023\n",
      "252  11000030\n",
      "253  11000031\n",
      "254  11000032\n",
      "255  11000033\n",
      "\n",
      "[256 rows x 1 columns]\n"
     ]
    }
   ],
   "source": [
    "codeList=pd.read_csv(\"Quart_vs_Tern_test_BOD.csv\", dtype=object,usecols=[0],skiprows=3)\n",
    "cL=codeList.dropna()\n",
    "cL.columns=[\"Tern Code\"]\n",
    "print(cL)"
   ]
  },
  {
   "cell_type": "code",
   "execution_count": null,
   "metadata": {},
   "outputs": [],
   "source": [
    "# for codes in cL.iloc[:,0]:\n",
    "#     print (list(codes))\n",
    "# print(len(cL.iloc[:,0]))"
   ]
  },
  {
   "cell_type": "markdown",
   "metadata": {},
   "source": [
    "# LOOP OVER THE TERN CODES FROM CSV"
   ]
  },
  {
   "cell_type": "code",
   "execution_count": 19,
   "metadata": {},
   "outputs": [
    {
     "name": "stdout",
     "output_type": "stream",
     "text": [
      "['GT', 'GC', 'GAC', 'GA', 'GTAC', 'GTAT', 'GTAGT', 'GTAG', 'GTGT', 'GTGC', 'GTGAC', 'GTGA', 'GTCGT', 'GTCGC', 'GTCGAC', 'GTCGA', 'GTCG', 'GTCA', 'GTCTG', 'GTCT', 'CAC', 'CAT', 'CAGT', 'CAG', 'CTGT', 'CTGC', 'CTGAC', 'CTGA', 'CTA', 'CTG', 'CTCG', 'CTC', 'CGCG', 'CGCA', 'CGCTG', 'CGCT', 'CGACG', 'CGACA', 'CGACTG', 'CGACT', 'CGAC', 'CGAT', 'CGAGT', 'CGAG', 'CGTGT', 'CGTGC', 'CGTGAC', 'CGTGA', 'CGTCGT', 'CGTCGC', 'CGTCGAC', 'CGTCGA', 'CGTCG', 'CGTCA', 'CGTCTG', 'CGTCT', 'CGTATA', 'CGTATG', 'CGTATCG', 'CGTATC', 'CGTAGTA', 'CGTAGTG', 'CGTAGTCG', 'CGTAGTC', 'CGTAGT', 'CGTAGC', 'CGTAGAC', 'CGTAGA', 'CGTACAC', 'CGTACAT', 'CGTACAGT', 'CGTACAG', 'CGTACTGT', 'CGTACTGC', 'CGTACTGAC', 'CGTACTGA', 'CGTACTA', 'CGTACTG', 'CGTACTCG', 'CGTACTC', 'CGTACGCG', 'CGTACGCA', 'CGTACGCTG', 'CGTACGCT', 'CGTACGACG', 'CGTACGACA', 'CGTACGACTG', 'CGTACGACT', 'CGTACGAC', 'CGTACGAT', 'CGTACGAGT', 'CGTACGAG', 'CGTACGTGT', 'CGTACGTGC', 'CGTACGTGAC', 'CGTACGTGA', 'CGTACGTCGT', 'CGTACGTCGC', 'CGTACGTCGAC', 'CGTACGTCGA', 'CGTACGTCG', 'CGTACGTCA', 'CGTACGTCTG', 'CGTACGTCT', 'CGTACGTACG', 'CGTACGTACA', 'CGTACGTACTG', 'CGTACGTACT', 'CGTACGTATA', 'CGTACGTATG', 'CGTACGTATCG', 'CGTACGTATC', 'CGTACGTAGTA', 'CGTACGTAGTG', 'CGTACGTAGTCG', 'CGTACGTAGTC', 'CGTACGTAGT', 'CGTACGTAGC', 'CGTACGTAGAC', 'CGTACGTAGA', 'TCGT', 'TCGC', 'TCGAC', 'TCGA', 'TCG', 'TCA', 'TCTG', 'TCT', 'TATA', 'TATG', 'TATCG', 'TATC', 'TAGTA', 'TAGTG', 'TAGTCG', 'TAGTC', 'TAGT', 'TAGC', 'TAGAC', 'TAGA', 'TACAC', 'TACAT', 'TACAGT', 'TACAG', 'TACTGT', 'TACTGC', 'TACTGAC', 'TACTGA', 'TACTA', 'TACTG', 'TACTCG', 'TACTC', 'TACGCG', 'TACGCA', 'TACGCTG', 'TACGCT', 'TACGACG', 'TACGACA', 'TACGACTG', 'TACGACT', 'TACGAC', 'TACGAT', 'TACGAGT', 'TACGAG', 'TACGTGT', 'TACGTGC', 'TACGTGAC', 'TACGTGA', 'TACGTCGT', 'TACGTCGC', 'TACGTCGAC', 'TACGTCGA', 'TACGTCG', 'TACGTCA', 'TACGTCTG', 'TACGTCT', 'TACGTACG', 'TACGTACA', 'TACGTACTG', 'TACGTACT', 'TACGTATA', 'TACGTATG', 'TACGTATCG', 'TACGTATC', 'TACGTAGTA', 'TACGTAGTG', 'TACGTAGTCG', 'TACGTAGTC', 'TACGTAGT', 'TACGTAGC', 'TACGTAGAC', 'TACGTAGA', 'TGCG', 'TGCA', 'TGCTG', 'TGCT', 'TGACG', 'TGACA', 'TGACTG', 'TGACT', 'TGAC', 'TGAT', 'TGAGT', 'TGAG', 'TGTGT', 'TGTGC', 'TGTGAC', 'TGTGA', 'TGTCGT', 'TGTCGC', 'TGTCGAC', 'TGTCGA', 'TGTCG', 'TGTCA', 'TGTCTG', 'TGTCT', 'TGTATA', 'TGTATG', 'TGTATCG', 'TGTATC', 'TGTAGTA', 'TGTAGTG', 'TGTAGTCG', 'TGTAGTC', 'TGTAGT', 'TGTAGC', 'TGTAGAC', 'TGTAGA', 'TGTACAC', 'TGTACAT', 'TGTACAGT', 'TGTACAG', 'TGTACTGT', 'TGTACTGC', 'TGTACTGAC', 'TGTACTGA', 'TGTACTA', 'TGTACTG', 'TGTACTCG', 'TGTACTC', 'TGTACGTA', 'TGTACGTG', 'TGTACGTCG', 'TGTACGTC', 'TGTACGCG', 'TGTACGCA', 'TGTACGCTG', 'TGTACGCT', 'TGTACGACG', 'TGTACGACA', 'TGTACGACTG', 'TGTACGACT', 'TGTACGAC', 'TGTACGAT', 'TGTACGAGT', 'TGTACGAG']\n",
      "256\n",
      "256\n",
      "set()\n",
      "[0, 0, 0, 0, 0, 0, 0, 0, 0, 0, 0, 0, 0, 0, 0, 0, 0, 0, 0, 0, 0, 0, 0, 0, 0, 0, 0, 0, 0, 0, 0, 0, 0, 0, 0, 0, 0, 0, 0, 0, 0, 0, 0, 0, 0, 0, 0, 0, 0, 0, 0, 0, 0, 0, 0, 0, 0, 0, 0, 0, 0, 0, 0, 0, 0, 0, 0, 0, 0, 0, 0, 0, 0, 0, 0, 0, 0, 0, 0, 0, 0, 0, 0, 0, 0, 0, 0, 0, 0, 0, 0, 0, 0, 0, 0, 0, 0, 0, 0, 0, 0, 0, 0, 0, 0, 0, 0, 0, 0, 0, 0, 0, 0, 0, 0, 0, 0, 0, 0, 0, 0, 0, 0, 0, 0, 0, 0, 0, 0, 0, 0, 0, 0, 0, 0, 0, 0, 0, 0, 0, 0, 0, 0, 0, 0, 0, 0, 0, 0, 0, 0, 0, 0, 0, 0, 0, 0, 0, 0, 0, 0, 0, 0, 0, 0, 0, 0, 0, 0, 0, 0, 0, 0, 0, 0, 0, 0, 0, 0, 0, 0, 0, 0, 0, 0, 0, 0, 0, 0, 0, 0, 0, 0, 0, 0, 0, 0, 0, 0, 0, 0, 0, 0, 0, 0, 0, 0, 0, 0, 0, 0, 0, 0, 0, 0, 0, 0, 0, 0, 0, 0, 0, 0, 0, 0, 0, 0, 0, 0, 0, 0, 0, 0, 0, 0, 0, 0, 0, 0, 0, 0, 0, 0, 0, 0, 0, 0, 0, 0, 0, 0, 0, 0, 0, 0, 0]\n",
      "0\n"
     ]
    }
   ],
   "source": [
    "decodedList=[]\n",
    "stringCodes=[]\n",
    "noTripRepeatsList=[]\n",
    "\n",
    "# Make up Insides\n",
    "# insides={\"Previous Nucleotide\": [\"A\",\"C\",\"G\",\"T\"], 0:[\"G\",\"T\",\"A\",\"C\"], 1:[\"T\",\"A\",\"C\",\"G\"], 2:[\"C\",\"G\",\"T\",\"A\"], 3:[\"TG\",\"GC\",\"CA\",\"AT\"] }\n",
    "\n",
    "# TABLE 2 insides={\"Previous Nucleotide\": [\"A\",\"C\",\"G\",\"T\"], 0:[\"C\",\"G\",\"T\",\"A\"], 1:[\"T\",\"A\",\"C\",\"G\"], 2:[\"G\",\"T\",\"A\",\"C\"], 3:[\"TG\",\"GC\",\"CA\",\"AT\"] }\n",
    "\n",
    "# TABLE 3 insides={\"Previous Nucleotide\": [\"A\",\"C\",\"G\",\"T\"], 0:[\"G\",\"T\",\"A\",\"C\"], 1:[\"T\",\"A\",\"C\",\"G\"], 2:[\"C\",\"G\",\"T\",\"A\"], 3:[\"TG\",\"GC\",\"CA\",\"AT\"] }\n",
    "\n",
    "insides={\"Previous Nucleotide\": [\"A\",\"C\",\"G\",\"T\"], 0:[\"C\",\"G\",\"T\",\"A\"], 1:[\"T\",\"A\",\"C\",\"G\"], 2:[\"GT\",\"TG\",\"AC\",\"CG\"], 3:[\"G\",\"T\",\"A\",\"C\"] }\n",
    "# Email 19/01/2021\n",
    "#insides={\"Previous Nucleotide\": [\"A\",\"C\",\"G\",\"T\"], 0:[\"C\",\"G\",\"T\",\"A\"], 1:[\"T\",\"A\",\"C\",\"G\"], 2:[\"G\",\"T\",\"A\",\"C\"], 3:[\"GT\",\"TG\",\"AC\",\"CG\"] }\n",
    "\n",
    "\n",
    "cf=pd.DataFrame(insides)\n",
    "cf.index=cf[\"Previous Nucleotide\"]\n",
    "del cf[\"Previous Nucleotide\"]\n",
    "\n",
    "for codes in cL.iloc[:,0]:\n",
    "    phrase=\"\"\n",
    "    stringCodes.append(codes)\n",
    "    lc=[int(i) for i in list(codes)]\n",
    "#     print(lc)\n",
    "    for index, digit in enumerate(lc): \n",
    "#         print(index)\n",
    "        if index==0:\n",
    "            prevNuc=\"A\"\n",
    "\n",
    "        letter=lookRight(prevNuc,digit,cf)\n",
    "        phrase=phrase+letter\n",
    "        prevNuc=letter[-1]  \n",
    "\n",
    "    decodedList.append(phrase)\n",
    "    noTripRepeatsList.append(noTripleRepeats(phrase))\n",
    "\n",
    "print(decodedList)\n",
    "print(len(decodedList))\n",
    "print(len(set(decodedList)))\n",
    "print(set([x for x in decodedList if decodedList.count(x) > 1]))\n",
    "print(noTripRepeatsList)\n",
    "print(sum(noTripRepeatsList))\n",
    "\n",
    "# print(stringCodes)"
   ]
  },
  {
   "cell_type": "code",
   "execution_count": 20,
   "metadata": {},
   "outputs": [
    {
     "data": {
      "text/html": [
       "<div>\n",
       "<style scoped>\n",
       "    .dataframe tbody tr th:only-of-type {\n",
       "        vertical-align: middle;\n",
       "    }\n",
       "\n",
       "    .dataframe tbody tr th {\n",
       "        vertical-align: top;\n",
       "    }\n",
       "\n",
       "    .dataframe thead th {\n",
       "        text-align: right;\n",
       "    }\n",
       "</style>\n",
       "<table border=\"1\" class=\"dataframe\">\n",
       "  <thead>\n",
       "    <tr style=\"text-align: right;\">\n",
       "      <th></th>\n",
       "      <th>Tern Code</th>\n",
       "      <th>Table 6 - 5th Attempt</th>\n",
       "    </tr>\n",
       "  </thead>\n",
       "  <tbody>\n",
       "    <tr>\n",
       "      <th>0</th>\n",
       "      <td>30</td>\n",
       "      <td>GT</td>\n",
       "    </tr>\n",
       "    <tr>\n",
       "      <th>1</th>\n",
       "      <td>31</td>\n",
       "      <td>GC</td>\n",
       "    </tr>\n",
       "    <tr>\n",
       "      <th>2</th>\n",
       "      <td>32</td>\n",
       "      <td>GAC</td>\n",
       "    </tr>\n",
       "    <tr>\n",
       "      <th>3</th>\n",
       "      <td>33</td>\n",
       "      <td>GA</td>\n",
       "    </tr>\n",
       "    <tr>\n",
       "      <th>4</th>\n",
       "      <td>200</td>\n",
       "      <td>GTAC</td>\n",
       "    </tr>\n",
       "  </tbody>\n",
       "</table>\n",
       "</div>"
      ],
      "text/plain": [
       "  Tern Code Table 6 - 5th Attempt\n",
       "0        30                    GT\n",
       "1        31                    GC\n",
       "2        32                   GAC\n",
       "3        33                    GA\n",
       "4       200                  GTAC"
      ]
     },
     "metadata": {},
     "output_type": "display_data"
    },
    {
     "data": {
      "text/html": [
       "<div>\n",
       "<style scoped>\n",
       "    .dataframe tbody tr th:only-of-type {\n",
       "        vertical-align: middle;\n",
       "    }\n",
       "\n",
       "    .dataframe tbody tr th {\n",
       "        vertical-align: top;\n",
       "    }\n",
       "\n",
       "    .dataframe thead th {\n",
       "        text-align: right;\n",
       "    }\n",
       "</style>\n",
       "<table border=\"1\" class=\"dataframe\">\n",
       "  <thead>\n",
       "    <tr style=\"text-align: right;\">\n",
       "      <th></th>\n",
       "      <th>Tern Code</th>\n",
       "      <th>Table 6 - 5th Attempt</th>\n",
       "    </tr>\n",
       "  </thead>\n",
       "  <tbody>\n",
       "    <tr>\n",
       "      <th>251</th>\n",
       "      <td>11000023</td>\n",
       "      <td>TGTACGACT</td>\n",
       "    </tr>\n",
       "    <tr>\n",
       "      <th>252</th>\n",
       "      <td>11000030</td>\n",
       "      <td>TGTACGAC</td>\n",
       "    </tr>\n",
       "    <tr>\n",
       "      <th>253</th>\n",
       "      <td>11000031</td>\n",
       "      <td>TGTACGAT</td>\n",
       "    </tr>\n",
       "    <tr>\n",
       "      <th>254</th>\n",
       "      <td>11000032</td>\n",
       "      <td>TGTACGAGT</td>\n",
       "    </tr>\n",
       "    <tr>\n",
       "      <th>255</th>\n",
       "      <td>11000033</td>\n",
       "      <td>TGTACGAG</td>\n",
       "    </tr>\n",
       "  </tbody>\n",
       "</table>\n",
       "</div>"
      ],
      "text/plain": [
       "    Tern Code Table 6 - 5th Attempt\n",
       "251  11000023             TGTACGACT\n",
       "252  11000030              TGTACGAC\n",
       "253  11000031              TGTACGAT\n",
       "254  11000032             TGTACGAGT\n",
       "255  11000033              TGTACGAG"
      ]
     },
     "metadata": {},
     "output_type": "display_data"
    }
   ],
   "source": [
    "# cL.insert(1,\"String Code\",stringCodes)\n",
    "cL.insert(1,\"Table 6 - 5th Attempt\",decodedList)\n",
    "# cL.insert(3,\"Decoded: ATCG:0123\",decodedList)\n",
    "display(cL.head())\n",
    "display(cL.tail())"
   ]
  },
  {
   "cell_type": "code",
   "execution_count": null,
   "metadata": {},
   "outputs": [],
   "source": []
  },
  {
   "cell_type": "markdown",
   "metadata": {},
   "source": [
    "# Output"
   ]
  },
  {
   "cell_type": "code",
   "execution_count": 21,
   "metadata": {},
   "outputs": [],
   "source": [
    "cLString=cL.astype(str)\n",
    "# display(cLString)\n",
    "cLString.to_csv(\"210119_Table6_5thAttempt.bod\",encoding=\"utf-8\",index = True)"
   ]
  },
  {
   "cell_type": "code",
   "execution_count": null,
   "metadata": {},
   "outputs": [],
   "source": []
  },
  {
   "cell_type": "code",
   "execution_count": null,
   "metadata": {},
   "outputs": [],
   "source": []
  },
  {
   "cell_type": "code",
   "execution_count": null,
   "metadata": {},
   "outputs": [],
   "source": []
  },
  {
   "cell_type": "code",
   "execution_count": null,
   "metadata": {},
   "outputs": [],
   "source": []
  },
  {
   "cell_type": "markdown",
   "metadata": {},
   "source": [
    "# Table Optimisation"
   ]
  },
  {
   "cell_type": "code",
   "execution_count": 23,
   "metadata": {},
   "outputs": [],
   "source": [
    "def correspondString(input):\n",
    "# Email 03/06/2020\n",
    "    if input==\"A\":\n",
    "        output=[\"C\",\"G\",\"T\",\"A\"]\n",
    "    elif input==\"B\":\n",
    "        output=[\"T\",\"A\",\"C\",\"G\"]\n",
    "    elif input==\"C\":\n",
    "        output=[\"G\",\"T\",\"A\",\"C\"]\n",
    "    elif input ==\"D\":\n",
    "        output=[\"GT\",\"TG\",\"AC\",\"CG\"]\n",
    "        \n",
    "    return output"
   ]
  },
  {
   "cell_type": "code",
   "execution_count": 24,
   "metadata": {},
   "outputs": [],
   "source": [
    "def tableMaker(PN,A,B,C,D):\n",
    "    \n",
    "    A=correspondString(str(A))\n",
    "    B=correspondString(str(B))\n",
    "    C=correspondString(str(C))\n",
    "    D=correspondString(str(D))\n",
    "    \n",
    "    insides1={\"Previous Nucleotide\": PN, 0:A, 1:B, 2:C, 3:D}\n",
    "    cf=pd.DataFrame(insides1)\n",
    "    cf.index=cf[\"Previous Nucleotide\"]\n",
    "    del cf[\"Previous Nucleotide\"]\n",
    "    return cf"
   ]
  },
  {
   "cell_type": "markdown",
   "metadata": {},
   "source": [
    "# Process Brains Function"
   ]
  },
  {
   "cell_type": "code",
   "execution_count": 25,
   "metadata": {},
   "outputs": [],
   "source": [
    "def mainBrain(code,cf):\n",
    "    phrase=\"\"\n",
    "    for index, digit in enumerate(code):  \n",
    "\n",
    "        if index==0:\n",
    "            prevNuc=\"A\"\n",
    "\n",
    "        letter=lookRight(prevNuc,digit,cf)\n",
    "        phrase=phrase+letter\n",
    "        prevNuc=letter[-1]\n",
    "\n",
    "\n",
    "    return(phrase)"
   ]
  },
  {
   "cell_type": "code",
   "execution_count": null,
   "metadata": {},
   "outputs": [],
   "source": []
  },
  {
   "cell_type": "code",
   "execution_count": null,
   "metadata": {},
   "outputs": [],
   "source": []
  },
  {
   "cell_type": "code",
   "execution_count": null,
   "metadata": {},
   "outputs": [],
   "source": []
  },
  {
   "cell_type": "code",
   "execution_count": null,
   "metadata": {},
   "outputs": [],
   "source": []
  },
  {
   "cell_type": "code",
   "execution_count": null,
   "metadata": {},
   "outputs": [],
   "source": []
  },
  {
   "cell_type": "markdown",
   "metadata": {},
   "source": [
    "# Optimisation Function"
   ]
  },
  {
   "cell_type": "code",
   "execution_count": 26,
   "metadata": {},
   "outputs": [
    {
     "name": "stdout",
     "output_type": "stream",
     "text": [
      "('A', 'C', 'G', 'T')___('A', 'B', 'D', 'C'): 256: 0\n",
      "('A', 'C', 'G', 'T')___('A', 'D', 'B', 'C'): 256: 0\n",
      "('A', 'C', 'G', 'T')___('B', 'A', 'D', 'C'): 256: 0\n",
      "('A', 'C', 'G', 'T')___('B', 'D', 'A', 'C'): 256: 0\n",
      "('A', 'C', 'G', 'T')___('D', 'A', 'B', 'C'): 256: 0\n",
      "('A', 'C', 'G', 'T')___('D', 'B', 'A', 'C'): 256: 0\n",
      "('A', 'C', 'T', 'G')___('A', 'B', 'C', 'D'): 256: 57\n",
      "('A', 'C', 'T', 'G')___('A', 'B', 'D', 'C'): 256: 58\n",
      "('A', 'C', 'T', 'G')___('A', 'D', 'B', 'C'): 256: 57\n",
      "('A', 'C', 'T', 'G')___('A', 'D', 'C', 'B'): 256: 57\n",
      "('A', 'C', 'T', 'G')___('B', 'A', 'C', 'D'): 256: 44\n",
      "('A', 'C', 'T', 'G')___('B', 'A', 'D', 'C'): 256: 45\n",
      "('A', 'C', 'T', 'G')___('B', 'D', 'A', 'C'): 256: 5\n",
      "('A', 'C', 'T', 'G')___('B', 'D', 'C', 'A'): 256: 5\n",
      "('A', 'C', 'T', 'G')___('D', 'A', 'B', 'C'): 256: 17\n",
      "('A', 'C', 'T', 'G')___('D', 'A', 'C', 'B'): 256: 17\n",
      "('A', 'C', 'T', 'G')___('D', 'B', 'A', 'C'): 256: 15\n",
      "('A', 'C', 'T', 'G')___('D', 'B', 'C', 'A'): 256: 15\n",
      "('A', 'G', 'C', 'T')___('D', 'A', 'B', 'C'): 256: 16\n",
      "('A', 'G', 'C', 'T')___('D', 'B', 'A', 'C'): 256: 17\n",
      "('A', 'G', 'T', 'C')___('A', 'B', 'D', 'C'): 256: 66\n",
      "('A', 'G', 'T', 'C')___('A', 'D', 'B', 'C'): 256: 65\n",
      "('A', 'G', 'T', 'C')___('B', 'A', 'D', 'C'): 256: 18\n",
      "('A', 'G', 'T', 'C')___('B', 'D', 'A', 'C'): 256: 21\n",
      "('A', 'G', 'T', 'C')___('D', 'A', 'B', 'C'): 256: 20\n",
      "('A', 'G', 'T', 'C')___('D', 'B', 'A', 'C'): 256: 22\n",
      "('A', 'T', 'C', 'G')___('A', 'B', 'C', 'D'): 256: 17\n",
      "('A', 'T', 'C', 'G')___('A', 'B', 'D', 'C'): 256: 19\n",
      "('A', 'T', 'C', 'G')___('A', 'C', 'B', 'D'): 256: 17\n",
      "('A', 'T', 'C', 'G')___('A', 'C', 'D', 'B'): 256: 18\n",
      "('A', 'T', 'C', 'G')___('A', 'D', 'B', 'C'): 256: 20\n",
      "('A', 'T', 'C', 'G')___('A', 'D', 'C', 'B'): 256: 19\n",
      "('A', 'T', 'C', 'G')___('B', 'A', 'C', 'D'): 256: 65\n",
      "('A', 'T', 'C', 'G')___('B', 'A', 'D', 'C'): 256: 67\n",
      "('A', 'T', 'C', 'G')___('B', 'C', 'A', 'D'): 256: 99\n",
      "('A', 'T', 'C', 'G')___('B', 'C', 'D', 'A'): 256: 101\n",
      "('A', 'T', 'C', 'G')___('B', 'D', 'A', 'C'): 256: 53\n",
      "('A', 'T', 'C', 'G')___('B', 'D', 'C', 'A'): 256: 53\n",
      "('A', 'T', 'C', 'G')___('D', 'A', 'B', 'C'): 256: 21\n",
      "('A', 'T', 'C', 'G')___('D', 'A', 'C', 'B'): 256: 20\n",
      "('A', 'T', 'C', 'G')___('D', 'B', 'A', 'C'): 256: 20\n",
      "('A', 'T', 'C', 'G')___('D', 'B', 'C', 'A'): 256: 20\n",
      "('A', 'T', 'C', 'G')___('D', 'C', 'A', 'B'): 256: 19\n",
      "('A', 'T', 'C', 'G')___('D', 'C', 'B', 'A'): 256: 20\n",
      "('A', 'T', 'G', 'C')___('A', 'B', 'D', 'C'): 256: 18\n",
      "('A', 'T', 'G', 'C')___('A', 'D', 'B', 'C'): 256: 18\n",
      "('A', 'T', 'G', 'C')___('B', 'A', 'D', 'C'): 256: 18\n",
      "('A', 'T', 'G', 'C')___('B', 'D', 'A', 'C'): 256: 18\n",
      "('A', 'T', 'G', 'C')___('D', 'A', 'B', 'C'): 256: 18\n",
      "('A', 'T', 'G', 'C')___('D', 'B', 'A', 'C'): 256: 18\n",
      "('C', 'A', 'G', 'T')___('D', 'B', 'A', 'C'): 256: 10\n",
      "('C', 'A', 'T', 'G')___('A', 'B', 'C', 'D'): 256: 20\n",
      "('C', 'A', 'T', 'G')___('A', 'B', 'D', 'C'): 256: 21\n",
      "('C', 'A', 'T', 'G')___('A', 'C', 'B', 'D'): 256: 64\n",
      "('C', 'A', 'T', 'G')___('A', 'C', 'D', 'B'): 256: 65\n",
      "('C', 'A', 'T', 'G')___('A', 'D', 'B', 'C'): 256: 18\n",
      "('C', 'A', 'T', 'G')___('A', 'D', 'C', 'B'): 256: 18\n",
      "('C', 'A', 'T', 'G')___('B', 'A', 'C', 'D'): 256: 168\n",
      "('C', 'A', 'T', 'G')___('B', 'A', 'D', 'C'): 256: 169\n",
      "('C', 'A', 'T', 'G')___('B', 'C', 'A', 'D'): 256: 121\n",
      "('C', 'A', 'T', 'G')___('B', 'C', 'D', 'A'): 256: 122\n",
      "('C', 'A', 'T', 'G')___('B', 'D', 'A', 'C'): 256: 168\n",
      "('C', 'A', 'T', 'G')___('B', 'D', 'C', 'A'): 256: 168\n",
      "('C', 'A', 'T', 'G')___('C', 'B', 'A', 'D'): 256: 20\n",
      "('C', 'A', 'T', 'G')___('C', 'B', 'D', 'A'): 256: 21\n",
      "('C', 'A', 'T', 'G')___('D', 'A', 'B', 'C'): 256: 18\n",
      "('C', 'A', 'T', 'G')___('D', 'A', 'C', 'B'): 256: 18\n",
      "('C', 'A', 'T', 'G')___('D', 'B', 'A', 'C'): 256: 21\n",
      "('C', 'A', 'T', 'G')___('D', 'B', 'C', 'A'): 256: 21\n",
      "('C', 'A', 'T', 'G')___('D', 'C', 'A', 'B'): 256: 18\n",
      "('C', 'A', 'T', 'G')___('D', 'C', 'B', 'A'): 256: 18\n",
      "('C', 'G', 'T', 'A')___('D', 'A', 'B', 'C'): 256: 21\n",
      "('C', 'T', 'A', 'G')___('A', 'B', 'D', 'C'): 256: 73\n",
      "('C', 'T', 'A', 'G')___('A', 'D', 'B', 'C'): 256: 72\n",
      "('C', 'T', 'A', 'G')___('A', 'D', 'C', 'B'): 256: 73\n",
      "('C', 'T', 'A', 'G')___('B', 'A', 'D', 'C'): 256: 62\n",
      "('C', 'T', 'A', 'G')___('B', 'C', 'A', 'D'): 256: 35\n",
      "('C', 'T', 'A', 'G')___('B', 'D', 'A', 'C'): 256: 32\n",
      "('C', 'T', 'A', 'G')___('B', 'D', 'C', 'A'): 256: 32\n",
      "('C', 'T', 'A', 'G')___('D', 'A', 'B', 'C'): 256: 20\n",
      "('C', 'T', 'A', 'G')___('D', 'A', 'C', 'B'): 256: 21\n",
      "('C', 'T', 'A', 'G')___('D', 'B', 'A', 'C'): 256: 22\n",
      "('C', 'T', 'A', 'G')___('D', 'B', 'C', 'A'): 256: 22\n",
      "('C', 'T', 'A', 'G')___('D', 'C', 'A', 'B'): 256: 72\n",
      "('C', 'T', 'A', 'G')___('D', 'C', 'B', 'A'): 256: 71\n",
      "('G', 'A', 'C', 'T')___('A', 'B', 'D', 'C'): 256: 23\n",
      "('G', 'A', 'C', 'T')___('A', 'D', 'B', 'C'): 256: 18\n",
      "('G', 'A', 'C', 'T')___('B', 'A', 'D', 'C'): 256: 123\n",
      "('G', 'A', 'C', 'T')___('B', 'D', 'A', 'C'): 256: 87\n",
      "('G', 'A', 'C', 'T')___('D', 'A', 'B', 'C'): 256: 18\n",
      "('G', 'A', 'C', 'T')___('D', 'B', 'A', 'C'): 256: 23\n",
      "('G', 'A', 'T', 'C')___('A', 'B', 'C', 'D'): 256: 33\n",
      "('G', 'A', 'T', 'C')___('A', 'B', 'D', 'C'): 256: 35\n",
      "('G', 'A', 'T', 'C')___('A', 'C', 'B', 'D'): 256: 73\n",
      "('G', 'A', 'T', 'C')___('A', 'C', 'D', 'B'): 256: 75\n",
      "('G', 'A', 'T', 'C')___('A', 'D', 'B', 'C'): 256: 63\n",
      "('G', 'A', 'T', 'C')___('A', 'D', 'C', 'B'): 256: 63\n",
      "('G', 'A', 'T', 'C')___('B', 'A', 'C', 'D'): 256: 94\n",
      "('G', 'A', 'T', 'C')___('B', 'A', 'D', 'C'): 256: 96\n",
      "('G', 'A', 'T', 'C')___('B', 'C', 'A', 'D'): 256: 126\n",
      "('G', 'A', 'T', 'C')___('B', 'C', 'D', 'A'): 256: 127\n",
      "('G', 'A', 'T', 'C')___('B', 'D', 'A', 'C'): 256: 95\n",
      "('G', 'A', 'T', 'C')___('B', 'D', 'C', 'A'): 256: 94\n",
      "('G', 'A', 'T', 'C')___('C', 'B', 'A', 'D'): 256: 21\n",
      "('G', 'A', 'T', 'C')___('C', 'B', 'D', 'A'): 256: 22\n",
      "('G', 'A', 'T', 'C')___('D', 'A', 'B', 'C'): 256: 31\n",
      "('G', 'A', 'T', 'C')___('D', 'A', 'C', 'B'): 256: 31\n",
      "('G', 'A', 'T', 'C')___('D', 'B', 'A', 'C'): 256: 33\n",
      "('G', 'A', 'T', 'C')___('D', 'B', 'C', 'A'): 256: 32\n",
      "('G', 'A', 'T', 'C')___('D', 'C', 'A', 'B'): 256: 31\n",
      "('G', 'A', 'T', 'C')___('D', 'C', 'B', 'A'): 256: 30\n",
      "('G', 'C', 'A', 'T')___('A', 'B', 'D', 'C'): 256: 20\n",
      "('G', 'C', 'A', 'T')___('A', 'D', 'B', 'C'): 256: 20\n",
      "('G', 'C', 'A', 'T')___('B', 'A', 'D', 'C'): 256: 20\n",
      "('G', 'C', 'A', 'T')___('B', 'D', 'A', 'C'): 256: 20\n",
      "('G', 'C', 'A', 'T')___('D', 'A', 'B', 'C'): 256: 20\n",
      "('G', 'C', 'A', 'T')___('D', 'B', 'A', 'C'): 256: 20\n",
      "('G', 'T', 'A', 'C')___('A', 'B', 'D', 'C'): 256: 38\n",
      "('G', 'T', 'A', 'C')___('A', 'D', 'B', 'C'): 256: 38\n",
      "('G', 'T', 'A', 'C')___('B', 'A', 'D', 'C'): 256: 38\n",
      "('G', 'T', 'A', 'C')___('B', 'D', 'A', 'C'): 256: 38\n",
      "('G', 'T', 'A', 'C')___('D', 'A', 'B', 'C'): 256: 38\n",
      "('G', 'T', 'A', 'C')___('D', 'B', 'A', 'C'): 256: 38\n",
      "('G', 'T', 'C', 'A')___('A', 'B', 'C', 'D'): 256: 94\n",
      "('G', 'T', 'C', 'A')___('A', 'B', 'D', 'C'): 256: 96\n",
      "('G', 'T', 'C', 'A')___('A', 'D', 'B', 'C'): 256: 96\n",
      "('G', 'T', 'C', 'A')___('A', 'D', 'C', 'B'): 256: 95\n",
      "('G', 'T', 'C', 'A')___('B', 'A', 'C', 'D'): 256: 33\n",
      "('G', 'T', 'C', 'A')___('B', 'A', 'D', 'C'): 256: 35\n",
      "('G', 'T', 'C', 'A')___('B', 'D', 'A', 'C'): 256: 31\n",
      "('G', 'T', 'C', 'A')___('B', 'D', 'C', 'A'): 256: 31\n",
      "('G', 'T', 'C', 'A')___('D', 'A', 'B', 'C'): 256: 39\n",
      "('G', 'T', 'C', 'A')___('D', 'A', 'C', 'B'): 256: 38\n",
      "('G', 'T', 'C', 'A')___('D', 'B', 'A', 'C'): 256: 37\n",
      "('G', 'T', 'C', 'A')___('D', 'B', 'C', 'A'): 256: 37\n",
      "('T', 'A', 'C', 'G')___('A', 'B', 'D', 'C'): 256: 21\n",
      "('T', 'A', 'C', 'G')___('A', 'C', 'B', 'D'): 256: 17\n",
      "('T', 'A', 'C', 'G')___('A', 'D', 'B', 'C'): 256: 18\n",
      "('T', 'A', 'C', 'G')___('A', 'D', 'C', 'B'): 256: 18\n",
      "('T', 'A', 'C', 'G')___('B', 'A', 'D', 'C'): 256: 169\n",
      "('T', 'A', 'C', 'G')___('B', 'C', 'A', 'D'): 256: 168\n",
      "('T', 'A', 'C', 'G')___('B', 'D', 'A', 'C'): 256: 168\n",
      "('T', 'A', 'C', 'G')___('B', 'D', 'C', 'A'): 256: 168\n",
      "('T', 'A', 'C', 'G')___('C', 'A', 'B', 'D'): 256: 17\n",
      "('T', 'A', 'C', 'G')___('D', 'A', 'B', 'C'): 256: 18\n",
      "('T', 'A', 'C', 'G')___('D', 'A', 'C', 'B'): 256: 18\n",
      "('T', 'A', 'C', 'G')___('D', 'B', 'A', 'C'): 256: 21\n",
      "('T', 'A', 'C', 'G')___('D', 'B', 'C', 'A'): 256: 21\n",
      "('T', 'A', 'G', 'C')___('D', 'B', 'A', 'C'): 256: 20\n",
      "('T', 'C', 'A', 'G')___('A', 'B', 'D', 'C'): 256: 18\n",
      "('T', 'C', 'A', 'G')___('A', 'D', 'B', 'C'): 256: 17\n",
      "('T', 'C', 'A', 'G')___('B', 'A', 'D', 'C'): 256: 64\n",
      "('T', 'C', 'A', 'G')___('B', 'D', 'A', 'C'): 256: 54\n",
      "('T', 'C', 'A', 'G')___('D', 'A', 'B', 'C'): 256: 16\n",
      "('T', 'C', 'A', 'G')___('D', 'B', 'A', 'C'): 256: 17\n",
      "Wall time: 14 s\n"
     ]
    }
   ],
   "source": [
    "%%time\n",
    "\n",
    "import itertools\n",
    "d={}\n",
    "u={}\n",
    "PN=['A', 'C', 'G', 'T']\n",
    "\n",
    "for valuesY in list(itertools.permutations(PN)):\n",
    "\n",
    "#     for valuesX in list(itertools.permutations([\"A\",\"B\",\"C\",\"D\"])):\n",
    "    for valuesX in list(itertools.permutations([\"A\",\"B\",\"C\",\"D\"])):\n",
    "        cf=tableMaker(valuesY,valuesX[0],valuesX[1],valuesX[2],valuesX[3])\n",
    "\n",
    "        decodedList=[]\n",
    "        uniqueList=[]\n",
    "        stringCodes=[]\n",
    "        for codes in cL.iloc[:,0]:\n",
    "            stringCodes.append(codes)\n",
    "            lc=[int(i) for i in list(codes)]\n",
    "            decodedList.append(mainBrain(lc,cf))\n",
    "            d[str(valuesY)+\"___\"+str(valuesX)]=len(set(decodedList))\n",
    "            uniqueList.append(noTripleRepeats(mainBrain(lc,cf)))\n",
    "            u[str(valuesY)+\"___\"+str(valuesX)]=sum(uniqueList)\n",
    "\n",
    "for i in d:\n",
    "    if (d[i])==256:\n",
    "        print (str(i)+\": \"+str(d[i])+\": \"+str(u[i]))\n",
    "#     print (str(i)+\": \"+str(d[i])+\": \")"
   ]
  },
  {
   "cell_type": "markdown",
   "metadata": {},
   "source": [
    "# Unqiue Codes Only"
   ]
  },
  {
   "cell_type": "code",
   "execution_count": null,
   "metadata": {},
   "outputs": [],
   "source": [
    "numRepeats=np.array(list(u.values()))\n",
    "numUnique=np.array(list(d.values()))\n",
    "codeNames=np.array(list((d.keys())))\n",
    "\n",
    "\n",
    "print(\"No repeated letters: \")\n",
    "print(\"Highest number of unique codes is: \"+str(max(numUnique[numRepeats==0])))\n",
    "\n",
    "uniqueList=[str(j)+\"__\"+str(i) for i,j in zip (numUnique[numRepeats==0],codeNames[numRepeats==0])]\n",
    "\n",
    "for values in uniqueList:\n",
    "    print(values)\n"
   ]
  },
  {
   "cell_type": "code",
   "execution_count": null,
   "metadata": {},
   "outputs": [],
   "source": []
  },
  {
   "cell_type": "markdown",
   "metadata": {},
   "source": [
    "# Loop Over All Combinations"
   ]
  },
  {
   "cell_type": "code",
   "execution_count": null,
   "metadata": {},
   "outputs": [],
   "source": [
    "%%time\n",
    "import itertools\n",
    "d={}\n",
    "u={}\n",
    "\n",
    "pList=[]\n",
    "\n",
    "PN=['A', 'T', 'C', 'G']\n",
    "Alist=[\"T\",\"C\",\"G\",\"A\"]\n",
    "Blist=[\"C\",\"G\",\"A\",\"T\"]\n",
    "A=\"A\"\n",
    "B=\"B\"\n",
    "C=\"C\"\n",
    "D=\"D\"\n",
    "\n",
    "# C=[\"G\",\"A\",\"T\",\"C\"]\n",
    "# D=[\"G\",\"C\",\"T\",\"A\"]\n",
    "\n",
    "for valuesY in list(itertools.permutations(PN)):\n",
    "\n",
    "    for valuesX in list(itertools.permutations([\"A\",\"B\",\"C\",\"D\"])):\n",
    "        \n",
    "        for valuesA in list(itertools.permutations(Alist)):\n",
    "#             columnDict={\"A\":valuesA,\"B\":[\"C\",\"G\",\"A\",\"T\"],\"C\":[\"G\",\"A\",\"T\",\"C\"],\"D\":[\"G\",\"C\",\"T\",\"A\"]}\n",
    "#             decodedList=[]\n",
    "#             uniqueList=[]\n",
    "#             stringCodes=[]\n",
    "            \n",
    "#             cf=tableMakerUpgrade(valuesY,valuesX[0],valuesX[1],valuesX[2],valuesX[3],columnDict)\n",
    "         \n",
    "#             for codes in cL.iloc[:,0]:\n",
    "#                 stringCodes.append(codes)\n",
    "#                 lc=[int(i) for i in list(codes)]\n",
    "#                 decodedList.append(mainBrain(lc,cf))\n",
    "#                 d[str(valuesY)+\"___\"+str(valuesX)+\"___\"+str(valuesA)]=len(set(decodedList))\n",
    "#                 uniqueList.append(uniqueCodes(mainBrain(lc,cf)))\n",
    "#                 u[str(valuesY)+\"___\"+str(valuesX)+\"___\"+str(valuesA)]=sum(uniqueList)   \n",
    "            \n",
    "#             pList.append(str(valuesY)+\"__\"+str(valuesX)+\"__\"+str(valuesA))\n",
    "            \n",
    "            for valuesB in list((itertools.permutations(Blist))):\n",
    "                columnDict={\"A\":valuesA,\"B\":valuesB,\"C\":[\"G\",\"A\",\"T\",\"C\"],\"D\":[\"G\",\"C\",\"T\",\"A\"]}\n",
    "                decodedList=[]\n",
    "                uniqueList=[]\n",
    "                stringCodes=[]\n",
    "\n",
    "                cf=tableMakerUpgrade(valuesY,valuesX[0],valuesX[1],valuesX[2],valuesX[3],columnDict)\n",
    "\n",
    "                for codes in cL.iloc[:,0]:\n",
    "                    stringCodes.append(codes)\n",
    "                    lc=[int(i) for i in list(codes)]\n",
    "                    decodedList.append(mainBrain(lc,cf))\n",
    "                    d[str(valuesY)+\"___\"+str(valuesX)+\"___\"+str(valuesA)+\"___\"+str(valuesB)]=len(set(decodedList))\n",
    "                    uniqueList.append(uniqueCodes(mainBrain(lc,cf)))\n",
    "                    u[str(valuesY)+\"___\"+str(valuesX)+\"___\"+str(valuesA)+\"___\"+str(valuesB)]=sum(uniqueList)   \n",
    "            \n",
    "# #                 pList.append(str(valuesY)+\"__\"+str(valuesX)+\"__\"+str(valuesA)+\"__\"+str(valuesB))\n",
    "\n",
    "#                 for valuesC in list((itertools.permutations(C))):\n",
    "# #                     pList.append(str(valuesY)+\"__\"+str(valuesX)+\"__\"+str(valuesA)+\"__\"+str(valuesB)+\"__\"+str(valuesC))\n",
    "                \n",
    "#                     for valuesD in list((itertools.permutations(D))):\n",
    "#                         pList.append(str(valuesY)+\"__\"+str(valuesX)+\"__\"+str(valuesA)+\"__\"+str(valuesB)+\"__\"+str(valuesC)+\"__\"+str(valuesD))\n",
    "\n",
    "        \n",
    "        \n",
    "        \n",
    "\n",
    "\n",
    "# for i in d:\n",
    "#     print (str(i)+\": \"+str(d[i])+\": \"+str(u[i]))\n"
   ]
  },
  {
   "cell_type": "code",
   "execution_count": null,
   "metadata": {},
   "outputs": [],
   "source": [
    "print(len(d))"
   ]
  },
  {
   "cell_type": "code",
   "execution_count": null,
   "metadata": {},
   "outputs": [],
   "source": [
    "numRepeats=np.array(list(u.values()))\n",
    "numUnique=np.array(list(d.values()))\n",
    "codeNames=np.array(list((d.keys())))\n",
    "\n",
    "\n",
    "print(\"No repeated letters: \")\n",
    "print(\"Highest number of unique codes is: \"+str(max(numUnique[numRepeats==0])))\n",
    "\n",
    "uniqueList=[str(j)+\"__\"+str(i) for i,j in zip (numUnique[numRepeats==0],codeNames[numRepeats==0])]\n",
    "\n",
    "for values in uniqueList:\n",
    "    print(values)"
   ]
  },
  {
   "cell_type": "code",
   "execution_count": null,
   "metadata": {},
   "outputs": [],
   "source": [
    "print(len(uniqueList)/len(d)*100)"
   ]
  },
  {
   "cell_type": "code",
   "execution_count": null,
   "metadata": {},
   "outputs": [],
   "source": []
  },
  {
   "cell_type": "code",
   "execution_count": null,
   "metadata": {},
   "outputs": [],
   "source": []
  },
  {
   "cell_type": "code",
   "execution_count": null,
   "metadata": {},
   "outputs": [],
   "source": []
  },
  {
   "cell_type": "code",
   "execution_count": null,
   "metadata": {},
   "outputs": [],
   "source": [
    "def tableMakerUpgrade(PN,A,B,C,D,columnDict):\n",
    "    \n",
    "    A=columnDict[str(A)]\n",
    "    B=columnDict[str(B)]\n",
    "    C=columnDict[str(C)]\n",
    "    D=columnDict[str(D)]\n",
    "    \n",
    "    insides1={\"Previous Nucleotide\": PN, 0:A, 1:B, 2:C, 3:D}\n",
    "    cf=pd.DataFrame(insides1)\n",
    "    cf.index=cf[\"Previous Nucleotide\"]\n",
    "    del cf[\"Previous Nucleotide\"]\n",
    "    return cf"
   ]
  },
  {
   "cell_type": "code",
   "execution_count": null,
   "metadata": {},
   "outputs": [],
   "source": [
    "def correspondStringUpgrade(input,columnDict):\n",
    "# Email 03/06/2020\n",
    "    if input==\"A\":\n",
    "        output=columnDict[\"A\"]\n",
    "    elif input==\"B\":\n",
    "        output=columnDict[\"B\"]\n",
    "    elif input==\"C\":\n",
    "        output=columnDict[\"C\"]\n",
    "    elif input ==\"D\":\n",
    "        output=columnDict[\"D\"]\n",
    "\n",
    "    return output"
   ]
  },
  {
   "cell_type": "code",
   "execution_count": null,
   "metadata": {},
   "outputs": [],
   "source": []
  },
  {
   "cell_type": "code",
   "execution_count": null,
   "metadata": {},
   "outputs": [],
   "source": [
    "A=\"A\"\n",
    "B=\"B\"\n",
    "C=\"C\"\n",
    "D=\"D\"\n",
    "columnDict={\"A\":[\"T\",\"C\",\"G\",\"A\"],\"B\":[\"C\",\"G\",\"A\",\"T\"],\"C\":[\"G\",\"A\",\"T\",\"C\"],\"D\":[\"G\",\"C\",\"T\",\"A\"]}\n",
    "d=tableMakerUpgrade(['A', 'T', 'C', 'G'],D,B,A,C,columnDict)\n",
    "display(d)"
   ]
  },
  {
   "cell_type": "code",
   "execution_count": null,
   "metadata": {},
   "outputs": [],
   "source": [
    "A=\"A\"\n",
    "B=\"B\"\n",
    "C=\"C\"\n",
    "D=\"D\"\n",
    "print(a)\n",
    "print(columnDict[str(A)])"
   ]
  },
  {
   "cell_type": "code",
   "execution_count": null,
   "metadata": {},
   "outputs": [],
   "source": []
  }
 ],
 "metadata": {
  "kernelspec": {
   "display_name": "Python 3",
   "language": "python",
   "name": "python3"
  },
  "language_info": {
   "codemirror_mode": {
    "name": "ipython",
    "version": 3
   },
   "file_extension": ".py",
   "mimetype": "text/x-python",
   "name": "python",
   "nbconvert_exporter": "python",
   "pygments_lexer": "ipython3",
   "version": "3.6.10"
  }
 },
 "nbformat": 4,
 "nbformat_minor": 2
}
