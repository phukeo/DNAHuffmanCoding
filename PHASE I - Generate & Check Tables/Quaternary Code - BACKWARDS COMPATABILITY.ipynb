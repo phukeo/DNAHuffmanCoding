{
 "cells": [
  {
   "cell_type": "markdown",
   "metadata": {},
   "source": [
    "# Quaternary Coding"
   ]
  },
  {
   "cell_type": "code",
   "execution_count": 1,
   "metadata": {},
   "outputs": [],
   "source": [
    "# Backward Compatability - With No repeats\n",
    "import numpy as np\n",
    "import pandas as pd"
   ]
  },
  {
   "cell_type": "code",
   "execution_count": 2,
   "metadata": {},
   "outputs": [],
   "source": [
    "# Vikram initial rule\n",
    "def lookRight(prevNuc,digit,cf):\n",
    "    \n",
    "    \n",
    "    nextLetter=cf.loc[prevNuc,digit]\n",
    "    \n",
    "\n",
    "    return nextLetter\n"
   ]
  },
  {
   "cell_type": "code",
   "execution_count": 3,
   "metadata": {},
   "outputs": [],
   "source": [
    "def noTripleRepeats(code):\n",
    "    x=len(code)\n",
    "    for i,j in enumerate(code):\n",
    "        if i==(x-2) or x<=3:\n",
    "            break\n",
    "        initialLetter=j\n",
    "        secondLetter=code[i+1]\n",
    "        thirdLetter=code[i+2]\n",
    "#         print(initialLetter,secondLetter,thirdLetter)\n",
    "        if (initialLetter == secondLetter) and (secondLetter == thirdLetter):\n",
    "            return 1\n",
    "    return 0"
   ]
  },
  {
   "cell_type": "code",
   "execution_count": 34,
   "metadata": {},
   "outputs": [
    {
     "data": {
      "text/plain": [
       "0"
      ]
     },
     "execution_count": 34,
     "metadata": {},
     "output_type": "execute_result"
    }
   ],
   "source": [
    "noTripleRepeats(\"ATATATCC\")"
   ]
  },
  {
   "cell_type": "markdown",
   "metadata": {},
   "source": [
    "# Select appropriate table"
   ]
  },
  {
   "cell_type": "code",
   "execution_count": 8,
   "metadata": {},
   "outputs": [],
   "source": [
    "# FROM OPTIMISATION II - Table US1\n",
    "insides={\"Previous Nucleotide\": [\"A\",\"C\",\"G\",\"T\"], 0:[\"C\",\"G\",\"T\",\"A\"], 1:[\"T\",\"A\",\"C\",\"G\"], 2:[\"G\",\"T\",\"A\",\"C\"], 3:[\"AC\",\"CG\",\"GT\",\"TG\"]}\n",
    "\n",
    "\n",
    "cf=pd.DataFrame(insides)\n",
    "cf.index=cf[\"Previous Nucleotide\"]\n",
    "del cf[\"Previous Nucleotide\"]"
   ]
  },
  {
   "cell_type": "code",
   "execution_count": 9,
   "metadata": {},
   "outputs": [
    {
     "data": {
      "text/html": [
       "<div>\n",
       "<style scoped>\n",
       "    .dataframe tbody tr th:only-of-type {\n",
       "        vertical-align: middle;\n",
       "    }\n",
       "\n",
       "    .dataframe tbody tr th {\n",
       "        vertical-align: top;\n",
       "    }\n",
       "\n",
       "    .dataframe thead th {\n",
       "        text-align: right;\n",
       "    }\n",
       "</style>\n",
       "<table border=\"1\" class=\"dataframe\">\n",
       "  <thead>\n",
       "    <tr style=\"text-align: right;\">\n",
       "      <th></th>\n",
       "      <th>0</th>\n",
       "      <th>1</th>\n",
       "      <th>2</th>\n",
       "      <th>3</th>\n",
       "    </tr>\n",
       "    <tr>\n",
       "      <th>Previous Nucleotide</th>\n",
       "      <th></th>\n",
       "      <th></th>\n",
       "      <th></th>\n",
       "      <th></th>\n",
       "    </tr>\n",
       "  </thead>\n",
       "  <tbody>\n",
       "    <tr>\n",
       "      <th>A</th>\n",
       "      <td>C</td>\n",
       "      <td>T</td>\n",
       "      <td>G</td>\n",
       "      <td>AC</td>\n",
       "    </tr>\n",
       "    <tr>\n",
       "      <th>C</th>\n",
       "      <td>G</td>\n",
       "      <td>A</td>\n",
       "      <td>T</td>\n",
       "      <td>CG</td>\n",
       "    </tr>\n",
       "    <tr>\n",
       "      <th>G</th>\n",
       "      <td>T</td>\n",
       "      <td>C</td>\n",
       "      <td>A</td>\n",
       "      <td>GT</td>\n",
       "    </tr>\n",
       "    <tr>\n",
       "      <th>T</th>\n",
       "      <td>A</td>\n",
       "      <td>G</td>\n",
       "      <td>C</td>\n",
       "      <td>TG</td>\n",
       "    </tr>\n",
       "  </tbody>\n",
       "</table>\n",
       "</div>"
      ],
      "text/plain": [
       "                     0  1  2   3\n",
       "Previous Nucleotide             \n",
       "A                    C  T  G  AC\n",
       "C                    G  A  T  CG\n",
       "G                    T  C  A  GT\n",
       "T                    A  G  C  TG"
      ]
     },
     "metadata": {},
     "output_type": "display_data"
    }
   ],
   "source": [
    "display(cf)"
   ]
  },
  {
   "cell_type": "code",
   "execution_count": null,
   "metadata": {},
   "outputs": [],
   "source": []
  },
  {
   "cell_type": "markdown",
   "metadata": {},
   "source": [
    "# Individual Code Check"
   ]
  },
  {
   "cell_type": "code",
   "execution_count": 30,
   "metadata": {},
   "outputs": [
    {
     "name": "stdout",
     "output_type": "stream",
     "text": [
      "ACTAAC\n"
     ]
    }
   ],
   "source": [
    "code=[3,2,0,3]\n",
    "phrase=\"\"\n",
    "\n",
    "# FROM OPTIMISATION II - Table US1\n",
    "insides={\"Previous Nucleotide\": [\"A\",\"C\",\"G\",\"T\"], 0:[\"C\",\"G\",\"T\",\"A\"], 1:[\"T\",\"A\",\"C\",\"G\"], 2:[\"G\",\"T\",\"A\",\"C\"], 3:[\"AC\",\"CG\",\"GT\",\"TG\"]}\n",
    "\n",
    "cf=pd.DataFrame(insides)\n",
    "cf.index=cf[\"Previous Nucleotide\"]\n",
    "del cf[\"Previous Nucleotide\"]\n",
    "\n",
    "for index, digit in enumerate(code): \n",
    "    \n",
    "    if index==0:\n",
    "        prevNuc=\"A\"\n",
    "    \n",
    "    letter=lookRight(prevNuc,digit,cf)\n",
    "#     print(letter)\n",
    "    phrase=phrase+letter\n",
    "    prevNuc=letter[-1]       \n",
    "    \n",
    "#     print(prevNuc)\n",
    "    \n",
    "print(phrase)"
   ]
  },
  {
   "cell_type": "code",
   "execution_count": null,
   "metadata": {},
   "outputs": [],
   "source": []
  },
  {
   "cell_type": "markdown",
   "metadata": {},
   "source": [
    "# Read in 256 ASSCI Symbols"
   ]
  },
  {
   "cell_type": "code",
   "execution_count": 20,
   "metadata": {},
   "outputs": [
    {
     "name": "stdout",
     "output_type": "stream",
     "text": [
      "    Tern Code\n",
      "0          10\n",
      "1          11\n",
      "2          12\n",
      "3          13\n",
      "4          20\n",
      "..        ...\n",
      "251   0030023\n",
      "252   0030030\n",
      "253   0030031\n",
      "254   0030032\n",
      "255   0030033\n",
      "\n",
      "[256 rows x 1 columns]\n"
     ]
    }
   ],
   "source": [
    "codeList=pd.read_csv(\"Quart_CODEUPDATED_BOD.csv\", dtype=object,usecols=[0],skiprows=3)\n",
    "cL=codeList.dropna()\n",
    "cL.columns=[\"Tern Code\"]\n",
    "print(cL)"
   ]
  },
  {
   "cell_type": "code",
   "execution_count": 21,
   "metadata": {},
   "outputs": [
    {
     "name": "stdout",
     "output_type": "stream",
     "text": [
      "All good here\n"
     ]
    }
   ],
   "source": [
    "# SISO Cehck\n",
    "\n",
    "listInput=cL['Tern Code']\n",
    "a=len(listInput)\n",
    "b=set(listInput)\n",
    "\n",
    "if a != len(b):\n",
    "    print(\"SOMETHING WENT WRONG CHECK INPUT LIKELY REPEATED CODES\")\n",
    "    print(\"Input cells: \",a,\" Set size: \",len(b))\n",
    "else:\n",
    "    print(\"All good here\")"
   ]
  },
  {
   "cell_type": "markdown",
   "metadata": {},
   "source": [
    "# LOOP OVER THE TERN CODES FROM CSV"
   ]
  },
  {
   "cell_type": "code",
   "execution_count": 31,
   "metadata": {
    "scrolled": false
   },
   "outputs": [
    {
     "name": "stdout",
     "output_type": "stream",
     "text": [
      "['TA', 'TG', 'TC', 'TTG', 'GT', 'GC', 'GA', 'GGT', 'ACG', 'ACA', 'ACT', 'ACCG', 'CCGT', 'CCGC', 'CCGA', 'CCGGT', 'CATA', 'CATG', 'CATC', 'CATTG', 'CAGT', 'CAGC', 'CAGA', 'CAGGT', 'CAACG', 'CAACA', 'CAACT', 'CAACCG', 'CACAC', 'CACAT', 'CACAG', 'CACAAC', 'CACTA', 'CACTG', 'CACTC', 'CACTTG', 'CACCGT', 'CACCGC', 'CACCGA', 'CACCGGT', 'CACGTA', 'CACGTG', 'CACGTC', 'CACGTTG', 'CACGCG', 'CACGCA', 'CACGCT', 'CACGCCG', 'CACGAC', 'CACGAT', 'CACGAG', 'CACGAAC', 'CACGGTA', 'CACGGTG', 'CACGGTC', 'CACGGTTG', 'CTGT', 'CTGC', 'CTGA', 'CTGGT', 'CTCG', 'CTCA', 'CTCT', 'CTCCG', 'CTTGT', 'CTTGC', 'CTTGA', 'CTTGGT', 'CTATA', 'CTATG', 'CTATC', 'CTATTG', 'CTAGT', 'CTAGC', 'CTAGA', 'CTAGGT', 'CTAACG', 'CTAACA', 'CTAACT', 'CTAACCG', 'CTACGT', 'CTACGC', 'CTACGA', 'CTACGGT', 'CTACAC', 'CTACAT', 'CTACAG', 'CTACAAC', 'CTACTA', 'CTACTG', 'CTACTC', 'CTACTTG', 'CTACCGT', 'CTACCGC', 'CTACCGA', 'CTACCGGT', 'CGTGT', 'CGTGC', 'CGTGA', 'CGTGGT', 'CGTCG', 'CGTCA', 'CGTCT', 'CGTCCG', 'CGTTGT', 'CGTTGC', 'CGTTGA', 'CGTTGGT', 'CGTATA', 'CGTATG', 'CGTATC', 'CGTATTG', 'CGTAGT', 'CGTAGC', 'CGTAGA', 'CGTAGGT', 'CGTAACG', 'CGTAACA', 'CGTAACT', 'CGTAACCG', 'CGTACGT', 'CGTACGC', 'CGTACGA', 'CGTACGGT', 'CGTACAC', 'CGTACAT', 'CGTACAG', 'CGTACAAC', 'CGTACTA', 'CGTACTG', 'CGTACTC', 'CGTACTTG', 'CGTACCGT', 'CGTACCGC', 'CGTACCGA', 'CGTACCGGT', 'CGCAC', 'CGCAT', 'CGCAG', 'CGCAAC', 'CGCTA', 'CGCTG', 'CGCTC', 'CGCTTG', 'CGCCGT', 'CGCCGC', 'CGCCGA', 'CGCCGGT', 'CGCGCG', 'CGCGCA', 'CGCGCT', 'CGCGCCG', 'CGCGAC', 'CGCGAT', 'CGCGAG', 'CGCGAAC', 'CGCGGTA', 'CGCGGTG', 'CGCGGTC', 'CGCGGTTG', 'CGCGTAC', 'CGCGTAT', 'CGCGTAG', 'CGCGTAAC', 'CGCGTGT', 'CGCGTGC', 'CGCGTGA', 'CGCGTGGT', 'CGCGTCG', 'CGCGTCA', 'CGCGTCT', 'CGCGTCCG', 'CGCGTTGT', 'CGCGTTGC', 'CGCGTTGA', 'CGCGTTGGT', 'CGATA', 'CGATG', 'CGATC', 'CGATTG', 'CGAGT', 'CGAGC', 'CGAGA', 'CGAGGT', 'CGAACG', 'CGAACA', 'CGAACT', 'CGAACCG', 'CGACAC', 'CGACAT', 'CGACAG', 'CGACAAC', 'CGACTA', 'CGACTG', 'CGACTC', 'CGACTTG', 'CGACCGT', 'CGACCGC', 'CGACCGA', 'CGACCGGT', 'CGACGTA', 'CGACGTG', 'CGACGTC', 'CGACGTTG', 'CGACGCG', 'CGACGCA', 'CGACGCT', 'CGACGCCG', 'CGACGAC', 'CGACGAT', 'CGACGAG', 'CGACGAAC', 'CGACGGTA', 'CGACGGTG', 'CGACGGTC', 'CGACGGTTG', 'CGGTGT', 'CGGTGC', 'CGGTGA', 'CGGTGGT', 'CGGTCG', 'CGGTCA', 'CGGTCT', 'CGGTCCG', 'CGGTTGT', 'CGGTTGC', 'CGGTTGA', 'CGGTTGGT', 'CGGTATA', 'CGGTATG', 'CGGTATC', 'CGGTATTG', 'CGGTAGT', 'CGGTAGC', 'CGGTAGA', 'CGGTAGGT', 'CGGTAACG', 'CGGTAACA', 'CGGTAACT', 'CGGTAACCG', 'CGGTACGT', 'CGGTACGC', 'CGGTACGA', 'CGGTACGGT', 'CGGTACAC', 'CGGTACAT', 'CGGTACAG', 'CGGTACAAC', 'CGGTACTA', 'CGGTACTG', 'CGGTACTC', 'CGGTACTTG', 'CGGTACCGT', 'CGGTACCGC', 'CGGTACCGA', 'CGGTACCGGT']\n",
      "256\n",
      "256\n",
      "set()\n",
      "[0, 0, 0, 0, 0, 0, 0, 0, 0, 0, 0, 0, 0, 0, 0, 0, 0, 0, 0, 0, 0, 0, 0, 0, 0, 0, 0, 0, 0, 0, 0, 0, 0, 0, 0, 0, 0, 0, 0, 0, 0, 0, 0, 0, 0, 0, 0, 0, 0, 0, 0, 0, 0, 0, 0, 0, 0, 0, 0, 0, 0, 0, 0, 0, 0, 0, 0, 0, 0, 0, 0, 0, 0, 0, 0, 0, 0, 0, 0, 0, 0, 0, 0, 0, 0, 0, 0, 0, 0, 0, 0, 0, 0, 0, 0, 0, 0, 0, 0, 0, 0, 0, 0, 0, 0, 0, 0, 0, 0, 0, 0, 0, 0, 0, 0, 0, 0, 0, 0, 0, 0, 0, 0, 0, 0, 0, 0, 0, 0, 0, 0, 0, 0, 0, 0, 0, 0, 0, 0, 0, 0, 0, 0, 0, 0, 0, 0, 0, 0, 0, 0, 0, 0, 0, 0, 0, 0, 0, 0, 0, 0, 0, 0, 0, 0, 0, 0, 0, 0, 0, 0, 0, 0, 0, 0, 0, 0, 0, 0, 0, 0, 0, 0, 0, 0, 0, 0, 0, 0, 0, 0, 0, 0, 0, 0, 0, 0, 0, 0, 0, 0, 0, 0, 0, 0, 0, 0, 0, 0, 0, 0, 0, 0, 0, 0, 0, 0, 0, 0, 0, 0, 0, 0, 0, 0, 0, 0, 0, 0, 0, 0, 0, 0, 0, 0, 0, 0, 0, 0, 0, 0, 0, 0, 0, 0, 0, 0, 0, 0, 0, 0, 0, 0, 0, 0, 0]\n",
      "0\n"
     ]
    },
    {
     "data": {
      "text/html": [
       "<div>\n",
       "<style scoped>\n",
       "    .dataframe tbody tr th:only-of-type {\n",
       "        vertical-align: middle;\n",
       "    }\n",
       "\n",
       "    .dataframe tbody tr th {\n",
       "        vertical-align: top;\n",
       "    }\n",
       "\n",
       "    .dataframe thead th {\n",
       "        text-align: right;\n",
       "    }\n",
       "</style>\n",
       "<table border=\"1\" class=\"dataframe\">\n",
       "  <thead>\n",
       "    <tr style=\"text-align: right;\">\n",
       "      <th></th>\n",
       "      <th>0</th>\n",
       "      <th>1</th>\n",
       "      <th>2</th>\n",
       "      <th>3</th>\n",
       "    </tr>\n",
       "    <tr>\n",
       "      <th>Previous Nucleotide</th>\n",
       "      <th></th>\n",
       "      <th></th>\n",
       "      <th></th>\n",
       "      <th></th>\n",
       "    </tr>\n",
       "  </thead>\n",
       "  <tbody>\n",
       "    <tr>\n",
       "      <th>A</th>\n",
       "      <td>C</td>\n",
       "      <td>T</td>\n",
       "      <td>G</td>\n",
       "      <td>AC</td>\n",
       "    </tr>\n",
       "    <tr>\n",
       "      <th>C</th>\n",
       "      <td>G</td>\n",
       "      <td>A</td>\n",
       "      <td>T</td>\n",
       "      <td>CG</td>\n",
       "    </tr>\n",
       "    <tr>\n",
       "      <th>G</th>\n",
       "      <td>T</td>\n",
       "      <td>C</td>\n",
       "      <td>A</td>\n",
       "      <td>GT</td>\n",
       "    </tr>\n",
       "    <tr>\n",
       "      <th>T</th>\n",
       "      <td>A</td>\n",
       "      <td>G</td>\n",
       "      <td>C</td>\n",
       "      <td>TG</td>\n",
       "    </tr>\n",
       "  </tbody>\n",
       "</table>\n",
       "</div>"
      ],
      "text/plain": [
       "                     0  1  2   3\n",
       "Previous Nucleotide             \n",
       "A                    C  T  G  AC\n",
       "C                    G  A  T  CG\n",
       "G                    T  C  A  GT\n",
       "T                    A  G  C  TG"
      ]
     },
     "metadata": {},
     "output_type": "display_data"
    }
   ],
   "source": [
    "decodedList=[]\n",
    "stringCodes=[]\n",
    "noTripRepeatsList=[]\n",
    "\n",
    "# FROM OPTIMISATION II - Table US1\n",
    "insides={\"Previous Nucleotide\": [\"A\",\"C\",\"G\",\"T\"], 0:[\"C\",\"G\",\"T\",\"A\"], 1:[\"T\",\"A\",\"C\",\"G\"], 2:[\"G\",\"T\",\"A\",\"C\"], 3:[\"AC\",\"CG\",\"GT\",\"TG\"]}\n",
    "\n",
    "\n",
    "\n",
    "cf=pd.DataFrame(insides)\n",
    "cf.index=cf[\"Previous Nucleotide\"]\n",
    "del cf[\"Previous Nucleotide\"]\n",
    "\n",
    "for codes in cL.iloc[:,0]:\n",
    "    phrase=\"\"\n",
    "    stringCodes.append(codes)\n",
    "    lc=[int(i) for i in list(codes)]\n",
    "#     print(lc)\n",
    "    for index, digit in enumerate(lc): \n",
    "#         print(index)\n",
    "        if index==0:\n",
    "            prevNuc=cf.index[0]\n",
    "\n",
    "        letter=lookRight(prevNuc,digit,cf)\n",
    "        phrase=phrase+letter\n",
    "        prevNuc=letter[-1]  \n",
    "\n",
    "    decodedList.append(phrase)\n",
    "    noTripRepeatsList.append(noTripleRepeats(phrase))\n",
    "\n",
    "print(decodedList)\n",
    "print(len(decodedList))\n",
    "print(len(set(decodedList)))\n",
    "print(set([x for x in decodedList if decodedList.count(x) > 1]))\n",
    "print(noTripRepeatsList)\n",
    "print(sum(noTripRepeatsList))\n",
    "\n",
    "display(cf)"
   ]
  },
  {
   "cell_type": "code",
   "execution_count": 23,
   "metadata": {},
   "outputs": [
    {
     "data": {
      "text/html": [
       "<div>\n",
       "<style scoped>\n",
       "    .dataframe tbody tr th:only-of-type {\n",
       "        vertical-align: middle;\n",
       "    }\n",
       "\n",
       "    .dataframe tbody tr th {\n",
       "        vertical-align: top;\n",
       "    }\n",
       "\n",
       "    .dataframe thead th {\n",
       "        text-align: right;\n",
       "    }\n",
       "</style>\n",
       "<table border=\"1\" class=\"dataframe\">\n",
       "  <thead>\n",
       "    <tr style=\"text-align: right;\">\n",
       "      <th></th>\n",
       "      <th>Tern Code</th>\n",
       "      <th>Table US1</th>\n",
       "    </tr>\n",
       "  </thead>\n",
       "  <tbody>\n",
       "    <tr>\n",
       "      <th>0</th>\n",
       "      <td>10</td>\n",
       "      <td>TA</td>\n",
       "    </tr>\n",
       "    <tr>\n",
       "      <th>1</th>\n",
       "      <td>11</td>\n",
       "      <td>TG</td>\n",
       "    </tr>\n",
       "    <tr>\n",
       "      <th>2</th>\n",
       "      <td>12</td>\n",
       "      <td>TC</td>\n",
       "    </tr>\n",
       "    <tr>\n",
       "      <th>3</th>\n",
       "      <td>13</td>\n",
       "      <td>TTG</td>\n",
       "    </tr>\n",
       "    <tr>\n",
       "      <th>4</th>\n",
       "      <td>20</td>\n",
       "      <td>GT</td>\n",
       "    </tr>\n",
       "  </tbody>\n",
       "</table>\n",
       "</div>"
      ],
      "text/plain": [
       "  Tern Code Table US1\n",
       "0        10        TA\n",
       "1        11        TG\n",
       "2        12        TC\n",
       "3        13       TTG\n",
       "4        20        GT"
      ]
     },
     "metadata": {},
     "output_type": "display_data"
    },
    {
     "data": {
      "text/html": [
       "<div>\n",
       "<style scoped>\n",
       "    .dataframe tbody tr th:only-of-type {\n",
       "        vertical-align: middle;\n",
       "    }\n",
       "\n",
       "    .dataframe tbody tr th {\n",
       "        vertical-align: top;\n",
       "    }\n",
       "\n",
       "    .dataframe thead th {\n",
       "        text-align: right;\n",
       "    }\n",
       "</style>\n",
       "<table border=\"1\" class=\"dataframe\">\n",
       "  <thead>\n",
       "    <tr style=\"text-align: right;\">\n",
       "      <th></th>\n",
       "      <th>Tern Code</th>\n",
       "      <th>Table US1</th>\n",
       "    </tr>\n",
       "  </thead>\n",
       "  <tbody>\n",
       "    <tr>\n",
       "      <th>251</th>\n",
       "      <td>0030023</td>\n",
       "      <td>CGGTACTTG</td>\n",
       "    </tr>\n",
       "    <tr>\n",
       "      <th>252</th>\n",
       "      <td>0030030</td>\n",
       "      <td>CGGTACCGT</td>\n",
       "    </tr>\n",
       "    <tr>\n",
       "      <th>253</th>\n",
       "      <td>0030031</td>\n",
       "      <td>CGGTACCGC</td>\n",
       "    </tr>\n",
       "    <tr>\n",
       "      <th>254</th>\n",
       "      <td>0030032</td>\n",
       "      <td>CGGTACCGA</td>\n",
       "    </tr>\n",
       "    <tr>\n",
       "      <th>255</th>\n",
       "      <td>0030033</td>\n",
       "      <td>CGGTACCGGT</td>\n",
       "    </tr>\n",
       "  </tbody>\n",
       "</table>\n",
       "</div>"
      ],
      "text/plain": [
       "    Tern Code   Table US1\n",
       "251   0030023   CGGTACTTG\n",
       "252   0030030   CGGTACCGT\n",
       "253   0030031   CGGTACCGC\n",
       "254   0030032   CGGTACCGA\n",
       "255   0030033  CGGTACCGGT"
      ]
     },
     "metadata": {},
     "output_type": "display_data"
    }
   ],
   "source": [
    "# cL.insert(1,\"String Code\",stringCodes)\n",
    "cL.insert(1,\"Table US1\",decodedList)\n",
    "# cL.insert(3,\"Decoded: ATCG:0123\",decodedList)\n",
    "display(cL.head())\n",
    "display(cL.tail())"
   ]
  },
  {
   "cell_type": "markdown",
   "metadata": {},
   "source": [
    "# Output"
   ]
  },
  {
   "cell_type": "code",
   "execution_count": 24,
   "metadata": {},
   "outputs": [],
   "source": [
    "cLString=cL.astype(str)\n",
    "# display(cLString)\n",
    "cLString.to_csv(\"26012021_BC_Attempt9_TableUS1.bod\",encoding=\"utf-8\",index = True)"
   ]
  },
  {
   "cell_type": "code",
   "execution_count": null,
   "metadata": {},
   "outputs": [],
   "source": []
  }
 ],
 "metadata": {
  "kernelspec": {
   "display_name": "Python 3",
   "language": "python",
   "name": "python3"
  },
  "language_info": {
   "codemirror_mode": {
    "name": "ipython",
    "version": 3
   },
   "file_extension": ".py",
   "mimetype": "text/x-python",
   "name": "python",
   "nbconvert_exporter": "python",
   "pygments_lexer": "ipython3",
   "version": "3.6.10"
  }
 },
 "nbformat": 4,
 "nbformat_minor": 2
}
