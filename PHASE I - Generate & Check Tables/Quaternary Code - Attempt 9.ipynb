{
 "cells": [
  {
   "cell_type": "markdown",
   "metadata": {},
   "source": [
    "# Quaternary Coding"
   ]
  },
  {
   "cell_type": "code",
   "execution_count": 1,
   "metadata": {},
   "outputs": [],
   "source": [
    "# 9th Attempt - With No repeats\n",
    "import numpy as np\n",
    "import pandas as pd"
   ]
  },
  {
   "cell_type": "code",
   "execution_count": 2,
   "metadata": {},
   "outputs": [],
   "source": [
    "# Vikram initial rule\n",
    "def lookRight(prevNuc,digit,cf):\n",
    "    \n",
    "#     print(prevNuc,digit,cf)\n",
    "    \n",
    "    nextLetter=cf.loc[prevNuc,digit]\n",
    "    \n",
    "#     print(nextLetter)\n",
    "    \n",
    "#     if digit==3 and index>0:\n",
    "#         prevNuc=compNuc(prevNuc)\n",
    "#         nextLetter=cf.loc[prevNuc,digit]\n",
    "\n",
    "    return nextLetter\n"
   ]
  },
  {
   "cell_type": "code",
   "execution_count": 3,
   "metadata": {},
   "outputs": [],
   "source": [
    "def noTripleRepeats(code):\n",
    "    x=len(code)\n",
    "    for i,j in enumerate(code):\n",
    "        if i==(x-2) or x<=3:\n",
    "            break\n",
    "        initialLetter=j\n",
    "        secondLetter=code[i+1]\n",
    "        thirdLetter=code[i+2]\n",
    "#         print(initialLetter,secondLetter,thirdLetter)\n",
    "        if (initialLetter == secondLetter) and (secondLetter == thirdLetter):\n",
    "            return 1\n",
    "    return 0"
   ]
  },
  {
   "cell_type": "code",
   "execution_count": 4,
   "metadata": {},
   "outputs": [],
   "source": [
    "def noTripleRepeats(code): #This is actually for AA repeats\n",
    "    x=len(code)\n",
    "    for i,j in enumerate(code):\n",
    "        if i==(x-1) or x<=1:\n",
    "            break\n",
    "        initialLetter=j\n",
    "        secondLetter=code[i+1]\n",
    "        if (initialLetter == secondLetter):\n",
    "            return 1\n",
    "    return 0"
   ]
  },
  {
   "cell_type": "code",
   "execution_count": 5,
   "metadata": {},
   "outputs": [
    {
     "data": {
      "text/plain": [
       "1"
      ]
     },
     "execution_count": 5,
     "metadata": {},
     "output_type": "execute_result"
    }
   ],
   "source": [
    "noTripleRepeats(\"ATATATCC\")"
   ]
  },
  {
   "cell_type": "markdown",
   "metadata": {},
   "source": [
    "# Select appropriate table"
   ]
  },
  {
   "cell_type": "code",
   "execution_count": 6,
   "metadata": {},
   "outputs": [],
   "source": [
    "# insides={\"Previous Nucleotide\": [\"A\",\"C\",\"G\",\"T\"], 0:[\"C\",\"G\",\"T\",\"A\"], 1:[\"T\",\"A\",\"C\",\"G\"], 2:[\"G\",\"T\",\"A\",\"C\"], 3:[\"TGC\",\"GCT\",\"CAT\",\"ACG\"]}\n",
    "# Table1\n",
    "# insides={\"Previous Nucleotide\": [\"A\",\"C\",\"G\",\"T\"], 0:[\"C\",\"G\",\"T\",\"A\"], 1:[\"T\",\"A\",\"C\",\"G\"], 2:[\"G\",\"T\",\"A\",\"C\"], 3:[\"TG\",\"GC\",\"CA\",\"AT\"]}\n",
    "\n",
    "# # Table2\n",
    "# insides={\"Previous Nucleotide\": [\"A\",\"C\",\"G\",\"T\"], 0:[\"C\",\"G\",\"T\",\"A\"], 1:[\"T\",\"A\",\"C\",\"G\"], 2:[\"G\",\"T\",\"A\",\"C\"], 3:[\"GT\",\"TG\",\"AC\",\"CG\"]}\n",
    "\n",
    "# Table3\n",
    "insides={\"Previous Nucleotide\": [\"A\",\"C\",\"G\",\"T\"], 0:[\"C\",\"G\",\"T\",\"A\"], 1:[\"G\",\"T\",\"A\",\"C\"], 2:[\"T\",\"A\",\"C\",\"G\"], 3:[\"TGC\",\"GCT\",\"CAT\",\"ATG\"]}\n",
    "\n",
    "\n",
    "cf=pd.DataFrame(insides)\n",
    "cf.index=cf[\"Previous Nucleotide\"]\n",
    "del cf[\"Previous Nucleotide\"]"
   ]
  },
  {
   "cell_type": "code",
   "execution_count": 7,
   "metadata": {},
   "outputs": [
    {
     "data": {
      "text/html": [
       "<div>\n",
       "<style scoped>\n",
       "    .dataframe tbody tr th:only-of-type {\n",
       "        vertical-align: middle;\n",
       "    }\n",
       "\n",
       "    .dataframe tbody tr th {\n",
       "        vertical-align: top;\n",
       "    }\n",
       "\n",
       "    .dataframe thead th {\n",
       "        text-align: right;\n",
       "    }\n",
       "</style>\n",
       "<table border=\"1\" class=\"dataframe\">\n",
       "  <thead>\n",
       "    <tr style=\"text-align: right;\">\n",
       "      <th></th>\n",
       "      <th>0</th>\n",
       "      <th>1</th>\n",
       "      <th>2</th>\n",
       "      <th>3</th>\n",
       "    </tr>\n",
       "    <tr>\n",
       "      <th>Previous Nucleotide</th>\n",
       "      <th></th>\n",
       "      <th></th>\n",
       "      <th></th>\n",
       "      <th></th>\n",
       "    </tr>\n",
       "  </thead>\n",
       "  <tbody>\n",
       "    <tr>\n",
       "      <th>A</th>\n",
       "      <td>C</td>\n",
       "      <td>G</td>\n",
       "      <td>T</td>\n",
       "      <td>TGC</td>\n",
       "    </tr>\n",
       "    <tr>\n",
       "      <th>C</th>\n",
       "      <td>G</td>\n",
       "      <td>T</td>\n",
       "      <td>A</td>\n",
       "      <td>GCT</td>\n",
       "    </tr>\n",
       "    <tr>\n",
       "      <th>G</th>\n",
       "      <td>T</td>\n",
       "      <td>A</td>\n",
       "      <td>C</td>\n",
       "      <td>CAT</td>\n",
       "    </tr>\n",
       "    <tr>\n",
       "      <th>T</th>\n",
       "      <td>A</td>\n",
       "      <td>C</td>\n",
       "      <td>G</td>\n",
       "      <td>ATG</td>\n",
       "    </tr>\n",
       "  </tbody>\n",
       "</table>\n",
       "</div>"
      ],
      "text/plain": [
       "                     0  1  2    3\n",
       "Previous Nucleotide              \n",
       "A                    C  G  T  TGC\n",
       "C                    G  T  A  GCT\n",
       "G                    T  A  C  CAT\n",
       "T                    A  C  G  ATG"
      ]
     },
     "metadata": {},
     "output_type": "display_data"
    }
   ],
   "source": [
    "display(cf)"
   ]
  },
  {
   "cell_type": "markdown",
   "metadata": {},
   "source": [
    "# Individual Code Check"
   ]
  },
  {
   "cell_type": "code",
   "execution_count": 8,
   "metadata": {},
   "outputs": [
    {
     "name": "stdout",
     "output_type": "stream",
     "text": [
      "GCAC\n"
     ]
    }
   ],
   "source": [
    "code=[2,3,0]\n",
    "phrase=\"\"\n",
    "\n",
    "# Make up Insides\n",
    "insides={\"Previous Nucleotide\": [\"A\",\"C\",\"G\",\"T\"], 0:[\"C\",\"G\",\"T\",\"A\"], 1:[\"T\",\"A\",\"C\",\"G\"], 2:[\"G\",\"T\",\"A\",\"C\"], 3:[\"TG\",\"GC\",\"CA\",\"AT\"]}\n",
    "\n",
    "cf=pd.DataFrame(insides)\n",
    "cf.index=cf[\"Previous Nucleotide\"]\n",
    "del cf[\"Previous Nucleotide\"]\n",
    "\n",
    "for index, digit in enumerate(code): \n",
    "    \n",
    "    if index==0:\n",
    "        prevNuc=\"A\"\n",
    "    \n",
    "    letter=lookRight(prevNuc,digit,cf)\n",
    "#     print(letter)\n",
    "    phrase=phrase+letter\n",
    "    prevNuc=letter[-1]       \n",
    "    \n",
    "#     print(prevNuc)\n",
    "    \n",
    "print(phrase)"
   ]
  },
  {
   "cell_type": "code",
   "execution_count": null,
   "metadata": {},
   "outputs": [],
   "source": []
  },
  {
   "cell_type": "markdown",
   "metadata": {},
   "source": [
    "# Read in 256 ASSCI Symbols"
   ]
  },
  {
   "cell_type": "code",
   "execution_count": 9,
   "metadata": {},
   "outputs": [
    {
     "name": "stdout",
     "output_type": "stream",
     "text": [
      "    Tern Code\n",
      "0          10\n",
      "1          11\n",
      "2          12\n",
      "3          13\n",
      "4          20\n",
      "..        ...\n",
      "251   0030023\n",
      "252   0030030\n",
      "253   0030031\n",
      "254   0030032\n",
      "255   0030033\n",
      "\n",
      "[256 rows x 1 columns]\n"
     ]
    }
   ],
   "source": [
    "codeList=pd.read_csv(\"Quart_CODEUPDATED_BOD.csv\", dtype=object,usecols=[0],skiprows=3)\n",
    "cL=codeList.dropna()\n",
    "cL.columns=[\"Tern Code\"]\n",
    "print(cL)"
   ]
  },
  {
   "cell_type": "code",
   "execution_count": 19,
   "metadata": {},
   "outputs": [],
   "source": [
    "# for codes in cL.iloc[:,0]:\n",
    "#     print (list(codes))\n",
    "# print(len(cL.iloc[:,0]))"
   ]
  },
  {
   "cell_type": "markdown",
   "metadata": {},
   "source": [
    "# LOOP OVER THE TERN CODES FROM CSV"
   ]
  },
  {
   "cell_type": "code",
   "execution_count": 10,
   "metadata": {
    "scrolled": false
   },
   "outputs": [
    {
     "name": "stdout",
     "output_type": "stream",
     "text": [
      "['GT', 'GA', 'GC', 'GCC', 'TA', 'TC', 'TG', 'TCG', 'GGT', 'GGA', 'GGC', 'GGCC', 'CTTA', 'CTTC', 'CTTG', 'CTTCG', 'CTCG', 'CTCT', 'CTCA', 'CTCTT', 'CTGT', 'CTGA', 'CTGC', 'CTGCC', 'CTCGT', 'CTCGA', 'CTCGC', 'CTCGCC', 'CTAGT', 'CTAGA', 'CTAGC', 'CTAGCC', 'CTATA', 'CTATC', 'CTATG', 'CTATCG', 'CTAGGT', 'CTAGGA', 'CTAGGC', 'CTAGGCC', 'CTACGT', 'CTACGA', 'CTACGC', 'CTACGCC', 'CTACTA', 'CTACTC', 'CTACTG', 'CTACTCG', 'CTACAC', 'CTACAG', 'CTACAT', 'CTACAGG', 'CTACTTA', 'CTACTTC', 'CTACTTG', 'CTACTTCG', 'CAGT', 'CAGA', 'CAGC', 'CAGCC', 'CATA', 'CATC', 'CATG', 'CATCG', 'CAGGT', 'CAGGA', 'CAGGC', 'CAGGCC', 'CACTA', 'CACTC', 'CACTG', 'CACTCG', 'CACAC', 'CACAG', 'CACAT', 'CACAGG', 'CACTTA', 'CACTTC', 'CACTTG', 'CACTTCG', 'CACGTA', 'CACGTC', 'CACGTG', 'CACGTCG', 'CACGAC', 'CACGAG', 'CACGAT', 'CACGAGG', 'CACGCG', 'CACGCT', 'CACGCA', 'CACGCTT', 'CACGCCG', 'CACGCCT', 'CACGCCA', 'CACGCCTT', 'CGTCG', 'CGTCT', 'CGTCA', 'CGTCTT', 'CGTGT', 'CGTGA', 'CGTGC', 'CGTGCC', 'CGTCGT', 'CGTCGA', 'CGTCGC', 'CGTCGCC', 'CGTAGT', 'CGTAGA', 'CGTAGC', 'CGTAGCC', 'CGTATA', 'CGTATC', 'CGTATG', 'CGTATCG', 'CGTAGGT', 'CGTAGGA', 'CGTAGGC', 'CGTAGGCC', 'CGTACGT', 'CGTACGA', 'CGTACGC', 'CGTACGCC', 'CGTACTA', 'CGTACTC', 'CGTACTG', 'CGTACTCG', 'CGTACAC', 'CGTACAG', 'CGTACAT', 'CGTACAGG', 'CGTACTTA', 'CGTACTTC', 'CGTACTTG', 'CGTACTTCG', 'CGAGT', 'CGAGA', 'CGAGC', 'CGAGCC', 'CGATA', 'CGATC', 'CGATG', 'CGATCG', 'CGAGGT', 'CGAGGA', 'CGAGGC', 'CGAGGCC', 'CGACTA', 'CGACTC', 'CGACTG', 'CGACTCG', 'CGACAC', 'CGACAG', 'CGACAT', 'CGACAGG', 'CGACTTA', 'CGACTTC', 'CGACTTG', 'CGACTTCG', 'CGACGTA', 'CGACGTC', 'CGACGTG', 'CGACGTCG', 'CGACGAC', 'CGACGAG', 'CGACGAT', 'CGACGAGG', 'CGACGCG', 'CGACGCT', 'CGACGCA', 'CGACGCTT', 'CGACGCCG', 'CGACGCCT', 'CGACGCCA', 'CGACGCCTT', 'CGCTA', 'CGCTC', 'CGCTG', 'CGCTCG', 'CGCAC', 'CGCAG', 'CGCAT', 'CGCAGG', 'CGCTTA', 'CGCTTC', 'CGCTTG', 'CGCTTCG', 'CGCGAC', 'CGCGAG', 'CGCGAT', 'CGCGAGG', 'CGCGCG', 'CGCGCT', 'CGCGCA', 'CGCGCTT', 'CGCGCCG', 'CGCGCCT', 'CGCGCCA', 'CGCGCCTT', 'CGCGTAC', 'CGCGTAG', 'CGCGTAT', 'CGCGTAGG', 'CGCGTCG', 'CGCGTCT', 'CGCGTCA', 'CGCGTCTT', 'CGCGTGT', 'CGCGTGA', 'CGCGTGC', 'CGCGTGCC', 'CGCGTCGT', 'CGCGTCGA', 'CGCGTCGC', 'CGCGTCGCC', 'CGCCTA', 'CGCCTC', 'CGCCTG', 'CGCCTCG', 'CGCCAC', 'CGCCAG', 'CGCCAT', 'CGCCAGG', 'CGCCTTA', 'CGCCTTC', 'CGCCTTG', 'CGCCTTCG', 'CGCCGAC', 'CGCCGAG', 'CGCCGAT', 'CGCCGAGG', 'CGCCGCG', 'CGCCGCT', 'CGCCGCA', 'CGCCGCTT', 'CGCCGCCG', 'CGCCGCCT', 'CGCCGCCA', 'CGCCGCCTT', 'CGCCGTAC', 'CGCCGTAG', 'CGCCGTAT', 'CGCCGTAGG', 'CGCCGTCG', 'CGCCGTCT', 'CGCCGTCA', 'CGCCGTCTT', 'CGCCGTGT', 'CGCCGTGA', 'CGCCGTGC', 'CGCCGTGCC', 'CGCCGTCGT', 'CGCCGTCGA', 'CGCCGTCGC', 'CGCCGTCGCC']\n",
      "256\n",
      "256\n",
      "set()\n",
      "[0, 0, 0, 1, 0, 0, 0, 0, 1, 1, 1, 1, 1, 1, 1, 1, 0, 0, 0, 1, 0, 0, 0, 1, 0, 0, 0, 1, 0, 0, 0, 1, 0, 0, 0, 0, 1, 1, 1, 1, 0, 0, 0, 1, 0, 0, 0, 0, 0, 0, 0, 1, 1, 1, 1, 1, 0, 0, 0, 1, 0, 0, 0, 0, 1, 1, 1, 1, 0, 0, 0, 0, 0, 0, 0, 1, 1, 1, 1, 1, 0, 0, 0, 0, 0, 0, 0, 1, 0, 0, 0, 1, 1, 1, 1, 1, 0, 0, 0, 1, 0, 0, 0, 1, 0, 0, 0, 1, 0, 0, 0, 1, 0, 0, 0, 0, 1, 1, 1, 1, 0, 0, 0, 1, 0, 0, 0, 0, 0, 0, 0, 1, 1, 1, 1, 1, 0, 0, 0, 1, 0, 0, 0, 0, 1, 1, 1, 1, 0, 0, 0, 0, 0, 0, 0, 1, 1, 1, 1, 1, 0, 0, 0, 0, 0, 0, 0, 1, 0, 0, 0, 1, 1, 1, 1, 1, 0, 0, 0, 0, 0, 0, 0, 1, 1, 1, 1, 1, 0, 0, 0, 1, 0, 0, 0, 1, 1, 1, 1, 1, 0, 0, 0, 1, 0, 0, 0, 1, 0, 0, 0, 1, 0, 0, 0, 1, 1, 1, 1, 1, 1, 1, 1, 1, 1, 1, 1, 1, 1, 1, 1, 1, 1, 1, 1, 1, 1, 1, 1, 1, 1, 1, 1, 1, 1, 1, 1, 1, 1, 1, 1, 1, 1, 1, 1, 1]\n",
      "124\n"
     ]
    }
   ],
   "source": [
    "decodedList=[]\n",
    "stringCodes=[]\n",
    "noTripRepeatsList=[]\n",
    "\n",
    "\n",
    "# Table 1\n",
    "insides={\"Previous Nucleotide\": [\"A\",\"C\",\"G\",\"T\"], 0:[\"C\",\"G\",\"T\",\"A\"], 1:[\"G\",\"T\",\"A\",\"C\"], 2:[\"T\",\"A\",\"C\",\"G\"], 3:[\"GG\",\"TT\",\"CC\",\"CG\"]}\n",
    "\n",
    "# Table 2\n",
    "# insides={\"Previous Nucleotide\": [\"A\",\"C\",\"G\",\"T\"], 0:[\"C\",\"G\",\"T\",\"A\"], 1:[\"G\",\"T\",\"A\",\"C\"], 2:[\"T\",\"A\",\"C\",\"G\"], 3:[\"TGC\",\"GCT\",\"CAT\",\"ATG\"]}\n",
    "\n",
    "# Table 3\n",
    "# insides={\"Previous Nucleotide\": [\"A\",\"C\",\"G\",\"T\"], 0:[\"C\",\"G\",\"T\",\"A\"], 1:[\"G\",\"T\",\"A\",\"C\"], 2:[\"T\",\"A\",\"C\",\"G\"], 3:[\"CGT\",\"GAT\",\"ACT\",\"CCA\"]}\n",
    "\n",
    "\n",
    "\n",
    "cf=pd.DataFrame(insides)\n",
    "cf.index=cf[\"Previous Nucleotide\"]\n",
    "del cf[\"Previous Nucleotide\"]\n",
    "\n",
    "for codes in cL.iloc[:,0]:\n",
    "    phrase=\"\"\n",
    "    stringCodes.append(codes)\n",
    "    lc=[int(i) for i in list(codes)]\n",
    "#     print(lc)\n",
    "    for index, digit in enumerate(lc): \n",
    "#         print(index)\n",
    "        if index==0:\n",
    "            prevNuc=\"A\"\n",
    "\n",
    "        letter=lookRight(prevNuc,digit,cf)\n",
    "        phrase=phrase+letter\n",
    "        prevNuc=letter[-1]  \n",
    "\n",
    "    decodedList.append(phrase)\n",
    "    noTripRepeatsList.append(noTripleRepeats(phrase))\n",
    "\n",
    "print(decodedList)\n",
    "print(len(decodedList))\n",
    "print(len(set(decodedList)))\n",
    "print(set([x for x in decodedList if decodedList.count(x) > 1]))\n",
    "print(noTripRepeatsList)\n",
    "print(sum(noTripRepeatsList))\n",
    "\n",
    "# print(stringCodes)"
   ]
  },
  {
   "cell_type": "code",
   "execution_count": 12,
   "metadata": {},
   "outputs": [
    {
     "data": {
      "text/html": [
       "<div>\n",
       "<style scoped>\n",
       "    .dataframe tbody tr th:only-of-type {\n",
       "        vertical-align: middle;\n",
       "    }\n",
       "\n",
       "    .dataframe tbody tr th {\n",
       "        vertical-align: top;\n",
       "    }\n",
       "\n",
       "    .dataframe thead th {\n",
       "        text-align: right;\n",
       "    }\n",
       "</style>\n",
       "<table border=\"1\" class=\"dataframe\">\n",
       "  <thead>\n",
       "    <tr style=\"text-align: right;\">\n",
       "      <th></th>\n",
       "      <th>Tern Code</th>\n",
       "      <th>Table 1 - 9th Attempt</th>\n",
       "    </tr>\n",
       "  </thead>\n",
       "  <tbody>\n",
       "    <tr>\n",
       "      <th>0</th>\n",
       "      <td>10</td>\n",
       "      <td>GT</td>\n",
       "    </tr>\n",
       "    <tr>\n",
       "      <th>1</th>\n",
       "      <td>11</td>\n",
       "      <td>GA</td>\n",
       "    </tr>\n",
       "    <tr>\n",
       "      <th>2</th>\n",
       "      <td>12</td>\n",
       "      <td>GC</td>\n",
       "    </tr>\n",
       "    <tr>\n",
       "      <th>3</th>\n",
       "      <td>13</td>\n",
       "      <td>GCC</td>\n",
       "    </tr>\n",
       "    <tr>\n",
       "      <th>4</th>\n",
       "      <td>20</td>\n",
       "      <td>TA</td>\n",
       "    </tr>\n",
       "  </tbody>\n",
       "</table>\n",
       "</div>"
      ],
      "text/plain": [
       "  Tern Code Table 1 - 9th Attempt\n",
       "0        10                    GT\n",
       "1        11                    GA\n",
       "2        12                    GC\n",
       "3        13                   GCC\n",
       "4        20                    TA"
      ]
     },
     "metadata": {},
     "output_type": "display_data"
    },
    {
     "data": {
      "text/html": [
       "<div>\n",
       "<style scoped>\n",
       "    .dataframe tbody tr th:only-of-type {\n",
       "        vertical-align: middle;\n",
       "    }\n",
       "\n",
       "    .dataframe tbody tr th {\n",
       "        vertical-align: top;\n",
       "    }\n",
       "\n",
       "    .dataframe thead th {\n",
       "        text-align: right;\n",
       "    }\n",
       "</style>\n",
       "<table border=\"1\" class=\"dataframe\">\n",
       "  <thead>\n",
       "    <tr style=\"text-align: right;\">\n",
       "      <th></th>\n",
       "      <th>Tern Code</th>\n",
       "      <th>Table 1 - 9th Attempt</th>\n",
       "    </tr>\n",
       "  </thead>\n",
       "  <tbody>\n",
       "    <tr>\n",
       "      <th>251</th>\n",
       "      <td>0030023</td>\n",
       "      <td>CGCCGTGCC</td>\n",
       "    </tr>\n",
       "    <tr>\n",
       "      <th>252</th>\n",
       "      <td>0030030</td>\n",
       "      <td>CGCCGTCGT</td>\n",
       "    </tr>\n",
       "    <tr>\n",
       "      <th>253</th>\n",
       "      <td>0030031</td>\n",
       "      <td>CGCCGTCGA</td>\n",
       "    </tr>\n",
       "    <tr>\n",
       "      <th>254</th>\n",
       "      <td>0030032</td>\n",
       "      <td>CGCCGTCGC</td>\n",
       "    </tr>\n",
       "    <tr>\n",
       "      <th>255</th>\n",
       "      <td>0030033</td>\n",
       "      <td>CGCCGTCGCC</td>\n",
       "    </tr>\n",
       "  </tbody>\n",
       "</table>\n",
       "</div>"
      ],
      "text/plain": [
       "    Tern Code Table 1 - 9th Attempt\n",
       "251   0030023             CGCCGTGCC\n",
       "252   0030030             CGCCGTCGT\n",
       "253   0030031             CGCCGTCGA\n",
       "254   0030032             CGCCGTCGC\n",
       "255   0030033            CGCCGTCGCC"
      ]
     },
     "metadata": {},
     "output_type": "display_data"
    }
   ],
   "source": [
    "# cL.insert(1,\"String Code\",stringCodes)\n",
    "cL.insert(1,\"Table 1 - 9th Attempt\",decodedList)\n",
    "# cL.insert(3,\"Decoded: ATCG:0123\",decodedList)\n",
    "display(cL.head())\n",
    "display(cL.tail())"
   ]
  },
  {
   "cell_type": "code",
   "execution_count": 245,
   "metadata": {},
   "outputs": [],
   "source": [
    "cL=cL.drop(['Python from Table5:'], axis=1)"
   ]
  },
  {
   "cell_type": "markdown",
   "metadata": {},
   "source": [
    "# Output"
   ]
  },
  {
   "cell_type": "code",
   "execution_count": 13,
   "metadata": {},
   "outputs": [],
   "source": [
    "cLString=cL.astype(str)\n",
    "# display(cLString)\n",
    "cLString.to_csv(\"210119_Table1_9thAttempt.bod\",encoding=\"utf-8\",index = True)"
   ]
  },
  {
   "cell_type": "code",
   "execution_count": null,
   "metadata": {},
   "outputs": [],
   "source": []
  },
  {
   "cell_type": "code",
   "execution_count": null,
   "metadata": {},
   "outputs": [],
   "source": []
  },
  {
   "cell_type": "code",
   "execution_count": null,
   "metadata": {},
   "outputs": [],
   "source": []
  },
  {
   "cell_type": "code",
   "execution_count": null,
   "metadata": {},
   "outputs": [],
   "source": []
  },
  {
   "cell_type": "markdown",
   "metadata": {},
   "source": [
    "# Table Optimisation II"
   ]
  },
  {
   "cell_type": "code",
   "execution_count": null,
   "metadata": {},
   "outputs": [],
   "source": [
    "def correspondString(input):\n",
    "# Email 03/06/2020\n",
    "    if input==\"A\":\n",
    "        output=[\"C\",\"G\",\"T\",\"A\"]\n",
    "    elif input==\"B\":\n",
    "        output=[\"T\",\"A\",\"C\",\"G\"]\n",
    "    elif input==\"C\":\n",
    "        output=[\"G\",\"T\",\"A\",\"C\"]\n",
    "    elif input ==\"D\":\n",
    "        output=[\"CTG\",\"TAG\",\"CTA\",\"GCA\"]\n",
    "        \n",
    "    return output"
   ]
  },
  {
   "cell_type": "code",
   "execution_count": null,
   "metadata": {},
   "outputs": [],
   "source": [
    "def tableMaker(PN,A,B,C,D):\n",
    "    \n",
    "    A=correspondString(str(A))\n",
    "    B=correspondString(str(B))\n",
    "    C=correspondString(str(C))\n",
    "    D=correspondString(str(D))\n",
    "    \n",
    "    insides1={\"Previous Nucleotide\": PN, 0:A, 1:B, 2:C, 3:D}\n",
    "    cf=pd.DataFrame(insides1)\n",
    "    cf.index=cf[\"Previous Nucleotide\"]\n",
    "    del cf[\"Previous Nucleotide\"]\n",
    "    return cf"
   ]
  },
  {
   "cell_type": "code",
   "execution_count": null,
   "metadata": {},
   "outputs": [],
   "source": [
    "def mainBrain(code,cf):\n",
    "    phrase=\"\"\n",
    "    for index, digit in enumerate(code):  \n",
    "\n",
    "        if index==0:\n",
    "            prevNuc=\"A\"\n",
    "\n",
    "        letter=lookRight(prevNuc,digit,cf)\n",
    "        phrase=phrase+letter\n",
    "        prevNuc=letter[-1]\n",
    "\n",
    "\n",
    "    return(phrase)"
   ]
  },
  {
   "cell_type": "code",
   "execution_count": null,
   "metadata": {},
   "outputs": [],
   "source": []
  },
  {
   "cell_type": "code",
   "execution_count": null,
   "metadata": {},
   "outputs": [],
   "source": []
  },
  {
   "cell_type": "markdown",
   "metadata": {},
   "source": [
    "# Optimisation Function II"
   ]
  },
  {
   "cell_type": "code",
   "execution_count": null,
   "metadata": {},
   "outputs": [],
   "source": [
    "%%time\n",
    "\n",
    "import itertools\n",
    "d={}\n",
    "u={}\n",
    "PN=['A', 'C', 'G', 'T']\n",
    "\n",
    "for valuesY in list(itertools.permutations(PN)):\n",
    "\n",
    "#     for valuesX in list(itertools.permutations([\"A\",\"B\",\"C\",\"D\"])):\n",
    "    for valuesX in list(itertools.permutations([\"A\",\"B\",\"C\",\"D\"])):\n",
    "        cf=tableMaker(valuesY,valuesX[0],valuesX[1],valuesX[2],valuesX[3])\n",
    "\n",
    "        decodedList=[]\n",
    "        uniqueList=[]\n",
    "        stringCodes=[]\n",
    "        for codes in cL.iloc[:,0]:\n",
    "            stringCodes.append(codes)\n",
    "            lc=[int(i) for i in list(codes)]\n",
    "            decodedList.append(mainBrain(lc,cf))\n",
    "            d[str(valuesY)+\"___\"+str(valuesX)]=len(set(decodedList))\n",
    "            uniqueList.append(noTripleRepeats(mainBrain(lc,cf)))\n",
    "            u[str(valuesY)+\"___\"+str(valuesX)]=sum(uniqueList)\n",
    "\n",
    "for i in d:\n",
    "    if d[i]==256:\n",
    "    \n",
    "        print (str(i)+\": \"+str(d[i])+\": \"+str(u[i]))\n",
    "#     print (str(i)+\": \"+str(d[i])+\": \")"
   ]
  },
  {
   "cell_type": "code",
   "execution_count": null,
   "metadata": {},
   "outputs": [],
   "source": []
  },
  {
   "cell_type": "code",
   "execution_count": null,
   "metadata": {},
   "outputs": [],
   "source": []
  },
  {
   "cell_type": "code",
   "execution_count": 128,
   "metadata": {},
   "outputs": [
    {
     "name": "stdout",
     "output_type": "stream",
     "text": [
      "Next Value\n",
      "0\n",
      "('C', 'T', 'G')\n",
      "('C', 'G', 'T')\n",
      "('T', 'C', 'G')\n",
      "('T', 'G', 'C')\n",
      "('G', 'C', 'T')\n",
      "('G', 'T', 'C')\n",
      "Next Value\n",
      "1\n",
      "('T', 'A', 'G')\n",
      "('T', 'G', 'A')\n",
      "('A', 'T', 'G')\n",
      "('A', 'G', 'T')\n",
      "('G', 'T', 'A')\n",
      "('G', 'A', 'T')\n",
      "Next Value\n",
      "2\n",
      "('C', 'T', 'A')\n",
      "('C', 'A', 'T')\n",
      "('T', 'C', 'A')\n",
      "('T', 'A', 'C')\n",
      "('A', 'C', 'T')\n",
      "('A', 'T', 'C')\n",
      "Next Value\n",
      "3\n",
      "('G', 'C', 'A')\n",
      "('G', 'A', 'C')\n",
      "('C', 'G', 'A')\n",
      "('C', 'A', 'G')\n",
      "('A', 'G', 'C')\n",
      "('A', 'C', 'G')\n"
     ]
    }
   ],
   "source": [
    "y=[\"CTG\",\"TAG\",\"CTA\",\"GCA\"]\n",
    "\n",
    "for number,valueIn in enumerate(y):\n",
    "#     k = [x for y in valueIn]\n",
    "    print(\"Next Value\")\n",
    "    print(number)\n",
    "    for valueInside in list (itertools.permutations(valueIn)):\n",
    "        print(valueInside)\n",
    "        "
   ]
  },
  {
   "cell_type": "code",
   "execution_count": null,
   "metadata": {},
   "outputs": [],
   "source": []
  },
  {
   "cell_type": "code",
   "execution_count": null,
   "metadata": {},
   "outputs": [],
   "source": []
  },
  {
   "cell_type": "code",
   "execution_count": null,
   "metadata": {},
   "outputs": [],
   "source": []
  },
  {
   "cell_type": "code",
   "execution_count": null,
   "metadata": {},
   "outputs": [],
   "source": []
  },
  {
   "cell_type": "code",
   "execution_count": null,
   "metadata": {},
   "outputs": [],
   "source": []
  },
  {
   "cell_type": "markdown",
   "metadata": {},
   "source": [
    "# Table Optimisation"
   ]
  },
  {
   "cell_type": "code",
   "execution_count": 32,
   "metadata": {},
   "outputs": [],
   "source": [
    "\n",
    "A=[\"C\",\"G\",\"T\",\"A\"]\n",
    "B=[\"T\",\"A\",\"C\",\"G\"]\n",
    "C=[\"G\",\"T\",\"A\",\"C\"]\n",
    "D=[\"TG\",\"GC\",\"CA\",\"AT\"]\n",
    "PN=['A', 'C', 'G', 'T']\n",
    "\n",
    "# [\"TGC\",\"GCA\",\"CAT\",\"ATG\"]\n"
   ]
  },
  {
   "cell_type": "code",
   "execution_count": 22,
   "metadata": {},
   "outputs": [],
   "source": [
    "def tableMaker(PN,A,B,C,D):\n",
    "    \n",
    "    A=correspondString(str(A))\n",
    "    B=correspondString(str(B))\n",
    "    C=correspondString(str(C))\n",
    "    D=correspondString(str(D))\n",
    "    \n",
    "    insides1={\"Previous Nucleotide\": PN, 0:A, 1:B, 2:C, 3:D}\n",
    "    cf=pd.DataFrame(insides1)\n",
    "    cf.index=cf[\"Previous Nucleotide\"]\n",
    "    del cf[\"Previous Nucleotide\"]\n",
    "    return cf"
   ]
  },
  {
   "cell_type": "markdown",
   "metadata": {},
   "source": [
    "# Process Brains Function"
   ]
  },
  {
   "cell_type": "code",
   "execution_count": 23,
   "metadata": {},
   "outputs": [],
   "source": [
    "def mainBrain(code,cf):\n",
    "    phrase=\"\"\n",
    "    for index, digit in enumerate(code):  \n",
    "\n",
    "        if index==0:\n",
    "            prevNuc=\"A\"\n",
    "\n",
    "        letter=lookRight(prevNuc,digit,cf)\n",
    "        phrase=phrase+letter\n",
    "        prevNuc=letter[-1]\n",
    "\n",
    "\n",
    "    return(phrase)"
   ]
  },
  {
   "cell_type": "code",
   "execution_count": null,
   "metadata": {},
   "outputs": [],
   "source": []
  },
  {
   "cell_type": "code",
   "execution_count": null,
   "metadata": {},
   "outputs": [],
   "source": []
  },
  {
   "cell_type": "code",
   "execution_count": 24,
   "metadata": {},
   "outputs": [],
   "source": [
    "def correspondString(input):\n",
    "# Email 03/06/2020\n",
    "    if input==\"A\":\n",
    "        output=[\"C\",\"G\",\"T\",\"A\"]\n",
    "    elif input==\"B\":\n",
    "        output=[\"T\",\"A\",\"C\",\"G\"]\n",
    "    elif input==\"C\":\n",
    "        output=[\"G\",\"T\",\"A\",\"C\"]\n",
    "    elif input ==\"D\":\n",
    "        output=[\"TGC\",\"GCT\",\"CAT\",\"ATG\"]\n",
    "#           output=[\"CG\",\"AT\",\"TA\",\"GA\"]  \n",
    "\n",
    "    return output"
   ]
  },
  {
   "cell_type": "markdown",
   "metadata": {},
   "source": [
    "# Optimisation Function"
   ]
  },
  {
   "cell_type": "code",
   "execution_count": 25,
   "metadata": {},
   "outputs": [
    {
     "name": "stdout",
     "output_type": "stream",
     "text": [
      "('A', 'C', 'T', 'G')___('D', 'B', 'C', 'A'): 256: 98\n",
      "('A', 'C', 'T', 'G')___('D', 'C', 'B', 'A'): 256: 98\n",
      "('A', 'G', 'C', 'T')___('A', 'B', 'C', 'D'): 256: 168\n",
      "('A', 'G', 'C', 'T')___('A', 'B', 'D', 'C'): 256: 186\n",
      "('A', 'G', 'C', 'T')___('A', 'C', 'B', 'D'): 256: 168\n",
      "('A', 'G', 'C', 'T')___('A', 'C', 'D', 'B'): 256: 168\n",
      "('A', 'G', 'C', 'T')___('A', 'D', 'B', 'C'): 256: 186\n",
      "('A', 'G', 'C', 'T')___('A', 'D', 'C', 'B'): 256: 168\n",
      "('A', 'G', 'C', 'T')___('B', 'A', 'C', 'D'): 256: 174\n",
      "('A', 'G', 'C', 'T')___('B', 'C', 'A', 'D'): 256: 174\n",
      "('A', 'G', 'C', 'T')___('B', 'C', 'D', 'A'): 256: 174\n",
      "('A', 'G', 'C', 'T')___('B', 'D', 'C', 'A'): 256: 174\n",
      "('A', 'G', 'C', 'T')___('C', 'A', 'B', 'D'): 256: 144\n",
      "('A', 'G', 'C', 'T')___('C', 'A', 'D', 'B'): 256: 162\n",
      "('A', 'G', 'C', 'T')___('C', 'B', 'A', 'D'): 256: 144\n",
      "('A', 'G', 'C', 'T')___('C', 'B', 'D', 'A'): 256: 144\n",
      "('A', 'G', 'C', 'T')___('C', 'D', 'A', 'B'): 256: 162\n",
      "('A', 'G', 'C', 'T')___('C', 'D', 'B', 'A'): 256: 144\n",
      "('A', 'G', 'C', 'T')___('D', 'A', 'B', 'C'): 256: 228\n",
      "('A', 'G', 'C', 'T')___('D', 'A', 'C', 'B'): 256: 216\n",
      "('A', 'G', 'C', 'T')___('D', 'B', 'A', 'C'): 256: 228\n",
      "('A', 'G', 'C', 'T')___('D', 'B', 'C', 'A'): 256: 228\n",
      "('A', 'G', 'C', 'T')___('D', 'C', 'A', 'B'): 256: 216\n",
      "('A', 'G', 'C', 'T')___('D', 'C', 'B', 'A'): 256: 228\n",
      "('A', 'G', 'T', 'C')___('A', 'B', 'C', 'D'): 256: 182\n",
      "('A', 'G', 'T', 'C')___('A', 'B', 'D', 'C'): 256: 177\n",
      "('A', 'G', 'T', 'C')___('A', 'C', 'B', 'D'): 256: 182\n",
      "('A', 'G', 'T', 'C')___('A', 'C', 'D', 'B'): 256: 182\n",
      "('A', 'G', 'T', 'C')___('A', 'D', 'B', 'C'): 256: 177\n",
      "('A', 'G', 'T', 'C')___('A', 'D', 'C', 'B'): 256: 182\n",
      "('A', 'G', 'T', 'C')___('C', 'A', 'B', 'D'): 256: 171\n",
      "('A', 'G', 'T', 'C')___('C', 'A', 'D', 'B'): 256: 190\n",
      "('A', 'G', 'T', 'C')___('C', 'B', 'A', 'D'): 256: 171\n",
      "('A', 'G', 'T', 'C')___('C', 'B', 'D', 'A'): 256: 171\n",
      "('A', 'G', 'T', 'C')___('C', 'D', 'A', 'B'): 256: 190\n",
      "('A', 'G', 'T', 'C')___('C', 'D', 'B', 'A'): 256: 171\n",
      "('A', 'G', 'T', 'C')___('D', 'A', 'B', 'C'): 256: 175\n",
      "('A', 'G', 'T', 'C')___('D', 'A', 'C', 'B'): 256: 180\n",
      "('A', 'G', 'T', 'C')___('D', 'B', 'A', 'C'): 256: 175\n",
      "('A', 'G', 'T', 'C')___('D', 'B', 'C', 'A'): 256: 192\n",
      "('A', 'G', 'T', 'C')___('D', 'C', 'A', 'B'): 256: 180\n",
      "('A', 'G', 'T', 'C')___('D', 'C', 'B', 'A'): 256: 192\n",
      "('C', 'A', 'G', 'T')___('A', 'C', 'D', 'B'): 256: 68\n",
      "('C', 'A', 'G', 'T')___('A', 'D', 'C', 'B'): 256: 68\n",
      "('C', 'A', 'G', 'T')___('C', 'A', 'D', 'B'): 256: 83\n",
      "('C', 'A', 'G', 'T')___('C', 'B', 'D', 'A'): 256: 81\n",
      "('C', 'A', 'G', 'T')___('C', 'D', 'A', 'B'): 256: 83\n",
      "('C', 'A', 'G', 'T')___('C', 'D', 'B', 'A'): 256: 81\n",
      "('C', 'A', 'G', 'T')___('D', 'A', 'B', 'C'): 256: 49\n",
      "('C', 'A', 'G', 'T')___('D', 'A', 'C', 'B'): 256: 55\n",
      "('C', 'A', 'G', 'T')___('D', 'B', 'A', 'C'): 256: 49\n",
      "('C', 'A', 'G', 'T')___('D', 'B', 'C', 'A'): 256: 54\n",
      "('C', 'A', 'G', 'T')___('D', 'C', 'A', 'B'): 256: 55\n",
      "('C', 'A', 'G', 'T')___('D', 'C', 'B', 'A'): 256: 54\n",
      "('C', 'A', 'T', 'G')___('A', 'B', 'D', 'C'): 256: 184\n",
      "('C', 'A', 'T', 'G')___('A', 'D', 'B', 'C'): 256: 184\n",
      "('C', 'A', 'T', 'G')___('B', 'A', 'C', 'D'): 256: 214\n",
      "('C', 'A', 'T', 'G')___('B', 'A', 'D', 'C'): 256: 214\n",
      "('C', 'A', 'T', 'G')___('B', 'C', 'A', 'D'): 256: 214\n",
      "('C', 'A', 'T', 'G')___('B', 'C', 'D', 'A'): 256: 202\n",
      "('C', 'A', 'T', 'G')___('B', 'D', 'A', 'C'): 256: 214\n",
      "('C', 'A', 'T', 'G')___('B', 'D', 'C', 'A'): 256: 202\n",
      "('C', 'A', 'T', 'G')___('C', 'A', 'B', 'D'): 256: 160\n",
      "('C', 'A', 'T', 'G')___('C', 'A', 'D', 'B'): 256: 160\n",
      "('C', 'A', 'T', 'G')___('C', 'B', 'A', 'D'): 256: 160\n",
      "('C', 'A', 'T', 'G')___('C', 'B', 'D', 'A'): 256: 142\n",
      "('C', 'A', 'T', 'G')___('C', 'D', 'A', 'B'): 256: 160\n",
      "('C', 'A', 'T', 'G')___('C', 'D', 'B', 'A'): 256: 142\n",
      "('C', 'A', 'T', 'G')___('D', 'A', 'B', 'C'): 256: 160\n",
      "('C', 'A', 'T', 'G')___('D', 'A', 'C', 'B'): 256: 160\n",
      "('C', 'A', 'T', 'G')___('D', 'B', 'A', 'C'): 256: 160\n",
      "('C', 'A', 'T', 'G')___('D', 'B', 'C', 'A'): 256: 142\n",
      "('C', 'A', 'T', 'G')___('D', 'C', 'A', 'B'): 256: 160\n",
      "('C', 'A', 'T', 'G')___('D', 'C', 'B', 'A'): 256: 142\n",
      "('C', 'G', 'A', 'T')___('B', 'A', 'C', 'D'): 256: 136\n",
      "('C', 'G', 'A', 'T')___('B', 'A', 'D', 'C'): 256: 138\n",
      "('C', 'G', 'A', 'T')___('B', 'C', 'A', 'D'): 256: 136\n",
      "('C', 'G', 'A', 'T')___('B', 'C', 'D', 'A'): 256: 119\n",
      "('C', 'G', 'A', 'T')___('B', 'D', 'A', 'C'): 256: 138\n",
      "('C', 'G', 'A', 'T')___('B', 'D', 'C', 'A'): 256: 119\n",
      "('C', 'G', 'A', 'T')___('C', 'A', 'B', 'D'): 256: 200\n",
      "('C', 'G', 'A', 'T')___('C', 'A', 'D', 'B'): 256: 200\n",
      "('C', 'G', 'A', 'T')___('C', 'B', 'A', 'D'): 256: 200\n",
      "('C', 'G', 'A', 'T')___('C', 'B', 'D', 'A'): 256: 200\n",
      "('C', 'G', 'A', 'T')___('C', 'D', 'A', 'B'): 256: 200\n",
      "('C', 'G', 'A', 'T')___('C', 'D', 'B', 'A'): 256: 200\n",
      "('C', 'G', 'A', 'T')___('D', 'A', 'B', 'C'): 256: 177\n",
      "('C', 'G', 'A', 'T')___('D', 'A', 'C', 'B'): 256: 164\n",
      "('C', 'G', 'A', 'T')___('D', 'B', 'A', 'C'): 256: 177\n",
      "('C', 'G', 'A', 'T')___('D', 'B', 'C', 'A'): 256: 178\n",
      "('C', 'G', 'A', 'T')___('D', 'C', 'A', 'B'): 256: 164\n",
      "('C', 'G', 'A', 'T')___('D', 'C', 'B', 'A'): 256: 178\n",
      "('C', 'G', 'T', 'A')___('A', 'B', 'C', 'D'): 256: 236\n",
      "('C', 'G', 'T', 'A')___('A', 'B', 'D', 'C'): 256: 241\n",
      "('C', 'G', 'T', 'A')___('A', 'C', 'B', 'D'): 256: 236\n",
      "('C', 'G', 'T', 'A')___('A', 'C', 'D', 'B'): 256: 239\n",
      "('C', 'G', 'T', 'A')___('A', 'D', 'B', 'C'): 256: 241\n",
      "('C', 'G', 'T', 'A')___('A', 'D', 'C', 'B'): 256: 239\n",
      "('C', 'G', 'T', 'A')___('B', 'A', 'C', 'D'): 256: 202\n",
      "('C', 'G', 'T', 'A')___('B', 'A', 'D', 'C'): 256: 217\n",
      "('C', 'G', 'T', 'A')___('B', 'C', 'A', 'D'): 256: 202\n",
      "('C', 'G', 'T', 'A')___('B', 'C', 'D', 'A'): 256: 202\n",
      "('C', 'G', 'T', 'A')___('B', 'D', 'A', 'C'): 256: 217\n",
      "('C', 'G', 'T', 'A')___('B', 'D', 'C', 'A'): 256: 202\n",
      "('C', 'G', 'T', 'A')___('C', 'A', 'B', 'D'): 256: 202\n",
      "('C', 'G', 'T', 'A')___('C', 'A', 'D', 'B'): 256: 202\n",
      "('C', 'G', 'T', 'A')___('C', 'B', 'A', 'D'): 256: 202\n",
      "('C', 'G', 'T', 'A')___('C', 'B', 'D', 'A'): 256: 189\n",
      "('C', 'G', 'T', 'A')___('C', 'D', 'A', 'B'): 256: 202\n",
      "('C', 'G', 'T', 'A')___('C', 'D', 'B', 'A'): 256: 189\n",
      "('C', 'G', 'T', 'A')___('D', 'A', 'B', 'C'): 256: 241\n",
      "('C', 'G', 'T', 'A')___('D', 'A', 'C', 'B'): 256: 229\n",
      "('C', 'G', 'T', 'A')___('D', 'B', 'A', 'C'): 256: 241\n",
      "('C', 'G', 'T', 'A')___('D', 'B', 'C', 'A'): 256: 226\n",
      "('C', 'G', 'T', 'A')___('D', 'C', 'A', 'B'): 256: 229\n",
      "('C', 'G', 'T', 'A')___('D', 'C', 'B', 'A'): 256: 226\n",
      "('G', 'A', 'C', 'T')___('D', 'A', 'B', 'C'): 256: 173\n",
      "('G', 'A', 'C', 'T')___('D', 'A', 'C', 'B'): 256: 178\n",
      "('G', 'A', 'C', 'T')___('D', 'B', 'A', 'C'): 256: 173\n",
      "('G', 'A', 'C', 'T')___('D', 'B', 'C', 'A'): 256: 188\n",
      "('G', 'A', 'C', 'T')___('D', 'C', 'A', 'B'): 256: 178\n",
      "('G', 'A', 'C', 'T')___('D', 'C', 'B', 'A'): 256: 188\n",
      "('G', 'A', 'T', 'C')___('A', 'B', 'C', 'D'): 256: 172\n",
      "('G', 'A', 'T', 'C')___('A', 'B', 'D', 'C'): 256: 154\n",
      "('G', 'A', 'T', 'C')___('A', 'C', 'B', 'D'): 256: 172\n",
      "('G', 'A', 'T', 'C')___('A', 'C', 'D', 'B'): 256: 160\n",
      "('G', 'A', 'T', 'C')___('A', 'D', 'B', 'C'): 256: 154\n",
      "('G', 'A', 'T', 'C')___('A', 'D', 'C', 'B'): 256: 160\n",
      "('G', 'A', 'T', 'C')___('B', 'A', 'C', 'D'): 256: 202\n",
      "('G', 'A', 'T', 'C')___('B', 'A', 'D', 'C'): 256: 202\n",
      "('G', 'A', 'T', 'C')___('B', 'C', 'A', 'D'): 256: 202\n",
      "('G', 'A', 'T', 'C')___('B', 'C', 'D', 'A'): 256: 202\n",
      "('G', 'A', 'T', 'C')___('B', 'D', 'A', 'C'): 256: 202\n",
      "('G', 'A', 'T', 'C')___('B', 'D', 'C', 'A'): 256: 202\n",
      "('G', 'A', 'T', 'C')___('C', 'A', 'B', 'D'): 256: 184\n",
      "('G', 'A', 'T', 'C')___('C', 'A', 'D', 'B'): 256: 172\n",
      "('G', 'A', 'T', 'C')___('C', 'B', 'A', 'D'): 256: 184\n",
      "('G', 'A', 'T', 'C')___('C', 'B', 'D', 'A'): 256: 166\n",
      "('G', 'A', 'T', 'C')___('C', 'D', 'A', 'B'): 256: 172\n",
      "('G', 'A', 'T', 'C')___('C', 'D', 'B', 'A'): 256: 166\n",
      "('G', 'A', 'T', 'C')___('D', 'A', 'B', 'C'): 256: 160\n",
      "('G', 'A', 'T', 'C')___('D', 'A', 'C', 'B'): 256: 160\n",
      "('G', 'A', 'T', 'C')___('D', 'B', 'A', 'C'): 256: 160\n",
      "('G', 'A', 'T', 'C')___('D', 'B', 'C', 'A'): 256: 142\n",
      "('G', 'A', 'T', 'C')___('D', 'C', 'A', 'B'): 256: 160\n",
      "('G', 'A', 'T', 'C')___('D', 'C', 'B', 'A'): 256: 142\n",
      "('G', 'C', 'A', 'T')___('C', 'A', 'B', 'D'): 256: 175\n",
      "('G', 'C', 'A', 'T')___('C', 'A', 'D', 'B'): 256: 176\n",
      "('G', 'C', 'A', 'T')___('C', 'B', 'A', 'D'): 256: 175\n",
      "('G', 'C', 'A', 'T')___('C', 'B', 'D', 'A'): 256: 175\n",
      "('G', 'C', 'A', 'T')___('C', 'D', 'A', 'B'): 256: 176\n",
      "('G', 'C', 'A', 'T')___('C', 'D', 'B', 'A'): 256: 175\n",
      "('G', 'C', 'A', 'T')___('D', 'A', 'B', 'C'): 256: 84\n",
      "('G', 'C', 'A', 'T')___('D', 'A', 'C', 'B'): 256: 84\n",
      "('G', 'C', 'A', 'T')___('D', 'B', 'A', 'C'): 256: 84\n",
      "('G', 'C', 'A', 'T')___('D', 'B', 'C', 'A'): 256: 83\n",
      "('G', 'C', 'A', 'T')___('D', 'C', 'A', 'B'): 256: 84\n",
      "('G', 'C', 'A', 'T')___('D', 'C', 'B', 'A'): 256: 83\n",
      "('G', 'C', 'T', 'A')___('B', 'A', 'C', 'D'): 256: 153\n",
      "('G', 'C', 'T', 'A')___('B', 'A', 'D', 'C'): 256: 133\n",
      "('G', 'C', 'T', 'A')___('B', 'C', 'A', 'D'): 256: 153\n",
      "('G', 'C', 'T', 'A')___('B', 'C', 'D', 'A'): 256: 153\n",
      "('G', 'C', 'T', 'A')___('B', 'D', 'A', 'C'): 256: 133\n",
      "('G', 'C', 'T', 'A')___('B', 'D', 'C', 'A'): 256: 153\n",
      "('G', 'C', 'T', 'A')___('C', 'A', 'B', 'D'): 256: 151\n",
      "('G', 'C', 'T', 'A')___('C', 'A', 'D', 'B'): 256: 151\n",
      "('G', 'C', 'T', 'A')___('C', 'B', 'A', 'D'): 256: 151\n",
      "('G', 'C', 'T', 'A')___('C', 'B', 'D', 'A'): 256: 141\n",
      "('G', 'C', 'T', 'A')___('C', 'D', 'A', 'B'): 256: 151\n",
      "('G', 'C', 'T', 'A')___('C', 'D', 'B', 'A'): 256: 141\n",
      "('G', 'C', 'T', 'A')___('D', 'A', 'B', 'C'): 256: 130\n",
      "('G', 'C', 'T', 'A')___('D', 'A', 'C', 'B'): 256: 148\n",
      "('G', 'C', 'T', 'A')___('D', 'B', 'A', 'C'): 256: 130\n",
      "('G', 'C', 'T', 'A')___('D', 'B', 'C', 'A'): 256: 149\n",
      "('G', 'C', 'T', 'A')___('D', 'C', 'A', 'B'): 256: 148\n",
      "('G', 'C', 'T', 'A')___('D', 'C', 'B', 'A'): 256: 149\n",
      "('G', 'T', 'A', 'C')___('D', 'A', 'B', 'C'): 256: 142\n",
      "('G', 'T', 'A', 'C')___('D', 'A', 'C', 'B'): 256: 160\n",
      "('G', 'T', 'A', 'C')___('D', 'B', 'A', 'C'): 256: 142\n",
      "('G', 'T', 'A', 'C')___('D', 'B', 'C', 'A'): 256: 160\n",
      "('G', 'T', 'A', 'C')___('D', 'C', 'A', 'B'): 256: 160\n",
      "('G', 'T', 'A', 'C')___('D', 'C', 'B', 'A'): 256: 160\n",
      "('G', 'T', 'C', 'A')___('D', 'A', 'C', 'B'): 256: 218\n",
      "('G', 'T', 'C', 'A')___('D', 'C', 'A', 'B'): 256: 218\n",
      "('T', 'A', 'C', 'G')___('B', 'A', 'C', 'D'): 256: 234\n",
      "('T', 'A', 'C', 'G')___('B', 'A', 'D', 'C'): 256: 234\n",
      "('T', 'A', 'C', 'G')___('B', 'C', 'A', 'D'): 256: 234\n",
      "('T', 'A', 'C', 'G')___('B', 'C', 'D', 'A'): 256: 236\n",
      "('T', 'A', 'C', 'G')___('B', 'D', 'A', 'C'): 256: 234\n",
      "('T', 'A', 'C', 'G')___('B', 'D', 'C', 'A'): 256: 236\n",
      "('T', 'A', 'C', 'G')___('D', 'A', 'B', 'C'): 256: 240\n",
      "('T', 'A', 'C', 'G')___('D', 'A', 'C', 'B'): 256: 225\n",
      "('T', 'A', 'C', 'G')___('D', 'B', 'A', 'C'): 256: 240\n",
      "('T', 'A', 'C', 'G')___('D', 'B', 'C', 'A'): 256: 228\n",
      "('T', 'A', 'C', 'G')___('D', 'C', 'A', 'B'): 256: 225\n",
      "('T', 'A', 'C', 'G')___('D', 'C', 'B', 'A'): 256: 228\n",
      "('T', 'A', 'G', 'C')___('D', 'A', 'C', 'B'): 256: 210\n",
      "('T', 'A', 'G', 'C')___('D', 'C', 'A', 'B'): 256: 210\n",
      "('T', 'C', 'A', 'G')___('C', 'A', 'B', 'D'): 256: 204\n",
      "('T', 'C', 'A', 'G')___('C', 'A', 'D', 'B'): 256: 204\n",
      "('T', 'C', 'A', 'G')___('C', 'B', 'A', 'D'): 256: 204\n",
      "('T', 'C', 'A', 'G')___('C', 'B', 'D', 'A'): 256: 204\n",
      "('T', 'C', 'A', 'G')___('C', 'D', 'A', 'B'): 256: 204\n",
      "('T', 'C', 'A', 'G')___('C', 'D', 'B', 'A'): 256: 204\n",
      "('T', 'C', 'A', 'G')___('D', 'A', 'B', 'C'): 256: 229\n",
      "('T', 'C', 'A', 'G')___('D', 'A', 'C', 'B'): 256: 208\n",
      "('T', 'C', 'A', 'G')___('D', 'B', 'A', 'C'): 256: 229\n",
      "('T', 'C', 'A', 'G')___('D', 'B', 'C', 'A'): 256: 219\n",
      "('T', 'C', 'A', 'G')___('D', 'C', 'A', 'B'): 256: 208\n",
      "('T', 'C', 'A', 'G')___('D', 'C', 'B', 'A'): 256: 219\n",
      "('T', 'C', 'G', 'A')___('A', 'B', 'C', 'D'): 256: 200\n",
      "('T', 'C', 'G', 'A')___('A', 'B', 'D', 'C'): 256: 218\n",
      "('T', 'C', 'G', 'A')___('A', 'C', 'B', 'D'): 256: 200\n",
      "('T', 'C', 'G', 'A')___('A', 'C', 'D', 'B'): 256: 218\n",
      "('T', 'C', 'G', 'A')___('A', 'D', 'B', 'C'): 256: 218\n",
      "('T', 'C', 'G', 'A')___('A', 'D', 'C', 'B'): 256: 218\n",
      "('T', 'C', 'G', 'A')___('C', 'A', 'B', 'D'): 256: 158\n",
      "('T', 'C', 'G', 'A')___('C', 'A', 'D', 'B'): 256: 158\n",
      "('T', 'C', 'G', 'A')___('C', 'B', 'A', 'D'): 256: 158\n",
      "('T', 'C', 'G', 'A')___('C', 'B', 'D', 'A'): 256: 158\n",
      "('T', 'C', 'G', 'A')___('C', 'D', 'A', 'B'): 256: 158\n",
      "('T', 'C', 'G', 'A')___('C', 'D', 'B', 'A'): 256: 158\n",
      "('T', 'C', 'G', 'A')___('D', 'A', 'B', 'C'): 256: 188\n",
      "('T', 'C', 'G', 'A')___('D', 'A', 'C', 'B'): 256: 194\n",
      "('T', 'C', 'G', 'A')___('D', 'B', 'A', 'C'): 256: 188\n",
      "('T', 'C', 'G', 'A')___('D', 'B', 'C', 'A'): 256: 188\n",
      "('T', 'C', 'G', 'A')___('D', 'C', 'A', 'B'): 256: 194\n",
      "('T', 'C', 'G', 'A')___('D', 'C', 'B', 'A'): 256: 188\n",
      "('T', 'G', 'A', 'C')___('D', 'A', 'B', 'C'): 256: 236\n",
      "('T', 'G', 'A', 'C')___('D', 'A', 'C', 'B'): 256: 233\n",
      "('T', 'G', 'A', 'C')___('D', 'B', 'A', 'C'): 256: 236\n",
      "('T', 'G', 'A', 'C')___('D', 'B', 'C', 'A'): 256: 240\n",
      "('T', 'G', 'A', 'C')___('D', 'C', 'A', 'B'): 256: 233\n",
      "('T', 'G', 'A', 'C')___('D', 'C', 'B', 'A'): 256: 240\n",
      "('T', 'G', 'C', 'A')___('A', 'B', 'C', 'D'): 256: 238\n",
      "('T', 'G', 'C', 'A')___('A', 'B', 'D', 'C'): 256: 244\n",
      "('T', 'G', 'C', 'A')___('A', 'C', 'B', 'D'): 256: 238\n",
      "('T', 'G', 'C', 'A')___('A', 'C', 'D', 'B'): 256: 240\n",
      "('T', 'G', 'C', 'A')___('A', 'D', 'B', 'C'): 256: 244\n",
      "('T', 'G', 'C', 'A')___('A', 'D', 'C', 'B'): 256: 240\n",
      "('T', 'G', 'C', 'A')___('B', 'A', 'C', 'D'): 256: 234\n",
      "('T', 'G', 'C', 'A')___('B', 'A', 'D', 'C'): 256: 236\n",
      "('T', 'G', 'C', 'A')___('B', 'C', 'A', 'D'): 256: 234\n",
      "('T', 'G', 'C', 'A')___('B', 'C', 'D', 'A'): 256: 234\n",
      "('T', 'G', 'C', 'A')___('B', 'D', 'A', 'C'): 256: 236\n",
      "('T', 'G', 'C', 'A')___('B', 'D', 'C', 'A'): 256: 234\n",
      "('T', 'G', 'C', 'A')___('C', 'A', 'B', 'D'): 256: 226\n",
      "('T', 'G', 'C', 'A')___('C', 'A', 'D', 'B'): 256: 226\n",
      "('T', 'G', 'C', 'A')___('C', 'B', 'A', 'D'): 256: 226\n",
      "('T', 'G', 'C', 'A')___('C', 'B', 'D', 'A'): 256: 232\n",
      "('T', 'G', 'C', 'A')___('C', 'D', 'A', 'B'): 256: 226\n",
      "('T', 'G', 'C', 'A')___('C', 'D', 'B', 'A'): 256: 232\n",
      "('T', 'G', 'C', 'A')___('D', 'A', 'B', 'C'): 256: 244\n",
      "('T', 'G', 'C', 'A')___('D', 'A', 'C', 'B'): 256: 244\n",
      "('T', 'G', 'C', 'A')___('D', 'B', 'A', 'C'): 256: 244\n",
      "('T', 'G', 'C', 'A')___('D', 'B', 'C', 'A'): 256: 242\n",
      "('T', 'G', 'C', 'A')___('D', 'C', 'A', 'B'): 256: 244\n",
      "('T', 'G', 'C', 'A')___('D', 'C', 'B', 'A'): 256: 242\n",
      "Wall time: 29.4 s\n"
     ]
    }
   ],
   "source": [
    "%%time\n",
    "\n",
    "import itertools\n",
    "d={}\n",
    "u={}\n",
    "PN=['A', 'C', 'G', 'T']\n",
    "\n",
    "for valuesY in list(itertools.permutations(PN)):\n",
    "\n",
    "#     for valuesX in list(itertools.permutations([\"A\",\"B\",\"C\",\"D\"])):\n",
    "    for valuesX in list(itertools.permutations([\"A\",\"B\",\"C\",\"D\"])):\n",
    "        cf=tableMaker(valuesY,valuesX[0],valuesX[1],valuesX[2],valuesX[3])\n",
    "\n",
    "        decodedList=[]\n",
    "        uniqueList=[]\n",
    "        stringCodes=[]\n",
    "        for codes in cL.iloc[:,0]:\n",
    "            stringCodes.append(codes)\n",
    "            lc=[int(i) for i in list(codes)]\n",
    "            decodedList.append(mainBrain(lc,cf))\n",
    "            d[str(valuesY)+\"___\"+str(valuesX)]=len(set(decodedList))\n",
    "            uniqueList.append(noTripleRepeats(mainBrain(lc,cf)))\n",
    "            u[str(valuesY)+\"___\"+str(valuesX)]=sum(uniqueList)\n",
    "\n",
    "for i in d:\n",
    "    if d[i]==256:\n",
    "    \n",
    "        print (str(i)+\": \"+str(d[i])+\": \"+str(u[i]))\n",
    "#     print (str(i)+\": \"+str(d[i])+\": \")"
   ]
  },
  {
   "cell_type": "code",
   "execution_count": 26,
   "metadata": {
    "scrolled": false
   },
   "outputs": [
    {
     "name": "stdout",
     "output_type": "stream",
     "text": [
      "('A', 'C', 'G', 'T')___('A', 'B', 'C', 'D'): 250: 0\n",
      "('A', 'C', 'G', 'T')___('A', 'B', 'D', 'C'): 253: 0\n",
      "('A', 'C', 'G', 'T')___('A', 'C', 'B', 'D'): 250: 0\n",
      "('A', 'C', 'G', 'T')___('A', 'C', 'D', 'B'): 253: 0\n",
      "('A', 'C', 'G', 'T')___('A', 'D', 'B', 'C'): 253: 0\n",
      "('A', 'C', 'G', 'T')___('A', 'D', 'C', 'B'): 253: 0\n",
      "('A', 'C', 'G', 'T')___('B', 'A', 'C', 'D'): 230: 0\n",
      "('A', 'C', 'G', 'T')___('B', 'A', 'D', 'C'): 215: 0\n",
      "('A', 'C', 'G', 'T')___('B', 'C', 'A', 'D'): 230: 0\n",
      "('A', 'C', 'G', 'T')___('B', 'C', 'D', 'A'): 231: 0\n",
      "('A', 'C', 'G', 'T')___('B', 'D', 'A', 'C'): 215: 0\n",
      "('A', 'C', 'G', 'T')___('B', 'D', 'C', 'A'): 231: 0\n",
      "('A', 'C', 'G', 'T')___('C', 'A', 'B', 'D'): 248: 0\n",
      "('A', 'C', 'G', 'T')___('C', 'A', 'D', 'B'): 247: 0\n",
      "('A', 'C', 'G', 'T')___('C', 'B', 'A', 'D'): 248: 0\n",
      "('A', 'C', 'G', 'T')___('C', 'B', 'D', 'A'): 247: 0\n",
      "('A', 'C', 'G', 'T')___('C', 'D', 'A', 'B'): 247: 0\n",
      "('A', 'C', 'G', 'T')___('C', 'D', 'B', 'A'): 247: 0\n",
      "('A', 'C', 'G', 'T')___('D', 'A', 'B', 'C'): 253: 0\n",
      "('A', 'C', 'G', 'T')___('D', 'A', 'C', 'B'): 253: 0\n",
      "('A', 'C', 'G', 'T')___('D', 'B', 'A', 'C'): 253: 0\n",
      "('A', 'C', 'G', 'T')___('D', 'B', 'C', 'A'): 252: 0\n",
      "('A', 'C', 'G', 'T')___('D', 'C', 'A', 'B'): 253: 0\n",
      "('A', 'C', 'G', 'T')___('D', 'C', 'B', 'A'): 252: 0\n",
      "253\n"
     ]
    }
   ],
   "source": [
    "noRList=[]\n",
    "for i in d:\n",
    "    if u[i]==0:\n",
    "    \n",
    "        print (str(i)+\": \"+str(d[i])+\": \"+str(u[i]))\n",
    "        noRList.append(d[i])\n",
    "print(max(noRList))"
   ]
  },
  {
   "cell_type": "code",
   "execution_count": null,
   "metadata": {},
   "outputs": [],
   "source": []
  },
  {
   "cell_type": "code",
   "execution_count": null,
   "metadata": {},
   "outputs": [],
   "source": []
  },
  {
   "cell_type": "code",
   "execution_count": null,
   "metadata": {},
   "outputs": [],
   "source": []
  },
  {
   "cell_type": "code",
   "execution_count": null,
   "metadata": {},
   "outputs": [],
   "source": []
  },
  {
   "cell_type": "code",
   "execution_count": null,
   "metadata": {},
   "outputs": [],
   "source": []
  },
  {
   "cell_type": "code",
   "execution_count": null,
   "metadata": {},
   "outputs": [],
   "source": []
  },
  {
   "cell_type": "code",
   "execution_count": null,
   "metadata": {},
   "outputs": [],
   "source": []
  },
  {
   "cell_type": "markdown",
   "metadata": {},
   "source": [
    "# Unqiue Codes Only"
   ]
  },
  {
   "cell_type": "code",
   "execution_count": null,
   "metadata": {},
   "outputs": [],
   "source": [
    "numRepeats=np.array(list(u.values()))\n",
    "numUnique=np.array(list(d.values()))\n",
    "codeNames=np.array(list((d.keys())))\n",
    "\n",
    "\n",
    "print(\"No repeated letters: \")\n",
    "print(\"Highest number of unique codes is: \"+str(max(numUnique[numRepeats==0])))\n",
    "\n",
    "uniqueList=[str(j)+\"__\"+str(i) for i,j in zip (numUnique[numRepeats==0],codeNames[numRepeats==0])]\n",
    "\n",
    "for values in uniqueList:\n",
    "    print(values)\n"
   ]
  },
  {
   "cell_type": "code",
   "execution_count": null,
   "metadata": {},
   "outputs": [],
   "source": []
  },
  {
   "cell_type": "markdown",
   "metadata": {},
   "source": [
    "# Loop Over All Combinations"
   ]
  },
  {
   "cell_type": "code",
   "execution_count": null,
   "metadata": {},
   "outputs": [],
   "source": [
    "%%time\n",
    "import itertools\n",
    "d={}\n",
    "u={}\n",
    "\n",
    "pList=[]\n",
    "\n",
    "PN=['A', 'T', 'C', 'G']\n",
    "Alist=[\"T\",\"C\",\"G\",\"A\"]\n",
    "Blist=[\"C\",\"G\",\"A\",\"T\"]\n",
    "A=\"A\"\n",
    "B=\"B\"\n",
    "C=\"C\"\n",
    "D=\"D\"\n",
    "\n",
    "# C=[\"G\",\"A\",\"T\",\"C\"]\n",
    "# D=[\"G\",\"C\",\"T\",\"A\"]\n",
    "\n",
    "for valuesY in list(itertools.permutations(PN)):\n",
    "\n",
    "    for valuesX in list(itertools.permutations([\"A\",\"B\",\"C\",\"D\"])):\n",
    "        \n",
    "        for valuesA in list(itertools.permutations(Alist)):\n",
    "#             columnDict={\"A\":valuesA,\"B\":[\"C\",\"G\",\"A\",\"T\"],\"C\":[\"G\",\"A\",\"T\",\"C\"],\"D\":[\"G\",\"C\",\"T\",\"A\"]}\n",
    "#             decodedList=[]\n",
    "#             uniqueList=[]\n",
    "#             stringCodes=[]\n",
    "            \n",
    "#             cf=tableMakerUpgrade(valuesY,valuesX[0],valuesX[1],valuesX[2],valuesX[3],columnDict)\n",
    "         \n",
    "#             for codes in cL.iloc[:,0]:\n",
    "#                 stringCodes.append(codes)\n",
    "#                 lc=[int(i) for i in list(codes)]\n",
    "#                 decodedList.append(mainBrain(lc,cf))\n",
    "#                 d[str(valuesY)+\"___\"+str(valuesX)+\"___\"+str(valuesA)]=len(set(decodedList))\n",
    "#                 uniqueList.append(uniqueCodes(mainBrain(lc,cf)))\n",
    "#                 u[str(valuesY)+\"___\"+str(valuesX)+\"___\"+str(valuesA)]=sum(uniqueList)   \n",
    "            \n",
    "#             pList.append(str(valuesY)+\"__\"+str(valuesX)+\"__\"+str(valuesA))\n",
    "            \n",
    "            for valuesB in list((itertools.permutations(Blist))):\n",
    "                columnDict={\"A\":valuesA,\"B\":valuesB,\"C\":[\"G\",\"A\",\"T\",\"C\"],\"D\":[\"G\",\"C\",\"T\",\"A\"]}\n",
    "                decodedList=[]\n",
    "                uniqueList=[]\n",
    "                stringCodes=[]\n",
    "\n",
    "                cf=tableMakerUpgrade(valuesY,valuesX[0],valuesX[1],valuesX[2],valuesX[3],columnDict)\n",
    "\n",
    "                for codes in cL.iloc[:,0]:\n",
    "                    stringCodes.append(codes)\n",
    "                    lc=[int(i) for i in list(codes)]\n",
    "                    decodedList.append(mainBrain(lc,cf))\n",
    "                    d[str(valuesY)+\"___\"+str(valuesX)+\"___\"+str(valuesA)+\"___\"+str(valuesB)]=len(set(decodedList))\n",
    "                    uniqueList.append(uniqueCodes(mainBrain(lc,cf)))\n",
    "                    u[str(valuesY)+\"___\"+str(valuesX)+\"___\"+str(valuesA)+\"___\"+str(valuesB)]=sum(uniqueList)   \n",
    "            \n",
    "# #                 pList.append(str(valuesY)+\"__\"+str(valuesX)+\"__\"+str(valuesA)+\"__\"+str(valuesB))\n",
    "\n",
    "#                 for valuesC in list((itertools.permutations(C))):\n",
    "# #                     pList.append(str(valuesY)+\"__\"+str(valuesX)+\"__\"+str(valuesA)+\"__\"+str(valuesB)+\"__\"+str(valuesC))\n",
    "                \n",
    "#                     for valuesD in list((itertools.permutations(D))):\n",
    "#                         pList.append(str(valuesY)+\"__\"+str(valuesX)+\"__\"+str(valuesA)+\"__\"+str(valuesB)+\"__\"+str(valuesC)+\"__\"+str(valuesD))\n",
    "\n",
    "        \n",
    "        \n",
    "        \n",
    "\n",
    "\n",
    "# for i in d:\n",
    "#     print (str(i)+\": \"+str(d[i])+\": \"+str(u[i]))\n"
   ]
  },
  {
   "cell_type": "code",
   "execution_count": null,
   "metadata": {},
   "outputs": [],
   "source": [
    "print(len(d))"
   ]
  },
  {
   "cell_type": "code",
   "execution_count": null,
   "metadata": {},
   "outputs": [],
   "source": [
    "numRepeats=np.array(list(u.values()))\n",
    "numUnique=np.array(list(d.values()))\n",
    "codeNames=np.array(list((d.keys())))\n",
    "\n",
    "\n",
    "print(\"No repeated letters: \")\n",
    "print(\"Highest number of unique codes is: \"+str(max(numUnique[numRepeats==0])))\n",
    "\n",
    "uniqueList=[str(j)+\"__\"+str(i) for i,j in zip (numUnique[numRepeats==0],codeNames[numRepeats==0])]\n",
    "\n",
    "for values in uniqueList:\n",
    "    print(values)"
   ]
  },
  {
   "cell_type": "code",
   "execution_count": null,
   "metadata": {},
   "outputs": [],
   "source": [
    "print(len(uniqueList)/len(d)*100)"
   ]
  },
  {
   "cell_type": "code",
   "execution_count": null,
   "metadata": {},
   "outputs": [],
   "source": []
  },
  {
   "cell_type": "code",
   "execution_count": null,
   "metadata": {},
   "outputs": [],
   "source": []
  },
  {
   "cell_type": "code",
   "execution_count": null,
   "metadata": {},
   "outputs": [],
   "source": []
  },
  {
   "cell_type": "code",
   "execution_count": null,
   "metadata": {},
   "outputs": [],
   "source": [
    "def tableMakerUpgrade(PN,A,B,C,D,columnDict):\n",
    "    \n",
    "    A=columnDict[str(A)]\n",
    "    B=columnDict[str(B)]\n",
    "    C=columnDict[str(C)]\n",
    "    D=columnDict[str(D)]\n",
    "    \n",
    "    insides1={\"Previous Nucleotide\": PN, 0:A, 1:B, 2:C, 3:D}\n",
    "    cf=pd.DataFrame(insides1)\n",
    "    cf.index=cf[\"Previous Nucleotide\"]\n",
    "    del cf[\"Previous Nucleotide\"]\n",
    "    return cf"
   ]
  },
  {
   "cell_type": "code",
   "execution_count": null,
   "metadata": {},
   "outputs": [],
   "source": [
    "def correspondStringUpgrade(input,columnDict):\n",
    "# Email 03/06/2020\n",
    "    if input==\"A\":\n",
    "        output=columnDict[\"A\"]\n",
    "    elif input==\"B\":\n",
    "        output=columnDict[\"B\"]\n",
    "    elif input==\"C\":\n",
    "        output=columnDict[\"C\"]\n",
    "    elif input ==\"D\":\n",
    "        output=columnDict[\"D\"]\n",
    "\n",
    "    return output"
   ]
  },
  {
   "cell_type": "code",
   "execution_count": null,
   "metadata": {},
   "outputs": [],
   "source": []
  },
  {
   "cell_type": "code",
   "execution_count": null,
   "metadata": {},
   "outputs": [],
   "source": [
    "A=\"A\"\n",
    "B=\"B\"\n",
    "C=\"C\"\n",
    "D=\"D\"\n",
    "columnDict={\"A\":[\"T\",\"C\",\"G\",\"A\"],\"B\":[\"C\",\"G\",\"A\",\"T\"],\"C\":[\"G\",\"A\",\"T\",\"C\"],\"D\":[\"G\",\"C\",\"T\",\"A\"]}\n",
    "d=tableMakerUpgrade(['A', 'T', 'C', 'G'],D,B,A,C,columnDict)\n",
    "display(d)"
   ]
  },
  {
   "cell_type": "code",
   "execution_count": null,
   "metadata": {},
   "outputs": [],
   "source": [
    "A=\"A\"\n",
    "B=\"B\"\n",
    "C=\"C\"\n",
    "D=\"D\"\n",
    "print(a)\n",
    "print(columnDict[str(A)])"
   ]
  },
  {
   "cell_type": "code",
   "execution_count": null,
   "metadata": {},
   "outputs": [],
   "source": []
  }
 ],
 "metadata": {
  "kernelspec": {
   "display_name": "Python 3",
   "language": "python",
   "name": "python3"
  },
  "language_info": {
   "codemirror_mode": {
    "name": "ipython",
    "version": 3
   },
   "file_extension": ".py",
   "mimetype": "text/x-python",
   "name": "python",
   "nbconvert_exporter": "python",
   "pygments_lexer": "ipython3",
   "version": "3.6.10"
  }
 },
 "nbformat": 4,
 "nbformat_minor": 2
}
