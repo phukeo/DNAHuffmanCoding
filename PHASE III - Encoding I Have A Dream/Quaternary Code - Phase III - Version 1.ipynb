{
 "cells": [
  {
   "cell_type": "markdown",
   "metadata": {},
   "source": [
    "# Encoding"
   ]
  },
  {
   "cell_type": "code",
   "execution_count": 1,
   "metadata": {},
   "outputs": [],
   "source": [
    "# Phase III - Version 1 - Termination Sequence Added\n",
    "import numpy as np\n",
    "import pandas as pd\n",
    "import itertools"
   ]
  },
  {
   "cell_type": "code",
   "execution_count": 2,
   "metadata": {},
   "outputs": [
    {
     "data": {
      "text/html": [
       "<div>\n",
       "<style scoped>\n",
       "    .dataframe tbody tr th:only-of-type {\n",
       "        vertical-align: middle;\n",
       "    }\n",
       "\n",
       "    .dataframe tbody tr th {\n",
       "        vertical-align: top;\n",
       "    }\n",
       "\n",
       "    .dataframe thead th {\n",
       "        text-align: right;\n",
       "    }\n",
       "</style>\n",
       "<table border=\"1\" class=\"dataframe\">\n",
       "  <thead>\n",
       "    <tr style=\"text-align: right;\">\n",
       "      <th></th>\n",
       "      <th>Dec</th>\n",
       "      <th>Char</th>\n",
       "      <th>QUAT CODE</th>\n",
       "      <th>QUAT NUCLEOTIDES</th>\n",
       "    </tr>\n",
       "  </thead>\n",
       "  <tbody>\n",
       "    <tr>\n",
       "      <th>0</th>\n",
       "      <td>0</td>\n",
       "      <td>NUL</td>\n",
       "      <td>0</td>\n",
       "      <td>CGTA</td>\n",
       "    </tr>\n",
       "    <tr>\n",
       "      <th>1</th>\n",
       "      <td>1</td>\n",
       "      <td>SOH</td>\n",
       "      <td>1</td>\n",
       "      <td>CGTC</td>\n",
       "    </tr>\n",
       "    <tr>\n",
       "      <th>2</th>\n",
       "      <td>2</td>\n",
       "      <td>STX</td>\n",
       "      <td>2</td>\n",
       "      <td>CGTG</td>\n",
       "    </tr>\n",
       "    <tr>\n",
       "      <th>3</th>\n",
       "      <td>3</td>\n",
       "      <td>ETX</td>\n",
       "      <td>3</td>\n",
       "      <td>CGTCG</td>\n",
       "    </tr>\n",
       "    <tr>\n",
       "      <th>4</th>\n",
       "      <td>4</td>\n",
       "      <td>EOT</td>\n",
       "      <td>10</td>\n",
       "      <td>CGAC</td>\n",
       "    </tr>\n",
       "  </tbody>\n",
       "</table>\n",
       "</div>"
      ],
      "text/plain": [
       "  Dec Char QUAT CODE QUAT NUCLEOTIDES\n",
       "0   0  NUL         0             CGTA\n",
       "1   1  SOH         1             CGTC\n",
       "2   2  STX         2             CGTG\n",
       "3   3  ETX         3            CGTCG\n",
       "4   4  EOT        10             CGAC"
      ]
     },
     "metadata": {},
     "output_type": "display_data"
    },
    {
     "data": {
      "text/html": [
       "<div>\n",
       "<style scoped>\n",
       "    .dataframe tbody tr th:only-of-type {\n",
       "        vertical-align: middle;\n",
       "    }\n",
       "\n",
       "    .dataframe tbody tr th {\n",
       "        vertical-align: top;\n",
       "    }\n",
       "\n",
       "    .dataframe thead th {\n",
       "        text-align: right;\n",
       "    }\n",
       "</style>\n",
       "<table border=\"1\" class=\"dataframe\">\n",
       "  <thead>\n",
       "    <tr style=\"text-align: right;\">\n",
       "      <th></th>\n",
       "      <th>Dec</th>\n",
       "      <th>Char</th>\n",
       "      <th>QUAT CODE</th>\n",
       "      <th>QUAT NUCLEOTIDES</th>\n",
       "    </tr>\n",
       "  </thead>\n",
       "  <tbody>\n",
       "    <tr>\n",
       "      <th>251</th>\n",
       "      <td>251</td>\n",
       "      <td>?</td>\n",
       "      <td>3323</td>\n",
       "      <td>GGCCAGG</td>\n",
       "    </tr>\n",
       "    <tr>\n",
       "      <th>252</th>\n",
       "      <td>252</td>\n",
       "      <td>?</td>\n",
       "      <td>3330</td>\n",
       "      <td>GGCCTTA</td>\n",
       "    </tr>\n",
       "    <tr>\n",
       "      <th>253</th>\n",
       "      <td>253</td>\n",
       "      <td>²</td>\n",
       "      <td>3331</td>\n",
       "      <td>GGCCTTC</td>\n",
       "    </tr>\n",
       "    <tr>\n",
       "      <th>254</th>\n",
       "      <td>254</td>\n",
       "      <td>?</td>\n",
       "      <td>3332</td>\n",
       "      <td>GGCCTTG</td>\n",
       "    </tr>\n",
       "    <tr>\n",
       "      <th>255</th>\n",
       "      <td>255</td>\n",
       "      <td>NaN</td>\n",
       "      <td>3333</td>\n",
       "      <td>GGCCTTCG</td>\n",
       "    </tr>\n",
       "  </tbody>\n",
       "</table>\n",
       "</div>"
      ],
      "text/plain": [
       "     Dec Char QUAT CODE QUAT NUCLEOTIDES\n",
       "251  251    ?      3323          GGCCAGG\n",
       "252  252    ?      3330          GGCCTTA\n",
       "253  253    ²      3331          GGCCTTC\n",
       "254  254    ?      3332          GGCCTTG\n",
       "255  255  NaN      3333         GGCCTTCG"
      ]
     },
     "metadata": {},
     "output_type": "display_data"
    }
   ],
   "source": [
    "# Read in the ASCII Table\n",
    "ASCII_List_Raw=pd.read_csv(\"ASCII_QUAT_CODES.csv\", dtype=object,usecols=[0,1,2,3],skiprows=0, nrows=260,encoding='utf-8')\n",
    "\n",
    "display(ASCII_List_Raw.head())\n",
    "display(ASCII_List_Raw.tail())\n",
    "\n",
    "# ASCII_List=ASCII_List_Raw.dropna()"
   ]
  },
  {
   "cell_type": "code",
   "execution_count": 3,
   "metadata": {},
   "outputs": [
    {
     "ename": "NameError",
     "evalue": "name 'noDoubleRepeats' is not defined",
     "output_type": "error",
     "traceback": [
      "\u001b[1;31m---------------------------------------------------------------------------\u001b[0m",
      "\u001b[1;31mNameError\u001b[0m                                 Traceback (most recent call last)",
      "\u001b[1;32m<ipython-input-3-6004448eed14>\u001b[0m in \u001b[0;36m<module>\u001b[1;34m\u001b[0m\n\u001b[0;32m      3\u001b[0m \u001b[1;32mfor\u001b[0m \u001b[0mvalue\u001b[0m \u001b[1;32min\u001b[0m \u001b[0mASCII_List_Raw\u001b[0m\u001b[1;33m.\u001b[0m\u001b[0mloc\u001b[0m\u001b[1;33m[\u001b[0m\u001b[1;33m:\u001b[0m\u001b[1;33m,\u001b[0m\u001b[1;34m\"QUAT NUCLEOTIDES\"\u001b[0m\u001b[1;33m]\u001b[0m\u001b[1;33m:\u001b[0m\u001b[1;33m\u001b[0m\u001b[1;33m\u001b[0m\u001b[0m\n\u001b[0;32m      4\u001b[0m \u001b[1;31m#     print(value[-2:])\u001b[0m\u001b[1;33m\u001b[0m\u001b[1;33m\u001b[0m\u001b[1;33m\u001b[0m\u001b[0m\n\u001b[1;32m----> 5\u001b[1;33m     \u001b[1;32mif\u001b[0m \u001b[0mnoDoubleRepeats\u001b[0m\u001b[1;33m(\u001b[0m\u001b[0mvalue\u001b[0m\u001b[1;33m[\u001b[0m\u001b[1;33m-\u001b[0m\u001b[1;36m2\u001b[0m\u001b[1;33m:\u001b[0m\u001b[1;33m]\u001b[0m\u001b[1;33m)\u001b[0m\u001b[1;33m==\u001b[0m\u001b[1;36m1\u001b[0m\u001b[1;33m:\u001b[0m\u001b[1;33m\u001b[0m\u001b[1;33m\u001b[0m\u001b[0m\n\u001b[0m\u001b[0;32m      6\u001b[0m         \u001b[0mprint\u001b[0m\u001b[1;33m(\u001b[0m\u001b[1;34m\"Found one here: \"\u001b[0m\u001b[1;33m,\u001b[0m \u001b[0mvalue\u001b[0m\u001b[1;33m[\u001b[0m\u001b[1;33m-\u001b[0m\u001b[1;36m2\u001b[0m\u001b[1;33m:\u001b[0m\u001b[1;33m]\u001b[0m\u001b[1;33m)\u001b[0m\u001b[1;33m\u001b[0m\u001b[1;33m\u001b[0m\u001b[0m\n\u001b[0;32m      7\u001b[0m \u001b[1;33m\u001b[0m\u001b[0m\n",
      "\u001b[1;31mNameError\u001b[0m: name 'noDoubleRepeats' is not defined"
     ]
    }
   ],
   "source": [
    "# Below loops over the ASCII Table and confirms that there are no fragments which could end in a \"AA\". This means that we can use something like \"AT\" for the termination code.\n",
    "\n",
    "for value in ASCII_List_Raw.loc[:,\"QUAT NUCLEOTIDES\"]:\n",
    "#     print(value[-2:])\n",
    "    if noDoubleRepeats(value[-2:])==1:\n",
    "        print(\"Found one here: \", value[-2:])\n",
    "\n",
    "# for i in nucleotideFragments:\n",
    "#     if noDoubleRepeats(i[-2:])==1:\n",
    "#         print(\"Found a repeat and it is: \", i[-2:])\n"
   ]
  },
  {
   "cell_type": "markdown",
   "metadata": {},
   "source": [
    "# Phrase Input"
   ]
  },
  {
   "cell_type": "code",
   "execution_count": 5,
   "metadata": {},
   "outputs": [],
   "source": [
    "rawInput=\"\"\"I am happy to join with you today in what will go down in history as the greatest demonstration for freedom in the history of our nation.\n",
    "\n",
    "Five score years ago, a great American, in whose symbolic shadow we stand today, signed the Emancipation Proclamation. This momentous decree came as a great beacon light of hope to millions of Negro slaves who had been seared in the flames of withering injustice. It came as a joyous daybreak to end the long night of their captivity.\n",
    "\n",
    "But one hundred years later, the Negro still is not free. One hundred years later, the life of the Negro is still sadly crippled by the manacles of segregation and the chains of discrimination. One hundred years later, the Negro lives on a lonely island of poverty in the midst of a vast ocean of material prosperity. One hundred years later, the Negro is still languished in the corners of American society and finds himself an exile in his own land. And so we've come here today to dramatize a shameful condition.\n",
    "\n",
    "In a sense we've come to our nation's capital to cash a check. When the architects of our republic wrote the magnificent words of the Constitution and the Declaration of Independence, they were signing a promissory note to which every American was to fall heir. This note was a promise that all men, yes, black men as well as white men, would be guaranteed the \"unalienable Rights\" of \"Life, Liberty and the pursuit of Happiness.\" It is obvious today that America has defaulted on this promissory note, insofar as her citizens of color are concerned. Instead of honoring this sacred obligation, America has given the Negro people a bad check, a check which has come back marked \"insufficient funds.\"\n",
    "\n",
    "But we refuse to believe that the bank of justice is bankrupt. We refuse to believe that there are insufficient funds in the great vaults of opportunity of this nation. And so, we've come to cash this check, a check that will give us upon demand the riches of freedom and the security of justice.\n",
    "\n",
    "We have also come to this hallowed spot to remind America of the fierce urgency of Now. This is no time to engage in the luxury of cooling off or to take the tranquilizing drug of gradualism. Now is the time to make real the promises of democracy. Now is the time to rise from the dark and desolate valley of segregation to the sunlit path of racial justice. Now is the time to lift our nation from the quicksands of racial injustice to the solid rock of brotherhood. Now is the time to make justice a reality for all of God's children.\n",
    "\n",
    "It would be fatal for the nation to overlook the urgency of the moment. This sweltering summer of the Negro's legitimate discontent will not pass until there is an invigorating autumn of freedom and equality. Nineteen sixty-three is not an end, but a beginning. And those who hope that the Negro needed to blow off steam and will now be content will have a rude awakening if the nation returns to business as usual. And there will be neither rest nor tranquility in America until the Negro is granted his citizenship rights. The whirlwinds of revolt will continue to shake the foundations of our nation until the bright day of justice emerges.\n",
    "\n",
    "But there is something that I must say to my people, who stand on the warm threshold which leads into the palace of justice: In the process of gaining our rightful place, we must not be guilty of wrongful deeds. Let us not seek to satisfy our thirst for freedom by drinking from the cup of bitterness and hatred. We must forever conduct our struggle on the high plane of dignity and discipline. We must not allow our creative protest to degenerate into physical violence. Again and again, we must rise to the majestic heights of meeting physical force with soul force.\n",
    "\n",
    "The marvelous new militancy which has engulfed the Negro community must not lead us to a distrust of all white people, for many of our white brothers, as evidenced by their presence here today, have come to realize that their destiny is tied up with our destiny. And they have come to realize that their freedom is inextricably bound to our freedom.\n",
    "\n",
    "We cannot walk alone.\n",
    "\n",
    "And as we walk, we must make the pledge that we shall always march ahead.\n",
    "\n",
    "We cannot turn back.\n",
    "\n",
    "There are those who are asking the devotees of civil rights, \"When will you be satisfied?\" We can never be satisfied as long as the Negro is the victim of the unspeakable horrors of police brutality. We can never be satisfied as long as our bodies, heavy with the fatigue of travel, cannot gain lodging in the motels of the highways and the hotels of the cities. **We cannot be satisfied as long as the negro's basic mobility is from a smaller ghetto to a larger one. We can never be satisfied as long as our children are stripped of their self-hood and robbed of their dignity by signs stating: \"For Whites Only.\"** We cannot be satisfied as long as a Negro in Mississippi cannot vote and a Negro in New York believes he has nothing for which to vote. No, no, we are not satisfied, and we will not be satisfied until \"justice rolls down like waters, and righteousness like a mighty stream.\"1\n",
    "\n",
    "I am not unmindful that some of you have come here out of great trials and tribulations. Some of you have come fresh from narrow jail cells. And some of you have come from areas where your quest -- quest for freedom left you battered by the storms of persecution and staggered by the winds of police brutality. You have been the veterans of creative suffering. Continue to work with the faith that unearned suffering is redemptive. Go back to Mississippi, go back to Alabama, go back to South Carolina, go back to Georgia, go back to Louisiana, go back to the slums and ghettos of our northern cities, knowing that somehow this situation can and will be changed.\n",
    "\n",
    "Let us not wallow in the valley of despair, I say to you today, my friends.\n",
    "\n",
    "And so even though we face the difficulties of today and tomorrow, I still have a dream. It is a dream deeply rooted in the American dream.\n",
    "\n",
    "I have a dream that one day this nation will rise up and live out the true meaning of its creed: \"We hold these truths to be self-evident, that all men are created equal.\"\n",
    "\n",
    "I have a dream that one day on the red hills of Georgia, the sons of former slaves and the sons of former slave owners will be able to sit down together at the table of brotherhood.\n",
    "\n",
    "I have a dream that one day even the state of Mississippi, a state sweltering with the heat of injustice, sweltering with the heat of oppression, will be transformed into an oasis of freedom and justice.\n",
    "\n",
    "I have a dream that my four little children will one day live in a nation where they will not be judged by the color of their skin but by the content of their character.\n",
    "\n",
    "I have a dream today!\n",
    "\n",
    "I have a dream that one day, down in Alabama, with its vicious racists, with its governor having his lips dripping with the words of \"interposition\" and \"nullification\" -- one day right there in Alabama little black boys and black girls will be able to join hands with little white boys and white girls as sisters and brothers.\n",
    "\n",
    "I have a dream today!\n",
    "\n",
    "I have a dream that one day every valley shall be exalted, and every hill and mountain shall be made low, the rough places will be made plain, and the crooked places will be made straight; \"and the glory of the Lord shall be revealed and all flesh shall see it together.\"2\n",
    "\n",
    "This is our hope, and this is the faith that I go back to the South with.\n",
    "\n",
    "With this faith, we will be able to hew out of the mountain of despair a stone of hope. With this faith, we will be able to transform the jangling discords of our nation into a beautiful symphony of brotherhood. With this faith, we will be able to work together, to pray together, to struggle together, to go to jail together, to stand up for freedom together, knowing that we will be free one day.\n",
    "\n",
    "And this will be the day -- this will be the day when all of God's children will be able to sing with new meaning:\n",
    "\n",
    "My country 'tis of thee, sweet land of liberty, of thee I sing. Land where my fathers died, land of the Pilgrim's pride,    From every mountainside, let freedom ring!\n",
    "\n",
    "And if America is to be a great nation, this must become true.\n",
    "\n",
    "And so let freedom ring from the prodigious hilltops of New Hampshire.\n",
    "\n",
    "Let freedom ring from the mighty mountains of New York.\n",
    "\n",
    "Let freedom ring from the heightening Alleghenies of Pennsylvania.\n",
    "\n",
    "Let freedom ring from the snow-capped Rockies of Colorado.\n",
    "\n",
    "Let freedom ring from the curvaceous slopes of California.\n",
    "\n",
    "But not only that:\n",
    "\n",
    "Let freedom ring from Stone Mountain of Georgia.\n",
    "\n",
    "Let freedom ring from Lookout Mountain of Tennessee.\n",
    "\n",
    "Let freedom ring from every hill and molehill of Mississippi.\n",
    "\n",
    "From every mountainside, let freedom ring.\n",
    "\n",
    "And when this happens, and when we allow freedom ring, when we let it ring from every village and every hamlet, from every state and every city, we will be able to speed up that day when all of God's children, black men and white men, Jews and Gentiles, Protestants and Catholics, will be able to join hands and sing in the words of the old Negro spiritual:\n",
    "\n",
    "Free at last! Free at last!\n",
    "\n",
    "Thank God Almighty, we are free at last!\n",
    "\"\"\"\n"
   ]
  },
  {
   "cell_type": "code",
   "execution_count": 6,
   "metadata": {},
   "outputs": [],
   "source": [
    "rawInput=\"\"\"I am happy to join with you today in what will go down in history as the greatest demonstration for freedom in the history of our nation.\n",
    "\n",
    "Five score years ago, a great American, in whose symbolic shadow we stand today, signed the Emancipation Proclamation. This momentous decree came as a great beacon light of hope to millions of Negro slaves who had been seared in the flames of withering injustice. It came as a joyous daybreak to end the long night of their captivity.\n",
    "\n",
    "But one hundred years later, the Negro still is not free. One hundred years later, the life of the Negro is still sadly crippled by the manacles of segregation and the chains of discrimination. One hundred years later, the Negro lives on a lonely island of poverty in the midst of a vast ocean of material prosperity. One hundred years later, the Negro is still languished in the corners of American society and finds himself an exile in his own land. And so we've come here today to dramatize a shameful condition.\n",
    "\n",
    "In a sense we've come to our nation's capital to cash a check. When the architects of our republic wrote the magnificent words of the Constitution and the Declaration of Independence, they were signing a promissory note to which every American was to fall heir. This note was a promise that all men, yes, black men as well as white men, would be guaranteed the \"unalienable Rights\" of \"Life, Liberty and the pursuit of Happiness.\" It is obvious today that America has defaulted on this promissory note, insofar as her citizens of color are concerned. Instead of honoring this sacred obligation, America has given the Negro people a bad check, a check which has come back marked \"insufficient funds.\"\n",
    "\"\"\""
   ]
  },
  {
   "cell_type": "code",
   "execution_count": 7,
   "metadata": {},
   "outputs": [
    {
     "name": "stdout",
     "output_type": "stream",
     "text": [
      "I am happy to join with you today in what will go down in history as the greatest demonstration for freedom in the history of our nation.\n",
      "\n",
      "Five score years ago, a great American, in whose symbolic shadow we stand today, signed the Emancipation Proclamation. This momentous decree came as a great beacon light of hope to millions of Negro slaves who had been seared in the flames of withering injustice. It came as a joyous daybreak to end the long night of their captivity.\n",
      "\n",
      "But one hundred years later, the Negro still is not free. One hundred years later, the life of the Negro is still sadly crippled by the manacles of segregation and the chains of discrimination. One hundred years later, the Negro lives on a lonely island of poverty in the midst of a vast ocean of material prosperity. One hundred years later, the Negro is still languished in the corners of American society and finds himself an exile in his own land. And so we've come here today to dramatize a shameful condition.\n",
      "\n",
      "In a sense we've come to our nation's capital to cash a check. When the architects of our republic wrote the magnificent words of the Constitution and the Declaration of Independence, they were signing a promissory note to which every American was to fall heir. This note was a promise that all men, yes, black men as well as white men, would be guaranteed the \"unalienable Rights\" of \"Life, Liberty and the pursuit of Happiness.\" It is obvious today that America has defaulted on this promissory note, insofar as her citizens of color are concerned. Instead of honoring this sacred obligation, America has given the Negro people a bad check, a check which has come back marked \"insufficient funds.\"\n",
      "\n"
     ]
    }
   ],
   "source": [
    "# Need to swap out characters that are not recognised by Python such as invalid quotation marks\n",
    "transl_table = dict( [ (ord(x), ord(y)) for x,y in zip( u\"‘’´“”–-\",  u\"'''\\\"\\\"--\") ] ) \n",
    "translatedInput=rawInput.translate(transl_table)\n",
    "print(translatedInput)"
   ]
  },
  {
   "cell_type": "code",
   "execution_count": 8,
   "metadata": {},
   "outputs": [
    {
     "name": "stdout",
     "output_type": "stream",
     "text": [
      "['I', ' ', 'a', 'm', ' ', 'h', 'a', 'p', 'p', 'y', ' ', 't', 'o', ' ', 'j', 'o', 'i', 'n', ' ', 'w', 'i', 't', 'h', ' ', 'y', 'o', 'u', ' ', 't', 'o', 'd', 'a', 'y', ' ', 'i', 'n', ' ', 'w', 'h', 'a', 't', ' ', 'w', 'i', 'l', 'l', ' ', 'g', 'o', ' ', 'd', 'o', 'w', 'n', ' ', 'i', 'n', ' ', 'h', 'i', 's', 't', 'o', 'r', 'y', ' ', 'a', 's', ' ', 't', 'h', 'e', ' ', 'g', 'r', 'e', 'a', 't', 'e', 's', 't', ' ', 'd', 'e', 'm', 'o', 'n', 's', 't', 'r', 'a', 't', 'i', 'o', 'n', ' ', 'f', 'o', 'r', ' ', 'f', 'r', 'e', 'e', 'd', 'o', 'm', ' ', 'i', 'n', ' ', 't', 'h', 'e', ' ', 'h', 'i', 's', 't', 'o', 'r', 'y', ' ', 'o', 'f', ' ', 'o', 'u', 'r', ' ', 'n', 'a', 't', 'i', 'o', 'n', '.', '\\n', '\\n', 'F', 'i', 'v', 'e', ' ', 's', 'c', 'o', 'r', 'e', ' ', 'y', 'e', 'a', 'r', 's', ' ', 'a', 'g', 'o', ',', ' ', 'a', ' ', 'g', 'r', 'e', 'a', 't', ' ', 'A', 'm', 'e', 'r', 'i', 'c', 'a', 'n', ',', ' ', 'i', 'n', ' ', 'w', 'h', 'o', 's', 'e', ' ', 's', 'y', 'm', 'b', 'o', 'l', 'i', 'c', ' ', 's', 'h', 'a', 'd', 'o', 'w', ' ', 'w', 'e', ' ', 's', 't', 'a', 'n', 'd', ' ', 't', 'o', 'd', 'a', 'y', ',', ' ', 's', 'i', 'g', 'n', 'e', 'd', ' ', 't', 'h', 'e', ' ', 'E', 'm', 'a', 'n', 'c', 'i', 'p', 'a', 't', 'i', 'o', 'n', ' ', 'P', 'r', 'o', 'c', 'l', 'a', 'm', 'a', 't', 'i', 'o', 'n', '.', ' ', 'T', 'h', 'i', 's', ' ', 'm', 'o', 'm', 'e', 'n', 't', 'o', 'u', 's', ' ', 'd', 'e', 'c', 'r', 'e', 'e', ' ', 'c', 'a', 'm', 'e', ' ', 'a', 's', ' ', 'a', ' ', 'g', 'r', 'e', 'a', 't', ' ', 'b', 'e', 'a', 'c', 'o', 'n', ' ', 'l', 'i', 'g', 'h', 't', ' ', 'o', 'f', ' ', 'h', 'o', 'p', 'e', ' ', 't', 'o', ' ', 'm', 'i', 'l', 'l', 'i', 'o', 'n', 's', ' ', 'o', 'f', ' ', 'N', 'e', 'g', 'r', 'o', ' ', 's', 'l', 'a', 'v', 'e', 's', ' ', 'w', 'h', 'o', ' ', 'h', 'a', 'd', ' ', 'b', 'e', 'e', 'n', ' ', 's', 'e', 'a', 'r', 'e', 'd', ' ', 'i', 'n', ' ', 't', 'h', 'e', ' ', 'f', 'l', 'a', 'm', 'e', 's', ' ', 'o', 'f', ' ', 'w', 'i', 't', 'h', 'e', 'r', 'i', 'n', 'g', ' ', 'i', 'n', 'j', 'u', 's', 't', 'i', 'c', 'e', '.', ' ', 'I', 't', ' ', 'c', 'a', 'm', 'e', ' ', 'a', 's', ' ', 'a', ' ', 'j', 'o', 'y', 'o', 'u', 's', ' ', 'd', 'a', 'y', 'b', 'r', 'e', 'a', 'k', ' ', 't', 'o', ' ', 'e', 'n', 'd', ' ', 't', 'h', 'e', ' ', 'l', 'o', 'n', 'g', ' ', 'n', 'i', 'g', 'h', 't', ' ', 'o', 'f', ' ', 't', 'h', 'e', 'i', 'r', ' ', 'c', 'a', 'p', 't', 'i', 'v', 'i', 't', 'y', '.', '\\n', '\\n', 'B', 'u', 't', ' ', 'o', 'n', 'e', ' ', 'h', 'u', 'n', 'd', 'r', 'e', 'd', ' ', 'y', 'e', 'a', 'r', 's', ' ', 'l', 'a', 't', 'e', 'r', ',', ' ', 't', 'h', 'e', ' ', 'N', 'e', 'g', 'r', 'o', ' ', 's', 't', 'i', 'l', 'l', ' ', 'i', 's', ' ', 'n', 'o', 't', ' ', 'f', 'r', 'e', 'e', '.', ' ', 'O', 'n', 'e', ' ', 'h', 'u', 'n', 'd', 'r', 'e', 'd', ' ', 'y', 'e', 'a', 'r', 's', ' ', 'l', 'a', 't', 'e', 'r', ',', ' ', 't', 'h', 'e', ' ', 'l', 'i', 'f', 'e', ' ', 'o', 'f', ' ', 't', 'h', 'e', ' ', 'N', 'e', 'g', 'r', 'o', ' ', 'i', 's', ' ', 's', 't', 'i', 'l', 'l', ' ', 's', 'a', 'd', 'l', 'y', ' ', 'c', 'r', 'i', 'p', 'p', 'l', 'e', 'd', ' ', 'b', 'y', ' ', 't', 'h', 'e', ' ', 'm', 'a', 'n', 'a', 'c', 'l', 'e', 's', ' ', 'o', 'f', ' ', 's', 'e', 'g', 'r', 'e', 'g', 'a', 't', 'i', 'o', 'n', ' ', 'a', 'n', 'd', ' ', 't', 'h', 'e', ' ', 'c', 'h', 'a', 'i', 'n', 's', ' ', 'o', 'f', ' ', 'd', 'i', 's', 'c', 'r', 'i', 'm', 'i', 'n', 'a', 't', 'i', 'o', 'n', '.', ' ', 'O', 'n', 'e', ' ', 'h', 'u', 'n', 'd', 'r', 'e', 'd', ' ', 'y', 'e', 'a', 'r', 's', ' ', 'l', 'a', 't', 'e', 'r', ',', ' ', 't', 'h', 'e', ' ', 'N', 'e', 'g', 'r', 'o', ' ', 'l', 'i', 'v', 'e', 's', ' ', 'o', 'n', ' ', 'a', ' ', 'l', 'o', 'n', 'e', 'l', 'y', ' ', 'i', 's', 'l', 'a', 'n', 'd', ' ', 'o', 'f', ' ', 'p', 'o', 'v', 'e', 'r', 't', 'y', ' ', 'i', 'n', ' ', 't', 'h', 'e', ' ', 'm', 'i', 'd', 's', 't', ' ', 'o', 'f', ' ', 'a', ' ', 'v', 'a', 's', 't', ' ', 'o', 'c', 'e', 'a', 'n', ' ', 'o', 'f', ' ', 'm', 'a', 't', 'e', 'r', 'i', 'a', 'l', ' ', 'p', 'r', 'o', 's', 'p', 'e', 'r', 'i', 't', 'y', '.', ' ', 'O', 'n', 'e', ' ', 'h', 'u', 'n', 'd', 'r', 'e', 'd', ' ', 'y', 'e', 'a', 'r', 's', ' ', 'l', 'a', 't', 'e', 'r', ',', ' ', 't', 'h', 'e', ' ', 'N', 'e', 'g', 'r', 'o', ' ', 'i', 's', ' ', 's', 't', 'i', 'l', 'l', ' ', 'l', 'a', 'n', 'g', 'u', 'i', 's', 'h', 'e', 'd', ' ', 'i', 'n', ' ', 't', 'h', 'e', ' ', 'c', 'o', 'r', 'n', 'e', 'r', 's', ' ', 'o', 'f', ' ', 'A', 'm', 'e', 'r', 'i', 'c', 'a', 'n', ' ', 's', 'o', 'c', 'i', 'e', 't', 'y', ' ', 'a', 'n', 'd', ' ', 'f', 'i', 'n', 'd', 's', ' ', 'h', 'i', 'm', 's', 'e', 'l', 'f', ' ', 'a', 'n', ' ', 'e', 'x', 'i', 'l', 'e', ' ', 'i', 'n', ' ', 'h', 'i', 's', ' ', 'o', 'w', 'n', ' ', 'l', 'a', 'n', 'd', '.', ' ', 'A', 'n', 'd', ' ', 's', 'o', ' ', 'w', 'e', \"'\", 'v', 'e', ' ', 'c', 'o', 'm', 'e', ' ', 'h', 'e', 'r', 'e', ' ', 't', 'o', 'd', 'a', 'y', ' ', 't', 'o', ' ', 'd', 'r', 'a', 'm', 'a', 't', 'i', 'z', 'e', ' ', 'a', ' ', 's', 'h', 'a', 'm', 'e', 'f', 'u', 'l', ' ', 'c', 'o', 'n', 'd', 'i', 't', 'i', 'o', 'n', '.', '\\n', '\\n', 'I', 'n', ' ', 'a', ' ', 's', 'e', 'n', 's', 'e', ' ', 'w', 'e', \"'\", 'v', 'e', ' ', 'c', 'o', 'm', 'e', ' ', 't', 'o', ' ', 'o', 'u', 'r', ' ', 'n', 'a', 't', 'i', 'o', 'n', \"'\", 's', ' ', 'c', 'a', 'p', 'i', 't', 'a', 'l', ' ', 't', 'o', ' ', 'c', 'a', 's', 'h', ' ', 'a', ' ', 'c', 'h', 'e', 'c', 'k', '.', ' ', 'W', 'h', 'e', 'n', ' ', 't', 'h', 'e', ' ', 'a', 'r', 'c', 'h', 'i', 't', 'e', 'c', 't', 's', ' ', 'o', 'f', ' ', 'o', 'u', 'r', ' ', 'r', 'e', 'p', 'u', 'b', 'l', 'i', 'c', ' ', 'w', 'r', 'o', 't', 'e', ' ', 't', 'h', 'e', ' ', 'm', 'a', 'g', 'n', 'i', 'f', 'i', 'c', 'e', 'n', 't', ' ', 'w', 'o', 'r', 'd', 's', ' ', 'o', 'f', ' ', 't', 'h', 'e', ' ', 'C', 'o', 'n', 's', 't', 'i', 't', 'u', 't', 'i', 'o', 'n', ' ', 'a', 'n', 'd', ' ', 't', 'h', 'e', ' ', 'D', 'e', 'c', 'l', 'a', 'r', 'a', 't', 'i', 'o', 'n', ' ', 'o', 'f', ' ', 'I', 'n', 'd', 'e', 'p', 'e', 'n', 'd', 'e', 'n', 'c', 'e', ',', ' ', 't', 'h', 'e', 'y', ' ', 'w', 'e', 'r', 'e', ' ', 's', 'i', 'g', 'n', 'i', 'n', 'g', ' ', 'a', ' ', 'p', 'r', 'o', 'm', 'i', 's', 's', 'o', 'r', 'y', ' ', 'n', 'o', 't', 'e', ' ', 't', 'o', ' ', 'w', 'h', 'i', 'c', 'h', ' ', 'e', 'v', 'e', 'r', 'y', ' ', 'A', 'm', 'e', 'r', 'i', 'c', 'a', 'n', ' ', 'w', 'a', 's', ' ', 't', 'o', ' ', 'f', 'a', 'l', 'l', ' ', 'h', 'e', 'i', 'r', '.', ' ', 'T', 'h', 'i', 's', ' ', 'n', 'o', 't', 'e', ' ', 'w', 'a', 's', ' ', 'a', ' ', 'p', 'r', 'o', 'm', 'i', 's', 'e', ' ', 't', 'h', 'a', 't', ' ', 'a', 'l', 'l', ' ', 'm', 'e', 'n', ',', ' ', 'y', 'e', 's', ',', ' ', 'b', 'l', 'a', 'c', 'k', ' ', 'm', 'e', 'n', ' ', 'a', 's', ' ', 'w', 'e', 'l', 'l', ' ', 'a', 's', ' ', 'w', 'h', 'i', 't', 'e', ' ', 'm', 'e', 'n', ',', ' ', 'w', 'o', 'u', 'l', 'd', ' ', 'b', 'e', ' ', 'g', 'u', 'a', 'r', 'a', 'n', 't', 'e', 'e', 'd', ' ', 't', 'h', 'e', ' ', '\"', 'u', 'n', 'a', 'l', 'i', 'e', 'n', 'a', 'b', 'l', 'e', ' ', 'R', 'i', 'g', 'h', 't', 's', '\"', ' ', 'o', 'f', ' ', '\"', 'L', 'i', 'f', 'e', ',', ' ', 'L', 'i', 'b', 'e', 'r', 't', 'y', ' ', 'a', 'n', 'd', ' ', 't', 'h', 'e', ' ', 'p', 'u', 'r', 's', 'u', 'i', 't', ' ', 'o', 'f', ' ', 'H', 'a', 'p', 'p', 'i', 'n', 'e', 's', 's', '.', '\"', ' ', 'I', 't', ' ', 'i', 's', ' ', 'o', 'b', 'v', 'i', 'o', 'u', 's', ' ', 't', 'o', 'd', 'a', 'y', ' ', 't', 'h', 'a', 't', ' ', 'A', 'm', 'e', 'r', 'i', 'c', 'a', ' ', 'h', 'a', 's', ' ', 'd', 'e', 'f', 'a', 'u', 'l', 't', 'e', 'd', ' ', 'o', 'n', ' ', 't', 'h', 'i', 's', ' ', 'p', 'r', 'o', 'm', 'i', 's', 's', 'o', 'r', 'y', ' ', 'n', 'o', 't', 'e', ',', ' ', 'i', 'n', 's', 'o', 'f', 'a', 'r', ' ', 'a', 's', ' ', 'h', 'e', 'r', ' ', 'c', 'i', 't', 'i', 'z', 'e', 'n', 's', ' ', 'o', 'f', ' ', 'c', 'o', 'l', 'o', 'r', ' ', 'a', 'r', 'e', ' ', 'c', 'o', 'n', 'c', 'e', 'r', 'n', 'e', 'd', '.', ' ', 'I', 'n', 's', 't', 'e', 'a', 'd', ' ', 'o', 'f', ' ', 'h', 'o', 'n', 'o', 'r', 'i', 'n', 'g', ' ', 't', 'h', 'i', 's', ' ', 's', 'a', 'c', 'r', 'e', 'd', ' ', 'o', 'b', 'l', 'i', 'g', 'a', 't', 'i', 'o', 'n', ',', ' ', 'A', 'm', 'e', 'r', 'i', 'c', 'a', ' ', 'h', 'a', 's', ' ', 'g', 'i', 'v', 'e', 'n', ' ', 't', 'h', 'e', ' ', 'N', 'e', 'g', 'r', 'o', ' ', 'p', 'e', 'o', 'p', 'l', 'e', ' ', 'a', ' ', 'b', 'a', 'd', ' ', 'c', 'h', 'e', 'c', 'k', ',', ' ', 'a', ' ', 'c', 'h', 'e', 'c', 'k', ' ', 'w', 'h', 'i', 'c', 'h', ' ', 'h', 'a', 's', ' ', 'c', 'o', 'm', 'e', ' ', 'b', 'a', 'c', 'k', ' ', 'm', 'a', 'r', 'k', 'e', 'd', ' ', '\"', 'i', 'n', 's', 'u', 'f', 'f', 'i', 'c', 'i', 'e', 'n', 't', ' ', 'f', 'u', 'n', 'd', 's', '.', '\"', '\\n']\n"
     ]
    }
   ],
   "source": [
    "# Break down the phrase into a list of each indivdual character. \n",
    "phrase=list(translatedInput)\n",
    "print(phrase)"
   ]
  },
  {
   "cell_type": "code",
   "execution_count": 151,
   "metadata": {},
   "outputs": [],
   "source": [
    "# 6 Required\n",
    "a=\"The quick brown fox jumped over the lazy dog. THE QUICK BROWN DOG JUMPED OVER THE LAZY FOX\"\n",
    "phrase=list(a)"
   ]
  },
  {
   "cell_type": "code",
   "execution_count": 147,
   "metadata": {},
   "outputs": [],
   "source": [
    "# 3 Required\n",
    "a=\"The quick brown fox jumped over the lazy dog.\"\n",
    "phrase=list(a)"
   ]
  },
  {
   "cell_type": "code",
   "execution_count": 24,
   "metadata": {},
   "outputs": [
    {
     "name": "stdout",
     "output_type": "stream",
     "text": [
      "1951\n",
      "130.06666666666666\n"
     ]
    }
   ],
   "source": [
    "b = len(phrase)\n",
    "print(b)\n",
    "c=(b*8)/120\n",
    "\n",
    "print(c)"
   ]
  },
  {
   "cell_type": "markdown",
   "metadata": {},
   "source": [
    "# Stage I\n",
    "## Convert phrase into a list of DNA fragments no longer than 120 nucleotide bases long"
   ]
  },
  {
   "cell_type": "code",
   "execution_count": 24,
   "metadata": {},
   "outputs": [],
   "source": [
    "# Edited on 04/09 to include the termination sequence for fragments\n",
    "\n",
    "nucleotideFragments=[]\n",
    "usedCodes=[]\n",
    "nucleotideFragmentsDict={}\n",
    "nucleotideFragmentsDictLong={}\n",
    "\n",
    "nucleotideSequence=\"\"\n",
    "uniqueAddresses=[]\n",
    "\n",
    "counter=0\n",
    "# Determine the rough number of nucleotides required\n",
    "lengthOfPhrase=len(phrase)\n",
    "# maximumFragments=(lengthOfPhrase*8)/120\n",
    "terminationFragment=\"AT\"\n",
    "# Determine Address Coding Strategy\n",
    "# addressCodes=codingStrategy(maximumFragments)\n",
    "# addressCounter=0\n",
    "\n",
    "\n",
    "for index, letter  in enumerate(phrase):\n",
    "\n",
    "    nextCode=get_QUAT_NUCLEOTIDES(ASCII_List_Raw,letter)\n",
    "    \n",
    "    # Use this in future if we can't handle a symbol\n",
    "    if (nextCode)==True:\n",
    "#         print(nextCode)\n",
    "        continue\n",
    "    \n",
    "    if len(nucleotideSequence)+len(nextCode)<=120:\n",
    "        \n",
    "        nucleotideSequence=nucleotideSequence+nextCode\n",
    "        usedCodes.append(nextCode)\n",
    "        if index==lengthOfPhrase-1:    \n",
    "            nucleotideSequence=nucleotideSequence+terminationFragment #Added on 04/09/202\n",
    "            \n",
    "            nucleotideFragments.append(nucleotideSequence)\n",
    "            nucleotideFragmentsDict[counter]=nucleotideSequence\n",
    "            nucleotideFragmentsDictLong[counter]=usedCodes\n",
    "            usedCodes=[]\n",
    "            counter+=1\n",
    "            \n",
    "    else:\n",
    "        nucleotideSequence=nucleotideSequence+terminationFragment #Added on 04/09/202\n",
    "        \n",
    "        nucleotideFragments.append(nucleotideSequence)     \n",
    "        \n",
    "        nucleotideFragmentsDict[counter]=nucleotideSequence\n",
    "        nucleotideFragmentsDictLong[counter]=usedCodes\n",
    "        counter+=1\n",
    "        \n",
    "        usedCodes=[]\n",
    "        usedCodes.append(nextCode)\n",
    "        \n",
    "        nucleotideSequence=\"\"\n",
    "        nucleotideSequence=nucleotideSequence+nextCode\n",
    "    \n",
    " \n",
    "    \n",
    "    \n"
   ]
  },
  {
   "cell_type": "markdown",
   "metadata": {},
   "source": [
    "## Output Stage I"
   ]
  },
  {
   "cell_type": "code",
   "execution_count": 25,
   "metadata": {},
   "outputs": [
    {
     "name": "stdout",
     "output_type": "stream",
     "text": [
      "\n",
      "\n",
      "0 GTGACACGGCGAGCTTCCACGGCACGCGAGCCGTGCCGTGCCAGCACGGCCTAGCTTCGCACGGCATGCTTCGGCAGGCTTGCACGGCCTCGGCAGGCCTAGCACCACGGCCAGGCTTCGAT\n",
      "1 GCCTCCACGGCCTAGCTTCGGCTAGCGAGCCAGCACGGCAGGCTTGCACGGCCTCGGCACGCGAGCCTACACGGCCTCGGCAGGCTTAGCTTACACGGCTCGGCTTCGCACGGCTAAT\n",
      "2 GCTTCGGCCTCGGCTTGCACGGCAGGCTTGCACGGCACGCAGGCCGCCGCCTAGCTTCGGCCGCGCCAGCACGGCGAGCCGCCCACGGCCTAGCACGCTCCACGGCTCGGCCGCGCTCAT\n",
      "3 GCGAGCCTAGCTCGCCGCCGCCTACACGGCTAGCTCGCTTCGCTTCGGCTTGGCCGCCGCCTAGCCGCGCGAGCCTAGCAGGCTTCGGCTTGCACGGCTGGCTTCGGCCGCCACGGCTGAT\n",
      "4 GCCGCGCTCGCTCGCTAGCTTCGGCTTCCACGGCAGGCTTGCACGGCCTAGCACGCTCCACGGCACGCAGGCCGCCGCCTAGCTTCGGCCGCGCCAGCACGGCTTCGGCTGCACGAT\n",
      "5 GCTTCGGCCTCGCCGCCACGGCTTGGCGAGCCTAGCAGGCTTCGGCTTGCAGGCCGCACGCAGTCAGCAGGCCTGGCTCCACGGCCGCCGCGCCGCTTCGGCCGCGCTCCACGGCCAGAT\n",
      "6 GCTCGCGAGCCGCGCCGCCCACGGCGAGCTCGGCTTCGCAGGTCACGGCGACACGGCTCGGCCGCGCTCGCGAGCCTACACGGTAGGCTTCGCTCGCCGCGCAGGCGCCGCGAGCTTGAT\n",
      "7 CAGGTCACGGCAGGCTTGCACGGCCTCGGCACGCTTCGGCCGCCGCTCCACGGCCGCCGCCAGGCTTCGCGCGCTTCGGCTTAGCAGGCGCCCACGGCCGCCGCACGCGAGCTAGCTTCGAT\n",
      "8 GCCTCGCACGGCCTCGGCTCCACGGCCGCCGCCTAGCGAGCTTGGCTACACGGCCTAGCTTCGGCTAGCGAGCCAGCAGGTCACGGCCGCCGCAGGCTCGGCTTGGCTCGCTACACGAT\n",
      "9 GCCTAGCACGCTCCACGGTCTGCTTCGCGAGCTTGGCGCCGCAGGCCGTGCGAGCCTAGCAGGCTTCGGCTTGCACGGACGGCCGCGCTTCGGCGCCGCTTAGCGAGCTTCGCGAGCCTAAT\n",
      "10 GCAGGCTTCGGCTTGCAGGCCACGGAGTGCACGCAGGCCGCCCACGGCTTCGCTTCGGCTTCGCTCGCTTGGCCTAGCTTCGGCCTCGCCGCCCACGGCTAGCTCGCGCCGCCGCGCTCAT\n",
      "11 GCTCCACGGCGCCGCGAGCTTCGCTCCACGGCGAGCCGCCCACGGCGACACGGCTCGGCCGCGCTCGCGAGCCTACACGGCGCGCTCGCGAGCGCCGCTTCGGCTTGCACGGCTTAGCAGAT\n",
      "12 GCTCGGCACGCCTACACGGCTTCGGCTGCACGGCACGCTTCGGCCGTGCTCCACGGCCTAGCTTCGCACGGCTTCGCAGGCTTAGCTTAGCAGGCTTCGGCTTGGCCGCCCACGGCTTCGAT\n",
      "13 GCTGCACGGTCGCGCTCGCTCGGCCGCGCTTCGCACGGCCGCCGCTTAGCGAGCCTGGCTCGCCGCCCACGGCCTCGGCACGCTTCGCACGGCACGCGAGCTACACGGCGCGCTCGCTCAT\n",
      "14 GCTTGCACGGCCGCCGCTCGCGAGCCGCGCTCGCTACACGGCAGGCTTGCACGGCCTAGCACGCTCCACGGCTGGCTTAGCGAGCTTCGCTCGCCGCCCACGGCTTCGGCTGCACGAT\n",
      "15 GCCTCGGCAGGCCTAGCACGCTCGCCGCGCAGGCTTGGCTCGCACGGCAGGCTTGGCATGCCTCGCCGCCGCCTAGCAGGCGCCGCTCCAGGCCACGGTGAGCCTACACGGCGCCGCGAAT\n",
      "16 GCTTCGCTCCACGGCGAGCCGCCCACGGCGACACGGCATGCTTCGGCCAGGCTTCGGCCTCGCCGCCCACGGCTAGCGAGCCAGGCGCGCCGCGCTCGCGAGCAGGCACGGCCTAAT\n",
      "17 GCTTCGCACGGCTCGCTTGGCTACACGGCCTAGCACGCTCCACGGCTTAGCTTCGGCTTGGCTCGCACGGCTTGGCAGGCTCGGCACGCCTACACGGCTTCGGCTGCACGGCCTAGCACAT\n",
      "18 GCTCGCAGGCCGCCACGGCGCCGCGAGCCGTGCCTAGCAGGCCTGGCAGGCCTAGCCAGCAGGCCGCACGCAGTATGCCTCGCCTACACGGCTTCGGCTTGGCTCCACGGCACGCCTCAT\n",
      "19 GCTTGGCTAGCCGCGCTCGCTACACGGCCAGGCTCGCGAGCCGCGCCGCCCACGGCTTAGCGAGCCTAGCTCGCCGCCAGGTCACGGCCTAGCACGCTCCACGGTCGCGCTCGCTCGAT\n",
      "20 GCCGCGCTTCGCACGGCCGCCGCCTAGCAGGCTTAGCTTACACGGCAGGCCGCCCACGGCTTGGCTTCGGCCTACACGGCTGGCCGCGCTCGCTCCAGGCCACGGTCGCCGCTTGGCTCAT\n",
      "21 CACGGCACGCCTCGCTTGGCTAGCCGCGCTCGCTACACGGCCAGGCTCGCGAGCCGCGCCGCCCACGGCTTAGCGAGCCTAGCTCGCCGCCAGGTCACGGCCTAGCACGCTCCACGAT\n",
      "22 GCTTAGCAGGCTGGCTCCACGGCTTCGGCTGCACGGCCTAGCACGCTCCACGGTCGCGCTCGCTCGGCCGCGCTTCGCACGGCAGGCCGCCCACGGCCGCCGCCTAGCAGGCTTAGCTTAAT\n",
      "23 CACGGCCGCCGCGAGCTAGCTTAGCCAGCACGGCGCCGCCGCGCAGGCCGTGCCGTGCTTAGCTCGCTACACGGCGCGCCAGCACGGCCTAGCACGCTCCACGGCTTCGCGAGCTTGAT\n",
      "24 GCGAGCGCCGCTTAGCTCGCCGCCCACGGCTTCGGCTGCACGGCCGCCGCTCGCTCGGCCGCGCTCGCTCGGCGAGCCTAGCAGGCTTCGGCTTGCACGGCGAGCTTGGCTACACGAT\n",
      "25 GCCTAGCACGCTCCACGGCGCCGCACGCGAGCAGGCTTGGCCGCCCACGGCTTCGGCTGCACGGCTAGCAGGCCGCCGCGCCGCCGCGCAGGCTTCGCAGGCTTGGCGAGCCTAGCAGAT\n",
      "26 GCTTCGGCTTGCAGGCCACGGTCGCCGCTTGGCTCCACGGCACGCCTCGCTTGGCTAGCCGCGCTCGCTACACGGCCAGGCTCGCGAGCCGCGCCGCCCACGGCTTAGCGAGCCTAGCTCAT\n",
      "27 GCCGCCAGGTCACGGCCTAGCACGCTCCACGGTCGCGCTCGCTCGGCCGCGCTTCGCACGGCTTAGCAGGCCTGGCTCGCCGCCCACGGCTTCGGCTTGCACGGCGACACGGCTTAAT\n",
      "28 GCTTCGGCTTGGCTCGCTTAGCCAGCACGGCAGGCCGCCGCTTAGCGAGCTTGGCTACACGGCTTCGGCTGCACGGCCGTGCTTCGGCCTGGCTCGCCGCGCCTAGCCAGCACGGCAGAT\n",
      "29 GCTTGCACGGCCTAGCACGCTCCACGGCTTCGCAGGCTAGCCGCCGCCTACACGGCTTCGGCTGCACGGCGACACGGCCTGGCGAGCCGCCGCCTACACGGCTTCGGCGCCGCTCGCGAAT\n",
      "30 GCTTGCACGGCTTCGGCTGCACGGCTTCGCGAGCCTAGCTCGCCGCGCAGGCGAGCTTACACGGCCGTGCCGCGCTTCGGCCGCCGCCGTGCTCGCCGCGCAGGCCTAGCCAGCAGGCAT\n",
      "31 CACGGTCGCCGCTTGGCTCCACGGCACGCCTCGCTTGGCTAGCCGCGCTCGCTACACGGCCAGGCTCGCGAGCCGCGCCGCCCACGGCTTAGCGAGCCTAGCTCGCCGCCAGGTCACGAT\n",
      "32 GCCTAGCACGCTCCACGGTCGCGCTCGCTCGGCCGCGCTTCGCACGGCAGGCCGCCCACGGCCGCCGCCTAGCAGGCTTAGCTTACACGGCTTAGCGAGCTTGGCTCGGCCTCGCAGAT\n",
      "33 GCCGCCGCACGCTCGCTACACGGCAGGCTTGCACGGCCTAGCACGCTCCACGGCGCCGCTTCGGCCGCGCTTGGCTCGCCGCGCCGCCCACGGCTTCGGCTGCACGGTAGGCTTCGCTCAT\n",
      "34 GCCGCGCAGGCGCCGCGAGCTTGCACGGCCGCCGCTTCGGCGCCGCAGGCTCGCCTAGCCAGCACGGCGAGCTTGGCTACACGGCTGGCAGGCTTGGCTAGCCGCCCACGGCACGCAGAT\n",
      "35 GCTTCGCCGCCGCTCGCTTAGCTGCACGGCGAGCTTGCACGGCTCGCCACGCAGGCTTAGCTCCACGGCAGGCTTGCACGGCACGCAGGCCGCCCACGGCTTCGGCCTCGGCTTGCACGAT\n",
      "36 GCTTAGCGAGCTTGGCTACAGGCCACGGTAGGCTTGGCTACACGGCCGCCGCTTCGCACGGCCTCGGCTCCAGCCGCCTGGCTCCACGGCGCCGCTTCGGCTTCGCTCCACGGCACGCTCAT\n",
      "37 GCCGCGCTCCACGGCCTAGCTTCGGCTAGCGAGCCAGCACGGCCTAGCTTCGCACGGCTAGCCGCGCGAGCTTCGCGAGCCTAGCAGGCCATGCTCCACGGCGACACGGCCGCCGCACAT\n",
      "38 GCGAGCTTCGCTCGCTGGCCTCGCTTACACGGCGCCGCTTCGGCTTGGCTAGCAGGCCTAGCAGGCTTCGGCTTGCAGGCCGCACGCAGTGAGCTTGCACGGCGACACGGCCGCCGCTCAT\n",
      "39 GCTTGGCCGCCGCTCCACGGCCTCGGCTCCAGCCGCCTGGCTCCACGGCGCCGCTTCGGCTTCGCTCCACGGCCTAGCTTCGCACGGCTTCGGCCTCGCCGCCACGGCTTGGCGAGCCTAAT\n",
      "40 GCAGGCTTCGGCTTGCAGCCGCCGCCCACGGCGCCGCGAGCCGTGCAGGCCTAGCGAGCTTACACGGCCTAGCTTCGCACGGCGCCGCGAGCCGCCGCACCACGGCGACACGGCGCCAT\n",
      "41 GCACGCTCGCGCCGCAGGCAGGCCACGGAGCCGCACGCTCGCTTGCACGGCCTAGCACGCTCCACGGCGAGCCGCGCGCCGCACGCAGGCCTAGCTCGCGCCGCCTAGCCGCCCACGAT\n",
      "42 GCTTCGGCTGCACGGCTTCGGCCTCGCCGCCACGGCCGCGCTCGCCGTGCCTCGCGCGCTTAGCAGGCGCCCACGGCCTCGGCCGCGCTTCGGCCTAGCTCCACGGCCTAGCACGCTCAT\n",
      "43 CACGGCTTCGCGAGCTCGGCTTGGCAGGCTGGCAGGCGCCGCTCGCTTGGCCTACACGGCCTCGGCTTCGGCCGCGCTAGCCGCCCACGGCTTCGGCTGCACGGCCTAGCACGCTCCACGAT\n",
      "44 GTAGGGCTTCGGCTTGGCCGCCGCCTAGCAGGCCTAGCCTCGCCTAGCAGGCTTCGGCTTGCACGGCGAGCTTGGCTACACGGCCTAGCACGCTCCACGGTCGGCTCGCGCCGCTTAAT\n",
      "45 GCGAGCCGCGCGAGCCTAGCAGGCTTCGGCTTGCACGGCTTCGGCTGCACGGTGAGCTTGGCTAGCTCGCCGTGCTCGCTTGGCTAGCTCGCTTGGCGCCGCTCCAGGTCACGGCCTAAT\n",
      "46 GCACGCTCGCCAGCACGGCCTCGGCTCGCCGCGCTCCACGGCCGCCGCAGGCTCGGCTTGGCAGGCTTGGCTCGCACGGCGACACGGCCGTGCCGCGCTTCGGCTTCGCAGGCCGCCAT\n",
      "47 GCCGCCGCTTCGGCCGCGCCAGCACGGCTTGGCTTCGGCCTAGCTCCACGGCCTAGCTTCGCACGGCCTCGGCACGCAGGCGCCGCACCACGGCTCGCCTGGCTCGCCGCGCCAGCACGAT\n",
      "48 GTAGGCTTCGCTCGCCGCGCAGGCGCCGCGAGCTTGCACGGCCTCGGCGAGCCGCCCACGGCCTAGCTTCGCACGGCTGGCGAGCTTAGCTTACACGGCACGCTCGCAGGCCGCCAGGCAT\n",
      "49 CACGGAGTGCACGCAGGCCGCCCACGGCTTGGCTTCGGCCTAGCTCCACGGCCTCGGCGAGCCGCCCACGGCGACACGGCCGTGCCGCGCTTCGGCTTCGCAGGCCGCCGCTCCACGAT\n",
      "50 GCCTAGCACGCGAGCCTACACGGCGAGCTTAGCTTACACGGCTTCGCTCGCTTGCAGGTCACGGCCAGGCTCGCCGCCCAGGTCACGGCGCGCTTAGCGAGCGCCGCAGGCACGGCTTCAT\n",
      "51 GCTCGCTTGCACGGCGAGCCGCCCACGGCCTCGGCTCGCTTAGCTTACACGGCGAGCCGCCCACGGCCTCGGCACGCAGGCCTAGCTCCACGGCTTCGCTCGCTTGCAGGTCACGAT\n",
      "52 GCCTCGGCTTCGGCCTCGCTTAGCTACACGGCGCGCTCCACGGCTCGGCCTCGCGAGCCGCGCGAGCTTGGCCTAGCTCGCTCGCTACACGGCCTAGCACGCTCCACGCACAGCCTCAT\n",
      "53 GCTTGGCGAGCTTAGCAGGCTCGCTTGGCGAGCGCGCTTAGCTCCACGGACAGCAGGCTCGGCACGCCTAGCCGCCCACACACGGCTTCGGCTGCACGCACAGTCGTGCAGGCTGGCTCAT\n",
      "54 CAGGTCACGGTCGTGCAGGCGCGCTCGCCGCGCCTAGCCAGCACGGCGAGCTTGGCTACACGGCCTAGCACGCTCCACGGCCGTGCCTCGCCGCGCCGCCGCCTCGCAGGCCTACACGAT\n",
      "55 GCTTCGGCTGCACGGTGTGCGAGCCGTGCCGTGCAGGCTTGGCTCGCCGCCGCCGCCCAGGCCACACACGGTGAGCCTACACGGCAGGCCGCCCACGGCTTCGGCGCGCCTGGCAGAT\n",
      "56 GCTTCGGCCTCGCCGCCCACGGCCTAGCTTCGGCTAGCGAGCCAGCACGGCCTAGCACGCGAGCCTACACGGTAGGCTTCGCTCGCCGCGCAGGCGCCGCGACACGGCACGCGAGCCGCCAT\n",
      "57 CACGGCTAGCTCGCTGGCGAGCCTCGCTTAGCCTAGCTCGCTACACGGCTTCGGCTTGCACGGCCTAGCACGCAGGCCGCCCACGGCCGTGCCGCGCTTCGGCTTCGCAGGCCGCCAT\n",
      "58 GCCGCCGCTTCGGCCGCGCCAGCACGGCTTGGCTTCGGCCTAGCTCCAGGTCACGGCAGGCTTGGCCGCCGCTTCGGCTGGCGAGCCGCCACGGCGAGCCGCCCACGGCACGCTCGCCGCAT\n",
      "59 CACGGCGCCGCAGGCCTAGCAGGCCATGCTCGCTTGGCCGCCCACGGCTTCGGCTGCACGGCGCCGCTTCGGCTTAGCTTCGGCCGCCACGGCGAGCCGCGCTCCACGGCGCCGCTTCGAT\n",
      "60 GCTTGGCGCCGCTCGCCGCGCTTGGCTCGCTACAGGCCACGGTGAGCTTGGCCGCCGCCTAGCTCGCGAGCTACACGGCTTCGGCTGCACGGCACGCTTCGGCTTGGCTTCGGCCGCAT\n",
      "61 GCAGGCTTGGCTCGCACGGCCTAGCACGCAGGCCGCCCACGGCCGCCGCGAGCGCCGCCGCGCTCGCTACACGGCTTCGGCGCGCTTAGCAGGCTCGGCGAGCCTAGCAGGCTTCGAT\n",
      "62 GCTTGCAGGTCACGGTAGGCTTCGCTCGCCGCGCAGGCGCCGCGACACGGCACGCGAGCCGCCCACGGCTCGGCAGGCCTGGCTCGCTTGCACGGCCTAGCACGCTCCACGGTCGCGCTCAT\n",
      "63 GCTCGGCCGCGCTTCGCACGGCCGTGCTCGCTTCGGCCGTGCTTAGCTCCACGGCGACACGGCGCGCGAGCTACACGGCGCCGCACGCTCGCGCCGCAGGCAGGTCACGGCGACACGAT\n",
      "64 GCGCCGCACGCTCGCGCCGCAGGCACGGCCTCGGCACGCAGGCGCCGCACCACGGCACGCGAGCCGCCCACGGCGCCGCTTCGGCTTCGCTCCACGGCGCGCGAGCGCCGCAGGCACGAT\n",
      "65 GCTTCGCGAGCCGCGCAGGGCTCGCTACACGCACAGCAGGCTTGGCCGCCGCCTCGCTGGCTGGCAGGCGCCGCAGGCTCGCTTGGCCTACACGGCTGGCCTCGCTTGGCTAGCCGCCAT\n",
      "66 CAGGCCACACGCAAT\n",
      "--------------------------------\n",
      "0 : GTGACACGGCGAGCTTCCACGGCACGCGAGCCGTGCCGTGCCAGCACGGCCTAGCTTCGCACGGCATGCTTCGGCAGGCTTGCACGGCCTCGGCAGGCCTAGCACCACGGCCAGGCTTCGAT\n",
      "1 : GCCTCCACGGCCTAGCTTCGGCTAGCGAGCCAGCACGGCAGGCTTGCACGGCCTCGGCACGCGAGCCTACACGGCCTCGGCAGGCTTAGCTTACACGGCTCGGCTTCGCACGGCTAAT\n",
      "2 : GCTTCGGCCTCGGCTTGCACGGCAGGCTTGCACGGCACGCAGGCCGCCGCCTAGCTTCGGCCGCGCCAGCACGGCGAGCCGCCCACGGCCTAGCACGCTCCACGGCTCGGCCGCGCTCAT\n",
      "3 : GCGAGCCTAGCTCGCCGCCGCCTACACGGCTAGCTCGCTTCGCTTCGGCTTGGCCGCCGCCTAGCCGCGCGAGCCTAGCAGGCTTCGGCTTGCACGGCTGGCTTCGGCCGCCACGGCTGAT\n",
      "4 : GCCGCGCTCGCTCGCTAGCTTCGGCTTCCACGGCAGGCTTGCACGGCCTAGCACGCTCCACGGCACGCAGGCCGCCGCCTAGCTTCGGCCGCGCCAGCACGGCTTCGGCTGCACGAT\n",
      "5 : GCTTCGGCCTCGCCGCCACGGCTTGGCGAGCCTAGCAGGCTTCGGCTTGCAGGCCGCACGCAGTCAGCAGGCCTGGCTCCACGGCCGCCGCGCCGCTTCGGCCGCGCTCCACGGCCAGAT\n",
      "6 : GCTCGCGAGCCGCGCCGCCCACGGCGAGCTCGGCTTCGCAGGTCACGGCGACACGGCTCGGCCGCGCTCGCGAGCCTACACGGTAGGCTTCGCTCGCCGCGCAGGCGCCGCGAGCTTGAT\n",
      "7 : CAGGTCACGGCAGGCTTGCACGGCCTCGGCACGCTTCGGCCGCCGCTCCACGGCCGCCGCCAGGCTTCGCGCGCTTCGGCTTAGCAGGCGCCCACGGCCGCCGCACGCGAGCTAGCTTCGAT\n",
      "8 : GCCTCGCACGGCCTCGGCTCCACGGCCGCCGCCTAGCGAGCTTGGCTACACGGCCTAGCTTCGGCTAGCGAGCCAGCAGGTCACGGCCGCCGCAGGCTCGGCTTGGCTCGCTACACGAT\n",
      "9 : GCCTAGCACGCTCCACGGTCTGCTTCGCGAGCTTGGCGCCGCAGGCCGTGCGAGCCTAGCAGGCTTCGGCTTGCACGGACGGCCGCGCTTCGGCGCCGCTTAGCGAGCTTCGCGAGCCTAAT\n",
      "10 : GCAGGCTTCGGCTTGCAGGCCACGGAGTGCACGCAGGCCGCCCACGGCTTCGCTTCGGCTTCGCTCGCTTGGCCTAGCTTCGGCCTCGCCGCCCACGGCTAGCTCGCGCCGCCGCGCTCAT\n",
      "11 : GCTCCACGGCGCCGCGAGCTTCGCTCCACGGCGAGCCGCCCACGGCGACACGGCTCGGCCGCGCTCGCGAGCCTACACGGCGCGCTCGCGAGCGCCGCTTCGGCTTGCACGGCTTAGCAGAT\n",
      "12 : GCTCGGCACGCCTACACGGCTTCGGCTGCACGGCACGCTTCGGCCGTGCTCCACGGCCTAGCTTCGCACGGCTTCGCAGGCTTAGCTTAGCAGGCTTCGGCTTGGCCGCCCACGGCTTCGAT\n",
      "13 : GCTGCACGGTCGCGCTCGCTCGGCCGCGCTTCGCACGGCCGCCGCTTAGCGAGCCTGGCTCGCCGCCCACGGCCTCGGCACGCTTCGCACGGCACGCGAGCTACACGGCGCGCTCGCTCAT\n",
      "14 : GCTTGCACGGCCGCCGCTCGCGAGCCGCGCTCGCTACACGGCAGGCTTGCACGGCCTAGCACGCTCCACGGCTGGCTTAGCGAGCTTCGCTCGCCGCCCACGGCTTCGGCTGCACGAT\n",
      "15 : GCCTCGGCAGGCCTAGCACGCTCGCCGCGCAGGCTTGGCTCGCACGGCAGGCTTGGCATGCCTCGCCGCCGCCTAGCAGGCGCCGCTCCAGGCCACGGTGAGCCTACACGGCGCCGCGAAT\n",
      "16 : GCTTCGCTCCACGGCGAGCCGCCCACGGCGACACGGCATGCTTCGGCCAGGCTTCGGCCTCGCCGCCCACGGCTAGCGAGCCAGGCGCGCCGCGCTCGCGAGCAGGCACGGCCTAAT\n",
      "17 : GCTTCGCACGGCTCGCTTGGCTACACGGCCTAGCACGCTCCACGGCTTAGCTTCGGCTTGGCTCGCACGGCTTGGCAGGCTCGGCACGCCTACACGGCTTCGGCTGCACGGCCTAGCACAT\n",
      "18 : GCTCGCAGGCCGCCACGGCGCCGCGAGCCGTGCCTAGCAGGCCTGGCAGGCCTAGCCAGCAGGCCGCACGCAGTATGCCTCGCCTACACGGCTTCGGCTTGGCTCCACGGCACGCCTCAT\n",
      "19 : GCTTGGCTAGCCGCGCTCGCTACACGGCCAGGCTCGCGAGCCGCGCCGCCCACGGCTTAGCGAGCCTAGCTCGCCGCCAGGTCACGGCCTAGCACGCTCCACGGTCGCGCTCGCTCGAT\n",
      "20 : GCCGCGCTTCGCACGGCCGCCGCCTAGCAGGCTTAGCTTACACGGCAGGCCGCCCACGGCTTGGCTTCGGCCTACACGGCTGGCCGCGCTCGCTCCAGGCCACGGTCGCCGCTTGGCTCAT\n",
      "21 : CACGGCACGCCTCGCTTGGCTAGCCGCGCTCGCTACACGGCCAGGCTCGCGAGCCGCGCCGCCCACGGCTTAGCGAGCCTAGCTCGCCGCCAGGTCACGGCCTAGCACGCTCCACGAT\n",
      "22 : GCTTAGCAGGCTGGCTCCACGGCTTCGGCTGCACGGCCTAGCACGCTCCACGGTCGCGCTCGCTCGGCCGCGCTTCGCACGGCAGGCCGCCCACGGCCGCCGCCTAGCAGGCTTAGCTTAAT\n",
      "23 : CACGGCCGCCGCGAGCTAGCTTAGCCAGCACGGCGCCGCCGCGCAGGCCGTGCCGTGCTTAGCTCGCTACACGGCGCGCCAGCACGGCCTAGCACGCTCCACGGCTTCGCGAGCTTGAT\n",
      "24 : GCGAGCGCCGCTTAGCTCGCCGCCCACGGCTTCGGCTGCACGGCCGCCGCTCGCTCGGCCGCGCTCGCTCGGCGAGCCTAGCAGGCTTCGGCTTGCACGGCGAGCTTGGCTACACGAT\n",
      "25 : GCCTAGCACGCTCCACGGCGCCGCACGCGAGCAGGCTTGGCCGCCCACGGCTTCGGCTGCACGGCTAGCAGGCCGCCGCGCCGCCGCGCAGGCTTCGCAGGCTTGGCGAGCCTAGCAGAT\n",
      "26 : GCTTCGGCTTGCAGGCCACGGTCGCCGCTTGGCTCCACGGCACGCCTCGCTTGGCTAGCCGCGCTCGCTACACGGCCAGGCTCGCGAGCCGCGCCGCCCACGGCTTAGCGAGCCTAGCTCAT\n",
      "27 : GCCGCCAGGTCACGGCCTAGCACGCTCCACGGTCGCGCTCGCTCGGCCGCGCTTCGCACGGCTTAGCAGGCCTGGCTCGCCGCCCACGGCTTCGGCTTGCACGGCGACACGGCTTAAT\n",
      "28 : GCTTCGGCTTGGCTCGCTTAGCCAGCACGGCAGGCCGCCGCTTAGCGAGCTTGGCTACACGGCTTCGGCTGCACGGCCGTGCTTCGGCCTGGCTCGCCGCGCCTAGCCAGCACGGCAGAT\n",
      "29 : GCTTGCACGGCCTAGCACGCTCCACGGCTTCGCAGGCTAGCCGCCGCCTACACGGCTTCGGCTGCACGGCGACACGGCCTGGCGAGCCGCCGCCTACACGGCTTCGGCGCCGCTCGCGAAT\n",
      "30 : GCTTGCACGGCTTCGGCTGCACGGCTTCGCGAGCCTAGCTCGCCGCGCAGGCGAGCTTACACGGCCGTGCCGCGCTTCGGCCGCCGCCGTGCTCGCCGCGCAGGCCTAGCCAGCAGGCAT\n",
      "31 : CACGGTCGCCGCTTGGCTCCACGGCACGCCTCGCTTGGCTAGCCGCGCTCGCTACACGGCCAGGCTCGCGAGCCGCGCCGCCCACGGCTTAGCGAGCCTAGCTCGCCGCCAGGTCACGAT\n",
      "32 : GCCTAGCACGCTCCACGGTCGCGCTCGCTCGGCCGCGCTTCGCACGGCAGGCCGCCCACGGCCGCCGCCTAGCAGGCTTAGCTTACACGGCTTAGCGAGCTTGGCTCGGCCTCGCAGAT\n",
      "33 : GCCGCCGCACGCTCGCTACACGGCAGGCTTGCACGGCCTAGCACGCTCCACGGCGCCGCTTCGGCCGCGCTTGGCTCGCCGCGCCGCCCACGGCTTCGGCTGCACGGTAGGCTTCGCTCAT\n",
      "34 : GCCGCGCAGGCGCCGCGAGCTTGCACGGCCGCCGCTTCGGCGCCGCAGGCTCGCCTAGCCAGCACGGCGAGCTTGGCTACACGGCTGGCAGGCTTGGCTAGCCGCCCACGGCACGCAGAT\n",
      "35 : GCTTCGCCGCCGCTCGCTTAGCTGCACGGCGAGCTTGCACGGCTCGCCACGCAGGCTTAGCTCCACGGCAGGCTTGCACGGCACGCAGGCCGCCCACGGCTTCGGCCTCGGCTTGCACGAT\n",
      "36 : GCTTAGCGAGCTTGGCTACAGGCCACGGTAGGCTTGGCTACACGGCCGCCGCTTCGCACGGCCTCGGCTCCAGCCGCCTGGCTCCACGGCGCCGCTTCGGCTTCGCTCCACGGCACGCTCAT\n",
      "37 : GCCGCGCTCCACGGCCTAGCTTCGGCTAGCGAGCCAGCACGGCCTAGCTTCGCACGGCTAGCCGCGCGAGCTTCGCGAGCCTAGCAGGCCATGCTCCACGGCGACACGGCCGCCGCACAT\n",
      "38 : GCGAGCTTCGCTCGCTGGCCTCGCTTACACGGCGCCGCTTCGGCTTGGCTAGCAGGCCTAGCAGGCTTCGGCTTGCAGGCCGCACGCAGTGAGCTTGCACGGCGACACGGCCGCCGCTCAT\n",
      "39 : GCTTGGCCGCCGCTCCACGGCCTCGGCTCCAGCCGCCTGGCTCCACGGCGCCGCTTCGGCTTCGCTCCACGGCCTAGCTTCGCACGGCTTCGGCCTCGCCGCCACGGCTTGGCGAGCCTAAT\n",
      "40 : GCAGGCTTCGGCTTGCAGCCGCCGCCCACGGCGCCGCGAGCCGTGCAGGCCTAGCGAGCTTACACGGCCTAGCTTCGCACGGCGCCGCGAGCCGCCGCACCACGGCGACACGGCGCCAT\n",
      "41 : GCACGCTCGCGCCGCAGGCAGGCCACGGAGCCGCACGCTCGCTTGCACGGCCTAGCACGCTCCACGGCGAGCCGCGCGCCGCACGCAGGCCTAGCTCGCGCCGCCTAGCCGCCCACGAT\n",
      "42 : GCTTCGGCTGCACGGCTTCGGCCTCGCCGCCACGGCCGCGCTCGCCGTGCCTCGCGCGCTTAGCAGGCGCCCACGGCCTCGGCCGCGCTTCGGCCTAGCTCCACGGCCTAGCACGCTCAT\n",
      "43 : CACGGCTTCGCGAGCTCGGCTTGGCAGGCTGGCAGGCGCCGCTCGCTTGGCCTACACGGCCTCGGCTTCGGCCGCGCTAGCCGCCCACGGCTTCGGCTGCACGGCCTAGCACGCTCCACGAT\n",
      "44 : GTAGGGCTTCGGCTTGGCCGCCGCCTAGCAGGCCTAGCCTCGCCTAGCAGGCTTCGGCTTGCACGGCGAGCTTGGCTACACGGCCTAGCACGCTCCACGGTCGGCTCGCGCCGCTTAAT\n",
      "45 : GCGAGCCGCGCGAGCCTAGCAGGCTTCGGCTTGCACGGCTTCGGCTGCACGGTGAGCTTGGCTAGCTCGCCGTGCTCGCTTGGCTAGCTCGCTTGGCGCCGCTCCAGGTCACGGCCTAAT\n",
      "46 : GCACGCTCGCCAGCACGGCCTCGGCTCGCCGCGCTCCACGGCCGCCGCAGGCTCGGCTTGGCAGGCTTGGCTCGCACGGCGACACGGCCGTGCCGCGCTTCGGCTTCGCAGGCCGCCAT\n",
      "47 : GCCGCCGCTTCGGCCGCGCCAGCACGGCTTGGCTTCGGCCTAGCTCCACGGCCTAGCTTCGCACGGCCTCGGCACGCAGGCGCCGCACCACGGCTCGCCTGGCTCGCCGCGCCAGCACGAT\n",
      "48 : GTAGGCTTCGCTCGCCGCGCAGGCGCCGCGAGCTTGCACGGCCTCGGCGAGCCGCCCACGGCCTAGCTTCGCACGGCTGGCGAGCTTAGCTTACACGGCACGCTCGCAGGCCGCCAGGCAT\n",
      "49 : CACGGAGTGCACGCAGGCCGCCCACGGCTTGGCTTCGGCCTAGCTCCACGGCCTCGGCGAGCCGCCCACGGCGACACGGCCGTGCCGCGCTTCGGCTTCGCAGGCCGCCGCTCCACGAT\n",
      "50 : GCCTAGCACGCGAGCCTACACGGCGAGCTTAGCTTACACGGCTTCGCTCGCTTGCAGGTCACGGCCAGGCTCGCCGCCCAGGTCACGGCGCGCTTAGCGAGCGCCGCAGGCACGGCTTCAT\n",
      "51 : GCTCGCTTGCACGGCGAGCCGCCCACGGCCTCGGCTCGCTTAGCTTACACGGCGAGCCGCCCACGGCCTCGGCACGCAGGCCTAGCTCCACGGCTTCGCTCGCTTGCAGGTCACGAT\n",
      "52 : GCCTCGGCTTCGGCCTCGCTTAGCTACACGGCGCGCTCCACGGCTCGGCCTCGCGAGCCGCGCGAGCTTGGCCTAGCTCGCTCGCTACACGGCCTAGCACGCTCCACGCACAGCCTCAT\n",
      "53 : GCTTGGCGAGCTTAGCAGGCTCGCTTGGCGAGCGCGCTTAGCTCCACGGACAGCAGGCTCGGCACGCCTAGCCGCCCACACACGGCTTCGGCTGCACGCACAGTCGTGCAGGCTGGCTCAT\n",
      "54 : CAGGTCACGGTCGTGCAGGCGCGCTCGCCGCGCCTAGCCAGCACGGCGAGCTTGGCTACACGGCCTAGCACGCTCCACGGCCGTGCCTCGCCGCGCCGCCGCCTCGCAGGCCTACACGAT\n",
      "55 : GCTTCGGCTGCACGGTGTGCGAGCCGTGCCGTGCAGGCTTGGCTCGCCGCCGCCGCCCAGGCCACACACGGTGAGCCTACACGGCAGGCCGCCCACGGCTTCGGCGCGCCTGGCAGAT\n",
      "56 : GCTTCGGCCTCGCCGCCCACGGCCTAGCTTCGGCTAGCGAGCCAGCACGGCCTAGCACGCGAGCCTACACGGTAGGCTTCGCTCGCCGCGCAGGCGCCGCGACACGGCACGCGAGCCGCCAT\n",
      "57 : CACGGCTAGCTCGCTGGCGAGCCTCGCTTAGCCTAGCTCGCTACACGGCTTCGGCTTGCACGGCCTAGCACGCAGGCCGCCCACGGCCGTGCCGCGCTTCGGCTTCGCAGGCCGCCAT\n",
      "58 : GCCGCCGCTTCGGCCGCGCCAGCACGGCTTGGCTTCGGCCTAGCTCCAGGTCACGGCAGGCTTGGCCGCCGCTTCGGCTGGCGAGCCGCCACGGCGAGCCGCCCACGGCACGCTCGCCGCAT\n",
      "59 : CACGGCGCCGCAGGCCTAGCAGGCCATGCTCGCTTGGCCGCCCACGGCTTCGGCTGCACGGCGCCGCTTCGGCTTAGCTTCGGCCGCCACGGCGAGCCGCGCTCCACGGCGCCGCTTCGAT\n",
      "60 : GCTTGGCGCCGCTCGCCGCGCTTGGCTCGCTACAGGCCACGGTGAGCTTGGCCGCCGCCTAGCTCGCGAGCTACACGGCTTCGGCTGCACGGCACGCTTCGGCTTGGCTTCGGCCGCAT\n",
      "61 : GCAGGCTTGGCTCGCACGGCCTAGCACGCAGGCCGCCCACGGCCGCCGCGAGCGCCGCCGCGCTCGCTACACGGCTTCGGCGCGCTTAGCAGGCTCGGCGAGCCTAGCAGGCTTCGAT\n",
      "62 : GCTTGCAGGTCACGGTAGGCTTCGCTCGCCGCGCAGGCGCCGCGACACGGCACGCGAGCCGCCCACGGCTCGGCAGGCCTGGCTCGCTTGCACGGCCTAGCACGCTCCACGGTCGCGCTCAT\n",
      "63 : GCTCGGCCGCGCTTCGCACGGCCGTGCTCGCTTCGGCCGTGCTTAGCTCCACGGCGACACGGCGCGCGAGCTACACGGCGCCGCACGCTCGCGCCGCAGGCAGGTCACGGCGACACGAT\n",
      "64 : GCGCCGCACGCTCGCGCCGCAGGCACGGCCTCGGCACGCAGGCGCCGCACCACGGCACGCGAGCCGCCCACGGCGCCGCTTCGGCTTCGCTCCACGGCGCGCGAGCGCCGCAGGCACGAT\n",
      "65 : GCTTCGCGAGCCGCGCAGGGCTCGCTACACGCACAGCAGGCTTGGCCGCCGCCTCGCTGGCTGGCAGGCGCCGCAGGCTCGCTTGGCCTACACGGCTGGCCTCGCTTGGCTAGCCGCCAT\n",
      "66 : CAGGCCACACGCAAT\n",
      "--------------------------------\n",
      "0 : ['GTGA', 'CACG', 'GCGA', 'GCTTC', 'CACG', 'GCAC', 'GCGA', 'GCCGT', 'GCCGT', 'GCCAG', 'CACG', 'GCCTA', 'GCTTCG', 'CACG', 'GCAT', 'GCTTCG', 'GCAG', 'GCTTG', 'CACG', 'GCCTCG', 'GCAG', 'GCCTA', 'GCAC', 'CACG', 'GCCAG', 'GCTTCG']\n",
      "1 : ['GCCTC', 'CACG', 'GCCTA', 'GCTTCG', 'GCTA', 'GCGA', 'GCCAG', 'CACG', 'GCAG', 'GCTTG', 'CACG', 'GCCTCG', 'GCAC', 'GCGA', 'GCCTA', 'CACG', 'GCCTCG', 'GCAG', 'GCTTA', 'GCTTA', 'CACG', 'GCTCG', 'GCTTCG', 'CACG', 'GCTA']\n",
      "2 : ['GCTTCG', 'GCCTCG', 'GCTTG', 'CACG', 'GCAG', 'GCTTG', 'CACG', 'GCAC', 'GCAG', 'GCCGCC', 'GCCTA', 'GCTTCG', 'GCCGC', 'GCCAG', 'CACG', 'GCGA', 'GCCGCC', 'CACG', 'GCCTA', 'GCAC', 'GCTC', 'CACG', 'GCTCG', 'GCCGC', 'GCTC']\n",
      "3 : ['GCGA', 'GCCTA', 'GCTC', 'GCCGCC', 'GCCTA', 'CACG', 'GCTA', 'GCTC', 'GCTTC', 'GCTTCG', 'GCTTG', 'GCCGCC', 'GCCTA', 'GCCGC', 'GCGA', 'GCCTA', 'GCAG', 'GCTTCG', 'GCTTG', 'CACG', 'GCTG', 'GCTTCG', 'GCCGC', 'CACG', 'GCTG']\n",
      "4 : ['GCCGC', 'GCTC', 'GCTC', 'GCTA', 'GCTTCG', 'GCTTC', 'CACG', 'GCAG', 'GCTTG', 'CACG', 'GCCTA', 'GCAC', 'GCTC', 'CACG', 'GCAC', 'GCAG', 'GCCGCC', 'GCCTA', 'GCTTCG', 'GCCGC', 'GCCAG', 'CACG', 'GCTTCG', 'GCTG', 'CACG']\n",
      "5 : ['GCTTCG', 'GCCTC', 'GCCGC', 'CACG', 'GCTTG', 'GCGA', 'GCCTA', 'GCAG', 'GCTTCG', 'GCTTG', 'CAGGC', 'CGCA', 'CGCA', 'GTCA', 'GCAG', 'GCCTG', 'GCTC', 'CACG', 'GCCGCC', 'GCGCC', 'GCTTCG', 'GCCGC', 'GCTC', 'CACG', 'GCCAG']\n",
      "6 : ['GCTC', 'GCGA', 'GCCGC', 'GCCGCC', 'CACG', 'GCGA', 'GCTCG', 'GCTTCG', 'CAGGT', 'CACG', 'GCGA', 'CACG', 'GCTCG', 'GCCGC', 'GCTC', 'GCGA', 'GCCTA', 'CACG', 'GTAG', 'GCTTC', 'GCTC', 'GCCGC', 'GCAG', 'GCGCC', 'GCGA', 'GCTTG']\n",
      "7 : ['CAGGT', 'CACG', 'GCAG', 'GCTTG', 'CACG', 'GCCTCG', 'GCAC', 'GCTTCG', 'GCCGCC', 'GCTC', 'CACG', 'GCCGCC', 'GCCAG', 'GCTTC', 'GCGC', 'GCTTCG', 'GCTTA', 'GCAG', 'GCGCC', 'CACG', 'GCCGCC', 'GCAC', 'GCGA', 'GCTA', 'GCTTCG']\n",
      "8 : ['GCCTCG', 'CACG', 'GCCTCG', 'GCTC', 'CACG', 'GCCGCC', 'GCCTA', 'GCGA', 'GCTTG', 'GCTA', 'CACG', 'GCCTA', 'GCTTCG', 'GCTA', 'GCGA', 'GCCAG', 'CAGGT', 'CACG', 'GCCGCC', 'GCAG', 'GCTCG', 'GCTTG', 'GCTC', 'GCTA', 'CACG']\n",
      "9 : ['GCCTA', 'GCAC', 'GCTC', 'CACG', 'GTCT', 'GCTTC', 'GCGA', 'GCTTG', 'GCGCC', 'GCAG', 'GCCGT', 'GCGA', 'GCCTA', 'GCAG', 'GCTTCG', 'GCTTG', 'CACG', 'GACG', 'GCCGC', 'GCTTCG', 'GCGCC', 'GCTTA', 'GCGA', 'GCTTC', 'GCGA', 'GCCTA']\n",
      "10 : ['GCAG', 'GCTTCG', 'GCTTG', 'CAGGC', 'CACG', 'GAGT', 'GCAC', 'GCAG', 'GCCGCC', 'CACG', 'GCTTC', 'GCTTCG', 'GCTTC', 'GCTC', 'GCTTG', 'GCCTA', 'GCTTCG', 'GCCTC', 'GCCGCC', 'CACG', 'GCTA', 'GCTC', 'GCGCC', 'GCCGC', 'GCTC']\n",
      "11 : ['GCTC', 'CACG', 'GCGCC', 'GCGA', 'GCTTC', 'GCTC', 'CACG', 'GCGA', 'GCCGCC', 'CACG', 'GCGA', 'CACG', 'GCTCG', 'GCCGC', 'GCTC', 'GCGA', 'GCCTA', 'CACG', 'GCGC', 'GCTC', 'GCGA', 'GCGCC', 'GCTTCG', 'GCTTG', 'CACG', 'GCTTA', 'GCAG']\n",
      "12 : ['GCTCG', 'GCAC', 'GCCTA', 'CACG', 'GCTTCG', 'GCTG', 'CACG', 'GCAC', 'GCTTCG', 'GCCGT', 'GCTC', 'CACG', 'GCCTA', 'GCTTCG', 'CACG', 'GCTTC', 'GCAG', 'GCTTA', 'GCTTA', 'GCAG', 'GCTTCG', 'GCTTG', 'GCCGCC', 'CACG', 'GCTTCG']\n",
      "13 : ['GCTG', 'CACG', 'GTCGC', 'GCTC', 'GCTCG', 'GCCGC', 'GCTTCG', 'CACG', 'GCCGCC', 'GCTTA', 'GCGA', 'GCCTG', 'GCTC', 'GCCGCC', 'CACG', 'GCCTCG', 'GCAC', 'GCTTCG', 'CACG', 'GCAC', 'GCGA', 'GCTA', 'CACG', 'GCGC', 'GCTC', 'GCTC']\n",
      "14 : ['GCTTG', 'CACG', 'GCCGCC', 'GCTC', 'GCGA', 'GCCGC', 'GCTC', 'GCTA', 'CACG', 'GCAG', 'GCTTG', 'CACG', 'GCCTA', 'GCAC', 'GCTC', 'CACG', 'GCTG', 'GCTTA', 'GCGA', 'GCTTC', 'GCTC', 'GCCGCC', 'CACG', 'GCTTCG', 'GCTG', 'CACG']\n",
      "15 : ['GCCTCG', 'GCAG', 'GCCTA', 'GCAC', 'GCTC', 'GCCGC', 'GCAG', 'GCTTG', 'GCTCG', 'CACG', 'GCAG', 'GCTTG', 'GCAT', 'GCCTC', 'GCCGCC', 'GCCTA', 'GCAG', 'GCGCC', 'GCTC', 'CAGGC', 'CACG', 'GTGA', 'GCCTA', 'CACG', 'GCGCC', 'GCGA']\n",
      "16 : ['GCTTC', 'GCTC', 'CACG', 'GCGA', 'GCCGCC', 'CACG', 'GCGA', 'CACG', 'GCAT', 'GCTTCG', 'GCCAG', 'GCTTCG', 'GCCTC', 'GCCGCC', 'CACG', 'GCTA', 'GCGA', 'GCCAG', 'GCGC', 'GCCGC', 'GCTC', 'GCGA', 'GCAGG', 'CACG', 'GCCTA']\n",
      "17 : ['GCTTCG', 'CACG', 'GCTC', 'GCTTG', 'GCTA', 'CACG', 'GCCTA', 'GCAC', 'GCTC', 'CACG', 'GCTTA', 'GCTTCG', 'GCTTG', 'GCTCG', 'CACG', 'GCTTG', 'GCAG', 'GCTCG', 'GCAC', 'GCCTA', 'CACG', 'GCTTCG', 'GCTG', 'CACG', 'GCCTA', 'GCAC']\n",
      "18 : ['GCTC', 'GCAG', 'GCCGC', 'CACG', 'GCGCC', 'GCGA', 'GCCGT', 'GCCTA', 'GCAG', 'GCCTG', 'GCAG', 'GCCTA', 'GCCAG', 'CAGGC', 'CGCA', 'CGCA', 'GTAT', 'GCCTC', 'GCCTA', 'CACG', 'GCTTCG', 'GCTTG', 'GCTC', 'CACG', 'GCAC', 'GCCTC']\n",
      "19 : ['GCTTG', 'GCTA', 'GCCGC', 'GCTC', 'GCTA', 'CACG', 'GCCAG', 'GCTC', 'GCGA', 'GCCGC', 'GCCGCC', 'CACG', 'GCTTA', 'GCGA', 'GCCTA', 'GCTC', 'GCCGC', 'CAGGT', 'CACG', 'GCCTA', 'GCAC', 'GCTC', 'CACG', 'GTCGC', 'GCTC', 'GCTCG']\n",
      "20 : ['GCCGC', 'GCTTCG', 'CACG', 'GCCGCC', 'GCCTA', 'GCAG', 'GCTTA', 'GCTTA', 'CACG', 'GCAG', 'GCCGCC', 'CACG', 'GCTTG', 'GCTTCG', 'GCCTA', 'CACG', 'GCTG', 'GCCGC', 'GCTC', 'GCTC', 'CAGGC', 'CACG', 'GTCGCC', 'GCTTG', 'GCTC']\n",
      "21 : ['CACG', 'GCAC', 'GCCTC', 'GCTTG', 'GCTA', 'GCCGC', 'GCTC', 'GCTA', 'CACG', 'GCCAG', 'GCTC', 'GCGA', 'GCCGC', 'GCCGCC', 'CACG', 'GCTTA', 'GCGA', 'GCCTA', 'GCTC', 'GCCGC', 'CAGGT', 'CACG', 'GCCTA', 'GCAC', 'GCTC', 'CACG']\n",
      "22 : ['GCTTA', 'GCAG', 'GCTG', 'GCTC', 'CACG', 'GCTTCG', 'GCTG', 'CACG', 'GCCTA', 'GCAC', 'GCTC', 'CACG', 'GTCGC', 'GCTC', 'GCTCG', 'GCCGC', 'GCTTCG', 'CACG', 'GCAG', 'GCCGCC', 'CACG', 'GCCGCC', 'GCCTA', 'GCAG', 'GCTTA', 'GCTTA']\n",
      "23 : ['CACG', 'GCCGCC', 'GCGA', 'GCTA', 'GCTTA', 'GCCAG', 'CACG', 'GCGCC', 'GCCGC', 'GCAG', 'GCCGT', 'GCCGT', 'GCTTA', 'GCTC', 'GCTA', 'CACG', 'GCGC', 'GCCAG', 'CACG', 'GCCTA', 'GCAC', 'GCTC', 'CACG', 'GCTTC', 'GCGA', 'GCTTG']\n",
      "24 : ['GCGA', 'GCGCC', 'GCTTA', 'GCTC', 'GCCGCC', 'CACG', 'GCTTCG', 'GCTG', 'CACG', 'GCCGCC', 'GCTC', 'GCTCG', 'GCCGC', 'GCTC', 'GCTCG', 'GCGA', 'GCCTA', 'GCAG', 'GCTTCG', 'GCTTG', 'CACG', 'GCGA', 'GCTTG', 'GCTA', 'CACG']\n",
      "25 : ['GCCTA', 'GCAC', 'GCTC', 'CACG', 'GCGCC', 'GCAC', 'GCGA', 'GCAG', 'GCTTG', 'GCCGCC', 'CACG', 'GCTTCG', 'GCTG', 'CACG', 'GCTA', 'GCAG', 'GCCGCC', 'GCGCC', 'GCCGC', 'GCAG', 'GCTTC', 'GCAG', 'GCTTG', 'GCGA', 'GCCTA', 'GCAG']\n",
      "26 : ['GCTTCG', 'GCTTG', 'CAGGC', 'CACG', 'GTCGCC', 'GCTTG', 'GCTC', 'CACG', 'GCAC', 'GCCTC', 'GCTTG', 'GCTA', 'GCCGC', 'GCTC', 'GCTA', 'CACG', 'GCCAG', 'GCTC', 'GCGA', 'GCCGC', 'GCCGCC', 'CACG', 'GCTTA', 'GCGA', 'GCCTA', 'GCTC']\n",
      "27 : ['GCCGC', 'CAGGT', 'CACG', 'GCCTA', 'GCAC', 'GCTC', 'CACG', 'GTCGC', 'GCTC', 'GCTCG', 'GCCGC', 'GCTTCG', 'CACG', 'GCTTA', 'GCAG', 'GCCTG', 'GCTC', 'GCCGCC', 'CACG', 'GCTTCG', 'GCTTG', 'CACG', 'GCGA', 'CACG', 'GCTTA']\n",
      "28 : ['GCTTCG', 'GCTTG', 'GCTC', 'GCTTA', 'GCCAG', 'CACG', 'GCAG', 'GCCGCC', 'GCTTA', 'GCGA', 'GCTTG', 'GCTA', 'CACG', 'GCTTCG', 'GCTG', 'CACG', 'GCCGT', 'GCTTCG', 'GCCTG', 'GCTC', 'GCCGC', 'GCCTA', 'GCCAG', 'CACG', 'GCAG']\n",
      "29 : ['GCTTG', 'CACG', 'GCCTA', 'GCAC', 'GCTC', 'CACG', 'GCTTC', 'GCAG', 'GCTA', 'GCCGCC', 'GCCTA', 'CACG', 'GCTTCG', 'GCTG', 'CACG', 'GCGA', 'CACG', 'GCCTG', 'GCGA', 'GCCGCC', 'GCCTA', 'CACG', 'GCTTCG', 'GCGCC', 'GCTC', 'GCGA']\n",
      "30 : ['GCTTG', 'CACG', 'GCTTCG', 'GCTG', 'CACG', 'GCTTC', 'GCGA', 'GCCTA', 'GCTC', 'GCCGC', 'GCAG', 'GCGA', 'GCTTA', 'CACG', 'GCCGT', 'GCCGC', 'GCTTCG', 'GCCGCC', 'GCCGT', 'GCTC', 'GCCGC', 'GCAG', 'GCCTA', 'GCCAG', 'CAGGC']\n",
      "31 : ['CACG', 'GTCGCC', 'GCTTG', 'GCTC', 'CACG', 'GCAC', 'GCCTC', 'GCTTG', 'GCTA', 'GCCGC', 'GCTC', 'GCTA', 'CACG', 'GCCAG', 'GCTC', 'GCGA', 'GCCGC', 'GCCGCC', 'CACG', 'GCTTA', 'GCGA', 'GCCTA', 'GCTC', 'GCCGC', 'CAGGT', 'CACG']\n",
      "32 : ['GCCTA', 'GCAC', 'GCTC', 'CACG', 'GTCGC', 'GCTC', 'GCTCG', 'GCCGC', 'GCTTCG', 'CACG', 'GCAG', 'GCCGCC', 'CACG', 'GCCGCC', 'GCCTA', 'GCAG', 'GCTTA', 'GCTTA', 'CACG', 'GCTTA', 'GCGA', 'GCTTG', 'GCTCG', 'GCCTC', 'GCAG']\n",
      "33 : ['GCCGCC', 'GCAC', 'GCTC', 'GCTA', 'CACG', 'GCAG', 'GCTTG', 'CACG', 'GCCTA', 'GCAC', 'GCTC', 'CACG', 'GCGCC', 'GCTTCG', 'GCCGC', 'GCTTG', 'GCTC', 'GCCGC', 'GCCGCC', 'CACG', 'GCTTCG', 'GCTG', 'CACG', 'GTAG', 'GCTTC', 'GCTC']\n",
      "34 : ['GCCGC', 'GCAG', 'GCGCC', 'GCGA', 'GCTTG', 'CACG', 'GCCGCC', 'GCTTCG', 'GCGCC', 'GCAG', 'GCTC', 'GCCTA', 'GCCAG', 'CACG', 'GCGA', 'GCTTG', 'GCTA', 'CACG', 'GCTG', 'GCAG', 'GCTTG', 'GCTA', 'GCCGCC', 'CACG', 'GCAC', 'GCAG']\n",
      "35 : ['GCTTC', 'GCCGCC', 'GCTC', 'GCTTA', 'GCTG', 'CACG', 'GCGA', 'GCTTG', 'CACG', 'GCTC', 'GCCAC', 'GCAG', 'GCTTA', 'GCTC', 'CACG', 'GCAG', 'GCTTG', 'CACG', 'GCAC', 'GCAG', 'GCCGCC', 'CACG', 'GCTTCG', 'GCCTCG', 'GCTTG', 'CACG']\n",
      "36 : ['GCTTA', 'GCGA', 'GCTTG', 'GCTA', 'CAGGC', 'CACG', 'GTAG', 'GCTTG', 'GCTA', 'CACG', 'GCCGCC', 'GCTTCG', 'CACG', 'GCCTCG', 'GCTC', 'CAGCC', 'GCCTG', 'GCTC', 'CACG', 'GCGCC', 'GCTTCG', 'GCTTC', 'GCTC', 'CACG', 'GCAC', 'GCTC']\n",
      "37 : ['GCCGC', 'GCTC', 'CACG', 'GCCTA', 'GCTTCG', 'GCTA', 'GCGA', 'GCCAG', 'CACG', 'GCCTA', 'GCTTCG', 'CACG', 'GCTA', 'GCCGC', 'GCGA', 'GCTTC', 'GCGA', 'GCCTA', 'GCAG', 'GCCAT', 'GCTC', 'CACG', 'GCGA', 'CACG', 'GCCGCC', 'GCAC']\n",
      "38 : ['GCGA', 'GCTTC', 'GCTC', 'GCTG', 'GCCTC', 'GCTTA', 'CACG', 'GCGCC', 'GCTTCG', 'GCTTG', 'GCTA', 'GCAG', 'GCCTA', 'GCAG', 'GCTTCG', 'GCTTG', 'CAGGC', 'CGCA', 'CGCA', 'GTGA', 'GCTTG', 'CACG', 'GCGA', 'CACG', 'GCCGCC', 'GCTC']\n",
      "39 : ['GCTTG', 'GCCGCC', 'GCTC', 'CACG', 'GCCTCG', 'GCTC', 'CAGCC', 'GCCTG', 'GCTC', 'CACG', 'GCGCC', 'GCTTCG', 'GCTTC', 'GCTC', 'CACG', 'GCCTA', 'GCTTCG', 'CACG', 'GCTTCG', 'GCCTC', 'GCCGC', 'CACG', 'GCTTG', 'GCGA', 'GCCTA']\n",
      "40 : ['GCAG', 'GCTTCG', 'GCTTG', 'CAGCC', 'GCCGCC', 'CACG', 'GCGCC', 'GCGA', 'GCCGT', 'GCAG', 'GCCTA', 'GCGA', 'GCTTA', 'CACG', 'GCCTA', 'GCTTCG', 'CACG', 'GCGCC', 'GCGA', 'GCCGCC', 'GCAC', 'CACG', 'GCGA', 'CACG', 'GCGCC']\n",
      "41 : ['GCAC', 'GCTC', 'GCGCC', 'GCAGG', 'CAGGC', 'CACG', 'GAGCC', 'GCAC', 'GCTC', 'GCTTG', 'CACG', 'GCCTA', 'GCAC', 'GCTC', 'CACG', 'GCGA', 'GCCGC', 'GCGCC', 'GCAC', 'GCAG', 'GCCTA', 'GCTC', 'GCGCC', 'GCCTA', 'GCCGCC', 'CACG']\n",
      "42 : ['GCTTCG', 'GCTG', 'CACG', 'GCTTCG', 'GCCTC', 'GCCGC', 'CACG', 'GCCGC', 'GCTC', 'GCCGT', 'GCCTC', 'GCGC', 'GCTTA', 'GCAG', 'GCGCC', 'CACG', 'GCCTCG', 'GCCGC', 'GCTTCG', 'GCCTA', 'GCTC', 'CACG', 'GCCTA', 'GCAC', 'GCTC']\n",
      "43 : ['CACG', 'GCTTC', 'GCGA', 'GCTCG', 'GCTTG', 'GCAG', 'GCTG', 'GCAG', 'GCGCC', 'GCTC', 'GCTTG', 'GCCTA', 'CACG', 'GCCTCG', 'GCTTCG', 'GCCGC', 'GCTA', 'GCCGCC', 'CACG', 'GCTTCG', 'GCTG', 'CACG', 'GCCTA', 'GCAC', 'GCTC', 'CACG']\n",
      "44 : ['GTAGG', 'GCTTCG', 'GCTTG', 'GCCGCC', 'GCCTA', 'GCAG', 'GCCTA', 'GCCTC', 'GCCTA', 'GCAG', 'GCTTCG', 'GCTTG', 'CACG', 'GCGA', 'GCTTG', 'GCTA', 'CACG', 'GCCTA', 'GCAC', 'GCTC', 'CACG', 'GTCG', 'GCTC', 'GCGCC', 'GCTTA']\n",
      "45 : ['GCGA', 'GCCGC', 'GCGA', 'GCCTA', 'GCAG', 'GCTTCG', 'GCTTG', 'CACG', 'GCTTCG', 'GCTG', 'CACG', 'GTGA', 'GCTTG', 'GCTA', 'GCTC', 'GCCGT', 'GCTC', 'GCTTG', 'GCTA', 'GCTC', 'GCTTG', 'GCGCC', 'GCTC', 'CAGGT', 'CACG', 'GCCTA']\n",
      "46 : ['GCAC', 'GCTC', 'GCCAG', 'CACG', 'GCCTCG', 'GCTC', 'GCCGC', 'GCTC', 'CACG', 'GCCGCC', 'GCAG', 'GCTCG', 'GCTTG', 'GCAG', 'GCTTG', 'GCTCG', 'CACG', 'GCGA', 'CACG', 'GCCGT', 'GCCGC', 'GCTTCG', 'GCTTC', 'GCAG', 'GCCGCC']\n",
      "47 : ['GCCGCC', 'GCTTCG', 'GCCGC', 'GCCAG', 'CACG', 'GCTTG', 'GCTTCG', 'GCCTA', 'GCTC', 'CACG', 'GCCTA', 'GCTTCG', 'CACG', 'GCCTCG', 'GCAC', 'GCAG', 'GCGCC', 'GCAC', 'CACG', 'GCTC', 'GCCTG', 'GCTC', 'GCCGC', 'GCCAG', 'CACG']\n",
      "48 : ['GTAG', 'GCTTC', 'GCTC', 'GCCGC', 'GCAG', 'GCGCC', 'GCGA', 'GCTTG', 'CACG', 'GCCTCG', 'GCGA', 'GCCGCC', 'CACG', 'GCCTA', 'GCTTCG', 'CACG', 'GCTG', 'GCGA', 'GCTTA', 'GCTTA', 'CACG', 'GCAC', 'GCTC', 'GCAG', 'GCCGC', 'CAGGC']\n",
      "49 : ['CACG', 'GAGT', 'GCAC', 'GCAG', 'GCCGCC', 'CACG', 'GCTTG', 'GCTTCG', 'GCCTA', 'GCTC', 'CACG', 'GCCTCG', 'GCGA', 'GCCGCC', 'CACG', 'GCGA', 'CACG', 'GCCGT', 'GCCGC', 'GCTTCG', 'GCTTC', 'GCAG', 'GCCGCC', 'GCTC', 'CACG']\n",
      "50 : ['GCCTA', 'GCAC', 'GCGA', 'GCCTA', 'CACG', 'GCGA', 'GCTTA', 'GCTTA', 'CACG', 'GCTTC', 'GCTC', 'GCTTG', 'CAGGT', 'CACG', 'GCCAG', 'GCTC', 'GCCGCC', 'CAGGT', 'CACG', 'GCGC', 'GCTTA', 'GCGA', 'GCGCC', 'GCAGG', 'CACG', 'GCTTC']\n",
      "51 : ['GCTC', 'GCTTG', 'CACG', 'GCGA', 'GCCGCC', 'CACG', 'GCCTCG', 'GCTC', 'GCTTA', 'GCTTA', 'CACG', 'GCGA', 'GCCGCC', 'CACG', 'GCCTCG', 'GCAC', 'GCAG', 'GCCTA', 'GCTC', 'CACG', 'GCTTC', 'GCTC', 'GCTTG', 'CAGGT', 'CACG']\n",
      "52 : ['GCCTCG', 'GCTTCG', 'GCCTC', 'GCTTA', 'GCTA', 'CACG', 'GCGC', 'GCTC', 'CACG', 'GCTCG', 'GCCTC', 'GCGA', 'GCCGC', 'GCGA', 'GCTTG', 'GCCTA', 'GCTC', 'GCTC', 'GCTA', 'CACG', 'GCCTA', 'GCAC', 'GCTC', 'CACG', 'CACA', 'GCCTC']\n",
      "53 : ['GCTTG', 'GCGA', 'GCTTA', 'GCAG', 'GCTC', 'GCTTG', 'GCGA', 'GCGC', 'GCTTA', 'GCTC', 'CACG', 'GACA', 'GCAG', 'GCTCG', 'GCAC', 'GCCTA', 'GCCGCC', 'CACA', 'CACG', 'GCTTCG', 'GCTG', 'CACG', 'CACA', 'GTCGT', 'GCAG', 'GCTG', 'GCTC']\n",
      "54 : ['CAGGT', 'CACG', 'GTCGT', 'GCAG', 'GCGC', 'GCTC', 'GCCGC', 'GCCTA', 'GCCAG', 'CACG', 'GCGA', 'GCTTG', 'GCTA', 'CACG', 'GCCTA', 'GCAC', 'GCTC', 'CACG', 'GCCGT', 'GCCTC', 'GCCGC', 'GCCGCC', 'GCCTC', 'GCAG', 'GCCTA', 'CACG']\n",
      "55 : ['GCTTCG', 'GCTG', 'CACG', 'GTGT', 'GCGA', 'GCCGT', 'GCCGT', 'GCAG', 'GCTTG', 'GCTC', 'GCCGCC', 'GCCGCC', 'CAGGC', 'CACA', 'CACG', 'GTGA', 'GCCTA', 'CACG', 'GCAG', 'GCCGCC', 'CACG', 'GCTTCG', 'GCGC', 'GCCTG', 'GCAG']\n",
      "56 : ['GCTTCG', 'GCCTC', 'GCCGCC', 'CACG', 'GCCTA', 'GCTTCG', 'GCTA', 'GCGA', 'GCCAG', 'CACG', 'GCCTA', 'GCAC', 'GCGA', 'GCCTA', 'CACG', 'GTAG', 'GCTTC', 'GCTC', 'GCCGC', 'GCAG', 'GCGCC', 'GCGA', 'CACG', 'GCAC', 'GCGA', 'GCCGCC']\n",
      "57 : ['CACG', 'GCTA', 'GCTC', 'GCTG', 'GCGA', 'GCCTC', 'GCTTA', 'GCCTA', 'GCTC', 'GCTA', 'CACG', 'GCTTCG', 'GCTTG', 'CACG', 'GCCTA', 'GCAC', 'GCAG', 'GCCGCC', 'CACG', 'GCCGT', 'GCCGC', 'GCTTCG', 'GCTTC', 'GCAG', 'GCCGCC']\n",
      "58 : ['GCCGCC', 'GCTTCG', 'GCCGC', 'GCCAG', 'CACG', 'GCTTG', 'GCTTCG', 'GCCTA', 'GCTC', 'CAGGT', 'CACG', 'GCAG', 'GCTTG', 'GCCGCC', 'GCTTCG', 'GCTG', 'GCGA', 'GCCGC', 'CACG', 'GCGA', 'GCCGCC', 'CACG', 'GCAC', 'GCTC', 'GCCGC']\n",
      "59 : ['CACG', 'GCGCC', 'GCAG', 'GCCTA', 'GCAG', 'GCCAT', 'GCTC', 'GCTTG', 'GCCGCC', 'CACG', 'GCTTCG', 'GCTG', 'CACG', 'GCGCC', 'GCTTCG', 'GCTTA', 'GCTTCG', 'GCCGC', 'CACG', 'GCGA', 'GCCGC', 'GCTC', 'CACG', 'GCGCC', 'GCTTCG']\n",
      "60 : ['GCTTG', 'GCGCC', 'GCTC', 'GCCGC', 'GCTTG', 'GCTC', 'GCTA', 'CAGGC', 'CACG', 'GTGA', 'GCTTG', 'GCCGCC', 'GCCTA', 'GCTC', 'GCGA', 'GCTA', 'CACG', 'GCTTCG', 'GCTG', 'CACG', 'GCAC', 'GCTTCG', 'GCTTG', 'GCTTCG', 'GCCGC']\n",
      "61 : ['GCAG', 'GCTTG', 'GCTCG', 'CACG', 'GCCTA', 'GCAC', 'GCAG', 'GCCGCC', 'CACG', 'GCCGCC', 'GCGA', 'GCGCC', 'GCCGC', 'GCTC', 'GCTA', 'CACG', 'GCTTCG', 'GCGC', 'GCTTA', 'GCAG', 'GCTCG', 'GCGA', 'GCCTA', 'GCAG', 'GCTTCG']\n",
      "62 : ['GCTTG', 'CAGGT', 'CACG', 'GTAG', 'GCTTC', 'GCTC', 'GCCGC', 'GCAG', 'GCGCC', 'GCGA', 'CACG', 'GCAC', 'GCGA', 'GCCGCC', 'CACG', 'GCTCG', 'GCAG', 'GCCTG', 'GCTC', 'GCTTG', 'CACG', 'GCCTA', 'GCAC', 'GCTC', 'CACG', 'GTCGC', 'GCTC']\n",
      "63 : ['GCTCG', 'GCCGC', 'GCTTCG', 'CACG', 'GCCGT', 'GCTC', 'GCTTCG', 'GCCGT', 'GCTTA', 'GCTC', 'CACG', 'GCGA', 'CACG', 'GCGC', 'GCGA', 'GCTA', 'CACG', 'GCGCC', 'GCAC', 'GCTC', 'GCGCC', 'GCAGG', 'CAGGT', 'CACG', 'GCGA', 'CACG']\n",
      "64 : ['GCGCC', 'GCAC', 'GCTC', 'GCGCC', 'GCAGG', 'CACG', 'GCCTCG', 'GCAC', 'GCAG', 'GCGCC', 'GCAC', 'CACG', 'GCAC', 'GCGA', 'GCCGCC', 'CACG', 'GCGCC', 'GCTTCG', 'GCTTC', 'GCTC', 'CACG', 'GCGC', 'GCGA', 'GCGCC', 'GCAGG', 'CACG']\n",
      "65 : ['GCTTC', 'GCGA', 'GCCGC', 'GCAGG', 'GCTC', 'GCTA', 'CACG', 'CACA', 'GCAG', 'GCTTG', 'GCCGCC', 'GCCTC', 'GCTG', 'GCTG', 'GCAG', 'GCGCC', 'GCAG', 'GCTC', 'GCTTG', 'GCCTA', 'CACG', 'GCTG', 'GCCTC', 'GCTTG', 'GCTA', 'GCCGCC']\n",
      "66 : ['CAGGC', 'CACA', 'CGCA']\n",
      "The length of fragment:  0  is  122\n",
      "The length of fragment:  1  is  118\n",
      "The length of fragment:  2  is  120\n",
      "The length of fragment:  3  is  121\n",
      "The length of fragment:  4  is  117\n",
      "The length of fragment:  5  is  120\n",
      "The length of fragment:  6  is  120\n",
      "The length of fragment:  7  is  122\n",
      "The length of fragment:  8  is  119\n",
      "The length of fragment:  9  is  122\n",
      "The length of fragment:  10  is  121\n",
      "The length of fragment:  11  is  122\n",
      "The length of fragment:  12  is  122\n",
      "The length of fragment:  13  is  121\n",
      "The length of fragment:  14  is  118\n",
      "The length of fragment:  15  is  121\n",
      "The length of fragment:  16  is  117\n",
      "The length of fragment:  17  is  121\n",
      "The length of fragment:  18  is  120\n",
      "The length of fragment:  19  is  119\n",
      "The length of fragment:  20  is  121\n",
      "The length of fragment:  21  is  118\n",
      "The length of fragment:  22  is  122\n",
      "The length of fragment:  23  is  119\n",
      "The length of fragment:  24  is  118\n",
      "The length of fragment:  25  is  120\n",
      "The length of fragment:  26  is  122\n",
      "The length of fragment:  27  is  118\n"
     ]
    },
    {
     "name": "stdout",
     "output_type": "stream",
     "text": [
      "The length of fragment:  28  is  120\n",
      "The length of fragment:  29  is  121\n",
      "The length of fragment:  30  is  120\n",
      "The length of fragment:  31  is  120\n",
      "The length of fragment:  32  is  119\n",
      "The length of fragment:  33  is  121\n",
      "The length of fragment:  34  is  120\n",
      "The length of fragment:  35  is  121\n",
      "The length of fragment:  36  is  122\n",
      "The length of fragment:  37  is  120\n",
      "The length of fragment:  38  is  121\n",
      "The length of fragment:  39  is  122\n",
      "The length of fragment:  40  is  119\n",
      "The length of fragment:  41  is  119\n",
      "The length of fragment:  42  is  120\n",
      "The length of fragment:  43  is  122\n",
      "The length of fragment:  44  is  119\n",
      "The length of fragment:  45  is  120\n",
      "The length of fragment:  46  is  119\n",
      "The length of fragment:  47  is  121\n",
      "The length of fragment:  48  is  121\n",
      "The length of fragment:  49  is  119\n",
      "The length of fragment:  50  is  121\n",
      "The length of fragment:  51  is  117\n",
      "The length of fragment:  52  is  119\n",
      "The length of fragment:  53  is  121\n",
      "The length of fragment:  54  is  120\n",
      "The length of fragment:  55  is  118\n",
      "The length of fragment:  56  is  122\n",
      "The length of fragment:  57  is  118\n",
      "The length of fragment:  58  is  122\n",
      "The length of fragment:  59  is  121\n",
      "The length of fragment:  60  is  119\n",
      "The length of fragment:  61  is  118\n",
      "The length of fragment:  62  is  122\n",
      "The length of fragment:  63  is  119\n",
      "The length of fragment:  64  is  120\n",
      "The length of fragment:  65  is  120\n",
      "The length of fragment:  66  is  15\n",
      "Total nucleotide length for phrase is:  7939  bases\n"
     ]
    }
   ],
   "source": [
    "print(\"\\n\")\n",
    "for a,z in enumerate((nucleotideFragments)):\n",
    "    print (a,z)\n",
    "print(\"--------------------------------\")  \n",
    "for i in nucleotideFragmentsDict:\n",
    "    print(i,\":\",nucleotideFragmentsDict[i])\n",
    "print(\"--------------------------------\")\n",
    "for i in nucleotideFragmentsDictLong:\n",
    "    print(i,\":\",nucleotideFragmentsDictLong[i])\n",
    "nucleotideSum=0\n",
    "for i in nucleotideFragmentsDict:\n",
    "    print(\"The length of fragment: \", i, \" is \", len(nucleotideFragmentsDict[i]))\n",
    "    nucleotideSum+=len(nucleotideFragmentsDict[i])\n",
    "print (\"Total nucleotide length for phrase is: \", nucleotideSum, \" bases\")"
   ]
  },
  {
   "cell_type": "markdown",
   "metadata": {},
   "source": [
    "# Stage II\n",
    "## Loop over list of DNA fragments and assign a unique primer to each fragment\n",
    "### This fragment is tested so that it is unique and also does not feature in the information itself. The complimentary primer is also tested"
   ]
  },
  {
   "cell_type": "code",
   "execution_count": 26,
   "metadata": {},
   "outputs": [],
   "source": [
    "DNAfragmentList=nucleotideFragments\n",
    "\n",
    "\n",
    "uniqueAddressCounter=0\n",
    "uniqueAddress=[]\n",
    "uniqueCompAddress=[]\n",
    "fragmentDict={}\n",
    "\n",
    "\n",
    "# Try to produce the unique codes with the smallest nucleotides possible\n",
    "try:\n",
    "    uniqueAddressList=codingStrategy(len(DNAfragmentList))\n",
    "    \n",
    "    \n",
    "    for i in DNAfragmentList:\n",
    "        addressCode=uniqueAddressList[uniqueAddressCounter]\n",
    "        compAddressCode=complimentaryPrimer(uniqueAddressList[uniqueAddressCounter])\n",
    "#         print(\"Next Fragment\")\n",
    "        if (addressCode in i) or (compAddressCode in i) or (addressCode in uniqueAddress):\n",
    "            startingUAC=uniqueAddressCounter    \n",
    "            while (addressCode in i) or (compAddressCode in i) or (addressCode in uniqueAddress):\n",
    "#                 print(\"Found a case\")\n",
    "#                 print(addressCode,compAddressCode)\n",
    "                uniqueAddressCounter+=1\n",
    "                addressCode=uniqueAddressList[uniqueAddressCounter]\n",
    "                compAddressCode=complimentaryPrimer(uniqueAddressList[uniqueAddressCounter])\n",
    "\n",
    "\n",
    "            fragmentDict[addressCode]=i\n",
    "\n",
    "            uniqueAddress.append(addressCode)\n",
    "            uniqueCompAddress.append(compAddressCode)\n",
    "            uniqueAddressCounter=startingUAC\n",
    "\n",
    "        else:\n",
    "            fragmentDict[addressCode]=i\n",
    "\n",
    "            uniqueAddress.append(addressCode)\n",
    "            uniqueCompAddress.append(compAddressCode)\n",
    "            uniqueAddressCounter+=1\n",
    "\n",
    "# If not, restart the process with longer unique address codes            \n",
    "except:\n",
    "    uniqueAddress=[]\n",
    "    uniqueCompAddress=[]\n",
    "    fragmentDict={}\n",
    "    uniqueAddressCounter=0\n",
    "    for x in range(0,21):\n",
    "        if len(DNAfragmentList)<4**x:\n",
    "            print(x)\n",
    "            uniqueAddressList=codingStrategy((4**x))\n",
    "            break\n",
    "    print(uniqueAddressList)\n",
    "    for i in DNAfragmentList:\n",
    "        addressCode=uniqueAddressList[uniqueAddressCounter]\n",
    "        compAddressCode=complimentaryPrimer(uniqueAddressList[uniqueAddressCounter])\n",
    "#         print(\"Next Fragment\")\n",
    "        if (addressCode in i) or (compAddressCode in i) or (addressCode in uniqueAddress):\n",
    "            startingUAC=uniqueAddressCounter    \n",
    "            while (addressCode in i) or (compAddressCode in i) or (addressCode in uniqueAddress):\n",
    "#                 print(\"Found a case\")\n",
    "#                 print(addressCode,compAddressCode)\n",
    "                uniqueAddressCounter+=1\n",
    "                addressCode=uniqueAddressList[uniqueAddressCounter]\n",
    "                compAddressCode=complimentaryPrimer(uniqueAddressList[uniqueAddressCounter])\n",
    "\n",
    "\n",
    "            fragmentDict[addressCode]=i\n",
    "\n",
    "            uniqueAddress.append(addressCode)\n",
    "            uniqueCompAddress.append(compAddressCode)\n",
    "            uniqueAddressCounter=startingUAC\n",
    "\n",
    "        else:\n",
    "            fragmentDict[addressCode]=i\n",
    "\n",
    "            uniqueAddress.append(addressCode)\n",
    "            uniqueCompAddress.append(compAddressCode)\n",
    "            uniqueAddressCounter+=1\n"
   ]
  },
  {
   "cell_type": "markdown",
   "metadata": {},
   "source": [
    "## Stage II Output"
   ]
  },
  {
   "cell_type": "code",
   "execution_count": 27,
   "metadata": {},
   "outputs": [
    {
     "name": "stdout",
     "output_type": "stream",
     "text": [
      "67\n",
      "AAGA GTGACACGGCGAGCTTCCACGGCACGCGAGCCGTGCCGTGCCAGCACGGCCTAGCTTCGCACGGCATGCTTCGGCAGGCTTGCACGGCCTCGGCAGGCCTAGCACCACGGCCAGGCTTCGAT\n",
      "AAGG GCCTCCACGGCCTAGCTTCGGCTAGCGAGCCAGCACGGCAGGCTTGCACGGCCTCGGCACGCGAGCCTACACGGCCTCGGCAGGCTTAGCTTACACGGCTCGGCTTCGCACGGCTAAT\n",
      "AAGT GCTTCGGCCTCGGCTTGCACGGCAGGCTTGCACGGCACGCAGGCCGCCGCCTAGCTTCGGCCGCGCCAGCACGGCGAGCCGCCCACGGCCTAGCACGCTCCACGGCTCGGCCGCGCTCAT\n",
      "AACA GCGAGCCTAGCTCGCCGCCGCCTACACGGCTAGCTCGCTTCGCTTCGGCTTGGCCGCCGCCTAGCCGCGCGAGCCTAGCAGGCTTCGGCTTGCACGGCTGGCTTCGGCCGCCACGGCTGAT\n",
      "AACC GCCGCGCTCGCTCGCTAGCTTCGGCTTCCACGGCAGGCTTGCACGGCCTAGCACGCTCCACGGCACGCAGGCCGCCGCCTAGCTTCGGCCGCGCCAGCACGGCTTCGGCTGCACGAT\n",
      "AACT GCTTCGGCCTCGCCGCCACGGCTTGGCGAGCCTAGCAGGCTTCGGCTTGCAGGCCGCACGCAGTCAGCAGGCCTGGCTCCACGGCCGCCGCGCCGCTTCGGCCGCGCTCCACGGCCAGAT\n",
      "AACG GCTCGCGAGCCGCGCCGCCCACGGCGAGCTCGGCTTCGCAGGTCACGGCGACACGGCTCGGCCGCGCTCGCGAGCCTACACGGTAGGCTTCGCTCGCCGCGCAGGCGCCGCGAGCTTGAT\n",
      "AATA CAGGTCACGGCAGGCTTGCACGGCCTCGGCACGCTTCGGCCGCCGCTCCACGGCCGCCGCCAGGCTTCGCGCGCTTCGGCTTAGCAGGCGCCCACGGCCGCCGCACGCGAGCTAGCTTCGAT\n",
      "AATG GCCTCGCACGGCCTCGGCTCCACGGCCGCCGCCTAGCGAGCTTGGCTACACGGCCTAGCTTCGGCTAGCGAGCCAGCAGGTCACGGCCGCCGCAGGCTCGGCTTGGCTCGCTACACGAT\n",
      "AATT GCCTAGCACGCTCCACGGTCTGCTTCGCGAGCTTGGCGCCGCAGGCCGTGCGAGCCTAGCAGGCTTCGGCTTGCACGGACGGCCGCGCTTCGGCGCCGCTTAGCGAGCTTCGCGAGCCTAAT\n",
      "AATC GCAGGCTTCGGCTTGCAGGCCACGGAGTGCACGCAGGCCGCCCACGGCTTCGCTTCGGCTTCGCTCGCTTGGCCTAGCTTCGGCCTCGCCGCCCACGGCTAGCTCGCGCCGCCGCGCTCAT\n",
      "AGAA GCTCCACGGCGCCGCGAGCTTCGCTCCACGGCGAGCCGCCCACGGCGACACGGCTCGGCCGCGCTCGCGAGCCTACACGGCGCGCTCGCGAGCGCCGCTTCGGCTTGCACGGCTTAGCAGAT\n",
      "AGAG GCTCGGCACGCCTACACGGCTTCGGCTGCACGGCACGCTTCGGCCGTGCTCCACGGCCTAGCTTCGCACGGCTTCGCAGGCTTAGCTTAGCAGGCTTCGGCTTGGCCGCCCACGGCTTCGAT\n",
      "AGAC GCTGCACGGTCGCGCTCGCTCGGCCGCGCTTCGCACGGCCGCCGCTTAGCGAGCCTGGCTCGCCGCCCACGGCCTCGGCACGCTTCGCACGGCACGCGAGCTACACGGCGCGCTCGCTCAT\n",
      "AGAT GCTTGCACGGCCGCCGCTCGCGAGCCGCGCTCGCTACACGGCAGGCTTGCACGGCCTAGCACGCTCCACGGCTGGCTTAGCGAGCTTCGCTCGCCGCCCACGGCTTCGGCTGCACGAT\n",
      "AAGC GCCTCGGCAGGCCTAGCACGCTCGCCGCGCAGGCTTGGCTCGCACGGCAGGCTTGGCATGCCTCGCCGCCGCCTAGCAGGCGCCGCTCCAGGCCACGGTGAGCCTACACGGCGCCGCGAAT\n",
      "AGGA GCTTCGCTCCACGGCGAGCCGCCCACGGCGACACGGCATGCTTCGGCCAGGCTTCGGCCTCGCCGCCCACGGCTAGCGAGCCAGGCGCGCCGCGCTCGCGAGCAGGCACGGCCTAAT\n",
      "AGTA GCTTCGCACGGCTCGCTTGGCTACACGGCCTAGCACGCTCCACGGCTTAGCTTCGGCTTGGCTCGCACGGCTTGGCAGGCTCGGCACGCCTACACGGCTTCGGCTGCACGGCCTAGCACAT\n",
      "AGCT GCTCGCAGGCCGCCACGGCGCCGCGAGCCGTGCCTAGCAGGCCTGGCAGGCCTAGCCAGCAGGCCGCACGCAGTATGCCTCGCCTACACGGCTTCGGCTTGGCTCCACGGCACGCCTCAT\n",
      "AGTC GCTTGGCTAGCCGCGCTCGCTACACGGCCAGGCTCGCGAGCCGCGCCGCCCACGGCTTAGCGAGCCTAGCTCGCCGCCAGGTCACGGCCTAGCACGCTCCACGGTCGCGCTCGCTCGAT\n",
      "AGTG GCCGCGCTTCGCACGGCCGCCGCCTAGCAGGCTTAGCTTACACGGCAGGCCGCCCACGGCTTGGCTTCGGCCTACACGGCTGGCCGCGCTCGCTCCAGGCCACGGTCGCCGCTTGGCTCAT\n",
      "AGTT CACGGCACGCCTCGCTTGGCTAGCCGCGCTCGCTACACGGCCAGGCTCGCGAGCCGCGCCGCCCACGGCTTAGCGAGCCTAGCTCGCCGCCAGGTCACGGCCTAGCACGCTCCACGAT\n",
      "ACAA GCTTAGCAGGCTGGCTCCACGGCTTCGGCTGCACGGCCTAGCACGCTCCACGGTCGCGCTCGCTCGGCCGCGCTTCGCACGGCAGGCCGCCCACGGCCGCCGCCTAGCAGGCTTAGCTTAAT\n",
      "ACAG CACGGCCGCCGCGAGCTAGCTTAGCCAGCACGGCGCCGCCGCGCAGGCCGTGCCGTGCTTAGCTCGCTACACGGCGCGCCAGCACGGCCTAGCACGCTCCACGGCTTCGCGAGCTTGAT\n",
      "AGGT GCGAGCGCCGCTTAGCTCGCCGCCCACGGCTTCGGCTGCACGGCCGCCGCTCGCTCGGCCGCGCTCGCTCGGCGAGCCTAGCAGGCTTCGGCTTGCACGGCGAGCTTGGCTACACGAT\n",
      "ACAC GCCTAGCACGCTCCACGGCGCCGCACGCGAGCAGGCTTGGCCGCCCACGGCTTCGGCTGCACGGCTAGCAGGCCGCCGCGCCGCCGCGCAGGCTTCGCAGGCTTGGCGAGCCTAGCAGAT\n",
      "AGCA GCTTCGGCTTGCAGGCCACGGTCGCCGCTTGGCTCCACGGCACGCCTCGCTTGGCTAGCCGCGCTCGCTACACGGCCAGGCTCGCGAGCCGCGCCGCCCACGGCTTAGCGAGCCTAGCTCAT\n",
      "ACAT GCCGCCAGGTCACGGCCTAGCACGCTCCACGGTCGCGCTCGCTCGGCCGCGCTTCGCACGGCTTAGCAGGCCTGGCTCGCCGCCCACGGCTTCGGCTTGCACGGCGACACGGCTTAAT\n",
      "ACGC GCTTCGGCTTGGCTCGCTTAGCCAGCACGGCAGGCCGCCGCTTAGCGAGCTTGGCTACACGGCTTCGGCTGCACGGCCGTGCTTCGGCCTGGCTCGCCGCGCCTAGCCAGCACGGCAGAT\n",
      "ACGA GCTTGCACGGCCTAGCACGCTCCACGGCTTCGCAGGCTAGCCGCCGCCTACACGGCTTCGGCTGCACGGCGACACGGCCTGGCGAGCCGCCGCCTACACGGCTTCGGCGCCGCTCGCGAAT\n",
      "ACCA GCTTGCACGGCTTCGGCTGCACGGCTTCGCGAGCCTAGCTCGCCGCGCAGGCGAGCTTACACGGCCGTGCCGCGCTTCGGCCGCCGCCGTGCTCGCCGCGCAGGCCTAGCCAGCAGGCAT\n",
      "ACGT CACGGTCGCCGCTTGGCTCCACGGCACGCCTCGCTTGGCTAGCCGCGCTCGCTACACGGCCAGGCTCGCGAGCCGCGCCGCCCACGGCTTAGCGAGCCTAGCTCGCCGCCAGGTCACGAT\n",
      "ACCT GCCTAGCACGCTCCACGGTCGCGCTCGCTCGGCCGCGCTTCGCACGGCAGGCCGCCCACGGCCGCCGCCTAGCAGGCTTAGCTTACACGGCTTAGCGAGCTTGGCTCGGCCTCGCAGAT\n",
      "ACTA GCCGCCGCACGCTCGCTACACGGCAGGCTTGCACGGCCTAGCACGCTCCACGGCGCCGCTTCGGCCGCGCTTGGCTCGCCGCGCCGCCCACGGCTTCGGCTGCACGGTAGGCTTCGCTCAT\n",
      "ACTG GCCGCGCAGGCGCCGCGAGCTTGCACGGCCGCCGCTTCGGCGCCGCAGGCTCGCCTAGCCAGCACGGCGAGCTTGGCTACACGGCTGGCAGGCTTGGCTAGCCGCCCACGGCACGCAGAT\n",
      "ACCG GCTTCGCCGCCGCTCGCTTAGCTGCACGGCGAGCTTGCACGGCTCGCCACGCAGGCTTAGCTCCACGGCAGGCTTGCACGGCACGCAGGCCGCCCACGGCTTCGGCCTCGGCTTGCACGAT\n",
      "ACTC GCTTAGCGAGCTTGGCTACAGGCCACGGTAGGCTTGGCTACACGGCCGCCGCTTCGCACGGCCTCGGCTCCAGCCGCCTGGCTCCACGGCGCCGCTTCGGCTTCGCTCCACGGCACGCTCAT\n",
      "ACTT GCCGCGCTCCACGGCCTAGCTTCGGCTAGCGAGCCAGCACGGCCTAGCTTCGCACGGCTAGCCGCGCGAGCTTCGCGAGCCTAGCAGGCCATGCTCCACGGCGACACGGCCGCCGCACAT\n",
      "ATAA GCGAGCTTCGCTCGCTGGCCTCGCTTACACGGCGCCGCTTCGGCTTGGCTAGCAGGCCTAGCAGGCTTCGGCTTGCAGGCCGCACGCAGTGAGCTTGCACGGCGACACGGCCGCCGCTCAT\n",
      "AGGC GCTTGGCCGCCGCTCCACGGCCTCGGCTCCAGCCGCCTGGCTCCACGGCGCCGCTTCGGCTTCGCTCCACGGCCTAGCTTCGCACGGCTTCGGCCTCGCCGCCACGGCTTGGCGAGCCTAAT\n",
      "ATAG GCAGGCTTCGGCTTGCAGCCGCCGCCCACGGCGCCGCGAGCCGTGCAGGCCTAGCGAGCTTACACGGCCTAGCTTCGCACGGCGCCGCGAGCCGCCGCACCACGGCGACACGGCGCCAT\n",
      "ATAC GCACGCTCGCGCCGCAGGCAGGCCACGGAGCCGCACGCTCGCTTGCACGGCCTAGCACGCTCCACGGCGAGCCGCGCGCCGCACGCAGGCCTAGCTCGCGCCGCCTAGCCGCCCACGAT\n",
      "ATAT GCTTCGGCTGCACGGCTTCGGCCTCGCCGCCACGGCCGCGCTCGCCGTGCCTCGCGCGCTTAGCAGGCGCCCACGGCCTCGGCCGCGCTTCGGCCTAGCTCCACGGCCTAGCACGCTCAT\n",
      "ATGA CACGGCTTCGCGAGCTCGGCTTGGCAGGCTGGCAGGCGCCGCTCGCTTGGCCTACACGGCCTCGGCTTCGGCCGCGCTAGCCGCCCACGGCTTCGGCTGCACGGCCTAGCACGCTCCACGAT\n",
      "ATGG GTAGGGCTTCGGCTTGGCCGCCGCCTAGCAGGCCTAGCCTCGCCTAGCAGGCTTCGGCTTGCACGGCGAGCTTGGCTACACGGCCTAGCACGCTCCACGGTCGGCTCGCGCCGCTTAAT\n",
      "ATGC GCGAGCCGCGCGAGCCTAGCAGGCTTCGGCTTGCACGGCTTCGGCTGCACGGTGAGCTTGGCTAGCTCGCCGTGCTCGCTTGGCTAGCTCGCTTGGCGCCGCTCCAGGTCACGGCCTAAT\n",
      "ATGT GCACGCTCGCCAGCACGGCCTCGGCTCGCCGCGCTCCACGGCCGCCGCAGGCTCGGCTTGGCAGGCTTGGCTCGCACGGCGACACGGCCGTGCCGCGCTTCGGCTTCGCAGGCCGCCAT\n",
      "ATCA GCCGCCGCTTCGGCCGCGCCAGCACGGCTTGGCTTCGGCCTAGCTCCACGGCCTAGCTTCGCACGGCCTCGGCACGCAGGCGCCGCACCACGGCTCGCCTGGCTCGCCGCGCCAGCACGAT\n",
      "ATCT GTAGGCTTCGCTCGCCGCGCAGGCGCCGCGAGCTTGCACGGCCTCGGCGAGCCGCCCACGGCCTAGCTTCGCACGGCTGGCGAGCTTAGCTTACACGGCACGCTCGCAGGCCGCCAGGCAT\n",
      "ATCC CACGGAGTGCACGCAGGCCGCCCACGGCTTGGCTTCGGCCTAGCTCCACGGCCTCGGCGAGCCGCCCACGGCGACACGGCCGTGCCGCGCTTCGGCTTCGCAGGCCGCCGCTCCACGAT\n",
      "ATTA GCCTAGCACGCGAGCCTACACGGCGAGCTTAGCTTACACGGCTTCGCTCGCTTGCAGGTCACGGCCAGGCTCGCCGCCCAGGTCACGGCGCGCTTAGCGAGCGCCGCAGGCACGGCTTCAT\n",
      "ATTG GCTCGCTTGCACGGCGAGCCGCCCACGGCCTCGGCTCGCTTAGCTTACACGGCGAGCCGCCCACGGCCTCGGCACGCAGGCCTAGCTCCACGGCTTCGCTCGCTTGCAGGTCACGAT\n",
      "ATTC GCCTCGGCTTCGGCCTCGCTTAGCTACACGGCGCGCTCCACGGCTCGGCCTCGCGAGCCGCGCGAGCTTGGCCTAGCTCGCTCGCTACACGGCCTAGCACGCTCCACGCACAGCCTCAT\n",
      "GAGA GCTTGGCGAGCTTAGCAGGCTCGCTTGGCGAGCGCGCTTAGCTCCACGGACAGCAGGCTCGGCACGCCTAGCCGCCCACACACGGCTTCGGCTGCACGCACAGTCGTGCAGGCTGGCTCAT\n",
      "GAAG CAGGTCACGGTCGTGCAGGCGCGCTCGCCGCGCCTAGCCAGCACGGCGAGCTTGGCTACACGGCCTAGCACGCTCCACGGCCGTGCCTCGCCGCGCCGCCGCCTCGCAGGCCTACACGAT\n",
      "ATCG GCTTCGGCTGCACGGTGTGCGAGCCGTGCCGTGCAGGCTTGGCTCGCCGCCGCCGCCCAGGCCACACACGGTGAGCCTACACGGCAGGCCGCCCACGGCTTCGGCGCGCCTGGCAGAT\n",
      "GAAC GCTTCGGCCTCGCCGCCCACGGCCTAGCTTCGGCTAGCGAGCCAGCACGGCCTAGCACGCGAGCCTACACGGTAGGCTTCGCTCGCCGCGCAGGCGCCGCGACACGGCACGCGAGCCGCCAT\n",
      "GAGG CACGGCTAGCTCGCTGGCGAGCCTCGCTTAGCCTAGCTCGCTACACGGCTTCGGCTTGCACGGCCTAGCACGCAGGCCGCCCACGGCCGTGCCGCGCTTCGGCTTCGCAGGCCGCCAT\n",
      "GAAT GCCGCCGCTTCGGCCGCGCCAGCACGGCTTGGCTTCGGCCTAGCTCCAGGTCACGGCAGGCTTGGCCGCCGCTTCGGCTGGCGAGCCGCCACGGCGAGCCGCCCACGGCACGCTCGCCGCAT\n",
      "GAGT CACGGCGCCGCAGGCCTAGCAGGCCATGCTCGCTTGGCCGCCCACGGCTTCGGCTGCACGGCGCCGCTTCGGCTTAGCTTCGGCCGCCACGGCGAGCCGCGCTCCACGGCGCCGCTTCGAT\n",
      "GACA GCTTGGCGCCGCTCGCCGCGCTTGGCTCGCTACAGGCCACGGTGAGCTTGGCCGCCGCCTAGCTCGCGAGCTACACGGCTTCGGCTGCACGGCACGCTTCGGCTTGGCTTCGGCCGCAT\n",
      "GACG GCAGGCTTGGCTCGCACGGCCTAGCACGCAGGCCGCCCACGGCCGCCGCGAGCGCCGCCGCGCTCGCTACACGGCTTCGGCGCGCTTAGCAGGCTCGGCGAGCCTAGCAGGCTTCGAT\n",
      "GACT GCTTGCAGGTCACGGTAGGCTTCGCTCGCCGCGCAGGCGCCGCGACACGGCACGCGAGCCGCCCACGGCTCGGCAGGCCTGGCTCGCTTGCACGGCCTAGCACGCTCCACGGTCGCGCTCAT\n",
      "GACC GCTCGGCCGCGCTTCGCACGGCCGTGCTCGCTTCGGCCGTGCTTAGCTCCACGGCGACACGGCGCGCGAGCTACACGGCGCCGCACGCTCGCGCCGCAGGCAGGTCACGGCGACACGAT\n",
      "GATA GCGCCGCACGCTCGCGCCGCAGGCACGGCCTCGGCACGCAGGCGCCGCACCACGGCACGCGAGCCGCCCACGGCGCCGCTTCGGCTTCGCTCCACGGCGCGCGAGCGCCGCAGGCACGAT\n",
      "GATT GCTTCGCGAGCCGCGCAGGGCTCGCTACACGCACAGCAGGCTTGGCCGCCGCCTCGCTGGCTGGCAGGCGCCGCAGGCTCGCTTGGCCTACACGGCTGGCCTCGCTTGGCTAGCCGCCAT\n",
      "AGCG CAGGCCACACGCAAT\n",
      "AAGA  -  TTCT\n",
      "AAGG  -  TTCC\n",
      "AAGT  -  TTCA\n",
      "AACA  -  TTGT\n",
      "AACC  -  TTGG\n",
      "AACT  -  TTGA\n",
      "AACG  -  TTGC\n",
      "AATA  -  TTAT\n",
      "AATG  -  TTAC\n",
      "AATT  -  TTAA\n",
      "AATC  -  TTAG\n",
      "AGAA  -  TCTT\n",
      "AGAG  -  TCTC\n",
      "AGAC  -  TCTG\n",
      "AGAT  -  TCTA\n",
      "AAGC  -  TTCG\n",
      "AGGA  -  TCCT\n",
      "AGTA  -  TCAT\n",
      "AGCT  -  TCGA\n",
      "AGTC  -  TCAG\n",
      "AGTG  -  TCAC\n",
      "AGTT  -  TCAA\n",
      "ACAA  -  TGTT\n",
      "ACAG  -  TGTC\n",
      "AGGT  -  TCCA\n",
      "ACAC  -  TGTG\n",
      "AGCA  -  TCGT\n",
      "ACAT  -  TGTA\n",
      "ACGC  -  TGCG\n",
      "ACGA  -  TGCT\n",
      "ACCA  -  TGGT\n",
      "ACGT  -  TGCA\n",
      "ACCT  -  TGGA\n",
      "ACTA  -  TGAT\n",
      "ACTG  -  TGAC\n",
      "ACCG  -  TGGC\n",
      "ACTC  -  TGAG\n",
      "ACTT  -  TGAA\n",
      "ATAA  -  TATT\n",
      "AGGC  -  TCCG\n",
      "ATAG  -  TATC\n",
      "ATAC  -  TATG\n",
      "ATAT  -  TATA\n",
      "ATGA  -  TACT\n",
      "ATGG  -  TACC\n",
      "ATGC  -  TACG\n",
      "ATGT  -  TACA\n",
      "ATCA  -  TAGT\n",
      "ATCT  -  TAGA\n",
      "ATCC  -  TAGG\n",
      "ATTA  -  TAAT\n",
      "ATTG  -  TAAC\n",
      "ATTC  -  TAAG\n",
      "GAGA  -  CTCT\n",
      "GAAG  -  CTTC\n",
      "ATCG  -  TAGC\n",
      "GAAC  -  CTTG\n",
      "GAGG  -  CTCC\n",
      "GAAT  -  CTTA\n",
      "GAGT  -  CTCA\n",
      "GACA  -  CTGT\n",
      "GACG  -  CTGC\n",
      "GACT  -  CTGA\n",
      "GACC  -  CTGG\n",
      "GATA  -  CTAT\n",
      "GATT  -  CTAA\n",
      "AGCG  -  TCGC\n"
     ]
    }
   ],
   "source": [
    "print(len(fragmentDict))\n",
    "\n",
    "for i in (fragmentDict):\n",
    "    print(i,fragmentDict[i])\n",
    "    \n",
    "for j,k in zip(uniqueAddress,uniqueCompAddress):\n",
    "    print(j,\" - \", k)\n"
   ]
  },
  {
   "cell_type": "code",
   "execution_count": 28,
   "metadata": {},
   "outputs": [
    {
     "name": "stdout",
     "output_type": "stream",
     "text": [
      "Problem Here,  AGAT  found in  GCTTCGGCCTCGCCGCCACGGCTTGGCGAGCCTAGCAGGCTTCGGCTTGCAGGCCGCACGCAGTCAGCAGGCCTGGCTCCACGGCCGCCGCGCCGCTTCGGCCGCGCTCCACGGCCAGAT\n",
      "Problem Here,  AGTA  found in  GCTCGCAGGCCGCCACGGCGCCGCGAGCCGTGCCTAGCAGGCCTGGCAGGCCTAGCCAGCAGGCCGCACGCAGTATGCCTCGCCTACACGGCTTCGGCTTGGCTCCACGGCACGCCTCAT\n",
      "Problem Here,  AGCT  found in  GTGACACGGCGAGCTTCCACGGCACGCGAGCCGTGCCGTGCCAGCACGGCCTAGCTTCGCACGGCATGCTTCGGCAGGCTTGCACGGCCTCGGCAGGCCTAGCACCACGGCCAGGCTTCGAT\n",
      "Problem Here,  AGTC  found in  GCTTCGGCCTCGCCGCCACGGCTTGGCGAGCCTAGCAGGCTTCGGCTTGCAGGCCGCACGCAGTCAGCAGGCCTGGCTCCACGGCCGCCGCGCCGCTTCGGCCGCGCTCCACGGCCAGAT\n",
      "Problem Here,  AGTG  found in  GCAGGCTTCGGCTTGCAGGCCACGGAGTGCACGCAGGCCGCCCACGGCTTCGCTTCGGCTTCGCTCGCTTGGCCTAGCTTCGGCCTCGCCGCCCACGGCTAGCTCGCGCCGCCGCGCTCAT\n",
      "Problem Here,  ACAG  found in  GCTTAGCGAGCTTGGCTACAGGCCACGGTAGGCTTGGCTACACGGCCGCCGCTTCGCACGGCCTCGGCTCCAGCCGCCTGGCTCCACGGCGCCGCTTCGGCTTCGCTCCACGGCACGCTCAT\n",
      "Problem Here,  AGGT  found in  GCTCGCGAGCCGCGCCGCCCACGGCGAGCTCGGCTTCGCAGGTCACGGCGACACGGCTCGGCCGCGCTCGCGAGCCTACACGGTAGGCTTCGCTCGCCGCGCAGGCGCCGCGAGCTTGAT\n",
      "Problem Here,  ACAC  found in  GTGACACGGCGAGCTTCCACGGCACGCGAGCCGTGCCGTGCCAGCACGGCCTAGCTTCGCACGGCATGCTTCGGCAGGCTTGCACGGCCTCGGCAGGCCTAGCACCACGGCCAGGCTTCGAT\n",
      "Problem Here,  AGCA  found in  GTGACACGGCGAGCTTCCACGGCACGCGAGCCGTGCCGTGCCAGCACGGCCTAGCTTCGCACGGCATGCTTCGGCAGGCTTGCACGGCCTCGGCAGGCCTAGCACCACGGCCAGGCTTCGAT\n",
      "Problem Here,  ACAT  found in  GCTTCGCACGGCTCGCTTGGCTACACGGCCTAGCACGCTCCACGGCTTAGCTTCGGCTTGGCTCGCACGGCTTGGCAGGCTCGGCACGCCTACACGGCTTCGGCTGCACGGCCTAGCACAT\n",
      "Problem Here,  ACGC  found in  GTGACACGGCGAGCTTCCACGGCACGCGAGCCGTGCCGTGCCAGCACGGCCTAGCTTCGCACGGCATGCTTCGGCAGGCTTGCACGGCCTCGGCAGGCCTAGCACCACGGCCAGGCTTCGAT\n",
      "Problem Here,  ACGA  found in  GCCGCGCTCGCTCGCTAGCTTCGGCTTCCACGGCAGGCTTGCACGGCCTAGCACGCTCCACGGCACGCAGGCCGCCGCCTAGCTTCGGCCGCGCCAGCACGGCTTCGGCTGCACGAT\n",
      "Problem Here,  ACCA  found in  GTGACACGGCGAGCTTCCACGGCACGCGAGCCGTGCCGTGCCAGCACGGCCTAGCTTCGCACGGCATGCTTCGGCAGGCTTGCACGGCCTCGGCAGGCCTAGCACCACGGCCAGGCTTCGAT\n",
      "Problem Here,  AGGC  found in  GTGACACGGCGAGCTTCCACGGCACGCGAGCCGTGCCGTGCCAGCACGGCCTAGCTTCGCACGGCATGCTTCGGCAGGCTTGCACGGCCTCGGCAGGCCTAGCACCACGGCCAGGCTTCGAT\n",
      "Problem Here,  ATGC  found in  GTGACACGGCGAGCTTCCACGGCACGCGAGCCGTGCCGTGCCAGCACGGCCTAGCTTCGCACGGCATGCTTCGGCAGGCTTGCACGGCCTCGGCAGGCCTAGCACCACGGCCAGGCTTCGAT\n",
      "Problem Here,  GAAT  found in  GCCTCGGCAGGCCTAGCACGCTCGCCGCGCAGGCTTGGCTCGCACGGCAGGCTTGGCATGCCTCGCCGCCGCCTAGCAGGCGCCGCTCCAGGCCACGGTGAGCCTACACGGCGCCGCGAAT\n",
      "Problem Here,  GAGT  found in  GCAGGCTTCGGCTTGCAGGCCACGGAGTGCACGCAGGCCGCCCACGGCTTCGCTTCGGCTTCGCTCGCTTGGCCTAGCTTCGGCCTCGCCGCCCACGGCTAGCTCGCGCCGCCGCGCTCAT\n",
      "Problem Here,  GACA  found in  GTGACACGGCGAGCTTCCACGGCACGCGAGCCGTGCCGTGCCAGCACGGCCTAGCTTCGCACGGCATGCTTCGGCAGGCTTGCACGGCCTCGGCAGGCCTAGCACCACGGCCAGGCTTCGAT\n",
      "Problem Here,  GACG  found in  GCCTAGCACGCTCCACGGTCTGCTTCGCGAGCTTGGCGCCGCAGGCCGTGCGAGCCTAGCAGGCTTCGGCTTGCACGGACGGCCGCGCTTCGGCGCCGCTTAGCGAGCTTCGCGAGCCTAAT\n",
      "Problem Here,  AGCG  found in  GCCTCCACGGCCTAGCTTCGGCTAGCGAGCCAGCACGGCAGGCTTGCACGGCCTCGGCACGCGAGCCTACACGGCCTCGGCAGGCTTAGCTTACACGGCTCGGCTTCGCACGGCTAAT\n"
     ]
    }
   ],
   "source": [
    "# Problem here whereby the unique address codes are being found in the fragments. Hmmmm...... \n",
    "\n",
    "for i in uniqueAddress:\n",
    "    for j in nucleotideFragments:\n",
    "        if i in j:\n",
    "            print(\"Problem Here, \",i,\" found in \",j)\n",
    "            break"
   ]
  },
  {
   "cell_type": "code",
   "execution_count": 96,
   "metadata": {},
   "outputs": [
    {
     "data": {
      "text/plain": [
       "True"
      ]
     },
     "execution_count": 96,
     "metadata": {},
     "output_type": "execute_result"
    }
   ],
   "source": [
    "\"GCCGT\" in \"GTAGGCTTGGCTACACGGCCTCGGCACGCTCGCTTGCACGGCCTAGCACGCAGGCCGCCCACGGCACGCGAGCCGTGCCGTGCTCGCTTGGCCGCCCAGGTCACGGCGAGCTTGGCTAAT\""
   ]
  },
  {
   "cell_type": "code",
   "execution_count": null,
   "metadata": {},
   "outputs": [],
   "source": []
  },
  {
   "cell_type": "code",
   "execution_count": null,
   "metadata": {},
   "outputs": [],
   "source": []
  },
  {
   "cell_type": "code",
   "execution_count": null,
   "metadata": {},
   "outputs": [],
   "source": []
  },
  {
   "cell_type": "code",
   "execution_count": null,
   "metadata": {},
   "outputs": [],
   "source": []
  },
  {
   "cell_type": "markdown",
   "metadata": {},
   "source": [
    "# Stage III\n",
    "## Compute the parity check for the address codes\n",
    "### Each address code is converted into its binary form, output is 1 if there are odd number of \"1\"s and 0 if there are even number of \"1\"s"
   ]
  },
  {
   "cell_type": "code",
   "execution_count": 28,
   "metadata": {},
   "outputs": [
    {
     "name": "stdout",
     "output_type": "stream",
     "text": [
      "{'AAGAA': 1, 'AAGAG': 0, 'AAGAC': 1, 'AAGAT': 0, 'AAGGA': 0, 'AAGGC': 0, 'AAGGT': 1, 'AAGCA': 1, 'AAGCG': 0, 'AAGCT': 0, 'AAGTA': 0, 'AAGTG': 1, 'AAGTC': 0, 'AAGCC': 1, 'AAGTT': 1, 'AACAA': 0, 'AACAG': 1, 'AACAC': 0, 'AACAT': 1, 'AACGA': 1, 'AACGG': 0, 'AACGC': 1, 'AACGT': 0, 'AACCA': 0, 'AACCT': 1, 'AACTA': 1, 'AACTG': 0, 'AACCG': 1, 'AACTC': 1, 'AACTT': 0, 'AATAA': 1, 'AATAG': 0, 'AATAC': 1, 'AATAT': 0, 'AATGA': 0, 'AATGG': 1, 'AATGC': 0, 'AATGT': 1, 'AATCA': 1, 'AATCG': 0, 'AATCC': 1, 'AATCT': 0, 'AATTA': 0, 'AATTG': 1, 'AATTC': 0, 'AGAAG': 0, 'AGAAC': 1, 'AGAAT': 0, 'AGAGA': 0, 'AGAGG': 1, 'AGAGC': 0, 'AGAGT': 1, 'AGACA': 1, 'AGACG': 0, 'AGACC': 1, 'AGACT': 0, 'AGATA': 0, 'AGATG': 1, 'AGATC': 0, 'AGATT': 1, 'AGGAA': 0, 'AGGAG': 1, 'AGGAC': 0, 'AGGAT': 1, 'AGGCC': 0, 'AGGCA': 0, 'AGGCG': 1, 'AGGCT': 1, 'AGGTA': 1, 'AGGTC': 1, 'AGGTT': 0, 'AGGTG': 0, 'AGCAA': 1, 'AGCAG': 0, 'AGCAT': 0, 'AGCGT': 1, 'AGCCA': 1, 'AGCGA': 0, 'AGCGG': 1, 'AGCAC': 1, 'AGCGC': 0, 'AGCCT': 0, 'AGCTA': 0, 'AGCTG': 1, 'AGCTC': 0, 'AGTAA': 0, 'AGTAG': 1, 'AGCTT': 1, 'AGTAC': 0, 'AGTAT': 1, 'AGTGA': 1, 'AGTGG': 0, 'AGTGC': 1, 'AGTGT': 0, 'AGTCA': 0, 'AGTCG': 1, 'AGTCC': 0, 'AGTCT': 1, 'AGTTA': 1, 'AGTTG': 0, 'AGTTC': 1, 'ACAAG': 1, 'ACAAC': 0, 'ACAAT': 1, 'ACAGA': 1, 'ACAGG': 0, 'ACAGC': 1, 'AGCCG': 0, 'ACAGT': 0, 'ACACA': 0, 'ACACC': 0, 'ACACT': 1, 'ACATA': 1, 'ACACG': 1, 'ACATG': 0, 'ACATC': 1, 'ACATT': 0, 'ACGAA': 1, 'ACGAC': 1, 'ACGAG': 0, 'ACGAT': 0, 'ACGGA': 0, 'ACGGT': 1, 'ACGCA': 1, 'ACGCG': 0, 'ACGCC': 1, 'ACGTA': 0, 'ACGTG': 1, 'ACGTC': 0, 'ACGTT': 1, 'ACGCT': 0, 'ACCAA': 0, 'ACCAG': 1, 'ACCAC': 0, 'ACCAT': 1, 'ACCGC': 1, 'ACCGG': 0, 'ACCGT': 0, 'ACCTA': 1, 'ACCTG': 0, 'ACCTC': 1, 'ACCTT': 0, 'ACCGA': 1, 'ACTAA': 1, 'ACTAG': 0, 'ACTAC': 1, 'ACTAT': 0, 'ACTGA': 0, 'ACTGG': 1, 'ACTGC': 0, 'ACTGT': 1, 'ACTCA': 1, 'ACTCG': 0, 'ACTCC': 1, 'ACTCT': 0, 'ACTTA': 0, 'ACTTG': 1, 'ACTTC': 0, 'ATAAG': 0, 'ATAAC': 1, 'ATAAT': 0, 'ATAGA': 0, 'ATAGG': 1, 'ATAGC': 0, 'ATAGT': 1, 'ATACA': 1, 'ATACG': 0, 'ATACC': 1, 'ATACT': 0, 'ATATA': 0, 'ATATG': 1, 'ATATC': 0, 'ATATT': 1, 'ATGAA': 0, 'ATGAG': 1, 'ATGAC': 0, 'ATGAT': 1, 'ATGGA': 1, 'ATGGC': 1, 'ATGGT': 0, 'ATGCA': 0, 'ATGCG': 1, 'ATGCC': 0, 'ATGCT': 1, 'ATGTA': 1, 'ATGTC': 1, 'ATGTT': 0, 'ATGTG': 0, 'ACGGC': 0, 'ATCAA': 1, 'ATCAG': 0, 'ATCAC': 1, 'ATCAT': 0, 'ATCGG': 1, 'ATCGC': 0, 'ATCCA': 1, 'ATCGA': 0, 'ATCCG': 0, 'ATCCT': 0, 'ATCGT': 1, 'ATCTA': 0, 'ATCTG': 1, 'ATCTC': 0, 'ATCTT': 1, 'ATTAA': 0, 'ATTAG': 1, 'ATTAC': 0, 'ATTAT': 1, 'ATTGA': 1, 'ATTGG': 0, 'ATTGC': 1, 'ATTGT': 0, 'ATTCA': 0, 'ATTCG': 1, 'ATTCC': 0, 'ATTCT': 1, 'GAAGA': 0, 'GAAGG': 1, 'GAAGT': 1, 'GAACA': 1, 'GAACG': 0, 'GAACT': 0, 'GAATA': 0, 'GAATG': 1, 'GAACC': 1, 'GAAGC': 0, 'GAATT': 1, 'GAGAA': 0, 'GAATC': 0, 'GAGAG': 1, 'GAGAC': 0, 'GAGAT': 1, 'GAGGA': 1, 'GAGGC': 1, 'GAGCA': 0, 'GAGCG': 1, 'GAGCC': 0, 'GAGTA': 1, 'GAGCT': 1, 'GAGTG': 0, 'GAGTC': 1, 'GAGTT': 0, 'GACAA': 1, 'GACAG': 0, 'GACAC': 1, 'GACAT': 0, 'GAGGT': 0, 'GACGA': 0, 'GACGG': 1, 'GACGC': 0, 'GACGT': 1, 'GACCA': 1, 'GACCG': 0, 'GACCT': 0, 'GACTA': 0, 'GACTG': 1, 'GACTC': 0, 'GACTT': 1, 'GATAA': 0, 'GATAG': 1, 'GATAC': 0, 'GATAT': 1, 'GATGA': 1, 'GATGG': 0, 'GATGC': 1, 'GATGT': 0, 'GATCA': 0, 'GATCC': 0, 'GATCT': 1, 'GATTA': 1, 'GATTG': 0, 'GATTC': 1, 'GATCG': 1, 'GGAAG': 1, 'GGAAC': 0, 'GGAAT': 1, 'GGAGA': 1, 'GGAGG': 0, 'GGAGC': 1, 'GGAGT': 0, 'GGACA': 0, 'GGACG': 1, 'GGACC': 0, 'GGACT': 1, 'GGATA': 1, 'GGATG': 0, 'GGATC': 1, 'GGATT': 0, 'GGCAA': 0, 'GGCAG': 1, 'GGCAC': 0, 'GGCAT': 1, 'GGCGA': 1, 'GGCGC': 1, 'GGCGT': 0, 'GGCCA': 0, 'GGCTA': 1, 'GGCTC': 1, 'GGTAA': 1, 'GGCGG': 0, 'GGCTG': 0, 'GGTAG': 0, 'GGCCG': 1, 'GGTAC': 1, 'GGTAT': 0, 'GGTGA': 0, 'GGTGG': 1, 'GGTGT': 1, 'GGTCA': 1, 'GGTCG': 0, 'GGTGC': 0, 'GGTCT': 0, 'GGTCC': 1, 'GGTTA': 0, 'GGTTG': 1, 'GGTTC': 0, 'GGCCT': 1, 'GCAAG': 0, 'GCAAC': 1, 'GCAAT': 0, 'GCAGA': 0, 'GCAGC': 0, 'GCACA': 1, 'GCAGT': 1, 'GCACC': 1, 'GCACT': 0, 'GCATA': 0, 'GCATG': 1, 'GCATC': 0, 'GCATT': 1, 'GCAGG': 1, 'GCGAT': 1, 'GCGAA': 0, 'GCGAG': 1, 'GCGGC': 1, 'GCGAC': 0, 'GCGGT': 0, 'GCGTA': 1, 'GCGGA': 1, 'GCGCA': 0, 'GCGCC': 0, 'GCGCG': 1, 'GCGTT': 0, 'GCGCT': 1, 'GCGTG': 0, 'GCGTC': 1, 'GCCAA': 1, 'GGCTT': 0, 'GCCAC': 1, 'GCCAG': 0, 'GCACG': 0, 'GCCTG': 1, 'GCCAT': 0, 'GCCTT': 1, 'GCTAA': 0, 'GCCGG': 1, 'GCTAG': 1, 'GCCGT': 1}\n"
     ]
    }
   ],
   "source": [
    "parityCheck={}\n",
    "parityList=[]\n",
    "binaryList=[]\n",
    "\n",
    "for testValue in uniqueAddress:\n",
    "    binaryCode=binaryConverter(testValue)\n",
    "    binaryList.append(binaryCode)\n",
    "    numberOccurences=binaryCode.count(\"1\")\n",
    "    if numberOccurences % 2 == 0:\n",
    "        parityCheck[testValue]=0\n",
    "        parityList.append(0)\n",
    "    else:\n",
    "        parityCheck[testValue]=1\n",
    "        parityList.append(1)\n",
    "    \n",
    "print (parityCheck)"
   ]
  },
  {
   "cell_type": "markdown",
   "metadata": {},
   "source": [
    "# Stage IV\n",
    "## Determine the percentage of GC nucleotide bases "
   ]
  },
  {
   "cell_type": "code",
   "execution_count": 66,
   "metadata": {},
   "outputs": [],
   "source": [
    "percentageListUniqueAddress=[]\n",
    "percentageListComplimentary=[]\n",
    "percentageListFragment=[]\n",
    "\n",
    "for testValue1,testValue2, testValue3 in zip(uniqueAddress, uniqueCompAddress, nucleotideFragments) :\n",
    "    percentageValue1=gcPercentage(testValue1)\n",
    "    percentageValue2=gcPercentage(testValue2)\n",
    "    percentageValue3=gcPercentage(testValue3)\n",
    "    \n",
    "    percentageListUniqueAddress.append(percentageValue1)\n",
    "    percentageListComplimentary.append(percentageValue2)\n",
    "    percentageListFragment.append(percentageValue3)\n",
    "\n",
    "#     print(testValue1, \" - \",testValue2, \" - \",testValue3[0:4], \" - \", \"Percentages: \", percentageValue1, \" - \", percentageValue2, \" - \", percentageValue3, \" - \",)"
   ]
  },
  {
   "cell_type": "code",
   "execution_count": null,
   "metadata": {},
   "outputs": [],
   "source": []
  },
  {
   "cell_type": "code",
   "execution_count": null,
   "metadata": {},
   "outputs": [],
   "source": []
  },
  {
   "cell_type": "markdown",
   "metadata": {},
   "source": [
    "# Output"
   ]
  },
  {
   "cell_type": "code",
   "execution_count": 48,
   "metadata": {},
   "outputs": [
    {
     "data": {
      "text/html": [
       "<div>\n",
       "<style scoped>\n",
       "    .dataframe tbody tr th:only-of-type {\n",
       "        vertical-align: middle;\n",
       "    }\n",
       "\n",
       "    .dataframe tbody tr th {\n",
       "        vertical-align: top;\n",
       "    }\n",
       "\n",
       "    .dataframe thead th {\n",
       "        text-align: right;\n",
       "    }\n",
       "</style>\n",
       "<table border=\"1\" class=\"dataframe\">\n",
       "  <thead>\n",
       "    <tr style=\"text-align: right;\">\n",
       "      <th></th>\n",
       "      <th>Address Code</th>\n",
       "      <th>Address Code - Binary</th>\n",
       "      <th>Address Code - Parity Check</th>\n",
       "      <th>Address Code - GC Percentage</th>\n",
       "      <th>Complimentary Address Code</th>\n",
       "      <th>Complimentary Address Code - GC Percentage</th>\n",
       "      <th>Information Fragment</th>\n",
       "      <th>Information Fragment - GC Percentage</th>\n",
       "    </tr>\n",
       "  </thead>\n",
       "  <tbody>\n",
       "    <tr>\n",
       "      <th>0</th>\n",
       "      <td>AAGA</td>\n",
       "      <td>00001000</td>\n",
       "      <td>1</td>\n",
       "      <td>0.0</td>\n",
       "      <td>TTCT</td>\n",
       "      <td>0.0</td>\n",
       "      <td>GACTTGCACGCGAGCTTAGCTTACACGGTGACACGGCGCCGCTTCG...</td>\n",
       "      <td>35.897436</td>\n",
       "    </tr>\n",
       "    <tr>\n",
       "      <th>1</th>\n",
       "      <td>AAGG</td>\n",
       "      <td>00001010</td>\n",
       "      <td>0</td>\n",
       "      <td>0.0</td>\n",
       "      <td>TTCC</td>\n",
       "      <td>0.0</td>\n",
       "      <td>GCCGCCGCCTCGCTTCGCTTCGCTCGCCGCCAGCCGCCGCCCACGG...</td>\n",
       "      <td>43.478261</td>\n",
       "    </tr>\n",
       "    <tr>\n",
       "      <th>2</th>\n",
       "      <td>AAGT</td>\n",
       "      <td>00001001</td>\n",
       "      <td>0</td>\n",
       "      <td>0.0</td>\n",
       "      <td>TTCA</td>\n",
       "      <td>0.0</td>\n",
       "      <td>GCTTCGGCCGCGCTCCACGGCTTAGCTTCGGCCTGGCTCGCTTAGC...</td>\n",
       "      <td>41.025641</td>\n",
       "    </tr>\n",
       "    <tr>\n",
       "      <th>3</th>\n",
       "      <td>AACA</td>\n",
       "      <td>00001100</td>\n",
       "      <td>0</td>\n",
       "      <td>0.0</td>\n",
       "      <td>TTGT</td>\n",
       "      <td>0.0</td>\n",
       "      <td>GCCGCGCGAGCCTAGCTCCAGGCCGCAGACAGCTTCGGCCTCGCTC...</td>\n",
       "      <td>42.735043</td>\n",
       "    </tr>\n",
       "    <tr>\n",
       "      <th>4</th>\n",
       "      <td>AACG</td>\n",
       "      <td>00001110</td>\n",
       "      <td>1</td>\n",
       "      <td>0.0</td>\n",
       "      <td>TTGC</td>\n",
       "      <td>50.0</td>\n",
       "      <td>GCTCCACGGCCTAGCACGCTCCACGGCTAGCGAGCCGCGCTTAGCA...</td>\n",
       "      <td>42.735043</td>\n",
       "    </tr>\n",
       "  </tbody>\n",
       "</table>\n",
       "</div>"
      ],
      "text/plain": [
       "  Address Code Address Code - Binary  Address Code - Parity Check  \\\n",
       "0         AAGA              00001000                            1   \n",
       "1         AAGG              00001010                            0   \n",
       "2         AAGT              00001001                            0   \n",
       "3         AACA              00001100                            0   \n",
       "4         AACG              00001110                            1   \n",
       "\n",
       "   Address Code - GC Percentage Complimentary Address Code  \\\n",
       "0                           0.0                       TTCT   \n",
       "1                           0.0                       TTCC   \n",
       "2                           0.0                       TTCA   \n",
       "3                           0.0                       TTGT   \n",
       "4                           0.0                       TTGC   \n",
       "\n",
       "   Complimentary Address Code - GC Percentage  \\\n",
       "0                                         0.0   \n",
       "1                                         0.0   \n",
       "2                                         0.0   \n",
       "3                                         0.0   \n",
       "4                                        50.0   \n",
       "\n",
       "                                Information Fragment  \\\n",
       "0  GACTTGCACGCGAGCTTAGCTTACACGGTGACACGGCGCCGCTTCG...   \n",
       "1  GCCGCCGCCTCGCTTCGCTTCGCTCGCCGCCAGCCGCCGCCCACGG...   \n",
       "2  GCTTCGGCCGCGCTCCACGGCTTAGCTTCGGCCTGGCTCGCTTAGC...   \n",
       "3  GCCGCGCGAGCCTAGCTCCAGGCCGCAGACAGCTTCGGCCTCGCTC...   \n",
       "4  GCTCCACGGCCTAGCACGCTCCACGGCTAGCGAGCCGCGCTTAGCA...   \n",
       "\n",
       "   Information Fragment - GC Percentage  \n",
       "0                             35.897436  \n",
       "1                             43.478261  \n",
       "2                             41.025641  \n",
       "3                             42.735043  \n",
       "4                             42.735043  "
      ]
     },
     "metadata": {},
     "output_type": "display_data"
    }
   ],
   "source": [
    "# # # uniqueAddress\n",
    "# binaryList\n",
    "# parityList\n",
    "# percentageListUniqueAddress\n",
    "\n",
    "# uniqueCompAddress\n",
    "# percentageListComplimentary\n",
    "\n",
    "#  nucleotideFragments,\n",
    "# percentageListFragment.append(percentageValue3)\n",
    "\n",
    "outputFrame=pd.DataFrame()\n",
    "\n",
    "outputFrame.insert(0,\"Address Code\",uniqueAddress)\n",
    "outputFrame.insert(1,\"Address Code - Binary\",binaryList)\n",
    "outputFrame.insert(2,\"Address Code - Parity Check\",parityList)\n",
    "outputFrame.insert(3,\"Address Code - GC Percentage\",percentageListUniqueAddress)\n",
    "outputFrame.insert(4,\"Complimentary Address Code\",uniqueCompAddress)\n",
    "outputFrame.insert(5,\"Complimentary Address Code - GC Percentage\",percentageListComplimentary)\n",
    "outputFrame.insert(6,\"Information Fragment\",nucleotideFragments)\n",
    "outputFrame.insert(7,\"Information Fragment - GC Percentage\",percentageListFragment)\n",
    "\n",
    "\n",
    "display(outputFrame.head())"
   ]
  },
  {
   "cell_type": "code",
   "execution_count": 49,
   "metadata": {},
   "outputs": [],
   "source": [
    "outputFrame=outputFrame.astype(str)\n",
    "outputFrame.to_csv(\"Output.bod\",encoding=\"utf-8\",index = True)"
   ]
  },
  {
   "cell_type": "code",
   "execution_count": null,
   "metadata": {},
   "outputs": [],
   "source": []
  },
  {
   "cell_type": "code",
   "execution_count": null,
   "metadata": {},
   "outputs": [],
   "source": []
  },
  {
   "cell_type": "code",
   "execution_count": null,
   "metadata": {},
   "outputs": [],
   "source": []
  },
  {
   "cell_type": "code",
   "execution_count": null,
   "metadata": {},
   "outputs": [],
   "source": []
  },
  {
   "cell_type": "code",
   "execution_count": null,
   "metadata": {},
   "outputs": [],
   "source": []
  },
  {
   "cell_type": "code",
   "execution_count": null,
   "metadata": {},
   "outputs": [],
   "source": []
  },
  {
   "cell_type": "code",
   "execution_count": null,
   "metadata": {},
   "outputs": [],
   "source": []
  },
  {
   "cell_type": "code",
   "execution_count": null,
   "metadata": {},
   "outputs": [],
   "source": []
  },
  {
   "cell_type": "code",
   "execution_count": null,
   "metadata": {},
   "outputs": [],
   "source": []
  },
  {
   "cell_type": "code",
   "execution_count": null,
   "metadata": {},
   "outputs": [],
   "source": []
  },
  {
   "cell_type": "code",
   "execution_count": null,
   "metadata": {},
   "outputs": [],
   "source": []
  },
  {
   "cell_type": "code",
   "execution_count": null,
   "metadata": {},
   "outputs": [],
   "source": []
  },
  {
   "cell_type": "code",
   "execution_count": null,
   "metadata": {},
   "outputs": [],
   "source": []
  },
  {
   "cell_type": "code",
   "execution_count": null,
   "metadata": {},
   "outputs": [],
   "source": []
  },
  {
   "cell_type": "code",
   "execution_count": null,
   "metadata": {},
   "outputs": [],
   "source": []
  },
  {
   "cell_type": "code",
   "execution_count": null,
   "metadata": {},
   "outputs": [],
   "source": []
  },
  {
   "cell_type": "code",
   "execution_count": null,
   "metadata": {},
   "outputs": [],
   "source": []
  },
  {
   "cell_type": "markdown",
   "metadata": {},
   "source": [
    "# Functions"
   ]
  },
  {
   "cell_type": "code",
   "execution_count": 4,
   "metadata": {},
   "outputs": [],
   "source": [
    "def get_QUAT_NUCLEOTIDES(df, value):\n",
    "    ''' Find the QUAT NUCLEOTIDE Corresponding to the input character.'''\n",
    "    \n",
    "    # Deal with the special case when the entry is a spacebar\n",
    "    if value==\" \":\n",
    "        value=\"space\"\n",
    "    \n",
    "    elif value==\"'\":\n",
    "        pass\n",
    "    elif value==\"\\n\": # If the character is a new line, swap it for a LF ASSCI instead\n",
    "        value=\"LF\"\n",
    "#         return True\n",
    "#     elif value==\"SOMETHING WE CANT TRANSLATE\"\n",
    "#         return True\n",
    "    # Get bool dataframe with True at positions where the given value exists\n",
    "    result = df.isin([value])\n",
    "    # Find the row where result is true\n",
    "    row = list(result[\"Char\"][result[\"Char\"] == True].index)\n",
    "    # Find the corresponding QUAT NUCLEOTIDE at the row\n",
    "    nucleotideCode=df.loc[row,\"QUAT NUCLEOTIDES\"].tolist()[0]\n",
    "\n",
    "    return nucleotideCode"
   ]
  },
  {
   "cell_type": "code",
   "execution_count": 5,
   "metadata": {},
   "outputs": [
    {
     "name": "stdout",
     "output_type": "stream",
     "text": [
      "CACG GCGC CGCA\n"
     ]
    }
   ],
   "source": [
    "# get_QUAT_NUCLEOTIDES-Test\n",
    "a=get_QUAT_NUCLEOTIDES(ASCII_List_Raw,\" \")\n",
    "b=get_QUAT_NUCLEOTIDES(ASCII_List_Raw,\"b\") \n",
    "c=get_QUAT_NUCLEOTIDES(ASCII_List_Raw,\"\\n\") \n",
    "print(a,b,c)\n",
    "\n",
    "# print(type(a))"
   ]
  },
  {
   "cell_type": "code",
   "execution_count": 6,
   "metadata": {},
   "outputs": [],
   "source": [
    "def codingStrategy(maximumFragments):\n",
    "    noRepeatsList=[]\n",
    "    for x in range(0,20):\n",
    "        if maximumFragments<=4**x:\n",
    "            addressLength=x\n",
    "            \n",
    "            # Now create the combinations with this number of digits available\n",
    "            checkList=list(itertools.product([\"A\",\"G\",\"C\",\"T\"], repeat=addressLength))\n",
    "            \n",
    "            for entry in checkList:\n",
    "                if noTripleRepeats(entry)==0:\n",
    "                    stringCode=\"\"\n",
    "                    for letter in entry:\n",
    "                        stringCode=stringCode+letter\n",
    "                    noRepeatsList.append(stringCode)\n",
    "                else:\n",
    "                    pass\n",
    "            \n",
    "            # Check that no number of codes is still adequate:\n",
    "            if maximumFragments<=len(noRepeatsList):\n",
    "                return noRepeatsList\n",
    "            else:\n",
    "                return codingStrategy(maximumFragments+1)"
   ]
  },
  {
   "cell_type": "code",
   "execution_count": 7,
   "metadata": {},
   "outputs": [],
   "source": [
    "def noTripleRepeats(code): #This is actually for AA repeats\n",
    "    # Convert tuple to string:\n",
    "    testString=\"\"\n",
    "    for value in code:\n",
    "        testString=testString+value\n",
    "    \n",
    "#     print(testString)\n",
    "    x=len(testString)\n",
    "    for i,j in enumerate(code):\n",
    "        if i==(x-2) or x<=2:\n",
    "            break\n",
    "        initialLetter=j\n",
    "        secondLetter=code[i+1]\n",
    "        thirdLetter=code[i+2]\n",
    "        if (initialLetter == secondLetter) and (secondLetter==thirdLetter):\n",
    "            return 1\n",
    "    return 0"
   ]
  },
  {
   "cell_type": "code",
   "execution_count": 13,
   "metadata": {},
   "outputs": [
    {
     "data": {
      "text/plain": [
       "0"
      ]
     },
     "execution_count": 13,
     "metadata": {},
     "output_type": "execute_result"
    }
   ],
   "source": [
    "noTripleRepeats(('A', 'A', 'G','T','T','C'))"
   ]
  },
  {
   "cell_type": "code",
   "execution_count": 14,
   "metadata": {},
   "outputs": [],
   "source": [
    "def noDoubleRepeats(code): #This is actually for AA repeats\n",
    "    x=len(code)\n",
    "    for i,j in enumerate(code):\n",
    "        if i==(x-1) or x<=1:\n",
    "            break\n",
    "        initialLetter=j\n",
    "        secondLetter=code[i+1]\n",
    "        if (initialLetter == secondLetter):\n",
    "            return 1\n",
    "    return 0"
   ]
  },
  {
   "cell_type": "code",
   "execution_count": 15,
   "metadata": {},
   "outputs": [
    {
     "data": {
      "text/plain": [
       "0"
      ]
     },
     "execution_count": 15,
     "metadata": {},
     "output_type": "execute_result"
    }
   ],
   "source": [
    "noDoubleRepeats(\"ATCGA\")"
   ]
  },
  {
   "cell_type": "code",
   "execution_count": 16,
   "metadata": {
    "scrolled": true
   },
   "outputs": [
    {
     "name": "stdout",
     "output_type": "stream",
     "text": [
      "['AAGA', 'AAGG', 'AAGC', 'AAGT', 'AACA', 'AACG', 'AACC', 'AACT', 'AATA', 'AATG', 'AATC', 'AATT', 'AGAA', 'AGAG', 'AGAC', 'AGAT', 'AGGA', 'AGGC', 'AGGT', 'AGCA', 'AGCG', 'AGCC', 'AGCT', 'AGTA', 'AGTG', 'AGTC', 'AGTT', 'ACAA', 'ACAG', 'ACAC', 'ACAT', 'ACGA', 'ACGG', 'ACGC', 'ACGT', 'ACCA', 'ACCG', 'ACCT', 'ACTA', 'ACTG', 'ACTC', 'ACTT', 'ATAA', 'ATAG', 'ATAC', 'ATAT', 'ATGA', 'ATGG', 'ATGC', 'ATGT', 'ATCA', 'ATCG', 'ATCC', 'ATCT', 'ATTA', 'ATTG', 'ATTC', 'GAAG', 'GAAC', 'GAAT', 'GAGA', 'GAGG', 'GAGC', 'GAGT', 'GACA', 'GACG', 'GACC', 'GACT', 'GATA', 'GATG', 'GATC', 'GATT', 'GGAA', 'GGAG', 'GGAC', 'GGAT', 'GGCA', 'GGCG', 'GGCC', 'GGCT', 'GGTA', 'GGTG', 'GGTC', 'GGTT', 'GCAA', 'GCAG', 'GCAC', 'GCAT', 'GCGA', 'GCGG', 'GCGC', 'GCGT', 'GCCA', 'GCCG', 'GCCT', 'GCTA', 'GCTG', 'GCTC', 'GCTT', 'GTAA', 'GTAG', 'GTAC', 'GTAT', 'GTGA', 'GTGG', 'GTGC', 'GTGT', 'GTCA', 'GTCG', 'GTCC', 'GTCT', 'GTTA', 'GTTG', 'GTTC', 'CAAG', 'CAAC', 'CAAT', 'CAGA', 'CAGG', 'CAGC', 'CAGT', 'CACA', 'CACG', 'CACC', 'CACT', 'CATA', 'CATG', 'CATC', 'CATT', 'CGAA', 'CGAG', 'CGAC', 'CGAT', 'CGGA', 'CGGC', 'CGGT', 'CGCA', 'CGCG', 'CGCC', 'CGCT', 'CGTA', 'CGTG', 'CGTC', 'CGTT', 'CCAA', 'CCAG', 'CCAC', 'CCAT', 'CCGA', 'CCGG', 'CCGC', 'CCGT', 'CCTA', 'CCTG', 'CCTC', 'CCTT', 'CTAA', 'CTAG', 'CTAC', 'CTAT', 'CTGA', 'CTGG', 'CTGC', 'CTGT', 'CTCA', 'CTCG', 'CTCC', 'CTCT', 'CTTA', 'CTTG', 'CTTC', 'TAAG', 'TAAC', 'TAAT', 'TAGA', 'TAGG', 'TAGC', 'TAGT', 'TACA', 'TACG', 'TACC', 'TACT', 'TATA', 'TATG', 'TATC', 'TATT', 'TGAA', 'TGAG', 'TGAC', 'TGAT', 'TGGA', 'TGGC', 'TGGT', 'TGCA', 'TGCG', 'TGCC', 'TGCT', 'TGTA', 'TGTG', 'TGTC', 'TGTT', 'TCAA', 'TCAG', 'TCAC', 'TCAT', 'TCGA', 'TCGG', 'TCGC', 'TCGT', 'TCCA', 'TCCG', 'TCCT', 'TCTA', 'TCTG', 'TCTC', 'TCTT', 'TTAA', 'TTAG', 'TTAC', 'TTAT', 'TTGA', 'TTGG', 'TTGC', 'TTGT', 'TTCA', 'TTCG', 'TTCC', 'TTCT']\n"
     ]
    }
   ],
   "source": [
    "# Coding strategy test\n",
    "a=codingStrategy(60.5)\n",
    "print(a)"
   ]
  },
  {
   "cell_type": "code",
   "execution_count": 17,
   "metadata": {},
   "outputs": [],
   "source": [
    "def complimentaryPrimer(primer):\n",
    "    compPrimer=\"\"\n",
    "    for letter in list(primer):\n",
    "        if letter == \"A\":\n",
    "            comp=\"T\"\n",
    "        elif letter == \"C\":\n",
    "            comp=\"G\"\n",
    "        elif letter == \"T\":\n",
    "            comp=\"A\"\n",
    "        elif letter == \"G\":\n",
    "            comp=\"C\"\n",
    "        compPrimer+=comp\n",
    "    return compPrimer"
   ]
  },
  {
   "cell_type": "code",
   "execution_count": 18,
   "metadata": {},
   "outputs": [
    {
     "name": "stdout",
     "output_type": "stream",
     "text": [
      "TAGC\n"
     ]
    }
   ],
   "source": [
    "# ComplimentaryPrimer Test Box\n",
    "b=complimentaryPrimer(\"ATCG\")\n",
    "print(b)"
   ]
  },
  {
   "cell_type": "code",
   "execution_count": 19,
   "metadata": {},
   "outputs": [],
   "source": [
    "def binaryConverter(addressCode):\n",
    "    binaryOutput=\"\"\n",
    "    for letter in list(addressCode):\n",
    "        if letter == \"A\":\n",
    "            binary=\"00\"\n",
    "        elif letter == \"C\":\n",
    "            binary=\"11\"\n",
    "        elif letter == \"T\":\n",
    "            binary=\"01\"\n",
    "        elif letter == \"G\":\n",
    "            binary=\"10\"\n",
    "        binaryOutput+=binary\n",
    "    return binaryOutput"
   ]
  },
  {
   "cell_type": "code",
   "execution_count": 20,
   "metadata": {},
   "outputs": [
    {
     "name": "stdout",
     "output_type": "stream",
     "text": [
      "11111010\n"
     ]
    }
   ],
   "source": [
    "# Binary Converter Test Box\n",
    "c=binaryConverter(\"CCGG\")\n",
    "print(c)"
   ]
  },
  {
   "cell_type": "code",
   "execution_count": 21,
   "metadata": {},
   "outputs": [],
   "source": [
    "def gcPercentage(fragment):\n",
    "    number=fragment.count(\"GC\")\n",
    "    totalLength=len(fragment)\n",
    "    totalGCLetter=number*2\n",
    "    percentage=(totalGCLetter/totalLength)*100\n",
    "    return percentage"
   ]
  },
  {
   "cell_type": "code",
   "execution_count": 22,
   "metadata": {},
   "outputs": [
    {
     "data": {
      "text/plain": [
       "50.0"
      ]
     },
     "execution_count": 22,
     "metadata": {},
     "output_type": "execute_result"
    }
   ],
   "source": [
    "# Percentage Test Box\n",
    "gcPercentage(\"GCGT\")"
   ]
  },
  {
   "cell_type": "code",
   "execution_count": null,
   "metadata": {},
   "outputs": [],
   "source": []
  },
  {
   "cell_type": "code",
   "execution_count": null,
   "metadata": {},
   "outputs": [],
   "source": []
  },
  {
   "cell_type": "code",
   "execution_count": null,
   "metadata": {},
   "outputs": [],
   "source": []
  },
  {
   "cell_type": "code",
   "execution_count": null,
   "metadata": {},
   "outputs": [],
   "source": []
  },
  {
   "cell_type": "code",
   "execution_count": null,
   "metadata": {},
   "outputs": [],
   "source": []
  },
  {
   "cell_type": "code",
   "execution_count": null,
   "metadata": {},
   "outputs": [],
   "source": [
    "# Need a function to add a unique code to each DNA fragment"
   ]
  },
  {
   "cell_type": "code",
   "execution_count": 21,
   "metadata": {},
   "outputs": [],
   "source": [
    "def get_Unique_AddressI(df,nucleotideList,uniqueAddresses):\n",
    "    \n",
    "    # Add the list of unique addresses to the nucleotidelist for this fragment\n",
    "    codeList=nucleotideList+uniqueAddresses\n",
    "    \n",
    "    try:\n",
    "        # Find the dataframe which is left over from codes in nucleotideList\n",
    "        remainingCodesFrame = df[~df[\"QUAT NUCLEOTIDES\"].isin(codeList)]\n",
    "        # Make a list of the remaining codes\n",
    "        remainingCodesList = remainingCodesFrame[\"QUAT NUCLEOTIDES\"].tolist()\n",
    "        # Take the first value for this list \n",
    "        uniqueCode=remainingCodesList[0]\n",
    "\n",
    "    except:\n",
    "        return\n",
    "    \n",
    "    return uniqueCode"
   ]
  },
  {
   "cell_type": "code",
   "execution_count": 22,
   "metadata": {},
   "outputs": [],
   "source": [
    "def get_Unique_AddressII(uniqueAddresses,uniqueAddressesLength,counter):\n",
    "    \n",
    "    # Take the uniqueAddress list and go through and add a nucleotide:\n",
    "    uniqueAddresses[counter]\n",
    "    \n",
    "    \n",
    "    counter+=1\n",
    "    return uniqueCode,counter"
   ]
  },
  {
   "cell_type": "code",
   "execution_count": 23,
   "metadata": {},
   "outputs": [],
   "source": [
    "uniqueAddresses=[]\n",
    "counter=0\n",
    "for i in range(245):\n",
    "    try:\n",
    "        a=get_Unique_Address(ASCII_List_Raw,usedCodes,uniqueAddresses)\n",
    "        print(a)\n",
    "        uniqueAddresses.append(a)\n",
    "        uniqueAddressesLength=len(uniqueAddresses)\n",
    "    except:\n",
    "        counter+=1"
   ]
  },
  {
   "cell_type": "code",
   "execution_count": null,
   "metadata": {},
   "outputs": [],
   "source": []
  },
  {
   "cell_type": "code",
   "execution_count": null,
   "metadata": {},
   "outputs": [],
   "source": []
  },
  {
   "cell_type": "code",
   "execution_count": null,
   "metadata": {},
   "outputs": [],
   "source": []
  },
  {
   "cell_type": "code",
   "execution_count": null,
   "metadata": {},
   "outputs": [],
   "source": []
  },
  {
   "cell_type": "code",
   "execution_count": null,
   "metadata": {},
   "outputs": [],
   "source": []
  },
  {
   "cell_type": "code",
   "execution_count": null,
   "metadata": {},
   "outputs": [],
   "source": []
  },
  {
   "cell_type": "code",
   "execution_count": null,
   "metadata": {},
   "outputs": [],
   "source": []
  },
  {
   "cell_type": "code",
   "execution_count": null,
   "metadata": {},
   "outputs": [],
   "source": []
  },
  {
   "cell_type": "code",
   "execution_count": null,
   "metadata": {},
   "outputs": [],
   "source": []
  },
  {
   "cell_type": "code",
   "execution_count": null,
   "metadata": {},
   "outputs": [],
   "source": []
  },
  {
   "cell_type": "code",
   "execution_count": null,
   "metadata": {},
   "outputs": [],
   "source": []
  },
  {
   "cell_type": "code",
   "execution_count": null,
   "metadata": {},
   "outputs": [],
   "source": []
  },
  {
   "cell_type": "code",
   "execution_count": null,
   "metadata": {},
   "outputs": [],
   "source": []
  },
  {
   "cell_type": "code",
   "execution_count": null,
   "metadata": {},
   "outputs": [],
   "source": []
  },
  {
   "cell_type": "code",
   "execution_count": null,
   "metadata": {},
   "outputs": [],
   "source": []
  },
  {
   "cell_type": "code",
   "execution_count": null,
   "metadata": {},
   "outputs": [],
   "source": []
  },
  {
   "cell_type": "code",
   "execution_count": null,
   "metadata": {},
   "outputs": [],
   "source": []
  },
  {
   "cell_type": "code",
   "execution_count": null,
   "metadata": {},
   "outputs": [],
   "source": []
  },
  {
   "cell_type": "code",
   "execution_count": null,
   "metadata": {},
   "outputs": [],
   "source": []
  },
  {
   "cell_type": "code",
   "execution_count": null,
   "metadata": {},
   "outputs": [],
   "source": []
  },
  {
   "cell_type": "code",
   "execution_count": null,
   "metadata": {},
   "outputs": [],
   "source": []
  },
  {
   "cell_type": "code",
   "execution_count": null,
   "metadata": {},
   "outputs": [],
   "source": []
  },
  {
   "cell_type": "code",
   "execution_count": null,
   "metadata": {},
   "outputs": [],
   "source": []
  },
  {
   "cell_type": "code",
   "execution_count": null,
   "metadata": {},
   "outputs": [],
   "source": []
  },
  {
   "cell_type": "code",
   "execution_count": null,
   "metadata": {},
   "outputs": [],
   "source": []
  },
  {
   "cell_type": "markdown",
   "metadata": {},
   "source": [
    "# Decoding"
   ]
  },
  {
   "cell_type": "code",
   "execution_count": 8,
   "metadata": {},
   "outputs": [],
   "source": [
    "def decoding_Nucleotides(inputString,df):\n",
    "    \n",
    "    outputdictionary={}\n",
    "    indexList=[]\n",
    "    charList=[]\n",
    "    \n",
    "    # Codes can be 4, 5, 6, 7 or 8 digits long\n",
    "    for i in range(4,9):\n",
    "        value=inputString[0:i]\n",
    "#         print(value)\n",
    "        try:\n",
    "            result = ASCII_List_Raw.isin([value])\n",
    "            # Find the row where result is true\n",
    "            row = list(result[\"QUAT NUCLEOTIDES\"][result[\"QUAT NUCLEOTIDES\"] == True].index)\n",
    "            # Find the corresponding QUAT NUCLEOTIDE at the row\n",
    "            nucleotideCode=ASCII_List_Raw.loc[row,\"Char\"].tolist()[0]\n",
    "\n",
    "#             print(nucleotideCode)\n",
    "                \n",
    "            if len(nucleotideCode)>0:\n",
    "                outputdictionary[i]=nucleotideCode\n",
    "                charList.append(nucleotideCode)\n",
    "                listVar=[i]\n",
    "                indexList.append((listVar))\n",
    "        except:\n",
    "            pass\n",
    "        \n",
    "    return outputdictionary, charList, indexList\n",
    "\n",
    "        \n",
    "        "
   ]
  },
  {
   "cell_type": "code",
   "execution_count": 9,
   "metadata": {},
   "outputs": [],
   "source": [
    "def get_CHARACTERS(df, value):\n",
    "    ''' Find the QUAT NUCLEOTIDE Corresponding to the input character.'''\n",
    "    \n",
    "    # Get bool dataframe with True at positions where the given value exists\n",
    "    result = df.isin([value])\n",
    "    # Find the row where result is true\n",
    "    row = list(result[\"QUAT NUCLEOTIDES\"][result[\"QUAT NUCLEOTIDES\"] == True].index)\n",
    "    # Find the corresponding QUAT NUCLEOTIDE at the row\n",
    "    character=df.loc[row,\"Char\"].tolist()[0]\n",
    "    \n",
    "    if character==\"space\":\n",
    "        character=\" \"\n",
    "        \n",
    "    if character==\"LF\":\n",
    "        character=\"\\n\"\n",
    "    \n",
    "    return character"
   ]
  },
  {
   "cell_type": "code",
   "execution_count": 10,
   "metadata": {},
   "outputs": [
    {
     "name": "stdout",
     "output_type": "stream",
     "text": [
      "f\n"
     ]
    }
   ],
   "source": [
    "a=get_CHARACTERS(ASCII_List_Raw,\"GCTG\")\n",
    "print(a)"
   ]
  },
  {
   "cell_type": "markdown",
   "metadata": {},
   "source": [
    "## Decode Single DNA Fragment"
   ]
  },
  {
   "cell_type": "code",
   "execution_count": 19,
   "metadata": {},
   "outputs": [],
   "source": [
    "# input1=\"GACTTGCACGCGAGCTTAGCTTACACGGTGACACGGCGCCGCTTCGGCTTCGCCGTGCGAGCCGCGCTCCACGGCCTAGCACGCTCGCTCCACGGCCTAGCTTCGCACGGCGACACG\"\n",
    "# input1= \"GCCGCCGCCTCGCTTCGCTTCGCTCGCCGCCAGCCGCCGCCCACGGCTAGCGAGCCAGCTTCGCCCGCAGAGTGCACGCTTCGGCCTCCACGGCGAGCCGCGCCTACACGGCTTC\"\n",
    "# input1= nucleotideFragmentsDict[\"GATG\"]\n",
    "\n",
    "input1=\"GCCGCGCTCCACGGCCTAGCACGCTCGCCAGCACGGCCTCGGCAGGCTTAGCTTACACGGCTTGGCTTCGGCCTACACGGCGCGCTCCACGGCATGCCTCGCTAGCTCGGCTCGCTA\""
   ]
  },
  {
   "cell_type": "code",
   "execution_count": 20,
   "metadata": {},
   "outputs": [],
   "source": [
    "initialInput=input1[0:8]\n",
    "\n",
    "dict1,list1,list2=decoding_Nucleotides(initialInput,ASCII_List_Raw)\n",
    "\n",
    "for index, i in enumerate(list2):\n",
    "    if index==20000: # Hardcoded top end to prevent crashing, will need to remove this in future\n",
    "        break\n",
    "    \n",
    "    if type(i) is not int:\n",
    "        counter=0\n",
    "        for values in i:\n",
    "            counter=counter+values\n",
    "    \n",
    "    entry1,i1,i2=decoding_Nucleotides(input1[counter:],ASCII_List_Raw)\n",
    "    for key in entry1:\n",
    "        l=i.copy()\n",
    "        l.append(key)\n",
    "        list2.append(l)\n",
    "\n"
   ]
  },
  {
   "cell_type": "code",
   "execution_count": 22,
   "metadata": {},
   "outputs": [
    {
     "name": "stdout",
     "output_type": "stream",
     "text": [
      "re they u?ll nm? be jude?d\n",
      "re they u?ll nm? be judged\n",
      "re they u?ll nm? be jwDC1DC4ed\n",
      "re they u?ll not be jude?d\n",
      "re they u?ll not be judged\n",
      "re they u?ll not be jwDC1DC4ed\n",
      "re they will nm? be jude?d\n",
      "re they will nm? be judged\n",
      "re they will nm? be jwDC1DC4ed\n",
      "re they will not be jude?d\n",
      "re they will not be judged\n",
      "re they will not be jwDC1DC4ed\n"
     ]
    }
   ],
   "source": [
    "for i in list2:\n",
    "#     print(i)\n",
    "    if len(input1)==sum(i):\n",
    "#         print(sum((i)))\n",
    "        phraseOut=\"\"\n",
    "        counter=0\n",
    "        for j in i:\n",
    "            a=get_CHARACTERS(ASCII_List_Raw,input1[counter:counter+j])\n",
    "            phraseOut=phraseOut+a      \n",
    "            counter=counter+j\n",
    "        print(phraseOut)"
   ]
  },
  {
   "cell_type": "code",
   "execution_count": 79,
   "metadata": {},
   "outputs": [
    {
     "name": "stdout",
     "output_type": "stream",
     "text": [
      "119\n"
     ]
    }
   ],
   "source": [
    "nucleotideFragmentsDictLong[\"GATC\"]\n",
    "# \"oo hot the eye of heaven s\"\n",
    "counter=0\n",
    "for i in nucleotideFragmentsDictLong[\"GATC\"]:\n",
    "    counter=counter+len(i)\n",
    "print(counter)"
   ]
  },
  {
   "cell_type": "code",
   "execution_count": 80,
   "metadata": {},
   "outputs": [
    {
     "name": "stdout",
     "output_type": "stream",
     "text": [
      "6\n",
      "6\n",
      "4\n",
      "4\n",
      "6\n",
      "5\n",
      "4\n",
      "5\n",
      "4\n",
      "4\n",
      "4\n",
      "4\n",
      "5\n",
      "4\n",
      "4\n",
      "6\n",
      "4\n",
      "4\n",
      "4\n",
      "4\n",
      "4\n",
      "5\n",
      "4\n",
      "5\n",
      "4\n",
      "6\n"
     ]
    }
   ],
   "source": [
    "for i in nucleotideFragmentsDictLong[\"GATC\"]:\n",
    "    print(len(i))"
   ]
  },
  {
   "cell_type": "code",
   "execution_count": null,
   "metadata": {},
   "outputs": [],
   "source": []
  },
  {
   "cell_type": "markdown",
   "metadata": {},
   "source": [
    "# OLD CODE"
   ]
  },
  {
   "cell_type": "code",
   "execution_count": null,
   "metadata": {},
   "outputs": [],
   "source": [
    "# Version 2 - Main Engine - Before switchover for uniqueAddress Code Checking (Commentedout)\n",
    "nucleotideFragments=[]\n",
    "usedCodes=[]\n",
    "nucleotideFragmentsDict={}\n",
    "nucleotideFragmentsDictLong={}\n",
    "\n",
    "nucleotideSequence=\"\"\n",
    "uniqueAddresses=[]\n",
    "\n",
    "\n",
    "# Determine the rough number of nucleotides required\n",
    "lengthOfPhrase=len(phrase)\n",
    "maximumFragments=(lengthOfPhrase*8)/120\n",
    "\n",
    "# Determine Address Coding Strategy\n",
    "addressCodes=codingStrategy(maximumFragments)\n",
    "addressCounter=0\n",
    "\n",
    "\n",
    "for index, letter  in enumerate(phrase):\n",
    "\n",
    "    nextCode=get_QUAT_NUCLEOTIDES(ASCII_List_Raw,letter)\n",
    "    \n",
    "    # Use this in future if we can't handle a symbol\n",
    "    if (nextCode)==True:\n",
    "#         print(nextCode)\n",
    "        continue\n",
    "    \n",
    "    if len(nucleotideSequence)+len(nextCode)<=120:\n",
    "        \n",
    "        nucleotideSequence=nucleotideSequence+nextCode\n",
    "        usedCodes.append(nextCode)\n",
    "        \n",
    "        # Append the incomplete nucleotide sequence to nucleotideFragments \n",
    "        if index==lengthOfPhrase-1:\n",
    "            nucleotideFragments.append(nucleotideSequence)\n",
    "            \n",
    "            \n",
    "            uniqueCode=addressCodes[addressCounter]  \n",
    "            uniqueAddresses.append(uniqueCode)\n",
    "            addressCounter+=1\n",
    "            \n",
    "            nucleotideFragmentsDict[uniqueCode]=nucleotideSequence\n",
    "            nucleotideFragmentsDictLong[uniqueCode]=usedCodes\n",
    "            usedCodes=[]\n",
    "            \n",
    "            \n",
    "    else:\n",
    "        nucleotideFragments.append(nucleotideSequence)\n",
    "        \n",
    "        uniqueCode=addressCodes[addressCounter] \n",
    "#         if (uniqueCode in usedCodes) or (uniqueCode in uniqueAddresses) :\n",
    "#             startingAddressCounter=addressCounter\n",
    "#             print(\"Made it here\")\n",
    "#             print(uniqueCode)\n",
    "#             while (uniqueCode in usedCodes) or (uniqueCode in uniqueAddresses):\n",
    "#                 print(\"Inside Loop\")\n",
    "#                 print(uniqueCode)\n",
    "#                 addressCounter+=1\n",
    "#                 uniqueCode=addressCodes[addressCounter]\n",
    "#             #Reset the counter so that GTAC can be used for next fragment\n",
    "#             uniqueAddresses.append(uniqueCode)\n",
    "            \n",
    "#             print(addressCounter)\n",
    "#             print(startingAddressCounter)\n",
    "#             addressCounter=startingAddressCounter\n",
    "#             print(addressCounter)\n",
    "#         else:        \n",
    "#             uniqueAddresses.append(uniqueCode)\n",
    "#             addressCounter+=1\n",
    "        uniqueAddresses.append(uniqueCode)\n",
    "        addressCounter+=1        \n",
    "        \n",
    "        nucleotideFragmentsDict[uniqueCode]=nucleotideSequence\n",
    "        nucleotideFragmentsDictLong[uniqueCode]=usedCodes\n",
    "        usedCodes=[]\n",
    "        usedCodes.append(nextCode)\n",
    "        \n",
    "        nucleotideSequence=\"\"\n",
    "        nucleotideSequence=nucleotideSequence+nextCode\n",
    "    \n",
    " \n",
    "    \n",
    "    \n"
   ]
  },
  {
   "cell_type": "code",
   "execution_count": null,
   "metadata": {},
   "outputs": [],
   "source": [
    "# Version 1 - Main Engine\n",
    "nucleotideFragments=[]\n",
    "usedCodes=[]\n",
    "nucleotideFragmentsDict={}\n",
    "nucleotideFragmentsDictLong={}\n",
    "\n",
    "nucleotideSequence=\"\"\n",
    "uniqueAddresses=[]\n",
    "lengthOfPhrase=len(phrase)\n",
    "\n",
    "for index, letter  in enumerate(phrase):\n",
    "\n",
    "    nextCode=get_QUAT_NUCLEOTIDES(ASCII_List_Raw,letter)\n",
    "    \n",
    "    if (nextCode)==True:\n",
    "#         print(nextCode)\n",
    "        continue\n",
    "    \n",
    "    if len(nucleotideSequence)+len(nextCode)<=120:\n",
    "        \n",
    "        nucleotideSequence=nucleotideSequence+nextCode\n",
    "        usedCodes.append(nextCode)\n",
    "        \n",
    "        # Append the incomplete nucleotide sequence to nucleotideFragments \n",
    "        if index==lengthOfPhrase-1:\n",
    "            nucleotideFragments.append(nucleotideSequence)\n",
    "            \n",
    "            uniqueCode=get_Unique_AddressI(ASCII_List_Raw,usedCodes,uniqueAddresses)\n",
    "            uniqueAddresses.append(uniqueCode)\n",
    "\n",
    "            nucleotideFragmentsDict[uniqueCode]=nucleotideSequence\n",
    "            nucleotideFragmentsDictLong[uniqueCode]=usedCodes\n",
    "            usedCodes=[]\n",
    "            \n",
    "            \n",
    "    else:\n",
    "        nucleotideFragments.append(nucleotideSequence)\n",
    "        \n",
    "        uniqueCode=get_Unique_AddressI(ASCII_List_Raw,usedCodes,uniqueAddresses)\n",
    "        uniqueAddresses.append(uniqueCode)\n",
    "        \n",
    "        nucleotideFragmentsDict[uniqueCode]=nucleotideSequence\n",
    "        nucleotideFragmentsDictLong[uniqueCode]=usedCodes\n",
    "        usedCodes=[]\n",
    "        usedCodes.append(nextCode)\n",
    "        \n",
    "        nucleotideSequence=\"\"\n",
    "        nucleotideSequence=nucleotideSequence+nextCode"
   ]
  },
  {
   "cell_type": "code",
   "execution_count": null,
   "metadata": {},
   "outputs": [],
   "source": []
  },
  {
   "cell_type": "code",
   "execution_count": null,
   "metadata": {},
   "outputs": [],
   "source": []
  },
  {
   "cell_type": "code",
   "execution_count": null,
   "metadata": {},
   "outputs": [],
   "source": []
  },
  {
   "cell_type": "code",
   "execution_count": null,
   "metadata": {},
   "outputs": [],
   "source": []
  },
  {
   "cell_type": "code",
   "execution_count": null,
   "metadata": {},
   "outputs": [],
   "source": []
  },
  {
   "cell_type": "code",
   "execution_count": null,
   "metadata": {},
   "outputs": [],
   "source": []
  },
  {
   "cell_type": "code",
   "execution_count": null,
   "metadata": {},
   "outputs": [],
   "source": []
  },
  {
   "cell_type": "code",
   "execution_count": null,
   "metadata": {},
   "outputs": [],
   "source": []
  },
  {
   "cell_type": "code",
   "execution_count": null,
   "metadata": {},
   "outputs": [],
   "source": []
  },
  {
   "cell_type": "code",
   "execution_count": null,
   "metadata": {},
   "outputs": [],
   "source": []
  },
  {
   "cell_type": "code",
   "execution_count": null,
   "metadata": {},
   "outputs": [],
   "source": [
    "# Vikram initial rule\n",
    "def lookRight(prevNuc,digit,cf):\n",
    "    \n",
    "#     print(prevNuc,digit,cf)\n",
    "    \n",
    "    nextLetter=cf.loc[prevNuc,digit]\n",
    "    \n",
    "#     print(nextLetter)\n",
    "    \n",
    "#     if digit==3 and index>0:\n",
    "#         prevNuc=compNuc(prevNuc)\n",
    "#         nextLetter=cf.loc[prevNuc,digit]\n",
    "\n",
    "    return nextLetter\n"
   ]
  },
  {
   "cell_type": "code",
   "execution_count": null,
   "metadata": {},
   "outputs": [],
   "source": [
    "def noTripleRepeats(code):\n",
    "    x=len(code)\n",
    "    for i,j in enumerate(code):\n",
    "        if i==(x-2) or x<=3:\n",
    "            break\n",
    "        initialLetter=j\n",
    "        secondLetter=code[i+1]\n",
    "        thirdLetter=code[i+2]\n",
    "#         print(initialLetter,secondLetter,thirdLetter)\n",
    "        if (initialLetter == secondLetter) and (secondLetter == thirdLetter):\n",
    "            return 1\n",
    "    return 0"
   ]
  },
  {
   "cell_type": "code",
   "execution_count": 48,
   "metadata": {},
   "outputs": [],
   "source": [
    "def noDoubleRepeats(code): #This is actually for AA repeats\n",
    "    x=len(code)\n",
    "    for i,j in enumerate(code):\n",
    "        if i==(x-1) or x<=1:\n",
    "            break\n",
    "        initialLetter=j\n",
    "        secondLetter=code[i+1]\n",
    "        if (initialLetter == secondLetter):\n",
    "            return 1\n",
    "    return 0"
   ]
  },
  {
   "cell_type": "code",
   "execution_count": 52,
   "metadata": {},
   "outputs": [
    {
     "data": {
      "text/plain": [
       "1"
      ]
     },
     "execution_count": 52,
     "metadata": {},
     "output_type": "execute_result"
    }
   ],
   "source": [
    "noDoubleRepeats(\"ATATAAC\")"
   ]
  },
  {
   "cell_type": "markdown",
   "metadata": {},
   "source": [
    "# Select appropriate table"
   ]
  },
  {
   "cell_type": "code",
   "execution_count": null,
   "metadata": {},
   "outputs": [],
   "source": [
    "# insides={\"Previous Nucleotide\": [\"A\",\"C\",\"G\",\"T\"], 0:[\"C\",\"G\",\"T\",\"A\"], 1:[\"T\",\"A\",\"C\",\"G\"], 2:[\"G\",\"T\",\"A\",\"C\"], 3:[\"TGC\",\"GCT\",\"CAT\",\"ACG\"]}\n",
    "# Table1\n",
    "# insides={\"Previous Nucleotide\": [\"A\",\"C\",\"G\",\"T\"], 0:[\"C\",\"G\",\"T\",\"A\"], 1:[\"T\",\"A\",\"C\",\"G\"], 2:[\"G\",\"T\",\"A\",\"C\"], 3:[\"TG\",\"GC\",\"CA\",\"AT\"]}\n",
    "\n",
    "# # Table2\n",
    "# insides={\"Previous Nucleotide\": [\"A\",\"C\",\"G\",\"T\"], 0:[\"C\",\"G\",\"T\",\"A\"], 1:[\"T\",\"A\",\"C\",\"G\"], 2:[\"G\",\"T\",\"A\",\"C\"], 3:[\"GT\",\"TG\",\"AC\",\"CG\"]}\n",
    "\n",
    "# Table3\n",
    "insides={\"Previous Nucleotide\": [\"A\",\"C\",\"G\",\"T\"], 0:[\"C\",\"G\",\"T\",\"A\"], 1:[\"G\",\"T\",\"A\",\"C\"], 2:[\"T\",\"A\",\"C\",\"G\"], 3:[\"TGC\",\"GCT\",\"CAT\",\"ATG\"]}\n",
    "\n",
    "\n",
    "cf=pd.DataFrame(insides)\n",
    "cf.index=cf[\"Previous Nucleotide\"]\n",
    "del cf[\"Previous Nucleotide\"]"
   ]
  },
  {
   "cell_type": "code",
   "execution_count": null,
   "metadata": {},
   "outputs": [],
   "source": [
    "display(cf)"
   ]
  },
  {
   "cell_type": "markdown",
   "metadata": {},
   "source": [
    "# Individual Code Check"
   ]
  },
  {
   "cell_type": "code",
   "execution_count": null,
   "metadata": {},
   "outputs": [],
   "source": [
    "code=[2,3,0]\n",
    "phrase=\"\"\n",
    "\n",
    "# Make up Insides\n",
    "insides={\"Previous Nucleotide\": [\"A\",\"C\",\"G\",\"T\"], 0:[\"C\",\"G\",\"T\",\"A\"], 1:[\"T\",\"A\",\"C\",\"G\"], 2:[\"G\",\"T\",\"A\",\"C\"], 3:[\"TG\",\"GC\",\"CA\",\"AT\"]}\n",
    "\n",
    "cf=pd.DataFrame(insides)\n",
    "cf.index=cf[\"Previous Nucleotide\"]\n",
    "del cf[\"Previous Nucleotide\"]\n",
    "\n",
    "for index, digit in enumerate(code): \n",
    "    \n",
    "    if index==0:\n",
    "        prevNuc=\"A\"\n",
    "    \n",
    "    letter=lookRight(prevNuc,digit,cf)\n",
    "#     print(letter)\n",
    "    phrase=phrase+letter\n",
    "    prevNuc=letter[-1]       \n",
    "    \n",
    "#     print(prevNuc)\n",
    "    \n",
    "print(phrase)"
   ]
  },
  {
   "cell_type": "code",
   "execution_count": null,
   "metadata": {},
   "outputs": [],
   "source": []
  },
  {
   "cell_type": "markdown",
   "metadata": {},
   "source": [
    "# Optimise Table for Low and High Strategy"
   ]
  },
  {
   "cell_type": "code",
   "execution_count": 2,
   "metadata": {},
   "outputs": [],
   "source": [
    "import numpy as np\n",
    "import pandas as pd\n",
    "import itertools"
   ]
  },
  {
   "cell_type": "code",
   "execution_count": null,
   "metadata": {},
   "outputs": [],
   "source": []
  },
  {
   "cell_type": "markdown",
   "metadata": {},
   "source": [
    "# Read in 256 Low Strategy Codes"
   ]
  },
  {
   "cell_type": "code",
   "execution_count": null,
   "metadata": {},
   "outputs": [],
   "source": []
  },
  {
   "cell_type": "code",
   "execution_count": null,
   "metadata": {},
   "outputs": [],
   "source": []
  },
  {
   "cell_type": "code",
   "execution_count": null,
   "metadata": {},
   "outputs": [],
   "source": []
  },
  {
   "cell_type": "code",
   "execution_count": null,
   "metadata": {},
   "outputs": [],
   "source": []
  },
  {
   "cell_type": "code",
   "execution_count": null,
   "metadata": {},
   "outputs": [],
   "source": []
  },
  {
   "cell_type": "code",
   "execution_count": null,
   "metadata": {},
   "outputs": [],
   "source": []
  },
  {
   "cell_type": "markdown",
   "metadata": {},
   "source": [
    "# Read in 256 ASSCI Symbols"
   ]
  },
  {
   "cell_type": "code",
   "execution_count": 3,
   "metadata": {},
   "outputs": [
    {
     "ename": "FileNotFoundError",
     "evalue": "[Errno 2] File Quart_CODEUPDATED_BOD.csv does not exist: 'Quart_CODEUPDATED_BOD.csv'",
     "output_type": "error",
     "traceback": [
      "\u001b[1;31m---------------------------------------------------------------------------\u001b[0m",
      "\u001b[1;31mFileNotFoundError\u001b[0m                         Traceback (most recent call last)",
      "\u001b[1;32m<ipython-input-3-ae0b34258a67>\u001b[0m in \u001b[0;36m<module>\u001b[1;34m\u001b[0m\n\u001b[1;32m----> 1\u001b[1;33m \u001b[0mcodeList\u001b[0m\u001b[1;33m=\u001b[0m\u001b[0mpd\u001b[0m\u001b[1;33m.\u001b[0m\u001b[0mread_csv\u001b[0m\u001b[1;33m(\u001b[0m\u001b[1;34m\"Quart_CODEUPDATED_BOD.csv\"\u001b[0m\u001b[1;33m,\u001b[0m \u001b[0mdtype\u001b[0m\u001b[1;33m=\u001b[0m\u001b[0mobject\u001b[0m\u001b[1;33m,\u001b[0m\u001b[0musecols\u001b[0m\u001b[1;33m=\u001b[0m\u001b[1;33m[\u001b[0m\u001b[1;36m0\u001b[0m\u001b[1;33m]\u001b[0m\u001b[1;33m,\u001b[0m\u001b[0mskiprows\u001b[0m\u001b[1;33m=\u001b[0m\u001b[1;36m3\u001b[0m\u001b[1;33m)\u001b[0m\u001b[1;33m\u001b[0m\u001b[1;33m\u001b[0m\u001b[0m\n\u001b[0m\u001b[0;32m      2\u001b[0m \u001b[0mcL\u001b[0m\u001b[1;33m=\u001b[0m\u001b[0mcodeList\u001b[0m\u001b[1;33m.\u001b[0m\u001b[0mdropna\u001b[0m\u001b[1;33m(\u001b[0m\u001b[1;33m)\u001b[0m\u001b[1;33m\u001b[0m\u001b[1;33m\u001b[0m\u001b[0m\n\u001b[0;32m      3\u001b[0m \u001b[0mcL\u001b[0m\u001b[1;33m.\u001b[0m\u001b[0mcolumns\u001b[0m\u001b[1;33m=\u001b[0m\u001b[1;33m[\u001b[0m\u001b[1;34m\"Tern Code\"\u001b[0m\u001b[1;33m]\u001b[0m\u001b[1;33m\u001b[0m\u001b[1;33m\u001b[0m\u001b[0m\n\u001b[0;32m      4\u001b[0m \u001b[0mprint\u001b[0m\u001b[1;33m(\u001b[0m\u001b[0mcL\u001b[0m\u001b[1;33m)\u001b[0m\u001b[1;33m\u001b[0m\u001b[1;33m\u001b[0m\u001b[0m\n",
      "\u001b[1;32mC:\\Anaconda3\\envs\\PaNFED\\lib\\site-packages\\pandas\\io\\parsers.py\u001b[0m in \u001b[0;36mparser_f\u001b[1;34m(filepath_or_buffer, sep, delimiter, header, names, index_col, usecols, squeeze, prefix, mangle_dupe_cols, dtype, engine, converters, true_values, false_values, skipinitialspace, skiprows, skipfooter, nrows, na_values, keep_default_na, na_filter, verbose, skip_blank_lines, parse_dates, infer_datetime_format, keep_date_col, date_parser, dayfirst, cache_dates, iterator, chunksize, compression, thousands, decimal, lineterminator, quotechar, quoting, doublequote, escapechar, comment, encoding, dialect, error_bad_lines, warn_bad_lines, delim_whitespace, low_memory, memory_map, float_precision)\u001b[0m\n\u001b[0;32m    674\u001b[0m         )\n\u001b[0;32m    675\u001b[0m \u001b[1;33m\u001b[0m\u001b[0m\n\u001b[1;32m--> 676\u001b[1;33m         \u001b[1;32mreturn\u001b[0m \u001b[0m_read\u001b[0m\u001b[1;33m(\u001b[0m\u001b[0mfilepath_or_buffer\u001b[0m\u001b[1;33m,\u001b[0m \u001b[0mkwds\u001b[0m\u001b[1;33m)\u001b[0m\u001b[1;33m\u001b[0m\u001b[1;33m\u001b[0m\u001b[0m\n\u001b[0m\u001b[0;32m    677\u001b[0m \u001b[1;33m\u001b[0m\u001b[0m\n\u001b[0;32m    678\u001b[0m     \u001b[0mparser_f\u001b[0m\u001b[1;33m.\u001b[0m\u001b[0m__name__\u001b[0m \u001b[1;33m=\u001b[0m \u001b[0mname\u001b[0m\u001b[1;33m\u001b[0m\u001b[1;33m\u001b[0m\u001b[0m\n",
      "\u001b[1;32mC:\\Anaconda3\\envs\\PaNFED\\lib\\site-packages\\pandas\\io\\parsers.py\u001b[0m in \u001b[0;36m_read\u001b[1;34m(filepath_or_buffer, kwds)\u001b[0m\n\u001b[0;32m    446\u001b[0m \u001b[1;33m\u001b[0m\u001b[0m\n\u001b[0;32m    447\u001b[0m     \u001b[1;31m# Create the parser.\u001b[0m\u001b[1;33m\u001b[0m\u001b[1;33m\u001b[0m\u001b[1;33m\u001b[0m\u001b[0m\n\u001b[1;32m--> 448\u001b[1;33m     \u001b[0mparser\u001b[0m \u001b[1;33m=\u001b[0m \u001b[0mTextFileReader\u001b[0m\u001b[1;33m(\u001b[0m\u001b[0mfp_or_buf\u001b[0m\u001b[1;33m,\u001b[0m \u001b[1;33m**\u001b[0m\u001b[0mkwds\u001b[0m\u001b[1;33m)\u001b[0m\u001b[1;33m\u001b[0m\u001b[1;33m\u001b[0m\u001b[0m\n\u001b[0m\u001b[0;32m    449\u001b[0m \u001b[1;33m\u001b[0m\u001b[0m\n\u001b[0;32m    450\u001b[0m     \u001b[1;32mif\u001b[0m \u001b[0mchunksize\u001b[0m \u001b[1;32mor\u001b[0m \u001b[0miterator\u001b[0m\u001b[1;33m:\u001b[0m\u001b[1;33m\u001b[0m\u001b[1;33m\u001b[0m\u001b[0m\n",
      "\u001b[1;32mC:\\Anaconda3\\envs\\PaNFED\\lib\\site-packages\\pandas\\io\\parsers.py\u001b[0m in \u001b[0;36m__init__\u001b[1;34m(self, f, engine, **kwds)\u001b[0m\n\u001b[0;32m    878\u001b[0m             \u001b[0mself\u001b[0m\u001b[1;33m.\u001b[0m\u001b[0moptions\u001b[0m\u001b[1;33m[\u001b[0m\u001b[1;34m\"has_index_names\"\u001b[0m\u001b[1;33m]\u001b[0m \u001b[1;33m=\u001b[0m \u001b[0mkwds\u001b[0m\u001b[1;33m[\u001b[0m\u001b[1;34m\"has_index_names\"\u001b[0m\u001b[1;33m]\u001b[0m\u001b[1;33m\u001b[0m\u001b[1;33m\u001b[0m\u001b[0m\n\u001b[0;32m    879\u001b[0m \u001b[1;33m\u001b[0m\u001b[0m\n\u001b[1;32m--> 880\u001b[1;33m         \u001b[0mself\u001b[0m\u001b[1;33m.\u001b[0m\u001b[0m_make_engine\u001b[0m\u001b[1;33m(\u001b[0m\u001b[0mself\u001b[0m\u001b[1;33m.\u001b[0m\u001b[0mengine\u001b[0m\u001b[1;33m)\u001b[0m\u001b[1;33m\u001b[0m\u001b[1;33m\u001b[0m\u001b[0m\n\u001b[0m\u001b[0;32m    881\u001b[0m \u001b[1;33m\u001b[0m\u001b[0m\n\u001b[0;32m    882\u001b[0m     \u001b[1;32mdef\u001b[0m \u001b[0mclose\u001b[0m\u001b[1;33m(\u001b[0m\u001b[0mself\u001b[0m\u001b[1;33m)\u001b[0m\u001b[1;33m:\u001b[0m\u001b[1;33m\u001b[0m\u001b[1;33m\u001b[0m\u001b[0m\n",
      "\u001b[1;32mC:\\Anaconda3\\envs\\PaNFED\\lib\\site-packages\\pandas\\io\\parsers.py\u001b[0m in \u001b[0;36m_make_engine\u001b[1;34m(self, engine)\u001b[0m\n\u001b[0;32m   1112\u001b[0m     \u001b[1;32mdef\u001b[0m \u001b[0m_make_engine\u001b[0m\u001b[1;33m(\u001b[0m\u001b[0mself\u001b[0m\u001b[1;33m,\u001b[0m \u001b[0mengine\u001b[0m\u001b[1;33m=\u001b[0m\u001b[1;34m\"c\"\u001b[0m\u001b[1;33m)\u001b[0m\u001b[1;33m:\u001b[0m\u001b[1;33m\u001b[0m\u001b[1;33m\u001b[0m\u001b[0m\n\u001b[0;32m   1113\u001b[0m         \u001b[1;32mif\u001b[0m \u001b[0mengine\u001b[0m \u001b[1;33m==\u001b[0m \u001b[1;34m\"c\"\u001b[0m\u001b[1;33m:\u001b[0m\u001b[1;33m\u001b[0m\u001b[1;33m\u001b[0m\u001b[0m\n\u001b[1;32m-> 1114\u001b[1;33m             \u001b[0mself\u001b[0m\u001b[1;33m.\u001b[0m\u001b[0m_engine\u001b[0m \u001b[1;33m=\u001b[0m \u001b[0mCParserWrapper\u001b[0m\u001b[1;33m(\u001b[0m\u001b[0mself\u001b[0m\u001b[1;33m.\u001b[0m\u001b[0mf\u001b[0m\u001b[1;33m,\u001b[0m \u001b[1;33m**\u001b[0m\u001b[0mself\u001b[0m\u001b[1;33m.\u001b[0m\u001b[0moptions\u001b[0m\u001b[1;33m)\u001b[0m\u001b[1;33m\u001b[0m\u001b[1;33m\u001b[0m\u001b[0m\n\u001b[0m\u001b[0;32m   1115\u001b[0m         \u001b[1;32melse\u001b[0m\u001b[1;33m:\u001b[0m\u001b[1;33m\u001b[0m\u001b[1;33m\u001b[0m\u001b[0m\n\u001b[0;32m   1116\u001b[0m             \u001b[1;32mif\u001b[0m \u001b[0mengine\u001b[0m \u001b[1;33m==\u001b[0m \u001b[1;34m\"python\"\u001b[0m\u001b[1;33m:\u001b[0m\u001b[1;33m\u001b[0m\u001b[1;33m\u001b[0m\u001b[0m\n",
      "\u001b[1;32mC:\\Anaconda3\\envs\\PaNFED\\lib\\site-packages\\pandas\\io\\parsers.py\u001b[0m in \u001b[0;36m__init__\u001b[1;34m(self, src, **kwds)\u001b[0m\n\u001b[0;32m   1889\u001b[0m         \u001b[0mkwds\u001b[0m\u001b[1;33m[\u001b[0m\u001b[1;34m\"usecols\"\u001b[0m\u001b[1;33m]\u001b[0m \u001b[1;33m=\u001b[0m \u001b[0mself\u001b[0m\u001b[1;33m.\u001b[0m\u001b[0musecols\u001b[0m\u001b[1;33m\u001b[0m\u001b[1;33m\u001b[0m\u001b[0m\n\u001b[0;32m   1890\u001b[0m \u001b[1;33m\u001b[0m\u001b[0m\n\u001b[1;32m-> 1891\u001b[1;33m         \u001b[0mself\u001b[0m\u001b[1;33m.\u001b[0m\u001b[0m_reader\u001b[0m \u001b[1;33m=\u001b[0m \u001b[0mparsers\u001b[0m\u001b[1;33m.\u001b[0m\u001b[0mTextReader\u001b[0m\u001b[1;33m(\u001b[0m\u001b[0msrc\u001b[0m\u001b[1;33m,\u001b[0m \u001b[1;33m**\u001b[0m\u001b[0mkwds\u001b[0m\u001b[1;33m)\u001b[0m\u001b[1;33m\u001b[0m\u001b[1;33m\u001b[0m\u001b[0m\n\u001b[0m\u001b[0;32m   1892\u001b[0m         \u001b[0mself\u001b[0m\u001b[1;33m.\u001b[0m\u001b[0munnamed_cols\u001b[0m \u001b[1;33m=\u001b[0m \u001b[0mself\u001b[0m\u001b[1;33m.\u001b[0m\u001b[0m_reader\u001b[0m\u001b[1;33m.\u001b[0m\u001b[0munnamed_cols\u001b[0m\u001b[1;33m\u001b[0m\u001b[1;33m\u001b[0m\u001b[0m\n\u001b[0;32m   1893\u001b[0m \u001b[1;33m\u001b[0m\u001b[0m\n",
      "\u001b[1;32mpandas\\_libs\\parsers.pyx\u001b[0m in \u001b[0;36mpandas._libs.parsers.TextReader.__cinit__\u001b[1;34m()\u001b[0m\n",
      "\u001b[1;32mpandas\\_libs\\parsers.pyx\u001b[0m in \u001b[0;36mpandas._libs.parsers.TextReader._setup_parser_source\u001b[1;34m()\u001b[0m\n",
      "\u001b[1;31mFileNotFoundError\u001b[0m: [Errno 2] File Quart_CODEUPDATED_BOD.csv does not exist: 'Quart_CODEUPDATED_BOD.csv'"
     ]
    }
   ],
   "source": [
    "codeList=pd.read_csv(\"Quart_CODEUPDATED_BOD.csv\", dtype=object,usecols=[0],skiprows=3)\n",
    "cL=codeList.dropna()\n",
    "cL.columns=[\"Tern Code\"]\n",
    "print(cL)"
   ]
  },
  {
   "cell_type": "code",
   "execution_count": null,
   "metadata": {},
   "outputs": [],
   "source": [
    "# for codes in cL.iloc[:,0]:\n",
    "#     print (list(codes))\n",
    "# print(len(cL.iloc[:,0]))"
   ]
  },
  {
   "cell_type": "markdown",
   "metadata": {},
   "source": [
    "# LOOP OVER THE TERN CODES FROM CSV"
   ]
  },
  {
   "cell_type": "code",
   "execution_count": null,
   "metadata": {
    "scrolled": false
   },
   "outputs": [],
   "source": [
    "decodedList=[]\n",
    "stringCodes=[]\n",
    "noTripRepeatsList=[]\n",
    "\n",
    "\n",
    "# Table 1\n",
    "insides={\"Previous Nucleotide\": [\"A\",\"C\",\"G\",\"T\"], 0:[\"C\",\"G\",\"T\",\"A\"], 1:[\"G\",\"T\",\"A\",\"C\"], 2:[\"T\",\"A\",\"C\",\"G\"], 3:[\"GG\",\"TT\",\"CC\",\"CG\"]}\n",
    "\n",
    "# Table 2\n",
    "# insides={\"Previous Nucleotide\": [\"A\",\"C\",\"G\",\"T\"], 0:[\"C\",\"G\",\"T\",\"A\"], 1:[\"G\",\"T\",\"A\",\"C\"], 2:[\"T\",\"A\",\"C\",\"G\"], 3:[\"TGC\",\"GCT\",\"CAT\",\"ATG\"]}\n",
    "\n",
    "# Table 3\n",
    "# insides={\"Previous Nucleotide\": [\"A\",\"C\",\"G\",\"T\"], 0:[\"C\",\"G\",\"T\",\"A\"], 1:[\"G\",\"T\",\"A\",\"C\"], 2:[\"T\",\"A\",\"C\",\"G\"], 3:[\"CGT\",\"GAT\",\"ACT\",\"CCA\"]}\n",
    "\n",
    "\n",
    "\n",
    "cf=pd.DataFrame(insides)\n",
    "cf.index=cf[\"Previous Nucleotide\"]\n",
    "del cf[\"Previous Nucleotide\"]\n",
    "\n",
    "for codes in cL.iloc[:,0]:\n",
    "    phrase=\"\"\n",
    "    stringCodes.append(codes)\n",
    "    lc=[int(i) for i in list(codes)]\n",
    "#     print(lc)\n",
    "    for index, digit in enumerate(lc): \n",
    "#         print(index)\n",
    "        if index==0:\n",
    "            prevNuc=\"A\"\n",
    "\n",
    "        letter=lookRight(prevNuc,digit,cf)\n",
    "        phrase=phrase+letter\n",
    "        prevNuc=letter[-1]  \n",
    "\n",
    "    decodedList.append(phrase)\n",
    "    noTripRepeatsList.append(noTripleRepeats(phrase))\n",
    "\n",
    "print(decodedList)\n",
    "print(len(decodedList))\n",
    "print(len(set(decodedList)))\n",
    "print(set([x for x in decodedList if decodedList.count(x) > 1]))\n",
    "print(noTripRepeatsList)\n",
    "print(sum(noTripRepeatsList))\n",
    "\n",
    "# print(stringCodes)"
   ]
  },
  {
   "cell_type": "code",
   "execution_count": null,
   "metadata": {},
   "outputs": [],
   "source": [
    "# cL.insert(1,\"String Code\",stringCodes)\n",
    "cL.insert(2,\"Python from Table2:\",decodedList)\n",
    "# cL.insert(3,\"Decoded: ATCG:0123\",decodedList)\n",
    "display(cL.head())\n",
    "display(cL.tail())"
   ]
  },
  {
   "cell_type": "code",
   "execution_count": null,
   "metadata": {},
   "outputs": [],
   "source": [
    "cL=cL.drop(['Python from Table5:'], axis=1)"
   ]
  },
  {
   "cell_type": "markdown",
   "metadata": {},
   "source": [
    "# Output"
   ]
  },
  {
   "cell_type": "code",
   "execution_count": null,
   "metadata": {},
   "outputs": [],
   "source": [
    "cLString=cL.astype(str)\n",
    "# display(cLString)\n",
    "cLString.to_csv(\"DecodedATTEMPT9.bod\",encoding=\"utf-8\",index = True)"
   ]
  },
  {
   "cell_type": "code",
   "execution_count": null,
   "metadata": {},
   "outputs": [],
   "source": []
  },
  {
   "cell_type": "code",
   "execution_count": null,
   "metadata": {},
   "outputs": [],
   "source": []
  },
  {
   "cell_type": "code",
   "execution_count": null,
   "metadata": {},
   "outputs": [],
   "source": []
  },
  {
   "cell_type": "code",
   "execution_count": null,
   "metadata": {},
   "outputs": [],
   "source": []
  },
  {
   "cell_type": "markdown",
   "metadata": {},
   "source": [
    "# Table Optimisation II"
   ]
  },
  {
   "cell_type": "code",
   "execution_count": null,
   "metadata": {},
   "outputs": [],
   "source": [
    "def correspondString(input):\n",
    "# Email 03/06/2020\n",
    "    if input==\"A\":\n",
    "        output=[\"C\",\"G\",\"T\",\"A\"]\n",
    "    elif input==\"B\":\n",
    "        output=[\"T\",\"A\",\"C\",\"G\"]\n",
    "    elif input==\"C\":\n",
    "        output=[\"G\",\"T\",\"A\",\"C\"]\n",
    "    elif input ==\"D\":\n",
    "        output=[\"CTG\",\"TAG\",\"CTA\",\"GCA\"]\n",
    "        \n",
    "    return output"
   ]
  },
  {
   "cell_type": "code",
   "execution_count": null,
   "metadata": {},
   "outputs": [],
   "source": [
    "def tableMaker(PN,A,B,C,D):\n",
    "    \n",
    "    A=correspondString(str(A))\n",
    "    B=correspondString(str(B))\n",
    "    C=correspondString(str(C))\n",
    "    D=correspondString(str(D))\n",
    "    \n",
    "    insides1={\"Previous Nucleotide\": PN, 0:A, 1:B, 2:C, 3:D}\n",
    "    cf=pd.DataFrame(insides1)\n",
    "    cf.index=cf[\"Previous Nucleotide\"]\n",
    "    del cf[\"Previous Nucleotide\"]\n",
    "    return cf"
   ]
  },
  {
   "cell_type": "code",
   "execution_count": null,
   "metadata": {},
   "outputs": [],
   "source": [
    "def mainBrain(code,cf):\n",
    "    phrase=\"\"\n",
    "    for index, digit in enumerate(code):  \n",
    "\n",
    "        if index==0:\n",
    "            prevNuc=\"A\"\n",
    "\n",
    "        letter=lookRight(prevNuc,digit,cf)\n",
    "        phrase=phrase+letter\n",
    "        prevNuc=letter[-1]\n",
    "\n",
    "\n",
    "    return(phrase)"
   ]
  },
  {
   "cell_type": "code",
   "execution_count": null,
   "metadata": {},
   "outputs": [],
   "source": []
  },
  {
   "cell_type": "code",
   "execution_count": null,
   "metadata": {},
   "outputs": [],
   "source": []
  },
  {
   "cell_type": "markdown",
   "metadata": {},
   "source": [
    "# Optimisation Function II"
   ]
  },
  {
   "cell_type": "code",
   "execution_count": null,
   "metadata": {},
   "outputs": [],
   "source": [
    "%%time\n",
    "\n",
    "import itertools\n",
    "d={}\n",
    "u={}\n",
    "PN=['A', 'C', 'G', 'T']\n",
    "\n",
    "for valuesY in list(itertools.permutations(PN)):\n",
    "\n",
    "#     for valuesX in list(itertools.permutations([\"A\",\"B\",\"C\",\"D\"])):\n",
    "    for valuesX in list(itertools.permutations([\"A\",\"B\",\"C\",\"D\"])):\n",
    "        cf=tableMaker(valuesY,valuesX[0],valuesX[1],valuesX[2],valuesX[3])\n",
    "\n",
    "        decodedList=[]\n",
    "        uniqueList=[]\n",
    "        stringCodes=[]\n",
    "        for codes in cL.iloc[:,0]:\n",
    "            stringCodes.append(codes)\n",
    "            lc=[int(i) for i in list(codes)]\n",
    "            decodedList.append(mainBrain(lc,cf))\n",
    "            d[str(valuesY)+\"___\"+str(valuesX)]=len(set(decodedList))\n",
    "            uniqueList.append(noTripleRepeats(mainBrain(lc,cf)))\n",
    "            u[str(valuesY)+\"___\"+str(valuesX)]=sum(uniqueList)\n",
    "\n",
    "for i in d:\n",
    "    if d[i]==256:\n",
    "    \n",
    "        print (str(i)+\": \"+str(d[i])+\": \"+str(u[i]))\n",
    "#     print (str(i)+\": \"+str(d[i])+\": \")"
   ]
  },
  {
   "cell_type": "code",
   "execution_count": null,
   "metadata": {},
   "outputs": [],
   "source": []
  },
  {
   "cell_type": "code",
   "execution_count": null,
   "metadata": {},
   "outputs": [],
   "source": []
  },
  {
   "cell_type": "code",
   "execution_count": null,
   "metadata": {},
   "outputs": [],
   "source": [
    "y=[\"CTG\",\"TAG\",\"CTA\",\"GCA\"]\n",
    "\n",
    "for number,valueIn in enumerate(y):\n",
    "#     k = [x for y in valueIn]\n",
    "    print(\"Next Value\")\n",
    "    print(number)\n",
    "    for valueInside in list (itertools.permutations(valueIn)):\n",
    "        print(valueInside)\n",
    "        "
   ]
  },
  {
   "cell_type": "code",
   "execution_count": null,
   "metadata": {},
   "outputs": [],
   "source": []
  },
  {
   "cell_type": "code",
   "execution_count": null,
   "metadata": {},
   "outputs": [],
   "source": []
  },
  {
   "cell_type": "code",
   "execution_count": null,
   "metadata": {},
   "outputs": [],
   "source": []
  },
  {
   "cell_type": "code",
   "execution_count": null,
   "metadata": {},
   "outputs": [],
   "source": []
  },
  {
   "cell_type": "code",
   "execution_count": null,
   "metadata": {},
   "outputs": [],
   "source": []
  },
  {
   "cell_type": "markdown",
   "metadata": {},
   "source": [
    "# Table Optimisation"
   ]
  },
  {
   "cell_type": "code",
   "execution_count": null,
   "metadata": {},
   "outputs": [],
   "source": [
    "\n",
    "A=[\"C\",\"G\",\"T\",\"A\"]\n",
    "B=[\"T\",\"A\",\"C\",\"G\"]\n",
    "C=[\"G\",\"T\",\"A\",\"C\"]\n",
    "D=[\"TG\",\"GC\",\"CA\",\"AT\"]\n",
    "PN=['A', 'C', 'G', 'T']\n",
    "\n",
    "# [\"TGC\",\"GCA\",\"CAT\",\"ATG\"]\n"
   ]
  },
  {
   "cell_type": "code",
   "execution_count": null,
   "metadata": {},
   "outputs": [],
   "source": [
    "def tableMaker(PN,A,B,C,D):\n",
    "    \n",
    "    A=correspondString(str(A))\n",
    "    B=correspondString(str(B))\n",
    "    C=correspondString(str(C))\n",
    "    D=correspondString(str(D))\n",
    "    \n",
    "    insides1={\"Previous Nucleotide\": PN, 0:A, 1:B, 2:C, 3:D}\n",
    "    cf=pd.DataFrame(insides1)\n",
    "    cf.index=cf[\"Previous Nucleotide\"]\n",
    "    del cf[\"Previous Nucleotide\"]\n",
    "    return cf"
   ]
  },
  {
   "cell_type": "markdown",
   "metadata": {},
   "source": [
    "# Process Brains Function"
   ]
  },
  {
   "cell_type": "code",
   "execution_count": null,
   "metadata": {},
   "outputs": [],
   "source": [
    "def mainBrain(code,cf):\n",
    "    phrase=\"\"\n",
    "    for index, digit in enumerate(code):  \n",
    "\n",
    "        if index==0:\n",
    "            prevNuc=\"A\"\n",
    "\n",
    "        letter=lookRight(prevNuc,digit,cf)\n",
    "        phrase=phrase+letter\n",
    "        prevNuc=letter[-1]\n",
    "\n",
    "\n",
    "    return(phrase)"
   ]
  },
  {
   "cell_type": "code",
   "execution_count": null,
   "metadata": {},
   "outputs": [],
   "source": []
  },
  {
   "cell_type": "code",
   "execution_count": null,
   "metadata": {},
   "outputs": [],
   "source": []
  },
  {
   "cell_type": "code",
   "execution_count": null,
   "metadata": {},
   "outputs": [],
   "source": [
    "def correspondString(input):\n",
    "# Email 03/06/2020\n",
    "    if input==\"A\":\n",
    "        output=[\"C\",\"G\",\"T\",\"A\"]\n",
    "    elif input==\"B\":\n",
    "        output=[\"T\",\"A\",\"C\",\"G\"]\n",
    "    elif input==\"C\":\n",
    "        output=[\"G\",\"T\",\"A\",\"C\"]\n",
    "    elif input ==\"D\":\n",
    "        output=[\"TGC\",\"GCT\",\"CAT\",\"ATG\"]\n",
    "#           output=[\"CG\",\"AT\",\"TA\",\"GA\"]  \n",
    "\n",
    "    return output"
   ]
  },
  {
   "cell_type": "markdown",
   "metadata": {},
   "source": [
    "# Optimisation Function"
   ]
  },
  {
   "cell_type": "code",
   "execution_count": null,
   "metadata": {},
   "outputs": [],
   "source": [
    "%%time\n",
    "\n",
    "import itertools\n",
    "d={}\n",
    "u={}\n",
    "PN=['A', 'C', 'G', 'T']\n",
    "\n",
    "for valuesY in list(itertools.permutations(PN)):\n",
    "\n",
    "#     for valuesX in list(itertools.permutations([\"A\",\"B\",\"C\",\"D\"])):\n",
    "    for valuesX in list(itertools.permutations([\"A\",\"B\",\"C\",\"D\"])):\n",
    "        cf=tableMaker(valuesY,valuesX[0],valuesX[1],valuesX[2],valuesX[3])\n",
    "\n",
    "        decodedList=[]\n",
    "        uniqueList=[]\n",
    "        stringCodes=[]\n",
    "        for codes in cL.iloc[:,0]:\n",
    "            stringCodes.append(codes)\n",
    "            lc=[int(i) for i in list(codes)]\n",
    "            decodedList.append(mainBrain(lc,cf))\n",
    "            d[str(valuesY)+\"___\"+str(valuesX)]=len(set(decodedList))\n",
    "            uniqueList.append(noTripleRepeats(mainBrain(lc,cf)))\n",
    "            u[str(valuesY)+\"___\"+str(valuesX)]=sum(uniqueList)\n",
    "\n",
    "for i in d:\n",
    "    if d[i]==256:\n",
    "    \n",
    "        print (str(i)+\": \"+str(d[i])+\": \"+str(u[i]))\n",
    "#     print (str(i)+\": \"+str(d[i])+\": \")"
   ]
  },
  {
   "cell_type": "code",
   "execution_count": null,
   "metadata": {
    "scrolled": false
   },
   "outputs": [],
   "source": [
    "noRList=[]\n",
    "for i in d:\n",
    "    if u[i]==0:\n",
    "    \n",
    "        print (str(i)+\": \"+str(d[i])+\": \"+str(u[i]))\n",
    "        noRList.append(d[i])\n",
    "print(max(noRList))"
   ]
  },
  {
   "cell_type": "code",
   "execution_count": null,
   "metadata": {},
   "outputs": [],
   "source": []
  },
  {
   "cell_type": "code",
   "execution_count": null,
   "metadata": {},
   "outputs": [],
   "source": []
  },
  {
   "cell_type": "code",
   "execution_count": null,
   "metadata": {},
   "outputs": [],
   "source": []
  },
  {
   "cell_type": "code",
   "execution_count": null,
   "metadata": {},
   "outputs": [],
   "source": []
  },
  {
   "cell_type": "code",
   "execution_count": null,
   "metadata": {},
   "outputs": [],
   "source": []
  },
  {
   "cell_type": "code",
   "execution_count": null,
   "metadata": {},
   "outputs": [],
   "source": []
  },
  {
   "cell_type": "code",
   "execution_count": null,
   "metadata": {},
   "outputs": [],
   "source": []
  },
  {
   "cell_type": "markdown",
   "metadata": {},
   "source": [
    "# Unqiue Codes Only"
   ]
  },
  {
   "cell_type": "code",
   "execution_count": null,
   "metadata": {},
   "outputs": [],
   "source": [
    "numRepeats=np.array(list(u.values()))\n",
    "numUnique=np.array(list(d.values()))\n",
    "codeNames=np.array(list((d.keys())))\n",
    "\n",
    "\n",
    "print(\"No repeated letters: \")\n",
    "print(\"Highest number of unique codes is: \"+str(max(numUnique[numRepeats==0])))\n",
    "\n",
    "uniqueList=[str(j)+\"__\"+str(i) for i,j in zip (numUnique[numRepeats==0],codeNames[numRepeats==0])]\n",
    "\n",
    "for values in uniqueList:\n",
    "    print(values)\n"
   ]
  },
  {
   "cell_type": "code",
   "execution_count": null,
   "metadata": {},
   "outputs": [],
   "source": []
  },
  {
   "cell_type": "markdown",
   "metadata": {},
   "source": [
    "# Loop Over All Combinations"
   ]
  },
  {
   "cell_type": "code",
   "execution_count": null,
   "metadata": {},
   "outputs": [],
   "source": [
    "%%time\n",
    "import itertools\n",
    "d={}\n",
    "u={}\n",
    "\n",
    "pList=[]\n",
    "\n",
    "PN=['A', 'T', 'C', 'G']\n",
    "Alist=[\"T\",\"C\",\"G\",\"A\"]\n",
    "Blist=[\"C\",\"G\",\"A\",\"T\"]\n",
    "A=\"A\"\n",
    "B=\"B\"\n",
    "C=\"C\"\n",
    "D=\"D\"\n",
    "\n",
    "# C=[\"G\",\"A\",\"T\",\"C\"]\n",
    "# D=[\"G\",\"C\",\"T\",\"A\"]\n",
    "\n",
    "for valuesY in list(itertools.permutations(PN)):\n",
    "\n",
    "    for valuesX in list(itertools.permutations([\"A\",\"B\",\"C\",\"D\"])):\n",
    "        \n",
    "        for valuesA in list(itertools.permutations(Alist)):\n",
    "#             columnDict={\"A\":valuesA,\"B\":[\"C\",\"G\",\"A\",\"T\"],\"C\":[\"G\",\"A\",\"T\",\"C\"],\"D\":[\"G\",\"C\",\"T\",\"A\"]}\n",
    "#             decodedList=[]\n",
    "#             uniqueList=[]\n",
    "#             stringCodes=[]\n",
    "            \n",
    "#             cf=tableMakerUpgrade(valuesY,valuesX[0],valuesX[1],valuesX[2],valuesX[3],columnDict)\n",
    "         \n",
    "#             for codes in cL.iloc[:,0]:\n",
    "#                 stringCodes.append(codes)\n",
    "#                 lc=[int(i) for i in list(codes)]\n",
    "#                 decodedList.append(mainBrain(lc,cf))\n",
    "#                 d[str(valuesY)+\"___\"+str(valuesX)+\"___\"+str(valuesA)]=len(set(decodedList))\n",
    "#                 uniqueList.append(uniqueCodes(mainBrain(lc,cf)))\n",
    "#                 u[str(valuesY)+\"___\"+str(valuesX)+\"___\"+str(valuesA)]=sum(uniqueList)   \n",
    "            \n",
    "#             pList.append(str(valuesY)+\"__\"+str(valuesX)+\"__\"+str(valuesA))\n",
    "            \n",
    "            for valuesB in list((itertools.permutations(Blist))):\n",
    "                columnDict={\"A\":valuesA,\"B\":valuesB,\"C\":[\"G\",\"A\",\"T\",\"C\"],\"D\":[\"G\",\"C\",\"T\",\"A\"]}\n",
    "                decodedList=[]\n",
    "                uniqueList=[]\n",
    "                stringCodes=[]\n",
    "\n",
    "                cf=tableMakerUpgrade(valuesY,valuesX[0],valuesX[1],valuesX[2],valuesX[3],columnDict)\n",
    "\n",
    "                for codes in cL.iloc[:,0]:\n",
    "                    stringCodes.append(codes)\n",
    "                    lc=[int(i) for i in list(codes)]\n",
    "                    decodedList.append(mainBrain(lc,cf))\n",
    "                    d[str(valuesY)+\"___\"+str(valuesX)+\"___\"+str(valuesA)+\"___\"+str(valuesB)]=len(set(decodedList))\n",
    "                    uniqueList.append(uniqueCodes(mainBrain(lc,cf)))\n",
    "                    u[str(valuesY)+\"___\"+str(valuesX)+\"___\"+str(valuesA)+\"___\"+str(valuesB)]=sum(uniqueList)   \n",
    "            \n",
    "# #                 pList.append(str(valuesY)+\"__\"+str(valuesX)+\"__\"+str(valuesA)+\"__\"+str(valuesB))\n",
    "\n",
    "#                 for valuesC in list((itertools.permutations(C))):\n",
    "# #                     pList.append(str(valuesY)+\"__\"+str(valuesX)+\"__\"+str(valuesA)+\"__\"+str(valuesB)+\"__\"+str(valuesC))\n",
    "                \n",
    "#                     for valuesD in list((itertools.permutations(D))):\n",
    "#                         pList.append(str(valuesY)+\"__\"+str(valuesX)+\"__\"+str(valuesA)+\"__\"+str(valuesB)+\"__\"+str(valuesC)+\"__\"+str(valuesD))\n",
    "\n",
    "        \n",
    "        \n",
    "        \n",
    "\n",
    "\n",
    "# for i in d:\n",
    "#     print (str(i)+\": \"+str(d[i])+\": \"+str(u[i]))\n"
   ]
  },
  {
   "cell_type": "code",
   "execution_count": null,
   "metadata": {},
   "outputs": [],
   "source": [
    "print(len(d))"
   ]
  },
  {
   "cell_type": "code",
   "execution_count": null,
   "metadata": {},
   "outputs": [],
   "source": [
    "numRepeats=np.array(list(u.values()))\n",
    "numUnique=np.array(list(d.values()))\n",
    "codeNames=np.array(list((d.keys())))\n",
    "\n",
    "\n",
    "print(\"No repeated letters: \")\n",
    "print(\"Highest number of unique codes is: \"+str(max(numUnique[numRepeats==0])))\n",
    "\n",
    "uniqueList=[str(j)+\"__\"+str(i) for i,j in zip (numUnique[numRepeats==0],codeNames[numRepeats==0])]\n",
    "\n",
    "for values in uniqueList:\n",
    "    print(values)"
   ]
  },
  {
   "cell_type": "code",
   "execution_count": null,
   "metadata": {},
   "outputs": [],
   "source": [
    "print(len(uniqueList)/len(d)*100)"
   ]
  },
  {
   "cell_type": "code",
   "execution_count": null,
   "metadata": {},
   "outputs": [],
   "source": []
  },
  {
   "cell_type": "code",
   "execution_count": null,
   "metadata": {},
   "outputs": [],
   "source": []
  },
  {
   "cell_type": "code",
   "execution_count": null,
   "metadata": {},
   "outputs": [],
   "source": []
  },
  {
   "cell_type": "code",
   "execution_count": null,
   "metadata": {},
   "outputs": [],
   "source": [
    "def tableMakerUpgrade(PN,A,B,C,D,columnDict):\n",
    "    \n",
    "    A=columnDict[str(A)]\n",
    "    B=columnDict[str(B)]\n",
    "    C=columnDict[str(C)]\n",
    "    D=columnDict[str(D)]\n",
    "    \n",
    "    insides1={\"Previous Nucleotide\": PN, 0:A, 1:B, 2:C, 3:D}\n",
    "    cf=pd.DataFrame(insides1)\n",
    "    cf.index=cf[\"Previous Nucleotide\"]\n",
    "    del cf[\"Previous Nucleotide\"]\n",
    "    return cf"
   ]
  },
  {
   "cell_type": "code",
   "execution_count": null,
   "metadata": {},
   "outputs": [],
   "source": [
    "def correspondStringUpgrade(input,columnDict):\n",
    "# Email 03/06/2020\n",
    "    if input==\"A\":\n",
    "        output=columnDict[\"A\"]\n",
    "    elif input==\"B\":\n",
    "        output=columnDict[\"B\"]\n",
    "    elif input==\"C\":\n",
    "        output=columnDict[\"C\"]\n",
    "    elif input ==\"D\":\n",
    "        output=columnDict[\"D\"]\n",
    "\n",
    "    return output"
   ]
  },
  {
   "cell_type": "code",
   "execution_count": null,
   "metadata": {},
   "outputs": [],
   "source": []
  },
  {
   "cell_type": "code",
   "execution_count": null,
   "metadata": {},
   "outputs": [],
   "source": [
    "A=\"A\"\n",
    "B=\"B\"\n",
    "C=\"C\"\n",
    "D=\"D\"\n",
    "columnDict={\"A\":[\"T\",\"C\",\"G\",\"A\"],\"B\":[\"C\",\"G\",\"A\",\"T\"],\"C\":[\"G\",\"A\",\"T\",\"C\"],\"D\":[\"G\",\"C\",\"T\",\"A\"]}\n",
    "d=tableMakerUpgrade(['A', 'T', 'C', 'G'],D,B,A,C,columnDict)\n",
    "display(d)"
   ]
  },
  {
   "cell_type": "code",
   "execution_count": null,
   "metadata": {},
   "outputs": [],
   "source": [
    "A=\"A\"\n",
    "B=\"B\"\n",
    "C=\"C\"\n",
    "D=\"D\"\n",
    "print(a)\n",
    "print(columnDict[str(A)])"
   ]
  },
  {
   "cell_type": "code",
   "execution_count": null,
   "metadata": {},
   "outputs": [],
   "source": []
  }
 ],
 "metadata": {
  "kernelspec": {
   "display_name": "Python 3",
   "language": "python",
   "name": "python3"
  },
  "language_info": {
   "codemirror_mode": {
    "name": "ipython",
    "version": 3
   },
   "file_extension": ".py",
   "mimetype": "text/x-python",
   "name": "python",
   "nbconvert_exporter": "python",
   "pygments_lexer": "ipython3",
   "version": "3.6.10"
  }
 },
 "nbformat": 4,
 "nbformat_minor": 2
}
