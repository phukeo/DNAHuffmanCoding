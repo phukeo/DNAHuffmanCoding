{
 "cells": [
  {
   "cell_type": "markdown",
   "metadata": {},
   "source": [
    "# Encoding"
   ]
  },
  {
   "cell_type": "code",
   "execution_count": 1,
   "metadata": {},
   "outputs": [],
   "source": [
    "# Phase III - Version 1 - Termination Sequence Added\n",
    "import numpy as np\n",
    "import pandas as pd\n",
    "import itertools"
   ]
  },
  {
   "cell_type": "code",
   "execution_count": 2,
   "metadata": {},
   "outputs": [
    {
     "data": {
      "text/html": [
       "<div>\n",
       "<style scoped>\n",
       "    .dataframe tbody tr th:only-of-type {\n",
       "        vertical-align: middle;\n",
       "    }\n",
       "\n",
       "    .dataframe tbody tr th {\n",
       "        vertical-align: top;\n",
       "    }\n",
       "\n",
       "    .dataframe thead th {\n",
       "        text-align: right;\n",
       "    }\n",
       "</style>\n",
       "<table border=\"1\" class=\"dataframe\">\n",
       "  <thead>\n",
       "    <tr style=\"text-align: right;\">\n",
       "      <th></th>\n",
       "      <th>Dec</th>\n",
       "      <th>Char</th>\n",
       "      <th>QUAT CODE</th>\n",
       "      <th>QUAT NUCLEOTIDES</th>\n",
       "    </tr>\n",
       "  </thead>\n",
       "  <tbody>\n",
       "    <tr>\n",
       "      <th>0</th>\n",
       "      <td>0</td>\n",
       "      <td>NUL</td>\n",
       "      <td>0</td>\n",
       "      <td>CGTA</td>\n",
       "    </tr>\n",
       "    <tr>\n",
       "      <th>1</th>\n",
       "      <td>1</td>\n",
       "      <td>SOH</td>\n",
       "      <td>1</td>\n",
       "      <td>CGTC</td>\n",
       "    </tr>\n",
       "    <tr>\n",
       "      <th>2</th>\n",
       "      <td>2</td>\n",
       "      <td>STX</td>\n",
       "      <td>2</td>\n",
       "      <td>CGTG</td>\n",
       "    </tr>\n",
       "    <tr>\n",
       "      <th>3</th>\n",
       "      <td>3</td>\n",
       "      <td>ETX</td>\n",
       "      <td>3</td>\n",
       "      <td>CGTCG</td>\n",
       "    </tr>\n",
       "    <tr>\n",
       "      <th>4</th>\n",
       "      <td>4</td>\n",
       "      <td>EOT</td>\n",
       "      <td>10</td>\n",
       "      <td>CGAC</td>\n",
       "    </tr>\n",
       "  </tbody>\n",
       "</table>\n",
       "</div>"
      ],
      "text/plain": [
       "  Dec Char QUAT CODE QUAT NUCLEOTIDES\n",
       "0   0  NUL         0             CGTA\n",
       "1   1  SOH         1             CGTC\n",
       "2   2  STX         2             CGTG\n",
       "3   3  ETX         3            CGTCG\n",
       "4   4  EOT        10             CGAC"
      ]
     },
     "metadata": {},
     "output_type": "display_data"
    },
    {
     "data": {
      "text/html": [
       "<div>\n",
       "<style scoped>\n",
       "    .dataframe tbody tr th:only-of-type {\n",
       "        vertical-align: middle;\n",
       "    }\n",
       "\n",
       "    .dataframe tbody tr th {\n",
       "        vertical-align: top;\n",
       "    }\n",
       "\n",
       "    .dataframe thead th {\n",
       "        text-align: right;\n",
       "    }\n",
       "</style>\n",
       "<table border=\"1\" class=\"dataframe\">\n",
       "  <thead>\n",
       "    <tr style=\"text-align: right;\">\n",
       "      <th></th>\n",
       "      <th>Dec</th>\n",
       "      <th>Char</th>\n",
       "      <th>QUAT CODE</th>\n",
       "      <th>QUAT NUCLEOTIDES</th>\n",
       "    </tr>\n",
       "  </thead>\n",
       "  <tbody>\n",
       "    <tr>\n",
       "      <th>251</th>\n",
       "      <td>251</td>\n",
       "      <td>?</td>\n",
       "      <td>3323</td>\n",
       "      <td>GGCCAGG</td>\n",
       "    </tr>\n",
       "    <tr>\n",
       "      <th>252</th>\n",
       "      <td>252</td>\n",
       "      <td>?</td>\n",
       "      <td>3330</td>\n",
       "      <td>GGCCTTA</td>\n",
       "    </tr>\n",
       "    <tr>\n",
       "      <th>253</th>\n",
       "      <td>253</td>\n",
       "      <td>²</td>\n",
       "      <td>3331</td>\n",
       "      <td>GGCCTTC</td>\n",
       "    </tr>\n",
       "    <tr>\n",
       "      <th>254</th>\n",
       "      <td>254</td>\n",
       "      <td>?</td>\n",
       "      <td>3332</td>\n",
       "      <td>GGCCTTG</td>\n",
       "    </tr>\n",
       "    <tr>\n",
       "      <th>255</th>\n",
       "      <td>255</td>\n",
       "      <td>NaN</td>\n",
       "      <td>3333</td>\n",
       "      <td>GGCCTTCG</td>\n",
       "    </tr>\n",
       "  </tbody>\n",
       "</table>\n",
       "</div>"
      ],
      "text/plain": [
       "     Dec Char QUAT CODE QUAT NUCLEOTIDES\n",
       "251  251    ?      3323          GGCCAGG\n",
       "252  252    ?      3330          GGCCTTA\n",
       "253  253    ²      3331          GGCCTTC\n",
       "254  254    ?      3332          GGCCTTG\n",
       "255  255  NaN      3333         GGCCTTCG"
      ]
     },
     "metadata": {},
     "output_type": "display_data"
    }
   ],
   "source": [
    "# Read in the ASCII Table\n",
    "ASCII_List_Raw=pd.read_csv(\"ASCII_QUAT_CODES.csv\", dtype=object,usecols=[0,1,2,3],skiprows=0, nrows=260,encoding='utf-8')\n",
    "\n",
    "display(ASCII_List_Raw.head())\n",
    "display(ASCII_List_Raw.tail())"
   ]
  },
  {
   "cell_type": "code",
   "execution_count": null,
   "metadata": {},
   "outputs": [],
   "source": []
  },
  {
   "cell_type": "markdown",
   "metadata": {},
   "source": [
    "# Functions"
   ]
  },
  {
   "cell_type": "code",
   "execution_count": 3,
   "metadata": {},
   "outputs": [],
   "source": [
    "def get_QUAT_NUCLEOTIDES(df, value):\n",
    "    ''' Takes a character as the input and returns the corresponding QUAT NUCLEOTIDE.'''\n",
    "    \n",
    "    # Deal with the special case when the entry is a spacebar\n",
    "    if value==\" \":\n",
    "        value=\"space\"\n",
    "    \n",
    "    elif value==\"'\":\n",
    "        pass\n",
    "    elif value==\"\\n\": # If the character is a new line, swap it for a LF ASSCI instead\n",
    "        value=\"LF\"\n",
    "#         return True\n",
    "#     elif value==\"SOMETHING WE CANT TRANSLATE\"\n",
    "#         return True\n",
    "\n",
    "    # Get bool dataframe with True at positions where the given value exists\n",
    "    result = df.isin([value])\n",
    "    # Find the row where result is true\n",
    "    row = list(result[\"Char\"][result[\"Char\"] == True].index)\n",
    "    # Find the corresponding QUAT NUCLEOTIDE at the row\n",
    "    nucleotideCode=df.loc[row,\"QUAT NUCLEOTIDES\"].tolist()[0]\n",
    "\n",
    "    return nucleotideCode"
   ]
  },
  {
   "cell_type": "code",
   "execution_count": 4,
   "metadata": {},
   "outputs": [
    {
     "name": "stdout",
     "output_type": "stream",
     "text": [
      "CACG GCGC CGCA\n"
     ]
    }
   ],
   "source": [
    "# get_QUAT_NUCLEOTIDES-Test\n",
    "a=get_QUAT_NUCLEOTIDES(ASCII_List_Raw,\" \")\n",
    "b=get_QUAT_NUCLEOTIDES(ASCII_List_Raw,\"b\") \n",
    "c=get_QUAT_NUCLEOTIDES(ASCII_List_Raw,\"\\n\") \n",
    "print(a,b,c)\n",
    "\n",
    "# print(type(a))"
   ]
  },
  {
   "cell_type": "code",
   "execution_count": null,
   "metadata": {},
   "outputs": [],
   "source": []
  },
  {
   "cell_type": "code",
   "execution_count": 5,
   "metadata": {},
   "outputs": [],
   "source": [
    "def noTripleRepeats(code): #This is actually for AA repeats\n",
    "    \"\"\"Takes a tuple of letters as an input and returns 0 if there are no triple repeats such as AAB\n",
    "    and a 1 if there are triple repeats such as AAA\"\"\"\n",
    "    \n",
    "    # Convert tuple to string:\n",
    "    testString=\"\"\n",
    "    for value in code:\n",
    "        testString=testString+value\n",
    "    \n",
    "    # Brains of checking is below\n",
    "    x=len(testString)\n",
    "    for i,j in enumerate(code):\n",
    "        if i==(x-2) or x<=2:\n",
    "            break\n",
    "        initialLetter=j\n",
    "        secondLetter=code[i+1]\n",
    "        thirdLetter=code[i+2]\n",
    "        if (initialLetter == secondLetter) and (secondLetter==thirdLetter):\n",
    "            return 1\n",
    "    return 0"
   ]
  },
  {
   "cell_type": "code",
   "execution_count": 6,
   "metadata": {},
   "outputs": [
    {
     "data": {
      "text/plain": [
       "0"
      ]
     },
     "execution_count": 6,
     "metadata": {},
     "output_type": "execute_result"
    }
   ],
   "source": [
    "# noTripleRepeats test\n",
    "noTripleRepeats(('A', 'A', 'G','T','T','G','C',\"C\",\"C\"))\n",
    "noTripleRepeats(('A', 'A', 'G','T','T','G','C',\"C\",\"G\"))"
   ]
  },
  {
   "cell_type": "code",
   "execution_count": null,
   "metadata": {},
   "outputs": [],
   "source": []
  },
  {
   "cell_type": "code",
   "execution_count": 7,
   "metadata": {},
   "outputs": [],
   "source": [
    "def noDoubleRepeats(code): #This is actually for AA repeats\n",
    "    \"\"\"Takes a string of letters as an input and returns 0 if there are no double repeats such as AB\n",
    "    and a 1 if there are double repeats AA\"\"\"\n",
    "    x=len(code)\n",
    "    for i,j in enumerate(code):\n",
    "        if i==(x-1) or x<=1:\n",
    "            break\n",
    "        initialLetter=j\n",
    "        secondLetter=code[i+1]\n",
    "        if (initialLetter == secondLetter):\n",
    "            return 1\n",
    "    return 0"
   ]
  },
  {
   "cell_type": "code",
   "execution_count": 8,
   "metadata": {},
   "outputs": [
    {
     "data": {
      "text/plain": [
       "0"
      ]
     },
     "execution_count": 8,
     "metadata": {},
     "output_type": "execute_result"
    }
   ],
   "source": [
    "# noDoubleRepeats test\n",
    "noDoubleRepeats(\"TCTATCGACA\")"
   ]
  },
  {
   "cell_type": "code",
   "execution_count": null,
   "metadata": {},
   "outputs": [],
   "source": []
  },
  {
   "cell_type": "code",
   "execution_count": 9,
   "metadata": {},
   "outputs": [],
   "source": [
    "def codingStrategy(maximumFragments):\n",
    "    \"\"\"Need to keep the total length of DNA fragment to its lowest. \n",
    "    Each DNA fragment consists of three parts: \n",
    "    1) The Address Code at the front \n",
    "    2) The Encoded Information\n",
    "    3) The Termination Sequence\n",
    "    \n",
    "    This function is designed to output the smallest address file possible based on the total length of the \n",
    "    message. Each one of these address files needs to be unique and have no triple repeats \"\"\"\n",
    "    \n",
    "    noRepeatsList=[]\n",
    "    # Start at the smallest and work upwards\n",
    "    for x in range(0,20):\n",
    "        if maximumFragments<=4**x:\n",
    "            addressLength=x\n",
    "            \n",
    "            # Now create the combinations with this number of digits available\n",
    "            checkList=list(itertools.product([\"A\",\"G\",\"C\",\"T\"], repeat=addressLength)) # Repeat here corresponds to the length of the address code such that if repeats = 2 then expect [(1, 1), (1, 2), (1, 3), (2, 1), (2, 2), (2, 3), (3, 1), (3, 2), (3, 3)] whereas if repeats =3 then expect [(1,1,1), (1,1,2) etc]\n",
    "            # Note the above code produces a list similar to:\n",
    "            # [(A,A), (A,B) etc] for repeat =2\n",
    "            # [(A,A,A), (A,A,B) etc] for repeat =3\n",
    "            \n",
    "            # Loop through each tuple in above list and check to see if there is triple repeats. Then put the suitable  \n",
    "            for entry in checkList:\n",
    "                if noTripleRepeats(entry)==0:\n",
    "                    stringCode=\"\"\n",
    "                    \n",
    "                    # Build list of strings that can be used as address codes. Put these in the noRepeatsList\n",
    "                    for letter in entry:\n",
    "                        stringCode=stringCode+letter\n",
    "                    noRepeatsList.append(stringCode)\n",
    "                    \n",
    "                else: # The tuple has a triple repeat and therefore should not be converted to string address code\n",
    "                    pass\n",
    "            \n",
    "            # Check that no number of codes is still adequate:\n",
    "            if maximumFragments<=len(noRepeatsList):\n",
    "                return noRepeatsList\n",
    "            else:\n",
    "                return codingStrategy(maximumFragments+1)"
   ]
  },
  {
   "cell_type": "code",
   "execution_count": 10,
   "metadata": {
    "scrolled": true
   },
   "outputs": [
    {
     "name": "stdout",
     "output_type": "stream",
     "text": [
      "['AAG', 'AAC', 'AAT', 'AGA', 'AGG', 'AGC', 'AGT', 'ACA', 'ACG', 'ACC', 'ACT', 'ATA', 'ATG', 'ATC', 'ATT', 'GAA', 'GAG', 'GAC', 'GAT', 'GGA', 'GGC', 'GGT', 'GCA', 'GCG', 'GCC', 'GCT', 'GTA', 'GTG', 'GTC', 'GTT', 'CAA', 'CAG', 'CAC', 'CAT', 'CGA', 'CGG', 'CGC', 'CGT', 'CCA', 'CCG', 'CCT', 'CTA', 'CTG', 'CTC', 'CTT', 'TAA', 'TAG', 'TAC', 'TAT', 'TGA', 'TGG', 'TGC', 'TGT', 'TCA', 'TCG', 'TCC', 'TCT', 'TTA', 'TTG', 'TTC']\n",
      "60\n"
     ]
    }
   ],
   "source": [
    "# Coding strategy test\n",
    "a=codingStrategy(60)\n",
    "print(a)\n",
    "print(len(a))"
   ]
  },
  {
   "cell_type": "code",
   "execution_count": null,
   "metadata": {},
   "outputs": [],
   "source": []
  },
  {
   "cell_type": "code",
   "execution_count": 11,
   "metadata": {},
   "outputs": [],
   "source": [
    "def complimentaryPrimer(primer):\n",
    "    \"\"\" Takes an address code as an input and gives the complimentary primer as the output\"\"\"\n",
    "    compPrimer=\"\"\n",
    "    for letter in list(primer):\n",
    "        if letter == \"A\":\n",
    "            comp=\"T\"\n",
    "        elif letter == \"C\":\n",
    "            comp=\"G\"\n",
    "        elif letter == \"T\":\n",
    "            comp=\"A\"\n",
    "        elif letter == \"G\":\n",
    "            comp=\"C\"\n",
    "        compPrimer+=comp\n",
    "    return compPrimer"
   ]
  },
  {
   "cell_type": "code",
   "execution_count": 12,
   "metadata": {},
   "outputs": [
    {
     "name": "stdout",
     "output_type": "stream",
     "text": [
      "TAGCCGGCTC\n"
     ]
    }
   ],
   "source": [
    "# ComplimentaryPrimer Test Box\n",
    "b=complimentaryPrimer(\"ATCGGCCGAG\")\n",
    "print(b)"
   ]
  },
  {
   "cell_type": "code",
   "execution_count": null,
   "metadata": {},
   "outputs": [],
   "source": []
  },
  {
   "cell_type": "code",
   "execution_count": 13,
   "metadata": {},
   "outputs": [],
   "source": [
    "def binaryConverter(addressCode):\n",
    "    \"\"\" Takes an address code as input and returns the binary value as an output.\n",
    "    The binary code can be found on the online MODEL spreadsheet\"\"\"\n",
    "    \n",
    "    binaryOutput=\"\"\n",
    "    for letter in list(addressCode):\n",
    "        if letter == \"A\":\n",
    "            binary=\"00\"\n",
    "        elif letter == \"C\":\n",
    "            binary=\"11\"\n",
    "        elif letter == \"T\":\n",
    "            binary=\"01\"\n",
    "        elif letter == \"G\":\n",
    "            binary=\"10\"\n",
    "        binaryOutput+=binary\n",
    "    return binaryOutput"
   ]
  },
  {
   "cell_type": "code",
   "execution_count": 14,
   "metadata": {},
   "outputs": [
    {
     "name": "stdout",
     "output_type": "stream",
     "text": [
      "11111010\n"
     ]
    }
   ],
   "source": [
    "# Binary Converter Test Box\n",
    "c=binaryConverter(\"CCGG\")\n",
    "print(c)"
   ]
  },
  {
   "cell_type": "code",
   "execution_count": null,
   "metadata": {},
   "outputs": [],
   "source": []
  },
  {
   "cell_type": "code",
   "execution_count": 15,
   "metadata": {},
   "outputs": [],
   "source": [
    "def gcPercentage(fragment):\n",
    "    number=fragment.count(\"GC\")\n",
    "    totalLength=len(fragment)\n",
    "    totalGCLetter=number*2\n",
    "    percentage=(totalGCLetter/totalLength)*100\n",
    "    return percentage"
   ]
  },
  {
   "cell_type": "code",
   "execution_count": 16,
   "metadata": {},
   "outputs": [],
   "source": [
    "def gcPercentageSimple(fragment):\n",
    "    g_Count=fragment.count(\"G\")\n",
    "    c_Count=fragment.count(\"C\")\n",
    "    fragment_length=len(fragment)\n",
    "    percentage=((g_Count+c_Count)/fragment_length)*100\n",
    "    return percentage"
   ]
  },
  {
   "cell_type": "code",
   "execution_count": 17,
   "metadata": {},
   "outputs": [
    {
     "name": "stdout",
     "output_type": "stream",
     "text": [
      "33.84615384615385\n",
      "67.6923076923077\n"
     ]
    }
   ],
   "source": [
    "# Percentage Test Box\n",
    "test_percent=(\"AAGAGTGACACGGCACGCGAGCCTGGCTCCACGGCGACACGGCTAGCCGCGCTCGCGAGCTTCAT\")\n",
    "print(gcPercentage(test_percent))\n",
    "print(gcPercentageSimple(test_percent))"
   ]
  },
  {
   "cell_type": "code",
   "execution_count": null,
   "metadata": {},
   "outputs": [],
   "source": []
  },
  {
   "cell_type": "code",
   "execution_count": null,
   "metadata": {},
   "outputs": [],
   "source": []
  },
  {
   "cell_type": "code",
   "execution_count": null,
   "metadata": {},
   "outputs": [],
   "source": []
  },
  {
   "cell_type": "code",
   "execution_count": null,
   "metadata": {},
   "outputs": [],
   "source": []
  },
  {
   "cell_type": "code",
   "execution_count": null,
   "metadata": {},
   "outputs": [],
   "source": []
  },
  {
   "cell_type": "code",
   "execution_count": 41,
   "metadata": {},
   "outputs": [],
   "source": [
    "# Need a function to add a unique code to each DNA fragment"
   ]
  },
  {
   "cell_type": "code",
   "execution_count": 42,
   "metadata": {},
   "outputs": [],
   "source": [
    "def get_Unique_AddressI(df,nucleotideList,uniqueAddresses):\n",
    "    \n",
    "    # Add the list of unique addresses to the nucleotidelist for this fragment\n",
    "    codeList=nucleotideList+uniqueAddresses\n",
    "    \n",
    "    try:\n",
    "        # Find the dataframe which is left over from codes in nucleotideList\n",
    "        remainingCodesFrame = df[~df[\"QUAT NUCLEOTIDES\"].isin(codeList)]\n",
    "        # Make a list of the remaining codes\n",
    "        remainingCodesList = remainingCodesFrame[\"QUAT NUCLEOTIDES\"].tolist()\n",
    "        # Take the first value for this list \n",
    "        uniqueCode=remainingCodesList[0]\n",
    "\n",
    "    except:\n",
    "        return\n",
    "    \n",
    "    return uniqueCode"
   ]
  },
  {
   "cell_type": "code",
   "execution_count": 43,
   "metadata": {},
   "outputs": [],
   "source": [
    "def get_Unique_AddressII(uniqueAddresses,uniqueAddressesLength,counter):\n",
    "    \n",
    "    # Take the uniqueAddress list and go through and add a nucleotide:\n",
    "    uniqueAddresses[counter]\n",
    "    \n",
    "    \n",
    "    counter+=1\n",
    "    return uniqueCode,counter"
   ]
  },
  {
   "cell_type": "code",
   "execution_count": 44,
   "metadata": {},
   "outputs": [],
   "source": [
    "uniqueAddresses=[]\n",
    "counter=0\n",
    "for i in range(245):\n",
    "    try:\n",
    "        a=get_Unique_Address(ASCII_List_Raw,usedCodes,uniqueAddresses)\n",
    "        print(a)\n",
    "        uniqueAddresses.append(a)\n",
    "        uniqueAddressesLength=len(uniqueAddresses)\n",
    "    except:\n",
    "        counter+=1"
   ]
  },
  {
   "cell_type": "code",
   "execution_count": null,
   "metadata": {},
   "outputs": [],
   "source": []
  },
  {
   "cell_type": "markdown",
   "metadata": {},
   "source": [
    "# Main Body"
   ]
  },
  {
   "cell_type": "markdown",
   "metadata": {},
   "source": [
    "## Loop through ASCII - Quat Codes\n",
    "### Confirm that there is no Quat Code that ends in \"AA\" "
   ]
  },
  {
   "cell_type": "code",
   "execution_count": 45,
   "metadata": {},
   "outputs": [
    {
     "name": "stdout",
     "output_type": "stream",
     "text": [
      "Found one here:  GG  - At the end of:  CGAGG\n",
      "Found one here:  TT  - At the end of:  CGCTT\n",
      "Found one here:  TT  - At the end of:  CGCCTT\n",
      "Found one here:  GG  - At the end of:  CTAGG\n",
      "Found one here:  TT  - At the end of:  CTCTT\n",
      "Found one here:  CC  - At the end of:  CTGCC\n",
      "Found one here:  CC  - At the end of:  CTCGCC\n",
      "Found one here:  TT  - At the end of:  CACTT\n",
      "Found one here:  CC  - At the end of:  CAGCC\n",
      "Found one here:  CC  - At the end of:  CAGGCC\n",
      "Found one here:  GG  - At the end of:  CTTAGG\n",
      "Found one here:  TT  - At the end of:  CTTCTT\n",
      "Found one here:  CC  - At the end of:  CTTGCC\n",
      "Found one here:  CC  - At the end of:  CTTCGCC\n",
      "Found one here:  GG  - At the end of:  GTAGG\n",
      "Found one here:  TT  - At the end of:  GTCTT\n",
      "Found one here:  CC  - At the end of:  GTGCC\n",
      "Found one here:  CC  - At the end of:  GTCGCC\n",
      "Found one here:  TT  - At the end of:  GACTT\n",
      "Found one here:  CC  - At the end of:  GAGCC\n",
      "Found one here:  CC  - At the end of:  GAGGCC\n",
      "Found one here:  CC  - At the end of:  GCGCC\n",
      "Found one here:  GG  - At the end of:  GCAGG\n",
      "Found one here:  CC  - At the end of:  GCCGCC\n",
      "Found one here:  GG  - At the end of:  GCCAGG\n",
      "Found one here:  TT  - At the end of:  TACTT\n",
      "Found one here:  CC  - At the end of:  TAGCC\n",
      "Found one here:  CC  - At the end of:  TAGGCC\n",
      "Found one here:  CC  - At the end of:  TCGCC\n",
      "Found one here:  GG  - At the end of:  TCAGG\n",
      "Found one here:  GG  - At the end of:  TGAGG\n",
      "Found one here:  TT  - At the end of:  TGCTT\n",
      "Found one here:  TT  - At the end of:  TGCCTT\n",
      "Found one here:  GG  - At the end of:  TCGAGG\n",
      "Found one here:  TT  - At the end of:  TCGCTT\n",
      "Found one here:  TT  - At the end of:  TCGCCTT\n",
      "Found one here:  GG  - At the end of:  GGTAGG\n",
      "Found one here:  TT  - At the end of:  GGTCTT\n",
      "Found one here:  CC  - At the end of:  GGTGCC\n",
      "Found one here:  CC  - At the end of:  GGTCGCC\n",
      "Found one here:  TT  - At the end of:  GGACTT\n",
      "Found one here:  CC  - At the end of:  GGAGCC\n",
      "Found one here:  CC  - At the end of:  GGAGGCC\n",
      "Found one here:  CC  - At the end of:  GGCGCC\n",
      "Found one here:  GG  - At the end of:  GGCAGG\n",
      "Found one here:  CC  - At the end of:  GGCCGCC\n",
      "Found one here:  GG  - At the end of:  GGCCAGG\n"
     ]
    }
   ],
   "source": [
    "# Below loops over the ASCII Table and confirms that there are no fragments which could end in a \"AA\". This means that we can use something like \"AT\" for the termination code.\n",
    "\n",
    "for value in ASCII_List_Raw.loc[:,\"QUAT NUCLEOTIDES\"]:\n",
    "    if noDoubleRepeats(value[-2:])==1:\n",
    "        print(\"Found one here: \", value[-2:], \" - At the end of: \", value)"
   ]
  },
  {
   "cell_type": "code",
   "execution_count": null,
   "metadata": {},
   "outputs": [],
   "source": []
  },
  {
   "cell_type": "markdown",
   "metadata": {},
   "source": [
    "## Phrase Input"
   ]
  },
  {
   "cell_type": "code",
   "execution_count": 46,
   "metadata": {},
   "outputs": [],
   "source": [
    "rawInput=\"\"\"I am happy to join with you today in what will go down in history as the greatest demonstration for freedom in the history of our nation.\n",
    "\n",
    "Five score years ago, a great American, in whose symbolic shadow we stand today, signed the Emancipation Proclamation. This momentous decree came as a great beacon light of hope to millions of Negro slaves who had been seared in the flames of withering injustice. It came as a joyous daybreak to end the long night of their captivity.\n",
    "\n",
    "But one hundred years later, the Negro still is not free. One hundred years later, the life of the Negro is still sadly crippled by the manacles of segregation and the chains of discrimination. One hundred years later, the Negro lives on a lonely island of poverty in the midst of a vast ocean of material prosperity. One hundred years later, the Negro is still languished in the corners of American society and finds himself an exile in his own land. And so we've come here today to dramatize a shameful condition.\n",
    "\n",
    "In a sense we've come to our nation's capital to cash a check. When the architects of our republic wrote the magnificent words of the Constitution and the Declaration of Independence, they were signing a promissory note to which every American was to fall heir. This note was a promise that all men, yes, black men as well as white men, would be guaranteed the \"unalienable Rights\" of \"Life, Liberty and the pursuit of Happiness.\" It is obvious today that America has defaulted on this promissory note, insofar as her citizens of color are concerned. Instead of honoring this sacred obligation, America has given the Negro people a bad check, a check which has come back marked \"insufficient funds.\"\n",
    "\n",
    "But we refuse to believe that the bank of justice is bankrupt. We refuse to believe that there are insufficient funds in the great vaults of opportunity of this nation. And so, we've come to cash this check, a check that will give us upon demand the riches of freedom and the security of justice.\n",
    "\n",
    "We have also come to this hallowed spot to remind America of the fierce urgency of Now. This is no time to engage in the luxury of cooling off or to take the tranquilizing drug of gradualism. Now is the time to make real the promises of democracy. Now is the time to rise from the dark and desolate valley of segregation to the sunlit path of racial justice. Now is the time to lift our nation from the quicksands of racial injustice to the solid rock of brotherhood. Now is the time to make justice a reality for all of God's children.\n",
    "\n",
    "It would be fatal for the nation to overlook the urgency of the moment. This sweltering summer of the Negro's legitimate discontent will not pass until there is an invigorating autumn of freedom and equality. Nineteen sixty-three is not an end, but a beginning. And those who hope that the Negro needed to blow off steam and will now be content will have a rude awakening if the nation returns to business as usual. And there will be neither rest nor tranquility in America until the Negro is granted his citizenship rights. The whirlwinds of revolt will continue to shake the foundations of our nation until the bright day of justice emerges.\n",
    "\n",
    "But there is something that I must say to my people, who stand on the warm threshold which leads into the palace of justice: In the process of gaining our rightful place, we must not be guilty of wrongful deeds. Let us not seek to satisfy our thirst for freedom by drinking from the cup of bitterness and hatred. We must forever conduct our struggle on the high plane of dignity and discipline. We must not allow our creative protest to degenerate into physical violence. Again and again, we must rise to the majestic heights of meeting physical force with soul force.\n",
    "\n",
    "The marvelous new militancy which has engulfed the Negro community must not lead us to a distrust of all white people, for many of our white brothers, as evidenced by their presence here today, have come to realize that their destiny is tied up with our destiny. And they have come to realize that their freedom is inextricably bound to our freedom.\n",
    "\n",
    "We cannot walk alone.\n",
    "\n",
    "And as we walk, we must make the pledge that we shall always march ahead.\n",
    "\n",
    "We cannot turn back.\n",
    "\n",
    "There are those who are asking the devotees of civil rights, \"When will you be satisfied?\" We can never be satisfied as long as the Negro is the victim of the unspeakable horrors of police brutality. We can never be satisfied as long as our bodies, heavy with the fatigue of travel, cannot gain lodging in the motels of the highways and the hotels of the cities. **We cannot be satisfied as long as the negro's basic mobility is from a smaller ghetto to a larger one. We can never be satisfied as long as our children are stripped of their self-hood and robbed of their dignity by signs stating: \"For Whites Only.\"** We cannot be satisfied as long as a Negro in Mississippi cannot vote and a Negro in New York believes he has nothing for which to vote. No, no, we are not satisfied, and we will not be satisfied until \"justice rolls down like waters, and righteousness like a mighty stream.\"1\n",
    "\n",
    "I am not unmindful that some of you have come here out of great trials and tribulations. Some of you have come fresh from narrow jail cells. And some of you have come from areas where your quest -- quest for freedom left you battered by the storms of persecution and staggered by the winds of police brutality. You have been the veterans of creative suffering. Continue to work with the faith that unearned suffering is redemptive. Go back to Mississippi, go back to Alabama, go back to South Carolina, go back to Georgia, go back to Louisiana, go back to the slums and ghettos of our northern cities, knowing that somehow this situation can and will be changed.\n",
    "\n",
    "Let us not wallow in the valley of despair, I say to you today, my friends.\n",
    "\n",
    "And so even though we face the difficulties of today and tomorrow, I still have a dream. It is a dream deeply rooted in the American dream.\n",
    "\n",
    "I have a dream that one day this nation will rise up and live out the true meaning of its creed: \"We hold these truths to be self-evident, that all men are created equal.\"\n",
    "\n",
    "I have a dream that one day on the red hills of Georgia, the sons of former slaves and the sons of former slave owners will be able to sit down together at the table of brotherhood.\n",
    "\n",
    "I have a dream that one day even the state of Mississippi, a state sweltering with the heat of injustice, sweltering with the heat of oppression, will be transformed into an oasis of freedom and justice.\n",
    "\n",
    "I have a dream that my four little children will one day live in a nation where they will not be judged by the color of their skin but by the content of their character.\n",
    "\n",
    "I have a dream today!\n",
    "\n",
    "I have a dream that one day, down in Alabama, with its vicious racists, with its governor having his lips dripping with the words of \"interposition\" and \"nullification\" -- one day right there in Alabama little black boys and black girls will be able to join hands with little white boys and white girls as sisters and brothers.\n",
    "\n",
    "I have a dream today!\n",
    "\n",
    "I have a dream that one day every valley shall be exalted, and every hill and mountain shall be made low, the rough places will be made plain, and the crooked places will be made straight; \"and the glory of the Lord shall be revealed and all flesh shall see it together.\"2\n",
    "\n",
    "This is our hope, and this is the faith that I go back to the South with.\n",
    "\n",
    "With this faith, we will be able to hew out of the mountain of despair a stone of hope. With this faith, we will be able to transform the jangling discords of our nation into a beautiful symphony of brotherhood. With this faith, we will be able to work together, to pray together, to struggle together, to go to jail together, to stand up for freedom together, knowing that we will be free one day.\n",
    "\n",
    "And this will be the day -- this will be the day when all of God's children will be able to sing with new meaning:\n",
    "\n",
    "My country 'tis of thee, sweet land of liberty, of thee I sing. Land where my fathers died, land of the Pilgrim's pride,    From every mountainside, let freedom ring!\n",
    "\n",
    "And if America is to be a great nation, this must become true.\n",
    "\n",
    "And so let freedom ring from the prodigious hilltops of New Hampshire.\n",
    "\n",
    "Let freedom ring from the mighty mountains of New York.\n",
    "\n",
    "Let freedom ring from the heightening Alleghenies of Pennsylvania.\n",
    "\n",
    "Let freedom ring from the snow-capped Rockies of Colorado.\n",
    "\n",
    "Let freedom ring from the curvaceous slopes of California.\n",
    "\n",
    "But not only that:\n",
    "\n",
    "Let freedom ring from Stone Mountain of Georgia.\n",
    "\n",
    "Let freedom ring from Lookout Mountain of Tennessee.\n",
    "\n",
    "Let freedom ring from every hill and molehill of Mississippi.\n",
    "\n",
    "From every mountainside, let freedom ring.\n",
    "\n",
    "And when this happens, and when we allow freedom ring, when we let it ring from every village and every hamlet, from every state and every city, we will be able to speed up that day when all of God's children, black men and white men, Jews and Gentiles, Protestants and Catholics, will be able to join hands and sing in the words of the old Negro spiritual:\n",
    "\n",
    "Free at last! Free at last!\n",
    "\n",
    "Thank God Almighty, we are free at last!\n",
    "\"\"\"\n"
   ]
  },
  {
   "cell_type": "code",
   "execution_count": 47,
   "metadata": {},
   "outputs": [],
   "source": [
    "rawInput=\"\"\"I am happy to join with you today in what will go down in history as the greatest demonstration for freedom in the history of our nation.\n",
    "\n",
    "Five score years ago, a great American, in whose symbolic shadow we stand today, signed the Emancipation Proclamation. This momentous decree came as a great beacon light of hope to millions of Negro slaves who had been seared in the flames of withering injustice. It came as a joyous daybreak to end the long night of their captivity.\n",
    "\n",
    "But one hundred years later, the Negro still is not free. One hundred years later, the life of the Negro is still sadly crippled by the manacles of segregation and the chains of discrimination. One hundred years later, the Negro lives on a lonely island of poverty in the midst of a vast ocean of material prosperity. One hundred years later, the Negro is still languished in the corners of American society and finds himself an exile in his own land. And so we've come here today to dramatize a shameful condition.\n",
    "\n",
    "In a sense we've come to our nation's capital to cash a check. When the architects of our republic wrote the magnificent words of the Constitution and the Declaration of Independence, they were signing a promissory note to which every American was to fall heir. This note was a promise that all men, yes, black men as well as white men, would be guaranteed the \"unalienable Rights\" of \"Life, Liberty and the pursuit of Happiness.\" It is obvious today that America has defaulted on this promissory note, insofar as her citizens of color are concerned. Instead of honoring this sacred obligation, America has given the Negro people a bad check, a check which has come back marked \"insufficient funds.\"\n",
    "\"\"\""
   ]
  },
  {
   "cell_type": "code",
   "execution_count": 48,
   "metadata": {},
   "outputs": [],
   "source": [
    "rawInput=\"I have a dream that my four little children will one day live in a nation where they will not be judged by the color of their skin but by the content of their character.\""
   ]
  },
  {
   "cell_type": "code",
   "execution_count": 80,
   "metadata": {},
   "outputs": [],
   "source": [
    "rawInput=\"I have a dream\""
   ]
  },
  {
   "cell_type": "code",
   "execution_count": 81,
   "metadata": {},
   "outputs": [
    {
     "name": "stdout",
     "output_type": "stream",
     "text": [
      "I have a dream\n"
     ]
    }
   ],
   "source": [
    "# Need to swap out characters that are not recognised by Python such as invalid quotation marks\n",
    "transl_table = dict( [ (ord(x), ord(y)) for x,y in zip( u\"‘’´“”–-\",  u\"'''\\\"\\\"--\") ] ) \n",
    "translatedInput=rawInput.translate(transl_table)\n",
    "print(translatedInput)"
   ]
  },
  {
   "cell_type": "code",
   "execution_count": 82,
   "metadata": {},
   "outputs": [
    {
     "name": "stdout",
     "output_type": "stream",
     "text": [
      "['I', ' ', 'h', 'a', 'v', 'e', ' ', 'a', ' ', 'd', 'r', 'e', 'a', 'm']\n"
     ]
    }
   ],
   "source": [
    "# Break down the phrase into a list of each indivdual character. \n",
    "phrase=list(translatedInput)\n",
    "print(phrase)"
   ]
  },
  {
   "cell_type": "markdown",
   "metadata": {},
   "source": [
    "# Stage I\n",
    "## Convert phrase into a list of DNA fragments no longer than 120 nucleotide bases long"
   ]
  },
  {
   "cell_type": "code",
   "execution_count": 83,
   "metadata": {},
   "outputs": [],
   "source": [
    "# Edited on 04/09 to include the termination sequence for fragments\n",
    "# Edited on 23/10 to reduce the length of fragment to 118 so that with 2 nucleotides for the termination total goes to 120\n",
    "# Edoted pm 26/10 to includ the characters during coding \n",
    "\n",
    "nucleotideFragments=[]\n",
    "usedCodes=[]\n",
    "usedCodesList=[]\n",
    "nucleotideFragmentsDict={}\n",
    "nucleotideFragmentsDictLong={}\n",
    "\n",
    "characterFragments=[]\n",
    "characterSequence=\"\"\n",
    "\n",
    "\n",
    "nucleotideSequence=\"\"\n",
    "uniqueAddresses=[]\n",
    "\n",
    "counter=0\n",
    "\n",
    "lengthOfPhrase=len(phrase)\n",
    "terminationFragment=\"AT\"\n",
    "\n",
    "for index, letter  in enumerate(phrase):\n",
    "\n",
    "    nextCode=get_QUAT_NUCLEOTIDES(ASCII_List_Raw,letter)\n",
    "    \n",
    "    # Use this in future if we can't handle a symbol\n",
    "    if (nextCode)==True:\n",
    "#         print(nextCode)\n",
    "        continue\n",
    "    \n",
    "    if len(nucleotideSequence)+len(nextCode)<=118:\n",
    "        \n",
    "        characterSequence=characterSequence+letter\n",
    "        \n",
    "        nucleotideSequence=nucleotideSequence+nextCode\n",
    "        usedCodes.append(nextCode)\n",
    "        if index==lengthOfPhrase-1:    \n",
    "            nucleotideSequence=nucleotideSequence+terminationFragment #Added on 04/09/202\n",
    "            \n",
    "            characterFragments.append(characterSequence)\n",
    "            nucleotideFragments.append(nucleotideSequence)\n",
    "            usedCodesList.append(usedCodes)\n",
    "            \n",
    "            nucleotideFragmentsDict[counter]=nucleotideSequence\n",
    "            nucleotideFragmentsDictLong[counter]=usedCodes\n",
    "            \n",
    "            usedCodes=[]\n",
    "            counter+=1\n",
    "            \n",
    "    else:\n",
    "        characterSequence=characterSequence\n",
    "        characterFragments.append(characterSequence)\n",
    "        \n",
    "        characterSequence=\"\"\n",
    "        characterSequence=characterSequence+letter\n",
    "\n",
    "        \n",
    "        nucleotideSequence=nucleotideSequence+terminationFragment #Added on 04/09/202\n",
    "        \n",
    "        nucleotideFragments.append(nucleotideSequence)     \n",
    "        \n",
    "        nucleotideFragmentsDict[counter]=nucleotideSequence\n",
    "        nucleotideFragmentsDictLong[counter]=usedCodes\n",
    "        counter+=1\n",
    "        \n",
    "        usedCodesList.append(usedCodes)\n",
    "        \n",
    "        usedCodes=[]\n",
    "        usedCodes.append(nextCode)\n",
    "        \n",
    "        nucleotideSequence=\"\"\n",
    "        nucleotideSequence=nucleotideSequence+nextCode\n",
    "    \n",
    " \n",
    "    \n",
    "    \n"
   ]
  },
  {
   "cell_type": "markdown",
   "metadata": {},
   "source": [
    "## Output Stage I"
   ]
  },
  {
   "cell_type": "code",
   "execution_count": 84,
   "metadata": {},
   "outputs": [
    {
     "name": "stdout",
     "output_type": "stream",
     "text": [
      "\n",
      "\n",
      "0 GTGACACGGCACGCGAGCCTGGCTCCACGGCGACACGGCTAGCCGCGCTCGCGAGCTTCAT\n",
      "--------------------------------\n",
      "0 : GTGACACGGCACGCGAGCCTGGCTCCACGGCGACACGGCTAGCCGCGCTCGCGAGCTTCAT\n",
      "--------------------------------\n",
      "0 : ['GTGA', 'CACG', 'GCAC', 'GCGA', 'GCCTG', 'GCTC', 'CACG', 'GCGA', 'CACG', 'GCTA', 'GCCGC', 'GCTC', 'GCGA', 'GCTTC']\n",
      "--------------------------------\n",
      "I have a dream\n",
      "--------------------------------\n",
      "The length of fragment:  0  is  61\n",
      "Total nucleotide length for phrase is:  61  bases\n"
     ]
    }
   ],
   "source": [
    "print(\"\\n\")\n",
    "for a,z in enumerate((nucleotideFragments)):\n",
    "    print (a,z)\n",
    "print(\"--------------------------------\")  \n",
    "for i in nucleotideFragmentsDict:\n",
    "    print(i,\":\",nucleotideFragmentsDict[i])\n",
    "# print(\"--------------------------------\")\n",
    "# for i in nucleotideFragmentsDictLong:\n",
    "#     print(i,\":\",nucleotideFragmentsDictLong[i])\n",
    "\n",
    "print(\"--------------------------------\")\n",
    "\n",
    "for i in nucleotideFragmentsDictLong:\n",
    "    print(i,\":\",nucleotideFragmentsDictLong[i])\n",
    "\n",
    "print(\"--------------------------------\")\n",
    "\n",
    "\n",
    "for i in characterFragments:\n",
    "    print(i)\n",
    "\n",
    "\n",
    "print(\"--------------------------------\")\n",
    "nucleotideSum=0\n",
    "for i in nucleotideFragmentsDict:\n",
    "    print(\"The length of fragment: \", i, \" is \", len(nucleotideFragmentsDict[i]))\n",
    "    nucleotideSum+=len(nucleotideFragmentsDict[i])\n",
    "print (\"Total nucleotide length for phrase is: \", nucleotideSum, \" bases\")"
   ]
  },
  {
   "cell_type": "markdown",
   "metadata": {},
   "source": [
    "# Stage II\n",
    "## Loop over list of DNA fragments and assign a unique primer to each fragment\n",
    "### This fragment is tested so that it is unique and also does not feature in the information itself. The complimentary primer is also tested"
   ]
  },
  {
   "cell_type": "code",
   "execution_count": 88,
   "metadata": {},
   "outputs": [
    {
     "name": "stdout",
     "output_type": "stream",
     "text": [
      "list index out of range\n",
      "Error occured so went the second route\n",
      "['AAGA', 'AAGG', 'AAGC', 'AAGT', 'AACA', 'AACG', 'AACC', 'AACT', 'AATA', 'AATG', 'AATC', 'AATT', 'AGAA', 'AGAG', 'AGAC', 'AGAT', 'AGGA', 'AGGC', 'AGGT', 'AGCA', 'AGCG', 'AGCC', 'AGCT', 'AGTA', 'AGTG', 'AGTC', 'AGTT', 'ACAA', 'ACAG', 'ACAC', 'ACAT', 'ACGA', 'ACGG', 'ACGC', 'ACGT', 'ACCA', 'ACCG', 'ACCT', 'ACTA', 'ACTG', 'ACTC', 'ACTT', 'ATAA', 'ATAG', 'ATAC', 'ATAT', 'ATGA', 'ATGG', 'ATGC', 'ATGT', 'ATCA', 'ATCG', 'ATCC', 'ATCT', 'ATTA', 'ATTG', 'ATTC', 'GAAG', 'GAAC', 'GAAT', 'GAGA', 'GAGG', 'GAGC', 'GAGT', 'GACA', 'GACG', 'GACC', 'GACT', 'GATA', 'GATG', 'GATC', 'GATT', 'GGAA', 'GGAG', 'GGAC', 'GGAT', 'GGCA', 'GGCG', 'GGCC', 'GGCT', 'GGTA', 'GGTG', 'GGTC', 'GGTT', 'GCAA', 'GCAG', 'GCAC', 'GCAT', 'GCGA', 'GCGG', 'GCGC', 'GCGT', 'GCCA', 'GCCG', 'GCCT', 'GCTA', 'GCTG', 'GCTC', 'GCTT', 'GTAA', 'GTAG', 'GTAC', 'GTAT', 'GTGA', 'GTGG', 'GTGC', 'GTGT', 'GTCA', 'GTCG', 'GTCC', 'GTCT', 'GTTA', 'GTTG', 'GTTC', 'CAAG', 'CAAC', 'CAAT', 'CAGA', 'CAGG', 'CAGC', 'CAGT', 'CACA', 'CACG', 'CACC', 'CACT', 'CATA', 'CATG', 'CATC', 'CATT', 'CGAA', 'CGAG', 'CGAC', 'CGAT', 'CGGA', 'CGGC', 'CGGT', 'CGCA', 'CGCG', 'CGCC', 'CGCT', 'CGTA', 'CGTG', 'CGTC', 'CGTT', 'CCAA', 'CCAG', 'CCAC', 'CCAT', 'CCGA', 'CCGG', 'CCGC', 'CCGT', 'CCTA', 'CCTG', 'CCTC', 'CCTT', 'CTAA', 'CTAG', 'CTAC', 'CTAT', 'CTGA', 'CTGG', 'CTGC', 'CTGT', 'CTCA', 'CTCG', 'CTCC', 'CTCT', 'CTTA', 'CTTG', 'CTTC', 'TAAG', 'TAAC', 'TAAT', 'TAGA', 'TAGG', 'TAGC', 'TAGT', 'TACA', 'TACG', 'TACC', 'TACT', 'TATA', 'TATG', 'TATC', 'TATT', 'TGAA', 'TGAG', 'TGAC', 'TGAT', 'TGGA', 'TGGC', 'TGGT', 'TGCA', 'TGCG', 'TGCC', 'TGCT', 'TGTA', 'TGTG', 'TGTC', 'TGTT', 'TCAA', 'TCAG', 'TCAC', 'TCAT', 'TCGA', 'TCGG', 'TCGC', 'TCGT', 'TCCA', 'TCCG', 'TCCT', 'TCTA', 'TCTG', 'TCTC', 'TCTT', 'TTAA', 'TTAG', 'TTAC', 'TTAT', 'TTGA', 'TTGG', 'TTGC', 'TTGT', 'TTCA', 'TTCG', 'TTCC', 'TTCT']\n"
     ]
    }
   ],
   "source": [
    "# ORIGINAL BEFORE ADDITIONAL CHECK 23/10/2020\n",
    "\n",
    "DNAfragmentList=nucleotideFragments\n",
    "\n",
    "\n",
    "uniqueAddressCounter=0\n",
    "uniqueAddress=[]\n",
    "uniqueCompAddress=[]\n",
    "fragmentDict={}\n",
    "\n",
    "\n",
    "# Try to produce the unique codes with the smallest nucleotides possible\n",
    "try:\n",
    "    uniqueAddressList=codingStrategy(len(DNAfragmentList))\n",
    "#     print(uniqueAddressList)\n",
    "    \n",
    "    for i in DNAfragmentList:\n",
    "        addressCode=uniqueAddressList[uniqueAddressCounter]\n",
    "        compAddressCode=complimentaryPrimer(uniqueAddressList[uniqueAddressCounter])\n",
    "        \n",
    "        if (addressCode in i) or (compAddressCode in i) or (addressCode in uniqueAddress):\n",
    "#             print(\"Issue Here\", addressCode, compAddressCode)\n",
    "            startingUAC=uniqueAddressCounter    \n",
    "            while (addressCode in i) or (compAddressCode in i) or (addressCode in uniqueAddress):\n",
    "#                 print(\"Found a case\")\n",
    "#                 print(addressCode,compAddressCode)\n",
    "                uniqueAddressCounter+=1\n",
    "                addressCode=uniqueAddressList[uniqueAddressCounter]\n",
    "                compAddressCode=complimentaryPrimer(uniqueAddressList[uniqueAddressCounter])\n",
    "\n",
    "\n",
    "            fragmentDict[addressCode]=i\n",
    "\n",
    "            uniqueAddress.append(addressCode)\n",
    "            uniqueCompAddress.append(compAddressCode)\n",
    "            uniqueAddressCounter=startingUAC\n",
    "\n",
    "        else:\n",
    "#             print(\"No problem here\")\n",
    "            fragmentDict[addressCode]=i\n",
    "\n",
    "            uniqueAddress.append(addressCode)\n",
    "            uniqueCompAddress.append(compAddressCode)\n",
    "            uniqueAddressCounter+=1\n",
    "\n",
    "# If not, restart the process with longer unique address codes. This is needed if the uniqueAddress list values are found in the DNA information frequently            \n",
    "except Exception as e:\n",
    "    print(e)\n",
    "    print(\"Error occured so went the second route\")\n",
    "    uniqueAddress=[]\n",
    "    uniqueCompAddress=[]\n",
    "    fragmentDict={}\n",
    "    uniqueAddressCounter=0\n",
    "    \n",
    "#     for x in range(0,21):\n",
    "#         if len(DNAfragmentList)<4**x:\n",
    "#             print(x)\n",
    "#             uniqueAddressList=codingStrategy((4**x))\n",
    "#             break\n",
    "\n",
    "    # Force a coding strategy below:\n",
    "    y=3\n",
    "    uniqueAddressList=codingStrategy(4**y)\n",
    "    \n",
    "    \n",
    "    print(uniqueAddressList)\n",
    "    for i in DNAfragmentList:\n",
    "        addressCode=uniqueAddressList[uniqueAddressCounter]\n",
    "        compAddressCode=complimentaryPrimer(uniqueAddressList[uniqueAddressCounter])\n",
    "#         print(\"Next Fragment\")\n",
    "        if (addressCode in i) or (compAddressCode in i) or (addressCode in uniqueAddress):\n",
    "            startingUAC=uniqueAddressCounter    \n",
    "            while (addressCode in i) or (compAddressCode in i) or (addressCode in uniqueAddress):\n",
    "#                 print(\"Found a case\")\n",
    "#                 print(addressCode,compAddressCode)\n",
    "                uniqueAddressCounter+=1\n",
    "                addressCode=uniqueAddressList[uniqueAddressCounter]\n",
    "                compAddressCode=complimentaryPrimer(uniqueAddressList[uniqueAddressCounter])\n",
    "\n",
    "\n",
    "            fragmentDict[addressCode]=i\n",
    "\n",
    "            uniqueAddress.append(addressCode)\n",
    "            uniqueCompAddress.append(compAddressCode)\n",
    "            uniqueAddressCounter=startingUAC\n",
    "\n",
    "        else:\n",
    "            fragmentDict[addressCode]=i\n",
    "\n",
    "            uniqueAddress.append(addressCode)\n",
    "            uniqueCompAddress.append(compAddressCode)\n",
    "            uniqueAddressCounter+=1\n"
   ]
  },
  {
   "cell_type": "code",
   "execution_count": null,
   "metadata": {},
   "outputs": [],
   "source": []
  },
  {
   "cell_type": "code",
   "execution_count": 86,
   "metadata": {},
   "outputs": [],
   "source": [
    "# Add the termination fragments \n",
    "# terminationFragments=[\"AT\" for i in DNAfragmentList]\n",
    "# print (terminationFragments)"
   ]
  },
  {
   "cell_type": "code",
   "execution_count": null,
   "metadata": {},
   "outputs": [],
   "source": []
  },
  {
   "cell_type": "code",
   "execution_count": null,
   "metadata": {},
   "outputs": [],
   "source": []
  },
  {
   "cell_type": "code",
   "execution_count": null,
   "metadata": {},
   "outputs": [],
   "source": []
  },
  {
   "cell_type": "code",
   "execution_count": null,
   "metadata": {},
   "outputs": [],
   "source": []
  },
  {
   "cell_type": "code",
   "execution_count": null,
   "metadata": {},
   "outputs": [],
   "source": []
  },
  {
   "cell_type": "code",
   "execution_count": null,
   "metadata": {},
   "outputs": [],
   "source": []
  },
  {
   "cell_type": "code",
   "execution_count": 55,
   "metadata": {},
   "outputs": [],
   "source": [
    "# UNIQUE PROBLEM ERROR HERE"
   ]
  },
  {
   "cell_type": "code",
   "execution_count": 56,
   "metadata": {},
   "outputs": [
    {
     "name": "stdout",
     "output_type": "stream",
     "text": [
      "AAGA  -  GTGACACGGCACGCGAGCCTGGCTCCACGGCGACACGGCTAGCCGCGCTCGCGAGCTTCCACGGCCTAGCACGCGAGCCTACACGGCTTCGCCAGCACGGCTGGCTTCGGCCTCAT\n",
      "AAGG  -  GCCGCCACGGCTTAGCAGGCCTAGCCTAGCTTAGCTCCACGGCGCCGCACGCAGGCTTAGCTAGCCGCGCTCGCTTGCACGGCCTCGGCAGGCTTAGCTTACACGGCTTCGGCTTGAT\n",
      "AAGT  -  GCTCCACGGCTAGCGAGCCAGCACGGCTTAGCAGGCCTGGCTCCACGGCAGGCTTGCACGGCGACACGGCTTGGCGAGCCTAGCAGGCTTCGGCTTGCACGGCCTCGGCACGCTCAT\n",
      "AACA  -  GCCGCGCTCCACGGCCTAGCACGCTCGCCAGCACGGCCTCGGCAGGCTTAGCTTACACGGCTTGGCTTCGGCCTACACGGCGCGCTCCACGGCATGCCTCGCTAGCTCGGCTCGCTAAT\n",
      "AACG  -  CACGGCGCGCCAGCACGGCCTAGCACGCTCCACGGCGCCGCTTCGGCTTAGCTTCGGCCGCCACGGCTTCGGCTGCACGGCCTAGCACGCTCGCAGGCCGCCACGGCCGCCGCAGGAT\n",
      "AACT  -  GCAGGCTTGCACGGCGCGCCTCGCCTACACGGCGCGCCAGCACGGCCTAGCACGCTCCACGGCGCCGCTTCGGCTTGGCCTAGCTCGCTTGGCCTACACGGCTTCGGCTGCACGAT\n",
      "AAGC  -  GCCTAGCACGCTCGCAGGCCGCCACGGCGCCGCACGCGAGCCGCGCGAGCGCCGCCTAGCTCGCCGCCAGGCAT\n"
     ]
    }
   ],
   "source": [
    "# This demonstrates that the unique address codes and or comp codes can be found in other DNA fragments\n",
    "for k,l in zip (uniqueAddress,DNAfragmentList):\n",
    "    print(k, \" - \", l)\n",
    "    if k in l:\n",
    "        print(\"Found something with address code\")\n",
    "    if complimentaryPrimer(k) in l:\n",
    "        print(\"Found something with comp code\")"
   ]
  },
  {
   "cell_type": "code",
   "execution_count": 57,
   "metadata": {},
   "outputs": [
    {
     "name": "stdout",
     "output_type": "stream",
     "text": [
      "Comp Primer Problem Here,  TTCC  found out  1  found in  GTGACACGGCACGCGAGCCTGGCTCCACGGCGACACGGCTAGCCGCGCTCGCGAGCTTCCACGGCCTAGCACGCGAGCCTACACGGCTTCGCCAGCACGGCTGGCTTCGGCCTCAT  found out  0\n",
      "Comp Primer Problem Here,  TTGC  found out  4  found in  GCCGCCACGGCTTAGCAGGCCTAGCCTAGCTTAGCTCCACGGCGCCGCACGCAGGCTTAGCTAGCCGCGCTCGCTTGCACGGCCTCGGCAGGCTTAGCTTACACGGCTTCGGCTTGAT  found out  1\n",
      "Comp Primer Problem Here,  TTGC  found out  4  found in  GCTCCACGGCTAGCGAGCCAGCACGGCTTAGCAGGCCTGGCTCCACGGCAGGCTTGCACGGCGACACGGCTTGGCGAGCCTAGCAGGCTTCGGCTTGCACGGCCTCGGCACGCTCAT  found out  2\n",
      "Comp Primer Problem Here,  TTGC  found out  4  found in  GCAGGCTTGCACGGCGCGCCTCGCCTACACGGCGCGCCAGCACGGCCTAGCACGCTCCACGGCGCCGCTTCGGCTTGGCCTAGCTCGCTTGGCCTACACGGCTTCGGCTGCACGAT  found out  5\n",
      "Comp Primer Problem Here,  TTGA  found out  5  found in  GCCGCCACGGCTTAGCAGGCCTAGCCTAGCTTAGCTCCACGGCGCCGCACGCAGGCTTAGCTAGCCGCGCTCGCTTGCACGGCCTCGGCAGGCTTAGCTTACACGGCTTCGGCTTGAT  found out  1\n",
      "Comp Primer Problem Here,  TTCG  found out  6  found in  GTGACACGGCACGCGAGCCTGGCTCCACGGCGACACGGCTAGCCGCGCTCGCGAGCTTCCACGGCCTAGCACGCGAGCCTACACGGCTTCGCCAGCACGGCTGGCTTCGGCCTCAT  found out  0\n",
      "Comp Primer Problem Here,  TTCG  found out  6  found in  GCCGCCACGGCTTAGCAGGCCTAGCCTAGCTTAGCTCCACGGCGCCGCACGCAGGCTTAGCTAGCCGCGCTCGCTTGCACGGCCTCGGCAGGCTTAGCTTACACGGCTTCGGCTTGAT  found out  1\n",
      "Comp Primer Problem Here,  TTCG  found out  6  found in  GCTCCACGGCTAGCGAGCCAGCACGGCTTAGCAGGCCTGGCTCCACGGCAGGCTTGCACGGCGACACGGCTTGGCGAGCCTAGCAGGCTTCGGCTTGCACGGCCTCGGCACGCTCAT  found out  2\n",
      "Comp Primer Problem Here,  TTCG  found out  6  found in  GCCGCGCTCCACGGCCTAGCACGCTCGCCAGCACGGCCTCGGCAGGCTTAGCTTACACGGCTTGGCTTCGGCCTACACGGCGCGCTCCACGGCATGCCTCGCTAGCTCGGCTCGCTAAT  found out  3\n",
      "Comp Primer Problem Here,  TTCG  found out  6  found in  CACGGCGCGCCAGCACGGCCTAGCACGCTCCACGGCGCCGCTTCGGCTTAGCTTCGGCCGCCACGGCTTCGGCTGCACGGCCTAGCACGCTCGCAGGCCGCCACGGCCGCCGCAGGAT  found out  4\n",
      "Comp Primer Problem Here,  TTCG  found out  6  found in  GCAGGCTTGCACGGCGCGCCTCGCCTACACGGCGCGCCAGCACGGCCTAGCACGCTCCACGGCGCCGCTTCGGCTTGGCCTAGCTCGCTTGGCCTACACGGCTTCGGCTGCACGAT  found out  5\n",
      "6\n"
     ]
    }
   ],
   "source": [
    "# Problem here whereby the unique address codes are being found in the fragments. Hmmmm...... \n",
    "counter=0\n",
    "innerCounter=[]\n",
    "for numi,i in enumerate(uniqueAddress):\n",
    "    for numj,j in enumerate(nucleotideFragments):\n",
    "        if i in j:\n",
    "            print(\"Problem Here, \",i,\" found out \",numi, \" found in \",j,\" found out \", numj)\n",
    "            counter=counter+1\n",
    "            innerCounter.append(numi)\n",
    "        elif complimentaryPrimer(i) in j:\n",
    "            print(\"Comp Primer Problem Here, \",complimentaryPrimer(i),\" found out \",numi, \" found in \",j,\" found out \", numj)\n",
    "            counter=counter+1\n",
    "            innerCounter.append(numi)\n",
    "\n",
    "print(a)"
   ]
  },
  {
   "cell_type": "code",
   "execution_count": null,
   "metadata": {},
   "outputs": [],
   "source": [
    "# Loop over Unique Addresses and Compare against all DNA fragments. \n",
    "# If number is smaller than DNA length then need to go to next level. \n",
    "# Build up a list of suitable address and primer codes \n",
    "def uniqueChecker(uniqueAddressList,DNAFragmentList):\n",
    "    "
   ]
  },
  {
   "cell_type": "code",
   "execution_count": null,
   "metadata": {},
   "outputs": [],
   "source": []
  },
  {
   "cell_type": "markdown",
   "metadata": {},
   "source": [
    "## Stage II Output"
   ]
  },
  {
   "cell_type": "code",
   "execution_count": 89,
   "metadata": {},
   "outputs": [
    {
     "name": "stdout",
     "output_type": "stream",
     "text": [
      "AAGA  -  TTCT  -  GTGACACGGCACGCGAGCCTGGCTCCACGGCGACACGGCTAGCCGCGCTCGCGAGCTTCAT  -  I have a dream\n"
     ]
    }
   ],
   "source": [
    "for i,j in zip(fragmentDict,characterFragments):\n",
    "    print(i, \" - \", complimentaryPrimer(i), \" - \", fragmentDict[i],\" - \", j)"
   ]
  },
  {
   "cell_type": "code",
   "execution_count": null,
   "metadata": {},
   "outputs": [],
   "source": []
  },
  {
   "cell_type": "code",
   "execution_count": 59,
   "metadata": {},
   "outputs": [
    {
     "data": {
      "text/plain": [
       "True"
      ]
     },
     "execution_count": 59,
     "metadata": {},
     "output_type": "execute_result"
    }
   ],
   "source": [
    "# Do some testing here:\n",
    "\n",
    "\"TTCG\" in \"GCTCCACGGCTAGCGAGCCAGCACGGCTTAGCAGGCCTGGCTCCACGGCAGGCTTGCACGGCGACACGGCTTGGCGAGCCTAGCAGGCTTCGGCTTGCACGGCCTCGGCACGCTCAT\""
   ]
  },
  {
   "cell_type": "code",
   "execution_count": 60,
   "metadata": {},
   "outputs": [
    {
     "ename": "NameError",
     "evalue": "name 'binaryList' is not defined",
     "output_type": "error",
     "traceback": [
      "\u001b[1;31m---------------------------------------------------------------------------\u001b[0m",
      "\u001b[1;31mNameError\u001b[0m                                 Traceback (most recent call last)",
      "\u001b[1;32m<ipython-input-60-bc0e8d526cb0>\u001b[0m in \u001b[0;36m<module>\u001b[1;34m\u001b[0m\n\u001b[1;32m----> 1\u001b[1;33m \u001b[0mprint\u001b[0m\u001b[1;33m(\u001b[0m\u001b[0mbinaryList\u001b[0m\u001b[1;33m)\u001b[0m\u001b[1;33m\u001b[0m\u001b[1;33m\u001b[0m\u001b[0m\n\u001b[0m",
      "\u001b[1;31mNameError\u001b[0m: name 'binaryList' is not defined"
     ]
    }
   ],
   "source": [
    "\n",
    "print(binaryList)"
   ]
  },
  {
   "cell_type": "markdown",
   "metadata": {},
   "source": [
    "# Stage III\n",
    "## Compute the parity check for the address codes\n",
    "### Each address code is converted into its binary form, output is 1 if there are odd number of \"1\"s and 0 if there are even number of \"1\"s"
   ]
  },
  {
   "cell_type": "code",
   "execution_count": 90,
   "metadata": {},
   "outputs": [
    {
     "name": "stdout",
     "output_type": "stream",
     "text": [
      "{'AAGA': 1}\n"
     ]
    }
   ],
   "source": [
    "parityCheck={}\n",
    "parityList=[]\n",
    "binaryList=[]\n",
    "\n",
    "for testValue in uniqueAddress:\n",
    "    binaryCode=binaryConverter(testValue)\n",
    "    binaryList.append(binaryCode)\n",
    "    numberOccurences=binaryCode.count(\"1\")\n",
    "    if numberOccurences % 2 == 0:\n",
    "        parityCheck[testValue]=0\n",
    "        parityList.append(0)\n",
    "    else:\n",
    "        parityCheck[testValue]=1\n",
    "        parityList.append(1)\n",
    "    \n",
    "print (parityCheck)"
   ]
  },
  {
   "cell_type": "markdown",
   "metadata": {},
   "source": [
    "# Stage IV\n",
    "## Determine the percentage of GC nucleotide bases "
   ]
  },
  {
   "cell_type": "code",
   "execution_count": 91,
   "metadata": {},
   "outputs": [
    {
     "name": "stdout",
     "output_type": "stream",
     "text": [
      "AAGA TTCT GTGACACGGCACGCGAGCCTGGCTCCACGGCGACACGGCTAGCCGCGCTCGCGAGCTTCAT\n"
     ]
    }
   ],
   "source": [
    "percentageListUniqueAddress=[]\n",
    "percentageListComplimentary=[]\n",
    "percentageListFragment=[]\n",
    "percentageListCombined=[]\n",
    "\n",
    "for testValue1,testValue2, testValue3 in zip(uniqueAddress, uniqueCompAddress, nucleotideFragments) :\n",
    "    print(testValue1,testValue2,testValue3)\n",
    "    percentageValue1=gcPercentageSimple(testValue1)\n",
    "    percentageValue2=gcPercentageSimple(testValue2)\n",
    "    percentageValue3=gcPercentageSimple(testValue3)\n",
    "    percentageValue4=gcPercentageSimple(testValue1+testValue3)\n",
    "    \n",
    "    percentageListUniqueAddress.append(percentageValue1)\n",
    "    percentageListComplimentary.append(percentageValue2)\n",
    "    percentageListFragment.append(percentageValue3)\n",
    "    percentageListCombined.append(percentageValue4)\n",
    "\n",
    "#     print(testValue1, \" - \",testValue2, \" - \",testValue3[0:4], \" - \", \"Percentages: \", percentageValue1, \" - \", percentageValue2, \" - \", percentageValue3, \" - \",)"
   ]
  },
  {
   "cell_type": "code",
   "execution_count": 92,
   "metadata": {},
   "outputs": [
    {
     "name": "stdout",
     "output_type": "stream",
     "text": [
      "AAGA\n",
      "GTGACACGGCACGCGAGCCTGGCTCCACGGCGACACGGCTAGCCGCGCTCGCGAGCTTCAT\n",
      "65\n"
     ]
    }
   ],
   "source": [
    "terminationFragment=[]\n",
    "totalCombined=[]\n",
    "for i,j in zip(uniqueAddress,nucleotideFragments):\n",
    "    terminationFragment.append(\"AT\")\n",
    "    print(i)\n",
    "    print(j)\n",
    "    print(len(i+j))\n",
    "    totalCombined.append(i+j)"
   ]
  },
  {
   "cell_type": "code",
   "execution_count": 93,
   "metadata": {},
   "outputs": [
    {
     "name": "stdout",
     "output_type": "stream",
     "text": [
      "AAGAGTGACACGGCACGCGAGCCTGGCTCCACGGCGACACGGCTAGCCGCGCTCGCGAGCTTCAT\n",
      "65\n",
      "67.6923076923077\n"
     ]
    }
   ],
   "source": [
    "print(totalCombined[0])\n",
    "print(len(totalCombined[0]))\n",
    "print(gcPercentageSimple(totalCombined[0]))"
   ]
  },
  {
   "cell_type": "markdown",
   "metadata": {},
   "source": [
    "# Output"
   ]
  },
  {
   "cell_type": "code",
   "execution_count": 94,
   "metadata": {},
   "outputs": [
    {
     "data": {
      "text/html": [
       "<div>\n",
       "<style scoped>\n",
       "    .dataframe tbody tr th:only-of-type {\n",
       "        vertical-align: middle;\n",
       "    }\n",
       "\n",
       "    .dataframe tbody tr th {\n",
       "        vertical-align: top;\n",
       "    }\n",
       "\n",
       "    .dataframe thead th {\n",
       "        text-align: right;\n",
       "    }\n",
       "</style>\n",
       "<table border=\"1\" class=\"dataframe\">\n",
       "  <thead>\n",
       "    <tr style=\"text-align: right;\">\n",
       "      <th></th>\n",
       "      <th>Address Code</th>\n",
       "      <th>Address Code - Binary</th>\n",
       "      <th>Address Code - Parity Check</th>\n",
       "      <th>Address Code - GC Percentage</th>\n",
       "      <th>Complimentary Address Code</th>\n",
       "      <th>Complimentary Address Code - GC Percentage</th>\n",
       "      <th>Character Message</th>\n",
       "      <th>Individual Codes</th>\n",
       "      <th>Information Fragment</th>\n",
       "      <th>Information Fragment - GC Percentage</th>\n",
       "      <th>Total Fragment</th>\n",
       "      <th>Total Fragment - GC Percentage</th>\n",
       "    </tr>\n",
       "  </thead>\n",
       "  <tbody>\n",
       "    <tr>\n",
       "      <th>0</th>\n",
       "      <td>AAGA</td>\n",
       "      <td>00001000</td>\n",
       "      <td>1</td>\n",
       "      <td>25.0</td>\n",
       "      <td>TTCT</td>\n",
       "      <td>25.0</td>\n",
       "      <td>I have a dream</td>\n",
       "      <td>[GTGA, CACG, GCAC, GCGA, GCCTG, GCTC, CACG, GC...</td>\n",
       "      <td>GTGACACGGCACGCGAGCCTGGCTCCACGGCGACACGGCTAGCCGC...</td>\n",
       "      <td>70.491803</td>\n",
       "      <td>AAGAGTGACACGGCACGCGAGCCTGGCTCCACGGCGACACGGCTAG...</td>\n",
       "      <td>67.692308</td>\n",
       "    </tr>\n",
       "  </tbody>\n",
       "</table>\n",
       "</div>"
      ],
      "text/plain": [
       "  Address Code Address Code - Binary  Address Code - Parity Check  \\\n",
       "0         AAGA              00001000                            1   \n",
       "\n",
       "   Address Code - GC Percentage Complimentary Address Code  \\\n",
       "0                          25.0                       TTCT   \n",
       "\n",
       "   Complimentary Address Code - GC Percentage Character Message  \\\n",
       "0                                        25.0    I have a dream   \n",
       "\n",
       "                                    Individual Codes  \\\n",
       "0  [GTGA, CACG, GCAC, GCGA, GCCTG, GCTC, CACG, GC...   \n",
       "\n",
       "                                Information Fragment  \\\n",
       "0  GTGACACGGCACGCGAGCCTGGCTCCACGGCGACACGGCTAGCCGC...   \n",
       "\n",
       "   Information Fragment - GC Percentage  \\\n",
       "0                             70.491803   \n",
       "\n",
       "                                      Total Fragment  \\\n",
       "0  AAGAGTGACACGGCACGCGAGCCTGGCTCCACGGCGACACGGCTAG...   \n",
       "\n",
       "   Total Fragment - GC Percentage  \n",
       "0                       67.692308  "
      ]
     },
     "metadata": {},
     "output_type": "display_data"
    }
   ],
   "source": [
    "# # # uniqueAddress\n",
    "# binaryList\n",
    "# parityList\n",
    "# percentageListUniqueAddress\n",
    "\n",
    "# uniqueCompAddress\n",
    "# percentageListComplimentary\n",
    "\n",
    "#  nucleotideFragments,\n",
    "# percentageListFragment.append(percentageValue3)\n",
    "\n",
    "outputFrame=pd.DataFrame()\n",
    "\n",
    "outputFrame.insert(0,\"Address Code\",uniqueAddress)\n",
    "outputFrame.insert(1,\"Address Code - Binary\",binaryList)\n",
    "outputFrame.insert(2,\"Address Code - Parity Check\",parityList)\n",
    "outputFrame.insert(3,\"Address Code - GC Percentage\",percentageListUniqueAddress)\n",
    "outputFrame.insert(4,\"Complimentary Address Code\",uniqueCompAddress)\n",
    "outputFrame.insert(5,\"Complimentary Address Code - GC Percentage\",percentageListComplimentary)\n",
    "outputFrame.insert(6,\"Character Message\",characterFragments)\n",
    "outputFrame.insert(7,\"Individual Codes\", usedCodesList)\n",
    "outputFrame.insert(8,\"Information Fragment\",nucleotideFragments)\n",
    "outputFrame.insert(9,\"Information Fragment - GC Percentage\",percentageListFragment)\n",
    "outputFrame.insert(10,\"Total Fragment\",totalCombined)\n",
    "outputFrame.insert(11,\"Total Fragment - GC Percentage\",percentageListCombined)\n",
    "\n",
    "\n",
    "\n",
    "display(outputFrame)"
   ]
  },
  {
   "cell_type": "code",
   "execution_count": 95,
   "metadata": {},
   "outputs": [],
   "source": [
    "outputFrame=outputFrame.astype(str)\n",
    "outputFrame.to_csv(\"OutputIHAD.bod\",encoding=\"utf-8\",index = True)"
   ]
  },
  {
   "cell_type": "code",
   "execution_count": null,
   "metadata": {},
   "outputs": [],
   "source": []
  },
  {
   "cell_type": "code",
   "execution_count": null,
   "metadata": {},
   "outputs": [],
   "source": []
  },
  {
   "cell_type": "code",
   "execution_count": null,
   "metadata": {},
   "outputs": [],
   "source": []
  },
  {
   "cell_type": "code",
   "execution_count": null,
   "metadata": {},
   "outputs": [],
   "source": []
  },
  {
   "cell_type": "code",
   "execution_count": null,
   "metadata": {},
   "outputs": [],
   "source": []
  },
  {
   "cell_type": "code",
   "execution_count": null,
   "metadata": {},
   "outputs": [],
   "source": []
  },
  {
   "cell_type": "code",
   "execution_count": null,
   "metadata": {},
   "outputs": [],
   "source": []
  },
  {
   "cell_type": "code",
   "execution_count": null,
   "metadata": {},
   "outputs": [],
   "source": []
  },
  {
   "cell_type": "code",
   "execution_count": null,
   "metadata": {},
   "outputs": [],
   "source": []
  },
  {
   "cell_type": "code",
   "execution_count": null,
   "metadata": {},
   "outputs": [],
   "source": []
  },
  {
   "cell_type": "code",
   "execution_count": null,
   "metadata": {},
   "outputs": [],
   "source": []
  },
  {
   "cell_type": "code",
   "execution_count": null,
   "metadata": {},
   "outputs": [],
   "source": []
  },
  {
   "cell_type": "code",
   "execution_count": null,
   "metadata": {},
   "outputs": [],
   "source": []
  },
  {
   "cell_type": "code",
   "execution_count": null,
   "metadata": {},
   "outputs": [],
   "source": []
  },
  {
   "cell_type": "code",
   "execution_count": null,
   "metadata": {},
   "outputs": [],
   "source": []
  },
  {
   "cell_type": "code",
   "execution_count": null,
   "metadata": {},
   "outputs": [],
   "source": []
  },
  {
   "cell_type": "code",
   "execution_count": null,
   "metadata": {},
   "outputs": [],
   "source": []
  },
  {
   "cell_type": "code",
   "execution_count": null,
   "metadata": {},
   "outputs": [],
   "source": []
  },
  {
   "cell_type": "code",
   "execution_count": null,
   "metadata": {},
   "outputs": [],
   "source": []
  },
  {
   "cell_type": "code",
   "execution_count": null,
   "metadata": {},
   "outputs": [],
   "source": []
  },
  {
   "cell_type": "code",
   "execution_count": null,
   "metadata": {},
   "outputs": [],
   "source": []
  },
  {
   "cell_type": "code",
   "execution_count": null,
   "metadata": {},
   "outputs": [],
   "source": []
  },
  {
   "cell_type": "code",
   "execution_count": null,
   "metadata": {},
   "outputs": [],
   "source": []
  },
  {
   "cell_type": "code",
   "execution_count": null,
   "metadata": {},
   "outputs": [],
   "source": []
  },
  {
   "cell_type": "code",
   "execution_count": null,
   "metadata": {},
   "outputs": [],
   "source": []
  },
  {
   "cell_type": "code",
   "execution_count": null,
   "metadata": {},
   "outputs": [],
   "source": []
  },
  {
   "cell_type": "code",
   "execution_count": null,
   "metadata": {},
   "outputs": [],
   "source": []
  },
  {
   "cell_type": "code",
   "execution_count": null,
   "metadata": {},
   "outputs": [],
   "source": []
  },
  {
   "cell_type": "code",
   "execution_count": null,
   "metadata": {},
   "outputs": [],
   "source": []
  },
  {
   "cell_type": "code",
   "execution_count": null,
   "metadata": {},
   "outputs": [],
   "source": []
  },
  {
   "cell_type": "code",
   "execution_count": null,
   "metadata": {},
   "outputs": [],
   "source": []
  },
  {
   "cell_type": "code",
   "execution_count": null,
   "metadata": {},
   "outputs": [],
   "source": []
  },
  {
   "cell_type": "code",
   "execution_count": null,
   "metadata": {},
   "outputs": [],
   "source": []
  },
  {
   "cell_type": "code",
   "execution_count": null,
   "metadata": {},
   "outputs": [],
   "source": []
  },
  {
   "cell_type": "code",
   "execution_count": null,
   "metadata": {},
   "outputs": [],
   "source": []
  },
  {
   "cell_type": "code",
   "execution_count": null,
   "metadata": {},
   "outputs": [],
   "source": []
  },
  {
   "cell_type": "code",
   "execution_count": null,
   "metadata": {},
   "outputs": [],
   "source": []
  },
  {
   "cell_type": "code",
   "execution_count": null,
   "metadata": {},
   "outputs": [],
   "source": []
  },
  {
   "cell_type": "code",
   "execution_count": null,
   "metadata": {},
   "outputs": [],
   "source": []
  },
  {
   "cell_type": "code",
   "execution_count": null,
   "metadata": {},
   "outputs": [],
   "source": []
  },
  {
   "cell_type": "code",
   "execution_count": null,
   "metadata": {},
   "outputs": [],
   "source": []
  },
  {
   "cell_type": "code",
   "execution_count": null,
   "metadata": {},
   "outputs": [],
   "source": []
  },
  {
   "cell_type": "markdown",
   "metadata": {},
   "source": [
    "# Decoding"
   ]
  },
  {
   "cell_type": "code",
   "execution_count": 18,
   "metadata": {},
   "outputs": [],
   "source": [
    "def decoding_Nucleotides(inputString,df):\n",
    "    \n",
    "    outputdictionary={}\n",
    "    indexList=[]\n",
    "    charList=[]\n",
    "    \n",
    "    # Codes can be 4, 5, 6, 7 or 8 digits long\n",
    "    for i in range(4,9):\n",
    "        value=inputString[0:i]\n",
    "#         print(value)\n",
    "        try:\n",
    "            result = ASCII_List_Raw.isin([value])\n",
    "            # Find the row where result is true\n",
    "            row = list(result[\"QUAT NUCLEOTIDES\"][result[\"QUAT NUCLEOTIDES\"] == True].index)\n",
    "            # Find the corresponding QUAT NUCLEOTIDE at the row\n",
    "            nucleotideCode=ASCII_List_Raw.loc[row,\"Char\"].tolist()[0]\n",
    "\n",
    "#             print(nucleotideCode)\n",
    "                \n",
    "            if len(nucleotideCode)>0:\n",
    "                outputdictionary[i]=nucleotideCode\n",
    "                charList.append(nucleotideCode)\n",
    "                listVar=[i]\n",
    "                indexList.append((listVar))\n",
    "        except:\n",
    "            pass\n",
    "        \n",
    "    return outputdictionary, charList, indexList\n",
    "\n",
    "        \n",
    "        "
   ]
  },
  {
   "cell_type": "code",
   "execution_count": 19,
   "metadata": {},
   "outputs": [],
   "source": [
    "def get_CHARACTERS(df, value):\n",
    "    ''' Find the QUAT NUCLEOTIDE Corresponding to the input character.'''\n",
    "    \n",
    "    # Get bool dataframe with True at positions where the given value exists\n",
    "    result = df.isin([value])\n",
    "    # Find the row where result is true\n",
    "    row = list(result[\"QUAT NUCLEOTIDES\"][result[\"QUAT NUCLEOTIDES\"] == True].index)\n",
    "    # Find the corresponding QUAT NUCLEOTIDE at the row\n",
    "    character=df.loc[row,\"Char\"].tolist()[0]\n",
    "    \n",
    "    if character==\"space\":\n",
    "        character=\" \"\n",
    "        \n",
    "    if character==\"LF\":\n",
    "        character=\"\\n\"\n",
    "    \n",
    "    return character"
   ]
  },
  {
   "cell_type": "code",
   "execution_count": 20,
   "metadata": {},
   "outputs": [
    {
     "name": "stdout",
     "output_type": "stream",
     "text": [
      "f\n"
     ]
    }
   ],
   "source": [
    "a=get_CHARACTERS(ASCII_List_Raw,\"GCTG\")\n",
    "print(a)"
   ]
  },
  {
   "cell_type": "markdown",
   "metadata": {},
   "source": [
    "## Decode Single DNA Fragment"
   ]
  },
  {
   "cell_type": "code",
   "execution_count": 21,
   "metadata": {},
   "outputs": [],
   "source": [
    "# input1=\"GACTTGCACGCGAGCTTAGCTTACACGGTGACACGGCGCCGCTTCGGCTTCGCCGTGCGAGCCGCGCTCCACGGCCTAGCACGCTCGCTCCACGGCCTAGCTTCGCACGGCGACACG\"\n",
    "# input1= \"GCCGCCGCCTCGCTTCGCTTCGCTCGCCGCCAGCCGCCGCCCACGGCTAGCGAGCCAGCTTCGCCCGCAGAGTGCACGCTTCGGCCTCCACGGCGAGCCGCGCCTACACGGCTTC\"\n",
    "# input1= nucleotideFragmentsDict[\"GATG\"]\n",
    "\n",
    "# input1=\"GTGACACGGCACGCGAGCCTGGCTCCACGGCGACACGGCTAGCCGCGCTCGCGAGCTTCCACGGCCTAGCACGCGAGCCTACACGGCTTCGCCAGCACGGCTGGCTTCGGCCTCAT\"\n",
    "\n",
    "input1=\"GCCGCGCTCCACGGCCTAGCACGCTCGCCAGCACGGCCTCGGCAGGCTTAGCTTACACGGCTTGGCTTCGGCCTACACGGCGCGCTCCACGGCATGCCTCGCTAGCTCGGCTCGCTA\"\n",
    "\n"
   ]
  },
  {
   "cell_type": "code",
   "execution_count": 22,
   "metadata": {},
   "outputs": [],
   "source": [
    "initialInput=input1[0:8]\n",
    "\n",
    "# print (dict1,list1,\"HA\",list2)\n",
    "\n",
    "dict1,list1,list2=decoding_Nucleotides(initialInput,ASCII_List_Raw)\n",
    "\n",
    "for index, i in enumerate(list2):\n",
    "    if index==20000: # Hardcoded top end to prevent crashing, will need to remove this in future\n",
    "        break\n",
    "    \n",
    "    if type(i) is not int:\n",
    "        counter=0\n",
    "        for values in i:\n",
    "            counter=counter+values\n",
    "    \n",
    "    entry1,i1,i2=decoding_Nucleotides(input1[counter:],ASCII_List_Raw)\n",
    "    for key in entry1:\n",
    "        l=i.copy()\n",
    "        l.append(key)\n",
    "        list2.append(l)\n",
    "\n",
    "# print (dict1,list1,list2)\n",
    "        \n",
    "        "
   ]
  },
  {
   "cell_type": "code",
   "execution_count": 23,
   "metadata": {},
   "outputs": [
    {
     "name": "stdout",
     "output_type": "stream",
     "text": [
      "re they u?ll nm? be jude?d\n",
      "re they u?ll nm? be judged\n",
      "re they u?ll nm? be jwDC1DC4ed\n",
      "re they u?ll not be jude?d\n",
      "re they u?ll not be judged\n",
      "re they u?ll not be jwDC1DC4ed\n",
      "re they will nm? be jude?d\n",
      "re they will nm? be judged\n",
      "re they will nm? be jwDC1DC4ed\n",
      "re they will not be jude?d\n",
      "re they will not be judged\n",
      "re they will not be jwDC1DC4ed\n"
     ]
    }
   ],
   "source": [
    "for i in list2:\n",
    "#     print(i)\n",
    "    if len(input1)==sum(i): #Now have termination sequence so need to subtract 2\n",
    "        #print(sum((i)))\n",
    "        phraseOut=\"\"\n",
    "        counter=0\n",
    "        for j in i:\n",
    "            a=get_CHARACTERS(ASCII_List_Raw,input1[counter:counter+j])\n",
    "            phraseOut=phraseOut+a      \n",
    "            counter=counter+j\n",
    "        print(phraseOut)"
   ]
  },
  {
   "cell_type": "code",
   "execution_count": 25,
   "metadata": {},
   "outputs": [
    {
     "name": "stdout",
     "output_type": "stream",
     "text": [
      "[5]\n",
      "[5, 4]\n",
      "[5, 4, 4]\n",
      "[5, 4, 4, 5]\n",
      "[5, 4, 4, 5, 4]\n",
      "[5, 4, 4, 5, 4, 4]\n",
      "[5, 4, 4, 5, 4, 5]\n",
      "[5, 4, 4, 5, 4, 4, 5]\n",
      "[5, 4, 4, 5, 4, 4, 5, 4]\n",
      "[5, 4, 4, 5, 4, 4, 5, 4, 5]\n",
      "[5, 4, 4, 5, 4, 4, 5, 4, 6]\n",
      "[5, 4, 4, 5, 4, 4, 5, 4, 5, 5]\n",
      "[5, 4, 4, 5, 4, 4, 5, 4, 5, 6]\n",
      "[5, 4, 4, 5, 4, 4, 5, 4, 6, 4]\n",
      "[5, 4, 4, 5, 4, 4, 5, 4, 6, 5]\n",
      "[5, 4, 4, 5, 4, 4, 5, 4, 5, 5, 5]\n",
      "[5, 4, 4, 5, 4, 4, 5, 4, 5, 6, 5]\n",
      "[5, 4, 4, 5, 4, 4, 5, 4, 6, 4, 5]\n",
      "[5, 4, 4, 5, 4, 4, 5, 4, 6, 5, 5]\n",
      "[5, 4, 4, 5, 4, 4, 5, 4, 5, 5, 5, 5]\n",
      "[5, 4, 4, 5, 4, 4, 5, 4, 5, 6, 5, 5]\n",
      "[5, 4, 4, 5, 4, 4, 5, 4, 6, 4, 5, 5]\n",
      "[5, 4, 4, 5, 4, 4, 5, 4, 6, 5, 5, 5]\n",
      "[5, 4, 4, 5, 4, 4, 5, 4, 5, 5, 5, 5, 4]\n",
      "[5, 4, 4, 5, 4, 4, 5, 4, 6, 4, 5, 5, 4]\n",
      "[5, 4, 4, 5, 4, 4, 5, 4, 5, 5, 5, 5, 4, 5]\n",
      "[5, 4, 4, 5, 4, 4, 5, 4, 6, 4, 5, 5, 4, 5]\n",
      "[5, 4, 4, 5, 4, 4, 5, 4, 5, 5, 5, 5, 4, 5, 5]\n",
      "[5, 4, 4, 5, 4, 4, 5, 4, 5, 5, 5, 5, 4, 5, 6]\n",
      "[5, 4, 4, 5, 4, 4, 5, 4, 6, 4, 5, 5, 4, 5, 5]\n",
      "[5, 4, 4, 5, 4, 4, 5, 4, 6, 4, 5, 5, 4, 5, 6]\n",
      "[5, 4, 4, 5, 4, 4, 5, 4, 5, 5, 5, 5, 4, 5, 5, 6]\n",
      "[5, 4, 4, 5, 4, 4, 5, 4, 5, 5, 5, 5, 4, 5, 6, 5]\n",
      "[5, 4, 4, 5, 4, 4, 5, 4, 6, 4, 5, 5, 4, 5, 5, 6]\n",
      "[5, 4, 4, 5, 4, 4, 5, 4, 6, 4, 5, 5, 4, 5, 6, 5]\n",
      "[5, 4, 4, 5, 4, 4, 5, 4, 5, 5, 5, 5, 4, 5, 5, 6, 4]\n",
      "[5, 4, 4, 5, 4, 4, 5, 4, 5, 5, 5, 5, 4, 5, 6, 5, 4]\n",
      "[5, 4, 4, 5, 4, 4, 5, 4, 6, 4, 5, 5, 4, 5, 5, 6, 4]\n",
      "[5, 4, 4, 5, 4, 4, 5, 4, 6, 4, 5, 5, 4, 5, 6, 5, 4]\n",
      "[5, 4, 4, 5, 4, 4, 5, 4, 5, 5, 5, 5, 4, 5, 5, 6, 4, 4]\n",
      "[5, 4, 4, 5, 4, 4, 5, 4, 5, 5, 5, 5, 4, 5, 6, 5, 4, 4]\n",
      "[5, 4, 4, 5, 4, 4, 5, 4, 6, 4, 5, 5, 4, 5, 5, 6, 4, 4]\n",
      "[5, 4, 4, 5, 4, 4, 5, 4, 6, 4, 5, 5, 4, 5, 6, 5, 4, 4]\n",
      "[5, 4, 4, 5, 4, 4, 5, 4, 5, 5, 5, 5, 4, 5, 5, 6, 4, 4, 4]\n",
      "[5, 4, 4, 5, 4, 4, 5, 4, 5, 5, 5, 5, 4, 5, 6, 5, 4, 4, 4]\n",
      "[5, 4, 4, 5, 4, 4, 5, 4, 6, 4, 5, 5, 4, 5, 5, 6, 4, 4, 4]\n",
      "[5, 4, 4, 5, 4, 4, 5, 4, 6, 4, 5, 5, 4, 5, 6, 5, 4, 4, 4]\n",
      "[5, 4, 4, 5, 4, 4, 5, 4, 5, 5, 5, 5, 4, 5, 5, 6, 4, 4, 4, 4]\n",
      "[5, 4, 4, 5, 4, 4, 5, 4, 5, 5, 5, 5, 4, 5, 6, 5, 4, 4, 4, 4]\n",
      "[5, 4, 4, 5, 4, 4, 5, 4, 6, 4, 5, 5, 4, 5, 5, 6, 4, 4, 4, 4]\n",
      "[5, 4, 4, 5, 4, 4, 5, 4, 6, 4, 5, 5, 4, 5, 6, 5, 4, 4, 4, 4]\n",
      "[5, 4, 4, 5, 4, 4, 5, 4, 5, 5, 5, 5, 4, 5, 5, 6, 4, 4, 4, 4, 4]\n",
      "[5, 4, 4, 5, 4, 4, 5, 4, 5, 5, 5, 5, 4, 5, 6, 5, 4, 4, 4, 4, 4]\n",
      "[5, 4, 4, 5, 4, 4, 5, 4, 6, 4, 5, 5, 4, 5, 5, 6, 4, 4, 4, 4, 4]\n",
      "[5, 4, 4, 5, 4, 4, 5, 4, 6, 4, 5, 5, 4, 5, 6, 5, 4, 4, 4, 4, 4]\n",
      "[5, 4, 4, 5, 4, 4, 5, 4, 5, 5, 5, 5, 4, 5, 5, 6, 4, 4, 4, 4, 4, 5]\n",
      "[5, 4, 4, 5, 4, 4, 5, 4, 5, 5, 5, 5, 4, 5, 5, 6, 4, 4, 4, 4, 4, 6]\n",
      "[5, 4, 4, 5, 4, 4, 5, 4, 5, 5, 5, 5, 4, 5, 6, 5, 4, 4, 4, 4, 4, 5]\n",
      "[5, 4, 4, 5, 4, 4, 5, 4, 5, 5, 5, 5, 4, 5, 6, 5, 4, 4, 4, 4, 4, 6]\n",
      "[5, 4, 4, 5, 4, 4, 5, 4, 6, 4, 5, 5, 4, 5, 5, 6, 4, 4, 4, 4, 4, 5]\n",
      "[5, 4, 4, 5, 4, 4, 5, 4, 6, 4, 5, 5, 4, 5, 5, 6, 4, 4, 4, 4, 4, 6]\n",
      "[5, 4, 4, 5, 4, 4, 5, 4, 6, 4, 5, 5, 4, 5, 6, 5, 4, 4, 4, 4, 4, 5]\n",
      "[5, 4, 4, 5, 4, 4, 5, 4, 6, 4, 5, 5, 4, 5, 6, 5, 4, 4, 4, 4, 4, 6]\n",
      "[5, 4, 4, 5, 4, 4, 5, 4, 5, 5, 5, 5, 4, 5, 5, 6, 4, 4, 4, 4, 4, 5, 4]\n",
      "[5, 4, 4, 5, 4, 4, 5, 4, 5, 5, 5, 5, 4, 5, 5, 6, 4, 4, 4, 4, 4, 6, 4]\n",
      "[5, 4, 4, 5, 4, 4, 5, 4, 5, 5, 5, 5, 4, 5, 6, 5, 4, 4, 4, 4, 4, 5, 4]\n",
      "[5, 4, 4, 5, 4, 4, 5, 4, 5, 5, 5, 5, 4, 5, 6, 5, 4, 4, 4, 4, 4, 6, 4]\n",
      "[5, 4, 4, 5, 4, 4, 5, 4, 6, 4, 5, 5, 4, 5, 5, 6, 4, 4, 4, 4, 4, 5, 4]\n",
      "[5, 4, 4, 5, 4, 4, 5, 4, 6, 4, 5, 5, 4, 5, 5, 6, 4, 4, 4, 4, 4, 6, 4]\n",
      "[5, 4, 4, 5, 4, 4, 5, 4, 6, 4, 5, 5, 4, 5, 6, 5, 4, 4, 4, 4, 4, 5, 4]\n",
      "[5, 4, 4, 5, 4, 4, 5, 4, 6, 4, 5, 5, 4, 5, 6, 5, 4, 4, 4, 4, 4, 6, 4]\n",
      "[5, 4, 4, 5, 4, 4, 5, 4, 5, 5, 5, 5, 4, 5, 5, 6, 4, 4, 4, 4, 4, 5, 4, 4]\n",
      "[5, 4, 4, 5, 4, 4, 5, 4, 5, 5, 5, 5, 4, 5, 5, 6, 4, 4, 4, 4, 4, 5, 4, 5]\n",
      "[5, 4, 4, 5, 4, 4, 5, 4, 5, 5, 5, 5, 4, 5, 5, 6, 4, 4, 4, 4, 4, 6, 4, 4]\n",
      "[5, 4, 4, 5, 4, 4, 5, 4, 5, 5, 5, 5, 4, 5, 6, 5, 4, 4, 4, 4, 4, 5, 4, 4]\n",
      "[5, 4, 4, 5, 4, 4, 5, 4, 5, 5, 5, 5, 4, 5, 6, 5, 4, 4, 4, 4, 4, 5, 4, 5]\n",
      "[5, 4, 4, 5, 4, 4, 5, 4, 5, 5, 5, 5, 4, 5, 6, 5, 4, 4, 4, 4, 4, 6, 4, 4]\n",
      "[5, 4, 4, 5, 4, 4, 5, 4, 6, 4, 5, 5, 4, 5, 5, 6, 4, 4, 4, 4, 4, 5, 4, 4]\n",
      "[5, 4, 4, 5, 4, 4, 5, 4, 6, 4, 5, 5, 4, 5, 5, 6, 4, 4, 4, 4, 4, 5, 4, 5]\n",
      "[5, 4, 4, 5, 4, 4, 5, 4, 6, 4, 5, 5, 4, 5, 5, 6, 4, 4, 4, 4, 4, 6, 4, 4]\n",
      "[5, 4, 4, 5, 4, 4, 5, 4, 6, 4, 5, 5, 4, 5, 6, 5, 4, 4, 4, 4, 4, 5, 4, 4]\n",
      "[5, 4, 4, 5, 4, 4, 5, 4, 6, 4, 5, 5, 4, 5, 6, 5, 4, 4, 4, 4, 4, 5, 4, 5]\n",
      "[5, 4, 4, 5, 4, 4, 5, 4, 6, 4, 5, 5, 4, 5, 6, 5, 4, 4, 4, 4, 4, 6, 4, 4]\n",
      "[5, 4, 4, 5, 4, 4, 5, 4, 5, 5, 5, 5, 4, 5, 5, 6, 4, 4, 4, 4, 4, 5, 4, 4, 5]\n",
      "[5, 4, 4, 5, 4, 4, 5, 4, 5, 5, 5, 5, 4, 5, 5, 6, 4, 4, 4, 4, 4, 5, 4, 4, 6]\n",
      "[5, 4, 4, 5, 4, 4, 5, 4, 5, 5, 5, 5, 4, 5, 5, 6, 4, 4, 4, 4, 4, 5, 4, 5, 4]\n",
      "[5, 4, 4, 5, 4, 4, 5, 4, 5, 5, 5, 5, 4, 5, 5, 6, 4, 4, 4, 4, 4, 5, 4, 5, 5]\n",
      "[5, 4, 4, 5, 4, 4, 5, 4, 5, 5, 5, 5, 4, 5, 5, 6, 4, 4, 4, 4, 4, 6, 4, 4, 4]\n",
      "[5, 4, 4, 5, 4, 4, 5, 4, 5, 5, 5, 5, 4, 5, 5, 6, 4, 4, 4, 4, 4, 6, 4, 4, 5]\n",
      "[5, 4, 4, 5, 4, 4, 5, 4, 5, 5, 5, 5, 4, 5, 6, 5, 4, 4, 4, 4, 4, 5, 4, 4, 5]\n",
      "[5, 4, 4, 5, 4, 4, 5, 4, 5, 5, 5, 5, 4, 5, 6, 5, 4, 4, 4, 4, 4, 5, 4, 4, 6]\n",
      "[5, 4, 4, 5, 4, 4, 5, 4, 5, 5, 5, 5, 4, 5, 6, 5, 4, 4, 4, 4, 4, 5, 4, 5, 4]\n",
      "[5, 4, 4, 5, 4, 4, 5, 4, 5, 5, 5, 5, 4, 5, 6, 5, 4, 4, 4, 4, 4, 5, 4, 5, 5]\n",
      "[5, 4, 4, 5, 4, 4, 5, 4, 5, 5, 5, 5, 4, 5, 6, 5, 4, 4, 4, 4, 4, 6, 4, 4, 4]\n",
      "[5, 4, 4, 5, 4, 4, 5, 4, 5, 5, 5, 5, 4, 5, 6, 5, 4, 4, 4, 4, 4, 6, 4, 4, 5]\n",
      "[5, 4, 4, 5, 4, 4, 5, 4, 6, 4, 5, 5, 4, 5, 5, 6, 4, 4, 4, 4, 4, 5, 4, 4, 5]\n",
      "[5, 4, 4, 5, 4, 4, 5, 4, 6, 4, 5, 5, 4, 5, 5, 6, 4, 4, 4, 4, 4, 5, 4, 4, 6]\n",
      "[5, 4, 4, 5, 4, 4, 5, 4, 6, 4, 5, 5, 4, 5, 5, 6, 4, 4, 4, 4, 4, 5, 4, 5, 4]\n",
      "[5, 4, 4, 5, 4, 4, 5, 4, 6, 4, 5, 5, 4, 5, 5, 6, 4, 4, 4, 4, 4, 5, 4, 5, 5]\n",
      "[5, 4, 4, 5, 4, 4, 5, 4, 6, 4, 5, 5, 4, 5, 5, 6, 4, 4, 4, 4, 4, 6, 4, 4, 4]\n",
      "[5, 4, 4, 5, 4, 4, 5, 4, 6, 4, 5, 5, 4, 5, 5, 6, 4, 4, 4, 4, 4, 6, 4, 4, 5]\n",
      "[5, 4, 4, 5, 4, 4, 5, 4, 6, 4, 5, 5, 4, 5, 6, 5, 4, 4, 4, 4, 4, 5, 4, 4, 5]\n",
      "[5, 4, 4, 5, 4, 4, 5, 4, 6, 4, 5, 5, 4, 5, 6, 5, 4, 4, 4, 4, 4, 5, 4, 4, 6]\n",
      "[5, 4, 4, 5, 4, 4, 5, 4, 6, 4, 5, 5, 4, 5, 6, 5, 4, 4, 4, 4, 4, 5, 4, 5, 4]\n",
      "[5, 4, 4, 5, 4, 4, 5, 4, 6, 4, 5, 5, 4, 5, 6, 5, 4, 4, 4, 4, 4, 5, 4, 5, 5]\n",
      "[5, 4, 4, 5, 4, 4, 5, 4, 6, 4, 5, 5, 4, 5, 6, 5, 4, 4, 4, 4, 4, 6, 4, 4, 4]\n",
      "[5, 4, 4, 5, 4, 4, 5, 4, 6, 4, 5, 5, 4, 5, 6, 5, 4, 4, 4, 4, 4, 6, 4, 4, 5]\n",
      "[5, 4, 4, 5, 4, 4, 5, 4, 5, 5, 5, 5, 4, 5, 5, 6, 4, 4, 4, 4, 4, 5, 4, 4, 5, 4]\n",
      "[5, 4, 4, 5, 4, 4, 5, 4, 5, 5, 5, 5, 4, 5, 5, 6, 4, 4, 4, 4, 4, 5, 4, 4, 5, 5]\n",
      "[5, 4, 4, 5, 4, 4, 5, 4, 5, 5, 5, 5, 4, 5, 5, 6, 4, 4, 4, 4, 4, 5, 4, 4, 5, 6]\n",
      "[5, 4, 4, 5, 4, 4, 5, 4, 5, 5, 5, 5, 4, 5, 5, 6, 4, 4, 4, 4, 4, 5, 4, 4, 5, 7]\n",
      "[5, 4, 4, 5, 4, 4, 5, 4, 5, 5, 5, 5, 4, 5, 5, 6, 4, 4, 4, 4, 4, 5, 4, 4, 5, 8]\n",
      "[5, 4, 4, 5, 4, 4, 5, 4, 5, 5, 5, 5, 4, 5, 5, 6, 4, 4, 4, 4, 4, 5, 4, 5, 4, 4]\n",
      "[5, 4, 4, 5, 4, 4, 5, 4, 5, 5, 5, 5, 4, 5, 5, 6, 4, 4, 4, 4, 4, 5, 4, 5, 4, 5]\n",
      "[5, 4, 4, 5, 4, 4, 5, 4, 5, 5, 5, 5, 4, 5, 5, 6, 4, 4, 4, 4, 4, 5, 4, 5, 4, 6]\n",
      "[5, 4, 4, 5, 4, 4, 5, 4, 5, 5, 5, 5, 4, 5, 5, 6, 4, 4, 4, 4, 4, 5, 4, 5, 4, 7]\n",
      "[5, 4, 4, 5, 4, 4, 5, 4, 5, 5, 5, 5, 4, 5, 5, 6, 4, 4, 4, 4, 4, 5, 4, 5, 4, 8]\n",
      "[5, 4, 4, 5, 4, 4, 5, 4, 5, 5, 5, 5, 4, 5, 5, 6, 4, 4, 4, 4, 4, 6, 4, 4, 4, 4]\n",
      "[5, 4, 4, 5, 4, 4, 5, 4, 5, 5, 5, 5, 4, 5, 5, 6, 4, 4, 4, 4, 4, 6, 4, 4, 4, 5]\n",
      "[5, 4, 4, 5, 4, 4, 5, 4, 5, 5, 5, 5, 4, 5, 5, 6, 4, 4, 4, 4, 4, 6, 4, 4, 4, 6]\n",
      "[5, 4, 4, 5, 4, 4, 5, 4, 5, 5, 5, 5, 4, 5, 5, 6, 4, 4, 4, 4, 4, 6, 4, 4, 4, 7]\n",
      "[5, 4, 4, 5, 4, 4, 5, 4, 5, 5, 5, 5, 4, 5, 5, 6, 4, 4, 4, 4, 4, 6, 4, 4, 4, 8]\n",
      "[5, 4, 4, 5, 4, 4, 5, 4, 5, 5, 5, 5, 4, 5, 6, 5, 4, 4, 4, 4, 4, 5, 4, 4, 5, 4]\n",
      "[5, 4, 4, 5, 4, 4, 5, 4, 5, 5, 5, 5, 4, 5, 6, 5, 4, 4, 4, 4, 4, 5, 4, 4, 5, 5]\n",
      "[5, 4, 4, 5, 4, 4, 5, 4, 5, 5, 5, 5, 4, 5, 6, 5, 4, 4, 4, 4, 4, 5, 4, 4, 5, 6]\n",
      "[5, 4, 4, 5, 4, 4, 5, 4, 5, 5, 5, 5, 4, 5, 6, 5, 4, 4, 4, 4, 4, 5, 4, 4, 5, 7]\n",
      "[5, 4, 4, 5, 4, 4, 5, 4, 5, 5, 5, 5, 4, 5, 6, 5, 4, 4, 4, 4, 4, 5, 4, 4, 5, 8]\n",
      "[5, 4, 4, 5, 4, 4, 5, 4, 5, 5, 5, 5, 4, 5, 6, 5, 4, 4, 4, 4, 4, 5, 4, 5, 4, 4]\n",
      "[5, 4, 4, 5, 4, 4, 5, 4, 5, 5, 5, 5, 4, 5, 6, 5, 4, 4, 4, 4, 4, 5, 4, 5, 4, 5]\n",
      "[5, 4, 4, 5, 4, 4, 5, 4, 5, 5, 5, 5, 4, 5, 6, 5, 4, 4, 4, 4, 4, 5, 4, 5, 4, 6]\n",
      "[5, 4, 4, 5, 4, 4, 5, 4, 5, 5, 5, 5, 4, 5, 6, 5, 4, 4, 4, 4, 4, 5, 4, 5, 4, 7]\n",
      "[5, 4, 4, 5, 4, 4, 5, 4, 5, 5, 5, 5, 4, 5, 6, 5, 4, 4, 4, 4, 4, 5, 4, 5, 4, 8]\n",
      "[5, 4, 4, 5, 4, 4, 5, 4, 5, 5, 5, 5, 4, 5, 6, 5, 4, 4, 4, 4, 4, 6, 4, 4, 4, 4]\n",
      "[5, 4, 4, 5, 4, 4, 5, 4, 5, 5, 5, 5, 4, 5, 6, 5, 4, 4, 4, 4, 4, 6, 4, 4, 4, 5]\n",
      "[5, 4, 4, 5, 4, 4, 5, 4, 5, 5, 5, 5, 4, 5, 6, 5, 4, 4, 4, 4, 4, 6, 4, 4, 4, 6]\n",
      "[5, 4, 4, 5, 4, 4, 5, 4, 5, 5, 5, 5, 4, 5, 6, 5, 4, 4, 4, 4, 4, 6, 4, 4, 4, 7]\n",
      "[5, 4, 4, 5, 4, 4, 5, 4, 5, 5, 5, 5, 4, 5, 6, 5, 4, 4, 4, 4, 4, 6, 4, 4, 4, 8]\n",
      "[5, 4, 4, 5, 4, 4, 5, 4, 6, 4, 5, 5, 4, 5, 5, 6, 4, 4, 4, 4, 4, 5, 4, 4, 5, 4]\n",
      "[5, 4, 4, 5, 4, 4, 5, 4, 6, 4, 5, 5, 4, 5, 5, 6, 4, 4, 4, 4, 4, 5, 4, 4, 5, 5]\n",
      "[5, 4, 4, 5, 4, 4, 5, 4, 6, 4, 5, 5, 4, 5, 5, 6, 4, 4, 4, 4, 4, 5, 4, 4, 5, 6]\n",
      "[5, 4, 4, 5, 4, 4, 5, 4, 6, 4, 5, 5, 4, 5, 5, 6, 4, 4, 4, 4, 4, 5, 4, 4, 5, 7]\n",
      "[5, 4, 4, 5, 4, 4, 5, 4, 6, 4, 5, 5, 4, 5, 5, 6, 4, 4, 4, 4, 4, 5, 4, 4, 5, 8]\n",
      "[5, 4, 4, 5, 4, 4, 5, 4, 6, 4, 5, 5, 4, 5, 5, 6, 4, 4, 4, 4, 4, 5, 4, 5, 4, 4]\n",
      "[5, 4, 4, 5, 4, 4, 5, 4, 6, 4, 5, 5, 4, 5, 5, 6, 4, 4, 4, 4, 4, 5, 4, 5, 4, 5]\n",
      "[5, 4, 4, 5, 4, 4, 5, 4, 6, 4, 5, 5, 4, 5, 5, 6, 4, 4, 4, 4, 4, 5, 4, 5, 4, 6]\n",
      "[5, 4, 4, 5, 4, 4, 5, 4, 6, 4, 5, 5, 4, 5, 5, 6, 4, 4, 4, 4, 4, 5, 4, 5, 4, 7]\n",
      "[5, 4, 4, 5, 4, 4, 5, 4, 6, 4, 5, 5, 4, 5, 5, 6, 4, 4, 4, 4, 4, 5, 4, 5, 4, 8]\n",
      "[5, 4, 4, 5, 4, 4, 5, 4, 6, 4, 5, 5, 4, 5, 5, 6, 4, 4, 4, 4, 4, 6, 4, 4, 4, 4]\n",
      "[5, 4, 4, 5, 4, 4, 5, 4, 6, 4, 5, 5, 4, 5, 5, 6, 4, 4, 4, 4, 4, 6, 4, 4, 4, 5]\n",
      "[5, 4, 4, 5, 4, 4, 5, 4, 6, 4, 5, 5, 4, 5, 5, 6, 4, 4, 4, 4, 4, 6, 4, 4, 4, 6]\n",
      "[5, 4, 4, 5, 4, 4, 5, 4, 6, 4, 5, 5, 4, 5, 5, 6, 4, 4, 4, 4, 4, 6, 4, 4, 4, 7]\n",
      "[5, 4, 4, 5, 4, 4, 5, 4, 6, 4, 5, 5, 4, 5, 5, 6, 4, 4, 4, 4, 4, 6, 4, 4, 4, 8]\n",
      "[5, 4, 4, 5, 4, 4, 5, 4, 6, 4, 5, 5, 4, 5, 6, 5, 4, 4, 4, 4, 4, 5, 4, 4, 5, 4]\n",
      "[5, 4, 4, 5, 4, 4, 5, 4, 6, 4, 5, 5, 4, 5, 6, 5, 4, 4, 4, 4, 4, 5, 4, 4, 5, 5]\n",
      "[5, 4, 4, 5, 4, 4, 5, 4, 6, 4, 5, 5, 4, 5, 6, 5, 4, 4, 4, 4, 4, 5, 4, 4, 5, 6]\n",
      "[5, 4, 4, 5, 4, 4, 5, 4, 6, 4, 5, 5, 4, 5, 6, 5, 4, 4, 4, 4, 4, 5, 4, 4, 5, 7]\n",
      "[5, 4, 4, 5, 4, 4, 5, 4, 6, 4, 5, 5, 4, 5, 6, 5, 4, 4, 4, 4, 4, 5, 4, 4, 5, 8]\n",
      "[5, 4, 4, 5, 4, 4, 5, 4, 6, 4, 5, 5, 4, 5, 6, 5, 4, 4, 4, 4, 4, 5, 4, 5, 4, 4]\n",
      "[5, 4, 4, 5, 4, 4, 5, 4, 6, 4, 5, 5, 4, 5, 6, 5, 4, 4, 4, 4, 4, 5, 4, 5, 4, 5]\n",
      "[5, 4, 4, 5, 4, 4, 5, 4, 6, 4, 5, 5, 4, 5, 6, 5, 4, 4, 4, 4, 4, 5, 4, 5, 4, 6]\n",
      "[5, 4, 4, 5, 4, 4, 5, 4, 6, 4, 5, 5, 4, 5, 6, 5, 4, 4, 4, 4, 4, 5, 4, 5, 4, 7]\n",
      "[5, 4, 4, 5, 4, 4, 5, 4, 6, 4, 5, 5, 4, 5, 6, 5, 4, 4, 4, 4, 4, 5, 4, 5, 4, 8]\n",
      "[5, 4, 4, 5, 4, 4, 5, 4, 6, 4, 5, 5, 4, 5, 6, 5, 4, 4, 4, 4, 4, 6, 4, 4, 4, 4]\n",
      "[5, 4, 4, 5, 4, 4, 5, 4, 6, 4, 5, 5, 4, 5, 6, 5, 4, 4, 4, 4, 4, 6, 4, 4, 4, 5]\n",
      "[5, 4, 4, 5, 4, 4, 5, 4, 6, 4, 5, 5, 4, 5, 6, 5, 4, 4, 4, 4, 4, 6, 4, 4, 4, 6]\n",
      "[5, 4, 4, 5, 4, 4, 5, 4, 6, 4, 5, 5, 4, 5, 6, 5, 4, 4, 4, 4, 4, 6, 4, 4, 4, 7]\n",
      "[5, 4, 4, 5, 4, 4, 5, 4, 6, 4, 5, 5, 4, 5, 6, 5, 4, 4, 4, 4, 4, 6, 4, 4, 4, 8]\n"
     ]
    }
   ],
   "source": [
    "for i in list2: \n",
    "    \n",
    "    print(i)"
   ]
  },
  {
   "cell_type": "code",
   "execution_count": null,
   "metadata": {},
   "outputs": [],
   "source": []
  },
  {
   "cell_type": "code",
   "execution_count": 61,
   "metadata": {},
   "outputs": [
    {
     "name": "stdout",
     "output_type": "stream",
     "text": [
      "GTGACACGGCACGCGAGCCTGGCTCCACGGCGACACGGCTAGCCGCGCTCGCGAGCTTCCACGGCCTAGCACGCGAGCCTACACGGCTTCGCCAGCACGGCTGGCTTCGGCCTCAT\n",
      "GCCGCCACGGCTTAGCAGGCCTAGCCTAGCTTAGCTCCACGGCGCCGCACGCAGGCTTAGCTAGCCGCGCTCGCTTGCACGGCCTCGGCAGGCTTAGCTTACACGGCTTCGGCTTGAT\n",
      "GCTCCACGGCTAGCGAGCCAGCACGGCTTAGCAGGCCTGGCTCCACGGCAGGCTTGCACGGCGACACGGCTTGGCGAGCCTAGCAGGCTTCGGCTTGCACGGCCTCGGCACGCTCAT\n",
      "GCCGCGCTCCACGGCCTAGCACGCTCGCCAGCACGGCCTCGGCAGGCTTAGCTTACACGGCTTGGCTTCGGCCTACACGGCGCGCTCCACGGCATGCCTCGCTAGCTCGGCTCGCTAAT\n",
      "CACGGCGCGCCAGCACGGCCTAGCACGCTCCACGGCGCCGCTTCGGCTTAGCTTCGGCCGCCACGGCTTCGGCTGCACGGCCTAGCACGCTCGCAGGCCGCCACGGCCGCCGCAGGAT\n",
      "GCAGGCTTGCACGGCGCGCCTCGCCTACACGGCGCGCCAGCACGGCCTAGCACGCTCCACGGCGCCGCTTCGGCTTGGCCTAGCTCGCTTGGCCTACACGGCTTCGGCTGCACGAT\n",
      "GCCTAGCACGCTCGCAGGCCGCCACGGCGCCGCACGCGAGCCGCGCGAGCGCCGCCTAGCTCGCCGCCAGGCAT\n"
     ]
    }
   ],
   "source": [
    "for i in nucleotideFragments:\n",
    "    print(i)\n",
    "    \n",
    "    "
   ]
  },
  {
   "cell_type": "code",
   "execution_count": null,
   "metadata": {},
   "outputs": [],
   "source": []
  },
  {
   "cell_type": "code",
   "execution_count": null,
   "metadata": {},
   "outputs": [],
   "source": []
  },
  {
   "cell_type": "code",
   "execution_count": null,
   "metadata": {},
   "outputs": [],
   "source": []
  },
  {
   "cell_type": "code",
   "execution_count": null,
   "metadata": {},
   "outputs": [],
   "source": []
  },
  {
   "cell_type": "code",
   "execution_count": null,
   "metadata": {},
   "outputs": [],
   "source": []
  },
  {
   "cell_type": "code",
   "execution_count": null,
   "metadata": {},
   "outputs": [],
   "source": []
  },
  {
   "cell_type": "code",
   "execution_count": null,
   "metadata": {},
   "outputs": [],
   "source": []
  },
  {
   "cell_type": "code",
   "execution_count": null,
   "metadata": {},
   "outputs": [],
   "source": []
  },
  {
   "cell_type": "code",
   "execution_count": 49,
   "metadata": {},
   "outputs": [
    {
     "ename": "KeyError",
     "evalue": "'GATC'",
     "output_type": "error",
     "traceback": [
      "\u001b[1;31m---------------------------------------------------------------------------\u001b[0m",
      "\u001b[1;31mKeyError\u001b[0m                                  Traceback (most recent call last)",
      "\u001b[1;32m<ipython-input-49-75edfe854016>\u001b[0m in \u001b[0;36m<module>\u001b[1;34m\u001b[0m\n\u001b[1;32m----> 1\u001b[1;33m \u001b[0mnucleotideFragmentsDictLong\u001b[0m\u001b[1;33m[\u001b[0m\u001b[1;34m\"GATC\"\u001b[0m\u001b[1;33m]\u001b[0m\u001b[1;33m\u001b[0m\u001b[1;33m\u001b[0m\u001b[0m\n\u001b[0m\u001b[0;32m      2\u001b[0m \u001b[1;31m# \"oo hot the eye of heaven s\"\u001b[0m\u001b[1;33m\u001b[0m\u001b[1;33m\u001b[0m\u001b[1;33m\u001b[0m\u001b[0m\n\u001b[0;32m      3\u001b[0m \u001b[0mcounter\u001b[0m\u001b[1;33m=\u001b[0m\u001b[1;36m0\u001b[0m\u001b[1;33m\u001b[0m\u001b[1;33m\u001b[0m\u001b[0m\n\u001b[0;32m      4\u001b[0m \u001b[1;32mfor\u001b[0m \u001b[0mi\u001b[0m \u001b[1;32min\u001b[0m \u001b[0mnucleotideFragmentsDictLong\u001b[0m\u001b[1;33m[\u001b[0m\u001b[1;34m\"GATC\"\u001b[0m\u001b[1;33m]\u001b[0m\u001b[1;33m:\u001b[0m\u001b[1;33m\u001b[0m\u001b[1;33m\u001b[0m\u001b[0m\n\u001b[0;32m      5\u001b[0m     \u001b[0mcounter\u001b[0m\u001b[1;33m=\u001b[0m\u001b[0mcounter\u001b[0m\u001b[1;33m+\u001b[0m\u001b[0mlen\u001b[0m\u001b[1;33m(\u001b[0m\u001b[0mi\u001b[0m\u001b[1;33m)\u001b[0m\u001b[1;33m\u001b[0m\u001b[1;33m\u001b[0m\u001b[0m\n",
      "\u001b[1;31mKeyError\u001b[0m: 'GATC'"
     ]
    }
   ],
   "source": [
    "nucleotideFragmentsDictLong[\"GATC\"]\n",
    "# \"oo hot the eye of heaven s\"\n",
    "counter=0\n",
    "for i in nucleotideFragmentsDictLong[\"GATC\"]:\n",
    "    counter=counter+len(i)\n",
    "print(counter)"
   ]
  },
  {
   "cell_type": "code",
   "execution_count": 80,
   "metadata": {},
   "outputs": [
    {
     "name": "stdout",
     "output_type": "stream",
     "text": [
      "6\n",
      "6\n",
      "4\n",
      "4\n",
      "6\n",
      "5\n",
      "4\n",
      "5\n",
      "4\n",
      "4\n",
      "4\n",
      "4\n",
      "5\n",
      "4\n",
      "4\n",
      "6\n",
      "4\n",
      "4\n",
      "4\n",
      "4\n",
      "4\n",
      "5\n",
      "4\n",
      "5\n",
      "4\n",
      "6\n"
     ]
    }
   ],
   "source": [
    "for i in nucleotideFragmentsDictLong[\"GATC\"]:\n",
    "    print(len(i))"
   ]
  },
  {
   "cell_type": "code",
   "execution_count": null,
   "metadata": {},
   "outputs": [],
   "source": []
  },
  {
   "cell_type": "markdown",
   "metadata": {},
   "source": [
    "# OLD CODE"
   ]
  },
  {
   "cell_type": "code",
   "execution_count": null,
   "metadata": {},
   "outputs": [],
   "source": [
    "# ORIGINAL BEFORE ADDITIONAL CHECK 23/10/2020. Makes up unique codes to each DNA framgnet. But currently allows unique Identifier to feature in any other information. \n",
    "\n",
    "DNAfragmentList=nucleotideFragments\n",
    "\n",
    "\n",
    "uniqueAddressCounter=0\n",
    "uniqueAddress=[]\n",
    "uniqueCompAddress=[]\n",
    "fragmentDict={}\n",
    "\n",
    "\n",
    "# Try to produce the unique codes with the smallest nucleotides possible\n",
    "try:\n",
    "    uniqueAddressList=codingStrategy(len(DNAfragmentList))\n",
    "#     print(uniqueAddressList)\n",
    "    \n",
    "    for i in DNAfragmentList:\n",
    "        addressCode=uniqueAddressList[uniqueAddressCounter]\n",
    "        compAddressCode=complimentaryPrimer(uniqueAddressList[uniqueAddressCounter])\n",
    "        \n",
    "        if (addressCode in i) or (compAddressCode in i) or (addressCode in uniqueAddress):\n",
    "#             print(\"Issue Here\", addressCode, compAddressCode)\n",
    "            startingUAC=uniqueAddressCounter    \n",
    "            while (addressCode in i) or (compAddressCode in i) or (addressCode in uniqueAddress):\n",
    "#                 print(\"Found a case\")\n",
    "#                 print(addressCode,compAddressCode)\n",
    "                uniqueAddressCounter+=1\n",
    "                addressCode=uniqueAddressList[uniqueAddressCounter]\n",
    "                compAddressCode=complimentaryPrimer(uniqueAddressList[uniqueAddressCounter])\n",
    "\n",
    "\n",
    "            fragmentDict[addressCode]=i\n",
    "\n",
    "            uniqueAddress.append(addressCode)\n",
    "            uniqueCompAddress.append(compAddressCode)\n",
    "            uniqueAddressCounter=startingUAC\n",
    "\n",
    "        else:\n",
    "#             print(\"No problem here\")\n",
    "            fragmentDict[addressCode]=i\n",
    "\n",
    "            uniqueAddress.append(addressCode)\n",
    "            uniqueCompAddress.append(compAddressCode)\n",
    "            uniqueAddressCounter+=1\n",
    "\n",
    "# If not, restart the process with longer unique address codes. This is needed if the uniqueAddress list values are found in the DNA information frequently            \n",
    "except Exception as e:\n",
    "    print(e)\n",
    "    print(\"Error occured so went the second route\")\n",
    "    uniqueAddress=[]\n",
    "    uniqueCompAddress=[]\n",
    "    fragmentDict={}\n",
    "    uniqueAddressCounter=0\n",
    "    for x in range(0,21):\n",
    "        if len(DNAfragmentList)<4**x:\n",
    "            print(x)\n",
    "            uniqueAddressList=codingStrategy((4**x))\n",
    "            break\n",
    "    print(uniqueAddressList)\n",
    "    for i in DNAfragmentList:\n",
    "        addressCode=uniqueAddressList[uniqueAddressCounter]\n",
    "        compAddressCode=complimentaryPrimer(uniqueAddressList[uniqueAddressCounter])\n",
    "#         print(\"Next Fragment\")\n",
    "        if (addressCode in i) or (compAddressCode in i) or (addressCode in uniqueAddress):\n",
    "            startingUAC=uniqueAddressCounter    \n",
    "            while (addressCode in i) or (compAddressCode in i) or (addressCode in uniqueAddress):\n",
    "#                 print(\"Found a case\")\n",
    "#                 print(addressCode,compAddressCode)\n",
    "                uniqueAddressCounter+=1\n",
    "                addressCode=uniqueAddressList[uniqueAddressCounter]\n",
    "                compAddressCode=complimentaryPrimer(uniqueAddressList[uniqueAddressCounter])\n",
    "\n",
    "\n",
    "            fragmentDict[addressCode]=i\n",
    "\n",
    "            uniqueAddress.append(addressCode)\n",
    "            uniqueCompAddress.append(compAddressCode)\n",
    "            uniqueAddressCounter=startingUAC\n",
    "\n",
    "        else:\n",
    "            fragmentDict[addressCode]=i\n",
    "\n",
    "            uniqueAddress.append(addressCode)\n",
    "            uniqueCompAddress.append(compAddressCode)\n",
    "            uniqueAddressCounter+=1\n"
   ]
  }
 ],
 "metadata": {
  "kernelspec": {
   "display_name": "Python 3",
   "language": "python",
   "name": "python3"
  },
  "language_info": {
   "codemirror_mode": {
    "name": "ipython",
    "version": 3
   },
   "file_extension": ".py",
   "mimetype": "text/x-python",
   "name": "python",
   "nbconvert_exporter": "python",
   "pygments_lexer": "ipython3",
   "version": "3.6.10"
  }
 },
 "nbformat": 4,
 "nbformat_minor": 2
}
