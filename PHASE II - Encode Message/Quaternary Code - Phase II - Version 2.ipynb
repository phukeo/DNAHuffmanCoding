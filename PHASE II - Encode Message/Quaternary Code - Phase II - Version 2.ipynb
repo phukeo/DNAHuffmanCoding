{
 "cells": [
  {
   "cell_type": "markdown",
   "metadata": {},
   "source": [
    "# Encoding"
   ]
  },
  {
   "cell_type": "code",
   "execution_count": 1,
   "metadata": {},
   "outputs": [],
   "source": [
    "# Phase II - Version 2 -Address Codes found afterwards\n",
    "import numpy as np\n",
    "import pandas as pd\n",
    "import itertools"
   ]
  },
  {
   "cell_type": "code",
   "execution_count": 2,
   "metadata": {},
   "outputs": [],
   "source": [
    "# Read in the ASCII Table\n",
    "ASCII_List_Raw=pd.read_csv(\"ASCII_QUAT_CODES.csv\", dtype=object,usecols=[0,1,2,3],skiprows=0, nrows=260,encoding='utf-8')\n",
    "# ASCII_List=ASCII_List_Raw.dropna()"
   ]
  },
  {
   "cell_type": "code",
   "execution_count": 3,
   "metadata": {},
   "outputs": [
    {
     "data": {
      "text/html": [
       "<div>\n",
       "<style scoped>\n",
       "    .dataframe tbody tr th:only-of-type {\n",
       "        vertical-align: middle;\n",
       "    }\n",
       "\n",
       "    .dataframe tbody tr th {\n",
       "        vertical-align: top;\n",
       "    }\n",
       "\n",
       "    .dataframe thead th {\n",
       "        text-align: right;\n",
       "    }\n",
       "</style>\n",
       "<table border=\"1\" class=\"dataframe\">\n",
       "  <thead>\n",
       "    <tr style=\"text-align: right;\">\n",
       "      <th></th>\n",
       "      <th>Dec</th>\n",
       "      <th>Char</th>\n",
       "      <th>QUAT CODE</th>\n",
       "      <th>QUAT NUCLEOTIDES</th>\n",
       "    </tr>\n",
       "  </thead>\n",
       "  <tbody>\n",
       "    <tr>\n",
       "      <th>0</th>\n",
       "      <td>0</td>\n",
       "      <td>NUL</td>\n",
       "      <td>0</td>\n",
       "      <td>CGTA</td>\n",
       "    </tr>\n",
       "    <tr>\n",
       "      <th>1</th>\n",
       "      <td>1</td>\n",
       "      <td>SOH</td>\n",
       "      <td>1</td>\n",
       "      <td>CGTC</td>\n",
       "    </tr>\n",
       "    <tr>\n",
       "      <th>2</th>\n",
       "      <td>2</td>\n",
       "      <td>STX</td>\n",
       "      <td>2</td>\n",
       "      <td>CGTG</td>\n",
       "    </tr>\n",
       "    <tr>\n",
       "      <th>3</th>\n",
       "      <td>3</td>\n",
       "      <td>ETX</td>\n",
       "      <td>3</td>\n",
       "      <td>CGTCG</td>\n",
       "    </tr>\n",
       "    <tr>\n",
       "      <th>4</th>\n",
       "      <td>4</td>\n",
       "      <td>EOT</td>\n",
       "      <td>10</td>\n",
       "      <td>CGAC</td>\n",
       "    </tr>\n",
       "  </tbody>\n",
       "</table>\n",
       "</div>"
      ],
      "text/plain": [
       "  Dec Char QUAT CODE QUAT NUCLEOTIDES\n",
       "0   0  NUL         0             CGTA\n",
       "1   1  SOH         1             CGTC\n",
       "2   2  STX         2             CGTG\n",
       "3   3  ETX         3            CGTCG\n",
       "4   4  EOT        10             CGAC"
      ]
     },
     "metadata": {},
     "output_type": "display_data"
    },
    {
     "data": {
      "text/html": [
       "<div>\n",
       "<style scoped>\n",
       "    .dataframe tbody tr th:only-of-type {\n",
       "        vertical-align: middle;\n",
       "    }\n",
       "\n",
       "    .dataframe tbody tr th {\n",
       "        vertical-align: top;\n",
       "    }\n",
       "\n",
       "    .dataframe thead th {\n",
       "        text-align: right;\n",
       "    }\n",
       "</style>\n",
       "<table border=\"1\" class=\"dataframe\">\n",
       "  <thead>\n",
       "    <tr style=\"text-align: right;\">\n",
       "      <th></th>\n",
       "      <th>Dec</th>\n",
       "      <th>Char</th>\n",
       "      <th>QUAT CODE</th>\n",
       "      <th>QUAT NUCLEOTIDES</th>\n",
       "    </tr>\n",
       "  </thead>\n",
       "  <tbody>\n",
       "    <tr>\n",
       "      <th>251</th>\n",
       "      <td>251</td>\n",
       "      <td>?</td>\n",
       "      <td>3323</td>\n",
       "      <td>GGCCAGG</td>\n",
       "    </tr>\n",
       "    <tr>\n",
       "      <th>252</th>\n",
       "      <td>252</td>\n",
       "      <td>?</td>\n",
       "      <td>3330</td>\n",
       "      <td>GGCCTTA</td>\n",
       "    </tr>\n",
       "    <tr>\n",
       "      <th>253</th>\n",
       "      <td>253</td>\n",
       "      <td>²</td>\n",
       "      <td>3331</td>\n",
       "      <td>GGCCTTC</td>\n",
       "    </tr>\n",
       "    <tr>\n",
       "      <th>254</th>\n",
       "      <td>254</td>\n",
       "      <td>?</td>\n",
       "      <td>3332</td>\n",
       "      <td>GGCCTTG</td>\n",
       "    </tr>\n",
       "    <tr>\n",
       "      <th>255</th>\n",
       "      <td>255</td>\n",
       "      <td>NaN</td>\n",
       "      <td>3333</td>\n",
       "      <td>GGCCTTCG</td>\n",
       "    </tr>\n",
       "  </tbody>\n",
       "</table>\n",
       "</div>"
      ],
      "text/plain": [
       "     Dec Char QUAT CODE QUAT NUCLEOTIDES\n",
       "251  251    ?      3323          GGCCAGG\n",
       "252  252    ?      3330          GGCCTTA\n",
       "253  253    ²      3331          GGCCTTC\n",
       "254  254    ?      3332          GGCCTTG\n",
       "255  255  NaN      3333         GGCCTTCG"
      ]
     },
     "metadata": {},
     "output_type": "display_data"
    }
   ],
   "source": [
    "display(ASCII_List_Raw.head())\n",
    "display(ASCII_List_Raw.tail())"
   ]
  },
  {
   "cell_type": "code",
   "execution_count": null,
   "metadata": {},
   "outputs": [],
   "source": [
    "# for index, row in ASCII_List_Raw.iterrows():\n",
    "#     print(index)\n",
    "#     print(row['Char'])"
   ]
  },
  {
   "cell_type": "markdown",
   "metadata": {},
   "source": [
    "# Phrase Input"
   ]
  },
  {
   "cell_type": "code",
   "execution_count": 4,
   "metadata": {},
   "outputs": [],
   "source": [
    "rawInput=\"\"\"Shall I compare thee to a summer’s day?\n",
    "Thou art more lovely and more temperate.\n",
    "Rough winds do shake the darling buds of May,\n",
    "And summer’s lease hath all too short a date.\n",
    "Sometime too hot the eye of heaven shines,\n",
    "And often is his gold complexion dimmed;\n",
    "And every fair from fair sometime declines,\n",
    "By chance, or nature’s changing course, untrimmed;\n",
    "But thy eternal summer shall not fade,\n",
    "Nor lose possession of that fair thou ow’st,\n",
    "Nor shall death brag thou wand'rest in his shade,\n",
    "When in eternal lines to Time thou grow'st.\n",
    "So long as men can breathe, or eyes can see,\n",
    "So long lives this, and this gives life to thee.\"\"\"\n"
   ]
  },
  {
   "cell_type": "code",
   "execution_count": 4,
   "metadata": {},
   "outputs": [],
   "source": [
    "# Doctored for testing purposes\n",
    "rawInput=\"\"\"Shall I compare thee to a summer’s day?\n",
    "Thou art more lovely and more temperate.\n",
    "Rough winds do shake the darling buds of May,\n",
    "And summer’s lease hath all too short a date.\n",
    "Sometime too hot the eye of heaven shines,\n",
    "And often is his gold complexion dimmed;\n",
    "And every fair from fair sometime declines,\n",
    "By chance, or nature’s changing course, untrimmed;\n",
    "But thy eternal summer shall not fade,\n",
    "Nor lose possession of that fair thou ow’st,\n",
    "Nor shall death brag thou wand'rest in his shade,\n",
    "When in eternal lines to Time thou grow'st.\n",
    "So long as men can breathe, or eyes can see,\n",
    "So long lives this, and this gives life to thee.\n",
    "Shall I compare thee to a summer’s day?\n",
    "Thou art more lovely and more temperate.\n",
    "Rough winds do shake the darling buds of May,\n",
    "And summer’s lease hath all too short a date.\n",
    "Sometime too hot the eye of heaven shines,\n",
    "And often is his gold complexion dimmed;\n",
    "And every fair from fair sometime declines,\n",
    "By chance, or nature’s changing course, untrimmed;\n",
    "Shall I compare thee to a summer’s day?\n",
    "Thou art more lovely and more temperate.\n",
    "Rough winds do shake the darling buds of May,\n",
    "And summer’s lease hath all too short a date.\n",
    "Sometime too hot the eye of heaven shines,\n",
    "And often is his gold complexion dimmed;\n",
    "And every fair from fair sometime declines,\n",
    "By chance, or nature’s changing course, untrimmed;\n",
    "But thy eternal summer shall not fade,\n",
    "Nor lose possession of that fair thou ow’st,\n",
    "Nor shall death brag thou wand'rest in his shade,\n",
    "When in eternal lines to Time thou grow'st.\n",
    "So long as men can breathe, or eyes can see,\n",
    "So long lives this, and this gives life to thee.\n",
    "Shall I compare thee to a summer’s day?\n",
    "Thou art more lovely and more temperate.\n",
    "Rough winds do shake the darling buds of May,\n",
    "And summer’s lease hath all too short a date.\n",
    "SomeZime too hot the eye of Yeaven shines,\n",
    "And often is his gold complexion dimmed;\n",
    "And every fair from fair sometime declines,\n",
    "By chance, or nature’s changing course, untrimmed;\"\"\""
   ]
  },
  {
   "cell_type": "code",
   "execution_count": 5,
   "metadata": {},
   "outputs": [
    {
     "name": "stdout",
     "output_type": "stream",
     "text": [
      "Shall I compare thee to a summer's day?\n",
      "Thou art more lovely and more temperate.\n",
      "Rough winds do shake the darling buds of May,\n",
      "And summer's lease hath all too short a date.\n",
      "Sometime too hot the eye of heaven shines,\n",
      "And often is his gold complexion dimmed;\n",
      "And every fair from fair sometime declines,\n",
      "By chance, or nature's changing course, untrimmed;\n",
      "But thy eternal summer shall not fade,\n",
      "Nor lose possession of that fair thou ow'st,\n",
      "Nor shall death brag thou wand'rest in his shade,\n",
      "When in eternal lines to Time thou grow'st.\n",
      "So long as men can breathe, or eyes can see,\n",
      "So long lives this, and this gives life to thee.\n",
      "Shall I compare thee to a summer's day?\n",
      "Thou art more lovely and more temperate.\n",
      "Rough winds do shake the darling buds of May,\n",
      "And summer's lease hath all too short a date.\n",
      "Sometime too hot the eye of heaven shines,\n",
      "And often is his gold complexion dimmed;\n",
      "And every fair from fair sometime declines,\n",
      "By chance, or nature's changing course, untrimmed;\n",
      "Shall I compare thee to a summer's day?\n",
      "Thou art more lovely and more temperate.\n",
      "Rough winds do shake the darling buds of May,\n",
      "And summer's lease hath all too short a date.\n",
      "Sometime too hot the eye of heaven shines,\n",
      "And often is his gold complexion dimmed;\n",
      "And every fair from fair sometime declines,\n",
      "By chance, or nature's changing course, untrimmed;\n",
      "But thy eternal summer shall not fade,\n",
      "Nor lose possession of that fair thou ow'st,\n",
      "Nor shall death brag thou wand'rest in his shade,\n",
      "When in eternal lines to Time thou grow'st.\n",
      "So long as men can breathe, or eyes can see,\n",
      "So long lives this, and this gives life to thee.\n",
      "Shall I compare thee to a summer's day?\n",
      "Thou art more lovely and more temperate.\n",
      "Rough winds do shake the darling buds of May,\n",
      "And summer's lease hath all too short a date.\n",
      "SomeZime too hot the eye of Yeaven shines,\n",
      "And often is his gold complexion dimmed;\n",
      "And every fair from fair sometime declines,\n",
      "By chance, or nature's changing course, untrimmed;\n"
     ]
    }
   ],
   "source": [
    "# Need to swap out characters that are not recognised by Python such as invalid quotation marks\n",
    "transl_table = dict( [ (ord(x), ord(y)) for x,y in zip( u\"‘’´“”–-\",  u\"'''\\\"\\\"--\") ] ) \n",
    "translatedInput=rawInput.translate(transl_table)\n",
    "print(translatedInput)"
   ]
  },
  {
   "cell_type": "code",
   "execution_count": 6,
   "metadata": {},
   "outputs": [
    {
     "name": "stdout",
     "output_type": "stream",
     "text": [
      "['S', 'h', 'a', 'l', 'l', ' ', 'I', ' ', 'c', 'o', 'm', 'p', 'a', 'r', 'e', ' ', 't', 'h', 'e', 'e', ' ', 't', 'o', ' ', 'a', ' ', 's', 'u', 'm', 'm', 'e', 'r', \"'\", 's', ' ', 'd', 'a', 'y', '?', '\\n', 'T', 'h', 'o', 'u', ' ', 'a', 'r', 't', ' ', 'm', 'o', 'r', 'e', ' ', 'l', 'o', 'v', 'e', 'l', 'y', ' ', 'a', 'n', 'd', ' ', 'm', 'o', 'r', 'e', ' ', 't', 'e', 'm', 'p', 'e', 'r', 'a', 't', 'e', '.', '\\n', 'R', 'o', 'u', 'g', 'h', ' ', 'w', 'i', 'n', 'd', 's', ' ', 'd', 'o', ' ', 's', 'h', 'a', 'k', 'e', ' ', 't', 'h', 'e', ' ', 'd', 'a', 'r', 'l', 'i', 'n', 'g', ' ', 'b', 'u', 'd', 's', ' ', 'o', 'f', ' ', 'M', 'a', 'y', ',', '\\n', 'A', 'n', 'd', ' ', 's', 'u', 'm', 'm', 'e', 'r', \"'\", 's', ' ', 'l', 'e', 'a', 's', 'e', ' ', 'h', 'a', 't', 'h', ' ', 'a', 'l', 'l', ' ', 't', 'o', 'o', ' ', 's', 'h', 'o', 'r', 't', ' ', 'a', ' ', 'd', 'a', 't', 'e', '.', '\\n', 'S', 'o', 'm', 'e', 't', 'i', 'm', 'e', ' ', 't', 'o', 'o', ' ', 'h', 'o', 't', ' ', 't', 'h', 'e', ' ', 'e', 'y', 'e', ' ', 'o', 'f', ' ', 'h', 'e', 'a', 'v', 'e', 'n', ' ', 's', 'h', 'i', 'n', 'e', 's', ',', '\\n', 'A', 'n', 'd', ' ', 'o', 'f', 't', 'e', 'n', ' ', 'i', 's', ' ', 'h', 'i', 's', ' ', 'g', 'o', 'l', 'd', ' ', 'c', 'o', 'm', 'p', 'l', 'e', 'x', 'i', 'o', 'n', ' ', 'd', 'i', 'm', 'm', 'e', 'd', ';', '\\n', 'A', 'n', 'd', ' ', 'e', 'v', 'e', 'r', 'y', ' ', 'f', 'a', 'i', 'r', ' ', 'f', 'r', 'o', 'm', ' ', 'f', 'a', 'i', 'r', ' ', 's', 'o', 'm', 'e', 't', 'i', 'm', 'e', ' ', 'd', 'e', 'c', 'l', 'i', 'n', 'e', 's', ',', '\\n', 'B', 'y', ' ', 'c', 'h', 'a', 'n', 'c', 'e', ',', ' ', 'o', 'r', ' ', 'n', 'a', 't', 'u', 'r', 'e', \"'\", 's', ' ', 'c', 'h', 'a', 'n', 'g', 'i', 'n', 'g', ' ', 'c', 'o', 'u', 'r', 's', 'e', ',', ' ', 'u', 'n', 't', 'r', 'i', 'm', 'm', 'e', 'd', ';', '\\n', 'B', 'u', 't', ' ', 't', 'h', 'y', ' ', 'e', 't', 'e', 'r', 'n', 'a', 'l', ' ', 's', 'u', 'm', 'm', 'e', 'r', ' ', 's', 'h', 'a', 'l', 'l', ' ', 'n', 'o', 't', ' ', 'f', 'a', 'd', 'e', ',', '\\n', 'N', 'o', 'r', ' ', 'l', 'o', 's', 'e', ' ', 'p', 'o', 's', 's', 'e', 's', 's', 'i', 'o', 'n', ' ', 'o', 'f', ' ', 't', 'h', 'a', 't', ' ', 'f', 'a', 'i', 'r', ' ', 't', 'h', 'o', 'u', ' ', 'o', 'w', \"'\", 's', 't', ',', '\\n', 'N', 'o', 'r', ' ', 's', 'h', 'a', 'l', 'l', ' ', 'd', 'e', 'a', 't', 'h', ' ', 'b', 'r', 'a', 'g', ' ', 't', 'h', 'o', 'u', ' ', 'w', 'a', 'n', 'd', \"'\", 'r', 'e', 's', 't', ' ', 'i', 'n', ' ', 'h', 'i', 's', ' ', 's', 'h', 'a', 'd', 'e', ',', '\\n', 'W', 'h', 'e', 'n', ' ', 'i', 'n', ' ', 'e', 't', 'e', 'r', 'n', 'a', 'l', ' ', 'l', 'i', 'n', 'e', 's', ' ', 't', 'o', ' ', 'T', 'i', 'm', 'e', ' ', 't', 'h', 'o', 'u', ' ', 'g', 'r', 'o', 'w', \"'\", 's', 't', '.', '\\n', 'S', 'o', ' ', 'l', 'o', 'n', 'g', ' ', 'a', 's', ' ', 'm', 'e', 'n', ' ', 'c', 'a', 'n', ' ', 'b', 'r', 'e', 'a', 't', 'h', 'e', ',', ' ', 'o', 'r', ' ', 'e', 'y', 'e', 's', ' ', 'c', 'a', 'n', ' ', 's', 'e', 'e', ',', '\\n', 'S', 'o', ' ', 'l', 'o', 'n', 'g', ' ', 'l', 'i', 'v', 'e', 's', ' ', 't', 'h', 'i', 's', ',', ' ', 'a', 'n', 'd', ' ', 't', 'h', 'i', 's', ' ', 'g', 'i', 'v', 'e', 's', ' ', 'l', 'i', 'f', 'e', ' ', 't', 'o', ' ', 't', 'h', 'e', 'e', '.', '\\n', 'S', 'h', 'a', 'l', 'l', ' ', 'I', ' ', 'c', 'o', 'm', 'p', 'a', 'r', 'e', ' ', 't', 'h', 'e', 'e', ' ', 't', 'o', ' ', 'a', ' ', 's', 'u', 'm', 'm', 'e', 'r', \"'\", 's', ' ', 'd', 'a', 'y', '?', '\\n', 'T', 'h', 'o', 'u', ' ', 'a', 'r', 't', ' ', 'm', 'o', 'r', 'e', ' ', 'l', 'o', 'v', 'e', 'l', 'y', ' ', 'a', 'n', 'd', ' ', 'm', 'o', 'r', 'e', ' ', 't', 'e', 'm', 'p', 'e', 'r', 'a', 't', 'e', '.', '\\n', 'R', 'o', 'u', 'g', 'h', ' ', 'w', 'i', 'n', 'd', 's', ' ', 'd', 'o', ' ', 's', 'h', 'a', 'k', 'e', ' ', 't', 'h', 'e', ' ', 'd', 'a', 'r', 'l', 'i', 'n', 'g', ' ', 'b', 'u', 'd', 's', ' ', 'o', 'f', ' ', 'M', 'a', 'y', ',', '\\n', 'A', 'n', 'd', ' ', 's', 'u', 'm', 'm', 'e', 'r', \"'\", 's', ' ', 'l', 'e', 'a', 's', 'e', ' ', 'h', 'a', 't', 'h', ' ', 'a', 'l', 'l', ' ', 't', 'o', 'o', ' ', 's', 'h', 'o', 'r', 't', ' ', 'a', ' ', 'd', 'a', 't', 'e', '.', '\\n', 'S', 'o', 'm', 'e', 't', 'i', 'm', 'e', ' ', 't', 'o', 'o', ' ', 'h', 'o', 't', ' ', 't', 'h', 'e', ' ', 'e', 'y', 'e', ' ', 'o', 'f', ' ', 'h', 'e', 'a', 'v', 'e', 'n', ' ', 's', 'h', 'i', 'n', 'e', 's', ',', '\\n', 'A', 'n', 'd', ' ', 'o', 'f', 't', 'e', 'n', ' ', 'i', 's', ' ', 'h', 'i', 's', ' ', 'g', 'o', 'l', 'd', ' ', 'c', 'o', 'm', 'p', 'l', 'e', 'x', 'i', 'o', 'n', ' ', 'd', 'i', 'm', 'm', 'e', 'd', ';', '\\n', 'A', 'n', 'd', ' ', 'e', 'v', 'e', 'r', 'y', ' ', 'f', 'a', 'i', 'r', ' ', 'f', 'r', 'o', 'm', ' ', 'f', 'a', 'i', 'r', ' ', 's', 'o', 'm', 'e', 't', 'i', 'm', 'e', ' ', 'd', 'e', 'c', 'l', 'i', 'n', 'e', 's', ',', '\\n', 'B', 'y', ' ', 'c', 'h', 'a', 'n', 'c', 'e', ',', ' ', 'o', 'r', ' ', 'n', 'a', 't', 'u', 'r', 'e', \"'\", 's', ' ', 'c', 'h', 'a', 'n', 'g', 'i', 'n', 'g', ' ', 'c', 'o', 'u', 'r', 's', 'e', ',', ' ', 'u', 'n', 't', 'r', 'i', 'm', 'm', 'e', 'd', ';', '\\n', 'S', 'h', 'a', 'l', 'l', ' ', 'I', ' ', 'c', 'o', 'm', 'p', 'a', 'r', 'e', ' ', 't', 'h', 'e', 'e', ' ', 't', 'o', ' ', 'a', ' ', 's', 'u', 'm', 'm', 'e', 'r', \"'\", 's', ' ', 'd', 'a', 'y', '?', '\\n', 'T', 'h', 'o', 'u', ' ', 'a', 'r', 't', ' ', 'm', 'o', 'r', 'e', ' ', 'l', 'o', 'v', 'e', 'l', 'y', ' ', 'a', 'n', 'd', ' ', 'm', 'o', 'r', 'e', ' ', 't', 'e', 'm', 'p', 'e', 'r', 'a', 't', 'e', '.', '\\n', 'R', 'o', 'u', 'g', 'h', ' ', 'w', 'i', 'n', 'd', 's', ' ', 'd', 'o', ' ', 's', 'h', 'a', 'k', 'e', ' ', 't', 'h', 'e', ' ', 'd', 'a', 'r', 'l', 'i', 'n', 'g', ' ', 'b', 'u', 'd', 's', ' ', 'o', 'f', ' ', 'M', 'a', 'y', ',', '\\n', 'A', 'n', 'd', ' ', 's', 'u', 'm', 'm', 'e', 'r', \"'\", 's', ' ', 'l', 'e', 'a', 's', 'e', ' ', 'h', 'a', 't', 'h', ' ', 'a', 'l', 'l', ' ', 't', 'o', 'o', ' ', 's', 'h', 'o', 'r', 't', ' ', 'a', ' ', 'd', 'a', 't', 'e', '.', '\\n', 'S', 'o', 'm', 'e', 't', 'i', 'm', 'e', ' ', 't', 'o', 'o', ' ', 'h', 'o', 't', ' ', 't', 'h', 'e', ' ', 'e', 'y', 'e', ' ', 'o', 'f', ' ', 'h', 'e', 'a', 'v', 'e', 'n', ' ', 's', 'h', 'i', 'n', 'e', 's', ',', '\\n', 'A', 'n', 'd', ' ', 'o', 'f', 't', 'e', 'n', ' ', 'i', 's', ' ', 'h', 'i', 's', ' ', 'g', 'o', 'l', 'd', ' ', 'c', 'o', 'm', 'p', 'l', 'e', 'x', 'i', 'o', 'n', ' ', 'd', 'i', 'm', 'm', 'e', 'd', ';', '\\n', 'A', 'n', 'd', ' ', 'e', 'v', 'e', 'r', 'y', ' ', 'f', 'a', 'i', 'r', ' ', 'f', 'r', 'o', 'm', ' ', 'f', 'a', 'i', 'r', ' ', 's', 'o', 'm', 'e', 't', 'i', 'm', 'e', ' ', 'd', 'e', 'c', 'l', 'i', 'n', 'e', 's', ',', '\\n', 'B', 'y', ' ', 'c', 'h', 'a', 'n', 'c', 'e', ',', ' ', 'o', 'r', ' ', 'n', 'a', 't', 'u', 'r', 'e', \"'\", 's', ' ', 'c', 'h', 'a', 'n', 'g', 'i', 'n', 'g', ' ', 'c', 'o', 'u', 'r', 's', 'e', ',', ' ', 'u', 'n', 't', 'r', 'i', 'm', 'm', 'e', 'd', ';', '\\n', 'B', 'u', 't', ' ', 't', 'h', 'y', ' ', 'e', 't', 'e', 'r', 'n', 'a', 'l', ' ', 's', 'u', 'm', 'm', 'e', 'r', ' ', 's', 'h', 'a', 'l', 'l', ' ', 'n', 'o', 't', ' ', 'f', 'a', 'd', 'e', ',', '\\n', 'N', 'o', 'r', ' ', 'l', 'o', 's', 'e', ' ', 'p', 'o', 's', 's', 'e', 's', 's', 'i', 'o', 'n', ' ', 'o', 'f', ' ', 't', 'h', 'a', 't', ' ', 'f', 'a', 'i', 'r', ' ', 't', 'h', 'o', 'u', ' ', 'o', 'w', \"'\", 's', 't', ',', '\\n', 'N', 'o', 'r', ' ', 's', 'h', 'a', 'l', 'l', ' ', 'd', 'e', 'a', 't', 'h', ' ', 'b', 'r', 'a', 'g', ' ', 't', 'h', 'o', 'u', ' ', 'w', 'a', 'n', 'd', \"'\", 'r', 'e', 's', 't', ' ', 'i', 'n', ' ', 'h', 'i', 's', ' ', 's', 'h', 'a', 'd', 'e', ',', '\\n', 'W', 'h', 'e', 'n', ' ', 'i', 'n', ' ', 'e', 't', 'e', 'r', 'n', 'a', 'l', ' ', 'l', 'i', 'n', 'e', 's', ' ', 't', 'o', ' ', 'T', 'i', 'm', 'e', ' ', 't', 'h', 'o', 'u', ' ', 'g', 'r', 'o', 'w', \"'\", 's', 't', '.', '\\n', 'S', 'o', ' ', 'l', 'o', 'n', 'g', ' ', 'a', 's', ' ', 'm', 'e', 'n', ' ', 'c', 'a', 'n', ' ', 'b', 'r', 'e', 'a', 't', 'h', 'e', ',', ' ', 'o', 'r', ' ', 'e', 'y', 'e', 's', ' ', 'c', 'a', 'n', ' ', 's', 'e', 'e', ',', '\\n', 'S', 'o', ' ', 'l', 'o', 'n', 'g', ' ', 'l', 'i', 'v', 'e', 's', ' ', 't', 'h', 'i', 's', ',', ' ', 'a', 'n', 'd', ' ', 't', 'h', 'i', 's', ' ', 'g', 'i', 'v', 'e', 's', ' ', 'l', 'i', 'f', 'e', ' ', 't', 'o', ' ', 't', 'h', 'e', 'e', '.', '\\n', 'S', 'h', 'a', 'l', 'l', ' ', 'I', ' ', 'c', 'o', 'm', 'p', 'a', 'r', 'e', ' ', 't', 'h', 'e', 'e', ' ', 't', 'o', ' ', 'a', ' ', 's', 'u', 'm', 'm', 'e', 'r', \"'\", 's', ' ', 'd', 'a', 'y', '?', '\\n', 'T', 'h', 'o', 'u', ' ', 'a', 'r', 't', ' ', 'm', 'o', 'r', 'e', ' ', 'l', 'o', 'v', 'e', 'l', 'y', ' ', 'a', 'n', 'd', ' ', 'm', 'o', 'r', 'e', ' ', 't', 'e', 'm', 'p', 'e', 'r', 'a', 't', 'e', '.', '\\n', 'R', 'o', 'u', 'g', 'h', ' ', 'w', 'i', 'n', 'd', 's', ' ', 'd', 'o', ' ', 's', 'h', 'a', 'k', 'e', ' ', 't', 'h', 'e', ' ', 'd', 'a', 'r', 'l', 'i', 'n', 'g', ' ', 'b', 'u', 'd', 's', ' ', 'o', 'f', ' ', 'M', 'a', 'y', ',', '\\n', 'A', 'n', 'd', ' ', 's', 'u', 'm', 'm', 'e', 'r', \"'\", 's', ' ', 'l', 'e', 'a', 's', 'e', ' ', 'h', 'a', 't', 'h', ' ', 'a', 'l', 'l', ' ', 't', 'o', 'o', ' ', 's', 'h', 'o', 'r', 't', ' ', 'a', ' ', 'd', 'a', 't', 'e', '.', '\\n', 'S', 'o', 'm', 'e', 'Z', 'i', 'm', 'e', ' ', 't', 'o', 'o', ' ', 'h', 'o', 't', ' ', 't', 'h', 'e', ' ', 'e', 'y', 'e', ' ', 'o', 'f', ' ', 'Y', 'e', 'a', 'v', 'e', 'n', ' ', 's', 'h', 'i', 'n', 'e', 's', ',', '\\n', 'A', 'n', 'd', ' ', 'o', 'f', 't', 'e', 'n', ' ', 'i', 's', ' ', 'h', 'i', 's', ' ', 'g', 'o', 'l', 'd', ' ', 'c', 'o', 'm', 'p', 'l', 'e', 'x', 'i', 'o', 'n', ' ', 'd', 'i', 'm', 'm', 'e', 'd', ';', '\\n', 'A', 'n', 'd', ' ', 'e', 'v', 'e', 'r', 'y', ' ', 'f', 'a', 'i', 'r', ' ', 'f', 'r', 'o', 'm', ' ', 'f', 'a', 'i', 'r', ' ', 's', 'o', 'm', 'e', 't', 'i', 'm', 'e', ' ', 'd', 'e', 'c', 'l', 'i', 'n', 'e', 's', ',', '\\n', 'B', 'y', ' ', 'c', 'h', 'a', 'n', 'c', 'e', ',', ' ', 'o', 'r', ' ', 'n', 'a', 't', 'u', 'r', 'e', \"'\", 's', ' ', 'c', 'h', 'a', 'n', 'g', 'i', 'n', 'g', ' ', 'c', 'o', 'u', 'r', 's', 'e', ',', ' ', 'u', 'n', 't', 'r', 'i', 'm', 'm', 'e', 'd', ';']\n"
     ]
    }
   ],
   "source": [
    "# Break down the phrase into a list of each indivdual character. \n",
    "phrase=list(translatedInput)\n",
    "print(phrase)"
   ]
  },
  {
   "cell_type": "code",
   "execution_count": 151,
   "metadata": {},
   "outputs": [],
   "source": [
    "# 6 Required\n",
    "a=\"The quick brown fox jumped over the lazy dog. THE QUICK BROWN DOG JUMPED OVER THE LAZY FOX\"\n",
    "phrase=list(a)"
   ]
  },
  {
   "cell_type": "code",
   "execution_count": 147,
   "metadata": {},
   "outputs": [],
   "source": [
    "# 3 Required\n",
    "a=\"The quick brown fox jumped over the lazy dog.\"\n",
    "phrase=list(a)"
   ]
  },
  {
   "cell_type": "code",
   "execution_count": 24,
   "metadata": {},
   "outputs": [
    {
     "name": "stdout",
     "output_type": "stream",
     "text": [
      "1951\n",
      "130.06666666666666\n"
     ]
    }
   ],
   "source": [
    "b = len(phrase)\n",
    "print(b)\n",
    "c=(b*8)/120\n",
    "\n",
    "print(c)"
   ]
  },
  {
   "cell_type": "markdown",
   "metadata": {},
   "source": [
    "# Stage I\n",
    "## Convert phrase into a list of DNA fragments no longer than 120 nucleotide bases long"
   ]
  },
  {
   "cell_type": "code",
   "execution_count": 18,
   "metadata": {},
   "outputs": [],
   "source": [
    "nucleotideFragments=[]\n",
    "usedCodes=[]\n",
    "nucleotideFragmentsDict={}\n",
    "nucleotideFragmentsDictLong={}\n",
    "\n",
    "nucleotideSequence=\"\"\n",
    "uniqueAddresses=[]\n",
    "\n",
    "counter=0\n",
    "# Determine the rough number of nucleotides required\n",
    "lengthOfPhrase=len(phrase)\n",
    "# maximumFragments=(lengthOfPhrase*8)/120\n",
    "\n",
    "# Determine Address Coding Strategy\n",
    "# addressCodes=codingStrategy(maximumFragments)\n",
    "# addressCounter=0\n",
    "\n",
    "\n",
    "for index, letter  in enumerate(phrase):\n",
    "\n",
    "    nextCode=get_QUAT_NUCLEOTIDES(ASCII_List_Raw,letter)\n",
    "    \n",
    "    # Use this in future if we can't handle a symbol\n",
    "    if (nextCode)==True:\n",
    "#         print(nextCode)\n",
    "        continue\n",
    "    \n",
    "    if len(nucleotideSequence)+len(nextCode)<=120:\n",
    "        \n",
    "        nucleotideSequence=nucleotideSequence+nextCode\n",
    "        usedCodes.append(nextCode)\n",
    "        if index==lengthOfPhrase-1:    \n",
    "            nucleotideFragments.append(nucleotideSequence)\n",
    "            nucleotideFragmentsDict[counter]=nucleotideSequence\n",
    "            nucleotideFragmentsDictLong[counter]=usedCodes\n",
    "            usedCodes=[]\n",
    "            counter+=1\n",
    "            \n",
    "    else:\n",
    "        nucleotideFragments.append(nucleotideSequence)     \n",
    "        \n",
    "        nucleotideFragmentsDict[counter]=nucleotideSequence\n",
    "        nucleotideFragmentsDictLong[counter]=usedCodes\n",
    "        counter+=1\n",
    "        \n",
    "        usedCodes=[]\n",
    "        usedCodes.append(nextCode)\n",
    "        \n",
    "        nucleotideSequence=\"\"\n",
    "        nucleotideSequence=nucleotideSequence+nextCode\n",
    "    \n",
    " \n",
    "    \n",
    "    \n"
   ]
  },
  {
   "cell_type": "markdown",
   "metadata": {},
   "source": [
    "## Output Stage I"
   ]
  },
  {
   "cell_type": "code",
   "execution_count": 19,
   "metadata": {},
   "outputs": [
    {
     "name": "stdout",
     "output_type": "stream",
     "text": [
      "\n",
      "\n",
      "0 GACTTGCACGCGAGCTTAGCTTACACGGTGACACGGCGCCGCTTCGGCTTCGCCGTGCGAGCCGCGCTCCACGGCCTAGCACGCTCGCTCCACGGCCTAGCTTCGCACGGCGACACG\n",
      "1 GCCGCCGCCTCGCTTCGCTTCGCTCGCCGCCAGCCGCCGCCCACGGCTAGCGAGCCAGCTTCGCCCGCAGAGTGCACGCTTCGGCCTCCACGGCGAGCCGCGCCTACACGGCTTC\n",
      "2 GCTTCGGCCGCGCTCCACGGCTTAGCTTCGGCCTGGCTCGCTTAGCCAGCACGGCGAGCTTGGCTACACGGCTTCGCTTCGGCCGCGCTCCACGGCCTAGCTCGCTTCGCCGTGCTC\n",
      "3 GCCGCGCGAGCCTAGCTCCAGGCCGCAGACAGCTTCGGCCTCGCTCGGCACCACGGCCTCGGCAGGCTTGGCTAGCCGCCCACGGCTAGCTTCGCACGGCCGCCGCACGCGAGCAGG\n",
      "4 GCTCCACGGCCTAGCACGCTCCACGGCTAGCGAGCCGCGCTTAGCAGGCTTGGCTCGCACGGCGCGCCTCGCTAGCCGCCCACGGCTTCGGCTGCACGGTCGAGCGAGCCAGCAGGT\n",
      "5 CGCAGTAGGCTTGGCTACACGGCCGCCGCCTCGCTTCGCTTCGCTCGCCGCCAGCCGCCGCCCACGGCTTAGCTCGCGAGCCGCCGCTCCACGGCACGCGAGCCTAGCACCACGGCGA\n",
      "6 GCTTAGCTTACACGGCCTAGCTTCGGCTTCGCACGGCCGCCGCACGCTTCGGCCGCGCCTACACGGCGACACGGCTAGCGAGCCTAGCTCCAGGCCGCAGACTTGCTTCGGCTTCGCTC\n",
      "7 GCCTAGCAGGCTTCGCTCCACGGCCTAGCTTCGGCTTCGCACGGCACGCTTCGGCCTACACGGCCTAGCACGCTCCACGGCTCGCCAGGCTCCACGGCTTCGGCTGCACGGCACGCTC\n",
      "8 GCGAGCCTGGCTCGCTTGCACGGCCGCCGCACGCAGGCTTGGCTCGCCGCCCAGGTCGCAGTAGGCTTGGCTACACGGCTTCGGCTGGCCTAGCTCGCTTGCACGGCAGGCCGCCCACG\n",
      "9 GCACGCAGGCCGCCCACGGCTCGGCTTCGGCTTAGCTACACGGCGCCGCTTCGGCTTCGCCGTGCTTAGCTCGCCACGCAGGCTTCGGCTTGCACGGCTAGCAGGCTTCGCTTCGCTC\n",
      "10 GCTACTTGCCCGCAGTAGGCTTGGCTACACGGCTCGCCTGGCTCGCCGCGCCAGCACGGCTGGCGAGCAGGCCGCCACGGCTGGCCGCGCTTCGGCTTCCACGGCTGGCGAGCAGGCCGC\n",
      "11 CACGGCCGCCGCTTCGGCTTCGCTCGCCTAGCAGGCTTCGCTCCACGGCTAGCTCGCGCCGCTTAGCAGGCTTGGCTCGCCGCCCAGGTCGCAGTATGCCAGCACGGCGCCGCACGCGA\n",
      "12 GCTTGGCGCCGCTCCAGGTCACGGCTTCGGCCGCCACGGCTTGGCGAGCCTAGCCTCGCCGCGCTCCAGCCGCCGCCCACGGCGCCGCACGCGAGCTTGGCTCGGCAGGCTTGGCTCG\n",
      "13 CACGGCGCCGCTTCGGCCTCGCCGCGCCGCCGCTCCAGGTCACGGCCTCGCTTGGCCTAGCCGCGCAGGCTTCGCTTCGCTCGCTACTTGCCCGCAGTATGCCTCGCCTACACGGCCTA\n",
      "14 GCACGCCAGCACGGCTCGCCTAGCTCGCCGCGCTTGGCGAGCTTACACGGCCGCCGCCTCGCTTCGCTTCGCTCGCCGCCACGGCCGCCGCACGCGAGCTTAGCTTACACGGCTTG\n",
      "15 GCTTCGGCCTACACGGCTGGCGAGCTAGCTCCAGGTCGCAGTCGCGCTTCGGCCGCCACGGCTTAGCTTCGGCCGCCGCTCCACGGCCGTGCTTCGGCCGCCGCCGCCGCTCGCCGCC\n",
      "16 GCCGCCGCAGGCTTCGGCTTGCACGGCTTCGGCTGCACGGCCTAGCACGCGAGCCTACACGGCTGGCGAGCAGGCCGCCACGGCCTAGCACGCTTCGGCCTCCACGGCTTCGGCCTCG\n",
      "17 CAGCCGCCGCCGCCTACAGGTCGCAGTCGCGCTTCGGCCGCCACGGCCGCCGCACGCGAGCTTAGCTTACACGGCTAGCTCGCGAGCCTAGCACCACGGCGCGCCGCGCGAGCTCGCACG\n",
      "18 GCCTAGCACGCTTCGGCCTCCACGGCCTCGGCGAGCTTGGCTACAGCCGCCGCGCTCGCCGCCGCCTACACGGCAGGCTTGCACGGCACGCAGGCCGCCCACGGCCGCCGCACGCGA\n",
      "19 GCTAGCTCCAGGTCGCAGAGCCGCACGCTCGCTTGCACGGCAGGCTTGCACGGCTCGCCTAGCTCGCCGCGCTTGGCGAGCTTACACGGCTTAGCAGGCTTGGCTCGCCGCCCACG\n",
      "20 GCCTAGCTTCGCACGGAGTGCAGGCTTCGCTCCACGGCCTAGCACGCTTCGGCCTCCACGGCTCGGCCGCGCTTCGGCCTCGCAGCCGCCGCCGCCTACAGGCCGCAGACTTGCTTCG\n",
      "21 CACGGCTTAGCTTCGGCTTGGCTCGCACGGCGAGCCGCCCACGGCTTCGCTCGCTTGCACGGCGCCGCGAGCTTGCACGGCGCGCCGCGCTCGCGAGCCTAGCACGCTCCAGGTCACG\n",
      "22 GCTTCGGCCGCCACGGCTCGCCAGGCTCGCCGCCCACGGCGCCGCGAGCTTGCACGGCCGCCGCTCGCTCCAGGTCGCAGACTTGCTTCGCACGGCTTAGCTTCGGCTTGGCTCGCACG\n",
      "23 GCTTAGCAGGCCTGGCTCGCCGCCCACGGCCTAGCACGCAGGCCGCCCAGGTCACGGCGAGCTTGGCTACACGGCCTAGCACGCAGGCCGCCCACGGCTCGGCAGGCCTGGCTCGCCGCC\n",
      "24 CACGGCTTAGCAGGCTGGCTCCACGGCCTAGCTTCGCACGGCCTAGCACGCTCGCTCCAGGCCGCAGACTTGCACGCGAGCTTAGCTTACACGGTGACACGGCGCCGCTTCGGCTTC\n",
      "25 GCCGTGCGAGCCGCGCTCCACGGCCTAGCACGCTCGCTCCACGGCCTAGCTTCGCACGGCGACACGGCCGCCGCCTCGCTTCGCTTCGCTCGCCGCCAGCCGCCGCCCACGGCTAGCGA\n",
      "26 GCCAGCTTCGCCCGCAGAGTGCACGCTTCGGCCTCCACGGCGAGCCGCGCCTACACGGCTTCGCTTCGGCCGCGCTCCACGGCTTAGCTTCGGCCTGGCTCGCTTAGCCAGCACGGCGA\n",
      "27 GCTTGGCTACACGGCTTCGCTTCGGCCGCGCTCCACGGCCTAGCTCGCTTCGCCGTGCTCGCCGCGCGAGCCTAGCTCCAGGCCGCAGACAGCTTCGGCCTCGCTCGGCACCACG\n",
      "28 GCCTCGGCAGGCTTGGCTAGCCGCCCACGGCTAGCTTCGCACGGCCGCCGCACGCGAGCAGGGCTCCACGGCCTAGCACGCTCCACGGCTAGCGAGCCGCGCTTAGCAGGCTTGGCTCG\n",
      "29 CACGGCGCGCCTCGCTAGCCGCCCACGGCTTCGGCTGCACGGTCGAGCGAGCCAGCAGGTCGCAGTAGGCTTGGCTACACGGCCGCCGCCTCGCTTCGCTTCGCTCGCCGCCAGCC\n",
      "30 GCCGCCCACGGCTTAGCTCGCGAGCCGCCGCTCCACGGCACGCGAGCCTAGCACCACGGCGAGCTTAGCTTACACGGCCTAGCTTCGGCTTCGCACGGCCGCCGCACGCTTCGGCCGC\n",
      "31 GCCTACACGGCGACACGGCTAGCGAGCCTAGCTCCAGGCCGCAGACTTGCTTCGGCTTCGCTCGCCTAGCAGGCTTCGCTCCACGGCCTAGCTTCGGCTTCGCACGGCACGCTTCG\n",
      "32 GCCTACACGGCCTAGCACGCTCCACGGCTCGCCAGGCTCCACGGCTTCGGCTGCACGGCACGCTCGCGAGCCTGGCTCGCTTGCACGGCCGCCGCACGCAGGCTTGGCTCGCCGCC\n",
      "33 CAGGTCGCAGTAGGCTTGGCTACACGGCTTCGGCTGGCCTAGCTCGCTTGCACGGCAGGCCGCCCACGGCACGCAGGCCGCCCACGGCTCGGCTTCGGCTTAGCTACACGGCGCC\n",
      "34 GCTTCGGCTTCGCCGTGCTTAGCTCGCCACGCAGGCTTCGGCTTGCACGGCTAGCAGGCTTCGCTTCGCTCGCTACTTGCCCGCAGTAGGCTTGGCTACACGGCTCGCCTGGCTCGCCGC\n",
      "35 GCCAGCACGGCTGGCGAGCAGGCCGCCACGGCTGGCCGCGCTTCGGCTTCCACGGCTGGCGAGCAGGCCGCCACGGCCGCCGCTTCGGCTTCGCTCGCCTAGCAGGCTTCGCTCCACG\n",
      "36 GCTAGCTCGCGCCGCTTAGCAGGCTTGGCTCGCCGCCCAGGTCGCAGTATGCCAGCACGGCGCCGCACGCGAGCTTGGCGCCGCTCCAGGTCACGGCTTCGGCCGCCACGGCTTGGCGA\n",
      "37 GCCTAGCCTCGCCGCGCTCCAGCCGCCGCCCACGGCGCCGCACGCGAGCTTGGCTCGGCAGGCTTGGCTCGCACGGCGCCGCTTCGGCCTCGCCGCGCCGCCGCTCCAGGTCACGGCCTC\n",
      "38 GCTTGGCCTAGCCGCGCAGGCTTCGCTTCGCTCGCTACTTGCCCGCAGACTTGCACGCGAGCTTAGCTTACACGGTGACACGGCGCCGCTTCGGCTTCGCCGTGCGAGCCGCGCTCCACG\n",
      "39 GCCTAGCACGCTCGCTCCACGGCCTAGCTTCGCACGGCGACACGGCCGCCGCCTCGCTTCGCTTCGCTCGCCGCCAGCCGCCGCCCACGGCTAGCGAGCCAGCTTCGCCCGCAGAGT\n",
      "40 GCACGCTTCGGCCTCCACGGCGAGCCGCGCCTACACGGCTTCGCTTCGGCCGCGCTCCACGGCTTAGCTTCGGCCTGGCTCGCTTAGCCAGCACGGCGAGCTTGGCTACACGGCTTC\n",
      "41 GCTTCGGCCGCGCTCCACGGCCTAGCTCGCTTCGCCGTGCTCGCCGCGCGAGCCTAGCTCCAGGCCGCAGACAGCTTCGGCCTCGCTCGGCACCACGGCCTCGGCAGGCTTGGCTA\n",
      "42 GCCGCCCACGGCTAGCTTCGCACGGCCGCCGCACGCGAGCAGGGCTCCACGGCCTAGCACGCTCCACGGCTAGCGAGCCGCGCTTAGCAGGCTTGGCTCGCACGGCGCGCCTCGCTA\n",
      "43 GCCGCCCACGGCTTCGGCTGCACGGTCGAGCGAGCCAGCAGGTCGCAGTAGGCTTGGCTACACGGCCGCCGCCTCGCTTCGCTTCGCTCGCCGCCAGCCGCCGCCCACGGCTTAGCTC\n",
      "44 GCGAGCCGCCGCTCCACGGCACGCGAGCCTAGCACCACGGCGAGCTTAGCTTACACGGCCTAGCTTCGGCTTCGCACGGCCGCCGCACGCTTCGGCCGCGCCTACACGGCGACACGGCTA\n",
      "45 GCGAGCCTAGCTCCAGGCCGCAGACTTGCTTCGGCTTCGCTCGCCTAGCAGGCTTCGCTCCACGGCCTAGCTTCGGCTTCGCACGGCACGCTTCGGCCTACACGGCCTAGCACGCTC\n",
      "46 CACGGCTCGCCAGGCTCCACGGCTTCGGCTGCACGGCACGCTCGCGAGCCTGGCTCGCTTGCACGGCCGCCGCACGCAGGCTTGGCTCGCCGCCCAGGTCGCAGTAGGCTTGGCTACACG\n",
      "47 GCTTCGGCTGGCCTAGCTCGCTTGCACGGCAGGCCGCCCACGGCACGCAGGCCGCCCACGGCTCGGCTTCGGCTTAGCTACACGGCGCCGCTTCGGCTTCGCCGTGCTTAGCTCGCCAC\n",
      "48 GCAGGCTTCGGCTTGCACGGCTAGCAGGCTTCGCTTCGCTCGCTACTTGCCCGCAGTAGGCTTGGCTACACGGCTCGCCTGGCTCGCCGCGCCAGCACGGCTGGCGAGCAGGCCGCCACG\n",
      "49 GCTGGCCGCGCTTCGGCTTCCACGGCTGGCGAGCAGGCCGCCACGGCCGCCGCTTCGGCTTCGCTCGCCTAGCAGGCTTCGCTCCACGGCTAGCTCGCGCCGCTTAGCAGGCTTGGCTC\n",
      "50 GCCGCCCAGGTCGCAGTATGCCAGCACGGCGCCGCACGCGAGCTTGGCGCCGCTCCAGGTCACGGCTTCGGCCGCCACGGCTTGGCGAGCCTAGCCTCGCCGCGCTCCAGCCGCCGCC\n",
      "51 CACGGCGCCGCACGCGAGCTTGGCTCGGCAGGCTTGGCTCGCACGGCGCCGCTTCGGCCTCGCCGCGCCGCCGCTCCAGGTCACGGCCTCGCTTGGCCTAGCCGCGCAGGCTTCGCTTC\n",
      "52 GCTCGCTACTTGCCCGCAGTATGCCTCGCCTACACGGCCTAGCACGCCAGCACGGCTCGCCTAGCTCGCCGCGCTTGGCGAGCTTACACGGCCGCCGCCTCGCTTCGCTTCGCTCGCCGC\n",
      "53 CACGGCCGCCGCACGCGAGCTTAGCTTACACGGCTTGGCTTCGGCCTACACGGCTGGCGAGCTAGCTCCAGGTCGCAGTCGCGCTTCGGCCGCCACGGCTTAGCTTCGGCCGCCGCTC\n",
      "54 CACGGCCGTGCTTCGGCCGCCGCCGCCGCTCGCCGCCGCCGCCGCAGGCTTCGGCTTGCACGGCTTCGGCTGCACGGCCTAGCACGCGAGCCTACACGGCTGGCGAGCAGGCCGCCACG\n",
      "55 GCCTAGCACGCTTCGGCCTCCACGGCTTCGGCCTCGCAGCCGCCGCCGCCTACAGGTCGCAGTCGCGCTTCGGCCGCCACGGCCGCCGCACGCGAGCTTAGCTTACACGGCTAGCTC\n",
      "56 GCGAGCCTAGCACCACGGCGCGCCGCGCGAGCTCGCACGGCCTAGCACGCTTCGGCCTCCACGGCCTCGGCGAGCTTGGCTACAGCCGCCGCGCTCGCCGCCGCCTACACGGCAGGCTTG\n",
      "57 CACGGCACGCAGGCCGCCCACGGCCGCCGCACGCGAGCTAGCTCCAGGTCGCAGAGCCGCACGCTCGCTTGCACGGCAGGCTTGCACGGCTCGCCTAGCTCGCCGCGCTTGGCGAGCTTA\n",
      "58 CACGGCTTAGCAGGCTTGGCTCGCCGCCCACGGCCTAGCTTCGCACGGAGTGCAGGCTTCGCTCCACGGCCTAGCACGCTTCGGCCTCCACGGCTCGGCCGCGCTTCGGCCTCGCAGCC\n",
      "59 GCCGCCGCCTACAGGCCGCAGACTTGCTTCGCACGGCTTAGCTTCGGCTTGGCTCGCACGGCGAGCCGCCCACGGCTTCGCTCGCTTGCACGGCGCCGCGAGCTTGCACGGCGCGCCGC\n",
      "60 GCTCGCGAGCCTAGCACGCTCCAGGTCACGGCTTCGGCCGCCACGGCTCGCCAGGCTCGCCGCCCACGGCGCCGCGAGCTTGCACGGCCGCCGCTCGCTCCAGGTCGCAGACTTGCTTCG\n",
      "61 CACGGCTTAGCTTCGGCTTGGCTCGCACGGCTTAGCAGGCCTGGCTCGCCGCCCACGGCCTAGCACGCAGGCCGCCCAGGTCACGGCGAGCTTGGCTACACGGCCTAGCACGCAG\n",
      "62 GCCGCCCACGGCTCGGCAGGCCTGGCTCGCCGCCCACGGCTTAGCAGGCTGGCTCCACGGCCTAGCTTCGCACGGCCTAGCACGCTCGCTCCAGGCCGCAGACTTGCACGCGAGCTTA\n",
      "63 GCTTACACGGTGACACGGCGCCGCTTCGGCTTCGCCGTGCGAGCCGCGCTCCACGGCCTAGCACGCTCGCTCCACGGCCTAGCTTCGCACGGCGACACGGCCGCCGCCTCGCTTCGCTTC\n",
      "64 GCTCGCCGCCAGCCGCCGCCCACGGCTAGCGAGCCAGCTTCGCCCGCAGAGTGCACGCTTCGGCCTCCACGGCGAGCCGCGCCTACACGGCTTCGCTTCGGCCGCGCTCCACGGCTTA\n",
      "65 GCTTCGGCCTGGCTCGCTTAGCCAGCACGGCGAGCTTGGCTACACGGCTTCGCTTCGGCCGCGCTCCACGGCCTAGCTCGCTTCGCCGTGCTCGCCGCGCGAGCCTAGCTCCAGGCCGCA\n",
      "66 GACAGCTTCGGCCTCGCTCGGCACCACGGCCTCGGCAGGCTTGGCTAGCCGCCCACGGCTAGCTTCGCACGGCCGCCGCACGCGAGCAGGGCTCCACGGCCTAGCACGCTCCACGGCTA\n",
      "67 GCGAGCCGCGCTTAGCAGGCTTGGCTCGCACGGCGCGCCTCGCTAGCCGCCCACGGCTTCGGCTGCACGGTCGAGCGAGCCAGCAGGTCGCAGTAGGCTTGGCTACACGGCCGCCGCCTC\n",
      "68 GCTTCGCTTCGCTCGCCGCCAGCCGCCGCCCACGGCTTAGCTCGCGAGCCGCCGCTCCACGGCACGCGAGCCTAGCACCACGGCGAGCTTAGCTTACACGGCCTAGCTTCGGCTTCG\n",
      "69 CACGGCCGCCGCACGCTTCGGCCGCGCCTACACGGCGACACGGCTAGCGAGCCTAGCTCCAGGCCGCAGACTTGCTTCGGCTTCGCTCGATGGCAGGCTTCGCTCCACGGCCTAGCTTCG\n",
      "70 GCTTCGCACGGCACGCTTCGGCCTACACGGCCTAGCACGCTCCACGGCTCGCCAGGCTCCACGGCTTCGGCTGCACGGATCGCTCGCGAGCCTGGCTCGCTTGCACGGCCGCCGCAC\n",
      "71 GCAGGCTTGGCTCGCCGCCCAGGTCGCAGTAGGCTTGGCTACACGGCTTCGGCTGGCCTAGCTCGCTTGCACGGCAGGCCGCCCACGGCACGCAGGCCGCCCACGGCTCGGCTTCG\n",
      "72 GCTTAGCTACACGGCGCCGCTTCGGCTTCGCCGTGCTTAGCTCGCCACGCAGGCTTCGGCTTGCACGGCTAGCAGGCTTCGCTTCGCTCGCTACTTGCCCGCAGTAGGCTTGGCTACACG\n",
      "73 GCTCGCCTGGCTCGCCGCGCCAGCACGGCTGGCGAGCAGGCCGCCACGGCTGGCCGCGCTTCGGCTTCCACGGCTGGCGAGCAGGCCGCCACGGCCGCCGCTTCGGCTTCGCTCGCCTA\n",
      "74 GCAGGCTTCGCTCCACGGCTAGCTCGCGCCGCTTAGCAGGCTTGGCTCGCCGCCCAGGTCGCAGTATGCCAGCACGGCGCCGCACGCGAGCTTGGCGCCGCTCCAGGTCACGGCTTCG\n",
      "75 GCCGCCACGGCTTGGCGAGCCTAGCCTCGCCGCGCTCCAGCCGCCGCCCACGGCGCCGCACGCGAGCTTGGCTCGGCAGGCTTGGCTCGCACGGCGCCGCTTCGGCCTCGCCGCGCCGCC\n",
      "76 GCTCCAGGTCACGGCCTCGCTTGGCCTAGCCGCGCAGGCTTCGCTTCGCTCGCTACTTGCC\n",
      "--------------------------------\n",
      "0 : GACTTGCACGCGAGCTTAGCTTACACGGTGACACGGCGCCGCTTCGGCTTCGCCGTGCGAGCCGCGCTCCACGGCCTAGCACGCTCGCTCCACGGCCTAGCTTCGCACGGCGACACG\n",
      "1 : GCCGCCGCCTCGCTTCGCTTCGCTCGCCGCCAGCCGCCGCCCACGGCTAGCGAGCCAGCTTCGCCCGCAGAGTGCACGCTTCGGCCTCCACGGCGAGCCGCGCCTACACGGCTTC\n",
      "2 : GCTTCGGCCGCGCTCCACGGCTTAGCTTCGGCCTGGCTCGCTTAGCCAGCACGGCGAGCTTGGCTACACGGCTTCGCTTCGGCCGCGCTCCACGGCCTAGCTCGCTTCGCCGTGCTC\n",
      "3 : GCCGCGCGAGCCTAGCTCCAGGCCGCAGACAGCTTCGGCCTCGCTCGGCACCACGGCCTCGGCAGGCTTGGCTAGCCGCCCACGGCTAGCTTCGCACGGCCGCCGCACGCGAGCAGG\n",
      "4 : GCTCCACGGCCTAGCACGCTCCACGGCTAGCGAGCCGCGCTTAGCAGGCTTGGCTCGCACGGCGCGCCTCGCTAGCCGCCCACGGCTTCGGCTGCACGGTCGAGCGAGCCAGCAGGT\n",
      "5 : CGCAGTAGGCTTGGCTACACGGCCGCCGCCTCGCTTCGCTTCGCTCGCCGCCAGCCGCCGCCCACGGCTTAGCTCGCGAGCCGCCGCTCCACGGCACGCGAGCCTAGCACCACGGCGA\n",
      "6 : GCTTAGCTTACACGGCCTAGCTTCGGCTTCGCACGGCCGCCGCACGCTTCGGCCGCGCCTACACGGCGACACGGCTAGCGAGCCTAGCTCCAGGCCGCAGACTTGCTTCGGCTTCGCTC\n",
      "7 : GCCTAGCAGGCTTCGCTCCACGGCCTAGCTTCGGCTTCGCACGGCACGCTTCGGCCTACACGGCCTAGCACGCTCCACGGCTCGCCAGGCTCCACGGCTTCGGCTGCACGGCACGCTC\n",
      "8 : GCGAGCCTGGCTCGCTTGCACGGCCGCCGCACGCAGGCTTGGCTCGCCGCCCAGGTCGCAGTAGGCTTGGCTACACGGCTTCGGCTGGCCTAGCTCGCTTGCACGGCAGGCCGCCCACG\n",
      "9 : GCACGCAGGCCGCCCACGGCTCGGCTTCGGCTTAGCTACACGGCGCCGCTTCGGCTTCGCCGTGCTTAGCTCGCCACGCAGGCTTCGGCTTGCACGGCTAGCAGGCTTCGCTTCGCTC\n",
      "10 : GCTACTTGCCCGCAGTAGGCTTGGCTACACGGCTCGCCTGGCTCGCCGCGCCAGCACGGCTGGCGAGCAGGCCGCCACGGCTGGCCGCGCTTCGGCTTCCACGGCTGGCGAGCAGGCCGC\n",
      "11 : CACGGCCGCCGCTTCGGCTTCGCTCGCCTAGCAGGCTTCGCTCCACGGCTAGCTCGCGCCGCTTAGCAGGCTTGGCTCGCCGCCCAGGTCGCAGTATGCCAGCACGGCGCCGCACGCGA\n",
      "12 : GCTTGGCGCCGCTCCAGGTCACGGCTTCGGCCGCCACGGCTTGGCGAGCCTAGCCTCGCCGCGCTCCAGCCGCCGCCCACGGCGCCGCACGCGAGCTTGGCTCGGCAGGCTTGGCTCG\n",
      "13 : CACGGCGCCGCTTCGGCCTCGCCGCGCCGCCGCTCCAGGTCACGGCCTCGCTTGGCCTAGCCGCGCAGGCTTCGCTTCGCTCGCTACTTGCCCGCAGTATGCCTCGCCTACACGGCCTA\n",
      "14 : GCACGCCAGCACGGCTCGCCTAGCTCGCCGCGCTTGGCGAGCTTACACGGCCGCCGCCTCGCTTCGCTTCGCTCGCCGCCACGGCCGCCGCACGCGAGCTTAGCTTACACGGCTTG\n",
      "15 : GCTTCGGCCTACACGGCTGGCGAGCTAGCTCCAGGTCGCAGTCGCGCTTCGGCCGCCACGGCTTAGCTTCGGCCGCCGCTCCACGGCCGTGCTTCGGCCGCCGCCGCCGCTCGCCGCC\n",
      "16 : GCCGCCGCAGGCTTCGGCTTGCACGGCTTCGGCTGCACGGCCTAGCACGCGAGCCTACACGGCTGGCGAGCAGGCCGCCACGGCCTAGCACGCTTCGGCCTCCACGGCTTCGGCCTCG\n",
      "17 : CAGCCGCCGCCGCCTACAGGTCGCAGTCGCGCTTCGGCCGCCACGGCCGCCGCACGCGAGCTTAGCTTACACGGCTAGCTCGCGAGCCTAGCACCACGGCGCGCCGCGCGAGCTCGCACG\n",
      "18 : GCCTAGCACGCTTCGGCCTCCACGGCCTCGGCGAGCTTGGCTACAGCCGCCGCGCTCGCCGCCGCCTACACGGCAGGCTTGCACGGCACGCAGGCCGCCCACGGCCGCCGCACGCGA\n",
      "19 : GCTAGCTCCAGGTCGCAGAGCCGCACGCTCGCTTGCACGGCAGGCTTGCACGGCTCGCCTAGCTCGCCGCGCTTGGCGAGCTTACACGGCTTAGCAGGCTTGGCTCGCCGCCCACG\n",
      "20 : GCCTAGCTTCGCACGGAGTGCAGGCTTCGCTCCACGGCCTAGCACGCTTCGGCCTCCACGGCTCGGCCGCGCTTCGGCCTCGCAGCCGCCGCCGCCTACAGGCCGCAGACTTGCTTCG\n",
      "21 : CACGGCTTAGCTTCGGCTTGGCTCGCACGGCGAGCCGCCCACGGCTTCGCTCGCTTGCACGGCGCCGCGAGCTTGCACGGCGCGCCGCGCTCGCGAGCCTAGCACGCTCCAGGTCACG\n",
      "22 : GCTTCGGCCGCCACGGCTCGCCAGGCTCGCCGCCCACGGCGCCGCGAGCTTGCACGGCCGCCGCTCGCTCCAGGTCGCAGACTTGCTTCGCACGGCTTAGCTTCGGCTTGGCTCGCACG\n",
      "23 : GCTTAGCAGGCCTGGCTCGCCGCCCACGGCCTAGCACGCAGGCCGCCCAGGTCACGGCGAGCTTGGCTACACGGCCTAGCACGCAGGCCGCCCACGGCTCGGCAGGCCTGGCTCGCCGCC\n",
      "24 : CACGGCTTAGCAGGCTGGCTCCACGGCCTAGCTTCGCACGGCCTAGCACGCTCGCTCCAGGCCGCAGACTTGCACGCGAGCTTAGCTTACACGGTGACACGGCGCCGCTTCGGCTTC\n",
      "25 : GCCGTGCGAGCCGCGCTCCACGGCCTAGCACGCTCGCTCCACGGCCTAGCTTCGCACGGCGACACGGCCGCCGCCTCGCTTCGCTTCGCTCGCCGCCAGCCGCCGCCCACGGCTAGCGA\n",
      "26 : GCCAGCTTCGCCCGCAGAGTGCACGCTTCGGCCTCCACGGCGAGCCGCGCCTACACGGCTTCGCTTCGGCCGCGCTCCACGGCTTAGCTTCGGCCTGGCTCGCTTAGCCAGCACGGCGA\n",
      "27 : GCTTGGCTACACGGCTTCGCTTCGGCCGCGCTCCACGGCCTAGCTCGCTTCGCCGTGCTCGCCGCGCGAGCCTAGCTCCAGGCCGCAGACAGCTTCGGCCTCGCTCGGCACCACG\n",
      "28 : GCCTCGGCAGGCTTGGCTAGCCGCCCACGGCTAGCTTCGCACGGCCGCCGCACGCGAGCAGGGCTCCACGGCCTAGCACGCTCCACGGCTAGCGAGCCGCGCTTAGCAGGCTTGGCTCG\n",
      "29 : CACGGCGCGCCTCGCTAGCCGCCCACGGCTTCGGCTGCACGGTCGAGCGAGCCAGCAGGTCGCAGTAGGCTTGGCTACACGGCCGCCGCCTCGCTTCGCTTCGCTCGCCGCCAGCC\n",
      "30 : GCCGCCCACGGCTTAGCTCGCGAGCCGCCGCTCCACGGCACGCGAGCCTAGCACCACGGCGAGCTTAGCTTACACGGCCTAGCTTCGGCTTCGCACGGCCGCCGCACGCTTCGGCCGC\n",
      "31 : GCCTACACGGCGACACGGCTAGCGAGCCTAGCTCCAGGCCGCAGACTTGCTTCGGCTTCGCTCGCCTAGCAGGCTTCGCTCCACGGCCTAGCTTCGGCTTCGCACGGCACGCTTCG\n",
      "32 : GCCTACACGGCCTAGCACGCTCCACGGCTCGCCAGGCTCCACGGCTTCGGCTGCACGGCACGCTCGCGAGCCTGGCTCGCTTGCACGGCCGCCGCACGCAGGCTTGGCTCGCCGCC\n",
      "33 : CAGGTCGCAGTAGGCTTGGCTACACGGCTTCGGCTGGCCTAGCTCGCTTGCACGGCAGGCCGCCCACGGCACGCAGGCCGCCCACGGCTCGGCTTCGGCTTAGCTACACGGCGCC\n",
      "34 : GCTTCGGCTTCGCCGTGCTTAGCTCGCCACGCAGGCTTCGGCTTGCACGGCTAGCAGGCTTCGCTTCGCTCGCTACTTGCCCGCAGTAGGCTTGGCTACACGGCTCGCCTGGCTCGCCGC\n",
      "35 : GCCAGCACGGCTGGCGAGCAGGCCGCCACGGCTGGCCGCGCTTCGGCTTCCACGGCTGGCGAGCAGGCCGCCACGGCCGCCGCTTCGGCTTCGCTCGCCTAGCAGGCTTCGCTCCACG\n",
      "36 : GCTAGCTCGCGCCGCTTAGCAGGCTTGGCTCGCCGCCCAGGTCGCAGTATGCCAGCACGGCGCCGCACGCGAGCTTGGCGCCGCTCCAGGTCACGGCTTCGGCCGCCACGGCTTGGCGA\n",
      "37 : GCCTAGCCTCGCCGCGCTCCAGCCGCCGCCCACGGCGCCGCACGCGAGCTTGGCTCGGCAGGCTTGGCTCGCACGGCGCCGCTTCGGCCTCGCCGCGCCGCCGCTCCAGGTCACGGCCTC\n",
      "38 : GCTTGGCCTAGCCGCGCAGGCTTCGCTTCGCTCGCTACTTGCCCGCAGACTTGCACGCGAGCTTAGCTTACACGGTGACACGGCGCCGCTTCGGCTTCGCCGTGCGAGCCGCGCTCCACG\n",
      "39 : GCCTAGCACGCTCGCTCCACGGCCTAGCTTCGCACGGCGACACGGCCGCCGCCTCGCTTCGCTTCGCTCGCCGCCAGCCGCCGCCCACGGCTAGCGAGCCAGCTTCGCCCGCAGAGT\n",
      "40 : GCACGCTTCGGCCTCCACGGCGAGCCGCGCCTACACGGCTTCGCTTCGGCCGCGCTCCACGGCTTAGCTTCGGCCTGGCTCGCTTAGCCAGCACGGCGAGCTTGGCTACACGGCTTC\n",
      "41 : GCTTCGGCCGCGCTCCACGGCCTAGCTCGCTTCGCCGTGCTCGCCGCGCGAGCCTAGCTCCAGGCCGCAGACAGCTTCGGCCTCGCTCGGCACCACGGCCTCGGCAGGCTTGGCTA\n",
      "42 : GCCGCCCACGGCTAGCTTCGCACGGCCGCCGCACGCGAGCAGGGCTCCACGGCCTAGCACGCTCCACGGCTAGCGAGCCGCGCTTAGCAGGCTTGGCTCGCACGGCGCGCCTCGCTA\n",
      "43 : GCCGCCCACGGCTTCGGCTGCACGGTCGAGCGAGCCAGCAGGTCGCAGTAGGCTTGGCTACACGGCCGCCGCCTCGCTTCGCTTCGCTCGCCGCCAGCCGCCGCCCACGGCTTAGCTC\n",
      "44 : GCGAGCCGCCGCTCCACGGCACGCGAGCCTAGCACCACGGCGAGCTTAGCTTACACGGCCTAGCTTCGGCTTCGCACGGCCGCCGCACGCTTCGGCCGCGCCTACACGGCGACACGGCTA\n",
      "45 : GCGAGCCTAGCTCCAGGCCGCAGACTTGCTTCGGCTTCGCTCGCCTAGCAGGCTTCGCTCCACGGCCTAGCTTCGGCTTCGCACGGCACGCTTCGGCCTACACGGCCTAGCACGCTC\n",
      "46 : CACGGCTCGCCAGGCTCCACGGCTTCGGCTGCACGGCACGCTCGCGAGCCTGGCTCGCTTGCACGGCCGCCGCACGCAGGCTTGGCTCGCCGCCCAGGTCGCAGTAGGCTTGGCTACACG\n",
      "47 : GCTTCGGCTGGCCTAGCTCGCTTGCACGGCAGGCCGCCCACGGCACGCAGGCCGCCCACGGCTCGGCTTCGGCTTAGCTACACGGCGCCGCTTCGGCTTCGCCGTGCTTAGCTCGCCAC\n",
      "48 : GCAGGCTTCGGCTTGCACGGCTAGCAGGCTTCGCTTCGCTCGCTACTTGCCCGCAGTAGGCTTGGCTACACGGCTCGCCTGGCTCGCCGCGCCAGCACGGCTGGCGAGCAGGCCGCCACG\n",
      "49 : GCTGGCCGCGCTTCGGCTTCCACGGCTGGCGAGCAGGCCGCCACGGCCGCCGCTTCGGCTTCGCTCGCCTAGCAGGCTTCGCTCCACGGCTAGCTCGCGCCGCTTAGCAGGCTTGGCTC\n",
      "50 : GCCGCCCAGGTCGCAGTATGCCAGCACGGCGCCGCACGCGAGCTTGGCGCCGCTCCAGGTCACGGCTTCGGCCGCCACGGCTTGGCGAGCCTAGCCTCGCCGCGCTCCAGCCGCCGCC\n",
      "51 : CACGGCGCCGCACGCGAGCTTGGCTCGGCAGGCTTGGCTCGCACGGCGCCGCTTCGGCCTCGCCGCGCCGCCGCTCCAGGTCACGGCCTCGCTTGGCCTAGCCGCGCAGGCTTCGCTTC\n",
      "52 : GCTCGCTACTTGCCCGCAGTATGCCTCGCCTACACGGCCTAGCACGCCAGCACGGCTCGCCTAGCTCGCCGCGCTTGGCGAGCTTACACGGCCGCCGCCTCGCTTCGCTTCGCTCGCCGC\n",
      "53 : CACGGCCGCCGCACGCGAGCTTAGCTTACACGGCTTGGCTTCGGCCTACACGGCTGGCGAGCTAGCTCCAGGTCGCAGTCGCGCTTCGGCCGCCACGGCTTAGCTTCGGCCGCCGCTC\n",
      "54 : CACGGCCGTGCTTCGGCCGCCGCCGCCGCTCGCCGCCGCCGCCGCAGGCTTCGGCTTGCACGGCTTCGGCTGCACGGCCTAGCACGCGAGCCTACACGGCTGGCGAGCAGGCCGCCACG\n",
      "55 : GCCTAGCACGCTTCGGCCTCCACGGCTTCGGCCTCGCAGCCGCCGCCGCCTACAGGTCGCAGTCGCGCTTCGGCCGCCACGGCCGCCGCACGCGAGCTTAGCTTACACGGCTAGCTC\n",
      "56 : GCGAGCCTAGCACCACGGCGCGCCGCGCGAGCTCGCACGGCCTAGCACGCTTCGGCCTCCACGGCCTCGGCGAGCTTGGCTACAGCCGCCGCGCTCGCCGCCGCCTACACGGCAGGCTTG\n",
      "57 : CACGGCACGCAGGCCGCCCACGGCCGCCGCACGCGAGCTAGCTCCAGGTCGCAGAGCCGCACGCTCGCTTGCACGGCAGGCTTGCACGGCTCGCCTAGCTCGCCGCGCTTGGCGAGCTTA\n",
      "58 : CACGGCTTAGCAGGCTTGGCTCGCCGCCCACGGCCTAGCTTCGCACGGAGTGCAGGCTTCGCTCCACGGCCTAGCACGCTTCGGCCTCCACGGCTCGGCCGCGCTTCGGCCTCGCAGCC\n",
      "59 : GCCGCCGCCTACAGGCCGCAGACTTGCTTCGCACGGCTTAGCTTCGGCTTGGCTCGCACGGCGAGCCGCCCACGGCTTCGCTCGCTTGCACGGCGCCGCGAGCTTGCACGGCGCGCCGC\n",
      "60 : GCTCGCGAGCCTAGCACGCTCCAGGTCACGGCTTCGGCCGCCACGGCTCGCCAGGCTCGCCGCCCACGGCGCCGCGAGCTTGCACGGCCGCCGCTCGCTCCAGGTCGCAGACTTGCTTCG\n",
      "61 : CACGGCTTAGCTTCGGCTTGGCTCGCACGGCTTAGCAGGCCTGGCTCGCCGCCCACGGCCTAGCACGCAGGCCGCCCAGGTCACGGCGAGCTTGGCTACACGGCCTAGCACGCAG\n",
      "62 : GCCGCCCACGGCTCGGCAGGCCTGGCTCGCCGCCCACGGCTTAGCAGGCTGGCTCCACGGCCTAGCTTCGCACGGCCTAGCACGCTCGCTCCAGGCCGCAGACTTGCACGCGAGCTTA\n",
      "63 : GCTTACACGGTGACACGGCGCCGCTTCGGCTTCGCCGTGCGAGCCGCGCTCCACGGCCTAGCACGCTCGCTCCACGGCCTAGCTTCGCACGGCGACACGGCCGCCGCCTCGCTTCGCTTC\n",
      "64 : GCTCGCCGCCAGCCGCCGCCCACGGCTAGCGAGCCAGCTTCGCCCGCAGAGTGCACGCTTCGGCCTCCACGGCGAGCCGCGCCTACACGGCTTCGCTTCGGCCGCGCTCCACGGCTTA\n",
      "65 : GCTTCGGCCTGGCTCGCTTAGCCAGCACGGCGAGCTTGGCTACACGGCTTCGCTTCGGCCGCGCTCCACGGCCTAGCTCGCTTCGCCGTGCTCGCCGCGCGAGCCTAGCTCCAGGCCGCA\n",
      "66 : GACAGCTTCGGCCTCGCTCGGCACCACGGCCTCGGCAGGCTTGGCTAGCCGCCCACGGCTAGCTTCGCACGGCCGCCGCACGCGAGCAGGGCTCCACGGCCTAGCACGCTCCACGGCTA\n",
      "67 : GCGAGCCGCGCTTAGCAGGCTTGGCTCGCACGGCGCGCCTCGCTAGCCGCCCACGGCTTCGGCTGCACGGTCGAGCGAGCCAGCAGGTCGCAGTAGGCTTGGCTACACGGCCGCCGCCTC\n",
      "68 : GCTTCGCTTCGCTCGCCGCCAGCCGCCGCCCACGGCTTAGCTCGCGAGCCGCCGCTCCACGGCACGCGAGCCTAGCACCACGGCGAGCTTAGCTTACACGGCCTAGCTTCGGCTTCG\n",
      "69 : CACGGCCGCCGCACGCTTCGGCCGCGCCTACACGGCGACACGGCTAGCGAGCCTAGCTCCAGGCCGCAGACTTGCTTCGGCTTCGCTCGATGGCAGGCTTCGCTCCACGGCCTAGCTTCG\n",
      "70 : GCTTCGCACGGCACGCTTCGGCCTACACGGCCTAGCACGCTCCACGGCTCGCCAGGCTCCACGGCTTCGGCTGCACGGATCGCTCGCGAGCCTGGCTCGCTTGCACGGCCGCCGCAC\n",
      "71 : GCAGGCTTGGCTCGCCGCCCAGGTCGCAGTAGGCTTGGCTACACGGCTTCGGCTGGCCTAGCTCGCTTGCACGGCAGGCCGCCCACGGCACGCAGGCCGCCCACGGCTCGGCTTCG\n",
      "72 : GCTTAGCTACACGGCGCCGCTTCGGCTTCGCCGTGCTTAGCTCGCCACGCAGGCTTCGGCTTGCACGGCTAGCAGGCTTCGCTTCGCTCGCTACTTGCCCGCAGTAGGCTTGGCTACACG\n",
      "73 : GCTCGCCTGGCTCGCCGCGCCAGCACGGCTGGCGAGCAGGCCGCCACGGCTGGCCGCGCTTCGGCTTCCACGGCTGGCGAGCAGGCCGCCACGGCCGCCGCTTCGGCTTCGCTCGCCTA\n",
      "74 : GCAGGCTTCGCTCCACGGCTAGCTCGCGCCGCTTAGCAGGCTTGGCTCGCCGCCCAGGTCGCAGTATGCCAGCACGGCGCCGCACGCGAGCTTGGCGCCGCTCCAGGTCACGGCTTCG\n",
      "75 : GCCGCCACGGCTTGGCGAGCCTAGCCTCGCCGCGCTCCAGCCGCCGCCCACGGCGCCGCACGCGAGCTTGGCTCGGCAGGCTTGGCTCGCACGGCGCCGCTTCGGCCTCGCCGCGCCGCC\n",
      "76 : GCTCCAGGTCACGGCCTCGCTTGGCCTAGCCGCGCAGGCTTCGCTTCGCTCGCTACTTGCC\n",
      "--------------------------------\n",
      "0 : ['GACTT', 'GCAC', 'GCGA', 'GCTTA', 'GCTTA', 'CACG', 'GTGA', 'CACG', 'GCGCC', 'GCTTCG', 'GCTTC', 'GCCGT', 'GCGA', 'GCCGC', 'GCTC', 'CACG', 'GCCTA', 'GCAC', 'GCTC', 'GCTC', 'CACG', 'GCCTA', 'GCTTCG', 'CACG', 'GCGA', 'CACG']\n",
      "1 : ['GCCGCC', 'GCCTC', 'GCTTC', 'GCTTC', 'GCTC', 'GCCGC', 'CAGCC', 'GCCGCC', 'CACG', 'GCTA', 'GCGA', 'GCCAG', 'CTTCGCC', 'CGCA', 'GAGT', 'GCAC', 'GCTTCG', 'GCCTC', 'CACG', 'GCGA', 'GCCGC', 'GCCTA', 'CACG', 'GCTTC']\n",
      "2 : ['GCTTCG', 'GCCGC', 'GCTC', 'CACG', 'GCTTA', 'GCTTCG', 'GCCTG', 'GCTC', 'GCTTA', 'GCCAG', 'CACG', 'GCGA', 'GCTTG', 'GCTA', 'CACG', 'GCTTC', 'GCTTCG', 'GCCGC', 'GCTC', 'CACG', 'GCCTA', 'GCTC', 'GCTTC', 'GCCGT', 'GCTC']\n",
      "3 : ['GCCGC', 'GCGA', 'GCCTA', 'GCTC', 'CAGGC', 'CGCA', 'GACA', 'GCTTCG', 'GCCTC', 'GCTCG', 'GCAC', 'CACG', 'GCCTCG', 'GCAG', 'GCTTG', 'GCTA', 'GCCGCC', 'CACG', 'GCTA', 'GCTTCG', 'CACG', 'GCCGCC', 'GCAC', 'GCGA', 'GCAGG']\n",
      "4 : ['GCTC', 'CACG', 'GCCTA', 'GCAC', 'GCTC', 'CACG', 'GCTA', 'GCGA', 'GCCGC', 'GCTTA', 'GCAG', 'GCTTG', 'GCTCG', 'CACG', 'GCGC', 'GCCTC', 'GCTA', 'GCCGCC', 'CACG', 'GCTTCG', 'GCTG', 'CACG', 'GTCGA', 'GCGA', 'GCCAG', 'CAGGT']\n",
      "5 : ['CGCA', 'GTAG', 'GCTTG', 'GCTA', 'CACG', 'GCCGCC', 'GCCTC', 'GCTTC', 'GCTTC', 'GCTC', 'GCCGC', 'CAGCC', 'GCCGCC', 'CACG', 'GCTTA', 'GCTC', 'GCGA', 'GCCGCC', 'GCTC', 'CACG', 'GCAC', 'GCGA', 'GCCTA', 'GCAC', 'CACG', 'GCGA']\n",
      "6 : ['GCTTA', 'GCTTA', 'CACG', 'GCCTA', 'GCTTCG', 'GCTTCG', 'CACG', 'GCCGCC', 'GCAC', 'GCTTCG', 'GCCGC', 'GCCTA', 'CACG', 'GCGA', 'CACG', 'GCTA', 'GCGA', 'GCCTA', 'GCTC', 'CAGGC', 'CGCA', 'GACTT', 'GCTTCG', 'GCTTC', 'GCTC']\n",
      "7 : ['GCCTA', 'GCAG', 'GCTTC', 'GCTC', 'CACG', 'GCCTA', 'GCTTCG', 'GCTTCG', 'CACG', 'GCAC', 'GCTTCG', 'GCCTA', 'CACG', 'GCCTA', 'GCAC', 'GCTC', 'CACG', 'GCTC', 'GCCAG', 'GCTC', 'CACG', 'GCTTCG', 'GCTG', 'CACG', 'GCAC', 'GCTC']\n",
      "8 : ['GCGA', 'GCCTG', 'GCTC', 'GCTTG', 'CACG', 'GCCGCC', 'GCAC', 'GCAG', 'GCTTG', 'GCTC', 'GCCGCC', 'CAGGT', 'CGCA', 'GTAG', 'GCTTG', 'GCTA', 'CACG', 'GCTTCG', 'GCTG', 'GCCTA', 'GCTC', 'GCTTG', 'CACG', 'GCAG', 'GCCGCC', 'CACG']\n",
      "9 : ['GCAC', 'GCAG', 'GCCGCC', 'CACG', 'GCTCG', 'GCTTCG', 'GCTTA', 'GCTA', 'CACG', 'GCGCC', 'GCTTCG', 'GCTTC', 'GCCGT', 'GCTTA', 'GCTC', 'GCCAC', 'GCAG', 'GCTTCG', 'GCTTG', 'CACG', 'GCTA', 'GCAG', 'GCTTC', 'GCTTC', 'GCTC']\n",
      "10 : ['GCTA', 'CTTGCC', 'CGCA', 'GTAG', 'GCTTG', 'GCTA', 'CACG', 'GCTC', 'GCCTG', 'GCTC', 'GCCGC', 'GCCAG', 'CACG', 'GCTG', 'GCGA', 'GCAG', 'GCCGC', 'CACG', 'GCTG', 'GCCGC', 'GCTTCG', 'GCTTC', 'CACG', 'GCTG', 'GCGA', 'GCAG', 'GCCGC']\n",
      "11 : ['CACG', 'GCCGCC', 'GCTTCG', 'GCTTC', 'GCTC', 'GCCTA', 'GCAG', 'GCTTC', 'GCTC', 'CACG', 'GCTA', 'GCTC', 'GCGCC', 'GCTTA', 'GCAG', 'GCTTG', 'GCTC', 'GCCGCC', 'CAGGT', 'CGCA', 'GTAT', 'GCCAG', 'CACG', 'GCGCC', 'GCAC', 'GCGA']\n",
      "12 : ['GCTTG', 'GCGCC', 'GCTC', 'CAGGT', 'CACG', 'GCTTCG', 'GCCGC', 'CACG', 'GCTTG', 'GCGA', 'GCCTA', 'GCCTC', 'GCCGC', 'GCTC', 'CAGCC', 'GCCGCC', 'CACG', 'GCGCC', 'GCAC', 'GCGA', 'GCTTG', 'GCTCG', 'GCAG', 'GCTTG', 'GCTCG']\n",
      "13 : ['CACG', 'GCGCC', 'GCTTCG', 'GCCTC', 'GCCGC', 'GCCGCC', 'GCTC', 'CAGGT', 'CACG', 'GCCTC', 'GCTTG', 'GCCTA', 'GCCGC', 'GCAG', 'GCTTC', 'GCTTC', 'GCTC', 'GCTA', 'CTTGCC', 'CGCA', 'GTAT', 'GCCTC', 'GCCTA', 'CACG', 'GCCTA']\n",
      "14 : ['GCAC', 'GCCAG', 'CACG', 'GCTC', 'GCCTA', 'GCTC', 'GCCGC', 'GCTTG', 'GCGA', 'GCTTA', 'CACG', 'GCCGCC', 'GCCTC', 'GCTTC', 'GCTTC', 'GCTC', 'GCCGC', 'CACG', 'GCCGCC', 'GCAC', 'GCGA', 'GCTTA', 'GCTTA', 'CACG', 'GCTTG']\n",
      "15 : ['GCTTCG', 'GCCTA', 'CACG', 'GCTG', 'GCGA', 'GCTA', 'GCTC', 'CAGGT', 'CGCA', 'GTCGC', 'GCTTCG', 'GCCGC', 'CACG', 'GCTTA', 'GCTTCG', 'GCCGCC', 'GCTC', 'CACG', 'GCCGT', 'GCTTCG', 'GCCGCC', 'GCCGCC', 'GCTC', 'GCCGCC']\n",
      "16 : ['GCCGCC', 'GCAG', 'GCTTCG', 'GCTTG', 'CACG', 'GCTTCG', 'GCTG', 'CACG', 'GCCTA', 'GCAC', 'GCGA', 'GCCTA', 'CACG', 'GCTG', 'GCGA', 'GCAG', 'GCCGC', 'CACG', 'GCCTA', 'GCAC', 'GCTTCG', 'GCCTC', 'CACG', 'GCTTCG', 'GCCTCG']\n",
      "17 : ['CAGCC', 'GCCGCC', 'GCCTA', 'CAGGT', 'CGCA', 'GTCGC', 'GCTTCG', 'GCCGC', 'CACG', 'GCCGCC', 'GCAC', 'GCGA', 'GCTTA', 'GCTTA', 'CACG', 'GCTA', 'GCTC', 'GCGA', 'GCCTA', 'GCAC', 'CACG', 'GCGC', 'GCCGC', 'GCGA', 'GCTCG', 'CACG']\n",
      "18 : ['GCCTA', 'GCAC', 'GCTTCG', 'GCCTC', 'CACG', 'GCCTCG', 'GCGA', 'GCTTG', 'GCTA', 'CAGCC', 'GCCGC', 'GCTC', 'GCCGCC', 'GCCTA', 'CACG', 'GCAG', 'GCTTG', 'CACG', 'GCAC', 'GCAG', 'GCCGCC', 'CACG', 'GCCGCC', 'GCAC', 'GCGA']\n",
      "19 : ['GCTA', 'GCTC', 'CAGGT', 'CGCA', 'GAGCC', 'GCAC', 'GCTC', 'GCTTG', 'CACG', 'GCAG', 'GCTTG', 'CACG', 'GCTC', 'GCCTA', 'GCTC', 'GCCGC', 'GCTTG', 'GCGA', 'GCTTA', 'CACG', 'GCTTA', 'GCAG', 'GCTTG', 'GCTC', 'GCCGCC', 'CACG']\n",
      "20 : ['GCCTA', 'GCTTCG', 'CACG', 'GAGT', 'GCAG', 'GCTTC', 'GCTC', 'CACG', 'GCCTA', 'GCAC', 'GCTTCG', 'GCCTC', 'CACG', 'GCTCG', 'GCCGC', 'GCTTCG', 'GCCTCG', 'CAGCC', 'GCCGCC', 'GCCTA', 'CAGGC', 'CGCA', 'GACTT', 'GCTTCG']\n",
      "21 : ['CACG', 'GCTTA', 'GCTTCG', 'GCTTG', 'GCTCG', 'CACG', 'GCGA', 'GCCGCC', 'CACG', 'GCTTC', 'GCTC', 'GCTTG', 'CACG', 'GCGCC', 'GCGA', 'GCTTG', 'CACG', 'GCGC', 'GCCGC', 'GCTC', 'GCGA', 'GCCTA', 'GCAC', 'GCTC', 'CAGGT', 'CACG']\n",
      "22 : ['GCTTCG', 'GCCGC', 'CACG', 'GCTC', 'GCCAG', 'GCTC', 'GCCGCC', 'CACG', 'GCGCC', 'GCGA', 'GCTTG', 'CACG', 'GCCGCC', 'GCTC', 'GCTC', 'CAGGT', 'CGCA', 'GACTT', 'GCTTCG', 'CACG', 'GCTTA', 'GCTTCG', 'GCTTG', 'GCTCG', 'CACG']\n",
      "23 : ['GCTTA', 'GCAG', 'GCCTG', 'GCTC', 'GCCGCC', 'CACG', 'GCCTA', 'GCAC', 'GCAG', 'GCCGCC', 'CAGGT', 'CACG', 'GCGA', 'GCTTG', 'GCTA', 'CACG', 'GCCTA', 'GCAC', 'GCAG', 'GCCGCC', 'CACG', 'GCTCG', 'GCAG', 'GCCTG', 'GCTC', 'GCCGCC']\n",
      "24 : ['CACG', 'GCTTA', 'GCAG', 'GCTG', 'GCTC', 'CACG', 'GCCTA', 'GCTTCG', 'CACG', 'GCCTA', 'GCAC', 'GCTC', 'GCTC', 'CAGGC', 'CGCA', 'GACTT', 'GCAC', 'GCGA', 'GCTTA', 'GCTTA', 'CACG', 'GTGA', 'CACG', 'GCGCC', 'GCTTCG', 'GCTTC']\n",
      "25 : ['GCCGT', 'GCGA', 'GCCGC', 'GCTC', 'CACG', 'GCCTA', 'GCAC', 'GCTC', 'GCTC', 'CACG', 'GCCTA', 'GCTTCG', 'CACG', 'GCGA', 'CACG', 'GCCGCC', 'GCCTC', 'GCTTC', 'GCTTC', 'GCTC', 'GCCGC', 'CAGCC', 'GCCGCC', 'CACG', 'GCTA', 'GCGA']\n",
      "26 : ['GCCAG', 'CTTCGCC', 'CGCA', 'GAGT', 'GCAC', 'GCTTCG', 'GCCTC', 'CACG', 'GCGA', 'GCCGC', 'GCCTA', 'CACG', 'GCTTC', 'GCTTCG', 'GCCGC', 'GCTC', 'CACG', 'GCTTA', 'GCTTCG', 'GCCTG', 'GCTC', 'GCTTA', 'GCCAG', 'CACG', 'GCGA']\n",
      "27 : ['GCTTG', 'GCTA', 'CACG', 'GCTTC', 'GCTTCG', 'GCCGC', 'GCTC', 'CACG', 'GCCTA', 'GCTC', 'GCTTC', 'GCCGT', 'GCTC', 'GCCGC', 'GCGA', 'GCCTA', 'GCTC', 'CAGGC', 'CGCA', 'GACA', 'GCTTCG', 'GCCTC', 'GCTCG', 'GCAC', 'CACG']\n",
      "28 : ['GCCTCG', 'GCAG', 'GCTTG', 'GCTA', 'GCCGCC', 'CACG', 'GCTA', 'GCTTCG', 'CACG', 'GCCGCC', 'GCAC', 'GCGA', 'GCAGG', 'GCTC', 'CACG', 'GCCTA', 'GCAC', 'GCTC', 'CACG', 'GCTA', 'GCGA', 'GCCGC', 'GCTTA', 'GCAG', 'GCTTG', 'GCTCG']\n",
      "29 : ['CACG', 'GCGC', 'GCCTC', 'GCTA', 'GCCGCC', 'CACG', 'GCTTCG', 'GCTG', 'CACG', 'GTCGA', 'GCGA', 'GCCAG', 'CAGGT', 'CGCA', 'GTAG', 'GCTTG', 'GCTA', 'CACG', 'GCCGCC', 'GCCTC', 'GCTTC', 'GCTTC', 'GCTC', 'GCCGC', 'CAGCC']\n",
      "30 : ['GCCGCC', 'CACG', 'GCTTA', 'GCTC', 'GCGA', 'GCCGCC', 'GCTC', 'CACG', 'GCAC', 'GCGA', 'GCCTA', 'GCAC', 'CACG', 'GCGA', 'GCTTA', 'GCTTA', 'CACG', 'GCCTA', 'GCTTCG', 'GCTTCG', 'CACG', 'GCCGCC', 'GCAC', 'GCTTCG', 'GCCGC']\n",
      "31 : ['GCCTA', 'CACG', 'GCGA', 'CACG', 'GCTA', 'GCGA', 'GCCTA', 'GCTC', 'CAGGC', 'CGCA', 'GACTT', 'GCTTCG', 'GCTTC', 'GCTC', 'GCCTA', 'GCAG', 'GCTTC', 'GCTC', 'CACG', 'GCCTA', 'GCTTCG', 'GCTTCG', 'CACG', 'GCAC', 'GCTTCG']\n",
      "32 : ['GCCTA', 'CACG', 'GCCTA', 'GCAC', 'GCTC', 'CACG', 'GCTC', 'GCCAG', 'GCTC', 'CACG', 'GCTTCG', 'GCTG', 'CACG', 'GCAC', 'GCTC', 'GCGA', 'GCCTG', 'GCTC', 'GCTTG', 'CACG', 'GCCGCC', 'GCAC', 'GCAG', 'GCTTG', 'GCTC', 'GCCGCC']\n",
      "33 : ['CAGGT', 'CGCA', 'GTAG', 'GCTTG', 'GCTA', 'CACG', 'GCTTCG', 'GCTG', 'GCCTA', 'GCTC', 'GCTTG', 'CACG', 'GCAG', 'GCCGCC', 'CACG', 'GCAC', 'GCAG', 'GCCGCC', 'CACG', 'GCTCG', 'GCTTCG', 'GCTTA', 'GCTA', 'CACG', 'GCGCC']\n",
      "34 : ['GCTTCG', 'GCTTC', 'GCCGT', 'GCTTA', 'GCTC', 'GCCAC', 'GCAG', 'GCTTCG', 'GCTTG', 'CACG', 'GCTA', 'GCAG', 'GCTTC', 'GCTTC', 'GCTC', 'GCTA', 'CTTGCC', 'CGCA', 'GTAG', 'GCTTG', 'GCTA', 'CACG', 'GCTC', 'GCCTG', 'GCTC', 'GCCGC']\n",
      "35 : ['GCCAG', 'CACG', 'GCTG', 'GCGA', 'GCAG', 'GCCGC', 'CACG', 'GCTG', 'GCCGC', 'GCTTCG', 'GCTTC', 'CACG', 'GCTG', 'GCGA', 'GCAG', 'GCCGC', 'CACG', 'GCCGCC', 'GCTTCG', 'GCTTC', 'GCTC', 'GCCTA', 'GCAG', 'GCTTC', 'GCTC', 'CACG']\n",
      "36 : ['GCTA', 'GCTC', 'GCGCC', 'GCTTA', 'GCAG', 'GCTTG', 'GCTC', 'GCCGCC', 'CAGGT', 'CGCA', 'GTAT', 'GCCAG', 'CACG', 'GCGCC', 'GCAC', 'GCGA', 'GCTTG', 'GCGCC', 'GCTC', 'CAGGT', 'CACG', 'GCTTCG', 'GCCGC', 'CACG', 'GCTTG', 'GCGA']\n",
      "37 : ['GCCTA', 'GCCTC', 'GCCGC', 'GCTC', 'CAGCC', 'GCCGCC', 'CACG', 'GCGCC', 'GCAC', 'GCGA', 'GCTTG', 'GCTCG', 'GCAG', 'GCTTG', 'GCTCG', 'CACG', 'GCGCC', 'GCTTCG', 'GCCTC', 'GCCGC', 'GCCGCC', 'GCTC', 'CAGGT', 'CACG', 'GCCTC']\n",
      "38 : ['GCTTG', 'GCCTA', 'GCCGC', 'GCAG', 'GCTTC', 'GCTTC', 'GCTC', 'GCTA', 'CTTGCC', 'CGCA', 'GACTT', 'GCAC', 'GCGA', 'GCTTA', 'GCTTA', 'CACG', 'GTGA', 'CACG', 'GCGCC', 'GCTTCG', 'GCTTC', 'GCCGT', 'GCGA', 'GCCGC', 'GCTC', 'CACG']\n",
      "39 : ['GCCTA', 'GCAC', 'GCTC', 'GCTC', 'CACG', 'GCCTA', 'GCTTCG', 'CACG', 'GCGA', 'CACG', 'GCCGCC', 'GCCTC', 'GCTTC', 'GCTTC', 'GCTC', 'GCCGC', 'CAGCC', 'GCCGCC', 'CACG', 'GCTA', 'GCGA', 'GCCAG', 'CTTCGCC', 'CGCA', 'GAGT']\n",
      "40 : ['GCAC', 'GCTTCG', 'GCCTC', 'CACG', 'GCGA', 'GCCGC', 'GCCTA', 'CACG', 'GCTTC', 'GCTTCG', 'GCCGC', 'GCTC', 'CACG', 'GCTTA', 'GCTTCG', 'GCCTG', 'GCTC', 'GCTTA', 'GCCAG', 'CACG', 'GCGA', 'GCTTG', 'GCTA', 'CACG', 'GCTTC']\n",
      "41 : ['GCTTCG', 'GCCGC', 'GCTC', 'CACG', 'GCCTA', 'GCTC', 'GCTTC', 'GCCGT', 'GCTC', 'GCCGC', 'GCGA', 'GCCTA', 'GCTC', 'CAGGC', 'CGCA', 'GACA', 'GCTTCG', 'GCCTC', 'GCTCG', 'GCAC', 'CACG', 'GCCTCG', 'GCAG', 'GCTTG', 'GCTA']\n",
      "42 : ['GCCGCC', 'CACG', 'GCTA', 'GCTTCG', 'CACG', 'GCCGCC', 'GCAC', 'GCGA', 'GCAGG', 'GCTC', 'CACG', 'GCCTA', 'GCAC', 'GCTC', 'CACG', 'GCTA', 'GCGA', 'GCCGC', 'GCTTA', 'GCAG', 'GCTTG', 'GCTCG', 'CACG', 'GCGC', 'GCCTC', 'GCTA']\n",
      "43 : ['GCCGCC', 'CACG', 'GCTTCG', 'GCTG', 'CACG', 'GTCGA', 'GCGA', 'GCCAG', 'CAGGT', 'CGCA', 'GTAG', 'GCTTG', 'GCTA', 'CACG', 'GCCGCC', 'GCCTC', 'GCTTC', 'GCTTC', 'GCTC', 'GCCGC', 'CAGCC', 'GCCGCC', 'CACG', 'GCTTA', 'GCTC']\n",
      "44 : ['GCGA', 'GCCGCC', 'GCTC', 'CACG', 'GCAC', 'GCGA', 'GCCTA', 'GCAC', 'CACG', 'GCGA', 'GCTTA', 'GCTTA', 'CACG', 'GCCTA', 'GCTTCG', 'GCTTCG', 'CACG', 'GCCGCC', 'GCAC', 'GCTTCG', 'GCCGC', 'GCCTA', 'CACG', 'GCGA', 'CACG', 'GCTA']\n",
      "45 : ['GCGA', 'GCCTA', 'GCTC', 'CAGGC', 'CGCA', 'GACTT', 'GCTTCG', 'GCTTC', 'GCTC', 'GCCTA', 'GCAG', 'GCTTC', 'GCTC', 'CACG', 'GCCTA', 'GCTTCG', 'GCTTCG', 'CACG', 'GCAC', 'GCTTCG', 'GCCTA', 'CACG', 'GCCTA', 'GCAC', 'GCTC']\n",
      "46 : ['CACG', 'GCTC', 'GCCAG', 'GCTC', 'CACG', 'GCTTCG', 'GCTG', 'CACG', 'GCAC', 'GCTC', 'GCGA', 'GCCTG', 'GCTC', 'GCTTG', 'CACG', 'GCCGCC', 'GCAC', 'GCAG', 'GCTTG', 'GCTC', 'GCCGCC', 'CAGGT', 'CGCA', 'GTAG', 'GCTTG', 'GCTA', 'CACG']\n",
      "47 : ['GCTTCG', 'GCTG', 'GCCTA', 'GCTC', 'GCTTG', 'CACG', 'GCAG', 'GCCGCC', 'CACG', 'GCAC', 'GCAG', 'GCCGCC', 'CACG', 'GCTCG', 'GCTTCG', 'GCTTA', 'GCTA', 'CACG', 'GCGCC', 'GCTTCG', 'GCTTC', 'GCCGT', 'GCTTA', 'GCTC', 'GCCAC']\n",
      "48 : ['GCAG', 'GCTTCG', 'GCTTG', 'CACG', 'GCTA', 'GCAG', 'GCTTC', 'GCTTC', 'GCTC', 'GCTA', 'CTTGCC', 'CGCA', 'GTAG', 'GCTTG', 'GCTA', 'CACG', 'GCTC', 'GCCTG', 'GCTC', 'GCCGC', 'GCCAG', 'CACG', 'GCTG', 'GCGA', 'GCAG', 'GCCGC', 'CACG']\n",
      "49 : ['GCTG', 'GCCGC', 'GCTTCG', 'GCTTC', 'CACG', 'GCTG', 'GCGA', 'GCAG', 'GCCGC', 'CACG', 'GCCGCC', 'GCTTCG', 'GCTTC', 'GCTC', 'GCCTA', 'GCAG', 'GCTTC', 'GCTC', 'CACG', 'GCTA', 'GCTC', 'GCGCC', 'GCTTA', 'GCAG', 'GCTTG', 'GCTC']\n",
      "50 : ['GCCGCC', 'CAGGT', 'CGCA', 'GTAT', 'GCCAG', 'CACG', 'GCGCC', 'GCAC', 'GCGA', 'GCTTG', 'GCGCC', 'GCTC', 'CAGGT', 'CACG', 'GCTTCG', 'GCCGC', 'CACG', 'GCTTG', 'GCGA', 'GCCTA', 'GCCTC', 'GCCGC', 'GCTC', 'CAGCC', 'GCCGCC']\n",
      "51 : ['CACG', 'GCGCC', 'GCAC', 'GCGA', 'GCTTG', 'GCTCG', 'GCAG', 'GCTTG', 'GCTCG', 'CACG', 'GCGCC', 'GCTTCG', 'GCCTC', 'GCCGC', 'GCCGCC', 'GCTC', 'CAGGT', 'CACG', 'GCCTC', 'GCTTG', 'GCCTA', 'GCCGC', 'GCAG', 'GCTTC', 'GCTTC']\n",
      "52 : ['GCTC', 'GCTA', 'CTTGCC', 'CGCA', 'GTAT', 'GCCTC', 'GCCTA', 'CACG', 'GCCTA', 'GCAC', 'GCCAG', 'CACG', 'GCTC', 'GCCTA', 'GCTC', 'GCCGC', 'GCTTG', 'GCGA', 'GCTTA', 'CACG', 'GCCGCC', 'GCCTC', 'GCTTC', 'GCTTC', 'GCTC', 'GCCGC']\n",
      "53 : ['CACG', 'GCCGCC', 'GCAC', 'GCGA', 'GCTTA', 'GCTTA', 'CACG', 'GCTTG', 'GCTTCG', 'GCCTA', 'CACG', 'GCTG', 'GCGA', 'GCTA', 'GCTC', 'CAGGT', 'CGCA', 'GTCGC', 'GCTTCG', 'GCCGC', 'CACG', 'GCTTA', 'GCTTCG', 'GCCGCC', 'GCTC']\n",
      "54 : ['CACG', 'GCCGT', 'GCTTCG', 'GCCGCC', 'GCCGCC', 'GCTC', 'GCCGCC', 'GCCGCC', 'GCAG', 'GCTTCG', 'GCTTG', 'CACG', 'GCTTCG', 'GCTG', 'CACG', 'GCCTA', 'GCAC', 'GCGA', 'GCCTA', 'CACG', 'GCTG', 'GCGA', 'GCAG', 'GCCGC', 'CACG']\n",
      "55 : ['GCCTA', 'GCAC', 'GCTTCG', 'GCCTC', 'CACG', 'GCTTCG', 'GCCTCG', 'CAGCC', 'GCCGCC', 'GCCTA', 'CAGGT', 'CGCA', 'GTCGC', 'GCTTCG', 'GCCGC', 'CACG', 'GCCGCC', 'GCAC', 'GCGA', 'GCTTA', 'GCTTA', 'CACG', 'GCTA', 'GCTC']\n",
      "56 : ['GCGA', 'GCCTA', 'GCAC', 'CACG', 'GCGC', 'GCCGC', 'GCGA', 'GCTCG', 'CACG', 'GCCTA', 'GCAC', 'GCTTCG', 'GCCTC', 'CACG', 'GCCTCG', 'GCGA', 'GCTTG', 'GCTA', 'CAGCC', 'GCCGC', 'GCTC', 'GCCGCC', 'GCCTA', 'CACG', 'GCAG', 'GCTTG']\n",
      "57 : ['CACG', 'GCAC', 'GCAG', 'GCCGCC', 'CACG', 'GCCGCC', 'GCAC', 'GCGA', 'GCTA', 'GCTC', 'CAGGT', 'CGCA', 'GAGCC', 'GCAC', 'GCTC', 'GCTTG', 'CACG', 'GCAG', 'GCTTG', 'CACG', 'GCTC', 'GCCTA', 'GCTC', 'GCCGC', 'GCTTG', 'GCGA', 'GCTTA']\n",
      "58 : ['CACG', 'GCTTA', 'GCAG', 'GCTTG', 'GCTC', 'GCCGCC', 'CACG', 'GCCTA', 'GCTTCG', 'CACG', 'GAGT', 'GCAG', 'GCTTC', 'GCTC', 'CACG', 'GCCTA', 'GCAC', 'GCTTCG', 'GCCTC', 'CACG', 'GCTCG', 'GCCGC', 'GCTTCG', 'GCCTCG', 'CAGCC']\n",
      "59 : ['GCCGCC', 'GCCTA', 'CAGGC', 'CGCA', 'GACTT', 'GCTTCG', 'CACG', 'GCTTA', 'GCTTCG', 'GCTTG', 'GCTCG', 'CACG', 'GCGA', 'GCCGCC', 'CACG', 'GCTTC', 'GCTC', 'GCTTG', 'CACG', 'GCGCC', 'GCGA', 'GCTTG', 'CACG', 'GCGC', 'GCCGC']\n",
      "60 : ['GCTC', 'GCGA', 'GCCTA', 'GCAC', 'GCTC', 'CAGGT', 'CACG', 'GCTTCG', 'GCCGC', 'CACG', 'GCTC', 'GCCAG', 'GCTC', 'GCCGCC', 'CACG', 'GCGCC', 'GCGA', 'GCTTG', 'CACG', 'GCCGCC', 'GCTC', 'GCTC', 'CAGGT', 'CGCA', 'GACTT', 'GCTTCG']\n",
      "61 : ['CACG', 'GCTTA', 'GCTTCG', 'GCTTG', 'GCTCG', 'CACG', 'GCTTA', 'GCAG', 'GCCTG', 'GCTC', 'GCCGCC', 'CACG', 'GCCTA', 'GCAC', 'GCAG', 'GCCGCC', 'CAGGT', 'CACG', 'GCGA', 'GCTTG', 'GCTA', 'CACG', 'GCCTA', 'GCAC', 'GCAG']\n",
      "62 : ['GCCGCC', 'CACG', 'GCTCG', 'GCAG', 'GCCTG', 'GCTC', 'GCCGCC', 'CACG', 'GCTTA', 'GCAG', 'GCTG', 'GCTC', 'CACG', 'GCCTA', 'GCTTCG', 'CACG', 'GCCTA', 'GCAC', 'GCTC', 'GCTC', 'CAGGC', 'CGCA', 'GACTT', 'GCAC', 'GCGA', 'GCTTA']\n",
      "63 : ['GCTTA', 'CACG', 'GTGA', 'CACG', 'GCGCC', 'GCTTCG', 'GCTTC', 'GCCGT', 'GCGA', 'GCCGC', 'GCTC', 'CACG', 'GCCTA', 'GCAC', 'GCTC', 'GCTC', 'CACG', 'GCCTA', 'GCTTCG', 'CACG', 'GCGA', 'CACG', 'GCCGCC', 'GCCTC', 'GCTTC', 'GCTTC']\n",
      "64 : ['GCTC', 'GCCGC', 'CAGCC', 'GCCGCC', 'CACG', 'GCTA', 'GCGA', 'GCCAG', 'CTTCGCC', 'CGCA', 'GAGT', 'GCAC', 'GCTTCG', 'GCCTC', 'CACG', 'GCGA', 'GCCGC', 'GCCTA', 'CACG', 'GCTTC', 'GCTTCG', 'GCCGC', 'GCTC', 'CACG', 'GCTTA']\n",
      "65 : ['GCTTCG', 'GCCTG', 'GCTC', 'GCTTA', 'GCCAG', 'CACG', 'GCGA', 'GCTTG', 'GCTA', 'CACG', 'GCTTC', 'GCTTCG', 'GCCGC', 'GCTC', 'CACG', 'GCCTA', 'GCTC', 'GCTTC', 'GCCGT', 'GCTC', 'GCCGC', 'GCGA', 'GCCTA', 'GCTC', 'CAGGC', 'CGCA']\n",
      "66 : ['GACA', 'GCTTCG', 'GCCTC', 'GCTCG', 'GCAC', 'CACG', 'GCCTCG', 'GCAG', 'GCTTG', 'GCTA', 'GCCGCC', 'CACG', 'GCTA', 'GCTTCG', 'CACG', 'GCCGCC', 'GCAC', 'GCGA', 'GCAGG', 'GCTC', 'CACG', 'GCCTA', 'GCAC', 'GCTC', 'CACG', 'GCTA']\n",
      "67 : ['GCGA', 'GCCGC', 'GCTTA', 'GCAG', 'GCTTG', 'GCTCG', 'CACG', 'GCGC', 'GCCTC', 'GCTA', 'GCCGCC', 'CACG', 'GCTTCG', 'GCTG', 'CACG', 'GTCGA', 'GCGA', 'GCCAG', 'CAGGT', 'CGCA', 'GTAG', 'GCTTG', 'GCTA', 'CACG', 'GCCGCC', 'GCCTC']\n",
      "68 : ['GCTTC', 'GCTTC', 'GCTC', 'GCCGC', 'CAGCC', 'GCCGCC', 'CACG', 'GCTTA', 'GCTC', 'GCGA', 'GCCGCC', 'GCTC', 'CACG', 'GCAC', 'GCGA', 'GCCTA', 'GCAC', 'CACG', 'GCGA', 'GCTTA', 'GCTTA', 'CACG', 'GCCTA', 'GCTTCG', 'GCTTCG']\n",
      "69 : ['CACG', 'GCCGCC', 'GCAC', 'GCTTCG', 'GCCGC', 'GCCTA', 'CACG', 'GCGA', 'CACG', 'GCTA', 'GCGA', 'GCCTA', 'GCTC', 'CAGGC', 'CGCA', 'GACTT', 'GCTTCG', 'GCTTC', 'GCTC', 'GATG', 'GCAG', 'GCTTC', 'GCTC', 'CACG', 'GCCTA', 'GCTTCG']\n",
      "70 : ['GCTTCG', 'CACG', 'GCAC', 'GCTTCG', 'GCCTA', 'CACG', 'GCCTA', 'GCAC', 'GCTC', 'CACG', 'GCTC', 'GCCAG', 'GCTC', 'CACG', 'GCTTCG', 'GCTG', 'CACG', 'GATC', 'GCTC', 'GCGA', 'GCCTG', 'GCTC', 'GCTTG', 'CACG', 'GCCGCC', 'GCAC']\n",
      "71 : ['GCAG', 'GCTTG', 'GCTC', 'GCCGCC', 'CAGGT', 'CGCA', 'GTAG', 'GCTTG', 'GCTA', 'CACG', 'GCTTCG', 'GCTG', 'GCCTA', 'GCTC', 'GCTTG', 'CACG', 'GCAG', 'GCCGCC', 'CACG', 'GCAC', 'GCAG', 'GCCGCC', 'CACG', 'GCTCG', 'GCTTCG']\n",
      "72 : ['GCTTA', 'GCTA', 'CACG', 'GCGCC', 'GCTTCG', 'GCTTC', 'GCCGT', 'GCTTA', 'GCTC', 'GCCAC', 'GCAG', 'GCTTCG', 'GCTTG', 'CACG', 'GCTA', 'GCAG', 'GCTTC', 'GCTTC', 'GCTC', 'GCTA', 'CTTGCC', 'CGCA', 'GTAG', 'GCTTG', 'GCTA', 'CACG']\n",
      "73 : ['GCTC', 'GCCTG', 'GCTC', 'GCCGC', 'GCCAG', 'CACG', 'GCTG', 'GCGA', 'GCAG', 'GCCGC', 'CACG', 'GCTG', 'GCCGC', 'GCTTCG', 'GCTTC', 'CACG', 'GCTG', 'GCGA', 'GCAG', 'GCCGC', 'CACG', 'GCCGCC', 'GCTTCG', 'GCTTC', 'GCTC', 'GCCTA']\n",
      "74 : ['GCAG', 'GCTTC', 'GCTC', 'CACG', 'GCTA', 'GCTC', 'GCGCC', 'GCTTA', 'GCAG', 'GCTTG', 'GCTC', 'GCCGCC', 'CAGGT', 'CGCA', 'GTAT', 'GCCAG', 'CACG', 'GCGCC', 'GCAC', 'GCGA', 'GCTTG', 'GCGCC', 'GCTC', 'CAGGT', 'CACG', 'GCTTCG']\n",
      "75 : ['GCCGC', 'CACG', 'GCTTG', 'GCGA', 'GCCTA', 'GCCTC', 'GCCGC', 'GCTC', 'CAGCC', 'GCCGCC', 'CACG', 'GCGCC', 'GCAC', 'GCGA', 'GCTTG', 'GCTCG', 'GCAG', 'GCTTG', 'GCTCG', 'CACG', 'GCGCC', 'GCTTCG', 'GCCTC', 'GCCGC', 'GCCGCC']\n",
      "76 : ['GCTC', 'CAGGT', 'CACG', 'GCCTC', 'GCTTG', 'GCCTA', 'GCCGC', 'GCAG', 'GCTTC', 'GCTTC', 'GCTC', 'GCTA', 'CTTGCC']\n",
      "The length of fragment:  0  is  117\n",
      "The length of fragment:  1  is  115\n",
      "The length of fragment:  2  is  117\n",
      "The length of fragment:  3  is  117\n",
      "The length of fragment:  4  is  117\n",
      "The length of fragment:  5  is  118\n",
      "The length of fragment:  6  is  119\n",
      "The length of fragment:  7  is  118\n",
      "The length of fragment:  8  is  119\n",
      "The length of fragment:  9  is  118\n",
      "The length of fragment:  10  is  120\n",
      "The length of fragment:  11  is  119\n",
      "The length of fragment:  12  is  118\n",
      "The length of fragment:  13  is  119\n",
      "The length of fragment:  14  is  116\n",
      "The length of fragment:  15  is  118\n",
      "The length of fragment:  16  is  118\n",
      "The length of fragment:  17  is  120\n",
      "The length of fragment:  18  is  117\n",
      "The length of fragment:  19  is  116\n",
      "The length of fragment:  20  is  118\n",
      "The length of fragment:  21  is  118\n",
      "The length of fragment:  22  is  119\n",
      "The length of fragment:  23  is  120\n",
      "The length of fragment:  24  is  117\n",
      "The length of fragment:  25  is  119\n",
      "The length of fragment:  26  is  119\n",
      "The length of fragment:  27  is  115\n",
      "The length of fragment:  28  is  119\n",
      "The length of fragment:  29  is  116\n",
      "The length of fragment:  30  is  118\n",
      "The length of fragment:  31  is  116\n",
      "The length of fragment:  32  is  116\n",
      "The length of fragment:  33  is  115\n",
      "The length of fragment:  34  is  120\n",
      "The length of fragment:  35  is  118\n",
      "The length of fragment:  36  is  119\n",
      "The length of fragment:  37  is  120\n",
      "The length of fragment:  38  is  120\n",
      "The length of fragment:  39  is  117\n",
      "The length of fragment:  40  is  117\n",
      "The length of fragment:  41  is  116\n",
      "The length of fragment:  42  is  117\n",
      "The length of fragment:  43  is  118\n",
      "The length of fragment:  44  is  120\n",
      "The length of fragment:  45  is  117\n",
      "The length of fragment:  46  is  120\n",
      "The length of fragment:  47  is  119\n",
      "The length of fragment:  48  is  120\n",
      "The length of fragment:  49  is  119\n",
      "The length of fragment:  50  is  118\n",
      "The length of fragment:  51  is  119\n",
      "The length of fragment:  52  is  120\n",
      "The length of fragment:  53  is  118\n",
      "The length of fragment:  54  is  119\n",
      "The length of fragment:  55  is  117\n",
      "The length of fragment:  56  is  120\n",
      "The length of fragment:  57  is  120\n",
      "The length of fragment:  58  is  119\n",
      "The length of fragment:  59  is  119\n",
      "The length of fragment:  60  is  120\n",
      "The length of fragment:  61  is  115\n",
      "The length of fragment:  62  is  118\n",
      "The length of fragment:  63  is  120\n",
      "The length of fragment:  64  is  118\n",
      "The length of fragment:  65  is  120\n",
      "The length of fragment:  66  is  119\n",
      "The length of fragment:  67  is  120\n",
      "The length of fragment:  68  is  117\n",
      "The length of fragment:  69  is  120\n",
      "The length of fragment:  70  is  117\n",
      "The length of fragment:  71  is  116\n",
      "The length of fragment:  72  is  120\n",
      "The length of fragment:  73  is  119\n",
      "The length of fragment:  74  is  118\n",
      "The length of fragment:  75  is  120\n",
      "The length of fragment:  76  is  61\n",
      "Total nucleotide length for phrase is:  9045  bases\n"
     ]
    }
   ],
   "source": [
    "print(\"\\n\")\n",
    "for a,z in enumerate((nucleotideFragments)):\n",
    "    print (a,z)\n",
    "print(\"--------------------------------\")  \n",
    "for i in nucleotideFragmentsDict:\n",
    "    print(i,\":\",nucleotideFragmentsDict[i])\n",
    "print(\"--------------------------------\")\n",
    "for i in nucleotideFragmentsDictLong:\n",
    "    print(i,\":\",nucleotideFragmentsDictLong[i])\n",
    "nucleotideSum=0\n",
    "for i in nucleotideFragmentsDict:\n",
    "    print(\"The length of fragment: \", i, \" is \", len(nucleotideFragmentsDict[i]))\n",
    "    nucleotideSum+=len(nucleotideFragmentsDict[i])\n",
    "print (\"Total nucleotide length for phrase is: \", nucleotideSum, \" bases\")"
   ]
  },
  {
   "cell_type": "markdown",
   "metadata": {},
   "source": [
    "# Stage II\n",
    "## Loop over list of DNA fragments and assign a unique primer to each fragment\n",
    "### This fragment is tested so that it is unique and also does not feature in the information itself. The complimentary primer is also tested"
   ]
  },
  {
   "cell_type": "code",
   "execution_count": 20,
   "metadata": {},
   "outputs": [],
   "source": [
    "DNAfragmentList=nucleotideFragments\n",
    "\n",
    "\n",
    "uniqueAddressCounter=0\n",
    "uniqueAddress=[]\n",
    "uniqueCompAddress=[]\n",
    "fragmentDict={}\n",
    "\n",
    "\n",
    "# Try to produce the unique codes with the smallest nucleotides possible\n",
    "try:\n",
    "    uniqueAddressList=codingStrategy(len(DNAfragmentList))\n",
    "    \n",
    "    \n",
    "    for i in DNAfragmentList:\n",
    "        addressCode=uniqueAddressList[uniqueAddressCounter]\n",
    "        compAddressCode=complimentaryPrimer(uniqueAddressList[uniqueAddressCounter])\n",
    "#         print(\"Next Fragment\")\n",
    "        if (addressCode in i) or (compAddressCode in i) or (addressCode in uniqueAddress):\n",
    "            startingUAC=uniqueAddressCounter    \n",
    "            while (addressCode in i) or (compAddressCode in i) or (addressCode in uniqueAddress):\n",
    "#                 print(\"Found a case\")\n",
    "#                 print(addressCode,compAddressCode)\n",
    "                uniqueAddressCounter+=1\n",
    "                addressCode=uniqueAddressList[uniqueAddressCounter]\n",
    "                compAddressCode=complimentaryPrimer(uniqueAddressList[uniqueAddressCounter])\n",
    "\n",
    "\n",
    "            fragmentDict[addressCode]=i\n",
    "\n",
    "            uniqueAddress.append(addressCode)\n",
    "            uniqueCompAddress.append(compAddressCode)\n",
    "            uniqueAddressCounter=startingUAC\n",
    "\n",
    "        else:\n",
    "            fragmentDict[addressCode]=i\n",
    "\n",
    "            uniqueAddress.append(addressCode)\n",
    "            uniqueCompAddress.append(compAddressCode)\n",
    "            uniqueAddressCounter+=1\n",
    "\n",
    "# If not, restart the process with longer unique address codes            \n",
    "except:\n",
    "    uniqueAddress=[]\n",
    "    uniqueCompAddress=[]\n",
    "    fragmentDict={}\n",
    "    uniqueAddressCounter=0\n",
    "    for x in range(0,21):\n",
    "        if len(DNAfragmentList)<4**x:\n",
    "            print(x)\n",
    "            uniqueAddressList=codingStrategy((4**x))\n",
    "            break\n",
    "    print(uniqueAddressList)\n",
    "    for i in DNAfragmentList:\n",
    "        addressCode=uniqueAddressList[uniqueAddressCounter]\n",
    "        compAddressCode=complimentaryPrimer(uniqueAddressList[uniqueAddressCounter])\n",
    "#         print(\"Next Fragment\")\n",
    "        if (addressCode in i) or (compAddressCode in i) or (addressCode in uniqueAddress):\n",
    "            startingUAC=uniqueAddressCounter    \n",
    "            while (addressCode in i) or (compAddressCode in i) or (addressCode in uniqueAddress):\n",
    "#                 print(\"Found a case\")\n",
    "#                 print(addressCode,compAddressCode)\n",
    "                uniqueAddressCounter+=1\n",
    "                addressCode=uniqueAddressList[uniqueAddressCounter]\n",
    "                compAddressCode=complimentaryPrimer(uniqueAddressList[uniqueAddressCounter])\n",
    "\n",
    "\n",
    "            fragmentDict[addressCode]=i\n",
    "\n",
    "            uniqueAddress.append(addressCode)\n",
    "            uniqueCompAddress.append(compAddressCode)\n",
    "            uniqueAddressCounter=startingUAC\n",
    "\n",
    "        else:\n",
    "            fragmentDict[addressCode]=i\n",
    "\n",
    "            uniqueAddress.append(addressCode)\n",
    "            uniqueCompAddress.append(compAddressCode)\n",
    "            uniqueAddressCounter+=1\n"
   ]
  },
  {
   "cell_type": "markdown",
   "metadata": {},
   "source": [
    "## Stage II Output"
   ]
  },
  {
   "cell_type": "code",
   "execution_count": 21,
   "metadata": {},
   "outputs": [
    {
     "name": "stdout",
     "output_type": "stream",
     "text": [
      "77\n",
      "AAGA GACTTGCACGCGAGCTTAGCTTACACGGTGACACGGCGCCGCTTCGGCTTCGCCGTGCGAGCCGCGCTCCACGGCCTAGCACGCTCGCTCCACGGCCTAGCTTCGCACGGCGACACG\n",
      "AAGG GCCGCCGCCTCGCTTCGCTTCGCTCGCCGCCAGCCGCCGCCCACGGCTAGCGAGCCAGCTTCGCCCGCAGAGTGCACGCTTCGGCCTCCACGGCGAGCCGCGCCTACACGGCTTC\n",
      "AAGT GCTTCGGCCGCGCTCCACGGCTTAGCTTCGGCCTGGCTCGCTTAGCCAGCACGGCGAGCTTGGCTACACGGCTTCGCTTCGGCCGCGCTCCACGGCCTAGCTCGCTTCGCCGTGCTC\n",
      "AACA GCCGCGCGAGCCTAGCTCCAGGCCGCAGACAGCTTCGGCCTCGCTCGGCACCACGGCCTCGGCAGGCTTGGCTAGCCGCCCACGGCTAGCTTCGCACGGCCGCCGCACGCGAGCAGG\n",
      "AACG GCTCCACGGCCTAGCACGCTCCACGGCTAGCGAGCCGCGCTTAGCAGGCTTGGCTCGCACGGCGCGCCTCGCTAGCCGCCCACGGCTTCGGCTGCACGGTCGAGCGAGCCAGCAGGT\n",
      "AACT CGCAGTAGGCTTGGCTACACGGCCGCCGCCTCGCTTCGCTTCGCTCGCCGCCAGCCGCCGCCCACGGCTTAGCTCGCGAGCCGCCGCTCCACGGCACGCGAGCCTAGCACCACGGCGA\n",
      "AACC GCTTAGCTTACACGGCCTAGCTTCGGCTTCGCACGGCCGCCGCACGCTTCGGCCGCGCCTACACGGCGACACGGCTAGCGAGCCTAGCTCCAGGCCGCAGACTTGCTTCGGCTTCGCTC\n",
      "AATA GCCTAGCAGGCTTCGCTCCACGGCCTAGCTTCGGCTTCGCACGGCACGCTTCGGCCTACACGGCCTAGCACGCTCCACGGCTCGCCAGGCTCCACGGCTTCGGCTGCACGGCACGCTC\n",
      "AATG GCGAGCCTGGCTCGCTTGCACGGCCGCCGCACGCAGGCTTGGCTCGCCGCCCAGGTCGCAGTAGGCTTGGCTACACGGCTTCGGCTGGCCTAGCTCGCTTGCACGGCAGGCCGCCCACG\n",
      "AATT GCACGCAGGCCGCCCACGGCTCGGCTTCGGCTTAGCTACACGGCGCCGCTTCGGCTTCGCCGTGCTTAGCTCGCCACGCAGGCTTCGGCTTGCACGGCTAGCAGGCTTCGCTTCGCTC\n",
      "AATC GCTACTTGCCCGCAGTAGGCTTGGCTACACGGCTCGCCTGGCTCGCCGCGCCAGCACGGCTGGCGAGCAGGCCGCCACGGCTGGCCGCGCTTCGGCTTCCACGGCTGGCGAGCAGGCCGC\n",
      "AGAA CACGGCCGCCGCTTCGGCTTCGCTCGCCTAGCAGGCTTCGCTCCACGGCTAGCTCGCGCCGCTTAGCAGGCTTGGCTCGCCGCCCAGGTCGCAGTATGCCAGCACGGCGCCGCACGCGA\n",
      "AGAG GCTTGGCGCCGCTCCAGGTCACGGCTTCGGCCGCCACGGCTTGGCGAGCCTAGCCTCGCCGCGCTCCAGCCGCCGCCCACGGCGCCGCACGCGAGCTTGGCTCGGCAGGCTTGGCTCG\n",
      "AGAC CACGGCGCCGCTTCGGCCTCGCCGCGCCGCCGCTCCAGGTCACGGCCTCGCTTGGCCTAGCCGCGCAGGCTTCGCTTCGCTCGCTACTTGCCCGCAGTATGCCTCGCCTACACGGCCTA\n",
      "AGAT GCACGCCAGCACGGCTCGCCTAGCTCGCCGCGCTTGGCGAGCTTACACGGCCGCCGCCTCGCTTCGCTTCGCTCGCCGCCACGGCCGCCGCACGCGAGCTTAGCTTACACGGCTTG\n",
      "AGGA GCTTCGGCCTACACGGCTGGCGAGCTAGCTCCAGGTCGCAGTCGCGCTTCGGCCGCCACGGCTTAGCTTCGGCCGCCGCTCCACGGCCGTGCTTCGGCCGCCGCCGCCGCTCGCCGCC\n",
      "AGCG GCCGCCGCAGGCTTCGGCTTGCACGGCTTCGGCTGCACGGCCTAGCACGCGAGCCTACACGGCTGGCGAGCAGGCCGCCACGGCCTAGCACGCTTCGGCCTCCACGGCTTCGGCCTCG\n",
      "AGGC CAGCCGCCGCCGCCTACAGGTCGCAGTCGCGCTTCGGCCGCCACGGCCGCCGCACGCGAGCTTAGCTTACACGGCTAGCTCGCGAGCCTAGCACCACGGCGCGCCGCGCGAGCTCGCACG\n",
      "AGTA GCCTAGCACGCTTCGGCCTCCACGGCCTCGGCGAGCTTGGCTACAGCCGCCGCGCTCGCCGCCGCCTACACGGCAGGCTTGCACGGCACGCAGGCCGCCCACGGCCGCCGCACGCGA\n",
      "AAGC GCTAGCTCCAGGTCGCAGAGCCGCACGCTCGCTTGCACGGCAGGCTTGCACGGCTCGCCTAGCTCGCCGCGCTTGGCGAGCTTACACGGCTTAGCAGGCTTGGCTCGCCGCCCACG\n",
      "AGTC GCCTAGCTTCGCACGGAGTGCAGGCTTCGCTCCACGGCCTAGCACGCTTCGGCCTCCACGGCTCGGCCGCGCTTCGGCCTCGCAGCCGCCGCCGCCTACAGGCCGCAGACTTGCTTCG\n",
      "AGTT CACGGCTTAGCTTCGGCTTGGCTCGCACGGCGAGCCGCCCACGGCTTCGCTCGCTTGCACGGCGCCGCGAGCTTGCACGGCGCGCCGCGCTCGCGAGCCTAGCACGCTCCAGGTCACG\n",
      "AGCA GCTTCGGCCGCCACGGCTCGCCAGGCTCGCCGCCCACGGCGCCGCGAGCTTGCACGGCCGCCGCTCGCTCCAGGTCGCAGACTTGCTTCGCACGGCTTAGCTTCGGCTTGGCTCGCACG\n",
      "ACAA GCTTAGCAGGCCTGGCTCGCCGCCCACGGCCTAGCACGCAGGCCGCCCAGGTCACGGCGAGCTTGGCTACACGGCCTAGCACGCAGGCCGCCCACGGCTCGGCAGGCCTGGCTCGCCGCC\n",
      "AGTG CACGGCTTAGCAGGCTGGCTCCACGGCCTAGCTTCGCACGGCCTAGCACGCTCGCTCCAGGCCGCAGACTTGCACGCGAGCTTAGCTTACACGGTGACACGGCGCCGCTTCGGCTTC\n",
      "ACAG GCCGTGCGAGCCGCGCTCCACGGCCTAGCACGCTCGCTCCACGGCCTAGCTTCGCACGGCGACACGGCCGCCGCCTCGCTTCGCTTCGCTCGCCGCCAGCCGCCGCCCACGGCTAGCGA\n",
      "ACAT GCCAGCTTCGCCCGCAGAGTGCACGCTTCGGCCTCCACGGCGAGCCGCGCCTACACGGCTTCGCTTCGGCCGCGCTCCACGGCTTAGCTTCGGCCTGGCTCGCTTAGCCAGCACGGCGA\n",
      "ACGC GCTTGGCTACACGGCTTCGCTTCGGCCGCGCTCCACGGCCTAGCTCGCTTCGCCGTGCTCGCCGCGCGAGCCTAGCTCCAGGCCGCAGACAGCTTCGGCCTCGCTCGGCACCACG\n",
      "ACAC GCCTCGGCAGGCTTGGCTAGCCGCCCACGGCTAGCTTCGCACGGCCGCCGCACGCGAGCAGGGCTCCACGGCCTAGCACGCTCCACGGCTAGCGAGCCGCGCTTAGCAGGCTTGGCTCG\n",
      "ACGA CACGGCGCGCCTCGCTAGCCGCCCACGGCTTCGGCTGCACGGTCGAGCGAGCCAGCAGGTCGCAGTAGGCTTGGCTACACGGCCGCCGCCTCGCTTCGCTTCGCTCGCCGCCAGCC\n",
      "ACGT GCCGCCCACGGCTTAGCTCGCGAGCCGCCGCTCCACGGCACGCGAGCCTAGCACCACGGCGAGCTTAGCTTACACGGCCTAGCTTCGGCTTCGCACGGCCGCCGCACGCTTCGGCCGC\n",
      "ACCA GCCTACACGGCGACACGGCTAGCGAGCCTAGCTCCAGGCCGCAGACTTGCTTCGGCTTCGCTCGCCTAGCAGGCTTCGCTCCACGGCCTAGCTTCGGCTTCGCACGGCACGCTTCG\n",
      "AGCT GCCTACACGGCCTAGCACGCTCCACGGCTCGCCAGGCTCCACGGCTTCGGCTGCACGGCACGCTCGCGAGCCTGGCTCGCTTGCACGGCCGCCGCACGCAGGCTTGGCTCGCCGCC\n",
      "ACCT CAGGTCGCAGTAGGCTTGGCTACACGGCTTCGGCTGGCCTAGCTCGCTTGCACGGCAGGCCGCCCACGGCACGCAGGCCGCCCACGGCTCGGCTTCGGCTTAGCTACACGGCGCC\n",
      "AGGT GCTTCGGCTTCGCCGTGCTTAGCTCGCCACGCAGGCTTCGGCTTGCACGGCTAGCAGGCTTCGCTTCGCTCGCTACTTGCCCGCAGTAGGCTTGGCTACACGGCTCGCCTGGCTCGCCGC\n",
      "ACTA GCCAGCACGGCTGGCGAGCAGGCCGCCACGGCTGGCCGCGCTTCGGCTTCCACGGCTGGCGAGCAGGCCGCCACGGCCGCCGCTTCGGCTTCGCTCGCCTAGCAGGCTTCGCTCCACG\n",
      "ACTG GCTAGCTCGCGCCGCTTAGCAGGCTTGGCTCGCCGCCCAGGTCGCAGTATGCCAGCACGGCGCCGCACGCGAGCTTGGCGCCGCTCCAGGTCACGGCTTCGGCCGCCACGGCTTGGCGA\n",
      "ACTC GCCTAGCCTCGCCGCGCTCCAGCCGCCGCCCACGGCGCCGCACGCGAGCTTGGCTCGGCAGGCTTGGCTCGCACGGCGCCGCTTCGGCCTCGCCGCGCCGCCGCTCCAGGTCACGGCCTC\n",
      "ATAA GCTTGGCCTAGCCGCGCAGGCTTCGCTTCGCTCGCTACTTGCCCGCAGACTTGCACGCGAGCTTAGCTTACACGGTGACACGGCGCCGCTTCGGCTTCGCCGTGCGAGCCGCGCTCCACG\n",
      "ACCG GCCTAGCACGCTCGCTCCACGGCCTAGCTTCGCACGGCGACACGGCCGCCGCCTCGCTTCGCTTCGCTCGCCGCCAGCCGCCGCCCACGGCTAGCGAGCCAGCTTCGCCCGCAGAGT\n",
      "ACTT GCACGCTTCGGCCTCCACGGCGAGCCGCGCCTACACGGCTTCGCTTCGGCCGCGCTCCACGGCTTAGCTTCGGCCTGGCTCGCTTAGCCAGCACGGCGAGCTTGGCTACACGGCTTC\n",
      "ATAG GCTTCGGCCGCGCTCCACGGCCTAGCTCGCTTCGCCGTGCTCGCCGCGCGAGCCTAGCTCCAGGCCGCAGACAGCTTCGGCCTCGCTCGGCACCACGGCCTCGGCAGGCTTGGCTA\n",
      "ATAC GCCGCCCACGGCTAGCTTCGCACGGCCGCCGCACGCGAGCAGGGCTCCACGGCCTAGCACGCTCCACGGCTAGCGAGCCGCGCTTAGCAGGCTTGGCTCGCACGGCGCGCCTCGCTA\n",
      "ATAT GCCGCCCACGGCTTCGGCTGCACGGTCGAGCGAGCCAGCAGGTCGCAGTAGGCTTGGCTACACGGCCGCCGCCTCGCTTCGCTTCGCTCGCCGCCAGCCGCCGCCCACGGCTTAGCTC\n",
      "ATGA GCGAGCCGCCGCTCCACGGCACGCGAGCCTAGCACCACGGCGAGCTTAGCTTACACGGCCTAGCTTCGGCTTCGCACGGCCGCCGCACGCTTCGGCCGCGCCTACACGGCGACACGGCTA\n",
      "ATGG GCGAGCCTAGCTCCAGGCCGCAGACTTGCTTCGGCTTCGCTCGCCTAGCAGGCTTCGCTCCACGGCCTAGCTTCGGCTTCGCACGGCACGCTTCGGCCTACACGGCCTAGCACGCTC\n",
      "ATGC CACGGCTCGCCAGGCTCCACGGCTTCGGCTGCACGGCACGCTCGCGAGCCTGGCTCGCTTGCACGGCCGCCGCACGCAGGCTTGGCTCGCCGCCCAGGTCGCAGTAGGCTTGGCTACACG\n",
      "ATCA GCTTCGGCTGGCCTAGCTCGCTTGCACGGCAGGCCGCCCACGGCACGCAGGCCGCCCACGGCTCGGCTTCGGCTTAGCTACACGGCGCCGCTTCGGCTTCGCCGTGCTTAGCTCGCCAC\n",
      "ATCT GCAGGCTTCGGCTTGCACGGCTAGCAGGCTTCGCTTCGCTCGCTACTTGCCCGCAGTAGGCTTGGCTACACGGCTCGCCTGGCTCGCCGCGCCAGCACGGCTGGCGAGCAGGCCGCCACG\n",
      "ATGT GCTGGCCGCGCTTCGGCTTCCACGGCTGGCGAGCAGGCCGCCACGGCCGCCGCTTCGGCTTCGCTCGCCTAGCAGGCTTCGCTCCACGGCTAGCTCGCGCCGCTTAGCAGGCTTGGCTC\n",
      "ATCC GCCGCCCAGGTCGCAGTATGCCAGCACGGCGCCGCACGCGAGCTTGGCGCCGCTCCAGGTCACGGCTTCGGCCGCCACGGCTTGGCGAGCCTAGCCTCGCCGCGCTCCAGCCGCCGCC\n",
      "ATTA CACGGCGCCGCACGCGAGCTTGGCTCGGCAGGCTTGGCTCGCACGGCGCCGCTTCGGCCTCGCCGCGCCGCCGCTCCAGGTCACGGCCTCGCTTGGCCTAGCCGCGCAGGCTTCGCTTC\n",
      "AGCC GCTCGCTACTTGCCCGCAGTATGCCTCGCCTACACGGCCTAGCACGCCAGCACGGCTCGCCTAGCTCGCCGCGCTTGGCGAGCTTACACGGCCGCCGCCTCGCTTCGCTTCGCTCGCCGC\n",
      "ATTG CACGGCCGCCGCACGCGAGCTTAGCTTACACGGCTTGGCTTCGGCCTACACGGCTGGCGAGCTAGCTCCAGGTCGCAGTCGCGCTTCGGCCGCCACGGCTTAGCTTCGGCCGCCGCTC\n",
      "ATTC CACGGCCGTGCTTCGGCCGCCGCCGCCGCTCGCCGCCGCCGCCGCAGGCTTCGGCTTGCACGGCTTCGGCTGCACGGCCTAGCACGCGAGCCTACACGGCTGGCGAGCAGGCCGCCACG\n",
      "GAAC GCCTAGCACGCTTCGGCCTCCACGGCTTCGGCCTCGCAGCCGCCGCCGCCTACAGGTCGCAGTCGCGCTTCGGCCGCCACGGCCGCCGCACGCGAGCTTAGCTTACACGGCTAGCTC\n",
      "GAAT GCGAGCCTAGCACCACGGCGCGCCGCGCGAGCTCGCACGGCCTAGCACGCTTCGGCCTCCACGGCCTCGGCGAGCTTGGCTACAGCCGCCGCGCTCGCCGCCGCCTACACGGCAGGCTTG\n",
      "GAAG CACGGCACGCAGGCCGCCCACGGCCGCCGCACGCGAGCTAGCTCCAGGTCGCAGAGCCGCACGCTCGCTTGCACGGCAGGCTTGCACGGCTCGCCTAGCTCGCCGCGCTTGGCGAGCTTA\n",
      "GAGA CACGGCTTAGCAGGCTTGGCTCGCCGCCCACGGCCTAGCTTCGCACGGAGTGCAGGCTTCGCTCCACGGCCTAGCACGCTTCGGCCTCCACGGCTCGGCCGCGCTTCGGCCTCGCAGCC\n",
      "GAGG GCCGCCGCCTACAGGCCGCAGACTTGCTTCGCACGGCTTAGCTTCGGCTTGGCTCGCACGGCGAGCCGCCCACGGCTTCGCTCGCTTGCACGGCGCCGCGAGCTTGCACGGCGCGCCGC\n",
      "GAGT GCTCGCGAGCCTAGCACGCTCCAGGTCACGGCTTCGGCCGCCACGGCTCGCCAGGCTCGCCGCCCACGGCGCCGCGAGCTTGCACGGCCGCCGCTCGCTCCAGGTCGCAGACTTGCTTCG\n",
      "GACA CACGGCTTAGCTTCGGCTTGGCTCGCACGGCTTAGCAGGCCTGGCTCGCCGCCCACGGCCTAGCACGCAGGCCGCCCAGGTCACGGCGAGCTTGGCTACACGGCCTAGCACGCAG\n",
      "GACG GCCGCCCACGGCTCGGCAGGCCTGGCTCGCCGCCCACGGCTTAGCAGGCTGGCTCCACGGCCTAGCTTCGCACGGCCTAGCACGCTCGCTCCAGGCCGCAGACTTGCACGCGAGCTTA\n",
      "GACC GCTTACACGGTGACACGGCGCCGCTTCGGCTTCGCCGTGCGAGCCGCGCTCCACGGCCTAGCACGCTCGCTCCACGGCCTAGCTTCGCACGGCGACACGGCCGCCGCCTCGCTTCGCTTC\n",
      "GACT GCTCGCCGCCAGCCGCCGCCCACGGCTAGCGAGCCAGCTTCGCCCGCAGAGTGCACGCTTCGGCCTCCACGGCGAGCCGCGCCTACACGGCTTCGCTTCGGCCGCGCTCCACGGCTTA\n",
      "GATA GCTTCGGCCTGGCTCGCTTAGCCAGCACGGCGAGCTTGGCTACACGGCTTCGCTTCGGCCGCGCTCCACGGCCTAGCTCGCTTCGCCGTGCTCGCCGCGCGAGCCTAGCTCCAGGCCGCA\n",
      "GATG GACAGCTTCGGCCTCGCTCGGCACCACGGCCTCGGCAGGCTTGGCTAGCCGCCCACGGCTAGCTTCGCACGGCCGCCGCACGCGAGCAGGGCTCCACGGCCTAGCACGCTCCACGGCTA\n",
      "GATT GCGAGCCGCGCTTAGCAGGCTTGGCTCGCACGGCGCGCCTCGCTAGCCGCCCACGGCTTCGGCTGCACGGTCGAGCGAGCCAGCAGGTCGCAGTAGGCTTGGCTACACGGCCGCCGCCTC\n",
      "GGAA GCTTCGCTTCGCTCGCCGCCAGCCGCCGCCCACGGCTTAGCTCGCGAGCCGCCGCTCCACGGCACGCGAGCCTAGCACCACGGCGAGCTTAGCTTACACGGCCTAGCTTCGGCTTCG\n",
      "GGAG CACGGCCGCCGCACGCTTCGGCCGCGCCTACACGGCGACACGGCTAGCGAGCCTAGCTCCAGGCCGCAGACTTGCTTCGGCTTCGCTCGATGGCAGGCTTCGCTCCACGGCCTAGCTTCG\n",
      "GGTA GCTTCGCACGGCACGCTTCGGCCTACACGGCCTAGCACGCTCCACGGCTCGCCAGGCTCCACGGCTTCGGCTGCACGGATCGCTCGCGAGCCTGGCTCGCTTGCACGGCCGCCGCAC\n",
      "GGAC GCAGGCTTGGCTCGCCGCCCAGGTCGCAGTAGGCTTGGCTACACGGCTTCGGCTGGCCTAGCTCGCTTGCACGGCAGGCCGCCCACGGCACGCAGGCCGCCCACGGCTCGGCTTCG\n",
      "GGAT GCTTAGCTACACGGCGCCGCTTCGGCTTCGCCGTGCTTAGCTCGCCACGCAGGCTTCGGCTTGCACGGCTAGCAGGCTTCGCTTCGCTCGCTACTTGCCCGCAGTAGGCTTGGCTACACG\n",
      "ATCG GCTCGCCTGGCTCGCCGCGCCAGCACGGCTGGCGAGCAGGCCGCCACGGCTGGCCGCGCTTCGGCTTCCACGGCTGGCGAGCAGGCCGCCACGGCCGCCGCTTCGGCTTCGCTCGCCTA\n",
      "GGCA GCAGGCTTCGCTCCACGGCTAGCTCGCGCCGCTTAGCAGGCTTGGCTCGCCGCCCAGGTCGCAGTATGCCAGCACGGCGCCGCACGCGAGCTTGGCGCCGCTCCAGGTCACGGCTTCG\n",
      "GGTT GCCGCCACGGCTTGGCGAGCCTAGCCTCGCCGCGCTCCAGCCGCCGCCCACGGCGCCGCACGCGAGCTTGGCTCGGCAGGCTTGGCTCGCACGGCGCCGCTTCGGCCTCGCCGCGCCGCC\n",
      "GGTG GCTCCAGGTCACGGCCTCGCTTGGCCTAGCCGCGCAGGCTTCGCTTCGCTCGCTACTTGCC\n",
      "AAGA  -  TTCT\n",
      "AAGG  -  TTCC\n",
      "AAGT  -  TTCA\n",
      "AACA  -  TTGT\n",
      "AACG  -  TTGC\n",
      "AACT  -  TTGA\n",
      "AACC  -  TTGG\n",
      "AATA  -  TTAT\n",
      "AATG  -  TTAC\n",
      "AATT  -  TTAA\n",
      "AATC  -  TTAG\n",
      "AGAA  -  TCTT\n",
      "AGAG  -  TCTC\n",
      "AGAC  -  TCTG\n",
      "AGAT  -  TCTA\n",
      "AGGA  -  TCCT\n",
      "AGCG  -  TCGC\n",
      "AGGC  -  TCCG\n",
      "AGTA  -  TCAT\n",
      "AAGC  -  TTCG\n",
      "AGTC  -  TCAG\n",
      "AGTT  -  TCAA\n",
      "AGCA  -  TCGT\n",
      "ACAA  -  TGTT\n",
      "AGTG  -  TCAC\n",
      "ACAG  -  TGTC\n",
      "ACAT  -  TGTA\n",
      "ACGC  -  TGCG\n",
      "ACAC  -  TGTG\n",
      "ACGA  -  TGCT\n",
      "ACGT  -  TGCA\n",
      "ACCA  -  TGGT\n",
      "AGCT  -  TCGA\n",
      "ACCT  -  TGGA\n",
      "AGGT  -  TCCA\n",
      "ACTA  -  TGAT\n",
      "ACTG  -  TGAC\n",
      "ACTC  -  TGAG\n",
      "ATAA  -  TATT\n",
      "ACCG  -  TGGC\n",
      "ACTT  -  TGAA\n",
      "ATAG  -  TATC\n",
      "ATAC  -  TATG\n",
      "ATAT  -  TATA\n",
      "ATGA  -  TACT\n",
      "ATGG  -  TACC\n",
      "ATGC  -  TACG\n",
      "ATCA  -  TAGT\n",
      "ATCT  -  TAGA\n",
      "ATGT  -  TACA\n",
      "ATCC  -  TAGG\n",
      "ATTA  -  TAAT\n",
      "AGCC  -  TCGG\n",
      "ATTG  -  TAAC\n",
      "ATTC  -  TAAG\n",
      "GAAC  -  CTTG\n",
      "GAAT  -  CTTA\n",
      "GAAG  -  CTTC\n",
      "GAGA  -  CTCT\n",
      "GAGG  -  CTCC\n",
      "GAGT  -  CTCA\n",
      "GACA  -  CTGT\n",
      "GACG  -  CTGC\n",
      "GACC  -  CTGG\n",
      "GACT  -  CTGA\n",
      "GATA  -  CTAT\n",
      "GATG  -  CTAC\n",
      "GATT  -  CTAA\n",
      "GGAA  -  CCTT\n",
      "GGAG  -  CCTC\n",
      "GGTA  -  CCAT\n",
      "GGAC  -  CCTG\n",
      "GGAT  -  CCTA\n",
      "ATCG  -  TAGC\n",
      "GGCA  -  CCGT\n",
      "GGTT  -  CCAA\n",
      "GGTG  -  CCAC\n"
     ]
    }
   ],
   "source": [
    "print(len(fragmentDict))\n",
    "\n",
    "for i in (fragmentDict):\n",
    "    print(i,fragmentDict[i])\n",
    "    \n",
    "for j,k in zip(uniqueAddress,uniqueCompAddress):\n",
    "    print(j,\" - \", k)\n"
   ]
  },
  {
   "cell_type": "markdown",
   "metadata": {},
   "source": [
    "# Stage III\n",
    "## Compute the parity check for the address codes\n",
    "### Each address code is converted into its binary form, output is 1 if there are odd number of \"1\"s and 0 if there are even number of \"1\"s"
   ]
  },
  {
   "cell_type": "code",
   "execution_count": 33,
   "metadata": {},
   "outputs": [
    {
     "name": "stdout",
     "output_type": "stream",
     "text": [
      "{'AAGA': 1, 'AAGG': 0, 'AAGT': 0, 'AACA': 0, 'AACG': 1, 'AACT': 1, 'AACC': 0, 'AATA': 1, 'AATG': 0, 'AATT': 0, 'AATC': 1, 'AGAA': 1, 'AGAG': 0, 'AGAC': 1, 'AGAT': 0, 'AGGA': 0, 'AGCG': 0, 'AGGC': 0, 'AGTA': 0, 'AAGC': 1, 'AGTC': 0, 'AGTT': 1, 'AGCA': 1, 'ACAA': 0, 'AGTG': 1, 'ACAG': 1, 'ACAT': 1, 'ACGC': 1, 'ACAC': 0, 'ACGA': 1, 'ACGT': 0, 'ACCA': 0, 'AGCT': 0, 'ACCT': 1, 'AGGT': 1, 'ACTA': 1, 'ACTG': 0, 'ACTC': 1, 'ATAA': 1, 'ACCG': 1, 'ACTT': 0, 'ATAG': 0, 'ATAC': 1, 'ATAT': 0, 'ATGA': 0, 'ATGG': 1, 'ATGC': 0, 'ATCA': 1, 'ATCT': 0, 'ATGT': 1, 'ATCC': 1, 'ATTA': 0, 'AGCC': 1, 'ATTG': 1, 'ATTC': 0, 'GAAC': 1, 'GAAT': 0, 'GAAG': 0, 'GAGA': 0, 'GAGG': 1, 'GAGT': 1, 'GACA': 1, 'GACG': 0, 'GACC': 1, 'GACT': 0, 'GATA': 0, 'GATG': 1, 'GATT': 1, 'GGAA': 0, 'GGAG': 1, 'GGTA': 1, 'GGAC': 0, 'GGAT': 1, 'ATCG': 0, 'GGCA': 0, 'GGTT': 0, 'GGTG': 0}\n"
     ]
    }
   ],
   "source": [
    "parityCheck={}\n",
    "parityList=[]\n",
    "binaryList=[]\n",
    "\n",
    "for testValue in uniqueAddress:\n",
    "    binaryCode=binaryConverter(testValue)\n",
    "    binaryList.append(binaryCode)\n",
    "    numberOccurences=binaryCode.count(\"1\")\n",
    "    if numberOccurences % 2 == 0:\n",
    "        parityCheck[testValue]=0\n",
    "        parityList.append(0)\n",
    "    else:\n",
    "        parityCheck[testValue]=1\n",
    "        parityList.append(1)\n",
    "    \n",
    "print (parityCheck)"
   ]
  },
  {
   "cell_type": "markdown",
   "metadata": {},
   "source": [
    "# Stage IV\n",
    "## Determine the percentage of GC nucleotide bases "
   ]
  },
  {
   "cell_type": "code",
   "execution_count": 66,
   "metadata": {},
   "outputs": [],
   "source": [
    "percentageListUniqueAddress=[]\n",
    "percentageListComplimentary=[]\n",
    "percentageListFragment=[]\n",
    "\n",
    "for testValue1,testValue2, testValue3 in zip(uniqueAddress, uniqueCompAddress, nucleotideFragments) :\n",
    "    percentageValue1=gcPercentage(testValue1)\n",
    "    percentageValue2=gcPercentage(testValue2)\n",
    "    percentageValue3=gcPercentage(testValue3)\n",
    "    \n",
    "    percentageListUniqueAddress.append(percentageValue1)\n",
    "    percentageListComplimentary.append(percentageValue2)\n",
    "    percentageListFragment.append(percentageValue3)\n",
    "\n",
    "#     print(testValue1, \" - \",testValue2, \" - \",testValue3[0:4], \" - \", \"Percentages: \", percentageValue1, \" - \", percentageValue2, \" - \", percentageValue3, \" - \",)"
   ]
  },
  {
   "cell_type": "code",
   "execution_count": null,
   "metadata": {},
   "outputs": [],
   "source": []
  },
  {
   "cell_type": "code",
   "execution_count": null,
   "metadata": {},
   "outputs": [],
   "source": []
  },
  {
   "cell_type": "markdown",
   "metadata": {},
   "source": [
    "# Output"
   ]
  },
  {
   "cell_type": "code",
   "execution_count": 48,
   "metadata": {},
   "outputs": [
    {
     "data": {
      "text/html": [
       "<div>\n",
       "<style scoped>\n",
       "    .dataframe tbody tr th:only-of-type {\n",
       "        vertical-align: middle;\n",
       "    }\n",
       "\n",
       "    .dataframe tbody tr th {\n",
       "        vertical-align: top;\n",
       "    }\n",
       "\n",
       "    .dataframe thead th {\n",
       "        text-align: right;\n",
       "    }\n",
       "</style>\n",
       "<table border=\"1\" class=\"dataframe\">\n",
       "  <thead>\n",
       "    <tr style=\"text-align: right;\">\n",
       "      <th></th>\n",
       "      <th>Address Code</th>\n",
       "      <th>Address Code - Binary</th>\n",
       "      <th>Address Code - Parity Check</th>\n",
       "      <th>Address Code - GC Percentage</th>\n",
       "      <th>Complimentary Address Code</th>\n",
       "      <th>Complimentary Address Code - GC Percentage</th>\n",
       "      <th>Information Fragment</th>\n",
       "      <th>Information Fragment - GC Percentage</th>\n",
       "    </tr>\n",
       "  </thead>\n",
       "  <tbody>\n",
       "    <tr>\n",
       "      <th>0</th>\n",
       "      <td>AAGA</td>\n",
       "      <td>00001000</td>\n",
       "      <td>1</td>\n",
       "      <td>0.0</td>\n",
       "      <td>TTCT</td>\n",
       "      <td>0.0</td>\n",
       "      <td>GACTTGCACGCGAGCTTAGCTTACACGGTGACACGGCGCCGCTTCG...</td>\n",
       "      <td>35.897436</td>\n",
       "    </tr>\n",
       "    <tr>\n",
       "      <th>1</th>\n",
       "      <td>AAGG</td>\n",
       "      <td>00001010</td>\n",
       "      <td>0</td>\n",
       "      <td>0.0</td>\n",
       "      <td>TTCC</td>\n",
       "      <td>0.0</td>\n",
       "      <td>GCCGCCGCCTCGCTTCGCTTCGCTCGCCGCCAGCCGCCGCCCACGG...</td>\n",
       "      <td>43.478261</td>\n",
       "    </tr>\n",
       "    <tr>\n",
       "      <th>2</th>\n",
       "      <td>AAGT</td>\n",
       "      <td>00001001</td>\n",
       "      <td>0</td>\n",
       "      <td>0.0</td>\n",
       "      <td>TTCA</td>\n",
       "      <td>0.0</td>\n",
       "      <td>GCTTCGGCCGCGCTCCACGGCTTAGCTTCGGCCTGGCTCGCTTAGC...</td>\n",
       "      <td>41.025641</td>\n",
       "    </tr>\n",
       "    <tr>\n",
       "      <th>3</th>\n",
       "      <td>AACA</td>\n",
       "      <td>00001100</td>\n",
       "      <td>0</td>\n",
       "      <td>0.0</td>\n",
       "      <td>TTGT</td>\n",
       "      <td>0.0</td>\n",
       "      <td>GCCGCGCGAGCCTAGCTCCAGGCCGCAGACAGCTTCGGCCTCGCTC...</td>\n",
       "      <td>42.735043</td>\n",
       "    </tr>\n",
       "    <tr>\n",
       "      <th>4</th>\n",
       "      <td>AACG</td>\n",
       "      <td>00001110</td>\n",
       "      <td>1</td>\n",
       "      <td>0.0</td>\n",
       "      <td>TTGC</td>\n",
       "      <td>50.0</td>\n",
       "      <td>GCTCCACGGCCTAGCACGCTCCACGGCTAGCGAGCCGCGCTTAGCA...</td>\n",
       "      <td>42.735043</td>\n",
       "    </tr>\n",
       "  </tbody>\n",
       "</table>\n",
       "</div>"
      ],
      "text/plain": [
       "  Address Code Address Code - Binary  Address Code - Parity Check  \\\n",
       "0         AAGA              00001000                            1   \n",
       "1         AAGG              00001010                            0   \n",
       "2         AAGT              00001001                            0   \n",
       "3         AACA              00001100                            0   \n",
       "4         AACG              00001110                            1   \n",
       "\n",
       "   Address Code - GC Percentage Complimentary Address Code  \\\n",
       "0                           0.0                       TTCT   \n",
       "1                           0.0                       TTCC   \n",
       "2                           0.0                       TTCA   \n",
       "3                           0.0                       TTGT   \n",
       "4                           0.0                       TTGC   \n",
       "\n",
       "   Complimentary Address Code - GC Percentage  \\\n",
       "0                                         0.0   \n",
       "1                                         0.0   \n",
       "2                                         0.0   \n",
       "3                                         0.0   \n",
       "4                                        50.0   \n",
       "\n",
       "                                Information Fragment  \\\n",
       "0  GACTTGCACGCGAGCTTAGCTTACACGGTGACACGGCGCCGCTTCG...   \n",
       "1  GCCGCCGCCTCGCTTCGCTTCGCTCGCCGCCAGCCGCCGCCCACGG...   \n",
       "2  GCTTCGGCCGCGCTCCACGGCTTAGCTTCGGCCTGGCTCGCTTAGC...   \n",
       "3  GCCGCGCGAGCCTAGCTCCAGGCCGCAGACAGCTTCGGCCTCGCTC...   \n",
       "4  GCTCCACGGCCTAGCACGCTCCACGGCTAGCGAGCCGCGCTTAGCA...   \n",
       "\n",
       "   Information Fragment - GC Percentage  \n",
       "0                             35.897436  \n",
       "1                             43.478261  \n",
       "2                             41.025641  \n",
       "3                             42.735043  \n",
       "4                             42.735043  "
      ]
     },
     "metadata": {},
     "output_type": "display_data"
    }
   ],
   "source": [
    "# # # uniqueAddress\n",
    "# binaryList\n",
    "# parityList\n",
    "# percentageListUniqueAddress\n",
    "\n",
    "# uniqueCompAddress\n",
    "# percentageListComplimentary\n",
    "\n",
    "#  nucleotideFragments,\n",
    "# percentageListFragment.append(percentageValue3)\n",
    "\n",
    "outputFrame=pd.DataFrame()\n",
    "\n",
    "outputFrame.insert(0,\"Address Code\",uniqueAddress)\n",
    "outputFrame.insert(1,\"Address Code - Binary\",binaryList)\n",
    "outputFrame.insert(2,\"Address Code - Parity Check\",parityList)\n",
    "outputFrame.insert(3,\"Address Code - GC Percentage\",percentageListUniqueAddress)\n",
    "outputFrame.insert(4,\"Complimentary Address Code\",uniqueCompAddress)\n",
    "outputFrame.insert(5,\"Complimentary Address Code - GC Percentage\",percentageListComplimentary)\n",
    "outputFrame.insert(6,\"Information Fragment\",nucleotideFragments)\n",
    "outputFrame.insert(7,\"Information Fragment - GC Percentage\",percentageListFragment)\n",
    "\n",
    "\n",
    "display(outputFrame.head())"
   ]
  },
  {
   "cell_type": "code",
   "execution_count": 49,
   "metadata": {},
   "outputs": [],
   "source": [
    "outputFrame=outputFrame.astype(str)\n",
    "outputFrame.to_csv(\"Output.bod\",encoding=\"utf-8\",index = True)"
   ]
  },
  {
   "cell_type": "code",
   "execution_count": null,
   "metadata": {},
   "outputs": [],
   "source": []
  },
  {
   "cell_type": "markdown",
   "metadata": {},
   "source": [
    "# Functions"
   ]
  },
  {
   "cell_type": "code",
   "execution_count": 8,
   "metadata": {},
   "outputs": [],
   "source": [
    "def get_QUAT_NUCLEOTIDES(df, value):\n",
    "    ''' Find the QUAT NUCLEOTIDE Corresponding to the input character.'''\n",
    "    \n",
    "    # Deal with the special case when the entry is a spacebar\n",
    "    if value==\" \":\n",
    "        value=\"space\"\n",
    "    \n",
    "    elif value==\"'\":\n",
    "        pass\n",
    "    elif value==\"\\n\": # If the character is a new line, swap it for a LF ASSCI instead\n",
    "        value=\"LF\"\n",
    "#         return True\n",
    "#     elif value==\"SOMETHING WE CANT TRANSLATE\"\n",
    "#         return True\n",
    "    # Get bool dataframe with True at positions where the given value exists\n",
    "    result = df.isin([value])\n",
    "    # Find the row where result is true\n",
    "    row = list(result[\"Char\"][result[\"Char\"] == True].index)\n",
    "    # Find the corresponding QUAT NUCLEOTIDE at the row\n",
    "    nucleotideCode=df.loc[row,\"QUAT NUCLEOTIDES\"].tolist()[0]\n",
    "\n",
    "    return nucleotideCode"
   ]
  },
  {
   "cell_type": "code",
   "execution_count": 9,
   "metadata": {},
   "outputs": [
    {
     "name": "stdout",
     "output_type": "stream",
     "text": [
      "CACG GCGC CGCA\n"
     ]
    }
   ],
   "source": [
    "# get_QUAT_NUCLEOTIDES-Test\n",
    "a=get_QUAT_NUCLEOTIDES(ASCII_List_Raw,\" \")\n",
    "b=get_QUAT_NUCLEOTIDES(ASCII_List_Raw,\"b\") \n",
    "c=get_QUAT_NUCLEOTIDES(ASCII_List_Raw,\"\\n\") \n",
    "print(a,b,c)\n",
    "\n",
    "# print(type(a))"
   ]
  },
  {
   "cell_type": "code",
   "execution_count": 10,
   "metadata": {},
   "outputs": [],
   "source": [
    "def codingStrategy(maximumFragments):\n",
    "    noRepeatsList=[]\n",
    "    for x in range(0,20):\n",
    "        if maximumFragments<=4**x:\n",
    "            addressLength=x\n",
    "            \n",
    "            # Now create the combinations with this number of digits available\n",
    "            checkList=list(itertools.product([\"A\",\"G\",\"C\",\"T\"], repeat=addressLength))\n",
    "            \n",
    "            for entry in checkList:\n",
    "                if noTripleRepeats(entry)==0:\n",
    "                    stringCode=\"\"\n",
    "                    for letter in entry:\n",
    "                        stringCode=stringCode+letter\n",
    "                    noRepeatsList.append(stringCode)\n",
    "                else:\n",
    "                    pass\n",
    "            \n",
    "            # Check that no number of codes is still adequate:\n",
    "            if maximumFragments<=len(noRepeatsList):\n",
    "                return noRepeatsList\n",
    "            else:\n",
    "                return codingStrategy(maximumFragments+1)"
   ]
  },
  {
   "cell_type": "code",
   "execution_count": 11,
   "metadata": {},
   "outputs": [],
   "source": [
    "def noTripleRepeats(code): #This is actually for AA repeats\n",
    "    # Convert tuple to string:\n",
    "    testString=\"\"\n",
    "    for value in code:\n",
    "        testString=testString+value\n",
    "    \n",
    "#     print(testString)\n",
    "    x=len(testString)\n",
    "    for i,j in enumerate(code):\n",
    "        if i==(x-2) or x<=2:\n",
    "            break\n",
    "        initialLetter=j\n",
    "        secondLetter=code[i+1]\n",
    "        thirdLetter=code[i+2]\n",
    "        if (initialLetter == secondLetter) and (secondLetter==thirdLetter):\n",
    "            return 1\n",
    "    return 0"
   ]
  },
  {
   "cell_type": "code",
   "execution_count": 12,
   "metadata": {},
   "outputs": [
    {
     "data": {
      "text/plain": [
       "1"
      ]
     },
     "execution_count": 12,
     "metadata": {},
     "output_type": "execute_result"
    }
   ],
   "source": [
    "noTripleRepeats(('A', 'A', 'G','T','T','T'))"
   ]
  },
  {
   "cell_type": "code",
   "execution_count": 13,
   "metadata": {
    "scrolled": true
   },
   "outputs": [
    {
     "name": "stdout",
     "output_type": "stream",
     "text": [
      "['AAGA', 'AAGG', 'AAGC', 'AAGT', 'AACA', 'AACG', 'AACC', 'AACT', 'AATA', 'AATG', 'AATC', 'AATT', 'AGAA', 'AGAG', 'AGAC', 'AGAT', 'AGGA', 'AGGC', 'AGGT', 'AGCA', 'AGCG', 'AGCC', 'AGCT', 'AGTA', 'AGTG', 'AGTC', 'AGTT', 'ACAA', 'ACAG', 'ACAC', 'ACAT', 'ACGA', 'ACGG', 'ACGC', 'ACGT', 'ACCA', 'ACCG', 'ACCT', 'ACTA', 'ACTG', 'ACTC', 'ACTT', 'ATAA', 'ATAG', 'ATAC', 'ATAT', 'ATGA', 'ATGG', 'ATGC', 'ATGT', 'ATCA', 'ATCG', 'ATCC', 'ATCT', 'ATTA', 'ATTG', 'ATTC', 'GAAG', 'GAAC', 'GAAT', 'GAGA', 'GAGG', 'GAGC', 'GAGT', 'GACA', 'GACG', 'GACC', 'GACT', 'GATA', 'GATG', 'GATC', 'GATT', 'GGAA', 'GGAG', 'GGAC', 'GGAT', 'GGCA', 'GGCG', 'GGCC', 'GGCT', 'GGTA', 'GGTG', 'GGTC', 'GGTT', 'GCAA', 'GCAG', 'GCAC', 'GCAT', 'GCGA', 'GCGG', 'GCGC', 'GCGT', 'GCCA', 'GCCG', 'GCCT', 'GCTA', 'GCTG', 'GCTC', 'GCTT', 'GTAA', 'GTAG', 'GTAC', 'GTAT', 'GTGA', 'GTGG', 'GTGC', 'GTGT', 'GTCA', 'GTCG', 'GTCC', 'GTCT', 'GTTA', 'GTTG', 'GTTC', 'CAAG', 'CAAC', 'CAAT', 'CAGA', 'CAGG', 'CAGC', 'CAGT', 'CACA', 'CACG', 'CACC', 'CACT', 'CATA', 'CATG', 'CATC', 'CATT', 'CGAA', 'CGAG', 'CGAC', 'CGAT', 'CGGA', 'CGGC', 'CGGT', 'CGCA', 'CGCG', 'CGCC', 'CGCT', 'CGTA', 'CGTG', 'CGTC', 'CGTT', 'CCAA', 'CCAG', 'CCAC', 'CCAT', 'CCGA', 'CCGG', 'CCGC', 'CCGT', 'CCTA', 'CCTG', 'CCTC', 'CCTT', 'CTAA', 'CTAG', 'CTAC', 'CTAT', 'CTGA', 'CTGG', 'CTGC', 'CTGT', 'CTCA', 'CTCG', 'CTCC', 'CTCT', 'CTTA', 'CTTG', 'CTTC', 'TAAG', 'TAAC', 'TAAT', 'TAGA', 'TAGG', 'TAGC', 'TAGT', 'TACA', 'TACG', 'TACC', 'TACT', 'TATA', 'TATG', 'TATC', 'TATT', 'TGAA', 'TGAG', 'TGAC', 'TGAT', 'TGGA', 'TGGC', 'TGGT', 'TGCA', 'TGCG', 'TGCC', 'TGCT', 'TGTA', 'TGTG', 'TGTC', 'TGTT', 'TCAA', 'TCAG', 'TCAC', 'TCAT', 'TCGA', 'TCGG', 'TCGC', 'TCGT', 'TCCA', 'TCCG', 'TCCT', 'TCTA', 'TCTG', 'TCTC', 'TCTT', 'TTAA', 'TTAG', 'TTAC', 'TTAT', 'TTGA', 'TTGG', 'TTGC', 'TTGT', 'TTCA', 'TTCG', 'TTCC', 'TTCT']\n"
     ]
    }
   ],
   "source": [
    "# Coding strategy test\n",
    "a=codingStrategy(60.5)\n",
    "print(a)"
   ]
  },
  {
   "cell_type": "code",
   "execution_count": 14,
   "metadata": {},
   "outputs": [],
   "source": [
    "def complimentaryPrimer(primer):\n",
    "    compPrimer=\"\"\n",
    "    for letter in list(primer):\n",
    "        if letter == \"A\":\n",
    "            comp=\"T\"\n",
    "        elif letter == \"C\":\n",
    "            comp=\"G\"\n",
    "        elif letter == \"T\":\n",
    "            comp=\"A\"\n",
    "        elif letter == \"G\":\n",
    "            comp=\"C\"\n",
    "        compPrimer+=comp\n",
    "    return compPrimer"
   ]
  },
  {
   "cell_type": "code",
   "execution_count": 15,
   "metadata": {},
   "outputs": [
    {
     "name": "stdout",
     "output_type": "stream",
     "text": [
      "TAGC\n"
     ]
    }
   ],
   "source": [
    "# ComplimentaryPrimer Test Box\n",
    "b=complimentaryPrimer(\"ATCG\")\n",
    "print(b)"
   ]
  },
  {
   "cell_type": "code",
   "execution_count": 16,
   "metadata": {},
   "outputs": [],
   "source": [
    "def binaryConverter(addressCode):\n",
    "    binaryOutput=\"\"\n",
    "    for letter in list(addressCode):\n",
    "        if letter == \"A\":\n",
    "            binary=\"00\"\n",
    "        elif letter == \"C\":\n",
    "            binary=\"11\"\n",
    "        elif letter == \"T\":\n",
    "            binary=\"01\"\n",
    "        elif letter == \"G\":\n",
    "            binary=\"10\"\n",
    "        binaryOutput+=binary\n",
    "    return binaryOutput"
   ]
  },
  {
   "cell_type": "code",
   "execution_count": 17,
   "metadata": {},
   "outputs": [
    {
     "name": "stdout",
     "output_type": "stream",
     "text": [
      "11111010\n"
     ]
    }
   ],
   "source": [
    "# Binary Converter Test Box\n",
    "c=binaryConverter(\"CCGG\")\n",
    "print(c)"
   ]
  },
  {
   "cell_type": "code",
   "execution_count": 59,
   "metadata": {},
   "outputs": [],
   "source": [
    "def gcPercentage(fragment):\n",
    "    number=fragment.count(\"GC\")\n",
    "    totalLength=len(fragment)\n",
    "    totalGCLetter=number*2\n",
    "    percentage=(totalGCLetter/totalLength)*100\n",
    "    return percentage"
   ]
  },
  {
   "cell_type": "code",
   "execution_count": 62,
   "metadata": {},
   "outputs": [
    {
     "data": {
      "text/plain": [
       "50.0"
      ]
     },
     "execution_count": 62,
     "metadata": {},
     "output_type": "execute_result"
    }
   ],
   "source": [
    "# Percentage Test Box\n",
    "gcPercentage(\"GCGT\")"
   ]
  },
  {
   "cell_type": "code",
   "execution_count": null,
   "metadata": {},
   "outputs": [],
   "source": []
  },
  {
   "cell_type": "code",
   "execution_count": null,
   "metadata": {},
   "outputs": [],
   "source": []
  },
  {
   "cell_type": "code",
   "execution_count": null,
   "metadata": {},
   "outputs": [],
   "source": []
  },
  {
   "cell_type": "code",
   "execution_count": null,
   "metadata": {},
   "outputs": [],
   "source": []
  },
  {
   "cell_type": "code",
   "execution_count": null,
   "metadata": {},
   "outputs": [],
   "source": []
  },
  {
   "cell_type": "code",
   "execution_count": null,
   "metadata": {},
   "outputs": [],
   "source": [
    "# Need a function to add a unique code to each DNA fragment"
   ]
  },
  {
   "cell_type": "code",
   "execution_count": 14,
   "metadata": {},
   "outputs": [],
   "source": [
    "def get_Unique_AddressI(df,nucleotideList,uniqueAddresses):\n",
    "    \n",
    "    # Add the list of unique addresses to the nucleotidelist for this fragment\n",
    "    codeList=nucleotideList+uniqueAddresses\n",
    "    \n",
    "    try:\n",
    "        # Find the dataframe which is left over from codes in nucleotideList\n",
    "        remainingCodesFrame = df[~df[\"QUAT NUCLEOTIDES\"].isin(codeList)]\n",
    "        # Make a list of the remaining codes\n",
    "        remainingCodesList = remainingCodesFrame[\"QUAT NUCLEOTIDES\"].tolist()\n",
    "        # Take the first value for this list \n",
    "        uniqueCode=remainingCodesList[0]\n",
    "\n",
    "    except:\n",
    "        return\n",
    "    \n",
    "    return uniqueCode"
   ]
  },
  {
   "cell_type": "code",
   "execution_count": null,
   "metadata": {},
   "outputs": [],
   "source": [
    "def get_Unique_AddressII(uniqueAddresses,uniqueAddressesLength,counter):\n",
    "    \n",
    "    # Take the uniqueAddress list and go through and add a nucleotide:\n",
    "    uniqueAddresses[counter]\n",
    "    \n",
    "    \n",
    "    counter+=1\n",
    "    return uniqueCode,counter"
   ]
  },
  {
   "cell_type": "code",
   "execution_count": null,
   "metadata": {},
   "outputs": [],
   "source": [
    "uniqueAddresses=[]\n",
    "counter=0\n",
    "for i in range(245):\n",
    "    try:\n",
    "        a=get_Unique_Address(ASCII_List_Raw,usedCodes,uniqueAddresses)\n",
    "        print(a)\n",
    "        uniqueAddresses.append(a)\n",
    "        uniqueAddressesLength=len(uniqueAddresses)\n",
    "    except:\n",
    "        counter+=1"
   ]
  },
  {
   "cell_type": "code",
   "execution_count": null,
   "metadata": {},
   "outputs": [],
   "source": []
  },
  {
   "cell_type": "code",
   "execution_count": null,
   "metadata": {},
   "outputs": [],
   "source": []
  },
  {
   "cell_type": "code",
   "execution_count": null,
   "metadata": {},
   "outputs": [],
   "source": []
  },
  {
   "cell_type": "code",
   "execution_count": null,
   "metadata": {},
   "outputs": [],
   "source": []
  },
  {
   "cell_type": "code",
   "execution_count": null,
   "metadata": {},
   "outputs": [],
   "source": []
  },
  {
   "cell_type": "code",
   "execution_count": null,
   "metadata": {},
   "outputs": [],
   "source": []
  },
  {
   "cell_type": "code",
   "execution_count": null,
   "metadata": {},
   "outputs": [],
   "source": []
  },
  {
   "cell_type": "markdown",
   "metadata": {},
   "source": [
    "# Decoding"
   ]
  },
  {
   "cell_type": "code",
   "execution_count": 39,
   "metadata": {},
   "outputs": [],
   "source": [
    "def decoding_Nucleotides(inputString,df):\n",
    "    \n",
    "    outputdictionary={}\n",
    "    indexList=[]\n",
    "    charList=[]\n",
    "    \n",
    "    # Codes can be 4, 5, 6, 7 or 8 digits long\n",
    "    for i in range(4,9):\n",
    "        value=inputString[0:i]\n",
    "#         print(value)\n",
    "        try:\n",
    "            result = ASCII_List_Raw.isin([value])\n",
    "            # Find the row where result is true\n",
    "            row = list(result[\"QUAT NUCLEOTIDES\"][result[\"QUAT NUCLEOTIDES\"] == True].index)\n",
    "            # Find the corresponding QUAT NUCLEOTIDE at the row\n",
    "            nucleotideCode=ASCII_List_Raw.loc[row,\"Char\"].tolist()[0]\n",
    "\n",
    "#             print(nucleotideCode)\n",
    "                \n",
    "            if len(nucleotideCode)>0:\n",
    "                outputdictionary[i]=nucleotideCode\n",
    "                charList.append(nucleotideCode)\n",
    "                listVar=[i]\n",
    "                indexList.append((listVar))\n",
    "        except:\n",
    "            pass\n",
    "        \n",
    "    return outputdictionary, charList, indexList\n",
    "\n",
    "        \n",
    "        "
   ]
  },
  {
   "cell_type": "code",
   "execution_count": 40,
   "metadata": {},
   "outputs": [],
   "source": [
    "def get_CHARACTERS(df, value):\n",
    "    ''' Find the QUAT NUCLEOTIDE Corresponding to the input character.'''\n",
    "    \n",
    "    # Get bool dataframe with True at positions where the given value exists\n",
    "    result = df.isin([value])\n",
    "    # Find the row where result is true\n",
    "    row = list(result[\"QUAT NUCLEOTIDES\"][result[\"QUAT NUCLEOTIDES\"] == True].index)\n",
    "    # Find the corresponding QUAT NUCLEOTIDE at the row\n",
    "    character=df.loc[row,\"Char\"].tolist()[0]\n",
    "    \n",
    "    if character==\"space\":\n",
    "        character=\" \"\n",
    "        \n",
    "    if character==\"LF\":\n",
    "        character=\"\\n\"\n",
    "    \n",
    "    return character"
   ]
  },
  {
   "cell_type": "code",
   "execution_count": 41,
   "metadata": {},
   "outputs": [
    {
     "name": "stdout",
     "output_type": "stream",
     "text": [
      "f\n"
     ]
    }
   ],
   "source": [
    "a=get_CHARACTERS(ASCII_List_Raw,\"GCTG\")\n",
    "print(a)"
   ]
  },
  {
   "cell_type": "markdown",
   "metadata": {},
   "source": [
    "## Decode Single DNA Fragment"
   ]
  },
  {
   "cell_type": "code",
   "execution_count": 142,
   "metadata": {},
   "outputs": [],
   "source": [
    "# input1=\"GACTTGCACGCGAGCTTAGCTTACACGGTGACACGGCGCCGCTTCGGCTTCGCCGTGCGAGCCGCGCTCCACGGCCTAGCACGCTCGCTCCACGGCCTAGCTTCGCACGGCGACACG\"\n",
    "# input1= \"GCCGCCGCCTCGCTTCGCTTCGCTCGCCGCCAGCCGCCGCCCACGGCTAGCGAGCCAGCTTCGCCCGCAGAGTGCACGCTTCGGCCTCCACGGCGAGCCGCGCCTACACGGCTTC\"\n",
    "input1= nucleotideFragmentsDict[\"GATG\"]"
   ]
  },
  {
   "cell_type": "code",
   "execution_count": 143,
   "metadata": {},
   "outputs": [],
   "source": [
    "initialInput=input1[0:8]\n",
    "\n",
    "dict1,list1,list2=decoding_Nucleotides(initialInput,ASCII_List_Raw)\n",
    "\n",
    "for index, i in enumerate(list2):\n",
    "    if index==20000: # Hardcoded top end to prevent crashing, will need to remove this in future\n",
    "        break\n",
    "    \n",
    "    if type(i) is not int:\n",
    "        counter=0\n",
    "        for values in i:\n",
    "            counter=counter+values\n",
    "    \n",
    "    entry1,i1,i2=decoding_Nucleotides(input1[counter:],ASCII_List_Raw)\n",
    "    for key in entry1:\n",
    "        l=i.copy()\n",
    "        l.append(key)\n",
    "        list2.append(l)\n",
    "\n"
   ]
  },
  {
   "cell_type": "code",
   "execution_count": 144,
   "metadata": {},
   "outputs": [
    {
     "name": "stdout",
     "output_type": "stream",
     "text": [
      "115\n",
      " shm?t a date.\n",
      "Sm?etime t\n",
      "115\n",
      " shm?t a date.\n",
      "Sometime t\n",
      "115\n",
      " short a date.\n",
      "Sm?etime t\n",
      "115\n",
      " short a date.\n",
      "Sometime t\n"
     ]
    }
   ],
   "source": [
    "for i in list2:\n",
    "#     print(i)\n",
    "    if len(input1)==sum(i):\n",
    "        print(sum((i)))\n",
    "        phraseOut=\"\"\n",
    "        counter=0\n",
    "        for j in i:\n",
    "            a=get_CHARACTERS(ASCII_List_Raw,input1[counter:counter+j])\n",
    "            phraseOut=phraseOut+a      \n",
    "            counter=counter+j\n",
    "        print(phraseOut)"
   ]
  },
  {
   "cell_type": "code",
   "execution_count": 79,
   "metadata": {},
   "outputs": [
    {
     "name": "stdout",
     "output_type": "stream",
     "text": [
      "119\n"
     ]
    }
   ],
   "source": [
    "nucleotideFragmentsDictLong[\"GATC\"]\n",
    "# \"oo hot the eye of heaven s\"\n",
    "counter=0\n",
    "for i in nucleotideFragmentsDictLong[\"GATC\"]:\n",
    "    counter=counter+len(i)\n",
    "print(counter)"
   ]
  },
  {
   "cell_type": "code",
   "execution_count": 80,
   "metadata": {},
   "outputs": [
    {
     "name": "stdout",
     "output_type": "stream",
     "text": [
      "6\n",
      "6\n",
      "4\n",
      "4\n",
      "6\n",
      "5\n",
      "4\n",
      "5\n",
      "4\n",
      "4\n",
      "4\n",
      "4\n",
      "5\n",
      "4\n",
      "4\n",
      "6\n",
      "4\n",
      "4\n",
      "4\n",
      "4\n",
      "4\n",
      "5\n",
      "4\n",
      "5\n",
      "4\n",
      "6\n"
     ]
    }
   ],
   "source": [
    "for i in nucleotideFragmentsDictLong[\"GATC\"]:\n",
    "    print(len(i))"
   ]
  },
  {
   "cell_type": "code",
   "execution_count": null,
   "metadata": {},
   "outputs": [],
   "source": []
  },
  {
   "cell_type": "markdown",
   "metadata": {},
   "source": [
    "# OLD CODE"
   ]
  },
  {
   "cell_type": "code",
   "execution_count": null,
   "metadata": {},
   "outputs": [],
   "source": [
    "# Version 2 - Main Engine - Before switchover for uniqueAddress Code Checking (Commentedout)\n",
    "nucleotideFragments=[]\n",
    "usedCodes=[]\n",
    "nucleotideFragmentsDict={}\n",
    "nucleotideFragmentsDictLong={}\n",
    "\n",
    "nucleotideSequence=\"\"\n",
    "uniqueAddresses=[]\n",
    "\n",
    "\n",
    "# Determine the rough number of nucleotides required\n",
    "lengthOfPhrase=len(phrase)\n",
    "maximumFragments=(lengthOfPhrase*8)/120\n",
    "\n",
    "# Determine Address Coding Strategy\n",
    "addressCodes=codingStrategy(maximumFragments)\n",
    "addressCounter=0\n",
    "\n",
    "\n",
    "for index, letter  in enumerate(phrase):\n",
    "\n",
    "    nextCode=get_QUAT_NUCLEOTIDES(ASCII_List_Raw,letter)\n",
    "    \n",
    "    # Use this in future if we can't handle a symbol\n",
    "    if (nextCode)==True:\n",
    "#         print(nextCode)\n",
    "        continue\n",
    "    \n",
    "    if len(nucleotideSequence)+len(nextCode)<=120:\n",
    "        \n",
    "        nucleotideSequence=nucleotideSequence+nextCode\n",
    "        usedCodes.append(nextCode)\n",
    "        \n",
    "        # Append the incomplete nucleotide sequence to nucleotideFragments \n",
    "        if index==lengthOfPhrase-1:\n",
    "            nucleotideFragments.append(nucleotideSequence)\n",
    "            \n",
    "            \n",
    "            uniqueCode=addressCodes[addressCounter]  \n",
    "            uniqueAddresses.append(uniqueCode)\n",
    "            addressCounter+=1\n",
    "            \n",
    "            nucleotideFragmentsDict[uniqueCode]=nucleotideSequence\n",
    "            nucleotideFragmentsDictLong[uniqueCode]=usedCodes\n",
    "            usedCodes=[]\n",
    "            \n",
    "            \n",
    "    else:\n",
    "        nucleotideFragments.append(nucleotideSequence)\n",
    "        \n",
    "        uniqueCode=addressCodes[addressCounter] \n",
    "#         if (uniqueCode in usedCodes) or (uniqueCode in uniqueAddresses) :\n",
    "#             startingAddressCounter=addressCounter\n",
    "#             print(\"Made it here\")\n",
    "#             print(uniqueCode)\n",
    "#             while (uniqueCode in usedCodes) or (uniqueCode in uniqueAddresses):\n",
    "#                 print(\"Inside Loop\")\n",
    "#                 print(uniqueCode)\n",
    "#                 addressCounter+=1\n",
    "#                 uniqueCode=addressCodes[addressCounter]\n",
    "#             #Reset the counter so that GTAC can be used for next fragment\n",
    "#             uniqueAddresses.append(uniqueCode)\n",
    "            \n",
    "#             print(addressCounter)\n",
    "#             print(startingAddressCounter)\n",
    "#             addressCounter=startingAddressCounter\n",
    "#             print(addressCounter)\n",
    "#         else:        \n",
    "#             uniqueAddresses.append(uniqueCode)\n",
    "#             addressCounter+=1\n",
    "        uniqueAddresses.append(uniqueCode)\n",
    "        addressCounter+=1        \n",
    "        \n",
    "        nucleotideFragmentsDict[uniqueCode]=nucleotideSequence\n",
    "        nucleotideFragmentsDictLong[uniqueCode]=usedCodes\n",
    "        usedCodes=[]\n",
    "        usedCodes.append(nextCode)\n",
    "        \n",
    "        nucleotideSequence=\"\"\n",
    "        nucleotideSequence=nucleotideSequence+nextCode\n",
    "    \n",
    " \n",
    "    \n",
    "    \n"
   ]
  },
  {
   "cell_type": "code",
   "execution_count": null,
   "metadata": {},
   "outputs": [],
   "source": [
    "# Version 1 - Main Engine\n",
    "nucleotideFragments=[]\n",
    "usedCodes=[]\n",
    "nucleotideFragmentsDict={}\n",
    "nucleotideFragmentsDictLong={}\n",
    "\n",
    "nucleotideSequence=\"\"\n",
    "uniqueAddresses=[]\n",
    "lengthOfPhrase=len(phrase)\n",
    "\n",
    "for index, letter  in enumerate(phrase):\n",
    "\n",
    "    nextCode=get_QUAT_NUCLEOTIDES(ASCII_List_Raw,letter)\n",
    "    \n",
    "    if (nextCode)==True:\n",
    "#         print(nextCode)\n",
    "        continue\n",
    "    \n",
    "    if len(nucleotideSequence)+len(nextCode)<=120:\n",
    "        \n",
    "        nucleotideSequence=nucleotideSequence+nextCode\n",
    "        usedCodes.append(nextCode)\n",
    "        \n",
    "        # Append the incomplete nucleotide sequence to nucleotideFragments \n",
    "        if index==lengthOfPhrase-1:\n",
    "            nucleotideFragments.append(nucleotideSequence)\n",
    "            \n",
    "            uniqueCode=get_Unique_AddressI(ASCII_List_Raw,usedCodes,uniqueAddresses)\n",
    "            uniqueAddresses.append(uniqueCode)\n",
    "\n",
    "            nucleotideFragmentsDict[uniqueCode]=nucleotideSequence\n",
    "            nucleotideFragmentsDictLong[uniqueCode]=usedCodes\n",
    "            usedCodes=[]\n",
    "            \n",
    "            \n",
    "    else:\n",
    "        nucleotideFragments.append(nucleotideSequence)\n",
    "        \n",
    "        uniqueCode=get_Unique_AddressI(ASCII_List_Raw,usedCodes,uniqueAddresses)\n",
    "        uniqueAddresses.append(uniqueCode)\n",
    "        \n",
    "        nucleotideFragmentsDict[uniqueCode]=nucleotideSequence\n",
    "        nucleotideFragmentsDictLong[uniqueCode]=usedCodes\n",
    "        usedCodes=[]\n",
    "        usedCodes.append(nextCode)\n",
    "        \n",
    "        nucleotideSequence=\"\"\n",
    "        nucleotideSequence=nucleotideSequence+nextCode"
   ]
  },
  {
   "cell_type": "code",
   "execution_count": null,
   "metadata": {},
   "outputs": [],
   "source": []
  },
  {
   "cell_type": "code",
   "execution_count": null,
   "metadata": {},
   "outputs": [],
   "source": []
  },
  {
   "cell_type": "code",
   "execution_count": null,
   "metadata": {},
   "outputs": [],
   "source": []
  },
  {
   "cell_type": "code",
   "execution_count": null,
   "metadata": {},
   "outputs": [],
   "source": []
  },
  {
   "cell_type": "code",
   "execution_count": null,
   "metadata": {},
   "outputs": [],
   "source": []
  },
  {
   "cell_type": "code",
   "execution_count": null,
   "metadata": {},
   "outputs": [],
   "source": []
  },
  {
   "cell_type": "code",
   "execution_count": null,
   "metadata": {},
   "outputs": [],
   "source": []
  },
  {
   "cell_type": "code",
   "execution_count": null,
   "metadata": {},
   "outputs": [],
   "source": []
  },
  {
   "cell_type": "code",
   "execution_count": null,
   "metadata": {},
   "outputs": [],
   "source": []
  },
  {
   "cell_type": "code",
   "execution_count": null,
   "metadata": {},
   "outputs": [],
   "source": []
  },
  {
   "cell_type": "code",
   "execution_count": null,
   "metadata": {},
   "outputs": [],
   "source": [
    "# Vikram initial rule\n",
    "def lookRight(prevNuc,digit,cf):\n",
    "    \n",
    "#     print(prevNuc,digit,cf)\n",
    "    \n",
    "    nextLetter=cf.loc[prevNuc,digit]\n",
    "    \n",
    "#     print(nextLetter)\n",
    "    \n",
    "#     if digit==3 and index>0:\n",
    "#         prevNuc=compNuc(prevNuc)\n",
    "#         nextLetter=cf.loc[prevNuc,digit]\n",
    "\n",
    "    return nextLetter\n"
   ]
  },
  {
   "cell_type": "code",
   "execution_count": null,
   "metadata": {},
   "outputs": [],
   "source": [
    "def noTripleRepeats(code):\n",
    "    x=len(code)\n",
    "    for i,j in enumerate(code):\n",
    "        if i==(x-2) or x<=3:\n",
    "            break\n",
    "        initialLetter=j\n",
    "        secondLetter=code[i+1]\n",
    "        thirdLetter=code[i+2]\n",
    "#         print(initialLetter,secondLetter,thirdLetter)\n",
    "        if (initialLetter == secondLetter) and (secondLetter == thirdLetter):\n",
    "            return 1\n",
    "    return 0"
   ]
  },
  {
   "cell_type": "code",
   "execution_count": null,
   "metadata": {},
   "outputs": [],
   "source": [
    "def noTripleRepeats(code): #This is actually for AA repeats\n",
    "    x=len(code)\n",
    "    for i,j in enumerate(code):\n",
    "        if i==(x-1) or x<=1:\n",
    "            break\n",
    "        initialLetter=j\n",
    "        secondLetter=code[i+1]\n",
    "        if (initialLetter == secondLetter):\n",
    "            return 1\n",
    "    return 0"
   ]
  },
  {
   "cell_type": "code",
   "execution_count": null,
   "metadata": {},
   "outputs": [],
   "source": [
    "noTripleRepeats(\"ATATATCC\")"
   ]
  },
  {
   "cell_type": "markdown",
   "metadata": {},
   "source": [
    "# Select appropriate table"
   ]
  },
  {
   "cell_type": "code",
   "execution_count": null,
   "metadata": {},
   "outputs": [],
   "source": [
    "# insides={\"Previous Nucleotide\": [\"A\",\"C\",\"G\",\"T\"], 0:[\"C\",\"G\",\"T\",\"A\"], 1:[\"T\",\"A\",\"C\",\"G\"], 2:[\"G\",\"T\",\"A\",\"C\"], 3:[\"TGC\",\"GCT\",\"CAT\",\"ACG\"]}\n",
    "# Table1\n",
    "# insides={\"Previous Nucleotide\": [\"A\",\"C\",\"G\",\"T\"], 0:[\"C\",\"G\",\"T\",\"A\"], 1:[\"T\",\"A\",\"C\",\"G\"], 2:[\"G\",\"T\",\"A\",\"C\"], 3:[\"TG\",\"GC\",\"CA\",\"AT\"]}\n",
    "\n",
    "# # Table2\n",
    "# insides={\"Previous Nucleotide\": [\"A\",\"C\",\"G\",\"T\"], 0:[\"C\",\"G\",\"T\",\"A\"], 1:[\"T\",\"A\",\"C\",\"G\"], 2:[\"G\",\"T\",\"A\",\"C\"], 3:[\"GT\",\"TG\",\"AC\",\"CG\"]}\n",
    "\n",
    "# Table3\n",
    "insides={\"Previous Nucleotide\": [\"A\",\"C\",\"G\",\"T\"], 0:[\"C\",\"G\",\"T\",\"A\"], 1:[\"G\",\"T\",\"A\",\"C\"], 2:[\"T\",\"A\",\"C\",\"G\"], 3:[\"TGC\",\"GCT\",\"CAT\",\"ATG\"]}\n",
    "\n",
    "\n",
    "cf=pd.DataFrame(insides)\n",
    "cf.index=cf[\"Previous Nucleotide\"]\n",
    "del cf[\"Previous Nucleotide\"]"
   ]
  },
  {
   "cell_type": "code",
   "execution_count": null,
   "metadata": {},
   "outputs": [],
   "source": [
    "display(cf)"
   ]
  },
  {
   "cell_type": "markdown",
   "metadata": {},
   "source": [
    "# Individual Code Check"
   ]
  },
  {
   "cell_type": "code",
   "execution_count": null,
   "metadata": {},
   "outputs": [],
   "source": [
    "code=[2,3,0]\n",
    "phrase=\"\"\n",
    "\n",
    "# Make up Insides\n",
    "insides={\"Previous Nucleotide\": [\"A\",\"C\",\"G\",\"T\"], 0:[\"C\",\"G\",\"T\",\"A\"], 1:[\"T\",\"A\",\"C\",\"G\"], 2:[\"G\",\"T\",\"A\",\"C\"], 3:[\"TG\",\"GC\",\"CA\",\"AT\"]}\n",
    "\n",
    "cf=pd.DataFrame(insides)\n",
    "cf.index=cf[\"Previous Nucleotide\"]\n",
    "del cf[\"Previous Nucleotide\"]\n",
    "\n",
    "for index, digit in enumerate(code): \n",
    "    \n",
    "    if index==0:\n",
    "        prevNuc=\"A\"\n",
    "    \n",
    "    letter=lookRight(prevNuc,digit,cf)\n",
    "#     print(letter)\n",
    "    phrase=phrase+letter\n",
    "    prevNuc=letter[-1]       \n",
    "    \n",
    "#     print(prevNuc)\n",
    "    \n",
    "print(phrase)"
   ]
  },
  {
   "cell_type": "code",
   "execution_count": null,
   "metadata": {},
   "outputs": [],
   "source": []
  },
  {
   "cell_type": "markdown",
   "metadata": {},
   "source": [
    "# Read in 256 ASSCI Symbols"
   ]
  },
  {
   "cell_type": "code",
   "execution_count": null,
   "metadata": {},
   "outputs": [],
   "source": [
    "codeList=pd.read_csv(\"Quart_CODEUPDATED_BOD.csv\", dtype=object,usecols=[0],skiprows=3)\n",
    "cL=codeList.dropna()\n",
    "cL.columns=[\"Tern Code\"]\n",
    "print(cL)"
   ]
  },
  {
   "cell_type": "code",
   "execution_count": null,
   "metadata": {},
   "outputs": [],
   "source": [
    "# for codes in cL.iloc[:,0]:\n",
    "#     print (list(codes))\n",
    "# print(len(cL.iloc[:,0]))"
   ]
  },
  {
   "cell_type": "markdown",
   "metadata": {},
   "source": [
    "# LOOP OVER THE TERN CODES FROM CSV"
   ]
  },
  {
   "cell_type": "code",
   "execution_count": null,
   "metadata": {
    "scrolled": false
   },
   "outputs": [],
   "source": [
    "decodedList=[]\n",
    "stringCodes=[]\n",
    "noTripRepeatsList=[]\n",
    "\n",
    "\n",
    "# Table 1\n",
    "insides={\"Previous Nucleotide\": [\"A\",\"C\",\"G\",\"T\"], 0:[\"C\",\"G\",\"T\",\"A\"], 1:[\"G\",\"T\",\"A\",\"C\"], 2:[\"T\",\"A\",\"C\",\"G\"], 3:[\"GG\",\"TT\",\"CC\",\"CG\"]}\n",
    "\n",
    "# Table 2\n",
    "# insides={\"Previous Nucleotide\": [\"A\",\"C\",\"G\",\"T\"], 0:[\"C\",\"G\",\"T\",\"A\"], 1:[\"G\",\"T\",\"A\",\"C\"], 2:[\"T\",\"A\",\"C\",\"G\"], 3:[\"TGC\",\"GCT\",\"CAT\",\"ATG\"]}\n",
    "\n",
    "# Table 3\n",
    "# insides={\"Previous Nucleotide\": [\"A\",\"C\",\"G\",\"T\"], 0:[\"C\",\"G\",\"T\",\"A\"], 1:[\"G\",\"T\",\"A\",\"C\"], 2:[\"T\",\"A\",\"C\",\"G\"], 3:[\"CGT\",\"GAT\",\"ACT\",\"CCA\"]}\n",
    "\n",
    "\n",
    "\n",
    "cf=pd.DataFrame(insides)\n",
    "cf.index=cf[\"Previous Nucleotide\"]\n",
    "del cf[\"Previous Nucleotide\"]\n",
    "\n",
    "for codes in cL.iloc[:,0]:\n",
    "    phrase=\"\"\n",
    "    stringCodes.append(codes)\n",
    "    lc=[int(i) for i in list(codes)]\n",
    "#     print(lc)\n",
    "    for index, digit in enumerate(lc): \n",
    "#         print(index)\n",
    "        if index==0:\n",
    "            prevNuc=\"A\"\n",
    "\n",
    "        letter=lookRight(prevNuc,digit,cf)\n",
    "        phrase=phrase+letter\n",
    "        prevNuc=letter[-1]  \n",
    "\n",
    "    decodedList.append(phrase)\n",
    "    noTripRepeatsList.append(noTripleRepeats(phrase))\n",
    "\n",
    "print(decodedList)\n",
    "print(len(decodedList))\n",
    "print(len(set(decodedList)))\n",
    "print(set([x for x in decodedList if decodedList.count(x) > 1]))\n",
    "print(noTripRepeatsList)\n",
    "print(sum(noTripRepeatsList))\n",
    "\n",
    "# print(stringCodes)"
   ]
  },
  {
   "cell_type": "code",
   "execution_count": null,
   "metadata": {},
   "outputs": [],
   "source": [
    "# cL.insert(1,\"String Code\",stringCodes)\n",
    "cL.insert(2,\"Python from Table2:\",decodedList)\n",
    "# cL.insert(3,\"Decoded: ATCG:0123\",decodedList)\n",
    "display(cL.head())\n",
    "display(cL.tail())"
   ]
  },
  {
   "cell_type": "code",
   "execution_count": null,
   "metadata": {},
   "outputs": [],
   "source": [
    "cL=cL.drop(['Python from Table5:'], axis=1)"
   ]
  },
  {
   "cell_type": "markdown",
   "metadata": {},
   "source": [
    "# Output"
   ]
  },
  {
   "cell_type": "code",
   "execution_count": null,
   "metadata": {},
   "outputs": [],
   "source": [
    "cLString=cL.astype(str)\n",
    "# display(cLString)\n",
    "cLString.to_csv(\"DecodedATTEMPT9.bod\",encoding=\"utf-8\",index = True)"
   ]
  },
  {
   "cell_type": "code",
   "execution_count": null,
   "metadata": {},
   "outputs": [],
   "source": []
  },
  {
   "cell_type": "code",
   "execution_count": null,
   "metadata": {},
   "outputs": [],
   "source": []
  },
  {
   "cell_type": "code",
   "execution_count": null,
   "metadata": {},
   "outputs": [],
   "source": []
  },
  {
   "cell_type": "code",
   "execution_count": null,
   "metadata": {},
   "outputs": [],
   "source": []
  },
  {
   "cell_type": "markdown",
   "metadata": {},
   "source": [
    "# Table Optimisation II"
   ]
  },
  {
   "cell_type": "code",
   "execution_count": null,
   "metadata": {},
   "outputs": [],
   "source": [
    "def correspondString(input):\n",
    "# Email 03/06/2020\n",
    "    if input==\"A\":\n",
    "        output=[\"C\",\"G\",\"T\",\"A\"]\n",
    "    elif input==\"B\":\n",
    "        output=[\"T\",\"A\",\"C\",\"G\"]\n",
    "    elif input==\"C\":\n",
    "        output=[\"G\",\"T\",\"A\",\"C\"]\n",
    "    elif input ==\"D\":\n",
    "        output=[\"CTG\",\"TAG\",\"CTA\",\"GCA\"]\n",
    "        \n",
    "    return output"
   ]
  },
  {
   "cell_type": "code",
   "execution_count": null,
   "metadata": {},
   "outputs": [],
   "source": [
    "def tableMaker(PN,A,B,C,D):\n",
    "    \n",
    "    A=correspondString(str(A))\n",
    "    B=correspondString(str(B))\n",
    "    C=correspondString(str(C))\n",
    "    D=correspondString(str(D))\n",
    "    \n",
    "    insides1={\"Previous Nucleotide\": PN, 0:A, 1:B, 2:C, 3:D}\n",
    "    cf=pd.DataFrame(insides1)\n",
    "    cf.index=cf[\"Previous Nucleotide\"]\n",
    "    del cf[\"Previous Nucleotide\"]\n",
    "    return cf"
   ]
  },
  {
   "cell_type": "code",
   "execution_count": null,
   "metadata": {},
   "outputs": [],
   "source": [
    "def mainBrain(code,cf):\n",
    "    phrase=\"\"\n",
    "    for index, digit in enumerate(code):  \n",
    "\n",
    "        if index==0:\n",
    "            prevNuc=\"A\"\n",
    "\n",
    "        letter=lookRight(prevNuc,digit,cf)\n",
    "        phrase=phrase+letter\n",
    "        prevNuc=letter[-1]\n",
    "\n",
    "\n",
    "    return(phrase)"
   ]
  },
  {
   "cell_type": "code",
   "execution_count": null,
   "metadata": {},
   "outputs": [],
   "source": []
  },
  {
   "cell_type": "code",
   "execution_count": null,
   "metadata": {},
   "outputs": [],
   "source": []
  },
  {
   "cell_type": "markdown",
   "metadata": {},
   "source": [
    "# Optimisation Function II"
   ]
  },
  {
   "cell_type": "code",
   "execution_count": null,
   "metadata": {},
   "outputs": [],
   "source": [
    "%%time\n",
    "\n",
    "import itertools\n",
    "d={}\n",
    "u={}\n",
    "PN=['A', 'C', 'G', 'T']\n",
    "\n",
    "for valuesY in list(itertools.permutations(PN)):\n",
    "\n",
    "#     for valuesX in list(itertools.permutations([\"A\",\"B\",\"C\",\"D\"])):\n",
    "    for valuesX in list(itertools.permutations([\"A\",\"B\",\"C\",\"D\"])):\n",
    "        cf=tableMaker(valuesY,valuesX[0],valuesX[1],valuesX[2],valuesX[3])\n",
    "\n",
    "        decodedList=[]\n",
    "        uniqueList=[]\n",
    "        stringCodes=[]\n",
    "        for codes in cL.iloc[:,0]:\n",
    "            stringCodes.append(codes)\n",
    "            lc=[int(i) for i in list(codes)]\n",
    "            decodedList.append(mainBrain(lc,cf))\n",
    "            d[str(valuesY)+\"___\"+str(valuesX)]=len(set(decodedList))\n",
    "            uniqueList.append(noTripleRepeats(mainBrain(lc,cf)))\n",
    "            u[str(valuesY)+\"___\"+str(valuesX)]=sum(uniqueList)\n",
    "\n",
    "for i in d:\n",
    "    if d[i]==256:\n",
    "    \n",
    "        print (str(i)+\": \"+str(d[i])+\": \"+str(u[i]))\n",
    "#     print (str(i)+\": \"+str(d[i])+\": \")"
   ]
  },
  {
   "cell_type": "code",
   "execution_count": null,
   "metadata": {},
   "outputs": [],
   "source": []
  },
  {
   "cell_type": "code",
   "execution_count": null,
   "metadata": {},
   "outputs": [],
   "source": []
  },
  {
   "cell_type": "code",
   "execution_count": null,
   "metadata": {},
   "outputs": [],
   "source": [
    "y=[\"CTG\",\"TAG\",\"CTA\",\"GCA\"]\n",
    "\n",
    "for number,valueIn in enumerate(y):\n",
    "#     k = [x for y in valueIn]\n",
    "    print(\"Next Value\")\n",
    "    print(number)\n",
    "    for valueInside in list (itertools.permutations(valueIn)):\n",
    "        print(valueInside)\n",
    "        "
   ]
  },
  {
   "cell_type": "code",
   "execution_count": null,
   "metadata": {},
   "outputs": [],
   "source": []
  },
  {
   "cell_type": "code",
   "execution_count": null,
   "metadata": {},
   "outputs": [],
   "source": []
  },
  {
   "cell_type": "code",
   "execution_count": null,
   "metadata": {},
   "outputs": [],
   "source": []
  },
  {
   "cell_type": "code",
   "execution_count": null,
   "metadata": {},
   "outputs": [],
   "source": []
  },
  {
   "cell_type": "code",
   "execution_count": null,
   "metadata": {},
   "outputs": [],
   "source": []
  },
  {
   "cell_type": "markdown",
   "metadata": {},
   "source": [
    "# Table Optimisation"
   ]
  },
  {
   "cell_type": "code",
   "execution_count": null,
   "metadata": {},
   "outputs": [],
   "source": [
    "\n",
    "A=[\"C\",\"G\",\"T\",\"A\"]\n",
    "B=[\"T\",\"A\",\"C\",\"G\"]\n",
    "C=[\"G\",\"T\",\"A\",\"C\"]\n",
    "D=[\"TG\",\"GC\",\"CA\",\"AT\"]\n",
    "PN=['A', 'C', 'G', 'T']\n",
    "\n",
    "# [\"TGC\",\"GCA\",\"CAT\",\"ATG\"]\n"
   ]
  },
  {
   "cell_type": "code",
   "execution_count": null,
   "metadata": {},
   "outputs": [],
   "source": [
    "def tableMaker(PN,A,B,C,D):\n",
    "    \n",
    "    A=correspondString(str(A))\n",
    "    B=correspondString(str(B))\n",
    "    C=correspondString(str(C))\n",
    "    D=correspondString(str(D))\n",
    "    \n",
    "    insides1={\"Previous Nucleotide\": PN, 0:A, 1:B, 2:C, 3:D}\n",
    "    cf=pd.DataFrame(insides1)\n",
    "    cf.index=cf[\"Previous Nucleotide\"]\n",
    "    del cf[\"Previous Nucleotide\"]\n",
    "    return cf"
   ]
  },
  {
   "cell_type": "markdown",
   "metadata": {},
   "source": [
    "# Process Brains Function"
   ]
  },
  {
   "cell_type": "code",
   "execution_count": null,
   "metadata": {},
   "outputs": [],
   "source": [
    "def mainBrain(code,cf):\n",
    "    phrase=\"\"\n",
    "    for index, digit in enumerate(code):  \n",
    "\n",
    "        if index==0:\n",
    "            prevNuc=\"A\"\n",
    "\n",
    "        letter=lookRight(prevNuc,digit,cf)\n",
    "        phrase=phrase+letter\n",
    "        prevNuc=letter[-1]\n",
    "\n",
    "\n",
    "    return(phrase)"
   ]
  },
  {
   "cell_type": "code",
   "execution_count": null,
   "metadata": {},
   "outputs": [],
   "source": []
  },
  {
   "cell_type": "code",
   "execution_count": null,
   "metadata": {},
   "outputs": [],
   "source": []
  },
  {
   "cell_type": "code",
   "execution_count": null,
   "metadata": {},
   "outputs": [],
   "source": [
    "def correspondString(input):\n",
    "# Email 03/06/2020\n",
    "    if input==\"A\":\n",
    "        output=[\"C\",\"G\",\"T\",\"A\"]\n",
    "    elif input==\"B\":\n",
    "        output=[\"T\",\"A\",\"C\",\"G\"]\n",
    "    elif input==\"C\":\n",
    "        output=[\"G\",\"T\",\"A\",\"C\"]\n",
    "    elif input ==\"D\":\n",
    "        output=[\"TGC\",\"GCT\",\"CAT\",\"ATG\"]\n",
    "#           output=[\"CG\",\"AT\",\"TA\",\"GA\"]  \n",
    "\n",
    "    return output"
   ]
  },
  {
   "cell_type": "markdown",
   "metadata": {},
   "source": [
    "# Optimisation Function"
   ]
  },
  {
   "cell_type": "code",
   "execution_count": null,
   "metadata": {},
   "outputs": [],
   "source": [
    "%%time\n",
    "\n",
    "import itertools\n",
    "d={}\n",
    "u={}\n",
    "PN=['A', 'C', 'G', 'T']\n",
    "\n",
    "for valuesY in list(itertools.permutations(PN)):\n",
    "\n",
    "#     for valuesX in list(itertools.permutations([\"A\",\"B\",\"C\",\"D\"])):\n",
    "    for valuesX in list(itertools.permutations([\"A\",\"B\",\"C\",\"D\"])):\n",
    "        cf=tableMaker(valuesY,valuesX[0],valuesX[1],valuesX[2],valuesX[3])\n",
    "\n",
    "        decodedList=[]\n",
    "        uniqueList=[]\n",
    "        stringCodes=[]\n",
    "        for codes in cL.iloc[:,0]:\n",
    "            stringCodes.append(codes)\n",
    "            lc=[int(i) for i in list(codes)]\n",
    "            decodedList.append(mainBrain(lc,cf))\n",
    "            d[str(valuesY)+\"___\"+str(valuesX)]=len(set(decodedList))\n",
    "            uniqueList.append(noTripleRepeats(mainBrain(lc,cf)))\n",
    "            u[str(valuesY)+\"___\"+str(valuesX)]=sum(uniqueList)\n",
    "\n",
    "for i in d:\n",
    "    if d[i]==256:\n",
    "    \n",
    "        print (str(i)+\": \"+str(d[i])+\": \"+str(u[i]))\n",
    "#     print (str(i)+\": \"+str(d[i])+\": \")"
   ]
  },
  {
   "cell_type": "code",
   "execution_count": null,
   "metadata": {
    "scrolled": false
   },
   "outputs": [],
   "source": [
    "noRList=[]\n",
    "for i in d:\n",
    "    if u[i]==0:\n",
    "    \n",
    "        print (str(i)+\": \"+str(d[i])+\": \"+str(u[i]))\n",
    "        noRList.append(d[i])\n",
    "print(max(noRList))"
   ]
  },
  {
   "cell_type": "code",
   "execution_count": null,
   "metadata": {},
   "outputs": [],
   "source": []
  },
  {
   "cell_type": "code",
   "execution_count": null,
   "metadata": {},
   "outputs": [],
   "source": []
  },
  {
   "cell_type": "code",
   "execution_count": null,
   "metadata": {},
   "outputs": [],
   "source": []
  },
  {
   "cell_type": "code",
   "execution_count": null,
   "metadata": {},
   "outputs": [],
   "source": []
  },
  {
   "cell_type": "code",
   "execution_count": null,
   "metadata": {},
   "outputs": [],
   "source": []
  },
  {
   "cell_type": "code",
   "execution_count": null,
   "metadata": {},
   "outputs": [],
   "source": []
  },
  {
   "cell_type": "code",
   "execution_count": null,
   "metadata": {},
   "outputs": [],
   "source": []
  },
  {
   "cell_type": "markdown",
   "metadata": {},
   "source": [
    "# Unqiue Codes Only"
   ]
  },
  {
   "cell_type": "code",
   "execution_count": null,
   "metadata": {},
   "outputs": [],
   "source": [
    "numRepeats=np.array(list(u.values()))\n",
    "numUnique=np.array(list(d.values()))\n",
    "codeNames=np.array(list((d.keys())))\n",
    "\n",
    "\n",
    "print(\"No repeated letters: \")\n",
    "print(\"Highest number of unique codes is: \"+str(max(numUnique[numRepeats==0])))\n",
    "\n",
    "uniqueList=[str(j)+\"__\"+str(i) for i,j in zip (numUnique[numRepeats==0],codeNames[numRepeats==0])]\n",
    "\n",
    "for values in uniqueList:\n",
    "    print(values)\n"
   ]
  },
  {
   "cell_type": "code",
   "execution_count": null,
   "metadata": {},
   "outputs": [],
   "source": []
  },
  {
   "cell_type": "markdown",
   "metadata": {},
   "source": [
    "# Loop Over All Combinations"
   ]
  },
  {
   "cell_type": "code",
   "execution_count": null,
   "metadata": {},
   "outputs": [],
   "source": [
    "%%time\n",
    "import itertools\n",
    "d={}\n",
    "u={}\n",
    "\n",
    "pList=[]\n",
    "\n",
    "PN=['A', 'T', 'C', 'G']\n",
    "Alist=[\"T\",\"C\",\"G\",\"A\"]\n",
    "Blist=[\"C\",\"G\",\"A\",\"T\"]\n",
    "A=\"A\"\n",
    "B=\"B\"\n",
    "C=\"C\"\n",
    "D=\"D\"\n",
    "\n",
    "# C=[\"G\",\"A\",\"T\",\"C\"]\n",
    "# D=[\"G\",\"C\",\"T\",\"A\"]\n",
    "\n",
    "for valuesY in list(itertools.permutations(PN)):\n",
    "\n",
    "    for valuesX in list(itertools.permutations([\"A\",\"B\",\"C\",\"D\"])):\n",
    "        \n",
    "        for valuesA in list(itertools.permutations(Alist)):\n",
    "#             columnDict={\"A\":valuesA,\"B\":[\"C\",\"G\",\"A\",\"T\"],\"C\":[\"G\",\"A\",\"T\",\"C\"],\"D\":[\"G\",\"C\",\"T\",\"A\"]}\n",
    "#             decodedList=[]\n",
    "#             uniqueList=[]\n",
    "#             stringCodes=[]\n",
    "            \n",
    "#             cf=tableMakerUpgrade(valuesY,valuesX[0],valuesX[1],valuesX[2],valuesX[3],columnDict)\n",
    "         \n",
    "#             for codes in cL.iloc[:,0]:\n",
    "#                 stringCodes.append(codes)\n",
    "#                 lc=[int(i) for i in list(codes)]\n",
    "#                 decodedList.append(mainBrain(lc,cf))\n",
    "#                 d[str(valuesY)+\"___\"+str(valuesX)+\"___\"+str(valuesA)]=len(set(decodedList))\n",
    "#                 uniqueList.append(uniqueCodes(mainBrain(lc,cf)))\n",
    "#                 u[str(valuesY)+\"___\"+str(valuesX)+\"___\"+str(valuesA)]=sum(uniqueList)   \n",
    "            \n",
    "#             pList.append(str(valuesY)+\"__\"+str(valuesX)+\"__\"+str(valuesA))\n",
    "            \n",
    "            for valuesB in list((itertools.permutations(Blist))):\n",
    "                columnDict={\"A\":valuesA,\"B\":valuesB,\"C\":[\"G\",\"A\",\"T\",\"C\"],\"D\":[\"G\",\"C\",\"T\",\"A\"]}\n",
    "                decodedList=[]\n",
    "                uniqueList=[]\n",
    "                stringCodes=[]\n",
    "\n",
    "                cf=tableMakerUpgrade(valuesY,valuesX[0],valuesX[1],valuesX[2],valuesX[3],columnDict)\n",
    "\n",
    "                for codes in cL.iloc[:,0]:\n",
    "                    stringCodes.append(codes)\n",
    "                    lc=[int(i) for i in list(codes)]\n",
    "                    decodedList.append(mainBrain(lc,cf))\n",
    "                    d[str(valuesY)+\"___\"+str(valuesX)+\"___\"+str(valuesA)+\"___\"+str(valuesB)]=len(set(decodedList))\n",
    "                    uniqueList.append(uniqueCodes(mainBrain(lc,cf)))\n",
    "                    u[str(valuesY)+\"___\"+str(valuesX)+\"___\"+str(valuesA)+\"___\"+str(valuesB)]=sum(uniqueList)   \n",
    "            \n",
    "# #                 pList.append(str(valuesY)+\"__\"+str(valuesX)+\"__\"+str(valuesA)+\"__\"+str(valuesB))\n",
    "\n",
    "#                 for valuesC in list((itertools.permutations(C))):\n",
    "# #                     pList.append(str(valuesY)+\"__\"+str(valuesX)+\"__\"+str(valuesA)+\"__\"+str(valuesB)+\"__\"+str(valuesC))\n",
    "                \n",
    "#                     for valuesD in list((itertools.permutations(D))):\n",
    "#                         pList.append(str(valuesY)+\"__\"+str(valuesX)+\"__\"+str(valuesA)+\"__\"+str(valuesB)+\"__\"+str(valuesC)+\"__\"+str(valuesD))\n",
    "\n",
    "        \n",
    "        \n",
    "        \n",
    "\n",
    "\n",
    "# for i in d:\n",
    "#     print (str(i)+\": \"+str(d[i])+\": \"+str(u[i]))\n"
   ]
  },
  {
   "cell_type": "code",
   "execution_count": null,
   "metadata": {},
   "outputs": [],
   "source": [
    "print(len(d))"
   ]
  },
  {
   "cell_type": "code",
   "execution_count": null,
   "metadata": {},
   "outputs": [],
   "source": [
    "numRepeats=np.array(list(u.values()))\n",
    "numUnique=np.array(list(d.values()))\n",
    "codeNames=np.array(list((d.keys())))\n",
    "\n",
    "\n",
    "print(\"No repeated letters: \")\n",
    "print(\"Highest number of unique codes is: \"+str(max(numUnique[numRepeats==0])))\n",
    "\n",
    "uniqueList=[str(j)+\"__\"+str(i) for i,j in zip (numUnique[numRepeats==0],codeNames[numRepeats==0])]\n",
    "\n",
    "for values in uniqueList:\n",
    "    print(values)"
   ]
  },
  {
   "cell_type": "code",
   "execution_count": null,
   "metadata": {},
   "outputs": [],
   "source": [
    "print(len(uniqueList)/len(d)*100)"
   ]
  },
  {
   "cell_type": "code",
   "execution_count": null,
   "metadata": {},
   "outputs": [],
   "source": []
  },
  {
   "cell_type": "code",
   "execution_count": null,
   "metadata": {},
   "outputs": [],
   "source": []
  },
  {
   "cell_type": "code",
   "execution_count": null,
   "metadata": {},
   "outputs": [],
   "source": []
  },
  {
   "cell_type": "code",
   "execution_count": null,
   "metadata": {},
   "outputs": [],
   "source": [
    "def tableMakerUpgrade(PN,A,B,C,D,columnDict):\n",
    "    \n",
    "    A=columnDict[str(A)]\n",
    "    B=columnDict[str(B)]\n",
    "    C=columnDict[str(C)]\n",
    "    D=columnDict[str(D)]\n",
    "    \n",
    "    insides1={\"Previous Nucleotide\": PN, 0:A, 1:B, 2:C, 3:D}\n",
    "    cf=pd.DataFrame(insides1)\n",
    "    cf.index=cf[\"Previous Nucleotide\"]\n",
    "    del cf[\"Previous Nucleotide\"]\n",
    "    return cf"
   ]
  },
  {
   "cell_type": "code",
   "execution_count": null,
   "metadata": {},
   "outputs": [],
   "source": [
    "def correspondStringUpgrade(input,columnDict):\n",
    "# Email 03/06/2020\n",
    "    if input==\"A\":\n",
    "        output=columnDict[\"A\"]\n",
    "    elif input==\"B\":\n",
    "        output=columnDict[\"B\"]\n",
    "    elif input==\"C\":\n",
    "        output=columnDict[\"C\"]\n",
    "    elif input ==\"D\":\n",
    "        output=columnDict[\"D\"]\n",
    "\n",
    "    return output"
   ]
  },
  {
   "cell_type": "code",
   "execution_count": null,
   "metadata": {},
   "outputs": [],
   "source": []
  },
  {
   "cell_type": "code",
   "execution_count": null,
   "metadata": {},
   "outputs": [],
   "source": [
    "A=\"A\"\n",
    "B=\"B\"\n",
    "C=\"C\"\n",
    "D=\"D\"\n",
    "columnDict={\"A\":[\"T\",\"C\",\"G\",\"A\"],\"B\":[\"C\",\"G\",\"A\",\"T\"],\"C\":[\"G\",\"A\",\"T\",\"C\"],\"D\":[\"G\",\"C\",\"T\",\"A\"]}\n",
    "d=tableMakerUpgrade(['A', 'T', 'C', 'G'],D,B,A,C,columnDict)\n",
    "display(d)"
   ]
  },
  {
   "cell_type": "code",
   "execution_count": null,
   "metadata": {},
   "outputs": [],
   "source": [
    "A=\"A\"\n",
    "B=\"B\"\n",
    "C=\"C\"\n",
    "D=\"D\"\n",
    "print(a)\n",
    "print(columnDict[str(A)])"
   ]
  },
  {
   "cell_type": "code",
   "execution_count": null,
   "metadata": {},
   "outputs": [],
   "source": []
  }
 ],
 "metadata": {
  "kernelspec": {
   "display_name": "Python 3",
   "language": "python",
   "name": "python3"
  },
  "language_info": {
   "codemirror_mode": {
    "name": "ipython",
    "version": 3
   },
   "file_extension": ".py",
   "mimetype": "text/x-python",
   "name": "python",
   "nbconvert_exporter": "python",
   "pygments_lexer": "ipython3",
   "version": "3.7.6"
  }
 },
 "nbformat": 4,
 "nbformat_minor": 2
}
