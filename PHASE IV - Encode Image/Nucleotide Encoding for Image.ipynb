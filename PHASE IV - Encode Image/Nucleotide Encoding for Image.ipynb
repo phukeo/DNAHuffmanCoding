{
 "cells": [
  {
   "cell_type": "markdown",
   "metadata": {},
   "source": [
    "# Encoding"
   ]
  },
  {
   "cell_type": "code",
   "execution_count": 1,
   "metadata": {},
   "outputs": [],
   "source": [
    "# Nucleotide Encoding for Images \n",
    "import numpy as np\n",
    "import pandas as pd\n",
    "import itertools"
   ]
  },
  {
   "cell_type": "code",
   "execution_count": 2,
   "metadata": {
    "scrolled": true
   },
   "outputs": [
    {
     "data": {
      "text/html": [
       "<div>\n",
       "<style scoped>\n",
       "    .dataframe tbody tr th:only-of-type {\n",
       "        vertical-align: middle;\n",
       "    }\n",
       "\n",
       "    .dataframe tbody tr th {\n",
       "        vertical-align: top;\n",
       "    }\n",
       "\n",
       "    .dataframe thead th {\n",
       "        text-align: right;\n",
       "    }\n",
       "</style>\n",
       "<table border=\"1\" class=\"dataframe\">\n",
       "  <thead>\n",
       "    <tr style=\"text-align: right;\">\n",
       "      <th></th>\n",
       "      <th>Dec</th>\n",
       "      <th>Char</th>\n",
       "      <th>QUAT CODE</th>\n",
       "      <th>QUAT NUCLEOTIDES</th>\n",
       "    </tr>\n",
       "  </thead>\n",
       "  <tbody>\n",
       "    <tr>\n",
       "      <th>0</th>\n",
       "      <td>0</td>\n",
       "      <td>NUL</td>\n",
       "      <td>30</td>\n",
       "      <td>ACG</td>\n",
       "    </tr>\n",
       "    <tr>\n",
       "      <th>1</th>\n",
       "      <td>1</td>\n",
       "      <td>SOH</td>\n",
       "      <td>31</td>\n",
       "      <td>ACA</td>\n",
       "    </tr>\n",
       "    <tr>\n",
       "      <th>2</th>\n",
       "      <td>2</td>\n",
       "      <td>STX</td>\n",
       "      <td>32</td>\n",
       "      <td>ACT</td>\n",
       "    </tr>\n",
       "    <tr>\n",
       "      <th>3</th>\n",
       "      <td>3</td>\n",
       "      <td>ETX</td>\n",
       "      <td>33</td>\n",
       "      <td>ACCG</td>\n",
       "    </tr>\n",
       "    <tr>\n",
       "      <th>4</th>\n",
       "      <td>4</td>\n",
       "      <td>EOT</td>\n",
       "      <td>200</td>\n",
       "      <td>GTA</td>\n",
       "    </tr>\n",
       "  </tbody>\n",
       "</table>\n",
       "</div>"
      ],
      "text/plain": [
       "  Dec Char QUAT CODE QUAT NUCLEOTIDES\n",
       "0   0  NUL        30              ACG\n",
       "1   1  SOH        31              ACA\n",
       "2   2  STX        32              ACT\n",
       "3   3  ETX        33             ACCG\n",
       "4   4  EOT       200              GTA"
      ]
     },
     "metadata": {},
     "output_type": "display_data"
    },
    {
     "data": {
      "text/html": [
       "<div>\n",
       "<style scoped>\n",
       "    .dataframe tbody tr th:only-of-type {\n",
       "        vertical-align: middle;\n",
       "    }\n",
       "\n",
       "    .dataframe tbody tr th {\n",
       "        vertical-align: top;\n",
       "    }\n",
       "\n",
       "    .dataframe thead th {\n",
       "        text-align: right;\n",
       "    }\n",
       "</style>\n",
       "<table border=\"1\" class=\"dataframe\">\n",
       "  <thead>\n",
       "    <tr style=\"text-align: right;\">\n",
       "      <th></th>\n",
       "      <th>Dec</th>\n",
       "      <th>Char</th>\n",
       "      <th>QUAT CODE</th>\n",
       "      <th>QUAT NUCLEOTIDES</th>\n",
       "    </tr>\n",
       "  </thead>\n",
       "  <tbody>\n",
       "    <tr>\n",
       "      <th>251</th>\n",
       "      <td>251</td>\n",
       "      <td>?</td>\n",
       "      <td>11000023</td>\n",
       "      <td>TGTACGAAC</td>\n",
       "    </tr>\n",
       "    <tr>\n",
       "      <th>252</th>\n",
       "      <td>252</td>\n",
       "      <td>?</td>\n",
       "      <td>11000030</td>\n",
       "      <td>TGTACGGTA</td>\n",
       "    </tr>\n",
       "    <tr>\n",
       "      <th>253</th>\n",
       "      <td>253</td>\n",
       "      <td>²</td>\n",
       "      <td>11000031</td>\n",
       "      <td>TGTACGGTG</td>\n",
       "    </tr>\n",
       "    <tr>\n",
       "      <th>254</th>\n",
       "      <td>254</td>\n",
       "      <td>?</td>\n",
       "      <td>11000032</td>\n",
       "      <td>TGTACGGTC</td>\n",
       "    </tr>\n",
       "    <tr>\n",
       "      <th>255</th>\n",
       "      <td>255</td>\n",
       "      <td>NaN</td>\n",
       "      <td>11000033</td>\n",
       "      <td>TGTACGGTTG</td>\n",
       "    </tr>\n",
       "  </tbody>\n",
       "</table>\n",
       "</div>"
      ],
      "text/plain": [
       "     Dec Char QUAT CODE QUAT NUCLEOTIDES\n",
       "251  251    ?  11000023        TGTACGAAC\n",
       "252  252    ?  11000030        TGTACGGTA\n",
       "253  253    ²  11000031        TGTACGGTG\n",
       "254  254    ?  11000032        TGTACGGTC\n",
       "255  255  NaN  11000033       TGTACGGTTG"
      ]
     },
     "metadata": {},
     "output_type": "display_data"
    }
   ],
   "source": [
    "# Read in the ASCII Table\n",
    "ASCII_List_Raw=pd.read_csv(\"TableUSAtt5FromGoogle.csv\", dtype=object,usecols=[0,1,2,3],skiprows=0, nrows=256,encoding='latin-1')\n",
    "# ASCII_List_Raw=pd.read_csv(\"TableUSAtt7FromGoogle.csv\", dtype=object,usecols=[0,1,2,3],skiprows=0, nrows=256,encoding='latin-1')\n",
    "\n",
    "display(ASCII_List_Raw.head())\n",
    "display(ASCII_List_Raw.tail())"
   ]
  },
  {
   "cell_type": "code",
   "execution_count": 3,
   "metadata": {},
   "outputs": [
    {
     "name": "stdout",
     "output_type": "stream",
     "text": [
      "30\n",
      "31\n",
      "32\n",
      "33\n",
      "200\n",
      "201\n",
      "202\n",
      "203\n",
      "210\n",
      "211\n",
      "212\n",
      "213\n",
      "220\n",
      "221\n",
      "222\n",
      "223\n",
      "230\n",
      "231\n",
      "232\n",
      "233\n",
      "10\n",
      "11\n",
      "12\n",
      "13\n",
      "20\n",
      "21\n",
      "22\n",
      "23\n",
      "30\n",
      "31\n",
      "32\n",
      "33\n",
      "10\n",
      "11\n",
      "12\n",
      "13\n",
      "20\n",
      "21\n",
      "22\n",
      "23\n",
      "30\n",
      "31\n",
      "32\n",
      "33\n",
      "10\n",
      "11\n",
      "12\n",
      "13\n",
      "20\n",
      "21\n",
      "22\n",
      "23\n",
      "30\n",
      "31\n",
      "32\n",
      "33\n",
      "10\n",
      "11\n",
      "12\n",
      "13\n",
      "20\n",
      "21\n",
      "22\n",
      "23\n",
      "30\n",
      "31\n",
      "32\n",
      "33\n",
      "10\n",
      "11\n",
      "12\n",
      "13\n",
      "20\n",
      "21\n",
      "22\n",
      "23\n",
      "30\n",
      "31\n",
      "32\n",
      "33\n",
      "10\n",
      "11\n",
      "12\n",
      "13\n",
      "20\n",
      "21\n",
      "22\n",
      "23\n",
      "30\n",
      "31\n",
      "32\n",
      "33\n",
      "10\n",
      "11\n",
      "12\n",
      "13\n",
      "20\n",
      "21\n",
      "22\n",
      "23\n",
      "30\n",
      "31\n",
      "32\n",
      "33\n",
      "0\n",
      "1\n",
      "2\n",
      "3\n",
      "10\n",
      "11\n",
      "12\n",
      "13\n",
      "20\n",
      "21\n",
      "22\n",
      "23\n",
      "30\n",
      "31\n",
      "32\n",
      "33\n",
      "120\n",
      "121\n",
      "122\n",
      "123\n",
      "130\n",
      "131\n",
      "132\n",
      "133\n",
      "1010\n",
      "1011\n",
      "1012\n",
      "1013\n",
      "1020\n",
      "1021\n",
      "1022\n",
      "1023\n",
      "1030\n",
      "1031\n",
      "1032\n",
      "1033\n",
      "10010\n",
      "10011\n",
      "10012\n",
      "10013\n",
      "10020\n",
      "10021\n",
      "10022\n",
      "10023\n",
      "10030\n",
      "10031\n",
      "10032\n",
      "10033\n",
      "100010\n",
      "100011\n",
      "100012\n",
      "100013\n",
      "100020\n",
      "100021\n",
      "100022\n",
      "100023\n",
      "100030\n",
      "100031\n",
      "100032\n",
      "100033\n",
      "1000010\n",
      "1000011\n",
      "1000012\n",
      "1000013\n",
      "1000020\n",
      "1000021\n",
      "1000022\n",
      "1000023\n",
      "1000030\n",
      "1000031\n",
      "1000032\n",
      "1000033\n",
      "10000000\n",
      "10000001\n",
      "10000002\n",
      "10000003\n",
      "10000010\n",
      "10000011\n",
      "10000012\n",
      "10000013\n",
      "10000020\n",
      "10000021\n",
      "10000022\n",
      "10000023\n",
      "10000030\n",
      "10000031\n",
      "10000032\n",
      "10000033\n",
      "1110\n",
      "1111\n",
      "1112\n",
      "1113\n",
      "1120\n",
      "1121\n",
      "1122\n",
      "1123\n",
      "1130\n",
      "1131\n",
      "1132\n",
      "1133\n",
      "11010\n",
      "11011\n",
      "11012\n",
      "11013\n",
      "11020\n",
      "11021\n",
      "11022\n",
      "11023\n",
      "11030\n",
      "11031\n",
      "11032\n",
      "11033\n",
      "110010\n",
      "110011\n",
      "110012\n",
      "110013\n",
      "110020\n",
      "110021\n",
      "110022\n",
      "110023\n",
      "110030\n",
      "110031\n",
      "110032\n",
      "110033\n",
      "1100010\n",
      "1100011\n",
      "1100012\n",
      "1100013\n",
      "1100020\n",
      "1100021\n",
      "1100022\n",
      "1100023\n",
      "1100030\n",
      "1100031\n",
      "1100032\n",
      "1100033\n",
      "11000000\n",
      "11000001\n",
      "11000002\n",
      "11000003\n",
      "11000010\n",
      "11000011\n",
      "11000012\n",
      "11000013\n",
      "11000020\n",
      "11000021\n",
      "11000022\n",
      "11000023\n",
      "11000030\n",
      "11000031\n",
      "11000032\n",
      "11000033\n"
     ]
    }
   ],
   "source": [
    "a=ASCII_List_Raw[\"QUAT CODE\"]\n",
    "\n",
    "for i in a:\n",
    "    print (i)"
   ]
  },
  {
   "cell_type": "markdown",
   "metadata": {},
   "source": [
    "# Functions"
   ]
  },
  {
   "cell_type": "code",
   "execution_count": 4,
   "metadata": {},
   "outputs": [],
   "source": [
    "def get_QUAT_NUCLEOTIDES(df, value):\n",
    "    ''' Takes a character as the input and returns the corresponding QUAT NUCLEOTIDE.'''\n",
    "    \n",
    "    # Deal with the special case when the entry is a spacebar\n",
    "    if value==\" \":\n",
    "        value=\"space\"\n",
    "    \n",
    "    elif value==\"'\":\n",
    "        pass\n",
    "    elif value==\"\\n\": # If the character is a new line, swap it for a LF ASSCI instead\n",
    "        value=\"ETX\"\n",
    "\n",
    "    # Get bool dataframe with True at positions where the given value exists\n",
    "    result = df.isin([value])\n",
    "    # Find the row where result is true\n",
    "    row = list(result[\"Char\"][result[\"Char\"] == True].index)\n",
    "    # Find the corresponding QUAT NUCLEOTIDE at the row\n",
    "    nucleotideCode=df.loc[row,\"QUAT NUCLEOTIDES\"].tolist()[0]\n",
    "\n",
    "    return nucleotideCode"
   ]
  },
  {
   "cell_type": "code",
   "execution_count": 5,
   "metadata": {},
   "outputs": [
    {
     "name": "stdout",
     "output_type": "stream",
     "text": [
      "CGCG CGTACGTCT ACCG\n"
     ]
    }
   ],
   "source": [
    "# get_QUAT_NUCLEOTIDES-Test\n",
    "a=get_QUAT_NUCLEOTIDES(ASCII_List_Raw,\" \")\n",
    "b=get_QUAT_NUCLEOTIDES(ASCII_List_Raw,\"b\") \n",
    "c=get_QUAT_NUCLEOTIDES(ASCII_List_Raw,\"\\n\") \n",
    "print(a,b,c)\n",
    "\n",
    "# print(type(a))"
   ]
  },
  {
   "cell_type": "code",
   "execution_count": null,
   "metadata": {},
   "outputs": [],
   "source": []
  },
  {
   "cell_type": "code",
   "execution_count": 6,
   "metadata": {},
   "outputs": [],
   "source": [
    "def noTripleRepeats(code): #This is actually for AA repeats\n",
    "    \"\"\"Takes a tuple of letters as an input and returns 0 if there are no triple repeats such as AAB\n",
    "    and a 1 if there are triple repeats such as AAA\"\"\"\n",
    "    \n",
    "    # Convert tuple to string:\n",
    "    testString=\"\"\n",
    "    for value in code:\n",
    "        testString=testString+value\n",
    "    \n",
    "    # Brains of checking is below\n",
    "    x=len(testString)\n",
    "    for i,j in enumerate(code):\n",
    "        if i==(x-2) or x<=2:\n",
    "            break\n",
    "        initialLetter=j\n",
    "        secondLetter=code[i+1]\n",
    "        thirdLetter=code[i+2]\n",
    "        if (initialLetter == secondLetter) and (secondLetter==thirdLetter):\n",
    "            return 1\n",
    "    return 0"
   ]
  },
  {
   "cell_type": "code",
   "execution_count": 7,
   "metadata": {},
   "outputs": [
    {
     "data": {
      "text/plain": [
       "1"
      ]
     },
     "execution_count": 7,
     "metadata": {},
     "output_type": "execute_result"
    }
   ],
   "source": [
    "# noTripleRepeats test\n",
    "noTripleRepeats(('A','A','G','T','T','G','C',\"C\",\"C\"))\n",
    "noTripleRepeats(('A','A','G','T','T','C',\"C\",\"G\"))\n",
    "noTripleRepeats(\"AAGCTAGCTAGCTAGCTAGCTAGCTAGCTAGCTAGCTAGCTGAGTAGCTAGCTAGCTAGCTAGCTAGCTTTAGCTAGCTAGCTAGCTAGCTAGCTAGCTAGCTAGCTAGCTAGCTAGCAT\")"
   ]
  },
  {
   "cell_type": "markdown",
   "metadata": {},
   "source": [
    "## Check to see if there will be triple Letters from pixels combined"
   ]
  },
  {
   "cell_type": "code",
   "execution_count": 8,
   "metadata": {},
   "outputs": [],
   "source": [
    "# Need to check the ASCII List for potential triple Letter Repeats\n",
    "# Table US1 - Attempt 5\n",
    "# ASCII_CHARS = [\"!\", \"\\\"\", \"$\", \"%\", \"&\", \"{\", \"|\", \"}\", \"~\",\"Ç\",\"ü\", \"é\", \"ä\", \"à\", \"å\"]\n",
    "\n",
    "# Table US1 - Attempt 7\n",
    "ASCII_CHARS = [\"!\", \"$\", \"%\", \"&\", \"(\", \")\", \"*\", \"@\",\"A\",\"B\", \"D\", \"E\", \"F\", \"H\", \"I\"]\n",
    "\n",
    "checkChars=list(itertools.product(ASCII_CHARS,repeat=3))"
   ]
  },
  {
   "cell_type": "code",
   "execution_count": null,
   "metadata": {},
   "outputs": [],
   "source": [
    "combinations=[]\n",
    "for i in checkChars:\n",
    "    a1=get_QUAT_NUCLEOTIDES(ASCII_List_Raw,i[0])\n",
    "    a2=get_QUAT_NUCLEOTIDES(ASCII_List_Raw,i[1])\n",
    "    a3=get_QUAT_NUCLEOTIDES(ASCII_List_Raw,i[2])\n",
    "    aPhrase=a1+a2+a3\n",
    "    if noTripleRepeats(aPhrase) == 1:\n",
    "        combinations.append(1)\n",
    "        print(i,\"-\",aPhrase,\"-\",noTripleRepeats(aPhrase))\n",
    "print(sum(combinations))"
   ]
  },
  {
   "cell_type": "code",
   "execution_count": null,
   "metadata": {},
   "outputs": [],
   "source": []
  },
  {
   "cell_type": "code",
   "execution_count": null,
   "metadata": {},
   "outputs": [],
   "source": []
  },
  {
   "cell_type": "code",
   "execution_count": 9,
   "metadata": {},
   "outputs": [],
   "source": [
    "def noDoubleRepeats(code): #This is actually for AA repeats\n",
    "    \"\"\"Takes a string of letters as an input and returns 0 if there are no double repeats such as AB\n",
    "    and a 1 if there are double repeats AA\"\"\"\n",
    "    x=len(code)\n",
    "    for i,j in enumerate(code):\n",
    "        if i==(x-1) or x<=1:\n",
    "            break\n",
    "        initialLetter=j\n",
    "        secondLetter=code[i+1]\n",
    "        if (initialLetter == secondLetter):\n",
    "            return 1\n",
    "    return 0"
   ]
  },
  {
   "cell_type": "code",
   "execution_count": 10,
   "metadata": {},
   "outputs": [
    {
     "data": {
      "text/plain": [
       "1"
      ]
     },
     "execution_count": 10,
     "metadata": {},
     "output_type": "execute_result"
    }
   ],
   "source": [
    "# noDoubleRepeats test\n",
    "noDoubleRepeats(\"TTCTATCGACAA\")"
   ]
  },
  {
   "cell_type": "code",
   "execution_count": null,
   "metadata": {},
   "outputs": [],
   "source": []
  },
  {
   "cell_type": "code",
   "execution_count": 11,
   "metadata": {},
   "outputs": [],
   "source": [
    "def codingStrategy(maximumFragments):\n",
    "    \"\"\"Need to keep the total length of DNA fragment to its lowest. \n",
    "    Each DNA fragment consists of three parts: \n",
    "    1) The Address Code at the front \n",
    "    2) The Encoded Information\n",
    "    3) The Termination Sequence\n",
    "    \n",
    "    This function is designed to output the smallest address file possible based on the total length of the \n",
    "    message. Each one of these address files needs to be unique and have no triple repeats \"\"\"\n",
    "    \n",
    "    noRepeatsList=[]\n",
    "    # Start at the smallest and work upwards\n",
    "    for x in range(0,20):\n",
    "        if maximumFragments<=4**x:\n",
    "            addressLength=x\n",
    "            \n",
    "            # Now create the combinations with this number of digits available\n",
    "            checkList=list(itertools.product([\"A\",\"G\",\"C\",\"T\"], repeat=addressLength)) # Repeat here corresponds to the length of the address code such that if repeats = 2 then expect [(1, 1), (1, 2), (1, 3), (2, 1), (2, 2), (2, 3), (3, 1), (3, 2), (3, 3)] whereas if repeats =3 then expect [(1,1,1), (1,1,2) etc]\n",
    "            # Note the above code produces a list similar to:\n",
    "            # [(A,A), (A,B) etc] for repeat =2\n",
    "            # [(A,A,A), (A,A,B) etc] for repeat =3\n",
    "            \n",
    "            # Loop through each tuple in above list and check to see if there is triple repeats. Then put the suitable  \n",
    "            for entry in checkList:\n",
    "                if noTripleRepeats(entry)==0:\n",
    "                    stringCode=\"\"\n",
    "                    \n",
    "                    # Build list of strings that can be used as address codes. Put these in the noRepeatsList\n",
    "                    for letter in entry:\n",
    "                        stringCode=stringCode+letter\n",
    "                    noRepeatsList.append(stringCode)\n",
    "                    \n",
    "                else: # The tuple has a triple repeat and therefore should not be converted to string address code\n",
    "                    pass\n",
    "            \n",
    "            # Check that no number of codes is still adequate:\n",
    "            if maximumFragments<=len(noRepeatsList):\n",
    "                return noRepeatsList\n",
    "            else:\n",
    "                return codingStrategy(maximumFragments+1)"
   ]
  },
  {
   "cell_type": "code",
   "execution_count": 12,
   "metadata": {
    "scrolled": true
   },
   "outputs": [
    {
     "name": "stdout",
     "output_type": "stream",
     "text": [
      "['AAG', 'AAC', 'AAT', 'AGA', 'AGG', 'AGC', 'AGT', 'ACA', 'ACG', 'ACC', 'ACT', 'ATA', 'ATG', 'ATC', 'ATT', 'GAA', 'GAG', 'GAC', 'GAT', 'GGA', 'GGC', 'GGT', 'GCA', 'GCG', 'GCC', 'GCT', 'GTA', 'GTG', 'GTC', 'GTT', 'CAA', 'CAG', 'CAC', 'CAT', 'CGA', 'CGG', 'CGC', 'CGT', 'CCA', 'CCG', 'CCT', 'CTA', 'CTG', 'CTC', 'CTT', 'TAA', 'TAG', 'TAC', 'TAT', 'TGA', 'TGG', 'TGC', 'TGT', 'TCA', 'TCG', 'TCC', 'TCT', 'TTA', 'TTG', 'TTC']\n",
      "60\n",
      "['AAC', 'AAG', 'AAT', 'ACA', 'ACC', 'ACG', 'ACT', 'AGA', 'AGC', 'AGG', 'AGT', 'ATA', 'ATC', 'ATG', 'ATT', 'CAA', 'CAC', 'CAG', 'CAT', 'CCA', 'CCG', 'CCT', 'CGA', 'CGC', 'CGG', 'CGT', 'CTA', 'CTC', 'CTG', 'CTT', 'GAA', 'GAC', 'GAG', 'GAT', 'GCA', 'GCC', 'GCG', 'GCT', 'GGA', 'GGC', 'GGT', 'GTA', 'GTC', 'GTG', 'GTT', 'TAA', 'TAC', 'TAG', 'TAT', 'TCA', 'TCC', 'TCG', 'TCT', 'TGA', 'TGC', 'TGG', 'TGT', 'TTA', 'TTC', 'TTG']\n"
     ]
    }
   ],
   "source": [
    "# Coding strategy test\n",
    "a=codingStrategy(60)\n",
    "print(a)\n",
    "print(len(a))\n",
    "b=sorted(a) # Relying on the alphabetical order of address files won't work becuase they could feature in the sequence\n",
    "print(b)"
   ]
  },
  {
   "cell_type": "code",
   "execution_count": null,
   "metadata": {},
   "outputs": [],
   "source": []
  },
  {
   "cell_type": "code",
   "execution_count": 13,
   "metadata": {},
   "outputs": [],
   "source": [
    "def complimentaryPrimer(primer):\n",
    "    \"\"\" Takes an address code as an input and gives the complimentary primer as the output\"\"\"\n",
    "    compPrimer=\"\"\n",
    "    for letter in list(primer):\n",
    "        if letter == \"A\":\n",
    "            comp=\"T\"\n",
    "        elif letter == \"C\":\n",
    "            comp=\"G\"\n",
    "        elif letter == \"T\":\n",
    "            comp=\"A\"\n",
    "        elif letter == \"G\":\n",
    "            comp=\"C\"\n",
    "        compPrimer+=comp\n",
    "    return compPrimer"
   ]
  },
  {
   "cell_type": "code",
   "execution_count": 14,
   "metadata": {},
   "outputs": [
    {
     "name": "stdout",
     "output_type": "stream",
     "text": [
      "TAGCCGGCTC\n"
     ]
    }
   ],
   "source": [
    "# ComplimentaryPrimer Test Box\n",
    "b=complimentaryPrimer(\"ATCGGCCGAG\")\n",
    "print(b)"
   ]
  },
  {
   "cell_type": "code",
   "execution_count": null,
   "metadata": {},
   "outputs": [],
   "source": []
  },
  {
   "cell_type": "code",
   "execution_count": 15,
   "metadata": {},
   "outputs": [],
   "source": [
    "def binaryConverter(addressCode):\n",
    "    \"\"\" Takes an address code as input and returns the binary value as an output.\n",
    "    The binary code can be found on the online MODEL spreadsheet\"\"\"\n",
    "    \n",
    "    binaryOutput=\"\"\n",
    "    for letter in list(addressCode):\n",
    "        if letter == \"A\":\n",
    "            binary=\"00\"\n",
    "        elif letter == \"C\":\n",
    "            binary=\"11\"\n",
    "        elif letter == \"T\":\n",
    "            binary=\"01\"\n",
    "        elif letter == \"G\":\n",
    "            binary=\"10\"\n",
    "        binaryOutput+=binary\n",
    "    return binaryOutput"
   ]
  },
  {
   "cell_type": "code",
   "execution_count": 16,
   "metadata": {},
   "outputs": [
    {
     "name": "stdout",
     "output_type": "stream",
     "text": [
      "11111010\n"
     ]
    }
   ],
   "source": [
    "# Binary Converter Test Box\n",
    "c=binaryConverter(\"CCGG\")\n",
    "print(c)"
   ]
  },
  {
   "cell_type": "code",
   "execution_count": null,
   "metadata": {},
   "outputs": [],
   "source": []
  },
  {
   "cell_type": "code",
   "execution_count": 17,
   "metadata": {},
   "outputs": [],
   "source": [
    "def gcPercentageSimple(fragment):\n",
    "    g_Count=fragment.count(\"G\")\n",
    "    c_Count=fragment.count(\"C\")\n",
    "    fragment_length=len(fragment)\n",
    "    percentage=((g_Count+c_Count)/fragment_length)*100\n",
    "    return percentage"
   ]
  },
  {
   "cell_type": "code",
   "execution_count": 18,
   "metadata": {},
   "outputs": [
    {
     "name": "stdout",
     "output_type": "stream",
     "text": [
      "67.6923076923077\n"
     ]
    }
   ],
   "source": [
    "# Percentage Test Box\n",
    "test_percent=(\"AAGAGTGACACGGCACGCGAGCCTGGCTCCACGGCGACACGGCTAGCCGCGCTCGCGAGCTTCAT\")\n",
    "print(gcPercentageSimple(test_percent))"
   ]
  },
  {
   "cell_type": "code",
   "execution_count": null,
   "metadata": {},
   "outputs": [],
   "source": []
  },
  {
   "cell_type": "code",
   "execution_count": 19,
   "metadata": {},
   "outputs": [],
   "source": [
    "# Need a function to add a unique code to each DNA fragment"
   ]
  },
  {
   "cell_type": "code",
   "execution_count": 20,
   "metadata": {},
   "outputs": [],
   "source": [
    "def get_Unique_AddressI(df,nucleotideList,uniqueAddresses):\n",
    "    \n",
    "    # Add the list of unique addresses to the nucleotidelist for this fragment\n",
    "    codeList=nucleotideList+uniqueAddresses\n",
    "    \n",
    "    try:\n",
    "        # Find the dataframe which is left over from codes in nucleotideList\n",
    "        remainingCodesFrame = df[~df[\"QUAT NUCLEOTIDES\"].isin(codeList)]\n",
    "        # Make a list of the remaining codes\n",
    "        remainingCodesList = remainingCodesFrame[\"QUAT NUCLEOTIDES\"].tolist()\n",
    "        # Take the first value for this list \n",
    "        uniqueCode=remainingCodesList[0]\n",
    "\n",
    "    except:\n",
    "        return\n",
    "    \n",
    "    return uniqueCode"
   ]
  },
  {
   "cell_type": "code",
   "execution_count": 21,
   "metadata": {},
   "outputs": [],
   "source": [
    "def get_Unique_AddressII(uniqueAddresses,uniqueAddressesLength,counter):\n",
    "    \n",
    "    # Take the uniqueAddress list and go through and add a nucleotide:\n",
    "    uniqueAddresses[counter]\n",
    "    \n",
    "    \n",
    "    counter+=1\n",
    "    return uniqueCode,counter"
   ]
  },
  {
   "cell_type": "code",
   "execution_count": 22,
   "metadata": {},
   "outputs": [],
   "source": [
    "uniqueAddresses=[]\n",
    "counter=0\n",
    "for i in range(245):\n",
    "    try:\n",
    "        a=get_Unique_Address(ASCII_List_Raw,usedCodes,uniqueAddresses)\n",
    "        print(a)\n",
    "        uniqueAddresses.append(a)\n",
    "        uniqueAddressesLength=len(uniqueAddresses)\n",
    "    except:\n",
    "        counter+=1"
   ]
  },
  {
   "cell_type": "code",
   "execution_count": null,
   "metadata": {},
   "outputs": [],
   "source": []
  },
  {
   "cell_type": "markdown",
   "metadata": {},
   "source": [
    "# Main Body"
   ]
  },
  {
   "cell_type": "markdown",
   "metadata": {},
   "source": [
    "## Loop through ASCII - Quat Codes\n",
    "### Confirm that there is no Quat Code that ends in \"AA\" "
   ]
  },
  {
   "cell_type": "code",
   "execution_count": 23,
   "metadata": {},
   "outputs": [],
   "source": [
    "# Below loops over the ASCII Table and confirms that there are no fragments which could end in a \"AA\". This means that we can use something like \"AT\" for the termination code.\n",
    "\n",
    "for value in ASCII_List_Raw.loc[:,\"QUAT NUCLEOTIDES\"]:\n",
    "    if noDoubleRepeats(value[-2:])==1:\n",
    "        print(\"Found one here: \", value[-2:], \" - At the end of: \", value)\n",
    "    else:\n",
    "        pass\n",
    "#         print((value[-2:]))"
   ]
  },
  {
   "cell_type": "code",
   "execution_count": null,
   "metadata": {},
   "outputs": [],
   "source": []
  },
  {
   "cell_type": "markdown",
   "metadata": {},
   "source": [
    "## Phrase Input"
   ]
  },
  {
   "cell_type": "code",
   "execution_count": 24,
   "metadata": {},
   "outputs": [
    {
     "name": "stdout",
     "output_type": "stream",
     "text": [
      "ååååååååååååååååååååå\n",
      "ååååååååååååååååååååå\n",
      "ååååååååååååååååååååå\n",
      "ååååååååååååååååååååå\n",
      "ååååååå{{{{{ååäääåååå\n",
      "åååååå{{{{{{{{{ääåååå\n",
      "ååååååéééää!äå{{{åååå\n",
      "åååååéäéäää!äää{{åååå\n",
      "åååååéäééäää!äää{åååå\n",
      "åååååééääää!!!!{ååååå\n",
      "åååååååäääääää{{ååååå\n",
      "åäää{{{{&{{{&{{ååéååå\n",
      "åäää{{{{{&{{{&ååééååå\n",
      "ååäååå{{{&&&&ä&&ééååå\n",
      "ååååååå&&&ä&&&&&ééååå\n",
      "åååååéé&&&&&&&&&ééååå\n",
      "ååååééé&&&&&&åååååååå\n",
      "ååååééååååååååååååååå\n",
      "ååååååååååååååååååååå\n"
     ]
    }
   ],
   "source": [
    "with open('BasicMarioCorrected_ascii_US1A5B1.txt', 'r') as file:\n",
    "    rawInput = file.read()\n",
    "\n",
    "print(rawInput)"
   ]
  },
  {
   "cell_type": "code",
   "execution_count": 25,
   "metadata": {},
   "outputs": [
    {
     "name": "stdout",
     "output_type": "stream",
     "text": [
      "['å', 'å', 'å', 'å', 'å', 'å', 'å', 'å', 'å', 'å', 'å', 'å', 'å', 'å', 'å', 'å', 'å', 'å', 'å', 'å', 'å', '\\n', 'å', 'å', 'å', 'å', 'å', 'å', 'å', 'å', 'å', 'å', 'å', 'å', 'å', 'å', 'å', 'å', 'å', 'å', 'å', 'å', 'å', '\\n', 'å', 'å', 'å', 'å', 'å', 'å', 'å', 'å', 'å', 'å', 'å', 'å', 'å', 'å', 'å', 'å', 'å', 'å', 'å', 'å', 'å', '\\n', 'å', 'å', 'å', 'å', 'å', 'å', 'å', 'å', 'å', 'å', 'å', 'å', 'å', 'å', 'å', 'å', 'å', 'å', 'å', 'å', 'å', '\\n', 'å', 'å', 'å', 'å', 'å', 'å', 'å', '{', '{', '{', '{', '{', 'å', 'å', 'ä', 'ä', 'ä', 'å', 'å', 'å', 'å', '\\n', 'å', 'å', 'å', 'å', 'å', 'å', '{', '{', '{', '{', '{', '{', '{', '{', '{', 'ä', 'ä', 'å', 'å', 'å', 'å', '\\n', 'å', 'å', 'å', 'å', 'å', 'å', 'é', 'é', 'é', 'ä', 'ä', '!', 'ä', 'å', '{', '{', '{', 'å', 'å', 'å', 'å', '\\n', 'å', 'å', 'å', 'å', 'å', 'é', 'ä', 'é', 'ä', 'ä', 'ä', '!', 'ä', 'ä', 'ä', '{', '{', 'å', 'å', 'å', 'å', '\\n', 'å', 'å', 'å', 'å', 'å', 'é', 'ä', 'é', 'é', 'ä', 'ä', 'ä', '!', 'ä', 'ä', 'ä', '{', 'å', 'å', 'å', 'å', '\\n', 'å', 'å', 'å', 'å', 'å', 'é', 'é', 'ä', 'ä', 'ä', 'ä', '!', '!', '!', '!', '{', 'å', 'å', 'å', 'å', 'å', '\\n', 'å', 'å', 'å', 'å', 'å', 'å', 'å', 'ä', 'ä', 'ä', 'ä', 'ä', 'ä', 'ä', '{', '{', 'å', 'å', 'å', 'å', 'å', '\\n', 'å', 'ä', 'ä', 'ä', '{', '{', '{', '{', '&', '{', '{', '{', '&', '{', '{', 'å', 'å', 'é', 'å', 'å', 'å', '\\n', 'å', 'ä', 'ä', 'ä', '{', '{', '{', '{', '{', '&', '{', '{', '{', '&', 'å', 'å', 'é', 'é', 'å', 'å', 'å', '\\n', 'å', 'å', 'ä', 'å', 'å', 'å', '{', '{', '{', '&', '&', '&', '&', 'ä', '&', '&', 'é', 'é', 'å', 'å', 'å', '\\n', 'å', 'å', 'å', 'å', 'å', 'å', 'å', '&', '&', '&', 'ä', '&', '&', '&', '&', '&', 'é', 'é', 'å', 'å', 'å', '\\n', 'å', 'å', 'å', 'å', 'å', 'é', 'é', '&', '&', '&', '&', '&', '&', '&', '&', '&', 'é', 'é', 'å', 'å', 'å', '\\n', 'å', 'å', 'å', 'å', 'é', 'é', 'é', '&', '&', '&', '&', '&', '&', 'å', 'å', 'å', 'å', 'å', 'å', 'å', 'å', '\\n', 'å', 'å', 'å', 'å', 'é', 'é', 'å', 'å', 'å', 'å', 'å', 'å', 'å', 'å', 'å', 'å', 'å', 'å', 'å', 'å', 'å', '\\n', 'å', 'å', 'å', 'å', 'å', 'å', 'å', 'å', 'å', 'å', 'å', 'å', 'å', 'å', 'å', 'å', 'å', 'å', 'å', 'å', 'å']\n"
     ]
    }
   ],
   "source": [
    "# Break down the phrase into a list of each indivdual character. \n",
    "listInput=list(rawInput)\n",
    "print(listInput)"
   ]
  },
  {
   "cell_type": "code",
   "execution_count": 26,
   "metadata": {},
   "outputs": [
    {
     "name": "stdout",
     "output_type": "stream",
     "text": [
      "['å', 'å', 'å', 'å', 'å', 'å', 'å', 'å', 'å', 'å', 'å', 'å', 'å', 'å', 'å', 'å', 'å', 'å', 'å', 'å', 'å', 'ETX', 'å', 'å', 'å', 'å', 'å', 'å', 'å', 'å', 'å', 'å', 'å', 'å', 'å', 'å', 'å', 'å', 'å', 'å', 'å', 'å', 'å', 'ETX', 'å', 'å', 'å', 'å', 'å', 'å', 'å', 'å', 'å', 'å', 'å', 'å', 'å', 'å', 'å', 'å', 'å', 'å', 'å', 'å', 'å', 'ETX', 'å', 'å', 'å', 'å', 'å', 'å', 'å', 'å', 'å', 'å', 'å', 'å', 'å', 'å', 'å', 'å', 'å', 'å', 'å', 'å', 'å', 'ETX', 'å', 'å', 'å', 'å', 'å', 'å', 'å', '{', '{', '{', '{', '{', 'å', 'å', 'ä', 'ä', 'ä', 'å', 'å', 'å', 'å', 'ETX', 'å', 'å', 'å', 'å', 'å', 'å', '{', '{', '{', '{', '{', '{', '{', '{', '{', 'ä', 'ä', 'å', 'å', 'å', 'å', 'ETX', 'å', 'å', 'å', 'å', 'å', 'å', 'é', 'é', 'é', 'ä', 'ä', '!', 'ä', 'å', '{', '{', '{', 'å', 'å', 'å', 'å', 'ETX', 'å', 'å', 'å', 'å', 'å', 'é', 'ä', 'é', 'ä', 'ä', 'ä', '!', 'ä', 'ä', 'ä', '{', '{', 'å', 'å', 'å', 'å', 'ETX', 'å', 'å', 'å', 'å', 'å', 'é', 'ä', 'é', 'é', 'ä', 'ä', 'ä', '!', 'ä', 'ä', 'ä', '{', 'å', 'å', 'å', 'å', 'ETX', 'å', 'å', 'å', 'å', 'å', 'é', 'é', 'ä', 'ä', 'ä', 'ä', '!', '!', '!', '!', '{', 'å', 'å', 'å', 'å', 'å', 'ETX', 'å', 'å', 'å', 'å', 'å', 'å', 'å', 'ä', 'ä', 'ä', 'ä', 'ä', 'ä', 'ä', '{', '{', 'å', 'å', 'å', 'å', 'å', 'ETX', 'å', 'ä', 'ä', 'ä', '{', '{', '{', '{', '&', '{', '{', '{', '&', '{', '{', 'å', 'å', 'é', 'å', 'å', 'å', 'ETX', 'å', 'ä', 'ä', 'ä', '{', '{', '{', '{', '{', '&', '{', '{', '{', '&', 'å', 'å', 'é', 'é', 'å', 'å', 'å', 'ETX', 'å', 'å', 'ä', 'å', 'å', 'å', '{', '{', '{', '&', '&', '&', '&', 'ä', '&', '&', 'é', 'é', 'å', 'å', 'å', 'ETX', 'å', 'å', 'å', 'å', 'å', 'å', 'å', '&', '&', '&', 'ä', '&', '&', '&', '&', '&', 'é', 'é', 'å', 'å', 'å', 'ETX', 'å', 'å', 'å', 'å', 'å', 'é', 'é', '&', '&', '&', '&', '&', '&', '&', '&', '&', 'é', 'é', 'å', 'å', 'å', 'ETX', 'å', 'å', 'å', 'å', 'é', 'é', 'é', '&', '&', '&', '&', '&', '&', 'å', 'å', 'å', 'å', 'å', 'å', 'å', 'å', 'ETX', 'å', 'å', 'å', 'å', 'é', 'é', 'å', 'å', 'å', 'å', 'å', 'å', 'å', 'å', 'å', 'å', 'å', 'å', 'å', 'å', 'å', 'ETX', 'å', 'å', 'å', 'å', 'å', 'å', 'å', 'å', 'å', 'å', 'å', 'å', 'å', 'å', 'å', 'å', 'å', 'å', 'å', 'å', 'å']\n"
     ]
    }
   ],
   "source": [
    "# Replace the instances of \"\\n\" to some other character with the same number of characters.\n",
    "\n",
    "# Table US1 - Attempt 5 - ETX \n",
    "editedList=[\"ETX\" if entry == \"\\n\" else entry for entry in listInput]\n",
    "\n",
    "# Table US1 - Attempt 7 - Z \n",
    "# editedList=[\"Z\" if entry == \"\\n\" else entry for entry in listInput]\n",
    "\n",
    "\n",
    "print(editedList)"
   ]
  },
  {
   "cell_type": "markdown",
   "metadata": {},
   "source": [
    "# Stage I\n",
    "## Convert phrase into a list of DNA fragments no longer than 120 nucleotide bases long"
   ]
  },
  {
   "cell_type": "code",
   "execution_count": 27,
   "metadata": {},
   "outputs": [],
   "source": [
    "# Edited on 04/09 to include the termination sequence for fragments\n",
    "# Edited on 23/10 to reduce the length of fragment to 118 so that with 2 nucleotides for the termination total goes to 120\n",
    "# Edoted pm 26/10 to includ the characters during coding \n",
    "\n",
    "nucleotideFragments=[]\n",
    "usedCodes=[]\n",
    "usedCodesList=[]\n",
    "nucleotideFragmentsDict={}\n",
    "nucleotideFragmentsDictLong={}\n",
    "\n",
    "characterFragments=[]\n",
    "characterSequence=\"\"\n",
    "\n",
    "\n",
    "nucleotideSequence=\"\"\n",
    "uniqueAddresses=[]\n",
    "\n",
    "counter=0\n",
    "\n",
    "lengthOfPhrase=len(editedList)\n",
    "terminationFragment=\"AT\"\n",
    "\n",
    "for index, letter  in enumerate(editedList):\n",
    "\n",
    "    nextCode=get_QUAT_NUCLEOTIDES(ASCII_List_Raw,letter)\n",
    "    \n",
    "    # Use this in future if we can't handle a symbol\n",
    "    if (nextCode)==True:\n",
    "#         print(nextCode)\n",
    "        continue\n",
    "    \n",
    "    if len(nucleotideSequence)+len(nextCode)<=113:\n",
    "        \n",
    "        characterSequence=characterSequence+letter\n",
    "        \n",
    "        nucleotideSequence=nucleotideSequence+nextCode\n",
    "        usedCodes.append(nextCode)\n",
    "        if index==lengthOfPhrase-1:    \n",
    "            nucleotideSequence=nucleotideSequence+terminationFragment #Added on 04/09/202\n",
    "            \n",
    "            characterFragments.append(characterSequence)\n",
    "            nucleotideFragments.append(nucleotideSequence)\n",
    "            usedCodesList.append(usedCodes)\n",
    "            \n",
    "            nucleotideFragmentsDict[counter]=nucleotideSequence\n",
    "            nucleotideFragmentsDictLong[counter]=usedCodes\n",
    "            \n",
    "            usedCodes=[]\n",
    "            counter+=1\n",
    "            \n",
    "    else:\n",
    "        characterSequence=characterSequence\n",
    "        characterFragments.append(characterSequence)\n",
    "        \n",
    "        characterSequence=\"\"\n",
    "        characterSequence=characterSequence+letter\n",
    "\n",
    "        \n",
    "        nucleotideSequence=nucleotideSequence+terminationFragment #Added on 04/09/202\n",
    "        \n",
    "        nucleotideFragments.append(nucleotideSequence)     \n",
    "        \n",
    "        nucleotideFragmentsDict[counter]=nucleotideSequence\n",
    "        nucleotideFragmentsDictLong[counter]=usedCodes\n",
    "        counter+=1\n",
    "        \n",
    "        usedCodesList.append(usedCodes)\n",
    "        \n",
    "        usedCodes=[]\n",
    "        usedCodes.append(nextCode)\n",
    "        \n",
    "        nucleotideSequence=\"\"\n",
    "        nucleotideSequence=nucleotideSequence+nextCode\n",
    "    \n",
    " \n",
    "    \n",
    "    \n"
   ]
  },
  {
   "cell_type": "markdown",
   "metadata": {},
   "source": [
    "## Output Stage I"
   ]
  },
  {
   "cell_type": "code",
   "execution_count": 28,
   "metadata": {},
   "outputs": [
    {
     "name": "stdout",
     "output_type": "stream",
     "text": [
      "\n",
      "\n",
      "0 TAGATAGATAGATAGATAGATAGATAGATAGATAGATAGATAGATAGATAGATAGATAGATAGATAGATAGATAGATAGATAGAACCGTAGATAGATAGATAGATAGATAGAAT\n",
      "1 TAGATAGATAGATAGATAGATAGATAGATAGATAGATAGATAGATAGATAGATAGATAGAACCGTAGATAGATAGATAGATAGATAGATAGATAGATAGATAGATAGATAGAAT\n",
      "2 TAGATAGATAGATAGATAGATAGATAGATAGATAGAACCGTAGATAGATAGATAGATAGATAGATAGATAGATAGATAGATAGATAGATAGATAGATAGATAGATAGATAGAAT\n",
      "3 TAGATAGATAGAACCGTAGATAGATAGATAGATAGATAGATAGATCCGTCCGTCCGTCCGTCCGTAGATAGATAGTTAGTTAGTTAGATAGATAGATAGAACCGTAGATAGAAT\n",
      "4 TAGATAGATAGATAGATCCGTCCGTCCGTCCGTCCGTCCGTCCGTCCGTCCGTAGTTAGTTAGATAGATAGATAGAACCGTAGATAGATAGATAGATAGATAGATATCTATCAT\n",
      "5 TATCTAGTTAGTCGCATAGTTAGATCCGTCCGTCCGTAGATAGATAGATAGAACCGTAGATAGATAGATAGATAGATATCTAGTTATCTAGTTAGTTAGTCGCATAGTTAGTAT\n",
      "6 TAGTTCCGTCCGTAGATAGATAGATAGAACCGTAGATAGATAGATAGATAGATATCTAGTTATCTATCTAGTTAGTTAGTCGCATAGTTAGTTAGTTCCGTAGATAGATAGAAT\n",
      "7 TAGAACCGTAGATAGATAGATAGATAGATATCTATCTAGTTAGTTAGTTAGTCGCACGCACGCACGCATCCGTAGATAGATAGATAGATAGAACCGTAGATAGATAGATAGAAT\n",
      "8 TAGATAGATAGATAGTTAGTTAGTTAGTTAGTTAGTTAGTTCCGTCCGTAGATAGATAGATAGATAGAACCGTAGATAGTTAGTTAGTTCCGTCCGTCCGTCCGCGAGTCCGAT\n",
      "9 TCCGTCCGCGAGTCCGTCCGTAGATAGATATCTAGATAGATAGAACCGTAGATAGTTAGTTAGTTCCGTCCGTCCGTCCGTCCGCGAGTCCGTCCGTCCGCGAGTAGATAGAAT\n",
      "10 TATCTATCTAGATAGATAGAACCGTAGATAGATAGTTAGATAGATAGATCCGTCCGTCCGCGAGCGAGCGAGCGAGTAGTCGAGCGAGTATCTATCTAGATAGATAGAACCGAT\n",
      "11 TAGATAGATAGATAGATAGATAGATAGACGAGCGAGCGAGTAGTCGAGCGAGCGAGCGAGCGAGTATCTATCTAGATAGATAGAACCGTAGATAGATAGATAGATAGATATCAT\n",
      "12 TATCCGAGCGAGCGAGCGAGCGAGCGAGCGAGCGAGCGAGTATCTATCTAGATAGATAGAACCGTAGATAGATAGATAGATATCTATCTATCCGAGCGAGCGAGCGAGCGAGAT\n",
      "13 CGAGTAGATAGATAGATAGATAGATAGATAGATAGAACCGTAGATAGATAGATAGATATCTATCTAGATAGATAGATAGATAGATAGATAGATAGATAGATAGATAGATAGAAT\n",
      "14 TAGATAGATAGAACCGTAGATAGATAGATAGATAGATAGATAGATAGATAGATAGATAGATAGATAGATAGATAGATAGATAGATAGATAGATAGATAGAAT\n",
      "--------------------------------\n",
      "0 : TAGATAGATAGATAGATAGATAGATAGATAGATAGATAGATAGATAGATAGATAGATAGATAGATAGATAGATAGATAGATAGAACCGTAGATAGATAGATAGATAGATAGAAT\n",
      "1 : TAGATAGATAGATAGATAGATAGATAGATAGATAGATAGATAGATAGATAGATAGATAGAACCGTAGATAGATAGATAGATAGATAGATAGATAGATAGATAGATAGATAGAAT\n",
      "2 : TAGATAGATAGATAGATAGATAGATAGATAGATAGAACCGTAGATAGATAGATAGATAGATAGATAGATAGATAGATAGATAGATAGATAGATAGATAGATAGATAGATAGAAT\n",
      "3 : TAGATAGATAGAACCGTAGATAGATAGATAGATAGATAGATAGATCCGTCCGTCCGTCCGTCCGTAGATAGATAGTTAGTTAGTTAGATAGATAGATAGAACCGTAGATAGAAT\n",
      "4 : TAGATAGATAGATAGATCCGTCCGTCCGTCCGTCCGTCCGTCCGTCCGTCCGTAGTTAGTTAGATAGATAGATAGAACCGTAGATAGATAGATAGATAGATAGATATCTATCAT\n",
      "5 : TATCTAGTTAGTCGCATAGTTAGATCCGTCCGTCCGTAGATAGATAGATAGAACCGTAGATAGATAGATAGATAGATATCTAGTTATCTAGTTAGTTAGTCGCATAGTTAGTAT\n",
      "6 : TAGTTCCGTCCGTAGATAGATAGATAGAACCGTAGATAGATAGATAGATAGATATCTAGTTATCTATCTAGTTAGTTAGTCGCATAGTTAGTTAGTTCCGTAGATAGATAGAAT\n",
      "7 : TAGAACCGTAGATAGATAGATAGATAGATATCTATCTAGTTAGTTAGTTAGTCGCACGCACGCACGCATCCGTAGATAGATAGATAGATAGAACCGTAGATAGATAGATAGAAT\n",
      "8 : TAGATAGATAGATAGTTAGTTAGTTAGTTAGTTAGTTAGTTCCGTCCGTAGATAGATAGATAGATAGAACCGTAGATAGTTAGTTAGTTCCGTCCGTCCGTCCGCGAGTCCGAT\n",
      "9 : TCCGTCCGCGAGTCCGTCCGTAGATAGATATCTAGATAGATAGAACCGTAGATAGTTAGTTAGTTCCGTCCGTCCGTCCGTCCGCGAGTCCGTCCGTCCGCGAGTAGATAGAAT\n",
      "10 : TATCTATCTAGATAGATAGAACCGTAGATAGATAGTTAGATAGATAGATCCGTCCGTCCGCGAGCGAGCGAGCGAGTAGTCGAGCGAGTATCTATCTAGATAGATAGAACCGAT\n",
      "11 : TAGATAGATAGATAGATAGATAGATAGACGAGCGAGCGAGTAGTCGAGCGAGCGAGCGAGCGAGTATCTATCTAGATAGATAGAACCGTAGATAGATAGATAGATAGATATCAT\n",
      "12 : TATCCGAGCGAGCGAGCGAGCGAGCGAGCGAGCGAGCGAGTATCTATCTAGATAGATAGAACCGTAGATAGATAGATAGATATCTATCTATCCGAGCGAGCGAGCGAGCGAGAT\n",
      "13 : CGAGTAGATAGATAGATAGATAGATAGATAGATAGAACCGTAGATAGATAGATAGATATCTATCTAGATAGATAGATAGATAGATAGATAGATAGATAGATAGATAGATAGAAT\n",
      "14 : TAGATAGATAGAACCGTAGATAGATAGATAGATAGATAGATAGATAGATAGATAGATAGATAGATAGATAGATAGATAGATAGATAGATAGATAGATAGAAT\n",
      "--------------------------------\n",
      "0 : ['TAGA', 'TAGA', 'TAGA', 'TAGA', 'TAGA', 'TAGA', 'TAGA', 'TAGA', 'TAGA', 'TAGA', 'TAGA', 'TAGA', 'TAGA', 'TAGA', 'TAGA', 'TAGA', 'TAGA', 'TAGA', 'TAGA', 'TAGA', 'TAGA', 'ACCG', 'TAGA', 'TAGA', 'TAGA', 'TAGA', 'TAGA', 'TAGA']\n",
      "1 : ['TAGA', 'TAGA', 'TAGA', 'TAGA', 'TAGA', 'TAGA', 'TAGA', 'TAGA', 'TAGA', 'TAGA', 'TAGA', 'TAGA', 'TAGA', 'TAGA', 'TAGA', 'ACCG', 'TAGA', 'TAGA', 'TAGA', 'TAGA', 'TAGA', 'TAGA', 'TAGA', 'TAGA', 'TAGA', 'TAGA', 'TAGA', 'TAGA']\n",
      "2 : ['TAGA', 'TAGA', 'TAGA', 'TAGA', 'TAGA', 'TAGA', 'TAGA', 'TAGA', 'TAGA', 'ACCG', 'TAGA', 'TAGA', 'TAGA', 'TAGA', 'TAGA', 'TAGA', 'TAGA', 'TAGA', 'TAGA', 'TAGA', 'TAGA', 'TAGA', 'TAGA', 'TAGA', 'TAGA', 'TAGA', 'TAGA', 'TAGA']\n",
      "3 : ['TAGA', 'TAGA', 'TAGA', 'ACCG', 'TAGA', 'TAGA', 'TAGA', 'TAGA', 'TAGA', 'TAGA', 'TAGA', 'TCCG', 'TCCG', 'TCCG', 'TCCG', 'TCCG', 'TAGA', 'TAGA', 'TAGT', 'TAGT', 'TAGT', 'TAGA', 'TAGA', 'TAGA', 'TAGA', 'ACCG', 'TAGA', 'TAGA']\n",
      "4 : ['TAGA', 'TAGA', 'TAGA', 'TAGA', 'TCCG', 'TCCG', 'TCCG', 'TCCG', 'TCCG', 'TCCG', 'TCCG', 'TCCG', 'TCCG', 'TAGT', 'TAGT', 'TAGA', 'TAGA', 'TAGA', 'TAGA', 'ACCG', 'TAGA', 'TAGA', 'TAGA', 'TAGA', 'TAGA', 'TAGA', 'TATC', 'TATC']\n",
      "5 : ['TATC', 'TAGT', 'TAGT', 'CGCA', 'TAGT', 'TAGA', 'TCCG', 'TCCG', 'TCCG', 'TAGA', 'TAGA', 'TAGA', 'TAGA', 'ACCG', 'TAGA', 'TAGA', 'TAGA', 'TAGA', 'TAGA', 'TATC', 'TAGT', 'TATC', 'TAGT', 'TAGT', 'TAGT', 'CGCA', 'TAGT', 'TAGT']\n",
      "6 : ['TAGT', 'TCCG', 'TCCG', 'TAGA', 'TAGA', 'TAGA', 'TAGA', 'ACCG', 'TAGA', 'TAGA', 'TAGA', 'TAGA', 'TAGA', 'TATC', 'TAGT', 'TATC', 'TATC', 'TAGT', 'TAGT', 'TAGT', 'CGCA', 'TAGT', 'TAGT', 'TAGT', 'TCCG', 'TAGA', 'TAGA', 'TAGA']\n",
      "7 : ['TAGA', 'ACCG', 'TAGA', 'TAGA', 'TAGA', 'TAGA', 'TAGA', 'TATC', 'TATC', 'TAGT', 'TAGT', 'TAGT', 'TAGT', 'CGCA', 'CGCA', 'CGCA', 'CGCA', 'TCCG', 'TAGA', 'TAGA', 'TAGA', 'TAGA', 'TAGA', 'ACCG', 'TAGA', 'TAGA', 'TAGA', 'TAGA']\n",
      "8 : ['TAGA', 'TAGA', 'TAGA', 'TAGT', 'TAGT', 'TAGT', 'TAGT', 'TAGT', 'TAGT', 'TAGT', 'TCCG', 'TCCG', 'TAGA', 'TAGA', 'TAGA', 'TAGA', 'TAGA', 'ACCG', 'TAGA', 'TAGT', 'TAGT', 'TAGT', 'TCCG', 'TCCG', 'TCCG', 'TCCG', 'CGAG', 'TCCG']\n",
      "9 : ['TCCG', 'TCCG', 'CGAG', 'TCCG', 'TCCG', 'TAGA', 'TAGA', 'TATC', 'TAGA', 'TAGA', 'TAGA', 'ACCG', 'TAGA', 'TAGT', 'TAGT', 'TAGT', 'TCCG', 'TCCG', 'TCCG', 'TCCG', 'TCCG', 'CGAG', 'TCCG', 'TCCG', 'TCCG', 'CGAG', 'TAGA', 'TAGA']\n",
      "10 : ['TATC', 'TATC', 'TAGA', 'TAGA', 'TAGA', 'ACCG', 'TAGA', 'TAGA', 'TAGT', 'TAGA', 'TAGA', 'TAGA', 'TCCG', 'TCCG', 'TCCG', 'CGAG', 'CGAG', 'CGAG', 'CGAG', 'TAGT', 'CGAG', 'CGAG', 'TATC', 'TATC', 'TAGA', 'TAGA', 'TAGA', 'ACCG']\n",
      "11 : ['TAGA', 'TAGA', 'TAGA', 'TAGA', 'TAGA', 'TAGA', 'TAGA', 'CGAG', 'CGAG', 'CGAG', 'TAGT', 'CGAG', 'CGAG', 'CGAG', 'CGAG', 'CGAG', 'TATC', 'TATC', 'TAGA', 'TAGA', 'TAGA', 'ACCG', 'TAGA', 'TAGA', 'TAGA', 'TAGA', 'TAGA', 'TATC']\n",
      "12 : ['TATC', 'CGAG', 'CGAG', 'CGAG', 'CGAG', 'CGAG', 'CGAG', 'CGAG', 'CGAG', 'CGAG', 'TATC', 'TATC', 'TAGA', 'TAGA', 'TAGA', 'ACCG', 'TAGA', 'TAGA', 'TAGA', 'TAGA', 'TATC', 'TATC', 'TATC', 'CGAG', 'CGAG', 'CGAG', 'CGAG', 'CGAG']\n",
      "13 : ['CGAG', 'TAGA', 'TAGA', 'TAGA', 'TAGA', 'TAGA', 'TAGA', 'TAGA', 'TAGA', 'ACCG', 'TAGA', 'TAGA', 'TAGA', 'TAGA', 'TATC', 'TATC', 'TAGA', 'TAGA', 'TAGA', 'TAGA', 'TAGA', 'TAGA', 'TAGA', 'TAGA', 'TAGA', 'TAGA', 'TAGA', 'TAGA']\n",
      "14 : ['TAGA', 'TAGA', 'TAGA', 'ACCG', 'TAGA', 'TAGA', 'TAGA', 'TAGA', 'TAGA', 'TAGA', 'TAGA', 'TAGA', 'TAGA', 'TAGA', 'TAGA', 'TAGA', 'TAGA', 'TAGA', 'TAGA', 'TAGA', 'TAGA', 'TAGA', 'TAGA', 'TAGA', 'TAGA']\n",
      "--------------------------------\n",
      "åååååååååååååååååååååETXåååååå\n",
      "åååååååååååååååETXåååååååååååå\n",
      "åååååååååETXåååååååååååååååååå\n",
      "åååETXååååååå{{{{{ååäääååååETXåå\n",
      "åååå{{{{{{{{{ääååååETXååååååéé\n",
      "éää!äå{{{ååååETXåååååéäéäää!ää\n",
      "ä{{ååååETXåååååéäééäää!äää{ååå\n",
      "åETXåååååééääää!!!!{åååååETXåååå\n",
      "åååäääääää{{åååååETXåäää{{{{&{\n",
      "{{&{{ååéåååETXåäää{{{{{&{{{&åå\n",
      "ééåååETXååäååå{{{&&&&ä&&ééåååETX\n",
      "ååååååå&&&ä&&&&&ééåååETXåååååé\n",
      "é&&&&&&&&&ééåååETXååååééé&&&&&\n",
      "&ååååååååETXååååééåååååååååååå\n",
      "åååETXååååååååååååååååååååå\n",
      "--------------------------------\n",
      "The length of fragment:  0  is  114\n",
      "The length of fragment:  1  is  114\n",
      "The length of fragment:  2  is  114\n",
      "The length of fragment:  3  is  114\n",
      "The length of fragment:  4  is  114\n",
      "The length of fragment:  5  is  114\n",
      "The length of fragment:  6  is  114\n",
      "The length of fragment:  7  is  114\n",
      "The length of fragment:  8  is  114\n",
      "The length of fragment:  9  is  114\n",
      "The length of fragment:  10  is  114\n",
      "The length of fragment:  11  is  114\n",
      "The length of fragment:  12  is  114\n",
      "The length of fragment:  13  is  114\n",
      "The length of fragment:  14  is  102\n",
      "Total nucleotide length for phrase is:  1698  bases\n",
      "--------------------------------\n"
     ]
    }
   ],
   "source": [
    "print(\"\\n\")\n",
    "for a,z in enumerate((nucleotideFragments)):\n",
    "    print (a,z)\n",
    "print(\"--------------------------------\")  \n",
    "for i in nucleotideFragmentsDict:\n",
    "    print(i,\":\",nucleotideFragmentsDict[i])\n",
    "# print(\"--------------------------------\")\n",
    "# for i in nucleotideFragmentsDictLong:\n",
    "#     print(i,\":\",nucleotideFragmentsDictLong[i])\n",
    "\n",
    "print(\"--------------------------------\")\n",
    "\n",
    "for i in nucleotideFragmentsDictLong:\n",
    "    print(i,\":\",nucleotideFragmentsDictLong[i])\n",
    "\n",
    "print(\"--------------------------------\")\n",
    "\n",
    "\n",
    "for i in characterFragments:\n",
    "    print(i)\n",
    "\n",
    "\n",
    "print(\"--------------------------------\")\n",
    "nucleotideSum=0\n",
    "for i in nucleotideFragmentsDict:\n",
    "    print(\"The length of fragment: \", i, \" is \", len(nucleotideFragmentsDict[i]))\n",
    "    nucleotideSum+=len(nucleotideFragmentsDict[i])\n",
    "print (\"Total nucleotide length for phrase is: \", nucleotideSum, \" bases\")\n",
    "\n",
    "print(\"--------------------------------\")\n",
    "\n",
    "for i in nucleotideFragments:\n",
    "    if noTripleRepeats(i) == 1:\n",
    "        print(\"** Triple Letter Detected in Fragment **\")\n",
    "        print(i)"
   ]
  },
  {
   "cell_type": "markdown",
   "metadata": {},
   "source": [
    "# Stage II\n",
    "## Loop over list of DNA fragments and assign a unique primer to each fragment\n",
    "### This fragment is tested so that it is unique and also does not feature in the information itself. The complimentary primer is also tested"
   ]
  },
  {
   "cell_type": "code",
   "execution_count": 30,
   "metadata": {},
   "outputs": [
    {
     "name": "stdout",
     "output_type": "stream",
     "text": [
      "list index out of range\n",
      "Error occured so went the second route\n",
      "['AAGA', 'AAGG', 'AAGC', 'AAGT', 'AACA', 'AACG', 'AACC', 'AACT', 'AATA', 'AATG', 'AATC', 'AATT', 'AGAA', 'AGAG', 'AGAC', 'AGAT', 'AGGA', 'AGGC', 'AGGT', 'AGCA', 'AGCG', 'AGCC', 'AGCT', 'AGTA', 'AGTG', 'AGTC', 'AGTT', 'ACAA', 'ACAG', 'ACAC', 'ACAT', 'ACGA', 'ACGG', 'ACGC', 'ACGT', 'ACCA', 'ACCG', 'ACCT', 'ACTA', 'ACTG', 'ACTC', 'ACTT', 'ATAA', 'ATAG', 'ATAC', 'ATAT', 'ATGA', 'ATGG', 'ATGC', 'ATGT', 'ATCA', 'ATCG', 'ATCC', 'ATCT', 'ATTA', 'ATTG', 'ATTC', 'GAAG', 'GAAC', 'GAAT', 'GAGA', 'GAGG', 'GAGC', 'GAGT', 'GACA', 'GACG', 'GACC', 'GACT', 'GATA', 'GATG', 'GATC', 'GATT', 'GGAA', 'GGAG', 'GGAC', 'GGAT', 'GGCA', 'GGCG', 'GGCC', 'GGCT', 'GGTA', 'GGTG', 'GGTC', 'GGTT', 'GCAA', 'GCAG', 'GCAC', 'GCAT', 'GCGA', 'GCGG', 'GCGC', 'GCGT', 'GCCA', 'GCCG', 'GCCT', 'GCTA', 'GCTG', 'GCTC', 'GCTT', 'GTAA', 'GTAG', 'GTAC', 'GTAT', 'GTGA', 'GTGG', 'GTGC', 'GTGT', 'GTCA', 'GTCG', 'GTCC', 'GTCT', 'GTTA', 'GTTG', 'GTTC', 'CAAG', 'CAAC', 'CAAT', 'CAGA', 'CAGG', 'CAGC', 'CAGT', 'CACA', 'CACG', 'CACC', 'CACT', 'CATA', 'CATG', 'CATC', 'CATT', 'CGAA', 'CGAG', 'CGAC', 'CGAT', 'CGGA', 'CGGC', 'CGGT', 'CGCA', 'CGCG', 'CGCC', 'CGCT', 'CGTA', 'CGTG', 'CGTC', 'CGTT', 'CCAA', 'CCAG', 'CCAC', 'CCAT', 'CCGA', 'CCGG', 'CCGC', 'CCGT', 'CCTA', 'CCTG', 'CCTC', 'CCTT', 'CTAA', 'CTAG', 'CTAC', 'CTAT', 'CTGA', 'CTGG', 'CTGC', 'CTGT', 'CTCA', 'CTCG', 'CTCC', 'CTCT', 'CTTA', 'CTTG', 'CTTC', 'TAAG', 'TAAC', 'TAAT', 'TAGA', 'TAGG', 'TAGC', 'TAGT', 'TACA', 'TACG', 'TACC', 'TACT', 'TATA', 'TATG', 'TATC', 'TATT', 'TGAA', 'TGAG', 'TGAC', 'TGAT', 'TGGA', 'TGGC', 'TGGT', 'TGCA', 'TGCG', 'TGCC', 'TGCT', 'TGTA', 'TGTG', 'TGTC', 'TGTT', 'TCAA', 'TCAG', 'TCAC', 'TCAT', 'TCGA', 'TCGG', 'TCGC', 'TCGT', 'TCCA', 'TCCG', 'TCCT', 'TCTA', 'TCTG', 'TCTC', 'TCTT', 'TTAA', 'TTAG', 'TTAC', 'TTAT', 'TTGA', 'TTGG', 'TTGC', 'TTGT', 'TTCA', 'TTCG', 'TTCC', 'TTCT']\n",
      "Next Fragment\n",
      "TAGATAGATAGATAGATAGATAGATAGATAGATAGATAGATAGATAGATAGATAGATAGATAGATAGATAGATAGATAGATAGAACCGTAGATAGATAGATAGATAGATAGAAT\n",
      "Next Fragment\n",
      "TAGATAGATAGATAGATAGATAGATAGATAGATAGATAGATAGATAGATAGATAGATAGAACCGTAGATAGATAGATAGATAGATAGATAGATAGATAGATAGATAGATAGAAT\n",
      "Next Fragment\n",
      "TAGATAGATAGATAGATAGATAGATAGATAGATAGAACCGTAGATAGATAGATAGATAGATAGATAGATAGATAGATAGATAGATAGATAGATAGATAGATAGATAGATAGAAT\n",
      "Next Fragment\n",
      "TAGATAGATAGAACCGTAGATAGATAGATAGATAGATAGATAGATCCGTCCGTCCGTCCGTCCGTAGATAGATAGTTAGTTAGTTAGATAGATAGATAGAACCGTAGATAGAAT\n",
      "Next Fragment\n",
      "TAGATAGATAGATAGATCCGTCCGTCCGTCCGTCCGTCCGTCCGTCCGTCCGTAGTTAGTTAGATAGATAGATAGAACCGTAGATAGATAGATAGATAGATAGATATCTATCAT\n",
      "Next Fragment\n",
      "TATCTAGTTAGTCGCATAGTTAGATCCGTCCGTCCGTAGATAGATAGATAGAACCGTAGATAGATAGATAGATAGATATCTAGTTATCTAGTTAGTTAGTCGCATAGTTAGTAT\n",
      "Next Fragment\n",
      "TAGTTCCGTCCGTAGATAGATAGATAGAACCGTAGATAGATAGATAGATAGATATCTAGTTATCTATCTAGTTAGTTAGTCGCATAGTTAGTTAGTTCCGTAGATAGATAGAAT\n",
      "Found a case\n",
      "AACC TTGG\n",
      "Next Fragment\n",
      "TAGAACCGTAGATAGATAGATAGATAGATATCTATCTAGTTAGTTAGTTAGTCGCACGCACGCACGCATCCGTAGATAGATAGATAGATAGAACCGTAGATAGATAGATAGAAT\n",
      "Found a case\n",
      "AACC TTGG\n",
      "Found a case\n",
      "AACT TTGA\n",
      "Next Fragment\n",
      "TAGATAGATAGATAGTTAGTTAGTTAGTTAGTTAGTTAGTTCCGTCCGTAGATAGATAGATAGATAGAACCGTAGATAGTTAGTTAGTTCCGTCCGTCCGTCCGCGAGTCCGAT\n",
      "Found a case\n",
      "AACC TTGG\n",
      "Found a case\n",
      "AACT TTGA\n",
      "Found a case\n",
      "AATA TTAT\n",
      "Next Fragment\n",
      "TCCGTCCGCGAGTCCGTCCGTAGATAGATATCTAGATAGATAGAACCGTAGATAGTTAGTTAGTTCCGTCCGTCCGTCCGTCCGCGAGTCCGTCCGTCCGCGAGTAGATAGAAT\n",
      "Found a case\n",
      "AACC TTGG\n",
      "Found a case\n",
      "AACT TTGA\n",
      "Found a case\n",
      "AATA TTAT\n",
      "Found a case\n",
      "AATG TTAC\n",
      "Found a case\n",
      "AATC TTAG\n",
      "Found a case\n",
      "AATT TTAA\n",
      "Found a case\n",
      "AGAA TCTT\n",
      "Next Fragment\n",
      "TATCTATCTAGATAGATAGAACCGTAGATAGATAGTTAGATAGATAGATCCGTCCGTCCGCGAGCGAGCGAGCGAGTAGTCGAGCGAGTATCTATCTAGATAGATAGAACCGAT\n",
      "Found a case\n",
      "AACC TTGG\n",
      "Found a case\n",
      "AACT TTGA\n",
      "Found a case\n",
      "AATA TTAT\n",
      "Found a case\n",
      "AATG TTAC\n",
      "Found a case\n",
      "AATC TTAG\n",
      "Found a case\n",
      "AATT TTAA\n",
      "Found a case\n",
      "AGAA TCTT\n",
      "Found a case\n",
      "AGAG TCTC\n",
      "Next Fragment\n",
      "TAGATAGATAGATAGATAGATAGATAGACGAGCGAGCGAGTAGTCGAGCGAGCGAGCGAGCGAGTATCTATCTAGATAGATAGAACCGTAGATAGATAGATAGATAGATATCAT\n",
      "Found a case\n",
      "AACC TTGG\n",
      "Found a case\n",
      "AACT TTGA\n",
      "Found a case\n",
      "AATA TTAT\n",
      "Found a case\n",
      "AATG TTAC\n",
      "Next Fragment\n",
      "TATCCGAGCGAGCGAGCGAGCGAGCGAGCGAGCGAGCGAGTATCTATCTAGATAGATAGAACCGTAGATAGATAGATAGATATCTATCTATCCGAGCGAGCGAGCGAGCGAGAT\n",
      "Found a case\n",
      "AACC TTGG\n",
      "Found a case\n",
      "AACT TTGA\n",
      "Found a case\n",
      "AATA TTAT\n",
      "Found a case\n",
      "AATG TTAC\n",
      "Found a case\n",
      "AATC TTAG\n",
      "Found a case\n",
      "AATT TTAA\n",
      "Found a case\n",
      "AGAA TCTT\n",
      "Found a case\n",
      "AGAG TCTC\n",
      "Found a case\n",
      "AGAC TCTG\n",
      "Found a case\n",
      "AGAT TCTA\n",
      "Next Fragment\n",
      "CGAGTAGATAGATAGATAGATAGATAGATAGATAGAACCGTAGATAGATAGATAGATATCTATCTAGATAGATAGATAGATAGATAGATAGATAGATAGATAGATAGATAGAAT\n",
      "Found a case\n",
      "AACC TTGG\n",
      "Found a case\n",
      "AACT TTGA\n",
      "Found a case\n",
      "AATA TTAT\n",
      "Found a case\n",
      "AATG TTAC\n",
      "Found a case\n",
      "AATC TTAG\n",
      "Next Fragment\n",
      "TAGATAGATAGAACCGTAGATAGATAGATAGATAGATAGATAGATAGATAGATAGATAGATAGATAGATAGATAGATAGATAGATAGATAGATAGATAGAAT\n",
      "Found a case\n",
      "AACC TTGG\n",
      "Found a case\n",
      "AACT TTGA\n",
      "Found a case\n",
      "AATA TTAT\n",
      "Found a case\n",
      "AATG TTAC\n",
      "Found a case\n",
      "AATC TTAG\n",
      "Found a case\n",
      "AATT TTAA\n",
      "Found a case\n",
      "AGAA TCTT\n",
      "Found a case\n",
      "AGAG TCTC\n",
      "Found a case\n",
      "AGAC TCTG\n",
      "Found a case\n",
      "AGAT TCTA\n",
      "Found a case\n",
      "AGGA TCCT\n"
     ]
    }
   ],
   "source": [
    "# Updated with AddressCode + DNA Fragment Check \n",
    "\n",
    "DNAfragmentList=nucleotideFragments\n",
    "\n",
    "\n",
    "uniqueAddressCounter=0\n",
    "uniqueAddress=[]\n",
    "uniqueCompAddress=[]\n",
    "fragmentDict={}\n",
    "\n",
    "\n",
    "# Try to produce the unique codes with the smallest nucleotides possible\n",
    "try:\n",
    "    uniqueAddressList=codingStrategy(len(DNAfragmentList))\n",
    "#     print(uniqueAddressList)\n",
    "    \n",
    "    for i in DNAfragmentList:\n",
    "        addressCode=uniqueAddressList[uniqueAddressCounter]\n",
    "        compAddressCode=complimentaryPrimer(uniqueAddressList[uniqueAddressCounter])\n",
    "        \n",
    "        if (addressCode in i) or (compAddressCode in i) or (addressCode in uniqueAddress) or (1 == noTripleRepeats(addressCode+i)):\n",
    "#             print(\"Issue Here\", addressCode, compAddressCode)\n",
    "            startingUAC=uniqueAddressCounter    \n",
    "            while (addressCode in i) or (compAddressCode in i) or (addressCode in uniqueAddress) or (1 == noTripleRepeats(addressCode+i)):\n",
    "#                 print(\"Found a case\")\n",
    "#                 print(addressCode,compAddressCode)\n",
    "                uniqueAddressCounter+=1\n",
    "                addressCode=uniqueAddressList[uniqueAddressCounter]\n",
    "                compAddressCode=complimentaryPrimer(uniqueAddressList[uniqueAddressCounter])\n",
    "\n",
    "\n",
    "            fragmentDict[addressCode]=i\n",
    "\n",
    "            uniqueAddress.append(addressCode)\n",
    "            uniqueCompAddress.append(compAddressCode)\n",
    "            uniqueAddressCounter=startingUAC\n",
    "\n",
    "        else:\n",
    "#             print(\"No problem here\")\n",
    "            fragmentDict[addressCode]=i\n",
    "\n",
    "            uniqueAddress.append(addressCode)\n",
    "            uniqueCompAddress.append(compAddressCode)\n",
    "            uniqueAddressCounter+=1\n",
    "\n",
    "# If not, restart the process with longer unique address codes. This is needed if the uniqueAddress list values are found in the DNA information frequently            \n",
    "except Exception as e:\n",
    "    print(e)\n",
    "    print(\"Error occured so went the second route\")\n",
    "    uniqueAddress=[]\n",
    "    uniqueCompAddress=[]\n",
    "    fragmentDict={}\n",
    "    uniqueAddressCounter=0\n",
    "    \n",
    "#     for x in range(0,21):\n",
    "#         if len(DNAfragmentList)<4**x:\n",
    "#             print(x)\n",
    "#             uniqueAddressList=codingStrategy((4**x))\n",
    "#             break\n",
    "\n",
    "    # Force a coding strategy below:\n",
    "    y=3\n",
    "    uniqueAddressList=codingStrategy(4**y)\n",
    "    \n",
    "    \n",
    "    print(uniqueAddressList)\n",
    "    for i in DNAfragmentList:\n",
    "        addressCode=uniqueAddressList[uniqueAddressCounter]\n",
    "        compAddressCode=complimentaryPrimer(uniqueAddressList[uniqueAddressCounter])\n",
    "        print(\"Next Fragment\")\n",
    "        print(i)\n",
    "        if (addressCode in i) or (compAddressCode in i) or (addressCode in uniqueAddress) or (1 == noTripleRepeats(addressCode+i)):\n",
    "            startingUAC=uniqueAddressCounter    \n",
    "            while (addressCode in i) or (compAddressCode in i) or (addressCode in uniqueAddress) or (1 == noTripleRepeats(addressCode+i)):\n",
    "                print(\"Found a case\")\n",
    "                print(addressCode,compAddressCode)\n",
    "                uniqueAddressCounter+=1\n",
    "                addressCode=uniqueAddressList[uniqueAddressCounter]\n",
    "                compAddressCode=complimentaryPrimer(uniqueAddressList[uniqueAddressCounter])\n",
    "\n",
    "\n",
    "            fragmentDict[addressCode]=i\n",
    "\n",
    "            uniqueAddress.append(addressCode)\n",
    "            uniqueCompAddress.append(compAddressCode)\n",
    "            uniqueAddressCounter=startingUAC\n",
    "\n",
    "        else:\n",
    "            fragmentDict[addressCode]=i\n",
    "\n",
    "            uniqueAddress.append(addressCode)\n",
    "            uniqueCompAddress.append(compAddressCode)\n",
    "            uniqueAddressCounter+=1\n"
   ]
  },
  {
   "cell_type": "code",
   "execution_count": 31,
   "metadata": {},
   "outputs": [
    {
     "name": "stdout",
     "output_type": "stream",
     "text": [
      "AACCTTGCTAGTTAGTCGCATAGTTAGATCCGTCCGTCCGTAGATAGATAGATAGAACCGTAGATAGATAGATAGATAGATTGCTAGTTTGCTAGTTAGTTAGTCGCATAGTTAGTAT\n",
      "True False 1\n",
      "0 1\n"
     ]
    }
   ],
   "source": [
    "BACK=\"TTGCTAGTTAGTCGCATAGTTAGATCCGTCCGTCCGTAGATAGATAGATAGAACCGTAGATAGATAGATAGATAGATTGCTAGTTTGCTAGTTAGTTAGTCGCATAGTTAGTAT\"\n",
    "FRONT=\"AACC\"\n",
    "a=(FRONT in BACK)\n",
    "b=(complimentaryPrimer(FRONT) in BACK)\n",
    "c=(noTripleRepeats(FRONT+BACK))\n",
    "d=(noTripleRepeats(FRONT))\n",
    "e=(noTripleRepeats(BACK))\n",
    "\n",
    "print(FRONT+BACK)\n",
    "print(a,b,c)\n",
    "print(d,e)"
   ]
  },
  {
   "cell_type": "code",
   "execution_count": 32,
   "metadata": {},
   "outputs": [
    {
     "name": "stdout",
     "output_type": "stream",
     "text": [
      "TAGATAGATAGATAGATAGATAGATAGATAGATAGATAGATAGATAGATAGATAGATAGATAGATAGATAGATAGATAGATAGAACCGTAGATAGATAGATAGATAGATAGAAT\n",
      "AAGA\n",
      "Together : AAGATAGATAGATAGATAGATAGATAGATAGATAGATAGATAGATAGATAGATAGATAGATAGATAGATAGATAGATAGATAGATAGAACCGTAGATAGATAGATAGATAGATAGAAT\n",
      "0\n",
      "TAGATAGATAGATAGATAGATAGATAGATAGATAGATAGATAGATAGATAGATAGATAGAACCGTAGATAGATAGATAGATAGATAGATAGATAGATAGATAGATAGATAGAAT\n",
      "AAGG\n",
      "Together : AAGGTAGATAGATAGATAGATAGATAGATAGATAGATAGATAGATAGATAGATAGATAGATAGAACCGTAGATAGATAGATAGATAGATAGATAGATAGATAGATAGATAGATAGAAT\n",
      "0\n",
      "TAGATAGATAGATAGATAGATAGATAGATAGATAGAACCGTAGATAGATAGATAGATAGATAGATAGATAGATAGATAGATAGATAGATAGATAGATAGATAGATAGATAGAAT\n",
      "AAGC\n",
      "Together : AAGCTAGATAGATAGATAGATAGATAGATAGATAGATAGAACCGTAGATAGATAGATAGATAGATAGATAGATAGATAGATAGATAGATAGATAGATAGATAGATAGATAGATAGAAT\n",
      "0\n",
      "TAGATAGATAGAACCGTAGATAGATAGATAGATAGATAGATAGATCCGTCCGTCCGTCCGTCCGTAGATAGATAGTTAGTTAGTTAGATAGATAGATAGAACCGTAGATAGAAT\n",
      "AAGT\n",
      "Together : AAGTTAGATAGATAGAACCGTAGATAGATAGATAGATAGATAGATAGATCCGTCCGTCCGTCCGTCCGTAGATAGATAGTTAGTTAGTTAGATAGATAGATAGAACCGTAGATAGAAT\n",
      "0\n",
      "TAGATAGATAGATAGATCCGTCCGTCCGTCCGTCCGTCCGTCCGTCCGTCCGTAGTTAGTTAGATAGATAGATAGAACCGTAGATAGATAGATAGATAGATAGATATCTATCAT\n",
      "AACA\n",
      "Together : AACATAGATAGATAGATAGATCCGTCCGTCCGTCCGTCCGTCCGTCCGTCCGTCCGTAGTTAGTTAGATAGATAGATAGAACCGTAGATAGATAGATAGATAGATAGATATCTATCAT\n",
      "0\n",
      "TATCTAGTTAGTCGCATAGTTAGATCCGTCCGTCCGTAGATAGATAGATAGAACCGTAGATAGATAGATAGATAGATATCTAGTTATCTAGTTAGTTAGTCGCATAGTTAGTAT\n",
      "AACG\n",
      "Together : AACGTATCTAGTTAGTCGCATAGTTAGATCCGTCCGTCCGTAGATAGATAGATAGAACCGTAGATAGATAGATAGATAGATATCTAGTTATCTAGTTAGTTAGTCGCATAGTTAGTAT\n",
      "0\n",
      "TAGTTCCGTCCGTAGATAGATAGATAGAACCGTAGATAGATAGATAGATAGATATCTAGTTATCTATCTAGTTAGTTAGTCGCATAGTTAGTTAGTTCCGTAGATAGATAGAAT\n",
      "AACT\n",
      "Together : AACTTAGTTCCGTCCGTAGATAGATAGATAGAACCGTAGATAGATAGATAGATAGATATCTAGTTATCTATCTAGTTAGTTAGTCGCATAGTTAGTTAGTTCCGTAGATAGATAGAAT\n",
      "0\n",
      "TAGAACCGTAGATAGATAGATAGATAGATATCTATCTAGTTAGTTAGTTAGTCGCACGCACGCACGCATCCGTAGATAGATAGATAGATAGAACCGTAGATAGATAGATAGAAT\n",
      "AATA\n",
      "Together : AATATAGAACCGTAGATAGATAGATAGATAGATATCTATCTAGTTAGTTAGTTAGTCGCACGCACGCACGCATCCGTAGATAGATAGATAGATAGAACCGTAGATAGATAGATAGAAT\n",
      "0\n",
      "TAGATAGATAGATAGTTAGTTAGTTAGTTAGTTAGTTAGTTCCGTCCGTAGATAGATAGATAGATAGAACCGTAGATAGTTAGTTAGTTCCGTCCGTCCGTCCGCGAGTCCGAT\n",
      "AATG\n",
      "Together : AATGTAGATAGATAGATAGTTAGTTAGTTAGTTAGTTAGTTAGTTCCGTCCGTAGATAGATAGATAGATAGAACCGTAGATAGTTAGTTAGTTCCGTCCGTCCGTCCGCGAGTCCGAT\n",
      "0\n",
      "TCCGTCCGCGAGTCCGTCCGTAGATAGATATCTAGATAGATAGAACCGTAGATAGTTAGTTAGTTCCGTCCGTCCGTCCGTCCGCGAGTCCGTCCGTCCGCGAGTAGATAGAAT\n",
      "AGAG\n",
      "Together : AGAGTCCGTCCGCGAGTCCGTCCGTAGATAGATATCTAGATAGATAGAACCGTAGATAGTTAGTTAGTTCCGTCCGTCCGTCCGTCCGCGAGTCCGTCCGTCCGCGAGTAGATAGAAT\n",
      "0\n",
      "TATCTATCTAGATAGATAGAACCGTAGATAGATAGTTAGATAGATAGATCCGTCCGTCCGCGAGCGAGCGAGCGAGTAGTCGAGCGAGTATCTATCTAGATAGATAGAACCGAT\n",
      "AGAC\n",
      "Together : AGACTATCTATCTAGATAGATAGAACCGTAGATAGATAGTTAGATAGATAGATCCGTCCGTCCGCGAGCGAGCGAGCGAGTAGTCGAGCGAGTATCTATCTAGATAGATAGAACCGAT\n",
      "0\n",
      "TAGATAGATAGATAGATAGATAGATAGACGAGCGAGCGAGTAGTCGAGCGAGCGAGCGAGCGAGTATCTATCTAGATAGATAGAACCGTAGATAGATAGATAGATAGATATCAT\n",
      "AATC\n",
      "Together : AATCTAGATAGATAGATAGATAGATAGATAGACGAGCGAGCGAGTAGTCGAGCGAGCGAGCGAGCGAGTATCTATCTAGATAGATAGAACCGTAGATAGATAGATAGATAGATATCAT\n",
      "0\n",
      "TATCCGAGCGAGCGAGCGAGCGAGCGAGCGAGCGAGCGAGTATCTATCTAGATAGATAGAACCGTAGATAGATAGATAGATATCTATCTATCCGAGCGAGCGAGCGAGCGAGAT\n",
      "AGGA\n",
      "Together : AGGATATCCGAGCGAGCGAGCGAGCGAGCGAGCGAGCGAGCGAGTATCTATCTAGATAGATAGAACCGTAGATAGATAGATAGATATCTATCTATCCGAGCGAGCGAGCGAGCGAGAT\n",
      "0\n",
      "CGAGTAGATAGATAGATAGATAGATAGATAGATAGAACCGTAGATAGATAGATAGATATCTATCTAGATAGATAGATAGATAGATAGATAGATAGATAGATAGATAGATAGAAT\n",
      "AATT\n",
      "Together : AATTCGAGTAGATAGATAGATAGATAGATAGATAGATAGAACCGTAGATAGATAGATAGATATCTATCTAGATAGATAGATAGATAGATAGATAGATAGATAGATAGATAGATAGAAT\n",
      "0\n",
      "TAGATAGATAGAACCGTAGATAGATAGATAGATAGATAGATAGATAGATAGATAGATAGATAGATAGATAGATAGATAGATAGATAGATAGATAGATAGAAT\n",
      "AGGC\n",
      "Together : AGGCTAGATAGATAGAACCGTAGATAGATAGATAGATAGATAGATAGATAGATAGATAGATAGATAGATAGATAGATAGATAGATAGATAGATAGATAGATAGAAT\n",
      "0\n"
     ]
    }
   ],
   "source": [
    "# Test Triple Repeats in Combined Fragments\n",
    "\n",
    "for i,j in zip(DNAfragmentList, uniqueAddress):\n",
    "    print(i)\n",
    "    print(j)\n",
    "    print(\"Together :\",j+i)\n",
    "    print(noTripleRepeats(i+j))"
   ]
  },
  {
   "cell_type": "code",
   "execution_count": null,
   "metadata": {},
   "outputs": [],
   "source": []
  },
  {
   "cell_type": "code",
   "execution_count": null,
   "metadata": {},
   "outputs": [],
   "source": []
  },
  {
   "cell_type": "code",
   "execution_count": null,
   "metadata": {},
   "outputs": [],
   "source": []
  },
  {
   "cell_type": "code",
   "execution_count": null,
   "metadata": {},
   "outputs": [],
   "source": []
  },
  {
   "cell_type": "code",
   "execution_count": null,
   "metadata": {},
   "outputs": [],
   "source": []
  },
  {
   "cell_type": "code",
   "execution_count": null,
   "metadata": {},
   "outputs": [],
   "source": []
  },
  {
   "cell_type": "code",
   "execution_count": 33,
   "metadata": {},
   "outputs": [],
   "source": [
    "# UNIQUE PROBLEM ERROR HERE"
   ]
  },
  {
   "cell_type": "code",
   "execution_count": 34,
   "metadata": {},
   "outputs": [
    {
     "name": "stdout",
     "output_type": "stream",
     "text": [
      "AAGA  -  TAGATAGATAGATAGATAGATAGATAGATAGATAGATAGATAGATAGATAGATAGATAGATAGATAGATAGATAGATAGATAGAACCGTAGATAGATAGATAGATAGATAGAAT\n",
      "AAGG  -  TAGATAGATAGATAGATAGATAGATAGATAGATAGATAGATAGATAGATAGATAGATAGAACCGTAGATAGATAGATAGATAGATAGATAGATAGATAGATAGATAGATAGAAT\n",
      "AAGC  -  TAGATAGATAGATAGATAGATAGATAGATAGATAGAACCGTAGATAGATAGATAGATAGATAGATAGATAGATAGATAGATAGATAGATAGATAGATAGATAGATAGATAGAAT\n",
      "AAGT  -  TAGATAGATAGAACCGTAGATAGATAGATAGATAGATAGATAGATCCGTCCGTCCGTCCGTCCGTAGATAGATAGTTAGTTAGTTAGATAGATAGATAGAACCGTAGATAGAAT\n",
      "AACA  -  TAGATAGATAGATAGATCCGTCCGTCCGTCCGTCCGTCCGTCCGTCCGTCCGTAGTTAGTTAGATAGATAGATAGAACCGTAGATAGATAGATAGATAGATAGATATCTATCAT\n",
      "AACG  -  TATCTAGTTAGTCGCATAGTTAGATCCGTCCGTCCGTAGATAGATAGATAGAACCGTAGATAGATAGATAGATAGATATCTAGTTATCTAGTTAGTTAGTCGCATAGTTAGTAT\n",
      "AACT  -  TAGTTCCGTCCGTAGATAGATAGATAGAACCGTAGATAGATAGATAGATAGATATCTAGTTATCTATCTAGTTAGTTAGTCGCATAGTTAGTTAGTTCCGTAGATAGATAGAAT\n",
      "AATA  -  TAGAACCGTAGATAGATAGATAGATAGATATCTATCTAGTTAGTTAGTTAGTCGCACGCACGCACGCATCCGTAGATAGATAGATAGATAGAACCGTAGATAGATAGATAGAAT\n",
      "AATG  -  TAGATAGATAGATAGTTAGTTAGTTAGTTAGTTAGTTAGTTCCGTCCGTAGATAGATAGATAGATAGAACCGTAGATAGTTAGTTAGTTCCGTCCGTCCGTCCGCGAGTCCGAT\n",
      "AGAG  -  TCCGTCCGCGAGTCCGTCCGTAGATAGATATCTAGATAGATAGAACCGTAGATAGTTAGTTAGTTCCGTCCGTCCGTCCGTCCGCGAGTCCGTCCGTCCGCGAGTAGATAGAAT\n",
      "AGAC  -  TATCTATCTAGATAGATAGAACCGTAGATAGATAGTTAGATAGATAGATCCGTCCGTCCGCGAGCGAGCGAGCGAGTAGTCGAGCGAGTATCTATCTAGATAGATAGAACCGAT\n",
      "AATC  -  TAGATAGATAGATAGATAGATAGATAGACGAGCGAGCGAGTAGTCGAGCGAGCGAGCGAGCGAGTATCTATCTAGATAGATAGAACCGTAGATAGATAGATAGATAGATATCAT\n",
      "AGGA  -  TATCCGAGCGAGCGAGCGAGCGAGCGAGCGAGCGAGCGAGTATCTATCTAGATAGATAGAACCGTAGATAGATAGATAGATATCTATCTATCCGAGCGAGCGAGCGAGCGAGAT\n",
      "AATT  -  CGAGTAGATAGATAGATAGATAGATAGATAGATAGAACCGTAGATAGATAGATAGATATCTATCTAGATAGATAGATAGATAGATAGATAGATAGATAGATAGATAGATAGAAT\n",
      "AGGC  -  TAGATAGATAGAACCGTAGATAGATAGATAGATAGATAGATAGATAGATAGATAGATAGATAGATAGATAGATAGATAGATAGATAGATAGATAGATAGAAT\n"
     ]
    }
   ],
   "source": [
    "# This demonstrates that the unique address codes and or comp codes can be found in other DNA fragments\n",
    "for k,l in zip (uniqueAddress,DNAfragmentList):\n",
    "    print(k, \" - \", l)\n",
    "    if k in l:\n",
    "        print(\"Found something with address code\")\n",
    "    if complimentaryPrimer(k) in l:\n",
    "        print(\"Found something with comp code\")"
   ]
  },
  {
   "cell_type": "code",
   "execution_count": 35,
   "metadata": {},
   "outputs": [
    {
     "name": "stdout",
     "output_type": "stream",
     "text": [
      "AAGA  TTCT  TAGATAGATAGATAGATAGATAGATAGATAGATAGATAGATAGATAGATAGATAGATAGATAGATAGATAGATAGATAGATAGAACCGTAGATAGATAGATAGATAGATAGAAT\n",
      "AAGG  TTCC  TAGATAGATAGATAGATAGATAGATAGATAGATAGATAGATAGATAGATAGATAGATAGAACCGTAGATAGATAGATAGATAGATAGATAGATAGATAGATAGATAGATAGAAT\n",
      "AAGC  TTCG  TAGATAGATAGATAGATAGATAGATAGATAGATAGAACCGTAGATAGATAGATAGATAGATAGATAGATAGATAGATAGATAGATAGATAGATAGATAGATAGATAGATAGAAT\n",
      "AAGT  TTCA  TAGATAGATAGAACCGTAGATAGATAGATAGATAGATAGATAGATCCGTCCGTCCGTCCGTCCGTAGATAGATAGTTAGTTAGTTAGATAGATAGATAGAACCGTAGATAGAAT\n",
      "AACA  TTGT  TAGATAGATAGATAGATCCGTCCGTCCGTCCGTCCGTCCGTCCGTCCGTCCGTAGTTAGTTAGATAGATAGATAGAACCGTAGATAGATAGATAGATAGATAGATATCTATCAT\n",
      "AACG  TTGC  TATCTAGTTAGTCGCATAGTTAGATCCGTCCGTCCGTAGATAGATAGATAGAACCGTAGATAGATAGATAGATAGATATCTAGTTATCTAGTTAGTTAGTCGCATAGTTAGTAT\n",
      "AACT  TTGA  TAGTTCCGTCCGTAGATAGATAGATAGAACCGTAGATAGATAGATAGATAGATATCTAGTTATCTATCTAGTTAGTTAGTCGCATAGTTAGTTAGTTCCGTAGATAGATAGAAT\n",
      "AATA  TTAT  TAGAACCGTAGATAGATAGATAGATAGATATCTATCTAGTTAGTTAGTTAGTCGCACGCACGCACGCATCCGTAGATAGATAGATAGATAGAACCGTAGATAGATAGATAGAAT\n",
      "AATG  TTAC  TAGATAGATAGATAGTTAGTTAGTTAGTTAGTTAGTTAGTTCCGTCCGTAGATAGATAGATAGATAGAACCGTAGATAGTTAGTTAGTTCCGTCCGTCCGTCCGCGAGTCCGAT\n",
      "AGAG  TCTC  TCCGTCCGCGAGTCCGTCCGTAGATAGATATCTAGATAGATAGAACCGTAGATAGTTAGTTAGTTCCGTCCGTCCGTCCGTCCGCGAGTCCGTCCGTCCGCGAGTAGATAGAAT\n",
      "AGAC  TCTG  TATCTATCTAGATAGATAGAACCGTAGATAGATAGTTAGATAGATAGATCCGTCCGTCCGCGAGCGAGCGAGCGAGTAGTCGAGCGAGTATCTATCTAGATAGATAGAACCGAT\n",
      "AATC  TTAG  TAGATAGATAGATAGATAGATAGATAGACGAGCGAGCGAGTAGTCGAGCGAGCGAGCGAGCGAGTATCTATCTAGATAGATAGAACCGTAGATAGATAGATAGATAGATATCAT\n",
      "AGGA  TCCT  TATCCGAGCGAGCGAGCGAGCGAGCGAGCGAGCGAGCGAGTATCTATCTAGATAGATAGAACCGTAGATAGATAGATAGATATCTATCTATCCGAGCGAGCGAGCGAGCGAGAT\n",
      "AATT  TTAA  CGAGTAGATAGATAGATAGATAGATAGATAGATAGAACCGTAGATAGATAGATAGATATCTATCTAGATAGATAGATAGATAGATAGATAGATAGATAGATAGATAGATAGAAT\n",
      "AGGC  TCCG  TAGATAGATAGAACCGTAGATAGATAGATAGATAGATAGATAGATAGATAGATAGATAGATAGATAGATAGATAGATAGATAGATAGATAGATAGATAGAAT\n"
     ]
    }
   ],
   "source": [
    "for m,n in zip(uniqueAddress,DNAfragmentList):\n",
    "    print(m,\"\", complimentaryPrimer(m), \"\", n)\n",
    "    if m in n:\n",
    "        print(\"HERE\")\n",
    "    elif complimentaryPrimer(m) in n:\n",
    "        print(\"HERE II\")"
   ]
  },
  {
   "cell_type": "code",
   "execution_count": null,
   "metadata": {},
   "outputs": [],
   "source": []
  },
  {
   "cell_type": "code",
   "execution_count": null,
   "metadata": {},
   "outputs": [],
   "source": []
  },
  {
   "cell_type": "code",
   "execution_count": null,
   "metadata": {},
   "outputs": [],
   "source": []
  },
  {
   "cell_type": "code",
   "execution_count": null,
   "metadata": {},
   "outputs": [],
   "source": []
  },
  {
   "cell_type": "code",
   "execution_count": 36,
   "metadata": {},
   "outputs": [
    {
     "name": "stdout",
     "output_type": "stream",
     "text": [
      "Comp Primer Problem Here,  TTCC  found out  1  found in  TAGTTCCGTCCGTAGATAGATAGATAGAACCGTAGATAGATAGATAGATAGATATCTAGTTATCTATCTAGTTAGTTAGTCGCATAGTTAGTTAGTTCCGTAGATAGATAGAAT  found out  6\n",
      "Comp Primer Problem Here,  TTCC  found out  1  found in  TAGATAGATAGATAGTTAGTTAGTTAGTTAGTTAGTTAGTTCCGTCCGTAGATAGATAGATAGATAGAACCGTAGATAGTTAGTTAGTTCCGTCCGTCCGTCCGCGAGTCCGAT  found out  8\n",
      "Comp Primer Problem Here,  TTCC  found out  1  found in  TCCGTCCGCGAGTCCGTCCGTAGATAGATATCTAGATAGATAGAACCGTAGATAGTTAGTTAGTTCCGTCCGTCCGTCCGTCCGCGAGTCCGTCCGTCCGCGAGTAGATAGAAT  found out  9\n",
      "Comp Primer Problem Here,  TTAT  found out  7  found in  TATCTAGTTAGTCGCATAGTTAGATCCGTCCGTCCGTAGATAGATAGATAGAACCGTAGATAGATAGATAGATAGATATCTAGTTATCTAGTTAGTTAGTCGCATAGTTAGTAT  found out  5\n",
      "Comp Primer Problem Here,  TTAT  found out  7  found in  TAGTTCCGTCCGTAGATAGATAGATAGAACCGTAGATAGATAGATAGATAGATATCTAGTTATCTATCTAGTTAGTTAGTCGCATAGTTAGTTAGTTCCGTAGATAGATAGAAT  found out  6\n",
      "Problem Here,  AGAC  found out  10  found in  TAGATAGATAGATAGATAGATAGATAGACGAGCGAGCGAGTAGTCGAGCGAGCGAGCGAGCGAGTATCTATCTAGATAGATAGAACCGTAGATAGATAGATAGATAGATATCAT  found out  11\n",
      "Comp Primer Problem Here,  TTAG  found out  11  found in  TAGATAGATAGAACCGTAGATAGATAGATAGATAGATAGATAGATCCGTCCGTCCGTCCGTCCGTAGATAGATAGTTAGTTAGTTAGATAGATAGATAGAACCGTAGATAGAAT  found out  3\n",
      "Comp Primer Problem Here,  TTAG  found out  11  found in  TAGATAGATAGATAGATCCGTCCGTCCGTCCGTCCGTCCGTCCGTCCGTCCGTAGTTAGTTAGATAGATAGATAGAACCGTAGATAGATAGATAGATAGATAGATATCTATCAT  found out  4\n",
      "Comp Primer Problem Here,  TTAG  found out  11  found in  TATCTAGTTAGTCGCATAGTTAGATCCGTCCGTCCGTAGATAGATAGATAGAACCGTAGATAGATAGATAGATAGATATCTAGTTATCTAGTTAGTTAGTCGCATAGTTAGTAT  found out  5\n",
      "Comp Primer Problem Here,  TTAG  found out  11  found in  TAGTTCCGTCCGTAGATAGATAGATAGAACCGTAGATAGATAGATAGATAGATATCTAGTTATCTATCTAGTTAGTTAGTCGCATAGTTAGTTAGTTCCGTAGATAGATAGAAT  found out  6\n",
      "Comp Primer Problem Here,  TTAG  found out  11  found in  TAGAACCGTAGATAGATAGATAGATAGATATCTATCTAGTTAGTTAGTTAGTCGCACGCACGCACGCATCCGTAGATAGATAGATAGATAGAACCGTAGATAGATAGATAGAAT  found out  7\n",
      "Comp Primer Problem Here,  TTAG  found out  11  found in  TAGATAGATAGATAGTTAGTTAGTTAGTTAGTTAGTTAGTTCCGTCCGTAGATAGATAGATAGATAGAACCGTAGATAGTTAGTTAGTTCCGTCCGTCCGTCCGCGAGTCCGAT  found out  8\n",
      "Comp Primer Problem Here,  TTAG  found out  11  found in  TCCGTCCGCGAGTCCGTCCGTAGATAGATATCTAGATAGATAGAACCGTAGATAGTTAGTTAGTTCCGTCCGTCCGTCCGTCCGCGAGTCCGTCCGTCCGCGAGTAGATAGAAT  found out  9\n",
      "Comp Primer Problem Here,  TTAG  found out  11  found in  TATCTATCTAGATAGATAGAACCGTAGATAGATAGTTAGATAGATAGATCCGTCCGTCCGCGAGCGAGCGAGCGAGTAGTCGAGCGAGTATCTATCTAGATAGATAGAACCGAT  found out  10\n",
      "Comp Primer Problem Here,  TCCG  found out  14  found in  TAGATAGATAGAACCGTAGATAGATAGATAGATAGATAGATAGATCCGTCCGTCCGTCCGTCCGTAGATAGATAGTTAGTTAGTTAGATAGATAGATAGAACCGTAGATAGAAT  found out  3\n",
      "Comp Primer Problem Here,  TCCG  found out  14  found in  TAGATAGATAGATAGATCCGTCCGTCCGTCCGTCCGTCCGTCCGTCCGTCCGTAGTTAGTTAGATAGATAGATAGAACCGTAGATAGATAGATAGATAGATAGATATCTATCAT  found out  4\n",
      "Comp Primer Problem Here,  TCCG  found out  14  found in  TATCTAGTTAGTCGCATAGTTAGATCCGTCCGTCCGTAGATAGATAGATAGAACCGTAGATAGATAGATAGATAGATATCTAGTTATCTAGTTAGTTAGTCGCATAGTTAGTAT  found out  5\n",
      "Comp Primer Problem Here,  TCCG  found out  14  found in  TAGTTCCGTCCGTAGATAGATAGATAGAACCGTAGATAGATAGATAGATAGATATCTAGTTATCTATCTAGTTAGTTAGTCGCATAGTTAGTTAGTTCCGTAGATAGATAGAAT  found out  6\n",
      "Comp Primer Problem Here,  TCCG  found out  14  found in  TAGAACCGTAGATAGATAGATAGATAGATATCTATCTAGTTAGTTAGTTAGTCGCACGCACGCACGCATCCGTAGATAGATAGATAGATAGAACCGTAGATAGATAGATAGAAT  found out  7\n",
      "Comp Primer Problem Here,  TCCG  found out  14  found in  TAGATAGATAGATAGTTAGTTAGTTAGTTAGTTAGTTAGTTCCGTCCGTAGATAGATAGATAGATAGAACCGTAGATAGTTAGTTAGTTCCGTCCGTCCGTCCGCGAGTCCGAT  found out  8\n",
      "Comp Primer Problem Here,  TCCG  found out  14  found in  TCCGTCCGCGAGTCCGTCCGTAGATAGATATCTAGATAGATAGAACCGTAGATAGTTAGTTAGTTCCGTCCGTCCGTCCGTCCGCGAGTCCGTCCGTCCGCGAGTAGATAGAAT  found out  9\n",
      "Comp Primer Problem Here,  TCCG  found out  14  found in  TATCTATCTAGATAGATAGAACCGTAGATAGATAGTTAGATAGATAGATCCGTCCGTCCGCGAGCGAGCGAGCGAGTAGTCGAGCGAGTATCTATCTAGATAGATAGAACCGAT  found out  10\n",
      "Comp Primer Problem Here,  TCCG  found out  14  found in  TATCCGAGCGAGCGAGCGAGCGAGCGAGCGAGCGAGCGAGTATCTATCTAGATAGATAGAACCGTAGATAGATAGATAGATATCTATCTATCCGAGCGAGCGAGCGAGCGAGAT  found out  12\n",
      "True\n"
     ]
    }
   ],
   "source": [
    "# Problem here whereby the unique address codes are being found in the fragments. Hmmmm...... \n",
    "counter=0\n",
    "innerCounter=[]\n",
    "for numi,i in enumerate(uniqueAddress):\n",
    "    for numj,j in enumerate(nucleotideFragments):\n",
    "        if i in j:\n",
    "            print(\"Problem Here, \",i,\" found out \",numi, \" found in \",j,\" found out \", numj)\n",
    "            counter=counter+1\n",
    "            innerCounter.append(numi)\n",
    "        elif complimentaryPrimer(i) in j:\n",
    "            print(\"Comp Primer Problem Here, \",complimentaryPrimer(i),\" found out \",numi, \" found in \",j,\" found out \", numj)\n",
    "            counter=counter+1\n",
    "            innerCounter.append(numi)\n",
    "\n",
    "print(a)"
   ]
  },
  {
   "cell_type": "code",
   "execution_count": 37,
   "metadata": {},
   "outputs": [
    {
     "ename": "SyntaxError",
     "evalue": "unexpected EOF while parsing (<ipython-input-37-8acf6e29c452>, line 5)",
     "output_type": "error",
     "traceback": [
      "\u001b[1;36m  File \u001b[1;32m\"<ipython-input-37-8acf6e29c452>\"\u001b[1;36m, line \u001b[1;32m5\u001b[0m\n\u001b[1;33m    \u001b[0m\n\u001b[1;37m    ^\u001b[0m\n\u001b[1;31mSyntaxError\u001b[0m\u001b[1;31m:\u001b[0m unexpected EOF while parsing\n"
     ]
    }
   ],
   "source": [
    "# Loop over Unique Addresses and Compare against all DNA fragments. \n",
    "# If number is smaller than DNA length then need to go to next level. \n",
    "# Build up a list of suitable address and primer codes \n",
    "def uniqueChecker(uniqueAddressList,DNAFragmentList):\n",
    "    "
   ]
  },
  {
   "cell_type": "code",
   "execution_count": null,
   "metadata": {},
   "outputs": [],
   "source": []
  },
  {
   "cell_type": "markdown",
   "metadata": {},
   "source": [
    "## Stage II Output"
   ]
  },
  {
   "cell_type": "code",
   "execution_count": 38,
   "metadata": {},
   "outputs": [
    {
     "name": "stdout",
     "output_type": "stream",
     "text": [
      "AAGA  -  TTCT  -  TAGATAGATAGATAGATAGATAGATAGATAGATAGATAGATAGATAGATAGATAGATAGATAGATAGATAGATAGATAGATAGAACCGTAGATAGATAGATAGATAGATAGAAT  -  åååååååååååååååååååååETXåååååå\n",
      "AAGG  -  TTCC  -  TAGATAGATAGATAGATAGATAGATAGATAGATAGATAGATAGATAGATAGATAGATAGAACCGTAGATAGATAGATAGATAGATAGATAGATAGATAGATAGATAGATAGAAT  -  åååååååååååååååETXåååååååååååå\n",
      "AAGC  -  TTCG  -  TAGATAGATAGATAGATAGATAGATAGATAGATAGAACCGTAGATAGATAGATAGATAGATAGATAGATAGATAGATAGATAGATAGATAGATAGATAGATAGATAGATAGAAT  -  åååååååååETXåååååååååååååååååå\n",
      "AAGT  -  TTCA  -  TAGATAGATAGAACCGTAGATAGATAGATAGATAGATAGATAGATCCGTCCGTCCGTCCGTCCGTAGATAGATAGTTAGTTAGTTAGATAGATAGATAGAACCGTAGATAGAAT  -  åååETXååååååå{{{{{ååäääååååETXåå\n",
      "AACA  -  TTGT  -  TAGATAGATAGATAGATCCGTCCGTCCGTCCGTCCGTCCGTCCGTCCGTCCGTAGTTAGTTAGATAGATAGATAGAACCGTAGATAGATAGATAGATAGATAGATATCTATCAT  -  åååå{{{{{{{{{ääååååETXååååååéé\n",
      "AACG  -  TTGC  -  TATCTAGTTAGTCGCATAGTTAGATCCGTCCGTCCGTAGATAGATAGATAGAACCGTAGATAGATAGATAGATAGATATCTAGTTATCTAGTTAGTTAGTCGCATAGTTAGTAT  -  éää!äå{{{ååååETXåååååéäéäää!ää\n",
      "AACT  -  TTGA  -  TAGTTCCGTCCGTAGATAGATAGATAGAACCGTAGATAGATAGATAGATAGATATCTAGTTATCTATCTAGTTAGTTAGTCGCATAGTTAGTTAGTTCCGTAGATAGATAGAAT  -  ä{{ååååETXåååååéäééäää!äää{ååå\n",
      "AATA  -  TTAT  -  TAGAACCGTAGATAGATAGATAGATAGATATCTATCTAGTTAGTTAGTTAGTCGCACGCACGCACGCATCCGTAGATAGATAGATAGATAGAACCGTAGATAGATAGATAGAAT  -  åETXåååååééääää!!!!{åååååETXåååå\n",
      "AATG  -  TTAC  -  TAGATAGATAGATAGTTAGTTAGTTAGTTAGTTAGTTAGTTCCGTCCGTAGATAGATAGATAGATAGAACCGTAGATAGTTAGTTAGTTCCGTCCGTCCGTCCGCGAGTCCGAT  -  åååäääääää{{åååååETXåäää{{{{&{\n",
      "AGAG  -  TCTC  -  TCCGTCCGCGAGTCCGTCCGTAGATAGATATCTAGATAGATAGAACCGTAGATAGTTAGTTAGTTCCGTCCGTCCGTCCGTCCGCGAGTCCGTCCGTCCGCGAGTAGATAGAAT  -  {{&{{ååéåååETXåäää{{{{{&{{{&åå\n",
      "AGAC  -  TCTG  -  TATCTATCTAGATAGATAGAACCGTAGATAGATAGTTAGATAGATAGATCCGTCCGTCCGCGAGCGAGCGAGCGAGTAGTCGAGCGAGTATCTATCTAGATAGATAGAACCGAT  -  ééåååETXååäååå{{{&&&&ä&&ééåååETX\n",
      "AATC  -  TTAG  -  TAGATAGATAGATAGATAGATAGATAGACGAGCGAGCGAGTAGTCGAGCGAGCGAGCGAGCGAGTATCTATCTAGATAGATAGAACCGTAGATAGATAGATAGATAGATATCAT  -  ååååååå&&&ä&&&&&ééåååETXåååååé\n",
      "AGGA  -  TCCT  -  TATCCGAGCGAGCGAGCGAGCGAGCGAGCGAGCGAGCGAGTATCTATCTAGATAGATAGAACCGTAGATAGATAGATAGATATCTATCTATCCGAGCGAGCGAGCGAGCGAGAT  -  é&&&&&&&&&ééåååETXååååééé&&&&&\n",
      "AATT  -  TTAA  -  CGAGTAGATAGATAGATAGATAGATAGATAGATAGAACCGTAGATAGATAGATAGATATCTATCTAGATAGATAGATAGATAGATAGATAGATAGATAGATAGATAGATAGAAT  -  &ååååååååETXååååééåååååååååååå\n",
      "AGGC  -  TCCG  -  TAGATAGATAGAACCGTAGATAGATAGATAGATAGATAGATAGATAGATAGATAGATAGATAGATAGATAGATAGATAGATAGATAGATAGATAGATAGAAT  -  åååETXååååååååååååååååååååå\n"
     ]
    }
   ],
   "source": [
    "for i,j in zip(fragmentDict,characterFragments):\n",
    "    print(i, \" - \", complimentaryPrimer(i), \" - \", fragmentDict[i],\" - \", j)"
   ]
  },
  {
   "cell_type": "code",
   "execution_count": null,
   "metadata": {},
   "outputs": [],
   "source": []
  },
  {
   "cell_type": "markdown",
   "metadata": {},
   "source": [
    "# Stage III\n",
    "## Compute the parity check for the address codes\n",
    "### Each address code is converted into its binary form, output is 1 if there are odd number of \"1\"s and 0 if there are even number of \"1\"s"
   ]
  },
  {
   "cell_type": "code",
   "execution_count": 39,
   "metadata": {},
   "outputs": [
    {
     "name": "stdout",
     "output_type": "stream",
     "text": [
      "{'AAGA': 1, 'AAGG': 0, 'AAGC': 1, 'AAGT': 0, 'AACA': 0, 'AACG': 1, 'AACT': 1, 'AATA': 1, 'AATG': 0, 'AGAG': 0, 'AGAC': 1, 'AATC': 1, 'AGGA': 0, 'AATT': 0, 'AGGC': 0}\n"
     ]
    }
   ],
   "source": [
    "parityCheck={}\n",
    "parityList=[]\n",
    "binaryList=[]\n",
    "\n",
    "for testValue in uniqueAddress:\n",
    "    binaryCode=binaryConverter(testValue)\n",
    "    binaryList.append(binaryCode)\n",
    "    numberOccurences=binaryCode.count(\"1\")\n",
    "    if numberOccurences % 2 == 0:\n",
    "        parityCheck[testValue]=0\n",
    "        parityList.append(0)\n",
    "    else:\n",
    "        parityCheck[testValue]=1\n",
    "        parityList.append(1)\n",
    "    \n",
    "print (parityCheck)"
   ]
  },
  {
   "cell_type": "markdown",
   "metadata": {},
   "source": [
    "# Stage IV\n",
    "## Determine the percentage of GC nucleotide bases "
   ]
  },
  {
   "cell_type": "code",
   "execution_count": 40,
   "metadata": {},
   "outputs": [
    {
     "name": "stdout",
     "output_type": "stream",
     "text": [
      "AAGA TTCT TAGATAGATAGATAGATAGATAGATAGATAGATAGATAGATAGATAGATAGATAGATAGATAGATAGATAGATAGATAGATAGAACCGTAGATAGATAGATAGATAGATAGAAT\n",
      "AAGG TTCC TAGATAGATAGATAGATAGATAGATAGATAGATAGATAGATAGATAGATAGATAGATAGAACCGTAGATAGATAGATAGATAGATAGATAGATAGATAGATAGATAGATAGAAT\n",
      "AAGC TTCG TAGATAGATAGATAGATAGATAGATAGATAGATAGAACCGTAGATAGATAGATAGATAGATAGATAGATAGATAGATAGATAGATAGATAGATAGATAGATAGATAGATAGAAT\n",
      "AAGT TTCA TAGATAGATAGAACCGTAGATAGATAGATAGATAGATAGATAGATCCGTCCGTCCGTCCGTCCGTAGATAGATAGTTAGTTAGTTAGATAGATAGATAGAACCGTAGATAGAAT\n",
      "AACA TTGT TAGATAGATAGATAGATCCGTCCGTCCGTCCGTCCGTCCGTCCGTCCGTCCGTAGTTAGTTAGATAGATAGATAGAACCGTAGATAGATAGATAGATAGATAGATATCTATCAT\n",
      "AACG TTGC TATCTAGTTAGTCGCATAGTTAGATCCGTCCGTCCGTAGATAGATAGATAGAACCGTAGATAGATAGATAGATAGATATCTAGTTATCTAGTTAGTTAGTCGCATAGTTAGTAT\n",
      "AACT TTGA TAGTTCCGTCCGTAGATAGATAGATAGAACCGTAGATAGATAGATAGATAGATATCTAGTTATCTATCTAGTTAGTTAGTCGCATAGTTAGTTAGTTCCGTAGATAGATAGAAT\n",
      "AATA TTAT TAGAACCGTAGATAGATAGATAGATAGATATCTATCTAGTTAGTTAGTTAGTCGCACGCACGCACGCATCCGTAGATAGATAGATAGATAGAACCGTAGATAGATAGATAGAAT\n",
      "AATG TTAC TAGATAGATAGATAGTTAGTTAGTTAGTTAGTTAGTTAGTTCCGTCCGTAGATAGATAGATAGATAGAACCGTAGATAGTTAGTTAGTTCCGTCCGTCCGTCCGCGAGTCCGAT\n",
      "AGAG TCTC TCCGTCCGCGAGTCCGTCCGTAGATAGATATCTAGATAGATAGAACCGTAGATAGTTAGTTAGTTCCGTCCGTCCGTCCGTCCGCGAGTCCGTCCGTCCGCGAGTAGATAGAAT\n",
      "AGAC TCTG TATCTATCTAGATAGATAGAACCGTAGATAGATAGTTAGATAGATAGATCCGTCCGTCCGCGAGCGAGCGAGCGAGTAGTCGAGCGAGTATCTATCTAGATAGATAGAACCGAT\n",
      "AATC TTAG TAGATAGATAGATAGATAGATAGATAGACGAGCGAGCGAGTAGTCGAGCGAGCGAGCGAGCGAGTATCTATCTAGATAGATAGAACCGTAGATAGATAGATAGATAGATATCAT\n",
      "AGGA TCCT TATCCGAGCGAGCGAGCGAGCGAGCGAGCGAGCGAGCGAGTATCTATCTAGATAGATAGAACCGTAGATAGATAGATAGATATCTATCTATCCGAGCGAGCGAGCGAGCGAGAT\n",
      "AATT TTAA CGAGTAGATAGATAGATAGATAGATAGATAGATAGAACCGTAGATAGATAGATAGATATCTATCTAGATAGATAGATAGATAGATAGATAGATAGATAGATAGATAGATAGAAT\n",
      "AGGC TCCG TAGATAGATAGAACCGTAGATAGATAGATAGATAGATAGATAGATAGATAGATAGATAGATAGATAGATAGATAGATAGATAGATAGATAGATAGATAGAAT\n"
     ]
    }
   ],
   "source": [
    "percentageListUniqueAddress=[]\n",
    "percentageListComplimentary=[]\n",
    "percentageListFragment=[]\n",
    "percentageListCombined=[]\n",
    "\n",
    "for testValue1,testValue2, testValue3 in zip(uniqueAddress, uniqueCompAddress, nucleotideFragments) :\n",
    "    print(testValue1,testValue2,testValue3)\n",
    "    percentageValue1=gcPercentageSimple(testValue1)\n",
    "    percentageValue2=gcPercentageSimple(testValue2)\n",
    "    percentageValue3=gcPercentageSimple(testValue3)\n",
    "    percentageValue4=gcPercentageSimple(testValue1+testValue3)\n",
    "    \n",
    "    percentageListUniqueAddress.append(percentageValue1)\n",
    "    percentageListComplimentary.append(percentageValue2)\n",
    "    percentageListFragment.append(percentageValue3)\n",
    "    percentageListCombined.append(percentageValue4)\n",
    "\n",
    "#     print(testValue1, \" - \",testValue2, \" - \",testValue3[0:4], \" - \", \"Percentages: \", percentageValue1, \" - \", percentageValue2, \" - \", percentageValue3, \" - \",)"
   ]
  },
  {
   "cell_type": "code",
   "execution_count": 41,
   "metadata": {},
   "outputs": [
    {
     "name": "stdout",
     "output_type": "stream",
     "text": [
      "AAGA\n",
      "TAGATAGATAGATAGATAGATAGATAGATAGATAGATAGATAGATAGATAGATAGATAGATAGATAGATAGATAGATAGATAGAACCGTAGATAGATAGATAGATAGATAGAAT\n",
      "118\n",
      "AAGG\n",
      "TAGATAGATAGATAGATAGATAGATAGATAGATAGATAGATAGATAGATAGATAGATAGAACCGTAGATAGATAGATAGATAGATAGATAGATAGATAGATAGATAGATAGAAT\n",
      "118\n",
      "AAGC\n",
      "TAGATAGATAGATAGATAGATAGATAGATAGATAGAACCGTAGATAGATAGATAGATAGATAGATAGATAGATAGATAGATAGATAGATAGATAGATAGATAGATAGATAGAAT\n",
      "118\n",
      "AAGT\n",
      "TAGATAGATAGAACCGTAGATAGATAGATAGATAGATAGATAGATCCGTCCGTCCGTCCGTCCGTAGATAGATAGTTAGTTAGTTAGATAGATAGATAGAACCGTAGATAGAAT\n",
      "118\n",
      "AACA\n",
      "TAGATAGATAGATAGATCCGTCCGTCCGTCCGTCCGTCCGTCCGTCCGTCCGTAGTTAGTTAGATAGATAGATAGAACCGTAGATAGATAGATAGATAGATAGATATCTATCAT\n",
      "118\n",
      "AACG\n",
      "TATCTAGTTAGTCGCATAGTTAGATCCGTCCGTCCGTAGATAGATAGATAGAACCGTAGATAGATAGATAGATAGATATCTAGTTATCTAGTTAGTTAGTCGCATAGTTAGTAT\n",
      "118\n",
      "AACT\n",
      "TAGTTCCGTCCGTAGATAGATAGATAGAACCGTAGATAGATAGATAGATAGATATCTAGTTATCTATCTAGTTAGTTAGTCGCATAGTTAGTTAGTTCCGTAGATAGATAGAAT\n",
      "118\n",
      "AATA\n",
      "TAGAACCGTAGATAGATAGATAGATAGATATCTATCTAGTTAGTTAGTTAGTCGCACGCACGCACGCATCCGTAGATAGATAGATAGATAGAACCGTAGATAGATAGATAGAAT\n",
      "118\n",
      "AATG\n",
      "TAGATAGATAGATAGTTAGTTAGTTAGTTAGTTAGTTAGTTCCGTCCGTAGATAGATAGATAGATAGAACCGTAGATAGTTAGTTAGTTCCGTCCGTCCGTCCGCGAGTCCGAT\n",
      "118\n",
      "AGAG\n",
      "TCCGTCCGCGAGTCCGTCCGTAGATAGATATCTAGATAGATAGAACCGTAGATAGTTAGTTAGTTCCGTCCGTCCGTCCGTCCGCGAGTCCGTCCGTCCGCGAGTAGATAGAAT\n",
      "118\n",
      "AGAC\n",
      "TATCTATCTAGATAGATAGAACCGTAGATAGATAGTTAGATAGATAGATCCGTCCGTCCGCGAGCGAGCGAGCGAGTAGTCGAGCGAGTATCTATCTAGATAGATAGAACCGAT\n",
      "118\n",
      "AATC\n",
      "TAGATAGATAGATAGATAGATAGATAGACGAGCGAGCGAGTAGTCGAGCGAGCGAGCGAGCGAGTATCTATCTAGATAGATAGAACCGTAGATAGATAGATAGATAGATATCAT\n",
      "118\n",
      "AGGA\n",
      "TATCCGAGCGAGCGAGCGAGCGAGCGAGCGAGCGAGCGAGTATCTATCTAGATAGATAGAACCGTAGATAGATAGATAGATATCTATCTATCCGAGCGAGCGAGCGAGCGAGAT\n",
      "118\n",
      "AATT\n",
      "CGAGTAGATAGATAGATAGATAGATAGATAGATAGAACCGTAGATAGATAGATAGATATCTATCTAGATAGATAGATAGATAGATAGATAGATAGATAGATAGATAGATAGAAT\n",
      "118\n",
      "AGGC\n",
      "TAGATAGATAGAACCGTAGATAGATAGATAGATAGATAGATAGATAGATAGATAGATAGATAGATAGATAGATAGATAGATAGATAGATAGATAGATAGAAT\n",
      "106\n"
     ]
    }
   ],
   "source": [
    "# Process for Output - Make a Termination Fragment Column for DataFrame and Entire Fragment Combined Column\n",
    "terminationFragment=[]\n",
    "totalCombined=[]\n",
    "for i,j in zip(uniqueAddress,nucleotideFragments):\n",
    "    terminationFragment.append(\"AT\")\n",
    "    print(i)\n",
    "    print(j)\n",
    "    print(len(i+j))\n",
    "    totalCombined.append(i+j)"
   ]
  },
  {
   "cell_type": "code",
   "execution_count": 42,
   "metadata": {},
   "outputs": [
    {
     "name": "stdout",
     "output_type": "stream",
     "text": [
      "AAGATAGATAGATAGATAGATAGATAGATAGATAGATAGATAGATAGATAGATAGATAGATAGATAGATAGATAGATAGATAGATAGAACCGTAGATAGATAGATAGATAGATAGAAT\n",
      "118\n",
      "26.27118644067797\n"
     ]
    }
   ],
   "source": [
    "print(totalCombined[0])\n",
    "print(len(totalCombined[0]))\n",
    "print(gcPercentageSimple(totalCombined[0]))"
   ]
  },
  {
   "cell_type": "code",
   "execution_count": null,
   "metadata": {},
   "outputs": [],
   "source": []
  },
  {
   "cell_type": "code",
   "execution_count": 43,
   "metadata": {},
   "outputs": [
    {
     "name": "stdout",
     "output_type": "stream",
     "text": [
      "åååååååååååååååååååååETXåååååå\n",
      "åååååååååååååååETXåååååååååååå\n",
      "åååååååååETXåååååååååååååååååå\n",
      "åååETXååååååå{{{{{ååäääååååETXåå\n",
      "åååå{{{{{{{{{ääååååETXååååååéé\n",
      "éää!äå{{{ååååETXåååååéäéäää!ää\n",
      "ä{{ååååETXåååååéäééäää!äää{ååå\n",
      "åETXåååååééääää!!!!{åååååETXåååå\n",
      "åååäääääää{{åååååETXåäää{{{{&{\n",
      "{{&{{ååéåååETXåäää{{{{{&{{{&åå\n",
      "ééåååETXååäååå{{{&&&&ä&&ééåååETX\n",
      "ååååååå&&&ä&&&&&ééåååETXåååååé\n",
      "é&&&&&&&&&ééåååETXååååééé&&&&&\n",
      "&ååååååååETXååååééåååååååååååå\n",
      "åååETXååååååååååååååååååååå\n"
     ]
    }
   ],
   "source": [
    "for i in characterFragments:\n",
    "    print(i)"
   ]
  },
  {
   "cell_type": "code",
   "execution_count": null,
   "metadata": {},
   "outputs": [],
   "source": []
  },
  {
   "cell_type": "markdown",
   "metadata": {},
   "source": [
    "# Stage V"
   ]
  },
  {
   "cell_type": "code",
   "execution_count": 44,
   "metadata": {},
   "outputs": [],
   "source": [
    "import scrape as sc\n",
    "import concurrence as cc"
   ]
  },
  {
   "cell_type": "code",
   "execution_count": 45,
   "metadata": {},
   "outputs": [
    {
     "name": "stdout",
     "output_type": "stream",
     "text": [
      "Results is : [[1.57], [1.57, 2.46], [-0.1], [-0.11, 0.36, 0.43, 0.43, 0.66], [-5.85, -5.38, -5.38, -5.08, -5.08, -5.08, -4.95, -4.91, -4.91], [-7.18, -7.16, -6.33], [-9.22, -8.87], [-7.38, -7.06, -6.48], [-1.64, -1.0, -0.84], [-7.56, -7.08, -6.92], [-17.19, -16.76, -16.69], [-11.67, -11.03, -11.02, -10.67], [-16.98, -16.81, -16.11], [-5.82, -5.82], [-0.1, 0.7]]\n",
      "Minimum Values :  [1.57, 1.57, -0.1, -0.11, -5.85, -7.18, -9.22, -7.38, -1.64, -7.56, -17.19, -11.67, -16.98, -5.82, -0.1]\n",
      "Job completed in 82.09 seconds\n",
      "The result from going via the concurrence module is:  [1.57, 1.57, -0.1, -0.11, -5.85, -7.18, -9.22, -7.38, -1.64, -7.56, -17.19, -11.67, -16.98, -5.82, -0.1]\n"
     ]
    }
   ],
   "source": [
    "a=cc.main(totalCombined)\n",
    "print(\"The result from going via the concurrence module is: \", a)"
   ]
  },
  {
   "cell_type": "code",
   "execution_count": null,
   "metadata": {},
   "outputs": [],
   "source": [
    "#codeTest=\"AAGATAGCTAGCTAGCTAGCTAGCTAGCTAGCTAGCTAGCTAGCTAGCTAGCTAGCTAGCTAGCTAGCTAGCTAGCTAGCTAGCTAGCTGAGTAGCTAGCTAGCTAGCTAGCTAGCAT\"\n",
    "\n",
    "totalFreeEnergies=[]\n",
    "minFreeEnergies=[]\n",
    "\n",
    "\n",
    "for codes in totalCombined:\n",
    "\n",
    "    freeEnergyVals=sc.freeEnergy(codes)\n",
    "    print(freeEnergyVals)\n",
    "    totalFreeEnergies.append(freeEnergyVals)\n",
    "    minFreeEnergies.append(min(freeEnergyVals))\n",
    "\n",
    "print(totalFreeEnergies)\n",
    "print(minFreeEnergies)"
   ]
  },
  {
   "cell_type": "code",
   "execution_count": null,
   "metadata": {},
   "outputs": [],
   "source": [
    "print (totalCombined)"
   ]
  },
  {
   "cell_type": "code",
   "execution_count": null,
   "metadata": {},
   "outputs": [],
   "source": []
  },
  {
   "cell_type": "code",
   "execution_count": null,
   "metadata": {},
   "outputs": [],
   "source": []
  },
  {
   "cell_type": "code",
   "execution_count": null,
   "metadata": {},
   "outputs": [],
   "source": []
  },
  {
   "cell_type": "markdown",
   "metadata": {},
   "source": [
    "# Output"
   ]
  },
  {
   "cell_type": "code",
   "execution_count": null,
   "metadata": {},
   "outputs": [],
   "source": [
    "# # # uniqueAddress\n",
    "# binaryList\n",
    "# parityList\n",
    "# percentageListUniqueAddress\n",
    "\n",
    "# uniqueCompAddress\n",
    "# percentageListComplimentary\n",
    "\n",
    "#  nucleotideFragments,\n",
    "# percentageListFragment.append(percentageValue3)\n",
    "\n",
    "outputFrame=pd.DataFrame()\n",
    "\n",
    "outputFrame.insert(0,\"Address Code\",uniqueAddress)\n",
    "outputFrame.insert(1,\"Address Code - Binary\",binaryList)\n",
    "outputFrame.insert(2,\"Address Code - Parity Check\",parityList)\n",
    "outputFrame.insert(3,\"Address Code - GC Percentage\",percentageListUniqueAddress)\n",
    "outputFrame.insert(4,\"Complimentary Address Code\",uniqueCompAddress)\n",
    "outputFrame.insert(5,\"Complimentary Address Code - GC Percentage\",percentageListComplimentary)\n",
    "outputFrame.insert(6,\"Character Message\",characterFragments)\n",
    "outputFrame.insert(7,\"Individual Codes\", usedCodesList)\n",
    "outputFrame.insert(8,\"Information Fragment\",nucleotideFragments)\n",
    "outputFrame.insert(9,\"Information Fragment - GC Percentage\",percentageListFragment)\n",
    "outputFrame.insert(10,\"Total Fragment\",totalCombined)\n",
    "outputFrame.insert(11,\"Total Fragment - GC Percentage\",percentageListCombined)\n",
    "# outputFrame.insert(12,\"Minimum Free Energy Values\",minFreeEnergies)\n",
    "\n",
    "\n",
    "\n",
    "display(outputFrame)"
   ]
  },
  {
   "cell_type": "code",
   "execution_count": null,
   "metadata": {},
   "outputs": [],
   "source": [
    "outputFrame=outputFrame.astype(str)\n",
    "outputFrame.to_csv(\"OutputMarioGreyscale-TableUS1Attempt5_WithinFreeEnergy.bod\",encoding='latin-1',index = True)"
   ]
  },
  {
   "cell_type": "code",
   "execution_count": null,
   "metadata": {},
   "outputs": [],
   "source": []
  },
  {
   "cell_type": "code",
   "execution_count": null,
   "metadata": {},
   "outputs": [],
   "source": []
  },
  {
   "cell_type": "code",
   "execution_count": null,
   "metadata": {},
   "outputs": [],
   "source": []
  },
  {
   "cell_type": "code",
   "execution_count": null,
   "metadata": {},
   "outputs": [],
   "source": []
  },
  {
   "cell_type": "code",
   "execution_count": null,
   "metadata": {},
   "outputs": [],
   "source": []
  },
  {
   "cell_type": "code",
   "execution_count": null,
   "metadata": {},
   "outputs": [],
   "source": []
  },
  {
   "cell_type": "code",
   "execution_count": null,
   "metadata": {},
   "outputs": [],
   "source": []
  },
  {
   "cell_type": "code",
   "execution_count": null,
   "metadata": {},
   "outputs": [],
   "source": []
  },
  {
   "cell_type": "code",
   "execution_count": null,
   "metadata": {},
   "outputs": [],
   "source": []
  },
  {
   "cell_type": "code",
   "execution_count": null,
   "metadata": {},
   "outputs": [],
   "source": []
  },
  {
   "cell_type": "code",
   "execution_count": null,
   "metadata": {},
   "outputs": [],
   "source": []
  },
  {
   "cell_type": "code",
   "execution_count": null,
   "metadata": {},
   "outputs": [],
   "source": []
  },
  {
   "cell_type": "code",
   "execution_count": null,
   "metadata": {},
   "outputs": [],
   "source": []
  },
  {
   "cell_type": "code",
   "execution_count": null,
   "metadata": {},
   "outputs": [],
   "source": []
  },
  {
   "cell_type": "code",
   "execution_count": null,
   "metadata": {},
   "outputs": [],
   "source": []
  },
  {
   "cell_type": "code",
   "execution_count": null,
   "metadata": {},
   "outputs": [],
   "source": []
  },
  {
   "cell_type": "code",
   "execution_count": null,
   "metadata": {},
   "outputs": [],
   "source": []
  },
  {
   "cell_type": "code",
   "execution_count": null,
   "metadata": {},
   "outputs": [],
   "source": []
  },
  {
   "cell_type": "code",
   "execution_count": null,
   "metadata": {},
   "outputs": [],
   "source": []
  },
  {
   "cell_type": "code",
   "execution_count": null,
   "metadata": {},
   "outputs": [],
   "source": []
  },
  {
   "cell_type": "code",
   "execution_count": null,
   "metadata": {},
   "outputs": [],
   "source": []
  },
  {
   "cell_type": "code",
   "execution_count": null,
   "metadata": {},
   "outputs": [],
   "source": []
  },
  {
   "cell_type": "code",
   "execution_count": null,
   "metadata": {},
   "outputs": [],
   "source": []
  },
  {
   "cell_type": "code",
   "execution_count": null,
   "metadata": {},
   "outputs": [],
   "source": []
  },
  {
   "cell_type": "code",
   "execution_count": null,
   "metadata": {},
   "outputs": [],
   "source": []
  },
  {
   "cell_type": "code",
   "execution_count": null,
   "metadata": {},
   "outputs": [],
   "source": []
  },
  {
   "cell_type": "code",
   "execution_count": null,
   "metadata": {},
   "outputs": [],
   "source": []
  },
  {
   "cell_type": "code",
   "execution_count": null,
   "metadata": {},
   "outputs": [],
   "source": []
  },
  {
   "cell_type": "code",
   "execution_count": null,
   "metadata": {},
   "outputs": [],
   "source": []
  },
  {
   "cell_type": "code",
   "execution_count": null,
   "metadata": {},
   "outputs": [],
   "source": []
  },
  {
   "cell_type": "code",
   "execution_count": null,
   "metadata": {},
   "outputs": [],
   "source": []
  },
  {
   "cell_type": "code",
   "execution_count": null,
   "metadata": {},
   "outputs": [],
   "source": []
  },
  {
   "cell_type": "code",
   "execution_count": null,
   "metadata": {},
   "outputs": [],
   "source": []
  },
  {
   "cell_type": "code",
   "execution_count": null,
   "metadata": {},
   "outputs": [],
   "source": []
  },
  {
   "cell_type": "code",
   "execution_count": null,
   "metadata": {},
   "outputs": [],
   "source": []
  },
  {
   "cell_type": "code",
   "execution_count": null,
   "metadata": {},
   "outputs": [],
   "source": []
  },
  {
   "cell_type": "code",
   "execution_count": null,
   "metadata": {},
   "outputs": [],
   "source": []
  },
  {
   "cell_type": "code",
   "execution_count": null,
   "metadata": {},
   "outputs": [],
   "source": []
  },
  {
   "cell_type": "code",
   "execution_count": null,
   "metadata": {},
   "outputs": [],
   "source": []
  },
  {
   "cell_type": "code",
   "execution_count": null,
   "metadata": {},
   "outputs": [],
   "source": []
  },
  {
   "cell_type": "code",
   "execution_count": null,
   "metadata": {},
   "outputs": [],
   "source": []
  },
  {
   "cell_type": "code",
   "execution_count": null,
   "metadata": {},
   "outputs": [],
   "source": []
  },
  {
   "cell_type": "markdown",
   "metadata": {},
   "source": [
    "# Decoding"
   ]
  },
  {
   "cell_type": "code",
   "execution_count": null,
   "metadata": {},
   "outputs": [],
   "source": [
    "def decoding_Nucleotides(inputString,df):\n",
    "    \n",
    "    outputdictionary={}\n",
    "    indexList=[]\n",
    "    charList=[]\n",
    "    \n",
    "    # Codes can be 4, 5, 6, 7 or 8 digits long\n",
    "    for i in range(4,9):\n",
    "        value=inputString[0:i]\n",
    "#         print(value)\n",
    "        try:\n",
    "            result = ASCII_List_Raw.isin([value])\n",
    "            # Find the row where result is true\n",
    "            row = list(result[\"QUAT NUCLEOTIDES\"][result[\"QUAT NUCLEOTIDES\"] == True].index)\n",
    "            # Find the corresponding QUAT NUCLEOTIDE at the row\n",
    "            nucleotideCode=ASCII_List_Raw.loc[row,\"Char\"].tolist()[0]\n",
    "\n",
    "#             print(nucleotideCode)\n",
    "                \n",
    "            if len(nucleotideCode)>0:\n",
    "                outputdictionary[i]=nucleotideCode\n",
    "                charList.append(nucleotideCode)\n",
    "                listVar=[i]\n",
    "                indexList.append((listVar))\n",
    "        except:\n",
    "            pass\n",
    "        \n",
    "    return outputdictionary, charList, indexList\n",
    "\n",
    "        \n",
    "        "
   ]
  },
  {
   "cell_type": "code",
   "execution_count": null,
   "metadata": {},
   "outputs": [],
   "source": [
    "def get_CHARACTERS(df, value):\n",
    "    ''' Find the QUAT NUCLEOTIDE Corresponding to the input character.'''\n",
    "    \n",
    "    # Get bool dataframe with True at positions where the given value exists\n",
    "    result = df.isin([value])\n",
    "    # Find the row where result is true\n",
    "    row = list(result[\"QUAT NUCLEOTIDES\"][result[\"QUAT NUCLEOTIDES\"] == True].index)\n",
    "    # Find the corresponding QUAT NUCLEOTIDE at the row\n",
    "    character=df.loc[row,\"Char\"].tolist()[0]\n",
    "    \n",
    "    if character==\"space\":\n",
    "        character=\" \"\n",
    "        \n",
    "    if character==\"LF\":\n",
    "        character=\"\\n\"\n",
    "    \n",
    "    return character"
   ]
  },
  {
   "cell_type": "code",
   "execution_count": null,
   "metadata": {},
   "outputs": [],
   "source": [
    "a=get_CHARACTERS(ASCII_List_Raw,\"GCTG\")\n",
    "print(a)"
   ]
  },
  {
   "cell_type": "markdown",
   "metadata": {},
   "source": [
    "## Decode Single DNA Fragment"
   ]
  },
  {
   "cell_type": "code",
   "execution_count": null,
   "metadata": {},
   "outputs": [],
   "source": [
    "# input1=\"GACTTGCACGCGAGCTTAGCTTACACGGTGACACGGCGCCGCTTCGGCTTCGCCGTGCGAGCCGCGCTCCACGGCCTAGCACGCTCGCTCCACGGCCTAGCTTCGCACGGCGACACG\"\n",
    "# input1= \"GCCGCCGCCTCGCTTCGCTTCGCTCGCCGCCAGCCGCCGCCCACGGCTAGCGAGCCAGCTTCGCCCGCAGAGTGCACGCTTCGGCCTCCACGGCGAGCCGCGCCTACACGGCTTC\"\n",
    "# input1= nucleotideFragmentsDict[\"GATG\"]\n",
    "\n",
    "# input1=\"GTGACACGGCACGCGAGCCTGGCTCCACGGCGACACGGCTAGCCGCGCTCGCGAGCTTCCACGGCCTAGCACGCGAGCCTACACGGCTTCGCCAGCACGGCTGGCTTCGGCCTCAT\"\n",
    "\n",
    "input1=\"GCCGCGCTCCACGGCCTAGCACGCTCGCCAGCACGGCCTCGGCAGGCTTAGCTTACACGGCTTGGCTTCGGCCTACACGGCGCGCTCCACGGCATGCCTCGCTAGCTCGGCTCGCTA\"\n",
    "\n"
   ]
  },
  {
   "cell_type": "code",
   "execution_count": null,
   "metadata": {},
   "outputs": [],
   "source": [
    "initialInput=input1[0:8]\n",
    "\n",
    "# print (dict1,list1,\"HA\",list2)\n",
    "\n",
    "dict1,list1,list2=decoding_Nucleotides(initialInput,ASCII_List_Raw)\n",
    "\n",
    "for index, i in enumerate(list2):\n",
    "    if index==20000: # Hardcoded top end to prevent crashing, will need to remove this in future\n",
    "        break\n",
    "    \n",
    "    if type(i) is not int:\n",
    "        counter=0\n",
    "        for values in i:\n",
    "            counter=counter+values\n",
    "    \n",
    "    entry1,i1,i2=decoding_Nucleotides(input1[counter:],ASCII_List_Raw)\n",
    "    for key in entry1:\n",
    "        l=i.copy()\n",
    "        l.append(key)\n",
    "        list2.append(l)\n",
    "\n",
    "# print (dict1,list1,list2)\n",
    "        \n",
    "        "
   ]
  },
  {
   "cell_type": "code",
   "execution_count": null,
   "metadata": {},
   "outputs": [],
   "source": [
    "for i in list2:\n",
    "#     print(i)\n",
    "    if len(input1)==sum(i): #Now have termination sequence so need to subtract 2\n",
    "        #print(sum((i)))\n",
    "        phraseOut=\"\"\n",
    "        counter=0\n",
    "        for j in i:\n",
    "            a=get_CHARACTERS(ASCII_List_Raw,input1[counter:counter+j])\n",
    "            phraseOut=phraseOut+a      \n",
    "            counter=counter+j\n",
    "        print(phraseOut)"
   ]
  },
  {
   "cell_type": "code",
   "execution_count": null,
   "metadata": {},
   "outputs": [],
   "source": [
    "for i in list2: \n",
    "    \n",
    "    print(i)"
   ]
  },
  {
   "cell_type": "code",
   "execution_count": null,
   "metadata": {},
   "outputs": [],
   "source": []
  },
  {
   "cell_type": "code",
   "execution_count": null,
   "metadata": {},
   "outputs": [],
   "source": [
    "for i in nucleotideFragments:\n",
    "    print(i)\n",
    "    \n",
    "    "
   ]
  },
  {
   "cell_type": "code",
   "execution_count": null,
   "metadata": {},
   "outputs": [],
   "source": []
  },
  {
   "cell_type": "code",
   "execution_count": null,
   "metadata": {},
   "outputs": [],
   "source": []
  },
  {
   "cell_type": "code",
   "execution_count": null,
   "metadata": {},
   "outputs": [],
   "source": []
  },
  {
   "cell_type": "code",
   "execution_count": null,
   "metadata": {},
   "outputs": [],
   "source": []
  },
  {
   "cell_type": "code",
   "execution_count": null,
   "metadata": {},
   "outputs": [],
   "source": []
  },
  {
   "cell_type": "code",
   "execution_count": null,
   "metadata": {},
   "outputs": [],
   "source": []
  },
  {
   "cell_type": "code",
   "execution_count": null,
   "metadata": {},
   "outputs": [],
   "source": []
  },
  {
   "cell_type": "code",
   "execution_count": null,
   "metadata": {},
   "outputs": [],
   "source": []
  },
  {
   "cell_type": "code",
   "execution_count": null,
   "metadata": {},
   "outputs": [],
   "source": [
    "nucleotideFragmentsDictLong[\"GATC\"]\n",
    "# \"oo hot the eye of heaven s\"\n",
    "counter=0\n",
    "for i in nucleotideFragmentsDictLong[\"GATC\"]:\n",
    "    counter=counter+len(i)\n",
    "print(counter)"
   ]
  },
  {
   "cell_type": "code",
   "execution_count": null,
   "metadata": {},
   "outputs": [],
   "source": [
    "for i in nucleotideFragmentsDictLong[\"GATC\"]:\n",
    "    print(len(i))"
   ]
  },
  {
   "cell_type": "code",
   "execution_count": null,
   "metadata": {},
   "outputs": [],
   "source": []
  },
  {
   "cell_type": "markdown",
   "metadata": {},
   "source": [
    "# OLD CODE"
   ]
  },
  {
   "cell_type": "code",
   "execution_count": null,
   "metadata": {},
   "outputs": [],
   "source": [
    "# ORIGINAL BEFORE ADDITIONAL CHECK 23/10/2020. Makes up unique codes to each DNA framgnet. But currently allows unique Identifier to feature in any other information. \n",
    "\n",
    "DNAfragmentList=nucleotideFragments\n",
    "\n",
    "\n",
    "uniqueAddressCounter=0\n",
    "uniqueAddress=[]\n",
    "uniqueCompAddress=[]\n",
    "fragmentDict={}\n",
    "\n",
    "\n",
    "# Try to produce the unique codes with the smallest nucleotides possible\n",
    "try:\n",
    "    uniqueAddressList=codingStrategy(len(DNAfragmentList))\n",
    "#     print(uniqueAddressList)\n",
    "    \n",
    "    for i in DNAfragmentList:\n",
    "        addressCode=uniqueAddressList[uniqueAddressCounter]\n",
    "        compAddressCode=complimentaryPrimer(uniqueAddressList[uniqueAddressCounter])\n",
    "        \n",
    "        if (addressCode in i) or (compAddressCode in i) or (addressCode in uniqueAddress):\n",
    "#             print(\"Issue Here\", addressCode, compAddressCode)\n",
    "            startingUAC=uniqueAddressCounter    \n",
    "            while (addressCode in i) or (compAddressCode in i) or (addressCode in uniqueAddress):\n",
    "#                 print(\"Found a case\")\n",
    "#                 print(addressCode,compAddressCode)\n",
    "                uniqueAddressCounter+=1\n",
    "                addressCode=uniqueAddressList[uniqueAddressCounter]\n",
    "                compAddressCode=complimentaryPrimer(uniqueAddressList[uniqueAddressCounter])\n",
    "\n",
    "\n",
    "            fragmentDict[addressCode]=i\n",
    "\n",
    "            uniqueAddress.append(addressCode)\n",
    "            uniqueCompAddress.append(compAddressCode)\n",
    "            uniqueAddressCounter=startingUAC\n",
    "\n",
    "        else:\n",
    "#             print(\"No problem here\")\n",
    "            fragmentDict[addressCode]=i\n",
    "\n",
    "            uniqueAddress.append(addressCode)\n",
    "            uniqueCompAddress.append(compAddressCode)\n",
    "            uniqueAddressCounter+=1\n",
    "\n",
    "# If not, restart the process with longer unique address codes. This is needed if the uniqueAddress list values are found in the DNA information frequently            \n",
    "except Exception as e:\n",
    "    print(e)\n",
    "    print(\"Error occured so went the second route\")\n",
    "    uniqueAddress=[]\n",
    "    uniqueCompAddress=[]\n",
    "    fragmentDict={}\n",
    "    uniqueAddressCounter=0\n",
    "    for x in range(0,21):\n",
    "        if len(DNAfragmentList)<4**x:\n",
    "            print(x)\n",
    "            uniqueAddressList=codingStrategy((4**x))\n",
    "            break\n",
    "    print(uniqueAddressList)\n",
    "    for i in DNAfragmentList:\n",
    "        addressCode=uniqueAddressList[uniqueAddressCounter]\n",
    "        compAddressCode=complimentaryPrimer(uniqueAddressList[uniqueAddressCounter])\n",
    "#         print(\"Next Fragment\")\n",
    "        if (addressCode in i) or (compAddressCode in i) or (addressCode in uniqueAddress):\n",
    "            startingUAC=uniqueAddressCounter    \n",
    "            while (addressCode in i) or (compAddressCode in i) or (addressCode in uniqueAddress):\n",
    "#                 print(\"Found a case\")\n",
    "#                 print(addressCode,compAddressCode)\n",
    "                uniqueAddressCounter+=1\n",
    "                addressCode=uniqueAddressList[uniqueAddressCounter]\n",
    "                compAddressCode=complimentaryPrimer(uniqueAddressList[uniqueAddressCounter])\n",
    "\n",
    "\n",
    "            fragmentDict[addressCode]=i\n",
    "\n",
    "            uniqueAddress.append(addressCode)\n",
    "            uniqueCompAddress.append(compAddressCode)\n",
    "            uniqueAddressCounter=startingUAC\n",
    "\n",
    "        else:\n",
    "            fragmentDict[addressCode]=i\n",
    "\n",
    "            uniqueAddress.append(addressCode)\n",
    "            uniqueCompAddress.append(compAddressCode)\n",
    "            uniqueAddressCounter+=1\n"
   ]
  }
 ],
 "metadata": {
  "kernelspec": {
   "display_name": "Python 3",
   "language": "python",
   "name": "python3"
  },
  "language_info": {
   "codemirror_mode": {
    "name": "ipython",
    "version": 3
   },
   "file_extension": ".py",
   "mimetype": "text/x-python",
   "name": "python",
   "nbconvert_exporter": "python",
   "pygments_lexer": "ipython3",
   "version": "3.7.6"
  }
 },
 "nbformat": 4,
 "nbformat_minor": 2
}
