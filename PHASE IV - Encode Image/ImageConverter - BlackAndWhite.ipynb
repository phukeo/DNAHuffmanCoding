{
 "cells": [
  {
   "cell_type": "markdown",
   "metadata": {},
   "source": [
    "# Convert Image to ASCII"
   ]
  },
  {
   "cell_type": "code",
   "execution_count": 1,
   "metadata": {},
   "outputs": [],
   "source": [
    "import PIL\n",
    "from PIL import Image\n",
    "from IPython.display import Image "
   ]
  },
  {
   "cell_type": "code",
   "execution_count": 2,
   "metadata": {},
   "outputs": [],
   "source": [
    "# CREDIT: https://github.com/kiteco/python-youtube-code/blob/master/ascii/ascii_convert.py"
   ]
  },
  {
   "cell_type": "code",
   "execution_count": 3,
   "metadata": {},
   "outputs": [],
   "source": [
    "# Define a function which will help to slice up the data into appropriate lines\n",
    "def indicesOfInterest(noColumns, noRows):\n",
    "    indicesList=[]\n",
    "    for i in range (noRows):\n",
    "        if i == 0:\n",
    "            left=0\n",
    "            right=(i*noColumns)+noColumns\n",
    "        elif i == noRows-1:\n",
    "            left=(i*noColumns)\n",
    "            right=((noRows)*noColumns)+1\n",
    "        else:\n",
    "            left=(i*noColumns)\n",
    "            right=(i*noColumns)+noColumns\n",
    "        \n",
    "        indicesList.append((left,right))\n",
    "    return indicesList"
   ]
  },
  {
   "cell_type": "code",
   "execution_count": 5,
   "metadata": {},
   "outputs": [
    {
     "data": {
      "text/plain": [
       "15"
      ]
     },
     "execution_count": 5,
     "metadata": {},
     "output_type": "execute_result"
    }
   ],
   "source": [
    "# Original ASCII_CHARS\n",
    "# ASCII_CHARS = [\"@\", \"#\", \"£\", \"S\", \"&\", \"%\", \"E\", \"?\", \"*\", \"+\",\"<\",\"|\",\"~\",\"{\",\"]\", \";\", \":\", \",\", \".\"]\n",
    "\n",
    "# Table US1 - Attempt 5\n",
    "# ASCII_CHARS = [\"!\", \"\\\"\", \"$\", \"%\", \"&\", \"{\", \"|\", \"}\", \"~\",\"Ç\",\"ü\", \"é\", \"ä\", \"à\", \"å\"]\n",
    "\n",
    "# Table US1 - Attempt 5.1\n",
    "ASCII_CHARS = [\"!\", \"\\\"\", \"$\", \"%\", \"&\", \"{\", \"|\", \"é\", \"~\",\"Ç\",\"ü\", \"}\", \"ä\", \"à\", \"å\"]\n",
    "\n",
    "# Table US1 - Attempt 7\n",
    "# ASCII_CHARS = [\"!\", \"$\", \"%\", \"&\", \"(\", \")\", \"*\", \"@\",\"A\",\"B\", \"D\", \"E\", \"F\", \"H\", \"I\"]\n",
    "\n",
    "\n",
    "len (ASCII_CHARS)"
   ]
  },
  {
   "cell_type": "code",
   "execution_count": 6,
   "metadata": {},
   "outputs": [
    {
     "data": {
      "image/png": "[encoded data removed]",
      "text/plain": [
       "<PIL.PngImagePlugin.PngImageFile image mode=RGBA size=21x19 at 0x205BDF34908>"
      ]
     },
     "metadata": {},
     "output_type": "display_data"
    },
    {
     "data": {
      "image/png": "[encoded data removed]",
      "text/plain": [
       "<PIL.Image.Image image mode=L size=21x19 at 0x205BDD94748>"
      ]
     },
     "metadata": {},
     "output_type": "display_data"
    }
   ],
   "source": [
    "# Import an image and display it to the screen\n",
    "path='BasicMarioCorrected.png'\n",
    "image = PIL.Image.open(path)\n",
    "out1 =image.convert(\"L\")\n",
    "display(image)\n",
    "display(out1)"
   ]
  },
  {
   "cell_type": "code",
   "execution_count": 7,
   "metadata": {},
   "outputs": [
    {
     "name": "stdout",
     "output_type": "stream",
     "text": [
      "[14, 14, 14, 14, 14, 14, 14, 14, 14, 14, 14, 14, 14, 14, 14, 14, 14, 14, 14, 14, 14, 14, 14, 14, 14, 14, 14, 14, 14, 14, 14, 14, 14, 14, 14, 14, 14, 14, 14, 14, 14, 14, 14, 14, 14, 14, 14, 14, 14, 14, 14, 14, 14, 14, 14, 14, 14, 14, 14, 14, 14, 14, 14, 14, 14, 14, 14, 14, 14, 14, 14, 14, 14, 14, 14, 14, 14, 14, 14, 14, 14, 14, 14, 14, 14, 14, 14, 14, 14, 14, 14, 5, 5, 5, 5, 5, 14, 14, 12, 12, 12, 14, 14, 14, 14, 14, 14, 14, 14, 14, 14, 5, 5, 5, 5, 5, 5, 5, 5, 5, 12, 12, 14, 14, 14, 14, 14, 14, 14, 14, 14, 14, 7, 7, 7, 12, 12, 0, 12, 14, 5, 5, 5, 14, 14, 14, 14, 14, 14, 14, 14, 14, 7, 12, 7, 12, 12, 12, 0, 12, 12, 12, 5, 5, 14, 14, 14, 14, 14, 14, 14, 14, 14, 7, 12, 7, 7, 12, 12, 12, 0, 12, 12, 12, 5, 14, 14, 14, 14, 14, 14, 14, 14, 14, 7, 7, 12, 12, 12, 12, 0, 0, 0, 0, 5, 14, 14, 14, 14, 14, 14, 14, 14, 14, 14, 14, 14, 12, 12, 12, 12, 12, 12, 12, 5, 5, 14, 14, 14, 14, 14, 14, 12, 12, 12, 5, 5, 5, 5, 4, 5, 5, 5, 4, 5, 5, 14, 14, 7, 14, 14, 14, 14, 12, 12, 12, 5, 5, 5, 5, 5, 4, 5, 5, 5, 4, 14, 14, 7, 7, 14, 14, 14, 14, 14, 12, 14, 14, 14, 5, 5, 5, 4, 4, 4, 4, 12, 4, 4, 7, 7, 14, 14, 14, 14, 14, 14, 14, 14, 14, 14, 4, 4, 4, 12, 4, 4, 4, 4, 4, 7, 7, 14, 14, 14, 14, 14, 14, 14, 14, 7, 7, 4, 4, 4, 4, 4, 4, 4, 4, 4, 7, 7, 14, 14, 14, 14, 14, 14, 14, 7, 7, 7, 4, 4, 4, 4, 4, 4, 14, 14, 14, 14, 14, 14, 14, 14, 14, 14, 14, 14, 7, 7, 14, 14, 14, 14, 14, 14, 14, 14, 14, 14, 14, 14, 14, 14, 14, 14, 14, 14, 14, 14, 14, 14, 14, 14, 14, 14, 14, 14, 14, 14, 14, 14, 14, 14, 14, 14]\n"
     ]
    }
   ],
   "source": [
    "# Get the Greydata and convert it to a list. \n",
    "greyData=list(out1.getdata())\n",
    "\n",
    "# Then loop over the list and resample it to be between 0 and 17 integer values\n",
    "reSampled=[]\n",
    "for pixel in greyData:\n",
    "    reSampled.append(pixel//18)\n",
    "\n",
    "print(reSampled)"
   ]
  },
  {
   "cell_type": "code",
   "execution_count": 8,
   "metadata": {},
   "outputs": [
    {
     "name": "stdout",
     "output_type": "stream",
     "text": [
      "['å', 'å', 'å', 'å', 'å', 'å', 'å', 'å', 'å', 'å', 'å', 'å', 'å', 'å', 'å', 'å', 'å', 'å', 'å', 'å', 'å', 'å', 'å', 'å', 'å', 'å', 'å', 'å', 'å', 'å', 'å', 'å', 'å', 'å', 'å', 'å', 'å', 'å', 'å', 'å', 'å', 'å', 'å', 'å', 'å', 'å', 'å', 'å', 'å', 'å', 'å', 'å', 'å', 'å', 'å', 'å', 'å', 'å', 'å', 'å', 'å', 'å', 'å', 'å', 'å', 'å', 'å', 'å', 'å', 'å', 'å', 'å', 'å', 'å', 'å', 'å', 'å', 'å', 'å', 'å', 'å', 'å', 'å', 'å', 'å', 'å', 'å', 'å', 'å', 'å', 'å', '{', '{', '{', '{', '{', 'å', 'å', 'ä', 'ä', 'ä', 'å', 'å', 'å', 'å', 'å', 'å', 'å', 'å', 'å', 'å', '{', '{', '{', '{', '{', '{', '{', '{', '{', 'ä', 'ä', 'å', 'å', 'å', 'å', 'å', 'å', 'å', 'å', 'å', 'å', 'é', 'é', 'é', 'ä', 'ä', '!', 'ä', 'å', '{', '{', '{', 'å', 'å', 'å', 'å', 'å', 'å', 'å', 'å', 'å', 'é', 'ä', 'é', 'ä', 'ä', 'ä', '!', 'ä', 'ä', 'ä', '{', '{', 'å', 'å', 'å', 'å', 'å', 'å', 'å', 'å', 'å', 'é', 'ä', 'é', 'é', 'ä', 'ä', 'ä', '!', 'ä', 'ä', 'ä', '{', 'å', 'å', 'å', 'å', 'å', 'å', 'å', 'å', 'å', 'é', 'é', 'ä', 'ä', 'ä', 'ä', '!', '!', '!', '!', '{', 'å', 'å', 'å', 'å', 'å', 'å', 'å', 'å', 'å', 'å', 'å', 'å', 'ä', 'ä', 'ä', 'ä', 'ä', 'ä', 'ä', '{', '{', 'å', 'å', 'å', 'å', 'å', 'å', 'ä', 'ä', 'ä', '{', '{', '{', '{', '&', '{', '{', '{', '&', '{', '{', 'å', 'å', 'é', 'å', 'å', 'å', 'å', 'ä', 'ä', 'ä', '{', '{', '{', '{', '{', '&', '{', '{', '{', '&', 'å', 'å', 'é', 'é', 'å', 'å', 'å', 'å', 'å', 'ä', 'å', 'å', 'å', '{', '{', '{', '&', '&', '&', '&', 'ä', '&', '&', 'é', 'é', 'å', 'å', 'å', 'å', 'å', 'å', 'å', 'å', 'å', 'å', '&', '&', '&', 'ä', '&', '&', '&', '&', '&', 'é', 'é', 'å', 'å', 'å', 'å', 'å', 'å', 'å', 'å', 'é', 'é', '&', '&', '&', '&', '&', '&', '&', '&', '&', 'é', 'é', 'å', 'å', 'å', 'å', 'å', 'å', 'å', 'é', 'é', 'é', '&', '&', '&', '&', '&', '&', 'å', 'å', 'å', 'å', 'å', 'å', 'å', 'å', 'å', 'å', 'å', 'å', 'é', 'é', 'å', 'å', 'å', 'å', 'å', 'å', 'å', 'å', 'å', 'å', 'å', 'å', 'å', 'å', 'å', 'å', 'å', 'å', 'å', 'å', 'å', 'å', 'å', 'å', 'å', 'å', 'å', 'å', 'å', 'å', 'å', 'å', 'å', 'å', 'å', 'å']\n"
     ]
    }
   ],
   "source": [
    "# Then loop over the reSampled list and convert it to a character based on the ASCII Values\n",
    "charList=[]\n",
    "for value in reSampled:\n",
    "    charList.append(ASCII_CHARS[value])\n",
    "\n",
    "print(charList)"
   ]
  },
  {
   "cell_type": "code",
   "execution_count": 9,
   "metadata": {},
   "outputs": [
    {
     "name": "stdout",
     "output_type": "stream",
     "text": [
      "ååååååååååååååååååååå\n",
      "ååååååååååååååååååååå\n",
      "ååååååååååååååååååååå\n",
      "ååååååååååååååååååååå\n",
      "ååååååå{{{{{ååäääåååå\n",
      "åååååå{{{{{{{{{ääåååå\n",
      "ååååååéééää!äå{{{åååå\n",
      "åååååéäéäää!äää{{åååå\n",
      "åååååéäééäää!äää{åååå\n",
      "åååååééääää!!!!{ååååå\n",
      "åååååååäääääää{{ååååå\n",
      "åäää{{{{&{{{&{{ååéååå\n",
      "åäää{{{{{&{{{&ååééååå\n",
      "ååäååå{{{&&&&ä&&ééååå\n",
      "ååååååå&&&ä&&&&&ééååå\n",
      "åååååéé&&&&&&&&&ééååå\n",
      "ååååééé&&&&&&åååååååå\n",
      "ååååééååååååååååååååå\n",
      "ååååååååååååååååååååå\n"
     ]
    }
   ],
   "source": [
    "# Join the list together with no spaces\n",
    "chars=\"\".join(charList)\n",
    "\n",
    "# Find the list of indices which will split the characterImage into appropriate rows\n",
    "indicesList=indicesOfInterest(image.size[0],image.size[1])\n",
    "\n",
    "# Loop over the indices list and sliceup the charList into appropriate rows\n",
    "# Then form lists which will form the rows for image and also for DNA conversion\n",
    "lines=[]\n",
    "linesforDNA=[]\n",
    "for indices in indicesList:\n",
    "    a=(chars[(indices[0]):(indices[1])])\n",
    "    b=(chars[(indices[0]):(indices[1])])+\"N\"\n",
    "    lines.append(a)\n",
    "    linesforDNA.append(b)\n",
    "    print(a)\n",
    "    "
   ]
  },
  {
   "cell_type": "code",
   "execution_count": 10,
   "metadata": {},
   "outputs": [
    {
     "name": "stdout",
     "output_type": "stream",
     "text": [
      "[255, 255, 255, 255, 255, 255, 95, 91, 91, 91, 91, 91, 91, 91, 91, 225, 225, 255, 255, 255, 255]\n",
      "[14, 14, 14, 14, 14, 14, 5, 5, 5, 5, 5, 5, 5, 5, 5, 12, 12, 14, 14, 14, 14]\n",
      "['å', 'å', 'å', 'å', 'å', 'å', '{', '{', '{', '{', '{', '{', '{', '{', '{', 'ä', 'ä', 'å', 'å', 'å', 'å']\n"
     ]
    }
   ],
   "source": [
    "# Line Checker\n",
    "number=5\n",
    "print((list(out1.getdata())[(indicesList[number][0]):(indicesList[number][1])]))\n",
    "print((reSampled[(indicesList[number][0]):(indicesList[number][1])]))\n",
    "print((charList[(indicesList[number][0]):(indicesList[number][1])]))"
   ]
  },
  {
   "cell_type": "markdown",
   "metadata": {},
   "source": [
    "## Output Below"
   ]
  },
  {
   "cell_type": "code",
   "execution_count": 11,
   "metadata": {},
   "outputs": [
    {
     "name": "stdout",
     "output_type": "stream",
     "text": [
      "ååååååååååååååååååååå\n",
      "ååååååååååååååååååååå\n",
      "ååååååååååååååååååååå\n",
      "ååååååååååååååååååååå\n",
      "ååååååå{{{{{ååäääåååå\n",
      "åååååå{{{{{{{{{ääåååå\n",
      "ååååååéééää!äå{{{åååå\n",
      "åååååéäéäää!äää{{åååå\n",
      "åååååéäééäää!äää{åååå\n",
      "åååååééääää!!!!{ååååå\n",
      "åååååååäääääää{{ååååå\n",
      "åäää{{{{&{{{&{{ååéååå\n",
      "åäää{{{{{&{{{&ååééååå\n",
      "ååäååå{{{&&&&ä&&ééååå\n",
      "ååååååå&&&ä&&&&&ééååå\n",
      "åååååéé&&&&&&&&&ééååå\n",
      "ååååééé&&&&&&åååååååå\n",
      "ååååééååååååååååååååå\n",
      "ååååååååååååååååååååå\n",
      "åååååååååååååååååååååN\n",
      "åååååååååååååååååååååN\n",
      "åååååååååååååååååååååN\n",
      "åååååååååååååååååååååN\n",
      "ååååååå{{{{{ååäääååååN\n",
      "åååååå{{{{{{{{{ääååååN\n",
      "ååååååéééää!äå{{{ååååN\n",
      "åååååéäéäää!äää{{ååååN\n",
      "åååååéäééäää!äää{ååååN\n",
      "åååååééääää!!!!{åååååN\n",
      "åååååååäääääää{{åååååN\n",
      "åäää{{{{&{{{&{{ååéåååN\n",
      "åäää{{{{{&{{{&ååééåååN\n",
      "ååäååå{{{&&&&ä&&ééåååN\n",
      "ååååååå&&&ä&&&&&ééåååN\n",
      "åååååéé&&&&&&&&&ééåååN\n",
      "ååååééé&&&&&&ååååååååN\n",
      "ååååééåååååååååååååååN\n",
      "åååååååååååååååååååååN\n"
     ]
    }
   ],
   "source": [
    "# Output here \n",
    "ascii_image=\"\\n\".join(lines)\n",
    "DNA_image=\"\\n\".join(linesforDNA)\n",
    "\n",
    "print(ascii_image)\n",
    "print(DNA_image)"
   ]
  },
  {
   "cell_type": "code",
   "execution_count": 12,
   "metadata": {},
   "outputs": [],
   "source": [
    "# Rename the path to remove the file extension\n",
    "name=path[:-4]\n",
    "\n",
    "# Output the image\n",
    "with open((name+\"_ascii_US1A5B1.txt\"), \"w\") as f:\n",
    "    f.write(ascii_image)\n",
    "    \n",
    "# Output the image with NL for \n",
    "with open((name+\"_DNA__ascii_US1A5B1.txt\"), \"w\") as f:\n",
    "    f.write(DNA_image)"
   ]
  },
  {
   "cell_type": "code",
   "execution_count": null,
   "metadata": {},
   "outputs": [],
   "source": []
  }
 ],
 "metadata": {
  "kernelspec": {
   "display_name": "Python 3",
   "language": "python",
   "name": "python3"
  },
  "language_info": {
   "codemirror_mode": {
    "name": "ipython",
    "version": 3
   },
   "file_extension": ".py",
   "mimetype": "text/x-python",
   "name": "python",
   "nbconvert_exporter": "python",
   "pygments_lexer": "ipython3",
   "version": "3.6.10"
  }
 },
 "nbformat": 4,
 "nbformat_minor": 4
}
