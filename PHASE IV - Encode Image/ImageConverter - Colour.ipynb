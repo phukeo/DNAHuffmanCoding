{
 "cells": [
  {
   "cell_type": "markdown",
   "metadata": {},
   "source": [
    "# Convert Image to ASCII"
   ]
  },
  {
   "cell_type": "code",
   "execution_count": 1,
   "metadata": {},
   "outputs": [],
   "source": [
    "import PIL\n",
    "from PIL import Image\n",
    "from IPython.display import Image "
   ]
  },
  {
   "cell_type": "code",
   "execution_count": 2,
   "metadata": {},
   "outputs": [],
   "source": [
    "# CREDIT: https://github.com/kiteco/python-youtube-code/blob/master/ascii/ascii_convert.py"
   ]
  },
  {
   "cell_type": "code",
   "execution_count": 3,
   "metadata": {},
   "outputs": [],
   "source": [
    "# Define a function which will help to slice up the data into appropriate lines\n",
    "def indicesOfInterest(noColumns, noRows):\n",
    "    indicesList=[]\n",
    "    for i in range (noRows):\n",
    "        if i == 0:\n",
    "            left=0\n",
    "            right=(i*noColumns)+noColumns\n",
    "        elif i == noRows-1:\n",
    "            left=(i*noColumns)\n",
    "            right=((noRows)*noColumns)+1\n",
    "        else:\n",
    "            left=(i*noColumns)\n",
    "            right=(i*noColumns)+noColumns\n",
    "        \n",
    "        indicesList.append((left,right))\n",
    "    return indicesList"
   ]
  },
  {
   "cell_type": "code",
   "execution_count": 26,
   "metadata": {},
   "outputs": [
    {
     "data": {
      "text/plain": [
       "15"
      ]
     },
     "execution_count": 26,
     "metadata": {},
     "output_type": "execute_result"
    }
   ],
   "source": [
    "# Original ASCII_CHARS\n",
    "# ASCII_CHARS = [\"@\", \"#\", \"£\", \"S\", \"&\", \"%\", \"E\", \"?\", \"*\", \"+\",\"<\",\"|\",\"~\",\"{\",\"]\", \";\", \":\", \",\", \".\"]\n",
    "\n",
    "# Table US1 - Attempt 5\n",
    "# ASCII_CHARS = [\"!\", \"\\\"\", \"$\", \"%\", \"&\", \"{\", \"|\", \"}\", \"~\",\"Ç\",\"ü\", \"é\", \"ä\", \"à\", \"å\"]\n",
    "\n",
    "# Table US1 - Attempt 7\n",
    "ASCII_CHARS = [\"!\", \"$\", \"%\", \"&\", \"(\", \")\", \"*\", \"@\",\"A\",\"B\", \"D\", \"E\", \"F\", \"H\", \"I\"]\n",
    "\n",
    "\n",
    "len (ASCII_CHARS)"
   ]
  },
  {
   "cell_type": "code",
   "execution_count": 27,
   "metadata": {},
   "outputs": [
    {
     "data": {
      "image/png": "[encoded data removed]",
      "text/plain": [
       "<PIL.PngImagePlugin.PngImageFile image mode=RGBA size=21x19 at 0x224F2E74BA8>"
      ]
     },
     "metadata": {},
     "output_type": "display_data"
    },
    {
     "data": {
      "image/png": "[encoded data removed]",
      "text/plain": [
       "<PIL.Image.Image image mode=RGB size=21x19 at 0x224F2E74BE0>"
      ]
     },
     "metadata": {},
     "output_type": "display_data"
    }
   ],
   "source": [
    "# Import an image and display it to the screen\n",
    "path='BasicMarioCorrected.png'\n",
    "image = PIL.Image.open(path)\n",
    "out1= image.convert(\"RGB\")# out1 =image.convert(\"L\")\n",
    "display(image)\n",
    "display(out1)"
   ]
  },
  {
   "cell_type": "code",
   "execution_count": 28,
   "metadata": {},
   "outputs": [],
   "source": [
    "# Split each pixel into values for RGB\n",
    "rList=[]\n",
    "gList=[]\n",
    "bList=[]\n",
    "\n",
    "colorList=list(out1.getdata())\n",
    "\n",
    "for entry in colorList:\n",
    "    rList.append(entry[0])\n",
    "    gList.append(entry[1])\n",
    "    bList.append(entry[2])\n",
    "    \n",
    "combinedList=[rList, gList, bList]\n"
   ]
  },
  {
   "cell_type": "code",
   "execution_count": 29,
   "metadata": {},
   "outputs": [
    {
     "name": "stdout",
     "output_type": "stream",
     "text": [
      "[14, 14, 14, 14, 14, 14, 14, 14, 14, 14, 14, 14, 14, 14, 14, 14, 14, 14, 14, 14, 14, 14, 14, 14, 14, 14, 14, 14, 14, 14, 14, 14, 14, 14, 14, 14, 14, 14, 14, 14, 14, 14, 14, 14, 14, 14, 14, 14, 14, 14, 14, 14, 14, 14, 14, 14, 14, 14, 14, 14, 14, 14, 14, 14, 14, 14, 14, 14, 14, 14, 14, 14, 14, 14, 14, 14, 14, 14, 14, 14, 14, 14, 14, 14, 14, 14, 14, 14, 14, 14, 14, 13, 13, 13, 13, 13, 14, 14, 13, 13, 13, 14, 14, 14, 14, 14, 14, 14, 14, 14, 14, 13, 13, 13, 13, 13, 13, 13, 13, 13, 13, 13, 14, 14, 14, 14, 14, 14, 14, 14, 14, 14, 10, 10, 10, 13, 13, 0, 13, 14, 13, 13, 13, 14, 14, 14, 14, 14, 14, 14, 14, 14, 10, 13, 10, 13, 13, 13, 0, 13, 13, 13, 13, 13, 14, 14, 14, 14, 14, 14, 14, 14, 14, 10, 13, 10, 10, 13, 13, 13, 0, 13, 13, 13, 13, 14, 14, 14, 14, 14, 14, 14, 14, 14, 10, 10, 13, 13, 13, 13, 0, 0, 0, 0, 13, 14, 14, 14, 14, 14, 14, 14, 14, 14, 14, 14, 14, 13, 13, 13, 13, 13, 13, 13, 13, 13, 14, 14, 14, 14, 14, 14, 13, 13, 13, 13, 13, 13, 13, 3, 13, 13, 13, 3, 13, 13, 14, 14, 10, 14, 14, 14, 14, 13, 13, 13, 13, 13, 13, 13, 13, 3, 13, 13, 13, 3, 14, 14, 10, 10, 14, 14, 14, 14, 14, 13, 14, 14, 14, 13, 13, 13, 3, 3, 3, 3, 14, 3, 3, 10, 10, 14, 14, 14, 14, 14, 14, 14, 14, 14, 14, 3, 3, 3, 14, 3, 3, 3, 3, 3, 10, 10, 14, 14, 14, 14, 14, 14, 14, 14, 10, 10, 3, 3, 3, 3, 3, 3, 3, 3, 3, 10, 10, 14, 14, 14, 14, 14, 14, 14, 10, 10, 10, 3, 3, 3, 3, 3, 3, 14, 14, 14, 14, 14, 14, 14, 14, 14, 14, 14, 14, 10, 10, 14, 14, 14, 14, 14, 14, 14, 14, 14, 14, 14, 14, 14, 14, 14, 14, 14, 14, 14, 14, 14, 14, 14, 14, 14, 14, 14, 14, 14, 14, 14, 14, 14, 14, 14, 14]\n",
      "[14, 14, 14, 14, 14, 14, 14, 14, 14, 14, 14, 14, 14, 14, 14, 14, 14, 14, 14, 14, 14, 14, 14, 14, 14, 14, 14, 14, 14, 14, 14, 14, 14, 14, 14, 14, 14, 14, 14, 14, 14, 14, 14, 14, 14, 14, 14, 14, 14, 14, 14, 14, 14, 14, 14, 14, 14, 14, 14, 14, 14, 14, 14, 14, 14, 14, 14, 14, 14, 14, 14, 14, 14, 14, 14, 14, 14, 14, 14, 14, 14, 14, 14, 14, 14, 14, 14, 14, 14, 14, 14, 2, 1, 1, 1, 2, 14, 14, 12, 12, 12, 14, 14, 14, 14, 14, 14, 14, 14, 14, 14, 1, 1, 1, 1, 1, 1, 1, 1, 1, 12, 12, 14, 14, 14, 14, 14, 14, 14, 14, 14, 14, 6, 6, 6, 12, 12, 0, 12, 14, 1, 1, 1, 14, 14, 14, 14, 14, 14, 14, 14, 14, 6, 12, 6, 12, 12, 12, 0, 12, 12, 12, 1, 1, 14, 14, 14, 14, 14, 14, 14, 14, 14, 6, 12, 6, 6, 12, 12, 12, 0, 12, 12, 12, 1, 14, 14, 14, 14, 14, 14, 14, 14, 14, 6, 6, 12, 12, 12, 12, 0, 0, 0, 0, 1, 14, 14, 14, 14, 14, 14, 14, 14, 14, 14, 14, 14, 12, 12, 12, 12, 12, 12, 12, 1, 1, 14, 14, 14, 14, 14, 14, 12, 12, 12, 1, 1, 1, 1, 4, 1, 1, 1, 4, 1, 1, 14, 14, 6, 14, 14, 14, 14, 12, 12, 12, 1, 1, 1, 1, 1, 4, 1, 1, 1, 4, 14, 14, 6, 6, 14, 14, 14, 14, 14, 12, 14, 14, 14, 1, 1, 1, 4, 4, 4, 4, 13, 4, 4, 6, 6, 14, 14, 14, 14, 14, 14, 14, 14, 14, 14, 4, 4, 4, 13, 4, 4, 4, 4, 4, 6, 6, 14, 14, 14, 14, 14, 14, 14, 14, 6, 6, 4, 4, 4, 4, 4, 4, 4, 4, 4, 6, 6, 14, 14, 14, 14, 14, 14, 14, 6, 6, 6, 4, 4, 4, 4, 4, 4, 14, 14, 14, 14, 14, 14, 14, 14, 14, 14, 14, 14, 6, 6, 14, 14, 14, 14, 14, 14, 14, 14, 14, 14, 14, 14, 14, 14, 14, 14, 14, 14, 14, 14, 14, 14, 14, 14, 14, 14, 14, 14, 14, 14, 14, 14, 14, 14, 14, 14]\n",
      "[14, 14, 14, 14, 14, 14, 14, 14, 14, 14, 14, 14, 14, 14, 14, 14, 14, 14, 14, 14, 14, 14, 14, 14, 14, 14, 14, 14, 14, 14, 14, 14, 14, 14, 14, 14, 14, 14, 14, 14, 14, 14, 14, 14, 14, 14, 14, 14, 14, 14, 14, 14, 14, 14, 14, 14, 14, 14, 14, 14, 14, 14, 14, 14, 14, 14, 14, 14, 14, 14, 14, 14, 14, 14, 14, 14, 14, 14, 14, 14, 14, 14, 14, 14, 14, 14, 14, 14, 14, 14, 14, 2, 2, 2, 2, 2, 14, 14, 9, 9, 9, 14, 14, 14, 14, 14, 14, 14, 14, 14, 14, 2, 2, 2, 2, 2, 2, 2, 2, 2, 9, 9, 14, 14, 14, 14, 14, 14, 14, 14, 14, 14, 4, 4, 4, 9, 9, 0, 9, 14, 2, 2, 2, 14, 14, 14, 14, 14, 14, 14, 14, 14, 4, 9, 4, 9, 9, 9, 0, 9, 9, 9, 2, 2, 14, 14, 14, 14, 14, 14, 14, 14, 14, 4, 9, 4, 4, 9, 9, 9, 0, 9, 9, 9, 2, 14, 14, 14, 14, 14, 14, 14, 14, 14, 4, 4, 9, 9, 9, 9, 0, 0, 0, 0, 2, 14, 14, 14, 14, 14, 14, 14, 14, 14, 14, 14, 14, 9, 9, 9, 9, 9, 9, 9, 2, 2, 14, 14, 14, 14, 14, 14, 9, 9, 9, 2, 2, 2, 2, 11, 2, 2, 2, 11, 2, 2, 14, 14, 4, 14, 14, 14, 14, 9, 9, 9, 2, 2, 2, 2, 2, 11, 2, 2, 2, 11, 14, 14, 4, 4, 14, 14, 14, 14, 14, 9, 14, 14, 14, 2, 2, 2, 11, 11, 11, 11, 0, 11, 11, 4, 4, 14, 14, 14, 14, 14, 14, 14, 14, 14, 14, 11, 11, 11, 0, 11, 11, 11, 11, 11, 4, 4, 14, 14, 14, 14, 14, 14, 14, 14, 4, 4, 11, 11, 11, 11, 11, 11, 11, 11, 11, 4, 4, 14, 14, 14, 14, 14, 14, 14, 4, 4, 4, 11, 11, 11, 11, 11, 11, 14, 14, 14, 14, 14, 14, 14, 14, 14, 14, 14, 14, 4, 4, 14, 14, 14, 14, 14, 14, 14, 14, 14, 14, 14, 14, 14, 14, 14, 14, 14, 14, 14, 14, 14, 14, 14, 14, 14, 14, 14, 14, 14, 14, 14, 14, 14, 14, 14, 14]\n"
     ]
    }
   ],
   "source": [
    "# Then loop over the list and resample it to be between 0 and 17 integer values\n",
    "\n",
    "\n",
    "reSampledr=[]\n",
    "reSampledg=[]\n",
    "reSampledb=[]\n",
    "\n",
    "for pixel in rList:\n",
    "    reSampledr.append(pixel//18)\n",
    "for pixel in gList:\n",
    "    reSampledg.append(pixel//18)\n",
    "for pixel in bList:\n",
    "    reSampledb.append(pixel//18)\n",
    "\n",
    "print(reSampledr)\n",
    "print(reSampledg)\n",
    "print(reSampledb)"
   ]
  },
  {
   "cell_type": "code",
   "execution_count": 30,
   "metadata": {},
   "outputs": [
    {
     "name": "stdout",
     "output_type": "stream",
     "text": [
      "['I', 'I', 'I', 'I', 'I', 'I', 'I', 'I', 'I', 'I', 'I', 'I', 'I', 'I', 'I', 'I', 'I', 'I', 'I', 'I', 'I', 'I', 'I', 'I', 'I', 'I', 'I', 'I', 'I', 'I', 'I', 'I', 'I', 'I', 'I', 'I', 'I', 'I', 'I', 'I', 'I', 'I', 'I', 'I', 'I', 'I', 'I', 'I', 'I', 'I', 'I', 'I', 'I', 'I', 'I', 'I', 'I', 'I', 'I', 'I', 'I', 'I', 'I', 'I', 'I', 'I', 'I', 'I', 'I', 'I', 'I', 'I', 'I', 'I', 'I', 'I', 'I', 'I', 'I', 'I', 'I', 'I', 'I', 'I', 'I', 'I', 'I', 'I', 'I', 'I', 'I', 'H', 'H', 'H', 'H', 'H', 'I', 'I', 'H', 'H', 'H', 'I', 'I', 'I', 'I', 'I', 'I', 'I', 'I', 'I', 'I', 'H', 'H', 'H', 'H', 'H', 'H', 'H', 'H', 'H', 'H', 'H', 'I', 'I', 'I', 'I', 'I', 'I', 'I', 'I', 'I', 'I', 'D', 'D', 'D', 'H', 'H', '!', 'H', 'I', 'H', 'H', 'H', 'I', 'I', 'I', 'I', 'I', 'I', 'I', 'I', 'I', 'D', 'H', 'D', 'H', 'H', 'H', '!', 'H', 'H', 'H', 'H', 'H', 'I', 'I', 'I', 'I', 'I', 'I', 'I', 'I', 'I', 'D', 'H', 'D', 'D', 'H', 'H', 'H', '!', 'H', 'H', 'H', 'H', 'I', 'I', 'I', 'I', 'I', 'I', 'I', 'I', 'I', 'D', 'D', 'H', 'H', 'H', 'H', '!', '!', '!', '!', 'H', 'I', 'I', 'I', 'I', 'I', 'I', 'I', 'I', 'I', 'I', 'I', 'I', 'H', 'H', 'H', 'H', 'H', 'H', 'H', 'H', 'H', 'I', 'I', 'I', 'I', 'I', 'I', 'H', 'H', 'H', 'H', 'H', 'H', 'H', '&', 'H', 'H', 'H', '&', 'H', 'H', 'I', 'I', 'D', 'I', 'I', 'I', 'I', 'H', 'H', 'H', 'H', 'H', 'H', 'H', 'H', '&', 'H', 'H', 'H', '&', 'I', 'I', 'D', 'D', 'I', 'I', 'I', 'I', 'I', 'H', 'I', 'I', 'I', 'H', 'H', 'H', '&', '&', '&', '&', 'I', '&', '&', 'D', 'D', 'I', 'I', 'I', 'I', 'I', 'I', 'I', 'I', 'I', 'I', '&', '&', '&', 'I', '&', '&', '&', '&', '&', 'D', 'D', 'I', 'I', 'I', 'I', 'I', 'I', 'I', 'I', 'D', 'D', '&', '&', '&', '&', '&', '&', '&', '&', '&', 'D', 'D', 'I', 'I', 'I', 'I', 'I', 'I', 'I', 'D', 'D', 'D', '&', '&', '&', '&', '&', '&', 'I', 'I', 'I', 'I', 'I', 'I', 'I', 'I', 'I', 'I', 'I', 'I', 'D', 'D', 'I', 'I', 'I', 'I', 'I', 'I', 'I', 'I', 'I', 'I', 'I', 'I', 'I', 'I', 'I', 'I', 'I', 'I', 'I', 'I', 'I', 'I', 'I', 'I', 'I', 'I', 'I', 'I', 'I', 'I', 'I', 'I', 'I', 'I', 'I', 'I']\n",
      "['I', 'I', 'I', 'I', 'I', 'I', 'I', 'I', 'I', 'I', 'I', 'I', 'I', 'I', 'I', 'I', 'I', 'I', 'I', 'I', 'I', 'I', 'I', 'I', 'I', 'I', 'I', 'I', 'I', 'I', 'I', 'I', 'I', 'I', 'I', 'I', 'I', 'I', 'I', 'I', 'I', 'I', 'I', 'I', 'I', 'I', 'I', 'I', 'I', 'I', 'I', 'I', 'I', 'I', 'I', 'I', 'I', 'I', 'I', 'I', 'I', 'I', 'I', 'I', 'I', 'I', 'I', 'I', 'I', 'I', 'I', 'I', 'I', 'I', 'I', 'I', 'I', 'I', 'I', 'I', 'I', 'I', 'I', 'I', 'I', 'I', 'I', 'I', 'I', 'I', 'I', '%', '$', '$', '$', '%', 'I', 'I', 'F', 'F', 'F', 'I', 'I', 'I', 'I', 'I', 'I', 'I', 'I', 'I', 'I', '$', '$', '$', '$', '$', '$', '$', '$', '$', 'F', 'F', 'I', 'I', 'I', 'I', 'I', 'I', 'I', 'I', 'I', 'I', '*', '*', '*', 'F', 'F', '!', 'F', 'I', '$', '$', '$', 'I', 'I', 'I', 'I', 'I', 'I', 'I', 'I', 'I', '*', 'F', '*', 'F', 'F', 'F', '!', 'F', 'F', 'F', '$', '$', 'I', 'I', 'I', 'I', 'I', 'I', 'I', 'I', 'I', '*', 'F', '*', '*', 'F', 'F', 'F', '!', 'F', 'F', 'F', '$', 'I', 'I', 'I', 'I', 'I', 'I', 'I', 'I', 'I', '*', '*', 'F', 'F', 'F', 'F', '!', '!', '!', '!', '$', 'I', 'I', 'I', 'I', 'I', 'I', 'I', 'I', 'I', 'I', 'I', 'I', 'F', 'F', 'F', 'F', 'F', 'F', 'F', '$', '$', 'I', 'I', 'I', 'I', 'I', 'I', 'F', 'F', 'F', '$', '$', '$', '$', '(', '$', '$', '$', '(', '$', '$', 'I', 'I', '*', 'I', 'I', 'I', 'I', 'F', 'F', 'F', '$', '$', '$', '$', '$', '(', '$', '$', '$', '(', 'I', 'I', '*', '*', 'I', 'I', 'I', 'I', 'I', 'F', 'I', 'I', 'I', '$', '$', '$', '(', '(', '(', '(', 'H', '(', '(', '*', '*', 'I', 'I', 'I', 'I', 'I', 'I', 'I', 'I', 'I', 'I', '(', '(', '(', 'H', '(', '(', '(', '(', '(', '*', '*', 'I', 'I', 'I', 'I', 'I', 'I', 'I', 'I', '*', '*', '(', '(', '(', '(', '(', '(', '(', '(', '(', '*', '*', 'I', 'I', 'I', 'I', 'I', 'I', 'I', '*', '*', '*', '(', '(', '(', '(', '(', '(', 'I', 'I', 'I', 'I', 'I', 'I', 'I', 'I', 'I', 'I', 'I', 'I', '*', '*', 'I', 'I', 'I', 'I', 'I', 'I', 'I', 'I', 'I', 'I', 'I', 'I', 'I', 'I', 'I', 'I', 'I', 'I', 'I', 'I', 'I', 'I', 'I', 'I', 'I', 'I', 'I', 'I', 'I', 'I', 'I', 'I', 'I', 'I', 'I', 'I']\n",
      "['I', 'I', 'I', 'I', 'I', 'I', 'I', 'I', 'I', 'I', 'I', 'I', 'I', 'I', 'I', 'I', 'I', 'I', 'I', 'I', 'I', 'I', 'I', 'I', 'I', 'I', 'I', 'I', 'I', 'I', 'I', 'I', 'I', 'I', 'I', 'I', 'I', 'I', 'I', 'I', 'I', 'I', 'I', 'I', 'I', 'I', 'I', 'I', 'I', 'I', 'I', 'I', 'I', 'I', 'I', 'I', 'I', 'I', 'I', 'I', 'I', 'I', 'I', 'I', 'I', 'I', 'I', 'I', 'I', 'I', 'I', 'I', 'I', 'I', 'I', 'I', 'I', 'I', 'I', 'I', 'I', 'I', 'I', 'I', 'I', 'I', 'I', 'I', 'I', 'I', 'I', '%', '%', '%', '%', '%', 'I', 'I', 'B', 'B', 'B', 'I', 'I', 'I', 'I', 'I', 'I', 'I', 'I', 'I', 'I', '%', '%', '%', '%', '%', '%', '%', '%', '%', 'B', 'B', 'I', 'I', 'I', 'I', 'I', 'I', 'I', 'I', 'I', 'I', '(', '(', '(', 'B', 'B', '!', 'B', 'I', '%', '%', '%', 'I', 'I', 'I', 'I', 'I', 'I', 'I', 'I', 'I', '(', 'B', '(', 'B', 'B', 'B', '!', 'B', 'B', 'B', '%', '%', 'I', 'I', 'I', 'I', 'I', 'I', 'I', 'I', 'I', '(', 'B', '(', '(', 'B', 'B', 'B', '!', 'B', 'B', 'B', '%', 'I', 'I', 'I', 'I', 'I', 'I', 'I', 'I', 'I', '(', '(', 'B', 'B', 'B', 'B', '!', '!', '!', '!', '%', 'I', 'I', 'I', 'I', 'I', 'I', 'I', 'I', 'I', 'I', 'I', 'I', 'B', 'B', 'B', 'B', 'B', 'B', 'B', '%', '%', 'I', 'I', 'I', 'I', 'I', 'I', 'B', 'B', 'B', '%', '%', '%', '%', 'E', '%', '%', '%', 'E', '%', '%', 'I', 'I', '(', 'I', 'I', 'I', 'I', 'B', 'B', 'B', '%', '%', '%', '%', '%', 'E', '%', '%', '%', 'E', 'I', 'I', '(', '(', 'I', 'I', 'I', 'I', 'I', 'B', 'I', 'I', 'I', '%', '%', '%', 'E', 'E', 'E', 'E', '!', 'E', 'E', '(', '(', 'I', 'I', 'I', 'I', 'I', 'I', 'I', 'I', 'I', 'I', 'E', 'E', 'E', '!', 'E', 'E', 'E', 'E', 'E', '(', '(', 'I', 'I', 'I', 'I', 'I', 'I', 'I', 'I', '(', '(', 'E', 'E', 'E', 'E', 'E', 'E', 'E', 'E', 'E', '(', '(', 'I', 'I', 'I', 'I', 'I', 'I', 'I', '(', '(', '(', 'E', 'E', 'E', 'E', 'E', 'E', 'I', 'I', 'I', 'I', 'I', 'I', 'I', 'I', 'I', 'I', 'I', 'I', '(', '(', 'I', 'I', 'I', 'I', 'I', 'I', 'I', 'I', 'I', 'I', 'I', 'I', 'I', 'I', 'I', 'I', 'I', 'I', 'I', 'I', 'I', 'I', 'I', 'I', 'I', 'I', 'I', 'I', 'I', 'I', 'I', 'I', 'I', 'I', 'I', 'I']\n"
     ]
    }
   ],
   "source": [
    "# Then loop over the reSampled lists and convert it to a characters based on the ASCII Values\n",
    "rcharList=[]\n",
    "for value in reSampledr:\n",
    "    rcharList.append(ASCII_CHARS[value])\n",
    "\n",
    "gcharList=[]\n",
    "for value in reSampledg:\n",
    "    gcharList.append(ASCII_CHARS[value])    \n",
    "    \n",
    "bcharList=[]\n",
    "for value in reSampledb:\n",
    "    bcharList.append(ASCII_CHARS[value])    \n",
    "    \n",
    "print(rcharList)\n",
    "print(gcharList)\n",
    "print(bcharList)"
   ]
  },
  {
   "cell_type": "code",
   "execution_count": 31,
   "metadata": {},
   "outputs": [
    {
     "name": "stdout",
     "output_type": "stream",
     "text": [
      "IIIIIIIIIIIIIIIIIIIII\n",
      "IIIIIIIIIIIIIIIIIIIII\n",
      "IIIIIIIIIIIIIIIIIIIII\n",
      "IIIIIIIIIIIIIIIIIIIIIIIIIIIIIIIIIIIIIIIIIIIIIIIIIIIIIIIIIIIIIII\n",
      "IIIIIIIIIIIIIIIIIIIII\n",
      "IIIIIIIIIIIIIIIIIIIII\n",
      "IIIIIIIIIIIIIIIIIIIII\n",
      "IIIIIIIIIIIIIIIIIIIIIIIIIIIIIIIIIIIIIIIIIIIIIIIIIIIIIIIIIIIIIII\n",
      "IIIIIIIIIIIIIIIIIIIII\n",
      "IIIIIIIIIIIIIIIIIIIII\n",
      "IIIIIIIIIIIIIIIIIIIII\n",
      "IIIIIIIIIIIIIIIIIIIIIIIIIIIIIIIIIIIIIIIIIIIIIIIIIIIIIIIIIIIIIII\n",
      "IIIIIIIIIIIIIIIIIIIII\n",
      "IIIIIIIIIIIIIIIIIIIII\n",
      "IIIIIIIIIIIIIIIIIIIII\n",
      "IIIIIIIIIIIIIIIIIIIIIIIIIIIIIIIIIIIIIIIIIIIIIIIIIIIIIIIIIIIIIII\n",
      "IIIIIIIHHHHHIIHHHIIII\n",
      "IIIIIII%$$$%IIFFFIIII\n",
      "IIIIIII%%%%%IIBBBIIII\n",
      "IIIIIIIHHHHHIIHHHIIIIIIIIIII%$$$%IIFFFIIIIIIIIIII%%%%%IIBBBIIII\n",
      "IIIIIIHHHHHHHHHHHIIII\n",
      "IIIIII$$$$$$$$$FFIIII\n",
      "IIIIII%%%%%%%%%BBIIII\n",
      "IIIIIIHHHHHHHHHHHIIIIIIIIII$$$$$$$$$FFIIIIIIIIII%%%%%%%%%BBIIII\n",
      "IIIIIIDDDHH!HIHHHIIII\n",
      "IIIIII***FF!FI$$$IIII\n",
      "IIIIII(((BB!BI%%%IIII\n",
      "IIIIIIDDDHH!HIHHHIIIIIIIIII***FF!FI$$$IIIIIIIIII(((BB!BI%%%IIII\n",
      "IIIIIDHDHHH!HHHHHIIII\n",
      "IIIII*F*FFF!FFF$$IIII\n",
      "IIIII(B(BBB!BBB%%IIII\n",
      "IIIIIDHDHHH!HHHHHIIIIIIIII*F*FFF!FFF$$IIIIIIIII(B(BBB!BBB%%IIII\n",
      "IIIIIDHDDHHH!HHHHIIII\n",
      "IIIII*F**FFF!FFF$IIII\n",
      "IIIII(B((BBB!BBB%IIII\n",
      "IIIIIDHDDHHH!HHHHIIIIIIIII*F**FFF!FFF$IIIIIIIII(B((BBB!BBB%IIII\n",
      "IIIIIDDHHHH!!!!HIIIII\n",
      "IIIII**FFFF!!!!$IIIII\n",
      "IIIII((BBBB!!!!%IIIII\n",
      "IIIIIDDHHHH!!!!HIIIIIIIIII**FFFF!!!!$IIIIIIIIII((BBBB!!!!%IIIII\n",
      "IIIIIIIHHHHHHHHHIIIII\n",
      "IIIIIIIFFFFFFF$$IIIII\n",
      "IIIIIIIBBBBBBB%%IIIII\n",
      "IIIIIIIHHHHHHHHHIIIIIIIIIIIIFFFFFFF$$IIIIIIIIIIIIBBBBBBB%%IIIII\n",
      "IHHHHHHH&HHH&HHIIDIII\n",
      "IFFF$$$$($$$($$II*III\n",
      "IBBB%%%%E%%%E%%II(III\n",
      "IHHHHHHH&HHH&HHIIDIIIIFFF$$$$($$$($$II*IIIIBBB%%%%E%%%E%%II(III\n",
      "IHHHHHHHH&HHH&IIDDIII\n",
      "IFFF$$$$$($$$(II**III\n",
      "IBBB%%%%%E%%%EII((III\n",
      "IHHHHHHHH&HHH&IIDDIIIIFFF$$$$$($$$(II**IIIIBBB%%%%%E%%%EII((III\n",
      "IIHIIIHHH&&&&I&&DDIII\n",
      "IIFIII$$$((((H((**III\n",
      "IIBIII%%%EEEE!EE((III\n",
      "IIHIIIHHH&&&&I&&DDIIIIIFIII$$$((((H((**IIIIIBIII%%%EEEE!EE((III\n",
      "IIIIIII&&&I&&&&&DDIII\n",
      "IIIIIII(((H(((((**III\n",
      "IIIIIIIEEE!EEEEE((III\n",
      "IIIIIII&&&I&&&&&DDIIIIIIIIII(((H(((((**IIIIIIIIIIEEE!EEEEE((III\n",
      "IIIIIDD&&&&&&&&&DDIII\n",
      "IIIII**(((((((((**III\n",
      "IIIII((EEEEEEEEE((III\n",
      "IIIIIDD&&&&&&&&&DDIIIIIIII**(((((((((**IIIIIIII((EEEEEEEEE((III\n",
      "IIIIDDD&&&&&&IIIIIIII\n",
      "IIII***((((((IIIIIIII\n",
      "IIII(((EEEEEEIIIIIIII\n",
      "IIIIDDD&&&&&&IIIIIIIIIIII***((((((IIIIIIIIIIII(((EEEEEEIIIIIIII\n",
      "IIIIDDIIIIIIIIIIIIIII\n",
      "IIII**IIIIIIIIIIIIIII\n",
      "IIII((IIIIIIIIIIIIIII\n",
      "IIIIDDIIIIIIIIIIIIIIIIIII**IIIIIIIIIIIIIIIIIII((IIIIIIIIIIIIIII\n",
      "IIIIIIIIIIIIIIIIIIIII\n",
      "IIIIIIIIIIIIIIIIIIIII\n",
      "IIIIIIIIIIIIIIIIIIIII\n",
      "IIIIIIIIIIIIIIIIIIIIIIIIIIIIIIIIIIIIIIIIIIIIIIIIIIIIIIIIIIIIIII\n"
     ]
    }
   ],
   "source": [
    "# Join the list together with no spaces\n",
    "rchars=\"\".join(rcharList)\n",
    "gchars=\"\".join(gcharList)\n",
    "bchars=\"\".join(bcharList)\n",
    "\n",
    "# Find the list of indices which will split the characterImage into appropriate rows\n",
    "indicesList=indicesOfInterest(image.size[0],image.size[1])\n",
    "\n",
    "# Loop over the indices list and sliceup the charList into appropriate rows\n",
    "# Then form lists which will form the rows for image and also for DNA conversion\n",
    "rlines=[]\n",
    "glines=[]\n",
    "blines=[]\n",
    "tlines=[]\n",
    "for indices in indicesList:\n",
    "    a=(rchars[(indices[0]):(indices[1])])\n",
    "    b=(gchars[(indices[0]):(indices[1])])\n",
    "    c=(bchars[(indices[0]):(indices[1])])\n",
    "    rlines.append(a)\n",
    "    glines.append(b)\n",
    "    blines.append(c)\n",
    "    tlines.append(a+b+c)\n",
    "    print(a)\n",
    "    print(b)\n",
    "    print(c)\n",
    "    print(a+b+c)\n",
    "    "
   ]
  },
  {
   "cell_type": "code",
   "execution_count": 32,
   "metadata": {},
   "outputs": [],
   "source": [
    "# Line Checker\n",
    "# number=5\n",
    "# print((list(out1.getdata())[(indicesList[number][0]):(indicesList[number][1])]))\n",
    "# print((reSampled[(indicesList[number][0]):(indicesList[number][1])]))\n",
    "# print((charList[(indicesList[number][0]):(indicesList[number][1])]))"
   ]
  },
  {
   "cell_type": "markdown",
   "metadata": {},
   "source": [
    "## Output Below"
   ]
  },
  {
   "cell_type": "code",
   "execution_count": 33,
   "metadata": {},
   "outputs": [
    {
     "name": "stdout",
     "output_type": "stream",
     "text": [
      "IIIIIIIIIIIIIIIIIIIIIIIIIIIIIIIIIIIIIIIIIIIIIIIIIIIIIIIIIIIIIII\n",
      "IIIIIIIIIIIIIIIIIIIIIIIIIIIIIIIIIIIIIIIIIIIIIIIIIIIIIIIIIIIIIII\n",
      "IIIIIIIIIIIIIIIIIIIIIIIIIIIIIIIIIIIIIIIIIIIIIIIIIIIIIIIIIIIIIII\n",
      "IIIIIIIIIIIIIIIIIIIIIIIIIIIIIIIIIIIIIIIIIIIIIIIIIIIIIIIIIIIIIII\n",
      "IIIIIIIHHHHHIIHHHIIIIIIIIIII%$$$%IIFFFIIIIIIIIIII%%%%%IIBBBIIII\n",
      "IIIIIIHHHHHHHHHHHIIIIIIIIII$$$$$$$$$FFIIIIIIIIII%%%%%%%%%BBIIII\n",
      "IIIIIIDDDHH!HIHHHIIIIIIIIII***FF!FI$$$IIIIIIIIII(((BB!BI%%%IIII\n",
      "IIIIIDHDHHH!HHHHHIIIIIIIII*F*FFF!FFF$$IIIIIIIII(B(BBB!BBB%%IIII\n",
      "IIIIIDHDDHHH!HHHHIIIIIIIII*F**FFF!FFF$IIIIIIIII(B((BBB!BBB%IIII\n",
      "IIIIIDDHHHH!!!!HIIIIIIIIII**FFFF!!!!$IIIIIIIIII((BBBB!!!!%IIIII\n",
      "IIIIIIIHHHHHHHHHIIIIIIIIIIIIFFFFFFF$$IIIIIIIIIIIIBBBBBBB%%IIIII\n",
      "IHHHHHHH&HHH&HHIIDIIIIFFF$$$$($$$($$II*IIIIBBB%%%%E%%%E%%II(III\n",
      "IHHHHHHHH&HHH&IIDDIIIIFFF$$$$$($$$(II**IIIIBBB%%%%%E%%%EII((III\n",
      "IIHIIIHHH&&&&I&&DDIIIIIFIII$$$((((H((**IIIIIBIII%%%EEEE!EE((III\n",
      "IIIIIII&&&I&&&&&DDIIIIIIIIII(((H(((((**IIIIIIIIIIEEE!EEEEE((III\n",
      "IIIIIDD&&&&&&&&&DDIIIIIIII**(((((((((**IIIIIIII((EEEEEEEEE((III\n",
      "IIIIDDD&&&&&&IIIIIIIIIIII***((((((IIIIIIIIIIII(((EEEEEEIIIIIIII\n",
      "IIIIDDIIIIIIIIIIIIIIIIIII**IIIIIIIIIIIIIIIIIII((IIIIIIIIIIIIIII\n",
      "IIIIIIIIIIIIIIIIIIIIIIIIIIIIIIIIIIIIIIIIIIIIIIIIIIIIIIIIIIIIIII\n"
     ]
    }
   ],
   "source": [
    "# Output here \n",
    "ascii_image=\"\\n\".join(tlines)\n",
    "\n",
    "print(ascii_image)\n"
   ]
  },
  {
   "cell_type": "code",
   "execution_count": 34,
   "metadata": {},
   "outputs": [],
   "source": [
    "# Rename the path to remove the file extension\n",
    "name=path[:-4]\n",
    "\n",
    "# Output the image\n",
    "with open((name+\"_ascii_COLOUR_AT7.txt\"), \"w\") as f:\n",
    "    f.write(ascii_image)"
   ]
  },
  {
   "cell_type": "code",
   "execution_count": null,
   "metadata": {},
   "outputs": [],
   "source": []
  }
 ],
 "metadata": {
  "kernelspec": {
   "display_name": "Python 3",
   "language": "python",
   "name": "python3"
  },
  "language_info": {
   "codemirror_mode": {
    "name": "ipython",
    "version": 3
   },
   "file_extension": ".py",
   "mimetype": "text/x-python",
   "name": "python",
   "nbconvert_exporter": "python",
   "pygments_lexer": "ipython3",
   "version": "3.7.6"
  }
 },
 "nbformat": 4,
 "nbformat_minor": 4
}
